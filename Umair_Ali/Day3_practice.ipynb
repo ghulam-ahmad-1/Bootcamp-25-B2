{
 "cells": [
  {
   "cell_type": "code",
   "execution_count": 8,
   "id": "11604e46-05fd-43e6-ae74-c30fb962e439",
   "metadata": {},
   "outputs": [],
   "source": [
    "#task 01\n",
    "def function (s):\n",
    "    if not s:\n",
    "        return \"\"\n",
    "    count=1\n",
    "    result=\"\"\n",
    "    for i in range(1,len(s)):\n",
    "        if s[i-1]==s[i]:\n",
    "            count +=1\n",
    "        else:\n",
    "            result +=s[i-1]+str(count)\n",
    "            count=1\n",
    "        \n",
    "    result += s[-1]+str(count)\n",
    "    return result"
   ]
  },
  {
   "cell_type": "code",
   "execution_count": 9,
   "id": "42684740-826a-4965-9db5-3df9431e22ae",
   "metadata": {},
   "outputs": [
    {
     "name": "stdout",
     "output_type": "stream",
     "text": [
      "aaabbbccccdddd\n",
      "a3b3c4d4\n"
     ]
    }
   ],
   "source": [
    "input=\"aaabbbccccdddd\"\n",
    "output=function(input)\n",
    "print(input)\n",
    "print(output)"
   ]
  },
  {
   "cell_type": "code",
   "execution_count": null,
   "id": "2955321e-2cae-4ca5-8f15-e65a5fed694f",
   "metadata": {},
   "outputs": [],
   "source": []
  },
  {
   "cell_type": "code",
   "execution_count": null,
   "id": "1483efe0-a46e-49ac-a540-abb7b538d2cf",
   "metadata": {},
   "outputs": [],
   "source": []
  },
  {
   "cell_type": "code",
   "execution_count": null,
   "id": "d1b2dbd3-c9f2-404a-9442-3791f4a1b2be",
   "metadata": {},
   "outputs": [],
   "source": []
  },
  {
   "cell_type": "code",
   "execution_count": 43,
   "id": "7a8df57b-1a0e-4203-a167-6110307c42c8",
   "metadata": {},
   "outputs": [],
   "source": [
    "#taskm02\n",
    "def flatten(lst):\n",
    "    result = [] \n",
    "    for i,element in enumerate(lst):\n",
    "        if isinstance(element, list):\n",
    "            result.extend(element)\n",
    "        else:\n",
    "            result.append(element)\n",
    "    return result\n",
    "        "
   ]
  },
  {
   "cell_type": "code",
   "execution_count": 44,
   "id": "27abe165-03d9-416b-bf3b-c180194bc2be",
   "metadata": {},
   "outputs": [
    {
     "name": "stdout",
     "output_type": "stream",
     "text": [
      "['nata', 'pizza', ['eat', 'tea'], ['sort']]\n",
      "['nata', 'pizza', 'eat', 'tea', 'sort']\n"
     ]
    }
   ],
   "source": [
    "input = [ 'nata', 'pizza', [ 'eat', 'tea' ], ['sort'] ]\n",
    "output=flatten(input)\n",
    "print (input)\n",
    "print(output)"
   ]
  },
  {
   "cell_type": "code",
   "execution_count": null,
   "id": "ce576330-52a1-46ef-a364-9dc7d685cc4e",
   "metadata": {},
   "outputs": [],
   "source": []
  },
  {
   "cell_type": "code",
   "execution_count": null,
   "id": "9055587b-dd2a-4b3a-b562-12d05e8173f4",
   "metadata": {},
   "outputs": [],
   "source": []
  },
  {
   "cell_type": "code",
   "execution_count": null,
   "id": "2f983487-2fa5-4fe6-8614-7ce7528dad22",
   "metadata": {},
   "outputs": [],
   "source": []
  },
  {
   "cell_type": "code",
   "execution_count": 45,
   "id": "acb5bd97-5526-4207-83a4-48ff3d566a9b",
   "metadata": {},
   "outputs": [],
   "source": [
    "#taskm02.........02\n",
    "def flatten(lst):\n",
    "    result = [] \n",
    "    for i,element in enumerate(lst):\n",
    "        if isinstance(element, list):\n",
    "            result +=element\n",
    "        else:\n",
    "            result.append(element)\n",
    "    return result"
   ]
  },
  {
   "cell_type": "code",
   "execution_count": 46,
   "id": "d512b1d8-c96f-462d-8af9-0c9690a8a6be",
   "metadata": {},
   "outputs": [
    {
     "name": "stdout",
     "output_type": "stream",
     "text": [
      "['nata', 'pizza', ['eat', 'tea'], ['sort']]\n",
      "['nata', 'pizza', 'eat', 'tea', 'sort']\n"
     ]
    }
   ],
   "source": [
    "input = [ 'nata', 'pizza', [ 'eat', 'tea' ], ['sort'] ]\n",
    "output=flatten(input)\n",
    "print (input)\n",
    "print(output)"
   ]
  },
  {
   "cell_type": "code",
   "execution_count": null,
   "id": "d2e3011d-4720-43c7-b0d6-005a48d957d8",
   "metadata": {},
   "outputs": [],
   "source": []
  },
  {
   "cell_type": "code",
   "execution_count": null,
   "id": "53a1ff8f-d2ed-4fef-86b5-3dcfc3763335",
   "metadata": {},
   "outputs": [],
   "source": []
  },
  {
   "cell_type": "code",
   "execution_count": null,
   "id": "478a4c57-e81b-4418-a75f-935c81ed02e8",
   "metadata": {},
   "outputs": [],
   "source": []
  },
  {
   "cell_type": "code",
   "execution_count": 22,
   "id": "11499379-fb96-4e8b-851d-e4dbb3a57ac5",
   "metadata": {},
   "outputs": [],
   "source": [
    "# task 03\n",
    "def group_items(lst):\n",
    "    result = []\n",
    "    used = set() \n",
    "\n",
    "    for i in range(len(lst)):\n",
    "        if lst[i] in used:\n",
    "            continue\n",
    "        temp_list = [lst[i]]\n",
    "        for j in range(i + 1, len(lst)):\n",
    "            if lst[j] in used:\n",
    "                continue\n",
    "            if lst[i][::-1] == lst[j]:\n",
    "                temp_list.append(lst[j])\n",
    "                used.add(lst[j])\n",
    "        if len(temp_list) > 1:\n",
    "            result.append(temp_list)\n",
    "            used.add(lst[i])\n",
    "    return result\n",
    "\n"
   ]
  },
  {
   "cell_type": "code",
   "execution_count": 38,
   "id": "eaefb349-847c-4a39-8314-652f309d8d38",
   "metadata": {},
   "outputs": [
    {
     "name": "stdout",
     "output_type": "stream",
     "text": [
      "['tan', 'nat']\n",
      "['tan', 'nat']\n"
     ]
    }
   ],
   "source": [
    "input_list = [\"bat\", \"tab\", \"eat\", \"tab\", \"tan\", \"nat\"]\n",
    "output= group_items(input_list)\n",
    "print(output)"
   ]
  },
  {
   "cell_type": "code",
   "execution_count": null,
   "id": "d0d79131-097e-4db9-944b-3860ad094c52",
   "metadata": {},
   "outputs": [],
   "source": []
  },
  {
   "cell_type": "code",
   "execution_count": null,
   "id": "501f6345-d193-470e-9dbb-79703f0f974c",
   "metadata": {},
   "outputs": [],
   "source": []
  },
  {
   "cell_type": "code",
   "execution_count": null,
   "id": "72c2ade8-cff1-4540-9f13-6bf9bdc37b39",
   "metadata": {},
   "outputs": [],
   "source": []
  },
  {
   "cell_type": "code",
   "execution_count": 41,
   "id": "5711f4c1-01c3-4eca-9cb6-b175af439c4d",
   "metadata": {},
   "outputs": [],
   "source": [
    "def frequent_words(text):\n",
    "    text = text.lower()\n",
    "    clean_text = \"\"\n",
    "    for char in text:\n",
    "        if (char >= 'a' and char <= 'z') or char == ' ':\n",
    "            clean_text += char\n",
    "        else:\n",
    "            clean_text += ' '\n",
    "    words = clean_text.split()\n",
    "    frequency = {}\n",
    "    for word in words:\n",
    "        if word in frequency:\n",
    "            frequency[word] += 1\n",
    "        else:\n",
    "            frequency[word] = 1\n",
    "\n",
    "    sorted_words = sorted(frequency.items(), key=lambda x: x[1], reverse=True)\n",
    "    top_three = sorted_words[:3]\n",
    "    top_words = [word for word, freq in top_three]\n",
    "    top_freqs = [freq for word, freq in top_three]\n",
    "    return top_words, top_freqs"
   ]
  },
  {
   "cell_type": "code",
   "execution_count": 42,
   "id": "7e257191-d87b-432b-b04b-a865cf3d0031",
   "metadata": {},
   "outputs": [
    {
     "name": "stdout",
     "output_type": "stream",
     "text": [
      "['the', 'dog', 'quick']\n",
      "[3, 2, 1]\n"
     ]
    }
   ],
   "source": [
    "input= \"The quick brown fox jumps over the lazy dog. The dog barked.\"\n",
    "output_word,output_freq=frequent_words(input)\n",
    "print(output_word)\n",
    "print(output_freq)"
   ]
  },
  {
   "cell_type": "code",
   "execution_count": null,
   "id": "ba7d428d-6e97-44d1-97f7-6e9958779ca3",
   "metadata": {},
   "outputs": [],
   "source": []
  },
  {
   "cell_type": "code",
   "execution_count": null,
   "id": "ac2b1cac-94e1-477a-80c9-eba42f74fc5c",
   "metadata": {},
   "outputs": [],
   "source": []
  }
 ],
 "metadata": {
  "kernelspec": {
   "display_name": "Python 3 (ipykernel)",
   "language": "python",
   "name": "python3"
  },
  "language_info": {
   "codemirror_mode": {
    "name": "ipython",
    "version": 3
   },
   "file_extension": ".py",
   "mimetype": "text/x-python",
   "name": "python",
   "nbconvert_exporter": "python",
   "pygments_lexer": "ipython3",
   "version": "3.13.3"
  }
 },
 "nbformat": 4,
 "nbformat_minor": 5
}
