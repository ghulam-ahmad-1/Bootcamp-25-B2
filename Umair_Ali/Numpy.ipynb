{
 "cells": [
  {
   "cell_type": "markdown",
   "id": "6293cc50",
   "metadata": {},
   "source": [
    "# 100 numpy exercises\n",
    "\n",
    "This is a collection of exercises that have been collected in the numpy mailing list, on stack overflow\n",
    "and in the numpy documentation. The goal of this collection is to offer a quick reference for both old\n",
    "and new users but also to provide a set of exercises for those who teach.\n",
    "\n",
    "\n",
    "If you find an error or think you've a better way to solve some of them, feel\n",
    "free to open an issue at <https://github.com/rougier/numpy-100>."
   ]
  },
  {
   "cell_type": "markdown",
   "id": "a167c052",
   "metadata": {},
   "source": [
    "File automatically generated. See the documentation to update questions/answers/hints programmatically."
   ]
  },
  {
   "cell_type": "markdown",
   "id": "57fc0ee5",
   "metadata": {},
   "source": [
    "Run the `initialize.py` module, then for each question you can query the\n",
    "answer or an hint with `hint(n)` or `answer(n)` for `n` question number."
   ]
  },
  {
   "cell_type": "code",
   "execution_count": null,
   "id": "3d46fba2",
   "metadata": {},
   "outputs": [],
   "source": [
    "# %run initialise.py"
   ]
  },
  {
   "cell_type": "markdown",
   "id": "3c1222ff",
   "metadata": {},
   "source": [
    "#### 1. Import the numpy package under the name `np` (★☆☆)"
   ]
  },
  {
   "cell_type": "code",
   "execution_count": 2,
   "id": "f52e6a0b",
   "metadata": {},
   "outputs": [],
   "source": [
    "import numpy as np\n"
   ]
  },
  {
   "cell_type": "markdown",
   "id": "9d9f4753",
   "metadata": {},
   "source": [
    "#### 2. Print the numpy version and the configuration (★☆☆)"
   ]
  },
  {
   "cell_type": "code",
   "execution_count": 2,
   "id": "b7fa5fa1",
   "metadata": {},
   "outputs": [
    {
     "name": "stdout",
     "output_type": "stream",
     "text": [
      "2.1.3\n"
     ]
    }
   ],
   "source": [
    "print(np.__version__)"
   ]
  },
  {
   "cell_type": "markdown",
   "id": "3e4c23c6",
   "metadata": {},
   "source": [
    "#### 3. Create a null vector of size 10 (★☆☆)"
   ]
  },
  {
   "cell_type": "code",
   "execution_count": 3,
   "id": "083c5c46",
   "metadata": {},
   "outputs": [
    {
     "data": {
      "text/plain": [
       "array([0., 0., 0., 0., 0., 0., 0., 0., 0., 0.])"
      ]
     },
     "execution_count": 3,
     "metadata": {},
     "output_type": "execute_result"
    }
   ],
   "source": [
    "np.zeros(10)"
   ]
  },
  {
   "cell_type": "markdown",
   "id": "c38bbe82",
   "metadata": {},
   "source": [
    "#### 4. How to find the memory size of any array (★☆☆)"
   ]
  },
  {
   "cell_type": "code",
   "execution_count": 3,
   "id": "02b04021",
   "metadata": {},
   "outputs": [
    {
     "data": {
      "text/plain": [
       "80"
      ]
     },
     "execution_count": 3,
     "metadata": {},
     "output_type": "execute_result"
    }
   ],
   "source": [
    "np.empty(10).size * np.empty(10).itemsize\n",
    "np.empty(10).nbytes"
   ]
  },
  {
   "cell_type": "markdown",
   "id": "67f893d4",
   "metadata": {},
   "source": [
    "#### 5. How to get the documentation of the numpy add function from the command line? (★☆☆)"
   ]
  },
  {
   "cell_type": "code",
   "execution_count": 4,
   "id": "40e6b70d",
   "metadata": {},
   "outputs": [
    {
     "name": "stdout",
     "output_type": "stream",
     "text": [
      "\u001b[1;31mCall signature:\u001b[0m  \u001b[0mnp\u001b[0m\u001b[1;33m.\u001b[0m\u001b[0madd\u001b[0m\u001b[1;33m(\u001b[0m\u001b[1;33m*\u001b[0m\u001b[0margs\u001b[0m\u001b[1;33m,\u001b[0m \u001b[1;33m**\u001b[0m\u001b[0mkwargs\u001b[0m\u001b[1;33m)\u001b[0m\u001b[1;33m\u001b[0m\u001b[1;33m\u001b[0m\u001b[0m\n",
      "\u001b[1;31mType:\u001b[0m            ufunc\n",
      "\u001b[1;31mString form:\u001b[0m     <ufunc 'add'>\n",
      "\u001b[1;31mFile:\u001b[0m            c:\\users\\aaa\\appdata\\roaming\\python\\python310\\site-packages\\numpy\\__init__.py\n",
      "\u001b[1;31mDocstring:\u001b[0m      \n",
      "add(x1, x2, /, out=None, *, where=True, casting='same_kind', order='K', dtype=None, subok=True[, signature, extobj])\n",
      "\n",
      "Add arguments element-wise.\n",
      "\n",
      "Parameters\n",
      "----------\n",
      "x1, x2 : array_like\n",
      "    The arrays to be added.\n",
      "    If ``x1.shape != x2.shape``, they must be broadcastable to a common\n",
      "    shape (which becomes the shape of the output).\n",
      "out : ndarray, None, or tuple of ndarray and None, optional\n",
      "    A location into which the result is stored. If provided, it must have\n",
      "    a shape that the inputs broadcast to. If not provided or None,\n",
      "    a freshly-allocated array is returned. A tuple (possible only as a\n",
      "    keyword argument) must have length equal to the number of outputs.\n",
      "where : array_like, optional\n",
      "    This condition is broadcast over the input. At locations where the\n",
      "    condition is True, the `out` array will be set to the ufunc result.\n",
      "    Elsewhere, the `out` array will retain its original value.\n",
      "    Note that if an uninitialized `out` array is created via the default\n",
      "    ``out=None``, locations within it where the condition is False will\n",
      "    remain uninitialized.\n",
      "**kwargs\n",
      "    For other keyword-only arguments, see the\n",
      "    :ref:`ufunc docs <ufuncs.kwargs>`.\n",
      "\n",
      "Returns\n",
      "-------\n",
      "add : ndarray or scalar\n",
      "    The sum of `x1` and `x2`, element-wise.\n",
      "    This is a scalar if both `x1` and `x2` are scalars.\n",
      "\n",
      "Notes\n",
      "-----\n",
      "Equivalent to `x1` + `x2` in terms of array broadcasting.\n",
      "\n",
      "Examples\n",
      "--------\n",
      ">>> np.add(1.0, 4.0)\n",
      "5.0\n",
      ">>> x1 = np.arange(9.0).reshape((3, 3))\n",
      ">>> x2 = np.arange(3.0)\n",
      ">>> np.add(x1, x2)\n",
      "array([[  0.,   2.,   4.],\n",
      "       [  3.,   5.,   7.],\n",
      "       [  6.,   8.,  10.]])\n",
      "\n",
      "The ``+`` operator can be used as a shorthand for ``np.add`` on ndarrays.\n",
      "\n",
      ">>> x1 = np.arange(9.0).reshape((3, 3))\n",
      ">>> x2 = np.arange(3.0)\n",
      ">>> x1 + x2\n",
      "array([[ 0.,  2.,  4.],\n",
      "       [ 3.,  5.,  7.],\n",
      "       [ 6.,  8., 10.]])\n",
      "\u001b[1;31mClass docstring:\u001b[0m\n",
      "Functions that operate element by element on whole arrays.\n",
      "\n",
      "To see the documentation for a specific ufunc, use `info`.  For\n",
      "example, ``np.info(np.sin)``.  Because ufuncs are written in C\n",
      "(for speed) and linked into Python with NumPy's ufunc facility,\n",
      "Python's help() function finds this page whenever help() is called\n",
      "on a ufunc.\n",
      "\n",
      "A detailed explanation of ufuncs can be found in the docs for :ref:`ufuncs`.\n",
      "\n",
      "**Calling ufuncs:** ``op(*x[, out], where=True, **kwargs)``\n",
      "\n",
      "Apply `op` to the arguments `*x` elementwise, broadcasting the arguments.\n",
      "\n",
      "The broadcasting rules are:\n",
      "\n",
      "* Dimensions of length 1 may be prepended to either array.\n",
      "* Arrays may be repeated along dimensions of length 1.\n",
      "\n",
      "Parameters\n",
      "----------\n",
      "*x : array_like\n",
      "    Input arrays.\n",
      "out : ndarray, None, or tuple of ndarray and None, optional\n",
      "    Alternate array object(s) in which to put the result; if provided, it\n",
      "    must have a shape that the inputs broadcast to. A tuple of arrays\n",
      "    (possible only as a keyword argument) must have length equal to the\n",
      "    number of outputs; use None for uninitialized outputs to be\n",
      "    allocated by the ufunc.\n",
      "where : array_like, optional\n",
      "    This condition is broadcast over the input. At locations where the\n",
      "    condition is True, the `out` array will be set to the ufunc result.\n",
      "    Elsewhere, the `out` array will retain its original value.\n",
      "    Note that if an uninitialized `out` array is created via the default\n",
      "    ``out=None``, locations within it where the condition is False will\n",
      "    remain uninitialized.\n",
      "**kwargs\n",
      "    For other keyword-only arguments, see the :ref:`ufunc docs <ufuncs.kwargs>`.\n",
      "\n",
      "Returns\n",
      "-------\n",
      "r : ndarray or tuple of ndarray\n",
      "    `r` will have the shape that the arrays in `x` broadcast to; if `out` is\n",
      "    provided, it will be returned. If not, `r` will be allocated and\n",
      "    may contain uninitialized values. If the function has more than one\n",
      "    output, then the result will be a tuple of arrays."
     ]
    }
   ],
   "source": [
    "np.add?"
   ]
  },
  {
   "cell_type": "markdown",
   "id": "e0c739c6",
   "metadata": {},
   "source": [
    "#### 6. Create a null vector of size 10 but the fifth value which is 1 (★☆☆)"
   ]
  },
  {
   "cell_type": "code",
   "execution_count": 5,
   "id": "bcceacf7",
   "metadata": {},
   "outputs": [
    {
     "name": "stdout",
     "output_type": "stream",
     "text": [
      "[0. 0. 0. 0. 1. 0. 0. 0. 0. 0.]\n"
     ]
    }
   ],
   "source": [
    "a=np.zeros(10)\n",
    "a[4] = 1\n",
    "print(a)"
   ]
  },
  {
   "cell_type": "markdown",
   "id": "fbebedab",
   "metadata": {},
   "source": [
    "#### 7. Create a vector with values ranging from 10 to 49 (★☆☆)"
   ]
  },
  {
   "cell_type": "code",
   "execution_count": 5,
   "id": "3d117d54",
   "metadata": {},
   "outputs": [
    {
     "data": {
      "text/plain": [
       "array([10, 11, 12, 13, 14, 15, 16, 17, 18, 19, 20, 21, 22, 23, 24, 25, 26,\n",
       "       27, 28, 29, 30, 31, 32, 33, 34, 35, 36, 37, 38, 39, 40, 41, 42, 43,\n",
       "       44, 45, 46, 47, 48])"
      ]
     },
     "execution_count": 5,
     "metadata": {},
     "output_type": "execute_result"
    }
   ],
   "source": [
    "np.arange(10,49)"
   ]
  },
  {
   "cell_type": "code",
   "execution_count": 6,
   "id": "f3b8f035-4a7d-46f0-ab38-950df988abf9",
   "metadata": {},
   "outputs": [
    {
     "data": {
      "text/plain": [
       "array([10, 12, 14, 16, 18, 20, 22, 24, 26, 28, 30, 32, 34, 36, 38, 40, 42,\n",
       "       44, 46, 48])"
      ]
     },
     "execution_count": 6,
     "metadata": {},
     "output_type": "execute_result"
    }
   ],
   "source": [
    "np.arange(10,49,2)"
   ]
  },
  {
   "cell_type": "markdown",
   "id": "ad0bff02",
   "metadata": {},
   "source": [
    "#### 8. Reverse a vector (first element becomes last) (★☆☆)"
   ]
  },
  {
   "cell_type": "code",
   "execution_count": 10,
   "id": "22d23470",
   "metadata": {},
   "outputs": [
    {
     "name": "stdout",
     "output_type": "stream",
     "text": [
      "[48 46 44 42 40 38 36 34 32 30 28 26 24 22 20 18 16 14 12 10]\n"
     ]
    }
   ],
   "source": [
    "vec=np.arange(10,49,2)\n",
    "reversed=vec[::-1]\n",
    "print(reversed)"
   ]
  },
  {
   "cell_type": "markdown",
   "id": "9f59d7e1",
   "metadata": {},
   "source": [
    "#### 9. Create a 3x3 matrix with values ranging from 0 to 8 (★☆☆)"
   ]
  },
  {
   "cell_type": "code",
   "execution_count": 13,
   "id": "7449e82d",
   "metadata": {},
   "outputs": [
    {
     "data": {
      "text/plain": [
       "array([[0, 1, 2],\n",
       "       [3, 4, 5],\n",
       "       [6, 7, 8]])"
      ]
     },
     "execution_count": 13,
     "metadata": {},
     "output_type": "execute_result"
    }
   ],
   "source": [
    "vec=np.arange(0,9)\n",
    "vec.reshape(3,3)"
   ]
  },
  {
   "cell_type": "markdown",
   "id": "f374c4cf",
   "metadata": {},
   "source": [
    "#### 10. Find indices of non-zero elements from [1,2,0,0,4,0] (★☆☆)"
   ]
  },
  {
   "cell_type": "code",
   "execution_count": 17,
   "id": "1a84bed8",
   "metadata": {},
   "outputs": [
    {
     "name": "stdout",
     "output_type": "stream",
     "text": [
      "(array([0, 1, 4]),)\n"
     ]
    }
   ],
   "source": [
    "list=[1,2,0,0,4,0]\n",
    "vec=np.array(list)\n",
    "non_zero=np.nonzero(vec)\n",
    "print(non_zero)\n"
   ]
  },
  {
   "cell_type": "code",
   "execution_count": 19,
   "id": "3f985d7f-d932-479f-8ec5-b00ff8793623",
   "metadata": {},
   "outputs": [
    {
     "name": "stdout",
     "output_type": "stream",
     "text": [
      "(array([2, 3, 5]),)\n"
     ]
    }
   ],
   "source": [
    "list=[1,2,0,0,4,0]\n",
    "vec=np.array(list)\n",
    "non_zero=np.where(vec==0)\n",
    "print(non_zero)\n"
   ]
  },
  {
   "cell_type": "markdown",
   "id": "9c4707f5",
   "metadata": {},
   "source": [
    "#### 11. Create a 3x3 identity matrix (★☆☆)"
   ]
  },
  {
   "cell_type": "code",
   "execution_count": 20,
   "id": "29dc1fd3",
   "metadata": {},
   "outputs": [
    {
     "data": {
      "text/plain": [
       "array([[1., 0., 0.],\n",
       "       [0., 1., 0.],\n",
       "       [0., 0., 1.]])"
      ]
     },
     "execution_count": 20,
     "metadata": {},
     "output_type": "execute_result"
    }
   ],
   "source": [
    "np.eye(3,3)"
   ]
  },
  {
   "cell_type": "code",
   "execution_count": 24,
   "id": "2826dca0-5fca-4851-a4a5-fec2df740354",
   "metadata": {},
   "outputs": [
    {
     "data": {
      "text/plain": [
       "array([[1., 0., 0.],\n",
       "       [0., 1., 0.],\n",
       "       [0., 0., 1.]])"
      ]
     },
     "execution_count": 24,
     "metadata": {},
     "output_type": "execute_result"
    }
   ],
   "source": [
    "np.identity(3)"
   ]
  },
  {
   "cell_type": "markdown",
   "id": "3bac294a",
   "metadata": {},
   "source": [
    "#### 12. Create a 3x3x3 array with random values (★☆☆)"
   ]
  },
  {
   "cell_type": "code",
   "execution_count": 25,
   "id": "eadfae67",
   "metadata": {},
   "outputs": [
    {
     "data": {
      "text/plain": [
       "array([[0.39483917, 0.0715104 , 0.00409453],\n",
       "       [0.89059032, 0.41333397, 0.36829254],\n",
       "       [0.44181771, 0.5295987 , 0.50545723]])"
      ]
     },
     "execution_count": 25,
     "metadata": {},
     "output_type": "execute_result"
    }
   ],
   "source": [
    "np.random.rand(3,3)"
   ]
  },
  {
   "cell_type": "code",
   "execution_count": 27,
   "id": "16de9a4b-9132-4f2b-afe5-3c11d3085cad",
   "metadata": {},
   "outputs": [
    {
     "data": {
      "text/plain": [
       "array([[ 7,  4,  9],\n",
       "       [18, 13, 11],\n",
       "       [15, 12, 15]], dtype=int32)"
      ]
     },
     "execution_count": 27,
     "metadata": {},
     "output_type": "execute_result"
    }
   ],
   "source": [
    "np.random.randint(2,20,size=(3,3))"
   ]
  },
  {
   "cell_type": "markdown",
   "id": "466c2989",
   "metadata": {},
   "source": [
    "#### 13. Create a 10x10 array with random values and find the minimum and maximum values (★☆☆)"
   ]
  },
  {
   "cell_type": "code",
   "execution_count": 34,
   "id": "9a74dbfc",
   "metadata": {},
   "outputs": [
    {
     "name": "stdout",
     "output_type": "stream",
     "text": [
      "[[18  8 18 19  5  5  3 17 17  2]\n",
      " [ 8 12  5 10 17  4  9 11 17 19]\n",
      " [13 15 17  3 19  3 10  4 15 16]\n",
      " [13  5 12  4 16 17 17 15  9  5]\n",
      " [ 4 12 18 17 11 19 19  2  4  8]\n",
      " [ 2 11 15 18 15 13  2 17 11 10]\n",
      " [13  8  8 10 17  9 11 13  9 11]\n",
      " [ 3 16 11  4  5  3 18  6 12 14]\n",
      " [ 2  3 17  8  8 16  6 14 14  5]\n",
      " [ 3  6 10 14 12 16 11  3 10  7]]\n",
      "Minimum from matic=== 2\n",
      "Maximum from matic=== 19\n"
     ]
    }
   ],
   "source": [
    "matric=np.random.randint(2,20,size=(10,10))\n",
    "print(matric)\n",
    "print(\"Minimum from matic===\",np.min(matric))\n",
    "print(\"Maximum from matic===\",np.max(matric))"
   ]
  },
  {
   "cell_type": "markdown",
   "id": "53a8edb2",
   "metadata": {},
   "source": [
    "#### 14. Create a random vector of size 30 and find the mean value (★☆☆)"
   ]
  },
  {
   "cell_type": "code",
   "execution_count": 38,
   "id": "6691530b",
   "metadata": {},
   "outputs": [
    {
     "name": "stdout",
     "output_type": "stream",
     "text": [
      "[[42 90 41 88  6 91 28 74 60 36 81 27 14 98 30 80 95 19 61 88 23 74 94 31\n",
      "  70 93 64 29 13 74]]\n",
      "Mean of 30 random numbers=== 57.13333333333333\n"
     ]
    }
   ],
   "source": [
    "vec=np.random.randint(1,100,size=(1,30))\n",
    "print (vec)\n",
    "print(\"Mean of 30 random numbers===\",np.mean(vec))"
   ]
  },
  {
   "cell_type": "markdown",
   "id": "cbaad31c",
   "metadata": {},
   "source": [
    "#### 15. Create a 2d array with 1 on the border and 0 inside (★☆☆)"
   ]
  },
  {
   "cell_type": "code",
   "execution_count": 40,
   "id": "ad8308e3",
   "metadata": {},
   "outputs": [
    {
     "name": "stdout",
     "output_type": "stream",
     "text": [
      "[[1 1 1 1 1]\n",
      " [1 0 0 0 1]\n",
      " [1 0 0 0 1]\n",
      " [1 0 0 0 1]\n",
      " [1 1 1 1 1]]\n"
     ]
    }
   ],
   "source": [
    "n = 5  \n",
    "arr = np.zeros((n, n), dtype=int)\n",
    "arr[0, :] = 1       \n",
    "arr[-1, :] = 1      \n",
    "arr[:, 0] = 1       \n",
    "arr[:, -1] = 1      \n",
    "\n",
    "print(arr)\n"
   ]
  },
  {
   "cell_type": "markdown",
   "id": "c5ecc267",
   "metadata": {},
   "source": [
    "#### 16. How to add a border (filled with 0's) around an existing array? (★☆☆)"
   ]
  },
  {
   "cell_type": "code",
   "execution_count": 41,
   "id": "9d5c78c4",
   "metadata": {},
   "outputs": [
    {
     "name": "stdout",
     "output_type": "stream",
     "text": [
      "[[0 0 0 0]\n",
      " [0 1 2 0]\n",
      " [0 3 4 0]\n",
      " [0 0 0 0]]\n"
     ]
    }
   ],
   "source": [
    "arr = np.array([[1, 2], [3, 4]])\n",
    "padded_arr = np.pad(arr, pad_width=1, mode='constant', constant_values=0)\n",
    "\n",
    "print(padded_arr)"
   ]
  },
  {
   "cell_type": "markdown",
   "id": "ef909b72",
   "metadata": {},
   "source": [
    "#### 17. What is the result of the following expression? (★☆☆)\n",
    "```python\n",
    "0 * np.nan\n",
    "np.nan == np.nan\n",
    "np.inf > np.nan\n",
    "np.nan - np.nan\n",
    "np.nan in set([np.nan])\n",
    "0.3 == 3 * 0.1\n",
    "```"
   ]
  },
  {
   "cell_type": "code",
   "execution_count": 42,
   "id": "3b4985f2",
   "metadata": {},
   "outputs": [
    {
     "data": {
      "text/plain": [
       "False"
      ]
     },
     "execution_count": 42,
     "metadata": {},
     "output_type": "execute_result"
    }
   ],
   "source": [
    "0 * np.nan\n",
    "np.nan == np.nan\n",
    "np.inf > np.nan\n",
    "np.nan - np.nan\n",
    "np.nan in set([np.nan])\n",
    "0.3 == 3 * 0.1"
   ]
  },
  {
   "cell_type": "code",
   "execution_count": null,
   "id": "66db6d8f-dd1a-4cf3-94c8-28b73c4b69a5",
   "metadata": {},
   "outputs": [],
   "source": []
  },
  {
   "cell_type": "markdown",
   "id": "502738ac",
   "metadata": {},
   "source": [
    "#### 18. Create a 5x5 matrix with values 1,2,3,4 just below the diagonal (★☆☆)"
   ]
  },
  {
   "cell_type": "code",
   "execution_count": 54,
   "id": "faed6e2b",
   "metadata": {},
   "outputs": [
    {
     "name": "stdout",
     "output_type": "stream",
     "text": [
      "[[0 0 0 0 0]\n",
      " [1 0 0 0 0]\n",
      " [0 2 0 0 0]\n",
      " [0 0 3 0 0]\n",
      " [0 0 0 4 0]]\n"
     ]
    }
   ],
   "source": [
    "v=[1,2,3,4]\n",
    "matric=np.diag(v,k=-1)\n",
    "print(matric)"
   ]
  },
  {
   "cell_type": "markdown",
   "id": "a65da660",
   "metadata": {},
   "source": [
    "#### 19. Create a 8x8 matrix and fill it with a checkerboard pattern (★☆☆)"
   ]
  },
  {
   "cell_type": "code",
   "execution_count": 56,
   "id": "ed150400",
   "metadata": {},
   "outputs": [],
   "source": [
    "n = 8\n",
    "checkerboard = np.zeros((n, n), dtype=int)\n"
   ]
  },
  {
   "cell_type": "code",
   "execution_count": 57,
   "id": "51705210-fcef-4574-8208-eedb6de96de3",
   "metadata": {},
   "outputs": [
    {
     "data": {
      "text/plain": [
       "array([[0, 0, 0, 0, 0, 0, 0, 0],\n",
       "       [0, 0, 0, 0, 0, 0, 0, 0],\n",
       "       [0, 0, 0, 0, 0, 0, 0, 0],\n",
       "       [0, 0, 0, 0, 0, 0, 0, 0],\n",
       "       [0, 0, 0, 0, 0, 0, 0, 0],\n",
       "       [0, 0, 0, 0, 0, 0, 0, 0],\n",
       "       [0, 0, 0, 0, 0, 0, 0, 0],\n",
       "       [0, 0, 0, 0, 0, 0, 0, 0]])"
      ]
     },
     "execution_count": 57,
     "metadata": {},
     "output_type": "execute_result"
    }
   ],
   "source": [
    "checkerboard"
   ]
  },
  {
   "cell_type": "code",
   "execution_count": 58,
   "id": "77ebee4f-58f5-477c-8224-706c672e6dc5",
   "metadata": {},
   "outputs": [],
   "source": [
    "checkerboard[1::2, ::2] = 1  # fill 1s in odd rows, even columns\n"
   ]
  },
  {
   "cell_type": "code",
   "execution_count": 59,
   "id": "2b65c810-dcfb-4283-a715-2c9358153583",
   "metadata": {},
   "outputs": [
    {
     "data": {
      "text/plain": [
       "array([[0, 0, 0, 0, 0, 0, 0, 0],\n",
       "       [1, 0, 1, 0, 1, 0, 1, 0],\n",
       "       [0, 0, 0, 0, 0, 0, 0, 0],\n",
       "       [1, 0, 1, 0, 1, 0, 1, 0],\n",
       "       [0, 0, 0, 0, 0, 0, 0, 0],\n",
       "       [1, 0, 1, 0, 1, 0, 1, 0],\n",
       "       [0, 0, 0, 0, 0, 0, 0, 0],\n",
       "       [1, 0, 1, 0, 1, 0, 1, 0]])"
      ]
     },
     "execution_count": 59,
     "metadata": {},
     "output_type": "execute_result"
    }
   ],
   "source": [
    "checkerboard "
   ]
  },
  {
   "cell_type": "code",
   "execution_count": 60,
   "id": "13741d8d-fae3-43d4-ae6a-d644864f9ea1",
   "metadata": {},
   "outputs": [
    {
     "name": "stdout",
     "output_type": "stream",
     "text": [
      "[[0 1 0 1 0 1 0 1]\n",
      " [1 0 1 0 1 0 1 0]\n",
      " [0 1 0 1 0 1 0 1]\n",
      " [1 0 1 0 1 0 1 0]\n",
      " [0 1 0 1 0 1 0 1]\n",
      " [1 0 1 0 1 0 1 0]\n",
      " [0 1 0 1 0 1 0 1]\n",
      " [1 0 1 0 1 0 1 0]]\n"
     ]
    }
   ],
   "source": [
    "checkerboard[::2, 1::2] = 1 \n",
    "\n",
    "print(checkerboard)"
   ]
  },
  {
   "cell_type": "code",
   "execution_count": null,
   "id": "ccf91976-0e55-4f6d-968c-80a5aedbc0d4",
   "metadata": {},
   "outputs": [],
   "source": []
  },
  {
   "cell_type": "markdown",
   "id": "9f7f9c49",
   "metadata": {},
   "source": [
    "#### 20. Consider a (6,7,8) shape array, what is the index (x,y,z) of the 100th element? (★☆☆)"
   ]
  },
  {
   "cell_type": "code",
   "execution_count": 6,
   "id": "3782b5a9",
   "metadata": {},
   "outputs": [
    {
     "name": "stdout",
     "output_type": "stream",
     "text": [
      "Index (x, y, z) of the 100th element: (1, 5, 3)\n"
     ]
    }
   ],
   "source": [
    "shape = (6, 7, 8)\n",
    "total_elements = np.prod(shape)\n",
    "index_100th_element = 99\n",
    "indices = np.unravel_index(index_100th_element, shape)\n",
    "print(\"Index (x, y, z) of the 100th element:\", indices)"
   ]
  },
  {
   "cell_type": "markdown",
   "id": "66bfda35",
   "metadata": {},
   "source": [
    "#### 21. Create a checkerboard 8x8 matrix using the tile function (★☆☆)"
   ]
  },
  {
   "cell_type": "code",
   "execution_count": 65,
   "id": "4c07477c",
   "metadata": {},
   "outputs": [
    {
     "name": "stdout",
     "output_type": "stream",
     "text": [
      "[[0 1 0 1 0 1 0 1]\n",
      " [1 0 1 0 1 0 1 0]\n",
      " [0 1 0 1 0 1 0 1]\n",
      " [1 0 1 0 1 0 1 0]\n",
      " [0 1 0 1 0 1 0 1]\n",
      " [1 0 1 0 1 0 1 0]\n",
      " [0 1 0 1 0 1 0 1]\n",
      " [1 0 1 0 1 0 1 0]]\n"
     ]
    }
   ],
   "source": [
    "\n",
    "matric = np.array([[0, 1],\n",
    "                    [1, 0]])\n",
    "checkerboard = np.tile(matric, (4,4))\n",
    "\n",
    "print(checkerboard)\n"
   ]
  },
  {
   "cell_type": "markdown",
   "id": "d5bcfc08",
   "metadata": {},
   "source": [
    "#### 22. Normalize a 5x5 random matrix (★☆☆)"
   ]
  },
  {
   "cell_type": "code",
   "execution_count": 67,
   "id": "cea6c993",
   "metadata": {},
   "outputs": [
    {
     "name": "stdout",
     "output_type": "stream",
     "text": [
      "[[0.81677578 0.90149438 0.91258104 0.34061729 0.69436125]\n",
      " [0.80909255 0.53171029 0.93619525 0.39465186 0.03236958]\n",
      " [0.9551383  0.67022668 0.42095636 0.72295169 0.77532567]\n",
      " [0.29459072 0.75143855 0.36200203 0.91649907 0.58897908]\n",
      " [0.83477429 0.40737182 0.36702438 0.91473575 0.93326814]]\n"
     ]
    }
   ],
   "source": [
    "matric=np.random.rand(5,5)\n",
    "print(matric)"
   ]
  },
  {
   "cell_type": "code",
   "execution_count": 71,
   "id": "2408c4bb-a745-49d6-9fc1-472835e1bc8a",
   "metadata": {},
   "outputs": [
    {
     "name": "stdout",
     "output_type": "stream",
     "text": [
      "0.03236957814962982\n",
      "0.9551382998352935\n",
      "[[0.8500572  0.94186634 0.9538809  0.33404655 0.71739717]\n",
      " [0.84173092 0.54113312 0.97947151 0.39260355 0.        ]\n",
      " [1.         0.69124266 0.42110962 0.7483805  0.80513793]\n",
      " [0.28416778 0.77925156 0.35722109 0.95812686 0.60319502]\n",
      " [0.86956211 0.40638812 0.36266379 0.95621595 0.97629941]]\n"
     ]
    }
   ],
   "source": [
    "\n",
    "min_val = matric.min()\n",
    "print(min_val)\n",
    "max_val = matric.max()\n",
    "print(max_val)\n",
    "normalized_matric = (matric - min_val) / (max_val - min_val)\n",
    "\n",
    "print(normalized_matric)\n"
   ]
  },
  {
   "cell_type": "markdown",
   "id": "f9a0911e",
   "metadata": {},
   "source": [
    "#### 23. Create a custom dtype that describes a color as four unsigned bytes (RGBA) (★☆☆)"
   ]
  },
  {
   "cell_type": "code",
   "execution_count": 7,
   "id": "d165044b",
   "metadata": {},
   "outputs": [
    {
     "name": "stdout",
     "output_type": "stream",
     "text": [
      "RGBA Color: (255, 0, 0, 128)\n"
     ]
    }
   ],
   "source": [
    "rgba_dtype = np.dtype([('R', np.uint8), ('G', np.uint8), ('B', np.uint8), ('A', np.uint8)])\n",
    "\n",
    "color = np.array((255, 0, 0, 128), dtype=rgba_dtype)\n",
    "\n",
    "red = color['R']\n",
    "green = color['G']\n",
    "blue = color['B']\n",
    "alpha = color['A']\n",
    "\n",
    "print(f\"RGBA Color: ({red}, {green}, {blue}, {alpha})\")\n"
   ]
  },
  {
   "cell_type": "markdown",
   "id": "654805b1",
   "metadata": {},
   "source": [
    "#### 24. Multiply a 5x3 matrix by a 3x2 matrix (real matrix product) (★☆☆)"
   ]
  },
  {
   "cell_type": "code",
   "execution_count": 78,
   "id": "6a42619f",
   "metadata": {},
   "outputs": [
    {
     "name": "stdout",
     "output_type": "stream",
     "text": [
      "Matrix 01\n",
      "[[3 1 1]\n",
      " [1 2 3]\n",
      " [1 1 2]\n",
      " [1 3 2]\n",
      " [2 2 1]]\n",
      "Matrix 02\n",
      "[[1 1]\n",
      " [2 1]\n",
      " [5 2]]\n",
      "Multiplication \n",
      "[[10  6]\n",
      " [20  9]\n",
      " [13  6]\n",
      " [17  8]\n",
      " [11  6]]\n"
     ]
    }
   ],
   "source": [
    "print(\"Matrix 01\")\n",
    "m1=np.random.randint(1,4,size=(5,3))\n",
    "print(m1)\n",
    "print(\"Matrix 02\")\n",
    "m2=np.random.randint(1,6,size=(3,2))\n",
    "print(m2)\n",
    "print (\"Multiplication \")\n",
    "product=np.dot(m1,m2)\n",
    "print(product)"
   ]
  },
  {
   "cell_type": "markdown",
   "id": "994c25df",
   "metadata": {},
   "source": [
    "#### 25. Given a 1D array, negate all elements which are between 3 and 8, in place. (★☆☆)"
   ]
  },
  {
   "cell_type": "code",
   "execution_count": 89,
   "id": "e4b39c03",
   "metadata": {},
   "outputs": [
    {
     "name": "stdout",
     "output_type": "stream",
     "text": [
      "Original array:\n",
      "[ 0  1  2  3  4  5  6  7  8  9 10 11 12 13 14 15 16 17 18 19]\n",
      "\n",
      "Shuffled array:\n",
      "[11  9  1 17  2  4  8 14  0  7  5 13 16  6 12 10 19 15 18  3]\n",
      "\n",
      "Modified array (values between 3 and 8 negated):\n",
      "[11  9  1 17  2 -4  8 14  0 -7 -5 13 16 -6 12 10 19 15 18  3]\n"
     ]
    }
   ],
   "source": [
    "import numpy as np\n",
    "\n",
    "arr = np.arange(20)\n",
    "print(\"Original array:\")\n",
    "print(arr)\n",
    "np.random.shuffle(arr)\n",
    "print(\"\\nShuffled array:\")\n",
    "print(arr)\n",
    "arr[(arr > 3) & (arr < 8)] *= -1\n",
    "print(\"\\nModified array (values between 3 and 8 negated):\")\n",
    "print(arr)\n"
   ]
  },
  {
   "cell_type": "markdown",
   "id": "b7d15d1a",
   "metadata": {},
   "source": [
    "#### 26. What is the output of the following script? (★☆☆)\n",
    "```python\n",
    "# Author: Jake VanderPlas\n",
    "\n",
    "print(sum(range(5),-1))\n",
    "from numpy import *\n",
    "print(sum(range(5),-1))\n",
    "```"
   ]
  },
  {
   "cell_type": "code",
   "execution_count": 90,
   "id": "4c95bc3f",
   "metadata": {},
   "outputs": [
    {
     "name": "stdout",
     "output_type": "stream",
     "text": [
      "9\n",
      "10\n"
     ]
    }
   ],
   "source": [
    "print(sum(range(5),-1))\n",
    "from numpy import *\n",
    "print(sum(range(5),-1))"
   ]
  },
  {
   "cell_type": "markdown",
   "id": "a34f0d08",
   "metadata": {},
   "source": [
    "#### 27. Consider an integer vector Z, which of these expressions are legal? (★☆☆)\n",
    "```python\n",
    "Z**Z\n",
    "2 << Z >> 2\n",
    "Z <- Z\n",
    "1j*Z\n",
    "Z/1/1\n",
    "Z<Z>Z\n",
    "```"
   ]
  },
  {
   "cell_type": "code",
   "execution_count": 91,
   "id": "564658fc",
   "metadata": {},
   "outputs": [
    {
     "name": "stdout",
     "output_type": "stream",
     "text": [
      "[0 1 2 3 4 5 6 7 8 9]\n"
     ]
    }
   ],
   "source": [
    "Z=np.arange(10)\n",
    "print(Z)"
   ]
  },
  {
   "cell_type": "code",
   "execution_count": 93,
   "id": "c72e0723-7278-4f01-8b32-07bbe8f7818b",
   "metadata": {},
   "outputs": [
    {
     "name": "stdout",
     "output_type": "stream",
     "text": [
      "Legal\n"
     ]
    },
    {
     "data": {
      "text/plain": [
       "array([ 0,  1,  4,  9, 16, 25, 36, 49, 64, 81])"
      ]
     },
     "execution_count": 93,
     "metadata": {},
     "output_type": "execute_result"
    }
   ],
   "source": [
    "print(\"Legal\")\n",
    "Z*Z"
   ]
  },
  {
   "cell_type": "code",
   "execution_count": 95,
   "id": "f9a92617-f46c-4ffd-8306-1a3e4274a332",
   "metadata": {},
   "outputs": [
    {
     "name": "stdout",
     "output_type": "stream",
     "text": [
      "Legal\n"
     ]
    },
    {
     "data": {
      "text/plain": [
       "array([  0,   1,   2,   4,   8,  16,  32,  64, 128, 256])"
      ]
     },
     "execution_count": 95,
     "metadata": {},
     "output_type": "execute_result"
    }
   ],
   "source": [
    "print(\"Legal\")\n",
    "2<<Z>>2"
   ]
  },
  {
   "cell_type": "code",
   "execution_count": 96,
   "id": "0b0663b0-80f0-4e11-a449-93b12fe88622",
   "metadata": {},
   "outputs": [
    {
     "data": {
      "text/plain": [
       "array([False, False, False, False, False, False, False, False, False,\n",
       "       False])"
      ]
     },
     "execution_count": 96,
     "metadata": {},
     "output_type": "execute_result"
    }
   ],
   "source": [
    "Z<-Z"
   ]
  },
  {
   "cell_type": "code",
   "execution_count": 97,
   "id": "f51f33d0-6fc9-43c4-a0ea-ce02297a8b82",
   "metadata": {},
   "outputs": [
    {
     "data": {
      "text/plain": [
       "array([0.+0.j, 0.+1.j, 0.+2.j, 0.+3.j, 0.+4.j, 0.+5.j, 0.+6.j, 0.+7.j,\n",
       "       0.+8.j, 0.+9.j])"
      ]
     },
     "execution_count": 97,
     "metadata": {},
     "output_type": "execute_result"
    }
   ],
   "source": [
    "1j*Z"
   ]
  },
  {
   "cell_type": "code",
   "execution_count": 98,
   "id": "3baeb795-31f7-49bd-bede-33293cb285c2",
   "metadata": {},
   "outputs": [
    {
     "data": {
      "text/plain": [
       "array([0., 1., 2., 3., 4., 5., 6., 7., 8., 9.])"
      ]
     },
     "execution_count": 98,
     "metadata": {},
     "output_type": "execute_result"
    }
   ],
   "source": [
    "Z/1/1"
   ]
  },
  {
   "cell_type": "code",
   "execution_count": 99,
   "id": "0ebc910a-3a4e-475e-99f1-10325e5e0e60",
   "metadata": {},
   "outputs": [
    {
     "ename": "SyntaxError",
     "evalue": "invalid syntax (343232640.py, line 1)",
     "output_type": "error",
     "traceback": [
      "\u001b[1;36m  Cell \u001b[1;32mIn[99], line 1\u001b[1;36m\u001b[0m\n\u001b[1;33m    Z<Z>\u001b[0m\n\u001b[1;37m        ^\u001b[0m\n\u001b[1;31mSyntaxError\u001b[0m\u001b[1;31m:\u001b[0m invalid syntax\n"
     ]
    }
   ],
   "source": [
    "Z<Z>"
   ]
  },
  {
   "cell_type": "markdown",
   "id": "c34e94bf",
   "metadata": {},
   "source": [
    "#### 28. What are the result of the following expressions? (★☆☆)\n",
    "```python\n",
    "np.array(0) / np.array(0)\n",
    "np.array(0) // np.array(0)\n",
    "np.array([np.nan]).astype(int).astype(float)\n",
    "```"
   ]
  },
  {
   "cell_type": "code",
   "execution_count": 100,
   "id": "56663562",
   "metadata": {},
   "outputs": [
    {
     "name": "stderr",
     "output_type": "stream",
     "text": [
      "C:\\Users\\aaa\\AppData\\Local\\Temp\\ipykernel_21248\\873513115.py:1: RuntimeWarning: invalid value encountered in divide\n",
      "  np.array(0) / np.array(0)\n"
     ]
    },
    {
     "data": {
      "text/plain": [
       "np.float64(nan)"
      ]
     },
     "execution_count": 100,
     "metadata": {},
     "output_type": "execute_result"
    }
   ],
   "source": [
    "np.array(0) / np.array(0)"
   ]
  },
  {
   "cell_type": "markdown",
   "id": "546f5e7b",
   "metadata": {},
   "source": [
    "#### 29. How to round away from zero a float array ? (★☆☆)"
   ]
  },
  {
   "cell_type": "code",
   "execution_count": 103,
   "id": "f725a6d2",
   "metadata": {},
   "outputs": [
    {
     "name": "stdout",
     "output_type": "stream",
     "text": [
      "Original: [ 1.2 -1.7  0.5 -0.3]\n",
      "Rounded away from zero: [ 2. -2.  1. -1.]\n"
     ]
    }
   ],
   "source": [
    "arr = np.array([1.2, -1.7, 0.5, -0.3])\n",
    "rounded = np.where(arr > 0, np.ceil(arr), np.floor(arr))\n",
    "\n",
    "print(\"Original:\", arr)\n",
    "print(\"Rounded away from zero:\", rounded)\n"
   ]
  },
  {
   "cell_type": "markdown",
   "id": "eadca856",
   "metadata": {},
   "source": [
    "#### 30. How to find common values between two arrays? (★☆☆)"
   ]
  },
  {
   "cell_type": "code",
   "execution_count": 114,
   "id": "e0270b5b",
   "metadata": {},
   "outputs": [
    {
     "name": "stdout",
     "output_type": "stream",
     "text": [
      "[[1 2 2 1 4]] [[1 1 4 3 2]]\n"
     ]
    },
    {
     "data": {
      "text/plain": [
       "array([1, 2, 4], dtype=int32)"
      ]
     },
     "execution_count": 114,
     "metadata": {},
     "output_type": "execute_result"
    }
   ],
   "source": [
    "a1=np.random.randint(1,5,size=(1,5))\n",
    "a2=np.random.randint(1,5,size=(1,5))\n",
    "print(a1,a2)\n",
    "np.intersect1d(a1,a2)"
   ]
  },
  {
   "cell_type": "markdown",
   "id": "ca16ca22",
   "metadata": {},
   "source": [
    "#### 31. How to ignore all numpy warnings (not recommended)? (★☆☆)"
   ]
  },
  {
   "cell_type": "code",
   "execution_count": null,
   "id": "7d7208ef",
   "metadata": {},
   "outputs": [],
   "source": []
  },
  {
   "cell_type": "markdown",
   "id": "c7871d0d",
   "metadata": {},
   "source": [
    "#### 32. Is the following expressions true? (★☆☆)\n",
    "```python\n",
    "np.sqrt(-1) == np.emath.sqrt(-1)\n",
    "```"
   ]
  },
  {
   "cell_type": "code",
   "execution_count": 10,
   "id": "acc3701a",
   "metadata": {},
   "outputs": [
    {
     "name": "stderr",
     "output_type": "stream",
     "text": [
      "C:\\Users\\aaa\\AppData\\Local\\Temp\\ipykernel_13976\\244602691.py:1: RuntimeWarning: invalid value encountered in sqrt\n",
      "  np.sqrt(-1) == np.emath.sqrt(-1)\n"
     ]
    },
    {
     "data": {
      "text/plain": [
       "False"
      ]
     },
     "execution_count": 10,
     "metadata": {},
     "output_type": "execute_result"
    }
   ],
   "source": [
    "np.sqrt(-1) == np.emath.sqrt(-1)"
   ]
  },
  {
   "cell_type": "markdown",
   "id": "e0433e30",
   "metadata": {},
   "source": [
    "#### 33. How to get the dates of yesterday, today and tomorrow? (★☆☆)"
   ]
  },
  {
   "cell_type": "code",
   "execution_count": 119,
   "id": "9c4d2152",
   "metadata": {},
   "outputs": [
    {
     "name": "stdout",
     "output_type": "stream",
     "text": [
      "Today: 2025-06-18\n"
     ]
    }
   ],
   "source": [
    "today = np.datetime64('today', 'D')\n",
    "print(\"Today:\", today)"
   ]
  },
  {
   "cell_type": "code",
   "execution_count": 120,
   "id": "29c6c390-aa8f-4597-8edb-83a5387f4cb7",
   "metadata": {},
   "outputs": [
    {
     "name": "stdout",
     "output_type": "stream",
     "text": [
      "1 days\n",
      "Yesterday: 2025-06-17\n"
     ]
    }
   ],
   "source": [
    "yesterday = today - np.timedelta64(1, 'D')\n",
    "print( np.timedelta64(1, 'D'))\n",
    "print(\"Yesterday:\", yesterday)"
   ]
  },
  {
   "cell_type": "code",
   "execution_count": 121,
   "id": "39479506-dc0f-4df2-aa7c-214d1982fd29",
   "metadata": {},
   "outputs": [
    {
     "name": "stdout",
     "output_type": "stream",
     "text": [
      "1 days\n",
      "Tomorrow: 2025-06-19\n"
     ]
    }
   ],
   "source": [
    "tomorrow = today + np.timedelta64(1, 'D')\n",
    "print( np.timedelta64(1, 'D'))\n",
    "print(\"Tomorrow:\", tomorrow)"
   ]
  },
  {
   "cell_type": "markdown",
   "id": "9f52a2ef",
   "metadata": {},
   "source": [
    "#### 34. How to get all the dates corresponding to the month of July 2016? (★★☆)"
   ]
  },
  {
   "cell_type": "code",
   "execution_count": 122,
   "id": "d6c34dec",
   "metadata": {},
   "outputs": [
    {
     "name": "stdout",
     "output_type": "stream",
     "text": [
      "['2016-07-01' '2016-07-02' '2016-07-03' '2016-07-04' '2016-07-05'\n",
      " '2016-07-06' '2016-07-07' '2016-07-08' '2016-07-09' '2016-07-10'\n",
      " '2016-07-11' '2016-07-12' '2016-07-13' '2016-07-14' '2016-07-15'\n",
      " '2016-07-16' '2016-07-17' '2016-07-18' '2016-07-19' '2016-07-20'\n",
      " '2016-07-21' '2016-07-22' '2016-07-23' '2016-07-24' '2016-07-25'\n",
      " '2016-07-26' '2016-07-27' '2016-07-28' '2016-07-29' '2016-07-30'\n",
      " '2016-07-31']\n"
     ]
    }
   ],
   "source": [
    "dates = np.arange('2016-07-01', '2016-08-01', dtype='datetime64[D]')\n",
    "print(dates)"
   ]
  },
  {
   "cell_type": "markdown",
   "id": "4a64e059",
   "metadata": {},
   "source": [
    "#### 35. How to compute ((A+B)*(-A/2)) in place (without copy)? (★★☆)"
   ]
  },
  {
   "cell_type": "code",
   "execution_count": 11,
   "id": "49267f60",
   "metadata": {},
   "outputs": [
    {
     "data": {
      "text/plain": [
       "array([-0.25, -0.75, -1.25])"
      ]
     },
     "execution_count": 11,
     "metadata": {},
     "output_type": "execute_result"
    }
   ],
   "source": [
    "A = np.array([3.0, 5.0, 7.0])\n",
    "B = np.array([1.0, 2.0, 3.0])\n",
    "\n",
    "np.negative(A, out=A)\n",
    "np.divide(A, 2, out=A)\n",
    "\n",
    "np.add(A, B, out=A)\n",
    "\n",
    "np.multiply(A, (A + B), out=A)"
   ]
  },
  {
   "cell_type": "markdown",
   "id": "8a98c2a8",
   "metadata": {},
   "source": [
    "#### 36. Extract the integer part of a random array of positive numbers using 4 different methods (★★☆)"
   ]
  },
  {
   "cell_type": "code",
   "execution_count": 125,
   "id": "368130b3",
   "metadata": {},
   "outputs": [
    {
     "name": "stdout",
     "output_type": "stream",
     "text": [
      "[6.79090616 8.64281443 7.50844246 9.64489768 5.54242435 2.12390499\n",
      " 2.22443224 2.18749374 5.69573535 4.52109035]\n",
      "<class 'numpy.ndarray'>\n"
     ]
    }
   ],
   "source": [
    "Z = np.random.uniform(0, 10, size=10)\n",
    "print(Z)\n",
    "print(type(Z))"
   ]
  },
  {
   "cell_type": "code",
   "execution_count": 126,
   "id": "7f5c21e0-7596-4ab5-9f92-1a27e88c3ada",
   "metadata": {},
   "outputs": [
    {
     "name": "stdout",
     "output_type": "stream",
     "text": [
      "[6 8 7 9 5 2 2 2 5 4]\n",
      "<class 'numpy.ndarray'>\n"
     ]
    }
   ],
   "source": [
    "print(Z.astype(int))\n",
    "print(type(Z))"
   ]
  },
  {
   "cell_type": "code",
   "execution_count": 128,
   "id": "76cfa83b-5d65-4a48-ba21-44b83278a344",
   "metadata": {},
   "outputs": [
    {
     "name": "stdout",
     "output_type": "stream",
     "text": [
      "[6 8 7 9 5 2 2 2 5 4]\n"
     ]
    }
   ],
   "source": [
    "print(np.floor(Z).astype(int))"
   ]
  },
  {
   "cell_type": "code",
   "execution_count": 129,
   "id": "06eaed44-a6b4-4ae2-b5ac-2615d002d35f",
   "metadata": {},
   "outputs": [
    {
     "name": "stdout",
     "output_type": "stream",
     "text": [
      "[6 8 7 9 5 2 2 2 5 4]\n"
     ]
    }
   ],
   "source": [
    "print(np.trunc(Z).astype(int))"
   ]
  },
  {
   "cell_type": "code",
   "execution_count": 130,
   "id": "0c94e186-cfe8-443b-866d-7b6be3007eb7",
   "metadata": {},
   "outputs": [
    {
     "ename": "TypeError",
     "evalue": "'list' object is not callable",
     "output_type": "error",
     "traceback": [
      "\u001b[1;31m---------------------------------------------------------------------------\u001b[0m",
      "\u001b[1;31mTypeError\u001b[0m                                 Traceback (most recent call last)",
      "Cell \u001b[1;32mIn[130], line 1\u001b[0m\n\u001b[1;32m----> 1\u001b[0m \u001b[38;5;28mprint\u001b[39m(np\u001b[38;5;241m.\u001b[39marray(\u001b[38;5;28;43mlist\u001b[39;49m\u001b[43m(\u001b[49m\u001b[38;5;28;43mmap\u001b[39;49m\u001b[43m(\u001b[49m\u001b[38;5;28;43mint\u001b[39;49m\u001b[43m,\u001b[49m\u001b[43m \u001b[49m\u001b[43mZ\u001b[49m\u001b[43m)\u001b[49m\u001b[43m)\u001b[49m))\n",
      "\u001b[1;31mTypeError\u001b[0m: 'list' object is not callable"
     ]
    }
   ],
   "source": [
    "print(np.array(list(map(int, Z))))"
   ]
  },
  {
   "cell_type": "markdown",
   "id": "5a2e3d85",
   "metadata": {},
   "source": [
    "#### 37. Create a 5x5 matrix with row values ranging from 0 to 4 (★★☆)"
   ]
  },
  {
   "cell_type": "code",
   "execution_count": 13,
   "id": "1d974e8f",
   "metadata": {},
   "outputs": [
    {
     "name": "stdout",
     "output_type": "stream",
     "text": [
      "[[0 1 2 3 4]\n",
      " [0 1 2 3 4]\n",
      " [0 1 2 3 4]\n",
      " [0 1 2 3 4]\n",
      " [0 1 2 3 4]]\n"
     ]
    }
   ],
   "source": [
    "matrix = np.tile(np.arange(5), (5, 1))\n",
    "print(matrix)\n"
   ]
  },
  {
   "cell_type": "markdown",
   "id": "9720e2d5",
   "metadata": {},
   "source": [
    "#### 38. Consider a generator function that generates 10 integers and use it to build an array (★☆☆)"
   ]
  },
  {
   "cell_type": "code",
   "execution_count": 139,
   "id": "e5dd8fc9",
   "metadata": {},
   "outputs": [
    {
     "name": "stdout",
     "output_type": "stream",
     "text": [
      "[0 1 2 3 4]\n",
      "(5,)\n",
      "[[0 1 2 3 4]\n",
      " [0 1 2 3 4]\n",
      " [0 1 2 3 4]\n",
      " [0 1 2 3 4]\n",
      " [0 1 2 3 4]]\n",
      "(5, 5)\n"
     ]
    }
   ],
   "source": [
    "vec=np.arange(5)\n",
    "print(vec)\n",
    "print(np.shape(vec))\n",
    "new_vec=np.tile(vec,(5,1))\n",
    "print(new_vec)\n",
    "print(np.shape(new_vec))"
   ]
  },
  {
   "cell_type": "markdown",
   "id": "c6f2c912",
   "metadata": {},
   "source": [
    "#### 39. Create a vector of size 10 with values ranging from 0 to 1, both excluded (★★☆)"
   ]
  },
  {
   "cell_type": "code",
   "execution_count": 140,
   "id": "6aaa27d3",
   "metadata": {},
   "outputs": [
    {
     "data": {
      "text/plain": [
       "array([0.09090909, 0.18181818, 0.27272727, 0.36363636, 0.45454545,\n",
       "       0.54545455, 0.63636364, 0.72727273, 0.81818182, 0.90909091])"
      ]
     },
     "execution_count": 140,
     "metadata": {},
     "output_type": "execute_result"
    }
   ],
   "source": [
    "np.arange(1,11)/11"
   ]
  },
  {
   "cell_type": "code",
   "execution_count": null,
   "id": "d685facf-566f-4840-8031-7eb856b5ae40",
   "metadata": {},
   "outputs": [],
   "source": []
  },
  {
   "cell_type": "markdown",
   "id": "a36d6ee4",
   "metadata": {},
   "source": [
    "#### 40. Create a random vector of size 10 and sort it (★★☆)"
   ]
  },
  {
   "cell_type": "code",
   "execution_count": 141,
   "id": "e589d216",
   "metadata": {},
   "outputs": [
    {
     "name": "stdout",
     "output_type": "stream",
     "text": [
      "[9 6 0 0 4 8 9 6 5 8]\n"
     ]
    }
   ],
   "source": [
    "Z = np.random.uniform(0, 10, size=10).astype(int)\n",
    "print(Z)"
   ]
  },
  {
   "cell_type": "code",
   "execution_count": 142,
   "id": "b810997e-163e-4ef0-8813-0dc5477be912",
   "metadata": {},
   "outputs": [
    {
     "data": {
      "text/plain": [
       "array([0, 0, 4, 5, 6, 6, 8, 8, 9, 9])"
      ]
     },
     "execution_count": 142,
     "metadata": {},
     "output_type": "execute_result"
    }
   ],
   "source": [
    "np.sort(Z)"
   ]
  },
  {
   "cell_type": "markdown",
   "id": "0fb4ad68",
   "metadata": {},
   "source": [
    "#### 41. How to sum a small array faster than np.sum? (★★☆)"
   ]
  },
  {
   "cell_type": "code",
   "execution_count": 147,
   "id": "a1ba05a0",
   "metadata": {},
   "outputs": [
    {
     "name": "stdout",
     "output_type": "stream",
     "text": [
      "55\n"
     ]
    }
   ],
   "source": [
    "print(np.sum(Z))"
   ]
  },
  {
   "cell_type": "markdown",
   "id": "024ac365",
   "metadata": {},
   "source": [
    "#### 42. Consider two random array A and B, check if they are equal (★★☆)"
   ]
  },
  {
   "cell_type": "code",
   "execution_count": 150,
   "id": "7db3846d",
   "metadata": {},
   "outputs": [
    {
     "name": "stdout",
     "output_type": "stream",
     "text": [
      "[ 0  3  8  7  7 10  1  8  4  7] [ 0  4  9  0 10  6  4  2  4  6]\n",
      "Not equal\n"
     ]
    }
   ],
   "source": [
    "A = np.random.randint(0,11,10)\n",
    "B = np.random.randint(0,11,10)\n",
    "print(A,B)\n",
    "equal = np.array_equal(A,B)\n",
    "\n",
    "if equal:\n",
    "  print(\"Equal\")\n",
    "else:\n",
    "  print(\"Not equal\")"
   ]
  },
  {
   "cell_type": "code",
   "execution_count": 151,
   "id": "997d9516-1190-4536-b0ee-3f35bb67f72a",
   "metadata": {},
   "outputs": [
    {
     "name": "stdout",
     "output_type": "stream",
     "text": [
      "[0 1 2 3 4] [0 1 2 3 4]\n",
      "Equal\n"
     ]
    }
   ],
   "source": [
    "A = np.arange(5)\n",
    "B = np.arange(5)\n",
    "print(A,B)\n",
    "equal = np.array_equal(A,B)\n",
    "\n",
    "if equal:\n",
    "  print(\"Equal\")\n",
    "else:\n",
    "  print(\"Not equal\")"
   ]
  },
  {
   "cell_type": "markdown",
   "id": "c68d2401",
   "metadata": {},
   "source": [
    "#### 43. Make an array immutable (read-only) (★★☆)"
   ]
  },
  {
   "cell_type": "code",
   "execution_count": 154,
   "id": "7828539d",
   "metadata": {},
   "outputs": [
    {
     "name": "stdout",
     "output_type": "stream",
     "text": [
      "The array is read-only.\n"
     ]
    }
   ],
   "source": [
    "arr = np.array([1, 2, 3, 4, 5])\n",
    "\n",
    "arr.flags.writeable = False\n",
    "\n",
    "if arr.flags.writeable:\n",
    "    print(\"The array is mutable.\")\n",
    "else:\n",
    "    print(\"The array is read-only.\")"
   ]
  },
  {
   "cell_type": "markdown",
   "id": "55df6280",
   "metadata": {},
   "source": [
    "#### 44. Consider a random 10x2 matrix representing cartesian coordinates, convert them to polar coordinates (★★☆)"
   ]
  },
  {
   "cell_type": "code",
   "execution_count": 157,
   "id": "f1c86ea0",
   "metadata": {},
   "outputs": [
    {
     "name": "stdout",
     "output_type": "stream",
     "text": [
      "[[ 9 14]\n",
      " [ 8 17]\n",
      " [16  9]\n",
      " [ 4  7]\n",
      " [18  8]\n",
      " [ 3 17]\n",
      " [19 14]\n",
      " [ 5  5]\n",
      " [13 18]\n",
      " [ 2  6]]\n",
      "[ 9  8 16  4 18  3 19  5 13  2]\n",
      "[14 17  9  7  8 17 14  5 18  6]\n",
      "[16.64331698 18.78829423 18.35755975  8.06225775 19.6977156  17.2626765\n",
      " 23.60084744  7.07106781 22.20360331  6.32455532]\n",
      "[0.99945885 1.13095374 0.51238946 1.05165021 0.41822433 1.39612413\n",
      " 0.63502674 0.78539816 0.94531129 1.24904577]\n",
      "[[16.64331698  0.99945885]\n",
      " [18.78829423  1.13095374]\n",
      " [18.35755975  0.51238946]\n",
      " [ 8.06225775  1.05165021]\n",
      " [19.6977156   0.41822433]\n",
      " [17.2626765   1.39612413]\n",
      " [23.60084744  0.63502674]\n",
      " [ 7.07106781  0.78539816]\n",
      " [22.20360331  0.94531129]\n",
      " [ 6.32455532  1.24904577]]\n"
     ]
    }
   ],
   "source": [
    "cartesian = np.random.randint(1,21,20).reshape(10,2)\n",
    "print(cartesian)\n",
    "x = cartesian[:, 0]\n",
    "print(x)\n",
    "y = cartesian[:, 1]\n",
    "print(y)\n",
    "r = np.sqrt(x**2 + y**2)\n",
    "print(r)\n",
    "theta = np.arctan2(y,x)\n",
    "print(theta)\n",
    "polar = np.column_stack((r,theta))\n",
    "print(polar)"
   ]
  },
  {
   "cell_type": "markdown",
   "id": "2f60f1ec",
   "metadata": {},
   "source": [
    "#### 45. Create random vector of size 10 and replace the maximum value by 0 (★★☆)"
   ]
  },
  {
   "cell_type": "code",
   "execution_count": null,
   "id": "d9f48f1c",
   "metadata": {},
   "outputs": [
    {
     "name": "stdout",
     "output_type": "stream",
     "text": [
      "[12  7 10 16  4 13 19 18 11  3]\n",
      "[12  7 10 16  4 13  0 18 11  3]\n"
     ]
    }
   ],
   "source": [
    "vec=np.random.randint(1,20,10)\n",
    "print(vec)\n",
    "max=np.max(vec)\n",
    "vec[np.where(vec==max)]=0\n",
    "print(vec)"
   ]
  },
  {
   "cell_type": "markdown",
   "id": "084e8ad4",
   "metadata": {},
   "source": [
    "#### 46. Create a structured array with `x` and `y` coordinates covering the [0,1]x[0,1] area (★★☆)"
   ]
  },
  {
   "cell_type": "code",
   "execution_count": 14,
   "id": "58b47c13",
   "metadata": {},
   "outputs": [
    {
     "name": "stdout",
     "output_type": "stream",
     "text": [
      "Structured array with x and y coordinates covering [0,1]x[0,1]:\n",
      " [[0.         0.        ]\n",
      " [0.11111111 0.        ]\n",
      " [0.22222222 0.        ]\n",
      " [0.33333333 0.        ]\n",
      " [0.44444444 0.        ]\n",
      " [0.55555556 0.        ]\n",
      " [0.66666667 0.        ]\n",
      " [0.77777778 0.        ]\n",
      " [0.88888889 0.        ]\n",
      " [1.         0.        ]\n",
      " [0.         0.11111111]\n",
      " [0.11111111 0.11111111]\n",
      " [0.22222222 0.11111111]\n",
      " [0.33333333 0.11111111]\n",
      " [0.44444444 0.11111111]\n",
      " [0.55555556 0.11111111]\n",
      " [0.66666667 0.11111111]\n",
      " [0.77777778 0.11111111]\n",
      " [0.88888889 0.11111111]\n",
      " [1.         0.11111111]\n",
      " [0.         0.22222222]\n",
      " [0.11111111 0.22222222]\n",
      " [0.22222222 0.22222222]\n",
      " [0.33333333 0.22222222]\n",
      " [0.44444444 0.22222222]\n",
      " [0.55555556 0.22222222]\n",
      " [0.66666667 0.22222222]\n",
      " [0.77777778 0.22222222]\n",
      " [0.88888889 0.22222222]\n",
      " [1.         0.22222222]\n",
      " [0.         0.33333333]\n",
      " [0.11111111 0.33333333]\n",
      " [0.22222222 0.33333333]\n",
      " [0.33333333 0.33333333]\n",
      " [0.44444444 0.33333333]\n",
      " [0.55555556 0.33333333]\n",
      " [0.66666667 0.33333333]\n",
      " [0.77777778 0.33333333]\n",
      " [0.88888889 0.33333333]\n",
      " [1.         0.33333333]\n",
      " [0.         0.44444444]\n",
      " [0.11111111 0.44444444]\n",
      " [0.22222222 0.44444444]\n",
      " [0.33333333 0.44444444]\n",
      " [0.44444444 0.44444444]\n",
      " [0.55555556 0.44444444]\n",
      " [0.66666667 0.44444444]\n",
      " [0.77777778 0.44444444]\n",
      " [0.88888889 0.44444444]\n",
      " [1.         0.44444444]\n",
      " [0.         0.55555556]\n",
      " [0.11111111 0.55555556]\n",
      " [0.22222222 0.55555556]\n",
      " [0.33333333 0.55555556]\n",
      " [0.44444444 0.55555556]\n",
      " [0.55555556 0.55555556]\n",
      " [0.66666667 0.55555556]\n",
      " [0.77777778 0.55555556]\n",
      " [0.88888889 0.55555556]\n",
      " [1.         0.55555556]\n",
      " [0.         0.66666667]\n",
      " [0.11111111 0.66666667]\n",
      " [0.22222222 0.66666667]\n",
      " [0.33333333 0.66666667]\n",
      " [0.44444444 0.66666667]\n",
      " [0.55555556 0.66666667]\n",
      " [0.66666667 0.66666667]\n",
      " [0.77777778 0.66666667]\n",
      " [0.88888889 0.66666667]\n",
      " [1.         0.66666667]\n",
      " [0.         0.77777778]\n",
      " [0.11111111 0.77777778]\n",
      " [0.22222222 0.77777778]\n",
      " [0.33333333 0.77777778]\n",
      " [0.44444444 0.77777778]\n",
      " [0.55555556 0.77777778]\n",
      " [0.66666667 0.77777778]\n",
      " [0.77777778 0.77777778]\n",
      " [0.88888889 0.77777778]\n",
      " [1.         0.77777778]\n",
      " [0.         0.88888889]\n",
      " [0.11111111 0.88888889]\n",
      " [0.22222222 0.88888889]\n",
      " [0.33333333 0.88888889]\n",
      " [0.44444444 0.88888889]\n",
      " [0.55555556 0.88888889]\n",
      " [0.66666667 0.88888889]\n",
      " [0.77777778 0.88888889]\n",
      " [0.88888889 0.88888889]\n",
      " [1.         0.88888889]\n",
      " [0.         1.        ]\n",
      " [0.11111111 1.        ]\n",
      " [0.22222222 1.        ]\n",
      " [0.33333333 1.        ]\n",
      " [0.44444444 1.        ]\n",
      " [0.55555556 1.        ]\n",
      " [0.66666667 1.        ]\n",
      " [0.77777778 1.        ]\n",
      " [0.88888889 1.        ]\n",
      " [1.         1.        ]]\n"
     ]
    }
   ],
   "source": [
    "num_points = 10\n",
    "x = np.linspace(0, 1, num_points)\n",
    "y = np.linspace(0, 1, num_points)\n",
    "x_grid, y_grid = np.meshgrid(x, y)\n",
    "structured_array = np.column_stack((x_grid.ravel(), y_grid.ravel()))\n",
    "print(\"Structured array with x and y coordinates covering [0,1]x[0,1]:\\n\", structured_array)"
   ]
  },
  {
   "cell_type": "markdown",
   "id": "d7b9bc42",
   "metadata": {},
   "source": [
    "#### 47. Given two arrays, X and Y, construct the Cauchy matrix C (Cij =1/(xi - yj)) (★★☆)"
   ]
  },
  {
   "cell_type": "code",
   "execution_count": 162,
   "id": "a24824fb",
   "metadata": {},
   "outputs": [
    {
     "name": "stdout",
     "output_type": "stream",
     "text": [
      "[[-0.33333333 -0.25       -0.2       ]\n",
      " [-0.5        -0.33333333 -0.25      ]\n",
      " [-1.         -0.5        -0.33333333]]\n"
     ]
    }
   ],
   "source": [
    "X = np.array([1, 2, 3])\n",
    "Y = np.array([4, 5, 6])\n",
    "\n",
    "n = len(X)\n",
    "m = len(Y)\n",
    "C = np.empty((n, m))\n",
    "\n",
    "for i in range(n):\n",
    "    for j in range(m):\n",
    "        C[i, j] = 1.0 / (X[i] - Y[j])\n",
    "\n",
    "print(C)"
   ]
  },
  {
   "cell_type": "markdown",
   "id": "65ebc11b",
   "metadata": {},
   "source": [
    "#### 48. Print the minimum and maximum representable value for each numpy scalar type (★★☆)"
   ]
  },
  {
   "cell_type": "code",
   "execution_count": 15,
   "id": "e45d38fb",
   "metadata": {},
   "outputs": [
    {
     "name": "stdout",
     "output_type": "stream",
     "text": [
      "Integer Types:\n",
      "<class 'numpy.int8'>: Min=-128, Max=127\n",
      "<class 'numpy.int16'>: Min=-32768, Max=32767\n",
      "<class 'numpy.int32'>: Min=-2147483648, Max=2147483647\n",
      "<class 'numpy.int64'>: Min=-9223372036854775808, Max=9223372036854775807\n",
      "\n",
      "Floating-point Types:\n",
      "<class 'numpy.float16'>: Min=-65504.0, Max=65504.0\n",
      "<class 'numpy.float32'>: Min=-3.4028234663852886e+38, Max=3.4028234663852886e+38\n",
      "<class 'numpy.float64'>: Min=-1.7976931348623157e+308, Max=1.7976931348623157e+308\n"
     ]
    }
   ],
   "source": [
    "print(\"Integer Types:\")\n",
    "for dtype in np.sctypes['int']:\n",
    "    info = np.iinfo(dtype)\n",
    "    print(f\"{dtype}: Min={info.min}, Max={info.max}\")\n",
    "\n",
    "print(\"\\nFloating-point Types:\")\n",
    "for dtype in np.sctypes['float']:\n",
    "    info = np.finfo(dtype)\n",
    "    print(f\"{dtype}: Min={info.min}, Max={info.max}\")"
   ]
  },
  {
   "cell_type": "markdown",
   "id": "9b317a98",
   "metadata": {},
   "source": [
    "#### 49. How to print all the values of an array? (★★☆)"
   ]
  },
  {
   "cell_type": "code",
   "execution_count": null,
   "id": "309cdeb9",
   "metadata": {},
   "outputs": [],
   "source": [
    "arr = np.array([1,2,3,4,5])\n",
    "\n",
    "for i in arr:\n",
    "  print(i)"
   ]
  },
  {
   "cell_type": "markdown",
   "id": "b580f9d0",
   "metadata": {},
   "source": [
    "#### 50. How to find the closest value (to a given scalar) in a vector? (★★☆)"
   ]
  },
  {
   "cell_type": "code",
   "execution_count": 164,
   "id": "ebfb6714",
   "metadata": {},
   "outputs": [
    {
     "name": "stdout",
     "output_type": "stream",
     "text": [
      "[10  8  6  8  1  4  2]\n",
      "Closest Value: 12\n"
     ]
    }
   ],
   "source": [
    "vector = np.array([1, 3, 5, 3, 12, 7, 9])\n",
    "\n",
    "target_scalar = 11\n",
    "print(np.abs(vector - target_scalar))\n",
    "closest_index = np.abs(vector - target_scalar).argmin()\n",
    "\n",
    "\n",
    "closest_value = vector[closest_index]\n",
    "\n",
    "print(\"Closest Value:\", closest_value)"
   ]
  },
  {
   "cell_type": "markdown",
   "id": "602e6252",
   "metadata": {},
   "source": [
    "#### 51. Create a structured array representing a position (x,y) and a color (r,g,b) (★★☆)"
   ]
  },
  {
   "cell_type": "code",
   "execution_count": 165,
   "id": "cf002b3a",
   "metadata": {},
   "outputs": [
    {
     "name": "stdout",
     "output_type": "stream",
     "text": [
      "[(10, 20, 255, 0, 0)]\n"
     ]
    }
   ],
   "source": [
    "dtype = [('x', int), ('y', int), ('r', int), ('g', int), ('b', int)]\n",
    "\n",
    "structured_array = np.empty(1, dtype=dtype)\n",
    "\n",
    "structured_array['x'] = 10\n",
    "structured_array['y'] = 20\n",
    "structured_array['r'] = 255\n",
    "structured_array['g'] = 0\n",
    "structured_array['b'] = 0\n",
    "\n",
    "print(structured_array)"
   ]
  },
  {
   "cell_type": "markdown",
   "id": "78bcd92f",
   "metadata": {},
   "source": [
    "#### 52. Consider a random vector with shape (100,2) representing coordinates, find point by point distances (★★☆)"
   ]
  },
  {
   "cell_type": "code",
   "execution_count": 171,
   "id": "fea7f9a6",
   "metadata": {},
   "outputs": [
    {
     "name": "stdout",
     "output_type": "stream",
     "text": [
      "Coordinates [[ 58  66]\n",
      " [ 92  65]\n",
      " [ 77  83]\n",
      " [ 47  81]\n",
      " [ 36  71]\n",
      " [ 53  70]\n",
      " [  9  15]\n",
      " [ 18  29]\n",
      " [ 53  60]\n",
      " [ 42  82]\n",
      " [  2  29]\n",
      " [ 17  35]\n",
      " [ 19  16]\n",
      " [ 23  12]\n",
      " [ 99  56]\n",
      " [ 66  20]\n",
      " [  3  81]\n",
      " [ 44  38]\n",
      " [ 42  74]\n",
      " [ 37  40]\n",
      " [ 27   4]\n",
      " [ 51  22]\n",
      " [ 37  35]\n",
      " [ 30   7]\n",
      " [ 88  88]\n",
      " [ 15  10]\n",
      " [ 19  77]\n",
      " [ 56  18]\n",
      " [ 71  60]\n",
      " [ 24  32]\n",
      " [ 39 100]\n",
      " [ 16  52]\n",
      " [ 90  80]\n",
      " [ 46  96]\n",
      " [ 94  84]\n",
      " [ 23  15]\n",
      " [ 44  83]\n",
      " [ 55  98]\n",
      " [ 27  45]\n",
      " [ 98  81]\n",
      " [ 87  27]\n",
      " [ 77  48]\n",
      " [ 87  94]\n",
      " [  5  97]\n",
      " [ 98  28]\n",
      " [ 65  68]\n",
      " [ 85  72]\n",
      " [ 33  99]\n",
      " [ 48  99]\n",
      " [ 89  69]\n",
      " [ 65  99]\n",
      " [ 71   1]\n",
      " [  1  71]\n",
      " [ 25 100]\n",
      " [ 77  50]\n",
      " [ 27  96]\n",
      " [ 43  19]\n",
      " [ 98  45]\n",
      " [100  80]\n",
      " [ 43  67]\n",
      " [  8  83]\n",
      " [ 46  64]\n",
      " [ 20  96]\n",
      " [ 98   5]\n",
      " [ 85  24]\n",
      " [  2  71]\n",
      " [ 75  28]\n",
      " [ 95  65]\n",
      " [ 80  82]\n",
      " [ 14  21]\n",
      " [ 69  33]\n",
      " [  2  27]\n",
      " [ 19  15]\n",
      " [ 71  29]\n",
      " [ 35  97]\n",
      " [ 48  49]\n",
      " [ 80  56]\n",
      " [ 63  88]\n",
      " [ 58   5]\n",
      " [ 51  61]\n",
      " [ 83  17]\n",
      " [ 45  96]\n",
      " [ 62  22]\n",
      " [ 97   9]\n",
      " [  5  76]\n",
      " [ 61  42]\n",
      " [ 16  59]\n",
      " [ 17  68]\n",
      " [ 60  25]\n",
      " [ 14  61]\n",
      " [ 53  81]\n",
      " [ 29  70]\n",
      " [ 28  74]\n",
      " [  5 100]\n",
      " [100  84]\n",
      " [ 55  50]\n",
      " [ 86  53]\n",
      " [ 10  43]\n",
      " [ 59  30]\n",
      " [ 59  14]]\n",
      "100\n",
      "[[0. 0. 0. ... 0. 0. 0.]\n",
      " [0. 0. 0. ... 0. 0. 0.]\n",
      " [0. 0. 0. ... 0. 0. 0.]\n",
      " ...\n",
      " [0. 0. 0. ... 0. 0. 0.]\n",
      " [0. 0. 0. ... 0. 0. 0.]\n",
      " [0. 0. 0. ... 0. 0. 0.]]\n",
      "34.0147027033899\n"
     ]
    }
   ],
   "source": [
    "coordinates = np.random.randint(0,101,200).reshape(100,2)\n",
    "print(\"Coordinates\",coordinates)\n",
    "n = coordinates.shape[0]\n",
    "print(n)\n",
    "distances = np.zeros((n, n))\n",
    "print(distances)\n",
    "for i in range(n):\n",
    "    for j in range(n):\n",
    "        diff = coordinates[i] - coordinates[j]\n",
    "        distances[i, j] = np.sqrt(np.dot(diff, diff))\n",
    "\n",
    "print(distances[0, 1])"
   ]
  },
  {
   "cell_type": "markdown",
   "id": "343c5a85",
   "metadata": {},
   "source": [
    "#### 53. How to convert a float (32 bits) array into an integer (32 bits) in place?"
   ]
  },
  {
   "cell_type": "code",
   "execution_count": 16,
   "id": "fc1b687b",
   "metadata": {},
   "outputs": [
    {
     "name": "stdout",
     "output_type": "stream",
     "text": [
      "[1078523331 1076719780 1070537376]\n"
     ]
    }
   ],
   "source": [
    "float_array = np.array([3.14, 2.71, 1.618], dtype=np.float32)\n",
    "int_array = np.empty_like(float_array, dtype=np.int32)\n",
    "np.copyto(int_array, float_array.view(np.int32))\n",
    "print(int_array)"
   ]
  },
  {
   "cell_type": "markdown",
   "id": "a69e1ace",
   "metadata": {},
   "source": [
    "#### 54. How to read the following file? (★★☆)\n",
    "```\n",
    "1, 2, 3, 4, 5\n",
    "6,  ,  , 7, 8\n",
    " ,  , 9,10,11\n",
    "```"
   ]
  },
  {
   "cell_type": "code",
   "execution_count": 17,
   "id": "1c7957d4",
   "metadata": {},
   "outputs": [
    {
     "name": "stderr",
     "output_type": "stream",
     "text": [
      "C:\\Users\\aaa\\AppData\\Local\\Temp\\ipykernel_13976\\1832704907.py:15: FutureWarning: In the future `np.object` will be defined as the corresponding NumPy scalar.\n",
      "  array = np.array(data_list, dtype=np.object)\n"
     ]
    },
    {
     "ename": "AttributeError",
     "evalue": "module 'numpy' has no attribute 'object'.\n`np.object` was a deprecated alias for the builtin `object`. To avoid this error in existing code, use `object` by itself. Doing this will not modify any behavior and is safe. \nThe aliases was originally deprecated in NumPy 1.20; for more details and guidance see the original release note at:\n    https://numpy.org/devdocs/release/1.20.0-notes.html#deprecations",
     "output_type": "error",
     "traceback": [
      "\u001b[1;31m---------------------------------------------------------------------------\u001b[0m",
      "\u001b[1;31mAttributeError\u001b[0m                            Traceback (most recent call last)",
      "Cell \u001b[1;32mIn[17], line 15\u001b[0m\n\u001b[0;32m     12\u001b[0m         \u001b[38;5;28;01melse\u001b[39;00m:\n\u001b[0;32m     13\u001b[0m             data_list[i][j] \u001b[38;5;241m=\u001b[39m \u001b[38;5;28mint\u001b[39m(data_list[i][j])\n\u001b[1;32m---> 15\u001b[0m array \u001b[38;5;241m=\u001b[39m np\u001b[38;5;241m.\u001b[39marray(data_list, dtype\u001b[38;5;241m=\u001b[39m\u001b[43mnp\u001b[49m\u001b[38;5;241;43m.\u001b[39;49m\u001b[43mobject\u001b[49m)\n\u001b[0;32m     17\u001b[0m \u001b[38;5;28mprint\u001b[39m(array)\n",
      "File \u001b[1;32m~\\AppData\\Roaming\\Python\\Python310\\site-packages\\numpy\\__init__.py:338\u001b[0m, in \u001b[0;36m__getattr__\u001b[1;34m(attr)\u001b[0m\n\u001b[0;32m    333\u001b[0m     warnings\u001b[38;5;241m.\u001b[39mwarn(\n\u001b[0;32m    334\u001b[0m         \u001b[38;5;124mf\u001b[39m\u001b[38;5;124m\"\u001b[39m\u001b[38;5;124mIn the future `np.\u001b[39m\u001b[38;5;132;01m{\u001b[39;00mattr\u001b[38;5;132;01m}\u001b[39;00m\u001b[38;5;124m` will be defined as the \u001b[39m\u001b[38;5;124m\"\u001b[39m\n\u001b[0;32m    335\u001b[0m         \u001b[38;5;124m\"\u001b[39m\u001b[38;5;124mcorresponding NumPy scalar.\u001b[39m\u001b[38;5;124m\"\u001b[39m, \u001b[38;5;167;01mFutureWarning\u001b[39;00m, stacklevel\u001b[38;5;241m=\u001b[39m\u001b[38;5;241m2\u001b[39m)\n\u001b[0;32m    337\u001b[0m \u001b[38;5;28;01mif\u001b[39;00m attr \u001b[38;5;129;01min\u001b[39;00m __former_attrs__:\n\u001b[1;32m--> 338\u001b[0m     \u001b[38;5;28;01mraise\u001b[39;00m \u001b[38;5;167;01mAttributeError\u001b[39;00m(__former_attrs__[attr])\n\u001b[0;32m    340\u001b[0m \u001b[38;5;28;01mif\u001b[39;00m attr \u001b[38;5;241m==\u001b[39m \u001b[38;5;124m'\u001b[39m\u001b[38;5;124mtesting\u001b[39m\u001b[38;5;124m'\u001b[39m:\n\u001b[0;32m    341\u001b[0m     \u001b[38;5;28;01mimport\u001b[39;00m\u001b[38;5;250m \u001b[39m\u001b[38;5;21;01mnumpy\u001b[39;00m\u001b[38;5;21;01m.\u001b[39;00m\u001b[38;5;21;01mtesting\u001b[39;00m\u001b[38;5;250m \u001b[39m\u001b[38;5;28;01mas\u001b[39;00m\u001b[38;5;250m \u001b[39m\u001b[38;5;21;01mtesting\u001b[39;00m\n",
      "\u001b[1;31mAttributeError\u001b[0m: module 'numpy' has no attribute 'object'.\n`np.object` was a deprecated alias for the builtin `object`. To avoid this error in existing code, use `object` by itself. Doing this will not modify any behavior and is safe. \nThe aliases was originally deprecated in NumPy 1.20; for more details and guidance see the original release note at:\n    https://numpy.org/devdocs/release/1.20.0-notes.html#deprecations"
     ]
    }
   ],
   "source": [
    "data = \"\"\"1, 2, 3, 4, 5\n",
    "6,  ,  , 7, 8\n",
    " ,  , 9,10,11\"\"\"\n",
    "\n",
    "rows = data.strip().split('\\n')\n",
    "data_list = [row.split(',') for row in rows]\n",
    "\n",
    "for i in range(len(data_list)):\n",
    "    for j in range(len(data_list[i])):\n",
    "        if data_list[i][j].strip() == '':\n",
    "            data_list[i][j] = None\n",
    "        else:\n",
    "            data_list[i][j] = int(data_list[i][j])\n",
    "\n",
    "array = np.array(data_list, dtype=np.object)\n",
    "\n",
    "print(array)"
   ]
  },
  {
   "cell_type": "markdown",
   "id": "c23bd80d",
   "metadata": {},
   "source": [
    "#### 55. What is the equivalent of enumerate for numpy arrays? (★★☆)"
   ]
  },
  {
   "cell_type": "code",
   "execution_count": 174,
   "id": "d95d9578",
   "metadata": {},
   "outputs": [
    {
     "name": "stdout",
     "output_type": "stream",
     "text": [
      "Index: (0, 0), Value: 1\n",
      "Index: (0, 1), Value: 2\n",
      "Index: (0, 2), Value: 3\n",
      "Index: (1, 0), Value: 4\n",
      "Index: (1, 1), Value: 5\n",
      "Index: (1, 2), Value: 6\n",
      "Index: (2, 0), Value: 7\n",
      "Index: (2, 1), Value: 8\n",
      "Index: (2, 2), Value: 9\n"
     ]
    }
   ],
   "source": [
    "arr = np.array([[1, 2, 3],[4, 5, 6],[7, 8, 9]])\n",
    "for index, value in np.ndenumerate(arr):\n",
    "    print(f\"Index: {index}, Value: {value}\")"
   ]
  },
  {
   "cell_type": "markdown",
   "id": "2153a5ec",
   "metadata": {},
   "source": [
    "#### 56. Generate a generic 2D Gaussian-like array (★★☆)"
   ]
  },
  {
   "cell_type": "code",
   "execution_count": 18,
   "id": "61122d1e",
   "metadata": {},
   "outputs": [
    {
     "name": "stdout",
     "output_type": "stream",
     "text": [
      "[[4.53999298e-05 1.08908770e-04 2.03468369e-04 2.96044730e-04\n",
      "  3.35462628e-04 2.96044730e-04 2.03468369e-04 1.08908770e-04\n",
      "  4.53999298e-05 1.47391992e-05]\n",
      " [1.50343919e-03 3.60656314e-03 6.73794700e-03 9.80365504e-03\n",
      "  1.11089965e-02 9.80365504e-03 6.73794700e-03 3.60656314e-03\n",
      "  1.50343919e-03 4.88095244e-04]\n",
      " [1.83156389e-02 4.39369336e-02 8.20849986e-02 1.19432968e-01\n",
      "  1.35335283e-01 1.19432968e-01 8.20849986e-02 4.39369336e-02\n",
      "  1.83156389e-02 5.94621736e-03]\n",
      " [8.20849986e-02 1.96911675e-01 3.67879441e-01 5.35261429e-01\n",
      "  6.06530660e-01 5.35261429e-01 3.67879441e-01 1.96911675e-01\n",
      "  8.20849986e-02 2.66490973e-02]\n",
      " [1.35335283e-01 3.24652467e-01 6.06530660e-01 8.82496903e-01\n",
      "  1.00000000e+00 8.82496903e-01 6.06530660e-01 3.24652467e-01\n",
      "  1.35335283e-01 4.39369336e-02]\n",
      " [8.20849986e-02 1.96911675e-01 3.67879441e-01 5.35261429e-01\n",
      "  6.06530660e-01 5.35261429e-01 3.67879441e-01 1.96911675e-01\n",
      "  8.20849986e-02 2.66490973e-02]\n",
      " [1.83156389e-02 4.39369336e-02 8.20849986e-02 1.19432968e-01\n",
      "  1.35335283e-01 1.19432968e-01 8.20849986e-02 4.39369336e-02\n",
      "  1.83156389e-02 5.94621736e-03]\n",
      " [1.50343919e-03 3.60656314e-03 6.73794700e-03 9.80365504e-03\n",
      "  1.11089965e-02 9.80365504e-03 6.73794700e-03 3.60656314e-03\n",
      "  1.50343919e-03 4.88095244e-04]\n",
      " [4.53999298e-05 1.08908770e-04 2.03468369e-04 2.96044730e-04\n",
      "  3.35462628e-04 2.96044730e-04 2.03468369e-04 1.08908770e-04\n",
      "  4.53999298e-05 1.47391992e-05]\n",
      " [5.04347663e-07 1.20986715e-06 2.26032941e-06 3.28875988e-06\n",
      "  3.72665317e-06 3.28875988e-06 2.26032941e-06 1.20986715e-06\n",
      "  5.04347663e-07 1.63737713e-07]]\n"
     ]
    }
   ],
   "source": [
    "shape = (10, 10)\n",
    "\n",
    "amplitude = 1\n",
    "x0, y0 = 4, 4\n",
    "sigma_x, sigma_y = 2, 1\n",
    "\n",
    "x, y = np.meshgrid(np.arange(shape[1]), np.arange(shape[0]))\n",
    "exponent = -((x - x0) ** 2 / (2 * sigma_x ** 2) + (y - y0) ** 2 / (2 * sigma_y ** 2))\n",
    "gaussian_array = amplitude * np.exp(exponent)\n",
    "\n",
    "print(gaussian_array)"
   ]
  },
  {
   "cell_type": "markdown",
   "id": "2e76d589",
   "metadata": {},
   "source": [
    "#### 57. How to randomly place p elements in a 2D array? (★★☆)"
   ]
  },
  {
   "cell_type": "code",
   "execution_count": 19,
   "id": "0c2e4fcc",
   "metadata": {},
   "outputs": [
    {
     "name": "stdout",
     "output_type": "stream",
     "text": [
      "[[1 1 0 0 0]\n",
      " [0 0 1 0 1]\n",
      " [1 0 0 0 1]\n",
      " [0 0 1 0 0]\n",
      " [1 1 1 0 0]]\n"
     ]
    }
   ],
   "source": [
    "shape = (5, 5)\n",
    "p = 10\n",
    "\n",
    "array = np.zeros(shape, dtype=int)\n",
    "\n",
    "indices = np.random.choice(np.arange(shape[0] * shape[1]), p, replace=False)\n",
    "\n",
    "array.flat[indices] = 1\n",
    "\n",
    "print(array)"
   ]
  },
  {
   "cell_type": "markdown",
   "id": "8b3933eb",
   "metadata": {},
   "source": [
    "#### 58. Subtract the mean of each row of a matrix (★★☆)"
   ]
  },
  {
   "cell_type": "code",
   "execution_count": 184,
   "id": "a306c9ef",
   "metadata": {},
   "outputs": [
    {
     "name": "stdout",
     "output_type": "stream",
     "text": [
      "[[ 9 10 11  7]\n",
      " [13 12  3 18]\n",
      " [ 8  8  7  6]\n",
      " [10 13  9  2]]\n",
      "[ 9.25 11.5   7.25  8.5 ]\n",
      "[[ 9.25 11.5   7.25  8.5 ]]\n",
      "[[-0.25 -1.5   3.75 -1.5 ]\n",
      " [ 3.75  0.5  -4.25  9.5 ]\n",
      " [-1.25 -3.5  -0.25 -2.5 ]\n",
      " [ 0.75  1.5   1.75 -6.5 ]]\n"
     ]
    }
   ],
   "source": [
    "m=np.random.randint(1,20,(4,4))\n",
    "print(m)\n",
    "row_mean=np.mean(m,axis=1)\n",
    "print(row_mean)\n",
    "print(row_mean[np.newaxis])\n",
    "m_new=m-row_mean[np.newaxis]\n",
    "print(m_new)"
   ]
  },
  {
   "cell_type": "markdown",
   "id": "ea8807c0",
   "metadata": {},
   "source": [
    "#### 59. How to sort an array by the nth column? (★★☆)"
   ]
  },
  {
   "cell_type": "code",
   "execution_count": 22,
   "id": "cc89a699",
   "metadata": {},
   "outputs": [
    {
     "name": "stdout",
     "output_type": "stream",
     "text": [
      "[[5 2 8]\n",
      " [7 4 6]\n",
      " [3 9 1]]\n"
     ]
    }
   ],
   "source": [
    "arr = np.array([[5, 2, 8],[3, 9, 1],[7, 4, 6]])\n",
    "n = 1\n",
    "sorted_indices = np.argsort(arr[:, n])\n",
    "sorted_arr = arr[sorted_indices]\n",
    "print(sorted_arr)"
   ]
  },
  {
   "cell_type": "markdown",
   "id": "00fa00a1",
   "metadata": {},
   "source": [
    "#### 60. How to tell if a given 2D array has null columns? (★★☆)"
   ]
  },
  {
   "cell_type": "code",
   "execution_count": 23,
   "id": "3436e165",
   "metadata": {},
   "outputs": [
    {
     "name": "stdout",
     "output_type": "stream",
     "text": [
      "The array has null columns.\n"
     ]
    }
   ],
   "source": [
    "arr = np.array([[1, 0, 0],[0, 0, 0],[4, 0, 0],[0, 2, 0]])\n",
    "null_columns = np.all(arr == 0, axis=0)\n",
    "if np.any(null_columns):\n",
    "    print(\"The array has null columns.\")\n",
    "else:\n",
    "    print(\"The array does not have null columns.\")"
   ]
  },
  {
   "cell_type": "markdown",
   "id": "5a65c7a2",
   "metadata": {},
   "source": [
    "#### 61. Find the nearest value from a given value in an array (★★☆)"
   ]
  },
  {
   "cell_type": "code",
   "execution_count": 24,
   "id": "73f149d6",
   "metadata": {},
   "outputs": [
    {
     "name": "stdout",
     "output_type": "stream",
     "text": [
      "Nearest Value: 4.8\n",
      "Index of Nearest Value: 2\n"
     ]
    }
   ],
   "source": [
    "arr = np.array([2.5, 1.0, 4.8, 3.2, 7.1])\n",
    "# target_value = int(input(\"Enter a value: \"))\n",
    "target_value = 5\n",
    "differences = np.abs(arr - target_value)\n",
    "nearest_index = differences.argmin()\n",
    "nearest_value = arr[nearest_index]\n",
    "print(\"Nearest Value:\", nearest_value)\n",
    "print(\"Index of Nearest Value:\", nearest_index)"
   ]
  },
  {
   "cell_type": "markdown",
   "id": "dd83e8af",
   "metadata": {},
   "source": [
    "#### 62. Considering two arrays with shape (1,3) and (3,1), how to compute their sum using an iterator? (★★☆)"
   ]
  },
  {
   "cell_type": "code",
   "execution_count": 25,
   "id": "29a709a1",
   "metadata": {},
   "outputs": [
    {
     "name": "stdout",
     "output_type": "stream",
     "text": [
      "Sum of the two arrays: 21\n"
     ]
    }
   ],
   "source": [
    "array1 = np.array([[1, 2, 3]])\n",
    "array2 = np.array([[4],\n",
    "                   [5],\n",
    "                   [6]])\n",
    "\n",
    "iterator1 = np.nditer(array1)\n",
    "iterator2 = np.nditer(array2)\n",
    "\n",
    "total_sum = 0\n",
    "\n",
    "for val1, val2 in zip(iterator1, iterator2):\n",
    "    total_sum += val1 + val2\n",
    "\n",
    "print(\"Sum of the two arrays:\", total_sum)"
   ]
  },
  {
   "cell_type": "markdown",
   "id": "6c042efa",
   "metadata": {},
   "source": [
    "#### 63. Create an array class that has a name attribute (★★☆)"
   ]
  },
  {
   "cell_type": "code",
   "execution_count": 28,
   "id": "45b3d2e0",
   "metadata": {},
   "outputs": [
    {
     "name": "stdout",
     "output_type": "stream",
     "text": [
      "Custom Array\n",
      "[[1 2 3]\n",
      " [4 5 6]\n",
      " [7 8 9]]\n"
     ]
    }
   ],
   "source": [
    "class array:\n",
    "    def __init__(self, array, name):\n",
    "        self.array = array\n",
    "        self.name = name\n",
    "\n",
    "data = [[1, 2, 3], [4, 5, 6], [7, 8, 9]]\n",
    "name = \"Custom Array\"\n",
    "custom_array = array(np.array(data), name)\n",
    "\n",
    "print(custom_array.name)\n",
    "print(custom_array.array)"
   ]
  },
  {
   "cell_type": "markdown",
   "id": "0a075c3d",
   "metadata": {},
   "source": [
    "#### 64. Consider a given vector, how to add 1 to each element indexed by a second vector (be careful with repeated indices)? (★★★)"
   ]
  },
  {
   "cell_type": "code",
   "execution_count": 29,
   "id": "36c50470",
   "metadata": {},
   "outputs": [
    {
     "name": "stdout",
     "output_type": "stream",
     "text": [
      "Original Vector: [1 2 3 4 5]\n",
      "Indices to Increment: [1 3 3 4]\n",
      "Result Vector: [1 3 3 5 6]\n"
     ]
    }
   ],
   "source": [
    "original_vector = np.array([1, 2, 3, 4, 5])\n",
    "indices_to_increment = np.array([1, 3, 3, 4])\n",
    "\n",
    "mask = np.zeros_like(original_vector)\n",
    "mask_indices = np.unique(indices_to_increment)\n",
    "mask[mask_indices] = 1\n",
    "\n",
    "result_vector = original_vector + mask\n",
    "\n",
    "print(\"Original Vector:\", original_vector)\n",
    "print(\"Indices to Increment:\", indices_to_increment)\n",
    "print(\"Result Vector:\", result_vector)"
   ]
  },
  {
   "cell_type": "markdown",
   "id": "0fb2f0c5",
   "metadata": {},
   "source": [
    "#### 65. How to accumulate elements of a vector (X) to an array (F) based on an index list (I)? (★★★)"
   ]
  },
  {
   "cell_type": "code",
   "execution_count": 30,
   "id": "58aa5f82",
   "metadata": {},
   "outputs": [
    {
     "name": "stdout",
     "output_type": "stream",
     "text": [
      "Vector X: [1 2 3 4 5]\n",
      "Index list I: [0 2 1 4 2]\n",
      "Accumulated Array F: [1 3 2 5 3]\n"
     ]
    }
   ],
   "source": [
    "X = np.array([1, 2, 3, 4, 5])\n",
    "I = np.array([0, 2, 1, 4, 2])\n",
    "N = len(I)\n",
    "F = np.zeros(N, dtype=X.dtype)\n",
    "\n",
    "for i in range(N):\n",
    "    F[i] += X[I[i]]\n",
    "\n",
    "print(\"Vector X:\", X)\n",
    "print(\"Index list I:\", I)\n",
    "print(\"Accumulated Array F:\", F)"
   ]
  },
  {
   "cell_type": "markdown",
   "id": "d89dc506",
   "metadata": {},
   "source": [
    "#### 66. Considering a (w,h,3) image of (dtype=ubyte), compute the number of unique colors (★★☆)"
   ]
  },
  {
   "cell_type": "code",
   "execution_count": 31,
   "id": "8fb43a49",
   "metadata": {},
   "outputs": [
    {
     "name": "stdout",
     "output_type": "stream",
     "text": [
      "Number of Unique Colors: 100\n"
     ]
    }
   ],
   "source": [
    "\n",
    "image = np.random.randint(0, 256, size=(10, 10, 3), dtype=np.uint8)\n",
    "\n",
    "reshaped_image = image.reshape(-1, 3)\n",
    "\n",
    "unique_colors = np.unique(reshaped_image, axis=0)\n",
    "\n",
    "num_unique_colors = unique_colors.shape[0]\n",
    "\n",
    "print(\"Number of Unique Colors:\", num_unique_colors)"
   ]
  },
  {
   "cell_type": "markdown",
   "id": "535a5d81",
   "metadata": {},
   "source": [
    "#### 67. Considering a four dimensions array, how to get sum over the last two axis at once? (★★★)"
   ]
  },
  {
   "cell_type": "code",
   "execution_count": 32,
   "id": "f954ab9d",
   "metadata": {},
   "outputs": [
    {
     "name": "stdout",
     "output_type": "stream",
     "text": [
      "Original 4D Array Shape: (2, 3, 4, 5)\n",
      "Sum over Last Two Axes Shape: (2, 3)\n",
      "Sum over Last Two Axes:\n",
      "[[10.93724881 11.6228336   8.43992864]\n",
      " [10.4069307  10.51394127 11.27266811]]\n"
     ]
    }
   ],
   "source": [
    "array= np.random.rand(2, 3, 4, 5)\n",
    "\n",
    "sum_last_two_axes = np.sum(array, axis=(2, 3))\n",
    "\n",
    "print(\"Original 4D Array Shape:\", array.shape)\n",
    "print(\"Sum over Last Two Axes Shape:\", sum_last_two_axes.shape)\n",
    "print(\"Sum over Last Two Axes:\")\n",
    "print(sum_last_two_axes)\n"
   ]
  },
  {
   "cell_type": "markdown",
   "id": "eee66d3c",
   "metadata": {},
   "source": [
    "#### 68. Considering a one-dimensional vector D, how to compute means of subsets of D using a vector S of same size describing subset  indices? (★★★)"
   ]
  },
  {
   "cell_type": "code",
   "execution_count": 33,
   "id": "8929773a",
   "metadata": {},
   "outputs": [
    {
     "name": "stdout",
     "output_type": "stream",
     "text": [
      "Vector D: [1 2 3 4 5 6]\n",
      "Vector S: [0 1 0 1 2 2]\n",
      "Subset Means: [2.  3.  5.5]\n"
     ]
    }
   ],
   "source": [
    "D = np.array([1, 2, 3, 4, 5, 6])\n",
    "\n",
    "S = np.array([0, 1, 0, 1, 2, 2])\n",
    "\n",
    "unique_indices = np.unique(S)\n",
    "subset_means = np.zeros(len(unique_indices))\n",
    "\n",
    "for i, index in enumerate(unique_indices):\n",
    "    subset = D[S == index]\n",
    "    subset_mean = np.mean(subset)\n",
    "    subset_means[i] = subset_mean\n",
    "\n",
    "print(\"Vector D:\", D)\n",
    "print(\"Vector S:\", S)\n",
    "print(\"Subset Means:\", subset_means)"
   ]
  },
  {
   "cell_type": "markdown",
   "id": "f90d4c40",
   "metadata": {},
   "source": [
    "#### 69. How to get the diagonal of a dot product? (★★★)"
   ]
  },
  {
   "cell_type": "code",
   "execution_count": 34,
   "id": "b47d392d",
   "metadata": {},
   "outputs": [
    {
     "name": "stdout",
     "output_type": "stream",
     "text": [
      "Diagonal of Dot Product:\n",
      "[30 69 90]\n"
     ]
    }
   ],
   "source": [
    "A = np.array([[1, 2, 3],[4, 5, 6],[7, 8, 9]])\n",
    "B = np.array([[9, 8, 7],[6, 5, 4],[3, 2, 1]])\n",
    "\n",
    "dot_product = np.dot(A, B)\n",
    "diagonal = np.einsum('ii->i', dot_product)\n",
    "\n",
    "print(\"Diagonal of Dot Product:\")\n",
    "print(diagonal)"
   ]
  },
  {
   "cell_type": "markdown",
   "id": "a8a97e7d",
   "metadata": {},
   "source": [
    "#### 70. Consider the vector [1, 2, 3, 4, 5], how to build a new vector with 3 consecutive zeros interleaved between each value? (★★★)"
   ]
  },
  {
   "cell_type": "code",
   "execution_count": 35,
   "id": "ee6c6c37",
   "metadata": {},
   "outputs": [
    {
     "name": "stdout",
     "output_type": "stream",
     "text": [
      "Original Vector: [1 2 3 4 5]\n",
      "New Vector with Consecutive Zeros: [1 0 0 0 2 0 0 0 3 0 0 0 4 0 0 0 5]\n"
     ]
    }
   ],
   "source": [
    "original_vector = np.array([1, 2, 3, 4, 5])\n",
    "num_zeros = 3\n",
    "\n",
    "new_vector = np.zeros(len(original_vector) + (len(original_vector) - 1) * num_zeros, dtype=original_vector.dtype)\n",
    "new_vector[::num_zeros + 1] = original_vector\n",
    "\n",
    "print(\"Original Vector:\", original_vector)\n",
    "print(\"New Vector with Consecutive Zeros:\", new_vector)"
   ]
  },
  {
   "cell_type": "markdown",
   "id": "d6a30d60",
   "metadata": {},
   "source": [
    "#### 71. Consider an array of dimension (5,5,3), how to mulitply it by an array with dimensions (5,5)? (★★★)"
   ]
  },
  {
   "cell_type": "code",
   "execution_count": null,
   "id": "e9703f2e",
   "metadata": {},
   "outputs": [],
   "source": []
  },
  {
   "cell_type": "markdown",
   "id": "bac359a9",
   "metadata": {},
   "source": [
    "#### 72. How to swap two rows of an array? (★★★)"
   ]
  },
  {
   "cell_type": "code",
   "execution_count": null,
   "id": "f1b432b1",
   "metadata": {},
   "outputs": [],
   "source": []
  },
  {
   "cell_type": "markdown",
   "id": "620c9f83",
   "metadata": {},
   "source": [
    "#### 73. Consider a set of 10 triplets describing 10 triangles (with shared vertices), find the set of unique line segments composing all the  triangles (★★★)"
   ]
  },
  {
   "cell_type": "code",
   "execution_count": null,
   "id": "4e595ffc",
   "metadata": {},
   "outputs": [],
   "source": []
  },
  {
   "cell_type": "markdown",
   "id": "a76c55a2",
   "metadata": {},
   "source": [
    "#### 74. Given a sorted array C that corresponds to a bincount, how to produce an array A such that np.bincount(A) == C? (★★★)"
   ]
  },
  {
   "cell_type": "code",
   "execution_count": null,
   "id": "2d2ae65a",
   "metadata": {},
   "outputs": [],
   "source": []
  },
  {
   "cell_type": "markdown",
   "id": "d550c8e2",
   "metadata": {},
   "source": [
    "#### 75. How to compute averages using a sliding window over an array? (★★★)"
   ]
  },
  {
   "cell_type": "code",
   "execution_count": null,
   "id": "841c457c",
   "metadata": {},
   "outputs": [],
   "source": []
  },
  {
   "cell_type": "markdown",
   "id": "6b170b00",
   "metadata": {},
   "source": [
    "#### 76. Consider a one-dimensional array Z, build a two-dimensional array whose first row is (Z[0],Z[1],Z[2]) and each subsequent row is  shifted by 1 (last row should be (Z[-3],Z[-2],Z[-1]) (★★★)"
   ]
  },
  {
   "cell_type": "code",
   "execution_count": null,
   "id": "d9a0cf4e",
   "metadata": {},
   "outputs": [],
   "source": []
  },
  {
   "cell_type": "markdown",
   "id": "e94a5c1d",
   "metadata": {},
   "source": [
    "#### 77. How to negate a boolean, or to change the sign of a float inplace? (★★★)"
   ]
  },
  {
   "cell_type": "code",
   "execution_count": null,
   "id": "c0f9504f",
   "metadata": {},
   "outputs": [],
   "source": []
  },
  {
   "cell_type": "markdown",
   "id": "4eb8b5c1",
   "metadata": {},
   "source": [
    "#### 78. Consider 2 sets of points P0,P1 describing lines (2d) and a point p, how to compute distance from p to each line i (P0[i],P1[i])? (★★★)"
   ]
  },
  {
   "cell_type": "code",
   "execution_count": null,
   "id": "487f47ec",
   "metadata": {},
   "outputs": [],
   "source": []
  },
  {
   "cell_type": "markdown",
   "id": "3df99948",
   "metadata": {},
   "source": [
    "#### 79. Consider 2 sets of points P0,P1 describing lines (2d) and a set of points P, how to compute distance from each point j (P[j]) to each line i (P0[i],P1[i])? (★★★)"
   ]
  },
  {
   "cell_type": "code",
   "execution_count": null,
   "id": "dc2df37b",
   "metadata": {},
   "outputs": [],
   "source": []
  },
  {
   "cell_type": "markdown",
   "id": "11e972c2",
   "metadata": {},
   "source": [
    "#### 80. Consider an arbitrary array, write a function that extract a subpart with a fixed shape and centered on a given element (pad with a `fill` value when necessary) (★★★)"
   ]
  },
  {
   "cell_type": "code",
   "execution_count": null,
   "id": "0291247f",
   "metadata": {},
   "outputs": [],
   "source": []
  },
  {
   "cell_type": "markdown",
   "id": "93cfeab3",
   "metadata": {},
   "source": [
    "#### 81. Consider an array Z = [1,2,3,4,5,6,7,8,9,10,11,12,13,14], how to generate an array R = [[1,2,3,4], [2,3,4,5], [3,4,5,6], ..., [11,12,13,14]]? (★★★)"
   ]
  },
  {
   "cell_type": "code",
   "execution_count": null,
   "id": "360de791",
   "metadata": {},
   "outputs": [],
   "source": []
  },
  {
   "cell_type": "markdown",
   "id": "4c15ceff",
   "metadata": {},
   "source": [
    "#### 82. Compute a matrix rank (★★★)"
   ]
  },
  {
   "cell_type": "code",
   "execution_count": null,
   "id": "9a4272d2",
   "metadata": {},
   "outputs": [],
   "source": []
  },
  {
   "cell_type": "markdown",
   "id": "1171cb84",
   "metadata": {},
   "source": [
    "#### 83. How to find the most frequent value in an array?"
   ]
  },
  {
   "cell_type": "code",
   "execution_count": null,
   "id": "33e951c8",
   "metadata": {},
   "outputs": [],
   "source": []
  },
  {
   "cell_type": "markdown",
   "id": "04f472aa",
   "metadata": {},
   "source": [
    "#### 84. Extract all the contiguous 3x3 blocks from a random 10x10 matrix (★★★)"
   ]
  },
  {
   "cell_type": "code",
   "execution_count": null,
   "id": "7aade14a",
   "metadata": {},
   "outputs": [],
   "source": []
  },
  {
   "cell_type": "markdown",
   "id": "52836346",
   "metadata": {},
   "source": [
    "#### 85. Create a 2D array subclass such that Z[i,j] == Z[j,i] (★★★)"
   ]
  },
  {
   "cell_type": "code",
   "execution_count": null,
   "id": "4df70318",
   "metadata": {},
   "outputs": [],
   "source": []
  },
  {
   "cell_type": "markdown",
   "id": "78c43ee5",
   "metadata": {},
   "source": [
    "#### 86. Consider a set of p matrices with shape (n,n) and a set of p vectors with shape (n,1). How to compute the sum of of the p matrix products at once? (result has shape (n,1)) (★★★)"
   ]
  },
  {
   "cell_type": "code",
   "execution_count": null,
   "id": "32fd2c3b",
   "metadata": {},
   "outputs": [],
   "source": []
  },
  {
   "cell_type": "markdown",
   "id": "158f9945",
   "metadata": {},
   "source": [
    "#### 87. Consider a 16x16 array, how to get the block-sum (block size is 4x4)? (★★★)"
   ]
  },
  {
   "cell_type": "code",
   "execution_count": null,
   "id": "5a9b808f",
   "metadata": {},
   "outputs": [],
   "source": []
  },
  {
   "cell_type": "markdown",
   "id": "2e0ad860",
   "metadata": {},
   "source": [
    "#### 88. How to implement the Game of Life using numpy arrays? (★★★)"
   ]
  },
  {
   "cell_type": "code",
   "execution_count": null,
   "id": "574acff5",
   "metadata": {},
   "outputs": [],
   "source": []
  },
  {
   "cell_type": "markdown",
   "id": "69a892fa",
   "metadata": {},
   "source": [
    "#### 89. How to get the n largest values of an array (★★★)"
   ]
  },
  {
   "cell_type": "code",
   "execution_count": null,
   "id": "21b2bd48",
   "metadata": {},
   "outputs": [],
   "source": []
  },
  {
   "cell_type": "markdown",
   "id": "b55ccacc",
   "metadata": {},
   "source": [
    "#### 90. Given an arbitrary number of vectors, build the cartesian product (every combinations of every item) (★★★)"
   ]
  },
  {
   "cell_type": "code",
   "execution_count": null,
   "id": "4b645da4",
   "metadata": {},
   "outputs": [],
   "source": []
  },
  {
   "cell_type": "markdown",
   "id": "89187a23",
   "metadata": {},
   "source": [
    "#### 91. How to create a record array from a regular array? (★★★)"
   ]
  },
  {
   "cell_type": "code",
   "execution_count": null,
   "id": "da94c71a",
   "metadata": {},
   "outputs": [],
   "source": []
  },
  {
   "cell_type": "markdown",
   "id": "aa70d4ca",
   "metadata": {},
   "source": [
    "#### 92. Consider a large vector Z, compute Z to the power of 3 using 3 different methods (★★★)"
   ]
  },
  {
   "cell_type": "code",
   "execution_count": null,
   "id": "7cff1bf5",
   "metadata": {},
   "outputs": [],
   "source": []
  },
  {
   "cell_type": "markdown",
   "id": "5f79dd00",
   "metadata": {},
   "source": [
    "#### 93. Consider two arrays A and B of shape (8,3) and (2,2). How to find rows of A that contain elements of each row of B regardless of the order of the elements in B? (★★★)"
   ]
  },
  {
   "cell_type": "code",
   "execution_count": null,
   "id": "20c105b2",
   "metadata": {},
   "outputs": [],
   "source": []
  },
  {
   "cell_type": "markdown",
   "id": "a80570cd",
   "metadata": {},
   "source": [
    "#### 94. Considering a 10x3 matrix, extract rows with unequal values (e.g. [2,2,3]) (★★★)"
   ]
  },
  {
   "cell_type": "code",
   "execution_count": null,
   "id": "84db8de1",
   "metadata": {},
   "outputs": [],
   "source": []
  },
  {
   "cell_type": "markdown",
   "id": "ba154f43",
   "metadata": {},
   "source": [
    "#### 95. Convert a vector of ints into a matrix binary representation (★★★)"
   ]
  },
  {
   "cell_type": "code",
   "execution_count": null,
   "id": "cfa96e1b",
   "metadata": {},
   "outputs": [],
   "source": []
  },
  {
   "cell_type": "markdown",
   "id": "420e2343",
   "metadata": {},
   "source": [
    "#### 96. Given a two dimensional array, how to extract unique rows? (★★★)"
   ]
  },
  {
   "cell_type": "code",
   "execution_count": null,
   "id": "4680dfd0",
   "metadata": {},
   "outputs": [],
   "source": []
  },
  {
   "cell_type": "markdown",
   "id": "89fef2f3",
   "metadata": {},
   "source": [
    "#### 97. Considering 2 vectors A & B, write the einsum equivalent of inner, outer, sum, and mul function (★★★)"
   ]
  },
  {
   "cell_type": "code",
   "execution_count": null,
   "id": "bb9c14b2",
   "metadata": {},
   "outputs": [],
   "source": []
  },
  {
   "cell_type": "markdown",
   "id": "7ad5cc5f",
   "metadata": {},
   "source": [
    "#### 98. Considering a path described by two vectors (X,Y), how to sample it using equidistant samples (★★★)?"
   ]
  },
  {
   "cell_type": "code",
   "execution_count": null,
   "id": "0899d1d5",
   "metadata": {},
   "outputs": [],
   "source": []
  },
  {
   "cell_type": "markdown",
   "id": "2b69272e",
   "metadata": {},
   "source": [
    "#### 99. Given an integer n and a 2D array X, select from X the rows which can be interpreted as draws from a multinomial distribution with n degrees, i.e., the rows which only contain integers and which sum to n. (★★★)"
   ]
  },
  {
   "cell_type": "code",
   "execution_count": null,
   "id": "55c8b034",
   "metadata": {},
   "outputs": [],
   "source": []
  },
  {
   "cell_type": "markdown",
   "id": "59ab5516",
   "metadata": {},
   "source": [
    "#### 100. Compute bootstrapped 95% confidence intervals for the mean of a 1D array X (i.e., resample the elements of an array with replacement N times, compute the mean of each sample, and then compute percentiles over the means). (★★★)"
   ]
  },
  {
   "cell_type": "code",
   "execution_count": null,
   "id": "450877d8",
   "metadata": {},
   "outputs": [],
   "source": []
  }
 ],
 "metadata": {
  "kernelspec": {
   "display_name": "Python 3",
   "language": "python",
   "name": "python3"
  },
  "language_info": {
   "codemirror_mode": {
    "name": "ipython",
    "version": 3
   },
   "file_extension": ".py",
   "mimetype": "text/x-python",
   "name": "python",
   "nbconvert_exporter": "python",
   "pygments_lexer": "ipython3",
   "version": "3.10.0"
  }
 },
 "nbformat": 4,
 "nbformat_minor": 5
}
