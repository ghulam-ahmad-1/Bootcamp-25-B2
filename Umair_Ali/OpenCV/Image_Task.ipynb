{
 "cells": [
  {
   "cell_type": "code",
   "execution_count": 44,
   "id": "dd9c9859-68e0-489f-959e-011ce254a247",
   "metadata": {},
   "outputs": [],
   "source": [
    "import cv2\n",
    "import os\n",
    "import numpy as np"
   ]
  },
  {
   "cell_type": "code",
   "execution_count": 24,
   "id": "76632b9e-f9dd-4bc4-9412-c8d0a25a78b4",
   "metadata": {},
   "outputs": [
    {
     "name": "stdout",
     "output_type": "stream",
     "text": [
      "[[[13 19 24]\n",
      "  [13 19 24]\n",
      "  [13 19 24]\n",
      "  ...\n",
      "  [13 19 24]\n",
      "  [13 19 24]\n",
      "  [13 19 24]]\n",
      "\n",
      " [[13 19 24]\n",
      "  [13 19 24]\n",
      "  [13 19 24]\n",
      "  ...\n",
      "  [13 19 24]\n",
      "  [13 19 24]\n",
      "  [13 19 24]]\n",
      "\n",
      " [[13 19 24]\n",
      "  [13 19 24]\n",
      "  [12 18 23]\n",
      "  ...\n",
      "  [12 18 23]\n",
      "  [13 19 24]\n",
      "  [13 19 24]]\n",
      "\n",
      " ...\n",
      "\n",
      " [[22 33 37]\n",
      "  [31 42 46]\n",
      "  [37 48 52]\n",
      "  ...\n",
      "  [14 12 11]\n",
      "  [13 11 10]\n",
      "  [14 12 11]]\n",
      "\n",
      " [[22 33 37]\n",
      "  [31 42 46]\n",
      "  [37 48 52]\n",
      "  ...\n",
      "  [18 16 15]\n",
      "  [15 13 12]\n",
      "  [12 10  9]]\n",
      "\n",
      " [[22 33 37]\n",
      "  [31 42 46]\n",
      "  [37 48 52]\n",
      "  ...\n",
      "  [23 21 20]\n",
      "  [17 15 14]\n",
      "  [11  9  8]]]\n"
     ]
    }
   ],
   "source": [
    "img=cv2.imread('img_1.jpg')\n",
    "print(img)"
   ]
  },
  {
   "cell_type": "code",
   "execution_count": null,
   "id": "59cb8bec-774c-4803-b014-789d99deae3a",
   "metadata": {},
   "outputs": [],
   "source": []
  },
  {
   "cell_type": "code",
   "execution_count": 26,
   "id": "94283429-4861-4cc0-9e86-931e6c2b60c6",
   "metadata": {},
   "outputs": [
    {
     "name": "stdout",
     "output_type": "stream",
     "text": [
      "[[[ 16 117  24]\n",
      "  [ 16 117  24]\n",
      "  [ 16 117  24]\n",
      "  ...\n",
      "  [ 16 117  24]\n",
      "  [ 16 117  24]\n",
      "  [ 16 117  24]]\n",
      "\n",
      " [[ 16 117  24]\n",
      "  [ 16 117  24]\n",
      "  [ 16 117  24]\n",
      "  ...\n",
      "  [ 16 117  24]\n",
      "  [ 16 117  24]\n",
      "  [ 16 117  24]]\n",
      "\n",
      " [[ 16 117  24]\n",
      "  [ 16 117  24]\n",
      "  [ 16 122  23]\n",
      "  ...\n",
      "  [ 16 122  23]\n",
      "  [ 16 117  24]\n",
      "  [ 16 117  24]]\n",
      "\n",
      " ...\n",
      "\n",
      " [[ 22 103  37]\n",
      "  [ 22  83  46]\n",
      "  [ 22  74  52]\n",
      "  ...\n",
      "  [110  55  14]\n",
      "  [110  59  13]\n",
      "  [110  55  14]]\n",
      "\n",
      " [[ 22 103  37]\n",
      "  [ 22  83  46]\n",
      "  [ 22  74  52]\n",
      "  ...\n",
      "  [110  43  18]\n",
      "  [110  51  15]\n",
      "  [110  64  12]]\n",
      "\n",
      " [[ 22 103  37]\n",
      "  [ 22  83  46]\n",
      "  [ 22  74  52]\n",
      "  ...\n",
      "  [110  33  23]\n",
      "  [110  45  17]\n",
      "  [110  70  11]]]\n"
     ]
    }
   ],
   "source": [
    "hsv_img = cv2.cvtColor(img, cv2.COLOR_BGR2HSV)\n",
    "print(hsv_img)"
   ]
  },
  {
   "cell_type": "code",
   "execution_count": null,
   "id": "cb7eeb9e-77a9-4a5b-8e92-38a493c9dbd1",
   "metadata": {},
   "outputs": [],
   "source": []
  },
  {
   "cell_type": "code",
   "execution_count": 27,
   "id": "b20723c6-8c64-4cf0-9bf5-6df2e16f1501",
   "metadata": {},
   "outputs": [],
   "source": [
    "lower_red1 = np.array([0, 100, 100])\n",
    "upper_red1 = np.array([10, 255, 255])"
   ]
  },
  {
   "cell_type": "code",
   "execution_count": 28,
   "id": "ec84fb2b-3201-42ec-a17c-768d559c8d1a",
   "metadata": {},
   "outputs": [],
   "source": [
    "lower_red2 = np.array([160, 100, 100])\n",
    "upper_red2 = np.array([180, 255, 255])\n"
   ]
  },
  {
   "cell_type": "code",
   "execution_count": 29,
   "id": "574be3ab-250d-464c-a6a3-530759a484bd",
   "metadata": {},
   "outputs": [],
   "source": [
    "mask1 = cv2.inRange(hsv_img, lower_red1, upper_red1)\n",
    "mask2 = cv2.inRange(hsv_img, lower_red2, upper_red2)"
   ]
  },
  {
   "cell_type": "code",
   "execution_count": null,
   "id": "efda1e2f-3d11-4e7b-8943-79e6ef8c1b2e",
   "metadata": {},
   "outputs": [],
   "source": []
  },
  {
   "cell_type": "code",
   "execution_count": 30,
   "id": "486a0786-e56b-463f-98e6-c96b702ca3cb",
   "metadata": {},
   "outputs": [],
   "source": [
    "red_mask = cv2.bitwise_or(mask1, mask2)"
   ]
  },
  {
   "cell_type": "code",
   "execution_count": 31,
   "id": "37133a12-691e-488c-a2e8-f3daf5f4e399",
   "metadata": {},
   "outputs": [],
   "source": [
    "kernel = np.ones((5, 5), np.uint8)\n",
    "red_mask = cv2.morphologyEx(red_mask, cv2.MORPH_OPEN, kernel)\n",
    "red_mask = cv2.morphologyEx(red_mask, cv2.MORPH_CLOSE, kernel)"
   ]
  },
  {
   "cell_type": "code",
   "execution_count": 32,
   "id": "0dde6279-8e23-40a6-b640-104772e7223b",
   "metadata": {},
   "outputs": [],
   "source": [
    "white = np.array([255, 255, 255], dtype=np.uint8)"
   ]
  },
  {
   "cell_type": "code",
   "execution_count": 33,
   "id": "d0f78c3e-4626-4381-841c-1515f8e899e5",
   "metadata": {},
   "outputs": [],
   "source": [
    "result_img = img.copy()"
   ]
  },
  {
   "cell_type": "code",
   "execution_count": 34,
   "id": "98eded65-f1db-4d01-b6d6-d8c19dafe1d6",
   "metadata": {},
   "outputs": [],
   "source": [
    "result_img[red_mask > 0] = white"
   ]
  },
  {
   "cell_type": "code",
   "execution_count": 35,
   "id": "456ecbbd-de99-46b1-84e3-436c81869649",
   "metadata": {},
   "outputs": [
    {
     "data": {
      "text/plain": [
       "array([[[13, 19, 24],\n",
       "        [13, 19, 24],\n",
       "        [13, 19, 24],\n",
       "        ...,\n",
       "        [13, 19, 24],\n",
       "        [13, 19, 24],\n",
       "        [13, 19, 24]],\n",
       "\n",
       "       [[13, 19, 24],\n",
       "        [13, 19, 24],\n",
       "        [13, 19, 24],\n",
       "        ...,\n",
       "        [13, 19, 24],\n",
       "        [13, 19, 24],\n",
       "        [13, 19, 24]],\n",
       "\n",
       "       [[13, 19, 24],\n",
       "        [13, 19, 24],\n",
       "        [12, 18, 23],\n",
       "        ...,\n",
       "        [12, 18, 23],\n",
       "        [13, 19, 24],\n",
       "        [13, 19, 24]],\n",
       "\n",
       "       ...,\n",
       "\n",
       "       [[22, 33, 37],\n",
       "        [31, 42, 46],\n",
       "        [37, 48, 52],\n",
       "        ...,\n",
       "        [14, 12, 11],\n",
       "        [13, 11, 10],\n",
       "        [14, 12, 11]],\n",
       "\n",
       "       [[22, 33, 37],\n",
       "        [31, 42, 46],\n",
       "        [37, 48, 52],\n",
       "        ...,\n",
       "        [18, 16, 15],\n",
       "        [15, 13, 12],\n",
       "        [12, 10,  9]],\n",
       "\n",
       "       [[22, 33, 37],\n",
       "        [31, 42, 46],\n",
       "        [37, 48, 52],\n",
       "        ...,\n",
       "        [23, 21, 20],\n",
       "        [17, 15, 14],\n",
       "        [11,  9,  8]]], dtype=uint8)"
      ]
     },
     "execution_count": 35,
     "metadata": {},
     "output_type": "execute_result"
    }
   ],
   "source": [
    "result_img"
   ]
  },
  {
   "cell_type": "code",
   "execution_count": 36,
   "id": "659bf41c-5823-4906-b62e-19a55bafd472",
   "metadata": {},
   "outputs": [],
   "source": [
    "cv2.imshow(\"picture\",result_img)\n",
    "cv2.waitKey(0)\n",
    "cv2.destroyAllWindows()"
   ]
  },
  {
   "cell_type": "code",
   "execution_count": 49,
   "id": "9ca39267-4038-4a6a-8ce6-8f9c8e599793",
   "metadata": {},
   "outputs": [],
   "source": [
    "dim_value=[img,hsv_img,mask1,mask2,result_img]\n",
    "image_title=[\"Real_img\",\"HSV_img\",\"Mask1_img\",\"Mask2_img\",\"Final_img\"]"
   ]
  },
  {
   "cell_type": "code",
   "execution_count": 50,
   "id": "03aa9887-37e1-45ca-852a-090ad32c9d86",
   "metadata": {},
   "outputs": [],
   "source": [
    "# os.mkdir(\"Task jun 25\")"
   ]
  },
  {
   "cell_type": "code",
   "execution_count": 51,
   "id": "6092d0f3-636d-4064-9aff-6a99c4a46329",
   "metadata": {},
   "outputs": [],
   "source": [
    "foldre=\"Task jun 25\""
   ]
  },
  {
   "cell_type": "code",
   "execution_count": 54,
   "id": "018e6943-f5ae-4bb8-8936-b9199816c94f",
   "metadata": {},
   "outputs": [],
   "source": [
    "for i in range(len(dim_value)):\n",
    "    cv2.imwrite(image_title[i] + '.jpg', dim_value[i])"
   ]
  },
  {
   "cell_type": "code",
   "execution_count": 56,
   "id": "0b3e0dbd-0db2-48b4-b0fd-6620966d6676",
   "metadata": {},
   "outputs": [],
   "source": [
    "imgs=[\"Real_img.jpg\",\"HSV_img.jpg\",\"Mask1_img.jpg\",\"Mask2_img.jpg\",\"Final_img.jpg\"]"
   ]
  },
  {
   "cell_type": "code",
   "execution_count": null,
   "id": "a2aa3149-71b2-4c68-930a-8d9cc3555699",
   "metadata": {},
   "outputs": [],
   "source": []
  },
  {
   "cell_type": "code",
   "execution_count": null,
   "id": "bf9aa211-e072-4237-98b2-240dd0b5d37c",
   "metadata": {},
   "outputs": [],
   "source": []
  }
 ],
 "metadata": {
  "kernelspec": {
   "display_name": "Python 3 (ipykernel)",
   "language": "python",
   "name": "python3"
  },
  "language_info": {
   "codemirror_mode": {
    "name": "ipython",
    "version": 3
   },
   "file_extension": ".py",
   "mimetype": "text/x-python",
   "name": "python",
   "nbconvert_exporter": "python",
   "pygments_lexer": "ipython3",
   "version": "3.13.3"
  }
 },
 "nbformat": 4,
 "nbformat_minor": 5
}
