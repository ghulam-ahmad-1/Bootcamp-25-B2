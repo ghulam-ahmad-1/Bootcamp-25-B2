{
 "cells": [
  {
   "cell_type": "markdown",
   "id": "ae0ad9d2-1f51-46a1-8ed2-2b00ed414cc6",
   "metadata": {},
   "source": [
    "# 1. Reverse a String\n",
    "## Problem Statement:\n",
    "Write a function to reverse a given string.\n",
    "\n",
    "## Example 1:\n",
    "**Input:** `\"hello\"`  \n",
    "**Output:** `\"olleh\"`\n",
    "\n",
    "## Example 2:\n",
    "**Input:** `\"world\"`  \n",
    "**Output:** `\"dlrow\"`\n"
   ]
  },
  {
   "cell_type": "code",
   "execution_count": 1,
   "id": "e1435aa7-457c-4b05-ad71-fc7204bb88d7",
   "metadata": {},
   "outputs": [],
   "source": [
    "def function(string):\n",
    "    rev=string[: : -1]\n",
    "    return rev"
   ]
  },
  {
   "cell_type": "code",
   "execution_count": 3,
   "id": "1f15a4a5-58a6-4b21-b178-575c8b4790f2",
   "metadata": {},
   "outputs": [
    {
     "name": "stdout",
     "output_type": "stream",
     "text": [
      "hello\n",
      "olleh\n"
     ]
    }
   ],
   "source": [
    "\n",
    "input=\"hello\"\n",
    "output=function(input)\n",
    "print(input)\n",
    "print(output)"
   ]
  },
  {
   "cell_type": "markdown",
   "id": "5a3927f5-6184-40a6-b3f8-34cd08ef19a1",
   "metadata": {},
   "source": [
    "# 2. Check if a String is a Palindrome\n",
    "## Problem Statement:\n",
    "Write a function to check if a string is a palindrome (same forward and backward).\n",
    "\n",
    "## Example 1:\n",
    "**Input:** `\"madam\"`  \n",
    "**Output:** `True`\n",
    "\n",
    "## Example 2:\n",
    "**Input:** `\"hello\"`  \n",
    "**Output:** `False`\n"
   ]
  },
  {
   "cell_type": "code",
   "execution_count": 4,
   "id": "e10e83ef-aacb-4764-9c1a-dc28c3d0b3df",
   "metadata": {},
   "outputs": [
    {
     "name": "stdout",
     "output_type": "stream",
     "text": [
      "True\n"
     ]
    }
   ],
   "source": [
    "str_ = \"madam\"\n",
    "is_palindrome = True\n",
    "\n",
    "for i in range(0, int(len(str_)/2)):\n",
    "    if str_[i] != str_[-(i+1)]:\n",
    "        print(\"False\")\n",
    "        is_palindrome = False\n",
    "        break\n",
    "\n",
    "if is_palindrome:\n",
    "    print(\"True\")\n"
   ]
  },
  {
   "cell_type": "code",
   "execution_count": null,
   "id": "5e6a74e5-1a49-48ee-8624-20cce02b3597",
   "metadata": {},
   "outputs": [],
   "source": []
  },
  {
   "cell_type": "markdown",
   "id": "58b59720-7688-43eb-b24d-d886c3b3c809",
   "metadata": {},
   "source": [
    "# 3. Count the Number of Vowels in a String\n",
    "## Problem Statement:\n",
    "Write a function to count the number of vowels in a given string.\n",
    "\n",
    "## Example 1:\n",
    "**Input:** `\"apple\"`  \n",
    "**Output:** `2`\n",
    "\n",
    "## Example 2:\n",
    "**Input:** `\"banana\"`  \n",
    "**Output:** `3`\n"
   ]
  },
  {
   "cell_type": "code",
   "execution_count": 5,
   "id": "cc7ada12-76e0-4759-87ee-31224446fdd7",
   "metadata": {},
   "outputs": [
    {
     "name": "stdout",
     "output_type": "stream",
     "text": [
      "6\n"
     ]
    }
   ],
   "source": [
    "def function (input,list):\n",
    "    count=0\n",
    "    for i in input:\n",
    "        if i in list:\n",
    "            count+=1\n",
    "    return count \n",
    "input=\"machine learning 1\"\n",
    "v=[\"a\",\"e\",\"i\",\"o\",\"u\"]\n",
    "\n",
    "output=function(input,v)\n",
    "print(output)"
   ]
  },
  {
   "cell_type": "code",
   "execution_count": null,
   "id": "6ad075be-9c42-41d2-be73-ac5760653656",
   "metadata": {},
   "outputs": [],
   "source": []
  },
  {
   "cell_type": "markdown",
   "id": "abcbec6f-e9e9-4238-8130-b4313c2357cc",
   "metadata": {},
   "source": [
    "# 4. Remove All Whitespace from a String\n",
    "## Problem Statement:\n",
    "Write a function that removes all whitespace characters from a string.\n",
    "\n",
    "## Example 1:\n",
    "**Input:** `\"hello world\"`  \n",
    "**Output:** `\"helloworld\"`\n",
    "\n",
    "## Example 2:\n",
    "**Input:** `\" Python  is  fun \"`  \n",
    "**Output:** `\"Pythonisfun\"`\n"
   ]
  },
  {
   "cell_type": "code",
   "execution_count": 12,
   "id": "59152c0f-cc53-4319-8b61-7bfa739a35a9",
   "metadata": {},
   "outputs": [],
   "source": [
    "def function(s):\n",
    "    tokens = s.split()\n",
    "    joined_string = ''.join(tokens)\n",
    "    return joined_string\n"
   ]
  },
  {
   "cell_type": "code",
   "execution_count": 14,
   "id": "c0feb715-5555-4882-b4d5-862addfc2e83",
   "metadata": {},
   "outputs": [
    {
     "name": "stdout",
     "output_type": "stream",
     "text": [
      "hello world\n",
      "helloworld\n"
     ]
    }
   ],
   "source": [
    "input=\"hello world\"\n",
    "output=function(input)\n",
    "print(input)\n",
    "print(output)"
   ]
  },
  {
   "cell_type": "markdown",
   "id": "7a8010ed-0bbf-42c3-82c3-46b175c6e8af",
   "metadata": {},
   "source": [
    "# 5. Find the First Non-Repeating Character in a String\n",
    "## Problem Statement:\n",
    "Write a function to find the first non-repeating character in a given string.\n",
    "\n",
    "## Example 1:\n",
    "**Input:** `\"swiss\"`  \n",
    "**Output:** `\"w\"`\n",
    "\n",
    "## Example 2:\n",
    "**Input:** `\"racecar\"`  \n",
    "**Output:** `\"e\"`\n"
   ]
  },
  {
   "cell_type": "code",
   "execution_count": 22,
   "id": "4aca409d-99fa-43bc-814c-9d93d54507ad",
   "metadata": {},
   "outputs": [],
   "source": [
    "def first_non_repeating_char(s):\n",
    "    char_count = {}\n",
    "    for char in s:\n",
    "        char_count[char] = char_count.get(char, 0) + 1\n",
    "    for char in s:\n",
    "        if char_count[char] == 1:\n",
    "            return char\n",
    "    return None\n"
   ]
  },
  {
   "cell_type": "code",
   "execution_count": 24,
   "id": "728943f8-b9cd-45ca-9c54-4698ea06ade7",
   "metadata": {},
   "outputs": [
    {
     "name": "stdout",
     "output_type": "stream",
     "text": [
      "w\n",
      "e\n"
     ]
    }
   ],
   "source": [
    "print(first_non_repeating_char(\"swiss\")) \n",
    "print(first_non_repeating_char(\"racecar\")) \n"
   ]
  },
  {
   "cell_type": "markdown",
   "id": "d3b7ea00-ba1f-46ed-b122-bb6b7cac074f",
   "metadata": {},
   "source": [
    "# 6. Check if Two Strings are Anagrams\n",
    "## Problem Statement:\n",
    "Write a function to check if two strings are anagrams.\n",
    "\n",
    "## Example 1:\n",
    "**Input:** `\"listen\", \"silent\"`  \n",
    "**Output:** `True`\n",
    "\n",
    "## Example 2:\n",
    "**Input:** `\"hello\", \"world\"`  \n",
    "**Output:** `False`\n"
   ]
  },
  {
   "cell_type": "code",
   "execution_count": 36,
   "id": "3b2c05e5-a7df-476b-9061-f7df9c3539d2",
   "metadata": {},
   "outputs": [],
   "source": [
    "def check_string(s1, s2):\n",
    "    return sorted(s1) == sorted(s2)\n"
   ]
  },
  {
   "cell_type": "code",
   "execution_count": 37,
   "id": "921ee110-5557-4d6e-a669-dc81ca237bcb",
   "metadata": {},
   "outputs": [
    {
     "name": "stdout",
     "output_type": "stream",
     "text": [
      "True\n"
     ]
    }
   ],
   "source": [
    "input1=\"listen\"\n",
    "input2=\"silent\"\n",
    "print(check_string(input1,input2))"
   ]
  },
  {
   "cell_type": "markdown",
   "id": "3989dfe4-ab68-419d-9042-877f37ede653",
   "metadata": {},
   "source": [
    "# 7. Convert a String to Uppercase\n",
    "## Problem Statement:\n",
    "Write a function to convert a string to uppercase.\n",
    "\n",
    "## Example 1:\n",
    "**Input:** `\"python\"`  \n",
    "**Output:** `\"PYTHON\"`\n",
    "\n",
    "## Example 2:\n",
    "**Input:** `\"Hello World\"`  \n",
    "**Output:** `\"HELLO WORLD\"`\n"
   ]
  },
  {
   "cell_type": "code",
   "execution_count": 47,
   "id": "163d0c7c-d95c-48f5-9f57-a6415fe19099",
   "metadata": {},
   "outputs": [
    {
     "name": "stdout",
     "output_type": "stream",
     "text": [
      "hello\n",
      "HELLO\n"
     ]
    }
   ],
   "source": [
    "def function_check(s):\n",
    "    string = s.upper()\n",
    "    return string\n",
    "\n",
    "input_str = \"hello\"\n",
    "print(input_str)\n",
    "output = function_check(input_str)\n",
    "print(output)\n"
   ]
  },
  {
   "cell_type": "code",
   "execution_count": null,
   "id": "aaf4bac8-2992-489f-90fe-a6321edc64c4",
   "metadata": {},
   "outputs": [],
   "source": []
  },
  {
   "cell_type": "markdown",
   "id": "d9101758-0867-41e5-b4a0-a71db20536ae",
   "metadata": {},
   "source": [
    "# 8. Find the Most Frequent Character in a String\n",
    "## Problem Statement:\n",
    "Write a function to find the most frequently occurring character in a string.\n",
    "\n",
    "## Example 1:\n",
    "**Input:** `\"banana\"`  \n",
    "**Output:** `\"a\"`\n",
    "\n",
    "## Example 2:\n",
    "**Input:** `\"mississippi\"`  \n",
    "**Output:** `\"i\"`\n"
   ]
  },
  {
   "cell_type": "code",
   "execution_count": 48,
   "id": "9cb62d0a-3b5d-4271-8091-ad6e666acd2a",
   "metadata": {},
   "outputs": [],
   "source": [
    "def most_frequent_char(s):\n",
    "    char_count = {}\n",
    "    for char in s:\n",
    "        char_count[char] = char_count.get(char, 0) + 1\n",
    "    return max(char_count, key=char_count.get)\n"
   ]
  },
  {
   "cell_type": "code",
   "execution_count": 49,
   "id": "8934605e-f2d2-49ab-a77e-2fb406d85d79",
   "metadata": {},
   "outputs": [
    {
     "name": "stdout",
     "output_type": "stream",
     "text": [
      "a\n",
      "i\n"
     ]
    }
   ],
   "source": [
    "print(most_frequent_char(\"banana\"))      \n",
    "print(most_frequent_char(\"mississippi\"))\n"
   ]
  },
  {
   "cell_type": "markdown",
   "id": "b23de210-f0d4-4e2d-ab9a-aa853e471a15",
   "metadata": {},
   "source": [
    "# 9. Check if a String Contains Only Digits\n",
    "## Problem Statement:\n",
    "Write a function to check if a string contains only digits.\n",
    "\n",
    "## Example 1:\n",
    "**Input:** `\"12345\"`  \n",
    "**Output:** `True`\n",
    "\n",
    "## Example 2:\n",
    "**Input:** `\"12a45\"`  \n",
    "**Output:** `False`\n"
   ]
  },
  {
   "cell_type": "code",
   "execution_count": 55,
   "id": "419f05a0-3648-4ef3-badf-0cdd35869ec1",
   "metadata": {},
   "outputs": [],
   "source": [
    "def check_integer(input_str):\n",
    "    for char in input_str:\n",
    "        if not char.isdigit():\n",
    "            return False\n",
    "    return True\n"
   ]
  },
  {
   "cell_type": "code",
   "execution_count": 57,
   "id": "8c3e49f1-defd-4b0d-8321-6517e6917795",
   "metadata": {},
   "outputs": [
    {
     "data": {
      "text/plain": [
       "False"
      ]
     },
     "execution_count": 57,
     "metadata": {},
     "output_type": "execute_result"
    }
   ],
   "source": [
    "input=\"123f4\"\n",
    "check_integer(input)"
   ]
  },
  {
   "cell_type": "markdown",
   "id": "f9d2b183-d1aa-446d-a449-90d3375f7c53",
   "metadata": {},
   "source": [
    "# 10. Find the Length of the Longest Word in a Sentence\n",
    "## Problem Statement:\n",
    "Write a function to find the length of the longest word in a sentence.\n",
    "\n",
    "## Example 1:\n",
    "**Input:** `\"The quick brown fox\"`  \n",
    "**Output:** `5`\n",
    "\n",
    "## Example 2:\n",
    "**Input:** `\"A journey of a thousand miles\"`  \n",
    "**Output:** `8`\n"
   ]
  },
  {
   "cell_type": "code",
   "execution_count": 62,
   "id": "0ed5e962-f5dd-4e91-85e2-0cd0e9fcdf84",
   "metadata": {},
   "outputs": [],
   "source": [
    "def longest_word(sentence):\n",
    "    words = sentence.split()\n",
    "    max_length = 0\n",
    "    for word in words:\n",
    "        if len(word) > max_length:\n",
    "            max_length = len(word)\n",
    "    return max_length\n"
   ]
  },
  {
   "cell_type": "code",
   "execution_count": 64,
   "id": "6a62f30a-81ee-405a-89c5-560f88ed25fe",
   "metadata": {},
   "outputs": [
    {
     "name": "stdout",
     "output_type": "stream",
     "text": [
      "8\n"
     ]
    }
   ],
   "source": [
    "input=\"A journey of a thousand miles\"\n",
    "output=longest_word(input)\n",
    "print(output)"
   ]
  },
  {
   "cell_type": "markdown",
   "id": "3499119b-b83a-4e89-b68e-db215e943998",
   "metadata": {},
   "source": [
    "# 11. Replace Spaces with '%20' (URL Encoding)\n",
    "## Problem Statement:\n",
    "Write a function to replace all spaces in a string with `%20`.\n",
    "\n",
    "## Example 1:\n",
    "**Input:** `\"Mr John Smith\"`  \n",
    "**Output:** `\"Mr%20John%20Smith\"`\n",
    "\n",
    "## Example 2:\n",
    "**Input:** `\"Hello World\"`  \n",
    "**Output:** `\"Hello%20World\"`\n"
   ]
  },
  {
   "cell_type": "code",
   "execution_count": 67,
   "id": "c1b7b110-7076-4e47-9690-b99de5ffd695",
   "metadata": {},
   "outputs": [],
   "source": [
    "def url_encode(s):\n",
    "    return s.replace(\" \", \"%20\")\n"
   ]
  },
  {
   "cell_type": "code",
   "execution_count": 69,
   "id": "b94611fe-6fb7-4edf-9954-176d45889f5b",
   "metadata": {},
   "outputs": [
    {
     "name": "stdout",
     "output_type": "stream",
     "text": [
      "Hello World \n",
      "Hello%20World%20\n"
     ]
    }
   ],
   "source": [
    "input=\"Hello World \"\n",
    "print(input)\n",
    "output=url_encode(input)\n",
    "print(output)"
   ]
  },
  {
   "cell_type": "markdown",
   "id": "59196fe4-763d-4d23-a941-6f17ce59481a",
   "metadata": {},
   "source": [
    "# 12. Find All Substrings of a String\n",
    "## Problem Statement:\n",
    "Write a function to return all substrings of a given string.\n",
    "\n",
    "## Example 1:\n",
    "**Input:** `\"abc\"`  \n",
    "**Output:** `[\"a\", \"b\", \"c\", \"ab\", \"bc\", \"abc\"]`\n",
    "\n",
    "## Example 2:\n",
    "**Input:** `\"xyz\"`  \n",
    "**Output:** `[\"x\", \"y\", \"z\", \"xy\", \"yz\", \"xyz\"]`\n"
   ]
  },
  {
   "cell_type": "code",
   "execution_count": 71,
   "id": "743c4c58-3950-427f-8c0b-bd4e3eda5fa8",
   "metadata": {},
   "outputs": [],
   "source": [
    "def all_substrings(s):\n",
    "    substrings = []\n",
    "    n = len(s)\n",
    "    for start in range(n):\n",
    "        for end in range(start + 1, n + 1):\n",
    "            substrings.append(s[start:end])\n",
    "    return substrings\n"
   ]
  },
  {
   "cell_type": "code",
   "execution_count": 72,
   "id": "993ed2a1-22ea-41ab-aeec-da5d494b8561",
   "metadata": {},
   "outputs": [
    {
     "name": "stdout",
     "output_type": "stream",
     "text": [
      "Hello\n",
      "['H', 'He', 'Hel', 'Hell', 'Hello', 'e', 'el', 'ell', 'ello', 'l', 'll', 'llo', 'l', 'lo', 'o']\n"
     ]
    }
   ],
   "source": [
    "input=\"Hello\"\n",
    "print(input)\n",
    "output=all_substrings(input)\n",
    "print(output)"
   ]
  },
  {
   "cell_type": "markdown",
   "id": "08cca7f3-0462-4e37-883e-4850ac7d9b4a",
   "metadata": {},
   "source": [
    "# 13. Reverse Each Word in a Sentence\n",
    "## Problem Statement:\n",
    "Write a function to reverse each word in a sentence while maintaining word order.\n",
    "\n",
    "## Example 1:\n",
    "**Input:** `\"hello world\"`  \n",
    "**Output:** `\"olleh dlrow\"`\n",
    "\n",
    "## Example 2:\n",
    "**Input:** `\"Python is fun\"`  \n",
    "**Output:** `\"nohtyP si nuf\"`\n"
   ]
  },
  {
   "cell_type": "code",
   "execution_count": 78,
   "id": "53eab569-3ea4-4e48-a585-6f729c5e2c69",
   "metadata": {},
   "outputs": [],
   "source": [
    "def function(string):\n",
    "    words = string.split()\n",
    "    reversed_words = [word[::-1] for word in words]\n",
    "    return ' '.join(reversed_words)\n"
   ]
  },
  {
   "cell_type": "code",
   "execution_count": 79,
   "id": "72bba1ec-96c7-41b3-976f-f8dbdbc8cec9",
   "metadata": {},
   "outputs": [
    {
     "name": "stdout",
     "output_type": "stream",
     "text": [
      "hello world\n",
      "olleh dlrow\n"
     ]
    }
   ],
   "source": [
    "input=\"hello world\"\n",
    "output=function(input)\n",
    "print(input)\n",
    "print(output)"
   ]
  },
  {
   "cell_type": "markdown",
   "id": "c52682bf-2f05-4515-acce-192b91883858",
   "metadata": {},
   "source": [
    "# 14. Find the Longest Common Prefix of a List of Strings\n",
    "## Problem Statement:\n",
    "Write a function to find the longest common prefix among a list of strings.\n",
    "\n",
    "## Example 1:\n",
    "**Input:** `[\"flower\", \"flow\", \"flight\"]`  \n",
    "**Output:** `\"fl\"`\n",
    "\n",
    "## Example 2:\n",
    "**Input:** `[\"dog\", \"racecar\", \"car\"]`  \n",
    "**Output:** `\"\"`\n"
   ]
  },
  {
   "cell_type": "code",
   "execution_count": 86,
   "id": "c326e4fd-7ad6-4d3e-9bd9-f5b28114eeff",
   "metadata": {},
   "outputs": [],
   "source": [
    "def longest_common_prefix(strs):\n",
    "    if not strs:\n",
    "        return \"\"\n",
    "    \n",
    "    prefix = strs[0]\n",
    "    for s in strs[1:]:\n",
    "        while not s.startswith(prefix):\n",
    "            prefix = prefix[:-1]\n",
    "            if not prefix:\n",
    "                return \"\"\n",
    "    return prefix\n"
   ]
  },
  {
   "cell_type": "code",
   "execution_count": 87,
   "id": "353a8f44-2487-4cc5-8c4a-0e24e8148a22",
   "metadata": {},
   "outputs": [
    {
     "name": "stdout",
     "output_type": "stream",
     "text": [
      "fl\n",
      "\n"
     ]
    }
   ],
   "source": [
    "print(longest_common_prefix([\"flower\", \"flow\", \"flight\"]))  # Output: \"fl\"\n",
    "print(longest_common_prefix([\"dog\", \"racecar\", \"car\"]))     # Output: \"\"\n"
   ]
  },
  {
   "cell_type": "markdown",
   "id": "b90c467f-001e-4a93-bfff-08bba1a3f703",
   "metadata": {},
   "source": [
    "# 15. Check if a String is a Rotation of Another String\n",
    "## Problem Statement:\n",
    "Write a function to check if one string is a rotation of another.\n",
    "\n",
    "## Example 1:\n",
    "**Input:** `\"waterbottle\", \"erbottlewat\"`  \n",
    "**Output:** `True`\n",
    "\n",
    "## Example 2:\n",
    "**Input:** `\"hello\", \"lohel\"`  \n",
    "**Output:** `True`\n"
   ]
  },
  {
   "cell_type": "code",
   "execution_count": null,
   "id": "dcf4c6e8-8192-4cff-8d48-9226448d0ff2",
   "metadata": {},
   "outputs": [],
   "source": []
  },
  {
   "cell_type": "code",
   "execution_count": 85,
   "id": "f8e70c6b-a474-4c93-82fc-e39811a5f637",
   "metadata": {},
   "outputs": [
    {
     "data": {
      "text/plain": [
       "True"
      ]
     },
     "execution_count": 85,
     "metadata": {},
     "output_type": "execute_result"
    }
   ],
   "source": [
    "def function(s1,s2):\n",
    "    return s1==s2[: :-1]\n",
    "\n",
    "a1=\"hello\"\n",
    "a2=\"olleh\"\n",
    "\n",
    "function(a1,a2)"
   ]
  },
  {
   "cell_type": "markdown",
   "id": "06d7a3d1-e01d-483d-95a9-30330f21440c",
   "metadata": {},
   "source": [
    "# 16. Find the Second Most Frequent Character in a String\n",
    "## Problem Statement:\n",
    "Write a function to find the second most frequent character in a string.\n",
    "\n",
    "## Example 1:\n",
    "**Input:** `\"banana\"`  \n",
    "**Output:** `\"n\"`\n",
    "\n",
    "## Example 2:\n",
    "**Input:** `\"mississippi\"`  \n",
    "**Output:** `\"s\"`\n"
   ]
  },
  {
   "cell_type": "code",
   "execution_count": 88,
   "id": "65a91520-9d70-4dc4-990a-931223a98b52",
   "metadata": {},
   "outputs": [],
   "source": [
    "def function(s):\n",
    "    freq = {}\n",
    "    for char in s:\n",
    "        freq[char] = freq.get(char, 0) + 1\n",
    "    \n",
    "    freq_values = sorted(freq.values(), reverse=True)\n",
    "    highest = freq_values[0]\n",
    "    second_highest = None\n",
    "    for val in freq_values:\n",
    "        if val < highest:\n",
    "            second_highest = val\n",
    "            break\n",
    "    \n",
    "    if second_highest is None:\n",
    "        return None\n",
    "    \n",
    "    for char, count in freq.items():\n",
    "        if count == second_highest:\n",
    "            return char\n"
   ]
  },
  {
   "cell_type": "code",
   "execution_count": 89,
   "id": "2fba47a2-7db0-4fc0-9895-e157412acb93",
   "metadata": {},
   "outputs": [
    {
     "name": "stdout",
     "output_type": "stream",
     "text": [
      "banana\n",
      "n\n"
     ]
    }
   ],
   "source": [
    "input=\"banana\"\n",
    "output=function(input)\n",
    "print(input)\n",
    "print(output)"
   ]
  },
  {
   "cell_type": "markdown",
   "id": "d262dac7-f41e-400d-bfd0-ea5057f5c922",
   "metadata": {},
   "source": [
    "# 17. Check if a String is Made of Unique Characters\n",
    "## Problem Statement:\n",
    "Write a function to check if a string contains only unique characters.\n",
    "\n",
    "## Example 1:\n",
    "**Input:** `\"abcdef\"`  \n",
    "**Output:** `True`\n",
    "\n",
    "## Example 2:\n",
    "**Input:** `\"aabbcc\"`  \n",
    "**Output:** `False`\n"
   ]
  },
  {
   "cell_type": "code",
   "execution_count": 102,
   "id": "253be31b-7673-4b81-95e9-cb1cd09c48fb",
   "metadata": {},
   "outputs": [],
   "source": [
    "def has_unique_characters(s):\n",
    "    for i in range(len(s)):\n",
    "        for j in range(i + 1, len(s)):\n",
    "            if s[i] == s[j]:\n",
    "                return False\n",
    "    return True\n"
   ]
  },
  {
   "cell_type": "code",
   "execution_count": 103,
   "id": "80463995-b332-445c-9ed8-201e2e2caf7f",
   "metadata": {},
   "outputs": [
    {
     "data": {
      "text/plain": [
       "False"
      ]
     },
     "execution_count": 103,
     "metadata": {},
     "output_type": "execute_result"
    }
   ],
   "source": [
    "input=\"abbcef\"\n",
    "has_unique_characters(input)"
   ]
  },
  {
   "cell_type": "markdown",
   "id": "739f0939-b81a-45d4-8cd2-d0659268711c",
   "metadata": {},
   "source": [
    "# 18. Find the Longest Palindromic Substring\n",
    "## Problem Statement:\n",
    "Write a function to find the longest palindromic substring.\n",
    "\n",
    "## Example 1:\n",
    "**Input:** `\"babad\"`  \n",
    "**Output:** `\"bab\"`\n",
    "\n",
    "## Example 2:\n",
    "**Input:** `\"cbbd\"`  \n",
    "**Output:** `\"bb\"`\n"
   ]
  },
  {
   "cell_type": "code",
   "execution_count": 105,
   "id": "dd923018-aa4a-4cb2-98e0-6628d8b3b400",
   "metadata": {},
   "outputs": [],
   "source": [
    "def longest_palindrome(s: str) -> str:\n",
    "    if not s or len(s) < 1:\n",
    "        return \"\"\n",
    "\n",
    "    start, end = 0, 0\n",
    "\n",
    "    def expand_around_center(left: int, right: int) -> int:\n",
    "        while left >= 0 and right < len(s) and s[left] == s[right]:\n",
    "            left -= 1\n",
    "            right += 1\n",
    "        return right - left - 1  \n",
    "\n",
    "    for i in range(len(s)):\n",
    "        len1 = expand_around_center(i, i)       \n",
    "        len2 = expand_around_center(i, i + 1)  \n",
    "        max_len = max(len1, len2)\n",
    "\n",
    "        if max_len > end - start:\n",
    "            start = i - (max_len - 1) // 2\n",
    "            end = i + max_len // 2\n",
    "\n",
    "    return s[start:end + 1]\n"
   ]
  },
  {
   "cell_type": "code",
   "execution_count": 106,
   "id": "02c1d0bc-c2b1-433e-a610-4d621d65e934",
   "metadata": {},
   "outputs": [
    {
     "name": "stdout",
     "output_type": "stream",
     "text": [
      "bb\n"
     ]
    }
   ],
   "source": [
    "input=\"cbbd\"\n",
    "print(longest_palindrome(input))"
   ]
  },
  {
   "cell_type": "markdown",
   "id": "9e48cf7b-b799-4574-984c-51fc15661b16",
   "metadata": {},
   "source": [
    "# 19. Remove Duplicate Characters from a String\n",
    "## Problem Statement:\n",
    "Write a function to remove duplicate characters from a string.\n",
    "\n",
    "## Example 1:\n",
    "**Input:** `\"hello\"`  \n",
    "**Output:** `\"helo\"`\n",
    "\n",
    "## Example 2:\n",
    "**Input:** `\"mississippi\"`  \n",
    "**Output:** `\"misp\"`\n"
   ]
  },
  {
   "cell_type": "code",
   "execution_count": 107,
   "id": "932536b6-b58c-47d8-897e-10aba10d5654",
   "metadata": {},
   "outputs": [],
   "source": [
    "def remove_duplicates(s):\n",
    "    result = ''\n",
    "    for char in s:\n",
    "        if char not in result:\n",
    "            result += char\n",
    "    return result\n"
   ]
  },
  {
   "cell_type": "code",
   "execution_count": 108,
   "id": "ec288297-0e2a-4465-898b-39c002bed301",
   "metadata": {},
   "outputs": [
    {
     "name": "stdout",
     "output_type": "stream",
     "text": [
      "cbd\n"
     ]
    }
   ],
   "source": [
    "input=\"cbbd\"\n",
    "print(remove_duplicates(input))"
   ]
  },
  {
   "cell_type": "markdown",
   "id": "a9abec9d-c0c3-4425-a1c6-e42342e3757a",
   "metadata": {},
   "source": [
    "# 20. Sort a String Alphabetically\n",
    "## Problem Statement:\n",
    "Write a function to sort the characters of a string alphabetically.\n",
    "\n",
    "## Example 1:\n",
    "**Input:** `\"hello\"`  \n",
    "**Output:** `\"ehllo\"`\n",
    "\n",
    "## Example 2:\n",
    "**Input:** `\"python\"`  \n",
    "**Output:** `\"hnopty\"`\n"
   ]
  },
  {
   "cell_type": "code",
   "execution_count": 112,
   "id": "9b881c5a-7e0c-4785-a2d6-f700725fad3d",
   "metadata": {},
   "outputs": [],
   "source": [
    "def function(s):\n",
    "    return ''.join(sorted(input))"
   ]
  },
  {
   "cell_type": "code",
   "execution_count": 113,
   "id": "4f23c52f-0cb4-4dc7-a06d-be464656fda3",
   "metadata": {},
   "outputs": [
    {
     "name": "stdout",
     "output_type": "stream",
     "text": [
      "hello\n",
      "ehllo\n"
     ]
    }
   ],
   "source": [
    "input=\"hello\"\n",
    "output=function(input)\n",
    "print(input)\n",
    "print(output)"
   ]
  },
  {
   "cell_type": "markdown",
   "id": "f267b2f8-c7f6-4295-a7b0-c89af5cf5807",
   "metadata": {},
   "source": [
    "# 21. Find the Smallest Window in a String Containing All Characters of Another String\n",
    "## Problem Statement:\n",
    "Write a function to find the smallest window in a string that contains all characters of another string.\n",
    "\n",
    "## Example 1:\n",
    "**Input:** `\"ADOBECODEBANC\", \"ABC\"`  \n",
    "**Output:** `\"BANC\"`\n",
    "\n",
    "## Example 2:\n",
    "**Input:** `\"aabbcc\", \"abc\"`  \n",
    "**Output:** `\"abc\"`\n"
   ]
  },
  {
   "cell_type": "code",
   "execution_count": 114,
   "id": "8145837e-3cc3-43a5-9875-f955033aaf09",
   "metadata": {},
   "outputs": [],
   "source": [
    "from collections import Counter\n",
    "\n",
    "def min_window(s: str, t: str) -> str:\n",
    "    if not s or not t:\n",
    "        return \"\"\n",
    "    dict_t = Counter(t)\n",
    "    required = len(dict_t)\n",
    "    left = right = 0\n",
    "    formed = 0\n",
    "    window_counts = {}\n",
    "    min_len = float('inf')\n",
    "    min_left = 0\n",
    "    while right < len(s):\n",
    "        char = s[right]\n",
    "        window_counts[char] = window_counts.get(char, 0) + 1\n",
    "        if char in dict_t and window_counts[char] == dict_t[char]:\n",
    "            formed += 1\n",
    "        while left <= right and formed == required:\n",
    "            char = s[left]\n",
    "            if right - left + 1 < min_len:\n",
    "                min_len = right - left + 1\n",
    "                min_left = left\n",
    "            window_counts[char] -= 1\n",
    "            if char in dict_t and window_counts[char] < dict_t[char]:\n",
    "                formed -= 1\n",
    "            left += 1\n",
    "        right += 1\n",
    "    return \"\" if min_len == float('inf') else s[min_left:min_left + min_len]\n"
   ]
  },
  {
   "cell_type": "code",
   "execution_count": 115,
   "id": "08fc97e2-2eee-4b3f-850c-59e547121d25",
   "metadata": {},
   "outputs": [
    {
     "name": "stdout",
     "output_type": "stream",
     "text": [
      "BANC\n"
     ]
    }
   ],
   "source": [
    "print(min_window(\"ADOBECODEBANC\", \"ABC\"))"
   ]
  },
  {
   "cell_type": "markdown",
   "id": "823be7b2-27f6-40df-82b2-f1f2b69bc1cb",
   "metadata": {},
   "source": [
    "# 22. Implement Run-Length Encoding\n",
    "## Problem Statement:\n",
    "Write a function to perform run-length encoding on a string.\n",
    "\n",
    "## Example 1:\n",
    "**Input:** `\"aaabbc\"`  \n",
    "**Output:** `\"3a2b1c\"`\n",
    "\n",
    "## Example 2:\n",
    "**Input:** `\"wwwwaaadexxxxxx\"`  \n",
    "**Output:** `\"4w3a1d1e6x\"`\n"
   ]
  },
  {
   "cell_type": "code",
   "execution_count": 116,
   "id": "e127c6b1-57fd-40cb-aac5-9e07cef586d2",
   "metadata": {},
   "outputs": [],
   "source": [
    "def run_length_encoding(s: str) -> str:\n",
    "    if not s:\n",
    "        return \"\"\n",
    "    count = 1\n",
    "    result = \"\"\n",
    "    for i in range(1, len(s)):\n",
    "        if s[i] == s[i-1]:\n",
    "            count += 1\n",
    "        else:\n",
    "            result += str(count) + s[i-1]\n",
    "            count = 1\n",
    "    result += str(count) + s[-1]\n",
    "    return result\n"
   ]
  },
  {
   "cell_type": "code",
   "execution_count": 117,
   "id": "3470d46e-444c-43be-b517-730824de2300",
   "metadata": {},
   "outputs": [
    {
     "name": "stdout",
     "output_type": "stream",
     "text": [
      "hellllllo\n",
      "1h1e6l1o\n"
     ]
    }
   ],
   "source": [
    "input_str = \"hellllllo\"\n",
    "output = run_length_encoding(input_str)\n",
    "print(input_str)\n",
    "print(output)\n"
   ]
  },
  {
   "cell_type": "markdown",
   "id": "fbe98b17-13c7-4f56-93db-d8056113af31",
   "metadata": {},
   "source": [
    "# 23. Find All Permutations of a String\n",
    "## Problem Statement:\n",
    "Write a function to generate all permutations of a given string.\n",
    "\n",
    "## Example 1:\n",
    "**Input:** `\"abc\"`  \n",
    "**Output:** `[\"abc\", \"acb\", \"bac\", \"bca\", \"cab\", \"cba\"]`\n",
    "\n",
    "## Example 2:\n",
    "**Input:** `\"ab\"`  \n",
    "**Output:** `[\"ab\", \"ba\"]`\n"
   ]
  },
  {
   "cell_type": "code",
   "execution_count": 119,
   "id": "101a8feb-61e0-4a97-a122-f5de229e6817",
   "metadata": {},
   "outputs": [],
   "source": [
    "def permutations(s: str):\n",
    "    if len(s) <= 1:\n",
    "        return [s]\n",
    "    result = []\n",
    "    for i, char in enumerate(s):\n",
    "        for perm in permutations(s[:i] + s[i+1:]):\n",
    "            result.append(char + perm)\n",
    "    return result\n"
   ]
  },
  {
   "cell_type": "code",
   "execution_count": 120,
   "id": "ff510bea-3648-446b-93c8-aa5246b38c50",
   "metadata": {},
   "outputs": [
    {
     "name": "stdout",
     "output_type": "stream",
     "text": [
      "abc\n",
      "['abc', 'acb', 'bac', 'bca', 'cab', 'cba']\n"
     ]
    }
   ],
   "source": [
    "input_str = \"abc\"\n",
    "output = permutations(input_str)\n",
    "print(input_str)\n",
    "print(output)\n"
   ]
  },
  {
   "cell_type": "markdown",
   "id": "1064221e-a51f-46b1-afea-c37505d3b68b",
   "metadata": {},
   "source": [
    "# 24. Count the Number of Distinct Subsequences of a String\n",
    "## Problem Statement:\n",
    "Write a function to count the number of distinct subsequences of a string.\n",
    "\n",
    "## Example 1:\n",
    "**Input:** `\"abc\"`  \n",
    "**Output:** `7`\n",
    "\n",
    "## Example 2:\n",
    "**Input:** `\"aaa\"`  \n",
    "**Output:** `3`\n"
   ]
  },
  {
   "cell_type": "code",
   "execution_count": 128,
   "id": "ea2965b4-8860-4453-bc40-60e18d4855f8",
   "metadata": {},
   "outputs": [],
   "source": [
    "def count_distinct_subsequences(s: str):\n",
    "    mod = 10**9 + 7 \n",
    "    n = len(s)\n",
    "    dp = [0] * (n + 1)\n",
    "    dp[0] = 1\n",
    "    last = {}\n",
    "    for i in range(1, n + 1):\n",
    "        dp[i] = 2 * dp[i-1]\n",
    "        if s[i-1] in last:\n",
    "            dp[i] -= dp[last[s[i-1]] - 1]\n",
    "        last[s[i-1]] = i\n",
    "    return dp[n]\n",
    "\n",
    "\n"
   ]
  },
  {
   "cell_type": "code",
   "execution_count": 129,
   "id": "89958143-5eee-4d3c-96ea-2d457d409a11",
   "metadata": {},
   "outputs": [
    {
     "name": "stdout",
     "output_type": "stream",
     "text": [
      "abc\n",
      "8\n"
     ]
    }
   ],
   "source": [
    "input_str = \"abc\"\n",
    "output = count_distinct_subsequences(input_str)\n",
    "print(input_str)\n",
    "print(output)"
   ]
  },
  {
   "cell_type": "markdown",
   "id": "2fd59b75-b80f-466c-9517-34c927e66134",
   "metadata": {},
   "source": [
    "# 25. Find the Shortest Superstring That Contains All Given Strings as Subsequences\n",
    "## Problem Statement:\n",
    "Write a function to find the shortest superstring that contains all given strings as subsequences.\n",
    "\n",
    "## Example 1:\n",
    "**Input:** `[\"catg\", \"ctaagt\", \"gcta\", \"ttca\", \"atgcatc\"]`  \n",
    "**Output:** `\"gctaagttcatgcatc\"`\n",
    "\n",
    "## Example 2:\n",
    "**Input:** `[\"abc\", \"bca\", \"cab\"]`  \n",
    "**Output:** `\"abcab\"`\n"
   ]
  },
  {
   "cell_type": "code",
   "execution_count": 130,
   "id": "e9b8e9c3-9719-4a51-b9ac-4cd7df0a9311",
   "metadata": {},
   "outputs": [],
   "source": [
    "def overlap(a, b):\n",
    "    max_ov = 0\n",
    "    for i in range(1, min(len(a), len(b)) + 1):\n",
    "        if a[-i:] == b[:i]:\n",
    "            max_ov = i\n",
    "    return max_ov\n",
    "\n"
   ]
  },
  {
   "cell_type": "code",
   "execution_count": 131,
   "id": "be2cef61-583d-4fed-9f34-ea3f0ac288f1",
   "metadata": {},
   "outputs": [],
   "source": [
    "def shortest_superstring(strings):\n",
    "    while len(strings) > 1:\n",
    "        max_len = -1\n",
    "        l, r = 0, 0\n",
    "        res = \"\"\n",
    "        for i in range(len(strings)):\n",
    "            for j in range(len(strings)):\n",
    "                if i != j:\n",
    "                    ov = overlap(strings[i], strings[j])\n",
    "                    if ov > max_len:\n",
    "                        max_len = ov\n",
    "                        l, r = i, j\n",
    "                        res = strings[i] + strings[j][ov:]\n",
    "        strings[l] = res\n",
    "        strings.pop(r)\n",
    "    return strings[0]"
   ]
  },
  {
   "cell_type": "code",
   "execution_count": 132,
   "id": "3f4b3dcd-5f86-4672-b36c-3d930f7ad4f7",
   "metadata": {},
   "outputs": [
    {
     "name": "stdout",
     "output_type": "stream",
     "text": [
      "['gctaagttcatgcatc']\n",
      "gctaagttcatgcatc\n"
     ]
    }
   ],
   "source": [
    "input1 = [\"catg\", \"ctaagt\", \"gcta\", \"ttca\", \"atgcatc\"]\n",
    "output1 = shortest_superstring(input1)\n",
    "print(input1)\n",
    "print(output1)"
   ]
  },
  {
   "cell_type": "code",
   "execution_count": null,
   "id": "c4340296-fcc3-45e5-a27c-8706d0c53502",
   "metadata": {},
   "outputs": [],
   "source": []
  },
  {
   "cell_type": "code",
   "execution_count": null,
   "id": "74cff6c2-11a5-42c4-9a16-f649cd8c7e10",
   "metadata": {},
   "outputs": [],
   "source": []
  }
 ],
 "metadata": {
  "kernelspec": {
   "display_name": "Python 3 (ipykernel)",
   "language": "python",
   "name": "python3"
  },
  "language_info": {
   "codemirror_mode": {
    "name": "ipython",
    "version": 3
   },
   "file_extension": ".py",
   "mimetype": "text/x-python",
   "name": "python",
   "nbconvert_exporter": "python",
   "pygments_lexer": "ipython3",
   "version": "3.13.3"
  }
 },
 "nbformat": 4,
 "nbformat_minor": 5
}
