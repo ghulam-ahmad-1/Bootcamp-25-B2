{
 "cells": [
  {
   "cell_type": "markdown",
   "id": "6293cc50",
   "metadata": {},
   "source": [
    "# 100 numpy exercises\n",
    "\n",
    "This is a collection of exercises that have been collected in the numpy mailing list, on stack overflow\n",
    "and in the numpy documentation. The goal of this collection is to offer a quick reference for both old\n",
    "and new users but also to provide a set of exercises for those who teach.\n",
    "\n",
    "\n",
    "If you find an error or think you've a better way to solve some of them, feel\n",
    "free to open an issue at <https://github.com/rougier/numpy-100>."
   ]
  },
  {
   "cell_type": "markdown",
   "id": "a167c052",
   "metadata": {},
   "source": [
    "File automatically generated. See the documentation to update questions/answers/hints programmatically."
   ]
  },
  {
   "cell_type": "markdown",
   "id": "57fc0ee5",
   "metadata": {},
   "source": [
    "Run the `initialize.py` module, then for each question you can query the\n",
    "answer or an hint with `hint(n)` or `answer(n)` for `n` question number."
   ]
  },
  {
   "cell_type": "code",
   "execution_count": null,
   "id": "3d46fba2",
   "metadata": {},
   "outputs": [],
   "source": [
    "# %run initialise.py"
   ]
  },
  {
   "cell_type": "markdown",
   "id": "3c1222ff",
   "metadata": {},
   "source": [
    "#### 1. Import the numpy package under the name `np` (★☆☆)"
   ]
  },
  {
   "cell_type": "code",
   "execution_count": 2,
   "id": "f52e6a0b",
   "metadata": {},
   "outputs": [],
   "source": [
    "import numpy as np"
   ]
  },
  {
   "cell_type": "markdown",
   "id": "9d9f4753",
   "metadata": {},
   "source": [
    "#### 2. Print the numpy version and the configuration (★☆☆)"
   ]
  },
  {
   "cell_type": "code",
   "execution_count": 2,
   "id": "b7fa5fa1",
   "metadata": {},
   "outputs": [
    {
     "data": {
      "text/plain": [
       "'1.26.4'"
      ]
     },
     "execution_count": 2,
     "metadata": {},
     "output_type": "execute_result"
    }
   ],
   "source": [
    "np.__version__"
   ]
  },
  {
   "cell_type": "markdown",
   "id": "3e4c23c6",
   "metadata": {},
   "source": [
    "#### 3. Create a null vector of size 10 (★☆☆)"
   ]
  },
  {
   "cell_type": "code",
   "execution_count": 4,
   "id": "083c5c46",
   "metadata": {},
   "outputs": [
    {
     "data": {
      "text/plain": [
       "array([0., 0., 0., 0., 0., 0., 0., 0., 0., 0.])"
      ]
     },
     "execution_count": 4,
     "metadata": {},
     "output_type": "execute_result"
    }
   ],
   "source": [
    "np.zeros(10)"
   ]
  },
  {
   "cell_type": "markdown",
   "id": "c38bbe82",
   "metadata": {},
   "source": [
    "#### 4. How to find the memory size of any array (★☆☆)"
   ]
  },
  {
   "cell_type": "code",
   "execution_count": 7,
   "id": "02b04021",
   "metadata": {},
   "outputs": [
    {
     "name": "stdout",
     "output_type": "stream",
     "text": [
      "3 8\n"
     ]
    },
    {
     "data": {
      "text/plain": [
       "24"
      ]
     },
     "execution_count": 7,
     "metadata": {},
     "output_type": "execute_result"
    }
   ],
   "source": [
    "arr = np.array([1, 2, 3])\n",
    "print(arr.size, arr.itemsize)\n",
    "arr.size*arr.itemsize"
   ]
  },
  {
   "cell_type": "markdown",
   "id": "67f893d4",
   "metadata": {},
   "source": [
    "#### 5. How to get the documentation of the numpy add function from the command line? (★☆☆)"
   ]
  },
  {
   "cell_type": "code",
   "execution_count": 8,
   "id": "40e6b70d",
   "metadata": {},
   "outputs": [
    {
     "name": "stdout",
     "output_type": "stream",
     "text": [
      "Help on ufunc:\n",
      "\n",
      "add = <ufunc 'add'>\n",
      "    add(x1, x2, /, out=None, *, where=True, casting='same_kind', order='K', dtype=None, subok=True[, signature, extobj])\n",
      "\n",
      "    Add arguments element-wise.\n",
      "\n",
      "    Parameters\n",
      "    ----------\n",
      "    x1, x2 : array_like\n",
      "        The arrays to be added.\n",
      "        If ``x1.shape != x2.shape``, they must be broadcastable to a common\n",
      "        shape (which becomes the shape of the output).\n",
      "    out : ndarray, None, or tuple of ndarray and None, optional\n",
      "        A location into which the result is stored. If provided, it must have\n",
      "        a shape that the inputs broadcast to. If not provided or None,\n",
      "        a freshly-allocated array is returned. A tuple (possible only as a\n",
      "        keyword argument) must have length equal to the number of outputs.\n",
      "    where : array_like, optional\n",
      "        This condition is broadcast over the input. At locations where the\n",
      "        condition is True, the `out` array will be set to the ufunc result.\n",
      "        Elsewhere, the `out` array will retain its original value.\n",
      "        Note that if an uninitialized `out` array is created via the default\n",
      "        ``out=None``, locations within it where the condition is False will\n",
      "        remain uninitialized.\n",
      "    **kwargs\n",
      "        For other keyword-only arguments, see the\n",
      "        :ref:`ufunc docs <ufuncs.kwargs>`.\n",
      "\n",
      "    Returns\n",
      "    -------\n",
      "    add : ndarray or scalar\n",
      "        The sum of `x1` and `x2`, element-wise.\n",
      "        This is a scalar if both `x1` and `x2` are scalars.\n",
      "\n",
      "    Notes\n",
      "    -----\n",
      "    Equivalent to `x1` + `x2` in terms of array broadcasting.\n",
      "\n",
      "    Examples\n",
      "    --------\n",
      "    >>> np.add(1.0, 4.0)\n",
      "    5.0\n",
      "    >>> x1 = np.arange(9.0).reshape((3, 3))\n",
      "    >>> x2 = np.arange(3.0)\n",
      "    >>> np.add(x1, x2)\n",
      "    array([[  0.,   2.,   4.],\n",
      "           [  3.,   5.,   7.],\n",
      "           [  6.,   8.,  10.]])\n",
      "\n",
      "    The ``+`` operator can be used as a shorthand for ``np.add`` on ndarrays.\n",
      "\n",
      "    >>> x1 = np.arange(9.0).reshape((3, 3))\n",
      "    >>> x2 = np.arange(3.0)\n",
      "    >>> x1 + x2\n",
      "    array([[ 0.,  2.,  4.],\n",
      "           [ 3.,  5.,  7.],\n",
      "           [ 6.,  8., 10.]])\n",
      "\n"
     ]
    }
   ],
   "source": [
    "help(np.add)"
   ]
  },
  {
   "cell_type": "code",
   "execution_count": 10,
   "id": "aec4c42a",
   "metadata": {},
   "outputs": [
    {
     "name": "stdout",
     "output_type": "stream",
     "text": [
      "add(x1, x2, /, out=None, *, where=True, casting='same_kind', order='K', dtype=None, subok=True[, signature, extobj])\n",
      "\n",
      "Add arguments element-wise.\n",
      "\n",
      "Parameters\n",
      "----------\n",
      "x1, x2 : array_like\n",
      "    The arrays to be added.\n",
      "    If ``x1.shape != x2.shape``, they must be broadcastable to a common\n",
      "    shape (which becomes the shape of the output).\n",
      "out : ndarray, None, or tuple of ndarray and None, optional\n",
      "    A location into which the result is stored. If provided, it must have\n",
      "    a shape that the inputs broadcast to. If not provided or None,\n",
      "    a freshly-allocated array is returned. A tuple (possible only as a\n",
      "    keyword argument) must have length equal to the number of outputs.\n",
      "where : array_like, optional\n",
      "    This condition is broadcast over the input. At locations where the\n",
      "    condition is True, the `out` array will be set to the ufunc result.\n",
      "    Elsewhere, the `out` array will retain its original value.\n",
      "    Note that if an uninitialized `out` array is created via the default\n",
      "    ``out=None``, locations within it where the condition is False will\n",
      "    remain uninitialized.\n",
      "**kwargs\n",
      "    For other keyword-only arguments, see the\n",
      "    :ref:`ufunc docs <ufuncs.kwargs>`.\n",
      "\n",
      "Returns\n",
      "-------\n",
      "add : ndarray or scalar\n",
      "    The sum of `x1` and `x2`, element-wise.\n",
      "    This is a scalar if both `x1` and `x2` are scalars.\n",
      "\n",
      "Notes\n",
      "-----\n",
      "Equivalent to `x1` + `x2` in terms of array broadcasting.\n",
      "\n",
      "Examples\n",
      "--------\n",
      ">>> np.add(1.0, 4.0)\n",
      "5.0\n",
      ">>> x1 = np.arange(9.0).reshape((3, 3))\n",
      ">>> x2 = np.arange(3.0)\n",
      ">>> np.add(x1, x2)\n",
      "array([[  0.,   2.,   4.],\n",
      "       [  3.,   5.,   7.],\n",
      "       [  6.,   8.,  10.]])\n",
      "\n",
      "The ``+`` operator can be used as a shorthand for ``np.add`` on ndarrays.\n",
      "\n",
      ">>> x1 = np.arange(9.0).reshape((3, 3))\n",
      ">>> x2 = np.arange(3.0)\n",
      ">>> x1 + x2\n",
      "array([[ 0.,  2.,  4.],\n",
      "       [ 3.,  5.,  7.],\n",
      "       [ 6.,  8., 10.]])\n"
     ]
    }
   ],
   "source": [
    "np.info(np.add)"
   ]
  },
  {
   "cell_type": "markdown",
   "id": "e0c739c6",
   "metadata": {},
   "source": [
    "#### 6. Create a null vector of size 10 but the fifth value which is 1 (★☆☆)"
   ]
  },
  {
   "cell_type": "code",
   "execution_count": 19,
   "id": "bcceacf7",
   "metadata": {},
   "outputs": [
    {
     "data": {
      "text/plain": [
       "array([0., 0., 0., 0., 1., 0., 0., 0., 0., 0.])"
      ]
     },
     "execution_count": 19,
     "metadata": {},
     "output_type": "execute_result"
    }
   ],
   "source": [
    "arr3 = np.zeros(10)\n",
    "arr3[4] = 1\n",
    "arr3"
   ]
  },
  {
   "cell_type": "markdown",
   "id": "fbebedab",
   "metadata": {},
   "source": [
    "#### 7. Create a vector with values ranging from 10 to 49 (★☆☆)"
   ]
  },
  {
   "cell_type": "code",
   "execution_count": 16,
   "id": "3d117d54",
   "metadata": {},
   "outputs": [
    {
     "data": {
      "text/plain": [
       "array([10, 11, 12, 13, 14, 15, 16, 17, 18, 19, 20, 21, 22, 23, 24, 25, 26,\n",
       "       27, 28, 29, 30, 31, 32, 33, 34, 35, 36, 37, 38, 39, 40, 41, 42, 43,\n",
       "       44, 45, 46, 47, 48, 49])"
      ]
     },
     "execution_count": 16,
     "metadata": {},
     "output_type": "execute_result"
    }
   ],
   "source": [
    "arr2 = np.array(range(10,50))\n",
    "arr2"
   ]
  },
  {
   "cell_type": "markdown",
   "id": "ad0bff02",
   "metadata": {},
   "source": [
    "#### 8. Reverse a vector (first element becomes last) (★☆☆)"
   ]
  },
  {
   "cell_type": "code",
   "execution_count": 17,
   "id": "22d23470",
   "metadata": {},
   "outputs": [
    {
     "data": {
      "text/plain": [
       "array([49, 48, 47, 46, 45, 44, 43, 42, 41, 40, 39, 38, 37, 36, 35, 34, 33,\n",
       "       32, 31, 30, 29, 28, 27, 26, 25, 24, 23, 22, 21, 20, 19, 18, 17, 16,\n",
       "       15, 14, 13, 12, 11, 10])"
      ]
     },
     "execution_count": 17,
     "metadata": {},
     "output_type": "execute_result"
    }
   ],
   "source": [
    "arr2[::-1]"
   ]
  },
  {
   "cell_type": "markdown",
   "id": "9f59d7e1",
   "metadata": {},
   "source": [
    "#### 9. Create a 3x3 matrix with values ranging from 0 to 8 (★☆☆)"
   ]
  },
  {
   "cell_type": "code",
   "execution_count": 32,
   "id": "7449e82d",
   "metadata": {},
   "outputs": [
    {
     "data": {
      "text/plain": [
       "array([[0, 1, 2],\n",
       "       [3, 4, 5],\n",
       "       [6, 7, 8]])"
      ]
     },
     "execution_count": 32,
     "metadata": {},
     "output_type": "execute_result"
    }
   ],
   "source": [
    "np.arange(0, 9).reshape(3, 3)"
   ]
  },
  {
   "cell_type": "code",
   "execution_count": null,
   "id": "6ef95469",
   "metadata": {},
   "outputs": [],
   "source": []
  },
  {
   "cell_type": "markdown",
   "id": "f374c4cf",
   "metadata": {},
   "source": [
    "#### 10. Find indices of non-zero elements from [1,2,0,0,4,0] (★☆☆)"
   ]
  },
  {
   "cell_type": "code",
   "execution_count": 174,
   "id": "1a84bed8",
   "metadata": {},
   "outputs": [
    {
     "data": {
      "text/plain": [
       "array([0, 1, 4])"
      ]
     },
     "execution_count": 174,
     "metadata": {},
     "output_type": "execute_result"
    }
   ],
   "source": [
    "nums = np.array([1,2,0,0,4,0])\n",
    "np.where(nums != 0)[0]"
   ]
  },
  {
   "cell_type": "markdown",
   "id": "9c4707f5",
   "metadata": {},
   "source": [
    "#### 11. Create a 3x3 identity matrix (★☆☆)"
   ]
  },
  {
   "cell_type": "code",
   "execution_count": 33,
   "id": "29dc1fd3",
   "metadata": {},
   "outputs": [
    {
     "data": {
      "text/plain": [
       "array([[1., 0., 0.],\n",
       "       [0., 1., 0.],\n",
       "       [0., 0., 1.]])"
      ]
     },
     "execution_count": 33,
     "metadata": {},
     "output_type": "execute_result"
    }
   ],
   "source": [
    "np.identity(3)"
   ]
  },
  {
   "cell_type": "markdown",
   "id": "3bac294a",
   "metadata": {},
   "source": [
    "#### 12. Create a 3x3x3 array with random values (★☆☆)"
   ]
  },
  {
   "cell_type": "code",
   "execution_count": 40,
   "id": "eadfae67",
   "metadata": {},
   "outputs": [
    {
     "data": {
      "text/plain": [
       "array([[[0.87099493, 0.93084024, 0.01457242],\n",
       "        [0.17966676, 0.27915998, 0.98054499],\n",
       "        [0.72862227, 0.37832161, 0.69312013]],\n",
       "\n",
       "       [[0.83659597, 0.33067504, 0.20602661],\n",
       "        [0.69653027, 0.84090749, 0.60312607],\n",
       "        [0.34374738, 0.43434625, 0.54811495]],\n",
       "\n",
       "       [[0.28457713, 0.96865096, 0.34643505],\n",
       "        [0.21898237, 0.56627913, 0.78409151],\n",
       "        [0.30130904, 0.66096193, 0.10035473]]])"
      ]
     },
     "execution_count": 40,
     "metadata": {},
     "output_type": "execute_result"
    }
   ],
   "source": [
    "#np.random.random((3, 3))\n",
    "np.random.random((3, 3, 3))"
   ]
  },
  {
   "cell_type": "markdown",
   "id": "466c2989",
   "metadata": {},
   "source": [
    "#### 13. Create a 10x10 array with random values and find the minimum and maximum values (★☆☆)"
   ]
  },
  {
   "cell_type": "code",
   "execution_count": 41,
   "id": "9a74dbfc",
   "metadata": {},
   "outputs": [
    {
     "data": {
      "text/plain": [
       "(0.1739713960193826, 0.9401815287104105)"
      ]
     },
     "execution_count": 41,
     "metadata": {},
     "output_type": "execute_result"
    }
   ],
   "source": [
    "arr4 = np.random.random((3, 3))\n",
    "arr4.min(), arr4.max()"
   ]
  },
  {
   "cell_type": "markdown",
   "id": "53a8edb2",
   "metadata": {},
   "source": [
    "#### 14. Create a random vector of size 30 and find the mean value (★☆☆)"
   ]
  },
  {
   "cell_type": "code",
   "execution_count": 48,
   "id": "6691530b",
   "metadata": {},
   "outputs": [
    {
     "data": {
      "text/plain": [
       "0.5237886017943105"
      ]
     },
     "execution_count": 48,
     "metadata": {},
     "output_type": "execute_result"
    }
   ],
   "source": [
    "np.random.rand(20).mean()"
   ]
  },
  {
   "cell_type": "markdown",
   "id": "cbaad31c",
   "metadata": {},
   "source": [
    "#### 15. Create a 2d array with 1 on the border and 0 inside (★☆☆)"
   ]
  },
  {
   "cell_type": "code",
   "execution_count": 50,
   "id": "ad8308e3",
   "metadata": {},
   "outputs": [
    {
     "data": {
      "text/plain": [
       "array([[1., 1., 1., 1., 1.],\n",
       "       [1., 0., 0., 0., 1.],\n",
       "       [1., 0., 0., 0., 1.],\n",
       "       [1., 0., 0., 0., 1.],\n",
       "       [1., 1., 1., 1., 1.]])"
      ]
     },
     "execution_count": 50,
     "metadata": {},
     "output_type": "execute_result"
    }
   ],
   "source": [
    "arr1 = np.ones((5, 5))\n",
    "arr1[1:-1, 1:-1] = 0\n",
    "arr1"
   ]
  },
  {
   "cell_type": "markdown",
   "id": "c5ecc267",
   "metadata": {},
   "source": [
    "#### 16. How to add a border (filled with 0's) around an existing array? (★☆☆)"
   ]
  },
  {
   "cell_type": "code",
   "execution_count": 57,
   "id": "9d5c78c4",
   "metadata": {},
   "outputs": [
    {
     "data": {
      "text/plain": [
       "array([[0., 0., 0., 0., 0., 0., 0.],\n",
       "       [0., 1., 1., 1., 1., 1., 0.],\n",
       "       [0., 1., 1., 1., 1., 1., 0.],\n",
       "       [0., 1., 1., 1., 1., 1., 0.],\n",
       "       [0., 1., 1., 1., 1., 1., 0.],\n",
       "       [0., 1., 1., 1., 1., 1., 0.],\n",
       "       [0., 0., 0., 0., 0., 0., 0.]])"
      ]
     },
     "execution_count": 57,
     "metadata": {},
     "output_type": "execute_result"
    }
   ],
   "source": [
    "arr1 = np.ones((5, 5))\n",
    "np.pad(arr1, pad_width=1, mode='constant', constant_values=0)\n"
   ]
  },
  {
   "cell_type": "markdown",
   "id": "ef909b72",
   "metadata": {},
   "source": [
    "#### 17. What is the result of the following expression? (★☆☆)\n",
    "```python\n",
    "0 * np.nan\n",
    "np.nan == np.nan\n",
    "np.inf > np.nan\n",
    "np.nan - np.nan\n",
    "np.nan in set([np.nan])\n",
    "0.3 == 3 * 0.1\n",
    "```"
   ]
  },
  {
   "cell_type": "code",
   "execution_count": 177,
   "id": "3b4985f2",
   "metadata": {},
   "outputs": [
    {
     "name": "stdout",
     "output_type": "stream",
     "text": [
      "nan\n",
      "False\n",
      "False\n",
      "nan\n",
      "True\n",
      "False\n",
      "0.30000000000000004\n"
     ]
    }
   ],
   "source": [
    "print(0 * np.nan)\n",
    "print(np.nan == np.nan)\n",
    "print(np.inf > np.nan)\n",
    "print(np.nan - np.nan)\n",
    "print(np.nan in set([np.nan]))\n",
    "print(0.3 == 3 * 0.1)\n",
    "print(3*0.1)"
   ]
  },
  {
   "cell_type": "markdown",
   "id": "502738ac",
   "metadata": {},
   "source": [
    "#### 18. Create a 5x5 matrix with values 1,2,3,4 just below the diagonal (★☆☆)"
   ]
  },
  {
   "cell_type": "code",
   "execution_count": 84,
   "id": "faed6e2b",
   "metadata": {},
   "outputs": [
    {
     "data": {
      "text/plain": [
       "array([[0, 0, 0, 0, 0],\n",
       "       [1, 0, 0, 0, 0],\n",
       "       [0, 2, 0, 0, 0],\n",
       "       [0, 0, 3, 0, 0],\n",
       "       [0, 0, 0, 4, 0]])"
      ]
     },
     "execution_count": 84,
     "metadata": {},
     "output_type": "execute_result"
    }
   ],
   "source": [
    "np.diag(np.arange(1,5),k=-1)"
   ]
  },
  {
   "cell_type": "code",
   "execution_count": null,
   "id": "0406239d",
   "metadata": {},
   "outputs": [],
   "source": []
  },
  {
   "cell_type": "markdown",
   "id": "a65da660",
   "metadata": {},
   "source": [
    "#### 19. Create a 8x8 matrix and fill it with a checkerboard pattern (★☆☆)"
   ]
  },
  {
   "cell_type": "code",
   "execution_count": 180,
   "id": "ed150400",
   "metadata": {},
   "outputs": [
    {
     "data": {
      "text/plain": [
       "array([[1., 0., 1., 0., 1., 0., 1., 0.],\n",
       "       [0., 1., 0., 1., 0., 1., 0., 1.],\n",
       "       [1., 0., 1., 0., 1., 0., 1., 0.],\n",
       "       [0., 1., 0., 1., 0., 1., 0., 1.],\n",
       "       [1., 0., 1., 0., 1., 0., 1., 0.],\n",
       "       [0., 1., 0., 1., 0., 1., 0., 1.],\n",
       "       [1., 0., 1., 0., 1., 0., 1., 0.],\n",
       "       [0., 1., 0., 1., 0., 1., 0., 1.]])"
      ]
     },
     "execution_count": 180,
     "metadata": {},
     "output_type": "execute_result"
    }
   ],
   "source": [
    "arr1 = np.ones ((8,8))\n",
    "arr1[1::2,::2]= 0\n",
    "arr1[::2, 1::2] = 0\n",
    "arr1"
   ]
  },
  {
   "cell_type": "markdown",
   "id": "9f7f9c49",
   "metadata": {},
   "source": [
    "#### 20. Consider a (6,7,8) shape array, what is the index (x,y,z) of the 100th element? (★☆☆)"
   ]
  },
  {
   "cell_type": "code",
   "execution_count": 178,
   "id": "3782b5a9",
   "metadata": {},
   "outputs": [
    {
     "data": {
      "text/plain": [
       "(1, 5, 3)"
      ]
     },
     "execution_count": 178,
     "metadata": {},
     "output_type": "execute_result"
    }
   ],
   "source": [
    "np.unravel_index(99, (6,7,8))"
   ]
  },
  {
   "cell_type": "markdown",
   "id": "66bfda35",
   "metadata": {},
   "source": [
    "#### 21. Create a checkerboard 8x8 matrix using the tile function (★☆☆)"
   ]
  },
  {
   "cell_type": "code",
   "execution_count": 73,
   "id": "4c07477c",
   "metadata": {},
   "outputs": [
    {
     "data": {
      "text/plain": [
       "array([[1, 2, 1, 2, 1, 2, 1, 2],\n",
       "       [3, 4, 3, 4, 3, 4, 3, 4],\n",
       "       [1, 2, 1, 2, 1, 2, 1, 2],\n",
       "       [3, 4, 3, 4, 3, 4, 3, 4],\n",
       "       [1, 2, 1, 2, 1, 2, 1, 2],\n",
       "       [3, 4, 3, 4, 3, 4, 3, 4],\n",
       "       [1, 2, 1, 2, 1, 2, 1, 2],\n",
       "       [3, 4, 3, 4, 3, 4, 3, 4]])"
      ]
     },
     "execution_count": 73,
     "metadata": {},
     "output_type": "execute_result"
    }
   ],
   "source": [
    "arr1 = np.array([[1, 2],\n",
    "               [3, 4]])\n",
    "np.tile(arr1, (4, 4))"
   ]
  },
  {
   "cell_type": "markdown",
   "id": "d5bcfc08",
   "metadata": {},
   "source": [
    "#### 22. Normalize a 5x5 random matrix (★☆☆)"
   ]
  },
  {
   "cell_type": "code",
   "execution_count": 74,
   "id": "cea6c993",
   "metadata": {},
   "outputs": [
    {
     "name": "stdout",
     "output_type": "stream",
     "text": [
      "[[0.08161126 0.6948205  0.93646245 0.39708228 0.35214739]\n",
      " [0.50046774 0.35372161 1.         0.69209122 0.92577423]\n",
      " [0.6339583  0.30549733 0.         0.31552704 0.68439678]\n",
      " [0.09553619 0.69710637 0.39064586 0.78836326 0.06341983]\n",
      " [0.93877321 0.32798539 0.92811066 0.86113558 0.04598665]]\n"
     ]
    }
   ],
   "source": [
    "a=np.random.random((5,5))\n",
    "a_min,a_max=a.min(),a.max()\n",
    "normalize=(a-a_min)/(a_max-a_min)\n",
    "print(normalize)"
   ]
  },
  {
   "cell_type": "markdown",
   "id": "f9a0911e",
   "metadata": {},
   "source": [
    "#### 23. Create a custom dtype that describes a color as four unsigned bytes (RGBA) (★☆☆)"
   ]
  },
  {
   "cell_type": "code",
   "execution_count": 78,
   "id": "d165044b",
   "metadata": {},
   "outputs": [
    {
     "name": "stdout",
     "output_type": "stream",
     "text": [
      "[(255,   0,   0, 255) (  0, 255,   0, 128) (  0,   0, 255,   0)]\n",
      "[  0 255   0]\n"
     ]
    }
   ],
   "source": [
    "color_rgba_dtype = np.dtype([\n",
    "    ('R', np.uint8), \n",
    "    ('G', np.uint8), \n",
    "    ('B', np.uint8),\n",
    "    ('A', np.uint8) \n",
    "])\n",
    "\n",
    "\n",
    "colors = np.array([\n",
    "    (255, 0, 0, 255),  \n",
    "    (0, 255, 0, 128),  \n",
    "    (0, 0, 255, 0)     \n",
    "], dtype=color_rgba_dtype)\n",
    "\n",
    "print(colors)\n",
    "print(colors['G'])"
   ]
  },
  {
   "cell_type": "markdown",
   "id": "654805b1",
   "metadata": {},
   "source": [
    "#### 24. Multiply a 5x3 matrix by a 3x2 matrix (real matrix product) (★☆☆)"
   ]
  },
  {
   "cell_type": "code",
   "execution_count": 85,
   "id": "6a42619f",
   "metadata": {},
   "outputs": [
    {
     "data": {
      "text/plain": [
       "array([[3., 3.],\n",
       "       [3., 3.],\n",
       "       [3., 3.],\n",
       "       [3., 3.],\n",
       "       [3., 3.]])"
      ]
     },
     "execution_count": 85,
     "metadata": {},
     "output_type": "execute_result"
    }
   ],
   "source": [
    "np.dot(np.ones((5,3)),np.ones((3,2)))"
   ]
  },
  {
   "cell_type": "code",
   "execution_count": 86,
   "id": "6353ad4f",
   "metadata": {},
   "outputs": [
    {
     "data": {
      "text/plain": [
       "array([[1., 1., 1.],\n",
       "       [1., 1., 1.],\n",
       "       [1., 1., 1.],\n",
       "       [1., 1., 1.],\n",
       "       [1., 1., 1.]])"
      ]
     },
     "execution_count": 86,
     "metadata": {},
     "output_type": "execute_result"
    }
   ],
   "source": [
    "np.ones((5, 3))  # for practice"
   ]
  },
  {
   "cell_type": "markdown",
   "id": "994c25df",
   "metadata": {},
   "source": [
    "#### 25. Given a 1D array, negate all elements which are between 3 and 8, in place. (★☆☆)"
   ]
  },
  {
   "cell_type": "code",
   "execution_count": 87,
   "id": "e4b39c03",
   "metadata": {},
   "outputs": [
    {
     "name": "stdout",
     "output_type": "stream",
     "text": [
      "[1, 2, -3, -4, -5, -6, -7, -8, 9, 10]\n"
     ]
    }
   ],
   "source": [
    "def negate_elements(arr):\n",
    "    for i in range(len(arr)):\n",
    "        if 3 <= arr[i] <= 8:\n",
    "            arr[i] *= -1\n",
    "    return arr\n",
    "\n",
    "arr = [1, 2, 3, 4, 5, 6, 7, 8, 9, 10]\n",
    "print(negate_elements(arr))"
   ]
  },
  {
   "cell_type": "markdown",
   "id": "b7d15d1a",
   "metadata": {},
   "source": [
    "#### 26. What is the output of the following script? (★☆☆)\n",
    "```python\n",
    "# Author: Jake VanderPlas\n",
    "\n",
    "print(sum(range(5),-1))\n",
    "from numpy import *\n",
    "print(sum(range(5),-1))\n",
    "```"
   ]
  },
  {
   "cell_type": "code",
   "execution_count": 94,
   "id": "4c95bc3f",
   "metadata": {},
   "outputs": [
    {
     "data": {
      "text/plain": [
       "9"
      ]
     },
     "execution_count": 94,
     "metadata": {},
     "output_type": "execute_result"
    }
   ],
   "source": [
    "9\n",
    "10"
   ]
  },
  {
   "cell_type": "code",
   "execution_count": null,
   "id": "009cc15f",
   "metadata": {},
   "outputs": [],
   "source": []
  },
  {
   "cell_type": "markdown",
   "id": "a34f0d08",
   "metadata": {},
   "source": [
    "#### 27. Consider an integer vector Z, which of these expressions are legal? (★☆☆)\n",
    "```python\n",
    "Z**Z\n",
    "2 << Z >> 2\n",
    "Z <- Z\n",
    "1j*Z\n",
    "Z/1/1\n",
    "Z<Z>Z\n",
    "```"
   ]
  },
  {
   "cell_type": "code",
   "execution_count": 97,
   "id": "564658fc",
   "metadata": {},
   "outputs": [
    {
     "ename": "NameError",
     "evalue": "name 'Z' is not defined",
     "output_type": "error",
     "traceback": [
      "\u001b[0;31m---------------------------------------------------------------------------\u001b[0m",
      "\u001b[0;31mNameError\u001b[0m                                 Traceback (most recent call last)",
      "Cell \u001b[0;32mIn[97], line 1\u001b[0m\n\u001b[0;32m----> 1\u001b[0m \u001b[38;5;28mprint\u001b[39m(\u001b[43mZ\u001b[49m\u001b[38;5;241m*\u001b[39m\u001b[38;5;241m*\u001b[39mZ)\n\u001b[1;32m      2\u001b[0m \u001b[38;5;28mprint\u001b[39m(\u001b[38;5;241m2\u001b[39m \u001b[38;5;241m<<\u001b[39m Z \u001b[38;5;241m>>\u001b[39m \u001b[38;5;241m2\u001b[39m)\n\u001b[1;32m      3\u001b[0m \u001b[38;5;28mprint\u001b[39m(Z \u001b[38;5;241m<\u001b[39m\u001b[38;5;241m-\u001b[39m Z)\n",
      "\u001b[0;31mNameError\u001b[0m: name 'Z' is not defined"
     ]
    }
   ],
   "source": [
    "print(Z**Z)   # it is valid for only positive numbers\n",
    "print(2 << Z >> 2)\n",
    "print(Z <- Z)  # this expression not corrcet\n",
    "print(1j*Z)\n",
    "print(Z/1/1)\n",
    "print(Z<Z>Z)   # it is also not correct"
   ]
  },
  {
   "cell_type": "markdown",
   "id": "c34e94bf",
   "metadata": {},
   "source": [
    "#### 28. What are the result of the following expressions? (★☆☆)\n",
    "```python\n",
    "np.array(0) / np.array(0)\n",
    "np.array(0) // np.array(0)\n",
    "np.array([np.nan]).astype(int).astype(float)\n",
    "```"
   ]
  },
  {
   "cell_type": "code",
   "execution_count": 98,
   "id": "56663562",
   "metadata": {},
   "outputs": [
    {
     "name": "stdout",
     "output_type": "stream",
     "text": [
      "nan\n",
      "0\n",
      "[-9.22337204e+18]\n"
     ]
    },
    {
     "name": "stderr",
     "output_type": "stream",
     "text": [
      "/tmp/ipykernel_11851/3912170336.py:1: RuntimeWarning: invalid value encountered in divide\n",
      "  print(np.array(0) / np.array(0))\n",
      "/tmp/ipykernel_11851/3912170336.py:2: RuntimeWarning: divide by zero encountered in floor_divide\n",
      "  print(np.array(0) // np.array(0))\n",
      "/tmp/ipykernel_11851/3912170336.py:3: RuntimeWarning: invalid value encountered in cast\n",
      "  print(np.array([np.nan]).astype(int).astype(float))\n"
     ]
    }
   ],
   "source": [
    "print(np.array(0) / np.array(0))\n",
    "print(np.array(0) // np.array(0))\n",
    "print(np.array([np.nan]).astype(int).astype(float))"
   ]
  },
  {
   "cell_type": "markdown",
   "id": "546f5e7b",
   "metadata": {},
   "source": [
    "#### 29. How to round away from zero a float array ? (★☆☆)"
   ]
  },
  {
   "cell_type": "code",
   "execution_count": 101,
   "id": "f725a6d2",
   "metadata": {},
   "outputs": [
    {
     "data": {
      "text/plain": [
       "array([0., 0., 0., 0., 0.])"
      ]
     },
     "execution_count": 101,
     "metadata": {},
     "output_type": "execute_result"
    }
   ],
   "source": [
    "arr = np.zeros(5)\n",
    "np.round(arr)"
   ]
  },
  {
   "cell_type": "markdown",
   "id": "eadca856",
   "metadata": {},
   "source": [
    "#### 30. How to find common values between two arrays? (★☆☆)"
   ]
  },
  {
   "cell_type": "code",
   "execution_count": 104,
   "id": "e0270b5b",
   "metadata": {},
   "outputs": [
    {
     "data": {
      "text/plain": [
       "array([1, 3, 4])"
      ]
     },
     "execution_count": 104,
     "metadata": {},
     "output_type": "execute_result"
    }
   ],
   "source": [
    "ar1 = np.array([0, 1, 2, 3, 4])\n",
    "ar2 = [1, 3, 4]\n",
    "\n",
    "np.intersect1d(ar1, ar2)"
   ]
  },
  {
   "cell_type": "markdown",
   "id": "ca16ca22",
   "metadata": {},
   "source": [
    "#### 31. How to ignore all numpy warnings (not recommended)? (★☆☆)"
   ]
  },
  {
   "cell_type": "code",
   "execution_count": null,
   "id": "7d7208ef",
   "metadata": {},
   "outputs": [],
   "source": []
  },
  {
   "cell_type": "markdown",
   "id": "c7871d0d",
   "metadata": {},
   "source": [
    "#### 32. Is the following expressions true? (★☆☆)\n",
    "```python\n",
    "np.sqrt(-1) == np.emath.sqrt(-1)\n",
    "```"
   ]
  },
  {
   "cell_type": "code",
   "execution_count": null,
   "id": "acc3701a",
   "metadata": {},
   "outputs": [],
   "source": []
  },
  {
   "cell_type": "markdown",
   "id": "e0433e30",
   "metadata": {},
   "source": [
    "#### 33. How to get the dates of yesterday, today and tomorrow? (★☆☆)"
   ]
  },
  {
   "cell_type": "code",
   "execution_count": 147,
   "id": "9c4d2152",
   "metadata": {},
   "outputs": [
    {
     "name": "stdout",
     "output_type": "stream",
     "text": [
      "2025-06-17 2025-06-18 2025-06-19\n"
     ]
    }
   ],
   "source": [
    "yesterday = np.datetime64('today') - np.timedelta64(1)\n",
    "today     = np.datetime64('today')\n",
    "tomorrow  = np.datetime64('today') + np.timedelta64(1)\n",
    "\n",
    "print(yesterday, today, tomorrow)"
   ]
  },
  {
   "cell_type": "markdown",
   "id": "9f52a2ef",
   "metadata": {},
   "source": [
    "#### 34. How to get all the dates corresponding to the month of July 2016? (★★☆)"
   ]
  },
  {
   "cell_type": "code",
   "execution_count": 148,
   "id": "d6c34dec",
   "metadata": {},
   "outputs": [
    {
     "data": {
      "text/plain": [
       "array(['2016-07-01', '2016-07-02', '2016-07-03', '2016-07-04',\n",
       "       '2016-07-05', '2016-07-06', '2016-07-07', '2016-07-08',\n",
       "       '2016-07-09', '2016-07-10', '2016-07-11', '2016-07-12',\n",
       "       '2016-07-13', '2016-07-14', '2016-07-15', '2016-07-16',\n",
       "       '2016-07-17', '2016-07-18', '2016-07-19', '2016-07-20',\n",
       "       '2016-07-21', '2016-07-22', '2016-07-23', '2016-07-24',\n",
       "       '2016-07-25', '2016-07-26', '2016-07-27', '2016-07-28',\n",
       "       '2016-07-29', '2016-07-30', '2016-07-31'], dtype='datetime64[D]')"
      ]
     },
     "execution_count": 148,
     "metadata": {},
     "output_type": "execute_result"
    }
   ],
   "source": [
    "np.arange('2016-07', '2016-08', dtype='datetime64[D]')"
   ]
  },
  {
   "cell_type": "markdown",
   "id": "4a64e059",
   "metadata": {},
   "source": [
    "#### 35. How to compute ((A+B)*(-A/2)) in place (without copy)? (★★☆)"
   ]
  },
  {
   "cell_type": "code",
   "execution_count": 145,
   "id": "49267f60",
   "metadata": {},
   "outputs": [
    {
     "name": "stdout",
     "output_type": "stream",
     "text": [
      "[3. 3. 3.]\n",
      "[0.5 0.5 0.5]\n",
      "[-0.5 -0.5 -0.5]\n",
      "[-1.5 -1.5 -1.5]\n"
     ]
    }
   ],
   "source": [
    "A = np.ones(3)*1\n",
    "B = np.ones(3)*2\n",
    "print(np.add(A,B,out=B))\n",
    "print(np.divide(A,2,out=A))\n",
    "print(np.negative(A,out=A))\n",
    "print(np.multiply(A,B,out=A))"
   ]
  },
  {
   "cell_type": "markdown",
   "id": "8a98c2a8",
   "metadata": {},
   "source": [
    "#### 36. Extract the integer part of a random array of positive numbers using 4 different methods (★★☆)"
   ]
  },
  {
   "cell_type": "code",
   "execution_count": 182,
   "id": "368130b3",
   "metadata": {},
   "outputs": [
    {
     "data": {
      "text/plain": [
       "array([1, 2, 3, 4])"
      ]
     },
     "execution_count": 182,
     "metadata": {},
     "output_type": "execute_result"
    }
   ],
   "source": [
    "arr = np.array([1, 2, 3, 4])\n",
    "\n",
    "arr.astype(int)\n",
    "\n",
    "np.trunc(arr)\n",
    "\n",
    "arr//1\n",
    "\n",
    "#used loop and convert into int data type"
   ]
  },
  {
   "cell_type": "markdown",
   "id": "5a2e3d85",
   "metadata": {},
   "source": [
    "#### 37. Create a 5x5 matrix with row values ranging from 0 to 4 (★★☆)"
   ]
  },
  {
   "cell_type": "code",
   "execution_count": 143,
   "id": "1d974e8f",
   "metadata": {},
   "outputs": [
    {
     "data": {
      "text/plain": [
       "array([[0., 1., 2., 3., 4.],\n",
       "       [0., 1., 2., 3., 4.],\n",
       "       [0., 1., 2., 3., 4.],\n",
       "       [0., 1., 2., 3., 4.],\n",
       "       [0., 1., 2., 3., 4.]])"
      ]
     },
     "execution_count": 143,
     "metadata": {},
     "output_type": "execute_result"
    }
   ],
   "source": [
    "a=np.zeros((5,5))\n",
    "a=a+np.arange(5)\n",
    "a"
   ]
  },
  {
   "cell_type": "markdown",
   "id": "9720e2d5",
   "metadata": {},
   "source": [
    "#### 38. Consider a generator function that generates 10 integers and use it to build an array (★☆☆)"
   ]
  },
  {
   "cell_type": "code",
   "execution_count": null,
   "id": "e5dd8fc9",
   "metadata": {},
   "outputs": [],
   "source": []
  },
  {
   "cell_type": "markdown",
   "id": "c6f2c912",
   "metadata": {},
   "source": [
    "#### 39. Create a vector of size 10 with values ranging from 0 to 1, both excluded (★★☆)"
   ]
  },
  {
   "cell_type": "code",
   "execution_count": 107,
   "id": "6aaa27d3",
   "metadata": {},
   "outputs": [
    {
     "data": {
      "text/plain": [
       "array([0.09090909, 0.18181818, 0.27272727, 0.36363636, 0.45454545,\n",
       "       0.54545455, 0.63636364, 0.72727273, 0.81818182, 0.90909091])"
      ]
     },
     "execution_count": 107,
     "metadata": {},
     "output_type": "execute_result"
    }
   ],
   "source": [
    "np.linspace(0,1,12,endpoint=True)[1:-1]"
   ]
  },
  {
   "cell_type": "markdown",
   "id": "a36d6ee4",
   "metadata": {},
   "source": [
    "#### 40. Create a random vector of size 10 and sort it (★★☆)"
   ]
  },
  {
   "cell_type": "code",
   "execution_count": 109,
   "id": "e589d216",
   "metadata": {},
   "outputs": [
    {
     "data": {
      "text/plain": [
       "array([0.067245  , 0.07150406, 0.12277907, 0.236962  , 0.31725118,\n",
       "       0.44462577, 0.44507664, 0.46417643, 0.55635904, 0.89860441])"
      ]
     },
     "execution_count": 109,
     "metadata": {},
     "output_type": "execute_result"
    }
   ],
   "source": [
    "ar1=np.random.random(10)\n",
    "ar1.sort()\n",
    "ar1"
   ]
  },
  {
   "cell_type": "markdown",
   "id": "0fb4ad68",
   "metadata": {},
   "source": [
    "#### 41. How to sum a small array faster than np.sum? (★★☆)"
   ]
  },
  {
   "cell_type": "code",
   "execution_count": 110,
   "id": "a1ba05a0",
   "metadata": {},
   "outputs": [
    {
     "data": {
      "text/plain": [
       "15"
      ]
     },
     "execution_count": 110,
     "metadata": {},
     "output_type": "execute_result"
    }
   ],
   "source": [
    "arr = np.array([1, 2, 3, 4, 5])\n",
    "np.add.reduce(arr)"
   ]
  },
  {
   "cell_type": "markdown",
   "id": "024ac365",
   "metadata": {},
   "source": [
    "#### 42. Consider two random array A and B, check if they are equal (★★☆)"
   ]
  },
  {
   "cell_type": "code",
   "execution_count": 152,
   "id": "7db3846d",
   "metadata": {},
   "outputs": [
    {
     "name": "stdout",
     "output_type": "stream",
     "text": [
      "[1 0 1 1 1] [1 0 0 1 0]\n",
      "False\n"
     ]
    }
   ],
   "source": [
    "A = np.random.randint(0,2,5)\n",
    "B = np.random.randint(0,2,5)\n",
    "\n",
    "print(A, B)\n",
    "equal = np.array_equal(A,B)\n",
    "print(equal)"
   ]
  },
  {
   "cell_type": "markdown",
   "id": "c68d2401",
   "metadata": {},
   "source": [
    "#### 43. Make an array immutable (read-only) (★★☆)"
   ]
  },
  {
   "cell_type": "code",
   "execution_count": 113,
   "id": "7828539d",
   "metadata": {},
   "outputs": [
    {
     "data": {
      "text/plain": [
       "array([1., 1., 1., 1., 1., 1., 1., 1., 1., 1., 1., 1., 1., 1., 1., 1., 1.,\n",
       "       1.])"
      ]
     },
     "execution_count": 113,
     "metadata": {},
     "output_type": "execute_result"
    }
   ],
   "source": [
    "ar1 = np.ones(18)\n",
    "ar1.setflags(write=False)\n",
    "ar1"
   ]
  },
  {
   "cell_type": "markdown",
   "id": "55df6280",
   "metadata": {},
   "source": [
    "#### 44. Consider a random 10x2 matrix representing cartesian coordinates, convert them to polar coordinates (★★☆)"
   ]
  },
  {
   "cell_type": "code",
   "execution_count": null,
   "id": "f1c86ea0",
   "metadata": {},
   "outputs": [],
   "source": []
  },
  {
   "cell_type": "markdown",
   "id": "2f60f1ec",
   "metadata": {},
   "source": [
    "#### 45. Create random vector of size 10 and replace the maximum value by 0 (★★☆)"
   ]
  },
  {
   "cell_type": "code",
   "execution_count": 114,
   "id": "d9f48f1c",
   "metadata": {},
   "outputs": [
    {
     "data": {
      "text/plain": [
       "array([0.46296875, 0.48553277, 0.16061206, 0.51244277, 0.        ,\n",
       "       0.25871404, 0.57322149, 0.04716085, 0.51345937, 0.0068286 ])"
      ]
     },
     "execution_count": 114,
     "metadata": {},
     "output_type": "execute_result"
    }
   ],
   "source": [
    "ar1 = np.random.random(10)\n",
    "ar1[ar1.argmax()] = 0\n",
    "ar1"
   ]
  },
  {
   "cell_type": "markdown",
   "id": "084e8ad4",
   "metadata": {},
   "source": [
    "#### 46. Create a structured array with `x` and `y` coordinates covering the [0,1]x[0,1] area (★★☆)"
   ]
  },
  {
   "cell_type": "code",
   "execution_count": null,
   "id": "58b47c13",
   "metadata": {},
   "outputs": [],
   "source": []
  },
  {
   "cell_type": "markdown",
   "id": "d7b9bc42",
   "metadata": {},
   "source": [
    "#### 47. Given two arrays, X and Y, construct the Cauchy matrix C (Cij =1/(xi - yj)) (★★☆)"
   ]
  },
  {
   "cell_type": "code",
   "execution_count": null,
   "id": "a24824fb",
   "metadata": {},
   "outputs": [],
   "source": []
  },
  {
   "cell_type": "markdown",
   "id": "65ebc11b",
   "metadata": {},
   "source": [
    "#### 48. Print the minimum and maximum representable value for each numpy scalar type (★★☆)"
   ]
  },
  {
   "cell_type": "code",
   "execution_count": null,
   "id": "e45d38fb",
   "metadata": {},
   "outputs": [],
   "source": []
  },
  {
   "cell_type": "markdown",
   "id": "9b317a98",
   "metadata": {},
   "source": [
    "#### 49. How to print all the values of an array? (★★☆)"
   ]
  },
  {
   "cell_type": "code",
   "execution_count": 155,
   "id": "309cdeb9",
   "metadata": {},
   "outputs": [
    {
     "name": "stdout",
     "output_type": "stream",
     "text": [
      "[[0. 0. 0. 0. 0. 0. 0. 0. 0. 0.]\n",
      " [0. 0. 0. 0. 0. 0. 0. 0. 0. 0.]\n",
      " [0. 0. 0. 0. 0. 0. 0. 0. 0. 0.]\n",
      " [0. 0. 0. 0. 0. 0. 0. 0. 0. 0.]\n",
      " [0. 0. 0. 0. 0. 0. 0. 0. 0. 0.]\n",
      " [0. 0. 0. 0. 0. 0. 0. 0. 0. 0.]\n",
      " [0. 0. 0. 0. 0. 0. 0. 0. 0. 0.]\n",
      " [0. 0. 0. 0. 0. 0. 0. 0. 0. 0.]\n",
      " [0. 0. 0. 0. 0. 0. 0. 0. 0. 0.]\n",
      " [0. 0. 0. 0. 0. 0. 0. 0. 0. 0.]]\n"
     ]
    }
   ],
   "source": [
    "np.set_printoptions(threshold=float(\"inf\"))\n",
    "print(np.zeros((10,10)))"
   ]
  },
  {
   "cell_type": "markdown",
   "id": "b580f9d0",
   "metadata": {},
   "source": [
    "#### 50. How to find the closest value (to a given scalar) in a vector? (★★☆)"
   ]
  },
  {
   "cell_type": "code",
   "execution_count": 159,
   "id": "ebfb6714",
   "metadata": {},
   "outputs": [
    {
     "name": "stdout",
     "output_type": "stream",
     "text": [
      "[ 0  1  2  3  4  5  6  7  8  9 10 11 12 13 14 15 16 17 18 19 20 21 22 23\n",
      " 24 25 26 27 28 29 30 31 32 33 34 35 36 37 38 39 40 41 42 43 44 45 46 47\n",
      " 48 49 50 51 52 53 54 55 56 57 58 59 60 61 62 63 64 65 66 67 68 69 70 71\n",
      " 72 73 74 75 76 77 78 79 80 81 82 83 84 85 86 87 88 89 90 91 92 93 94 95\n",
      " 96 97 98 99]\n",
      "38.69584803245263\n",
      "39\n"
     ]
    }
   ],
   "source": [
    "ar = np.arange(100)\n",
    "print(ar)\n",
    "v = np.random.uniform(0,100)\n",
    "print(v)\n",
    "index = (np.abs(ar-v)).argmin()\n",
    "print(ar[index])"
   ]
  },
  {
   "cell_type": "markdown",
   "id": "602e6252",
   "metadata": {},
   "source": [
    "#### 51. Create a structured array representing a position (x,y) and a color (r,g,b) (★★☆)"
   ]
  },
  {
   "cell_type": "code",
   "execution_count": null,
   "id": "cf002b3a",
   "metadata": {},
   "outputs": [],
   "source": []
  },
  {
   "cell_type": "markdown",
   "id": "78bcd92f",
   "metadata": {},
   "source": [
    "#### 52. Consider a random vector with shape (100,2) representing coordinates, find point by point distances (★★☆)"
   ]
  },
  {
   "cell_type": "code",
   "execution_count": 125,
   "id": "fea7f9a6",
   "metadata": {},
   "outputs": [
    {
     "data": {
      "text/plain": [
       "array([[0.        , 0.8685979 , 0.89888989, ..., 1.02151673, 0.887441  ,\n",
       "        0.76454751],\n",
       "       [0.8685979 , 0.        , 0.14608772, ..., 0.41682236, 0.62700536,\n",
       "        0.76353115],\n",
       "       [0.89888989, 0.14608772, 0.        , ..., 0.55846416, 0.77049396,\n",
       "        0.89586022],\n",
       "       ...,\n",
       "       [1.02151673, 0.41682236, 0.55846416, ..., 0.        , 0.32766215,\n",
       "        0.54488845],\n",
       "       [0.887441  , 0.62700536, 0.77049396, ..., 0.32766215, 0.        ,\n",
       "        0.22912888],\n",
       "       [0.76454751, 0.76353115, 0.89586022, ..., 0.54488845, 0.22912888,\n",
       "        0.        ]])"
      ]
     },
     "execution_count": 125,
     "metadata": {},
     "output_type": "execute_result"
    }
   ],
   "source": [
    "points = np.random.random((100, 2))\n",
    "diff = points[:, np.newaxis, :] - points[np.newaxis, :, :]\n",
    "distances = np.sqrt(np.sum(diff**2, axis=-1))\n",
    "distances"
   ]
  },
  {
   "cell_type": "markdown",
   "id": "343c5a85",
   "metadata": {},
   "source": [
    "#### 53. How to convert a float (32 bits) array into an integer (32 bits) in place?"
   ]
  },
  {
   "cell_type": "code",
   "execution_count": 117,
   "id": "fc1b687b",
   "metadata": {},
   "outputs": [
    {
     "data": {
      "text/plain": [
       "array([0, 1, 2, 3, 4, 5, 6, 7, 8, 9], dtype=int32)"
      ]
     },
     "execution_count": 117,
     "metadata": {},
     "output_type": "execute_result"
    }
   ],
   "source": [
    "ar = np.arange(10, dtype=np.float32)\n",
    "ar = ar.astype(np.int32)\n",
    "ar"
   ]
  },
  {
   "cell_type": "markdown",
   "id": "a69e1ace",
   "metadata": {},
   "source": [
    "#### 54. How to read the following file? (★★☆)\n",
    "```\n",
    "1, 2, 3, 4, 5\n",
    "6,  ,  , 7, 8\n",
    " ,  , 9,10,11\n",
    "```"
   ]
  },
  {
   "cell_type": "code",
   "execution_count": null,
   "id": "1c7957d4",
   "metadata": {},
   "outputs": [],
   "source": []
  },
  {
   "cell_type": "markdown",
   "id": "c23bd80d",
   "metadata": {},
   "source": [
    "#### 55. What is the equivalent of enumerate for numpy arrays? (★★☆)"
   ]
  },
  {
   "cell_type": "code",
   "execution_count": 127,
   "id": "d95d9578",
   "metadata": {},
   "outputs": [
    {
     "name": "stdout",
     "output_type": "stream",
     "text": [
      "Row index: 0, Row: [1 2]\n",
      "Row index: 1, Row: [3 4]\n"
     ]
    }
   ],
   "source": [
    "arr = np.array([[1, 2], [3, 4]])\n",
    "for i, row in enumerate(arr):\n",
    "    print(f\"Row index: {i}, Row: {row}\")"
   ]
  },
  {
   "cell_type": "markdown",
   "id": "2153a5ec",
   "metadata": {},
   "source": [
    "#### 56. Generate a generic 2D Gaussian-like array (★★☆)"
   ]
  },
  {
   "cell_type": "code",
   "execution_count": null,
   "id": "61122d1e",
   "metadata": {},
   "outputs": [],
   "source": []
  },
  {
   "cell_type": "markdown",
   "id": "2e76d589",
   "metadata": {},
   "source": [
    "#### 57. How to randomly place p elements in a 2D array? (★★☆)"
   ]
  },
  {
   "cell_type": "code",
   "execution_count": null,
   "id": "0c2e4fcc",
   "metadata": {},
   "outputs": [],
   "source": []
  },
  {
   "cell_type": "markdown",
   "id": "8b3933eb",
   "metadata": {},
   "source": [
    "#### 58. Subtract the mean of each row of a matrix (★★☆)"
   ]
  },
  {
   "cell_type": "code",
   "execution_count": 186,
   "id": "a306c9ef",
   "metadata": {},
   "outputs": [
    {
     "data": {
      "text/plain": [
       "array([[-0.00146447, -0.19959462, -0.09005972, -0.2668653 , -0.12257452,\n",
       "         0.52413114,  0.03826277, -0.07362662,  0.02896994,  0.1628214 ],\n",
       "       [ 0.39742943, -0.22277037, -0.15683947, -0.35422149,  0.38419195,\n",
       "        -0.43529389,  0.30002047, -0.21898054,  0.45752579, -0.15106187],\n",
       "       [ 0.44341135, -0.29888179,  0.43412417, -0.34762808, -0.3360204 ,\n",
       "         0.18947857, -0.19519032, -0.12413392,  0.30298317, -0.06814275],\n",
       "       [ 0.30228447, -0.370496  , -0.31247337, -0.01839542,  0.2248318 ,\n",
       "        -0.00851865,  0.07481055,  0.09552101,  0.35217149, -0.33973589],\n",
       "       [-0.22541286, -0.24731871,  0.2113273 ,  0.39302488,  0.39712896,\n",
       "        -0.25004247,  0.0685629 ,  0.29011206, -0.15567589, -0.48170618]])"
      ]
     },
     "execution_count": 186,
     "metadata": {},
     "output_type": "execute_result"
    }
   ],
   "source": [
    "ar = np.random.rand(5, 10)\n",
    "\n",
    "ar1 = ar - ar.mean(axis=1, keepdims=True)\n",
    "ar1"
   ]
  },
  {
   "cell_type": "markdown",
   "id": "ea8807c0",
   "metadata": {},
   "source": [
    "#### 59. How to sort an array by the nth column? (★★☆)"
   ]
  },
  {
   "cell_type": "code",
   "execution_count": 132,
   "id": "cc89a699",
   "metadata": {},
   "outputs": [
    {
     "name": "stdout",
     "output_type": "stream",
     "text": [
      "[[5 5 2]\n",
      " [9 3 4]\n",
      " [2 8 7]]\n"
     ]
    }
   ],
   "source": [
    "nums = np.random.randint(0, 10, (3, 3))\n",
    "print(nums[nums[:, 2].argsort()])"
   ]
  },
  {
   "cell_type": "markdown",
   "id": "00fa00a1",
   "metadata": {},
   "source": [
    "#### 60. How to tell if a given 2D array has null columns? (★★☆)"
   ]
  },
  {
   "cell_type": "code",
   "execution_count": 136,
   "id": "3436e165",
   "metadata": {},
   "outputs": [
    {
     "name": "stdout",
     "output_type": "stream",
     "text": [
      "[[0 2 1 1 0 1 1 2 1 2]\n",
      " [1 2 0 1 1 1 1 1 1 0]\n",
      " [2 0 2 0 0 1 2 1 0 1]]\n",
      "False\n"
     ]
    }
   ],
   "source": [
    "ar = np.random.randint(0,3,(3,10))\n",
    "print(ar)\n",
    "print((~ar.any(axis=0)).any())\n"
   ]
  },
  {
   "cell_type": "markdown",
   "id": "5a65c7a2",
   "metadata": {},
   "source": [
    "#### 61. Find the nearest value from a given value in an array (★★☆)"
   ]
  },
  {
   "cell_type": "code",
   "execution_count": 135,
   "id": "73f149d6",
   "metadata": {},
   "outputs": [
    {
     "data": {
      "text/plain": [
       "0.6200432504034848"
      ]
     },
     "execution_count": 135,
     "metadata": {},
     "output_type": "execute_result"
    }
   ],
   "source": [
    "ar = np.random.uniform(0,1,10)\n",
    "z = 0.5\n",
    "m = ar.flat[np.abs(ar - z).argmin()]\n",
    "m"
   ]
  },
  {
   "cell_type": "markdown",
   "id": "dd83e8af",
   "metadata": {},
   "source": [
    "#### 62. Considering two arrays with shape (1,3) and (3,1), how to compute their sum using an iterator? (★★☆)"
   ]
  },
  {
   "cell_type": "code",
   "execution_count": null,
   "id": "29a709a1",
   "metadata": {},
   "outputs": [],
   "source": []
  },
  {
   "cell_type": "markdown",
   "id": "6c042efa",
   "metadata": {},
   "source": [
    "#### 63. Create an array class that has a name attribute (★★☆)"
   ]
  },
  {
   "cell_type": "code",
   "execution_count": null,
   "id": "45b3d2e0",
   "metadata": {},
   "outputs": [],
   "source": []
  },
  {
   "cell_type": "markdown",
   "id": "0a075c3d",
   "metadata": {},
   "source": [
    "#### 64. Consider a given vector, how to add 1 to each element indexed by a second vector (be careful with repeated indices)? (★★★)"
   ]
  },
  {
   "cell_type": "code",
   "execution_count": 188,
   "id": "36c50470",
   "metadata": {},
   "outputs": [
    {
     "name": "stdout",
     "output_type": "stream",
     "text": [
      "[0 0 5 6 4 1 3 9 8 8 7 6 3 1 4 3 1 6 4 0]\n",
      "20\n"
     ]
    },
    {
     "data": {
      "text/plain": [
       "array([4., 4., 1., 4., 4., 2., 4., 2., 3., 2.])"
      ]
     },
     "execution_count": 188,
     "metadata": {},
     "output_type": "execute_result"
    }
   ],
   "source": [
    "ar = np.ones(10)\n",
    "I = np.random.randint(0,len(ar),20)\n",
    "print(I), print(len(I))\n",
    "ar += np.bincount(I, minlength=len(ar))\n",
    "ar"
   ]
  },
  {
   "cell_type": "markdown",
   "id": "0fb2f0c5",
   "metadata": {},
   "source": [
    "#### 65. How to accumulate elements of a vector (X) to an array (F) based on an index list (I)? (★★★)"
   ]
  },
  {
   "cell_type": "code",
   "execution_count": 160,
   "id": "58aa5f82",
   "metadata": {},
   "outputs": [
    {
     "data": {
      "text/plain": [
       "array([0., 7., 0., 6., 5., 0., 0., 0., 0., 3.])"
      ]
     },
     "execution_count": 160,
     "metadata": {},
     "output_type": "execute_result"
    }
   ],
   "source": [
    "X = [1,2,3,4,5,6]\n",
    "I = [1,3,9,3,4,1]\n",
    "F = np.bincount(I,X)\n",
    "F"
   ]
  },
  {
   "cell_type": "markdown",
   "id": "d89dc506",
   "metadata": {},
   "source": [
    "#### 66. Considering a (w,h,3) image of (dtype=ubyte), compute the number of unique colors (★★☆)"
   ]
  },
  {
   "cell_type": "code",
   "execution_count": null,
   "id": "8fb43a49",
   "metadata": {},
   "outputs": [],
   "source": []
  },
  {
   "cell_type": "markdown",
   "id": "535a5d81",
   "metadata": {},
   "source": [
    "#### 67. Considering a four dimensions array, how to get sum over the last two axis at once? (★★★)"
   ]
  },
  {
   "cell_type": "code",
   "execution_count": null,
   "id": "f954ab9d",
   "metadata": {},
   "outputs": [],
   "source": []
  },
  {
   "cell_type": "markdown",
   "id": "eee66d3c",
   "metadata": {},
   "source": [
    "#### 68. Considering a one-dimensional vector D, how to compute means of subsets of D using a vector S of same size describing subset  indices? (★★★)"
   ]
  },
  {
   "cell_type": "code",
   "execution_count": null,
   "id": "8929773a",
   "metadata": {},
   "outputs": [],
   "source": []
  },
  {
   "cell_type": "markdown",
   "id": "f90d4c40",
   "metadata": {},
   "source": [
    "#### 69. How to get the diagonal of a dot product? (★★★)"
   ]
  },
  {
   "cell_type": "code",
   "execution_count": 161,
   "id": "b47d392d",
   "metadata": {},
   "outputs": [
    {
     "data": {
      "text/plain": [
       "array([1.05214668, 0.8539599 , 2.23269044, 1.40963942, 1.2222481 ])"
      ]
     },
     "execution_count": 161,
     "metadata": {},
     "output_type": "execute_result"
    }
   ],
   "source": [
    "A = np.random.uniform(0,1,(5,5))\n",
    "B = np.random.uniform(0,1,(5,5))\n",
    "\n",
    "np.diag(np.dot(A, B))"
   ]
  },
  {
   "cell_type": "code",
   "execution_count": 191,
   "id": "07a771df",
   "metadata": {},
   "outputs": [
    {
     "name": "stdout",
     "output_type": "stream",
     "text": [
      "[[55.48671206 61.72166155 55.60711486 72.96901247 84.56065893]\n",
      " [ 1.2687131  79.58861631 68.71469184 38.91861837 75.17783221]\n",
      " [ 5.49343015  1.23353961 27.11085899 22.28871621 65.09627384]\n",
      " [ 5.5698931  87.55788039 61.42453879 39.07586869 93.74560438]\n",
      " [66.25711352 20.39687293 98.9818413  61.72854446 77.26566358]]\n",
      "[[ 9 13 96 34 32]\n",
      " [70 42 35 34 81]\n",
      " [19 35 94  4 21]\n",
      " [18 48 47 97  9]\n",
      " [96 83  8  6 18]]\n"
     ]
    }
   ],
   "source": [
    "print(np.random.uniform(0,100,(5,5)))\n",
    "print(np.random.randint(0,100,(5,5)))"
   ]
  },
  {
   "cell_type": "markdown",
   "id": "a8a97e7d",
   "metadata": {},
   "source": [
    "#### 70. Consider the vector [1, 2, 3, 4, 5], how to build a new vector with 3 consecutive zeros interleaved between each value? (★★★)"
   ]
  },
  {
   "cell_type": "code",
   "execution_count": null,
   "id": "ee6c6c37",
   "metadata": {},
   "outputs": [],
   "source": []
  },
  {
   "cell_type": "markdown",
   "id": "d6a30d60",
   "metadata": {},
   "source": [
    "#### 71. Consider an array of dimension (5,5,3), how to mulitply it by an array with dimensions (5,5)? (★★★)"
   ]
  },
  {
   "cell_type": "code",
   "execution_count": 12,
   "id": "e9703f2e",
   "metadata": {},
   "outputs": [
    {
     "name": "stdout",
     "output_type": "stream",
     "text": [
      "[[[0.77874312]\n",
      "  [0.66437724]\n",
      "  [0.63699301]\n",
      "  [0.85422171]\n",
      "  [0.51105643]]\n",
      "\n",
      " [[0.79263874]\n",
      "  [0.82660545]\n",
      "  [0.8972873 ]\n",
      "  [0.99704958]\n",
      "  [0.61801828]]\n",
      "\n",
      " [[0.59180983]\n",
      "  [0.54473057]\n",
      "  [0.55815786]\n",
      "  [0.25523209]\n",
      "  [0.52492562]]\n",
      "\n",
      " [[0.28956813]\n",
      "  [0.89824055]\n",
      "  [0.30694407]\n",
      "  [0.59625542]\n",
      "  [0.49767895]]\n",
      "\n",
      " [[0.88266151]\n",
      "  [0.63229121]\n",
      "  [0.05556994]\n",
      "  [0.27956541]\n",
      "  [0.13879415]]]\n"
     ]
    },
    {
     "data": {
      "text/plain": [
       "array([[[2.59872015e-01, 1.65464559e-01, 5.15845132e-01],\n",
       "        [5.68740043e-01, 1.91095854e-01, 4.23557681e-01],\n",
       "        [2.50472822e-01, 6.08238985e-01, 2.76261937e-01],\n",
       "        [2.75232702e-01, 3.36186346e-01, 7.02164595e-02],\n",
       "        [3.07333298e-01, 3.38134274e-01, 3.08509910e-02]],\n",
       "\n",
       "       [[1.25357114e-01, 3.48648982e-01, 1.77027795e-01],\n",
       "        [4.48770282e-02, 5.80726363e-02, 8.01782762e-01],\n",
       "        [2.38456293e-01, 2.08378977e-01, 3.89201618e-02],\n",
       "        [7.41041107e-01, 4.06969444e-01, 7.98410317e-01],\n",
       "        [4.36396006e-01, 4.89200343e-01, 1.08890689e-01]],\n",
       "\n",
       "       [[8.89768402e-02, 4.75810920e-01, 2.67372939e-02],\n",
       "        [5.42692462e-01, 2.06391332e-01, 6.62652407e-02],\n",
       "        [2.02390609e-01, 2.32932832e-01, 5.28779369e-01],\n",
       "        [2.53572508e-02, 1.33988444e-01, 4.47629496e-02],\n",
       "        [1.54377296e-01, 1.90761179e-02, 2.75932013e-01]],\n",
       "\n",
       "       [[1.32594779e-01, 5.89678277e-02, 1.02914776e-01],\n",
       "        [7.72808137e-01, 8.60072155e-01, 6.17604785e-01],\n",
       "        [3.03361088e-01, 3.09617046e-02, 7.51930039e-04],\n",
       "        [1.79221931e-01, 9.15228631e-02, 3.64422581e-01],\n",
       "        [1.00418162e-01, 4.14665309e-01, 1.00924246e-01]],\n",
       "\n",
       "       [[5.05362276e-02, 2.72686901e-01, 1.92886408e-01],\n",
       "        [4.16547927e-01, 2.25052636e-01, 3.04833802e-01],\n",
       "        [1.88713689e-02, 2.61368915e-03, 1.78066042e-02],\n",
       "        [1.28340437e-01, 2.32495052e-01, 1.50651473e-01],\n",
       "        [1.86388151e-02, 4.54561223e-02, 4.01566777e-02]]])"
      ]
     },
     "execution_count": 12,
     "metadata": {},
     "output_type": "execute_result"
    }
   ],
   "source": [
    "A = np.random.rand(5, 5, 3)  \n",
    "B = np.random.rand(5, 5)     \n",
    "\n",
    "print(B[:, :, np.newaxis])\n",
    "result = A * B[:, :, np.newaxis]\n",
    "result"
   ]
  },
  {
   "cell_type": "markdown",
   "id": "bac359a9",
   "metadata": {},
   "source": [
    "#### 72. How to swap two rows of an array? (★★★)"
   ]
  },
  {
   "cell_type": "code",
   "execution_count": 162,
   "id": "f1b432b1",
   "metadata": {},
   "outputs": [
    {
     "name": "stdout",
     "output_type": "stream",
     "text": [
      "[[ 0  1  2  3  4]\n",
      " [ 5  6  7  8  9]\n",
      " [10 11 12 13 14]\n",
      " [15 16 17 18 19]\n",
      " [20 21 22 23 24]]\n",
      "[[ 5  6  7  8  9]\n",
      " [ 0  1  2  3  4]\n",
      " [10 11 12 13 14]\n",
      " [15 16 17 18 19]\n",
      " [20 21 22 23 24]]\n"
     ]
    }
   ],
   "source": [
    "ar = np.arange(25).reshape(5,5)\n",
    "print(ar)\n",
    "ar[[0,1]] = ar[[1,0]]\n",
    "print(ar)"
   ]
  },
  {
   "cell_type": "markdown",
   "id": "620c9f83",
   "metadata": {},
   "source": [
    "#### 73. Consider a set of 10 triplets describing 10 triangles (with shared vertices), find the set of unique line segments composing all the  triangles (★★★)"
   ]
  },
  {
   "cell_type": "code",
   "execution_count": null,
   "id": "4e595ffc",
   "metadata": {},
   "outputs": [],
   "source": []
  },
  {
   "cell_type": "markdown",
   "id": "a76c55a2",
   "metadata": {},
   "source": [
    "#### 74. Given a sorted array C that corresponds to a bincount, how to produce an array A such that np.bincount(A) == C? (★★★)"
   ]
  },
  {
   "cell_type": "code",
   "execution_count": 163,
   "id": "2d2ae65a",
   "metadata": {},
   "outputs": [
    {
     "name": "stdout",
     "output_type": "stream",
     "text": [
      "[0 2 1 1 2 0 1]\n",
      "[1 1 2 3 4 4 6]\n"
     ]
    }
   ],
   "source": [
    "C = np.bincount([1,1,2,3,4,4,6])\n",
    "print(C)\n",
    "A = np.repeat(np.arange(len(C)), C)\n",
    "print(A)"
   ]
  },
  {
   "cell_type": "markdown",
   "id": "d550c8e2",
   "metadata": {},
   "source": [
    "#### 75. How to compute averages using a sliding window over an array? (★★★)"
   ]
  },
  {
   "cell_type": "code",
   "execution_count": 11,
   "id": "841c457c",
   "metadata": {},
   "outputs": [
    {
     "data": {
      "text/plain": [
       "array([1., 2., 3., 4., 5., 6., 7., 8.])"
      ]
     },
     "execution_count": 11,
     "metadata": {},
     "output_type": "execute_result"
    }
   ],
   "source": [
    "from numpy.lib.stride_tricks import sliding_window_view\n",
    "\n",
    "Z = np.arange(10)\n",
    "N = 3\n",
    "\n",
    "windows = sliding_window_view(Z, window_shape=N)\n",
    "result = windows.mean(axis=1)\n",
    "result"
   ]
  },
  {
   "cell_type": "markdown",
   "id": "6b170b00",
   "metadata": {},
   "source": [
    "#### 76. Consider a one-dimensional array Z, build a two-dimensional array whose first row is (Z[0],Z[1],Z[2]) and each subsequent row is  shifted by 1 (last row should be (Z[-3],Z[-2],Z[-1]) (★★★)"
   ]
  },
  {
   "cell_type": "code",
   "execution_count": null,
   "id": "d9a0cf4e",
   "metadata": {},
   "outputs": [],
   "source": []
  },
  {
   "cell_type": "markdown",
   "id": "e94a5c1d",
   "metadata": {},
   "source": [
    "#### 77. How to negate a boolean, or to change the sign of a float inplace? (★★★)"
   ]
  },
  {
   "cell_type": "code",
   "execution_count": null,
   "id": "c0f9504f",
   "metadata": {},
   "outputs": [],
   "source": []
  },
  {
   "cell_type": "markdown",
   "id": "4eb8b5c1",
   "metadata": {},
   "source": [
    "#### 78. Consider 2 sets of points P0,P1 describing lines (2d) and a point p, how to compute distance from p to each line i (P0[i],P1[i])? (★★★)"
   ]
  },
  {
   "cell_type": "code",
   "execution_count": null,
   "id": "487f47ec",
   "metadata": {},
   "outputs": [],
   "source": []
  },
  {
   "cell_type": "markdown",
   "id": "3df99948",
   "metadata": {},
   "source": [
    "#### 79. Consider 2 sets of points P0,P1 describing lines (2d) and a set of points P, how to compute distance from each point j (P[j]) to each line i (P0[i],P1[i])? (★★★)"
   ]
  },
  {
   "cell_type": "code",
   "execution_count": null,
   "id": "dc2df37b",
   "metadata": {},
   "outputs": [],
   "source": []
  },
  {
   "cell_type": "markdown",
   "id": "11e972c2",
   "metadata": {},
   "source": [
    "#### 80. Consider an arbitrary array, write a function that extract a subpart with a fixed shape and centered on a given element (pad with a `fill` value when necessary) (★★★)"
   ]
  },
  {
   "cell_type": "code",
   "execution_count": null,
   "id": "0291247f",
   "metadata": {},
   "outputs": [],
   "source": []
  },
  {
   "cell_type": "markdown",
   "id": "93cfeab3",
   "metadata": {},
   "source": [
    "#### 81. Consider an array Z = [1,2,3,4,5,6,7,8,9,10,11,12,13,14], how to generate an array R = [[1,2,3,4], [2,3,4,5], [3,4,5,6], ..., [11,12,13,14]]? (★★★)"
   ]
  },
  {
   "cell_type": "code",
   "execution_count": 10,
   "id": "360de791",
   "metadata": {},
   "outputs": [
    {
     "data": {
      "text/plain": [
       "array([[ 1,  2,  3,  4],\n",
       "       [ 2,  3,  4,  5],\n",
       "       [ 3,  4,  5,  6],\n",
       "       [ 4,  5,  6,  7],\n",
       "       [ 5,  6,  7,  8],\n",
       "       [ 6,  7,  8,  9],\n",
       "       [ 7,  8,  9, 10],\n",
       "       [ 8,  9, 10, 11],\n",
       "       [ 9, 10, 11, 12],\n",
       "       [10, 11, 12, 13],\n",
       "       [11, 12, 13, 14]])"
      ]
     },
     "execution_count": 10,
     "metadata": {},
     "output_type": "execute_result"
    }
   ],
   "source": [
    "from numpy.lib.stride_tricks import sliding_window_view\n",
    "\n",
    "Z = np.array([1,2,3,4,5,6,7,8,9,10,11,12,13,14])\n",
    "R = sliding_window_view(Z, window_shape=4)\n",
    "\n",
    "R"
   ]
  },
  {
   "cell_type": "markdown",
   "id": "4c15ceff",
   "metadata": {},
   "source": [
    "#### 82. Compute a matrix rank (★★★)"
   ]
  },
  {
   "cell_type": "code",
   "execution_count": 9,
   "id": "9a4272d2",
   "metadata": {},
   "outputs": [
    {
     "data": {
      "text/plain": [
       "2"
      ]
     },
     "execution_count": 9,
     "metadata": {},
     "output_type": "execute_result"
    }
   ],
   "source": [
    "A = np.array([[1, 2, 3],\n",
    "              [4, 5, 6],\n",
    "              [7, 8, 9]])\n",
    "\n",
    "\n",
    "rank = np.linalg.matrix_rank(A)\n",
    "rank"
   ]
  },
  {
   "cell_type": "markdown",
   "id": "1171cb84",
   "metadata": {},
   "source": [
    "#### 83. How to find the most frequent value in an array?"
   ]
  },
  {
   "cell_type": "code",
   "execution_count": 166,
   "id": "33e951c8",
   "metadata": {},
   "outputs": [
    {
     "name": "stdout",
     "output_type": "stream",
     "text": [
      "[2 2 6 4 8 7 3 0 4 3 1 9 7 2 0 8 2 5 1 1 4 3 2 6 4 3 6 7 4 3 6 6 4 4 9 2 2\n",
      " 2 7 2 8 4 7 9 8 4 6 7 0 9]\n",
      "2\n"
     ]
    }
   ],
   "source": [
    "Z = np.random.randint(0,10,50)\n",
    "print(Z)\n",
    "print(np.bincount(Z).argmax())"
   ]
  },
  {
   "cell_type": "markdown",
   "id": "04f472aa",
   "metadata": {},
   "source": [
    "#### 84. Extract all the contiguous 3x3 blocks from a random 10x10 matrix (★★★)"
   ]
  },
  {
   "cell_type": "code",
   "execution_count": null,
   "id": "7aade14a",
   "metadata": {},
   "outputs": [],
   "source": []
  },
  {
   "cell_type": "markdown",
   "id": "52836346",
   "metadata": {},
   "source": [
    "#### 85. Create a 2D array subclass such that Z[i,j] == Z[j,i] (★★★)"
   ]
  },
  {
   "cell_type": "code",
   "execution_count": null,
   "id": "4df70318",
   "metadata": {},
   "outputs": [],
   "source": []
  },
  {
   "cell_type": "markdown",
   "id": "78c43ee5",
   "metadata": {},
   "source": [
    "#### 86. Consider a set of p matrices with shape (n,n) and a set of p vectors with shape (n,1). How to compute the sum of of the p matrix products at once? (result has shape (n,1)) (★★★)"
   ]
  },
  {
   "cell_type": "code",
   "execution_count": null,
   "id": "32fd2c3b",
   "metadata": {},
   "outputs": [],
   "source": []
  },
  {
   "cell_type": "markdown",
   "id": "158f9945",
   "metadata": {},
   "source": [
    "#### 87. Consider a 16x16 array, how to get the block-sum (block size is 4x4)? (★★★)"
   ]
  },
  {
   "cell_type": "code",
   "execution_count": 8,
   "id": "5a9b808f",
   "metadata": {},
   "outputs": [
    {
     "data": {
      "text/plain": [
       "array([[[[  0,   1,   2,   3],\n",
       "         [  4,   5,   6,   7],\n",
       "         [  8,   9,  10,  11],\n",
       "         [ 12,  13,  14,  15]],\n",
       "\n",
       "        [[ 16,  17,  18,  19],\n",
       "         [ 20,  21,  22,  23],\n",
       "         [ 24,  25,  26,  27],\n",
       "         [ 28,  29,  30,  31]],\n",
       "\n",
       "        [[ 32,  33,  34,  35],\n",
       "         [ 36,  37,  38,  39],\n",
       "         [ 40,  41,  42,  43],\n",
       "         [ 44,  45,  46,  47]],\n",
       "\n",
       "        [[ 48,  49,  50,  51],\n",
       "         [ 52,  53,  54,  55],\n",
       "         [ 56,  57,  58,  59],\n",
       "         [ 60,  61,  62,  63]]],\n",
       "\n",
       "\n",
       "       [[[ 64,  65,  66,  67],\n",
       "         [ 68,  69,  70,  71],\n",
       "         [ 72,  73,  74,  75],\n",
       "         [ 76,  77,  78,  79]],\n",
       "\n",
       "        [[ 80,  81,  82,  83],\n",
       "         [ 84,  85,  86,  87],\n",
       "         [ 88,  89,  90,  91],\n",
       "         [ 92,  93,  94,  95]],\n",
       "\n",
       "        [[ 96,  97,  98,  99],\n",
       "         [100, 101, 102, 103],\n",
       "         [104, 105, 106, 107],\n",
       "         [108, 109, 110, 111]],\n",
       "\n",
       "        [[112, 113, 114, 115],\n",
       "         [116, 117, 118, 119],\n",
       "         [120, 121, 122, 123],\n",
       "         [124, 125, 126, 127]]],\n",
       "\n",
       "\n",
       "       [[[128, 129, 130, 131],\n",
       "         [132, 133, 134, 135],\n",
       "         [136, 137, 138, 139],\n",
       "         [140, 141, 142, 143]],\n",
       "\n",
       "        [[144, 145, 146, 147],\n",
       "         [148, 149, 150, 151],\n",
       "         [152, 153, 154, 155],\n",
       "         [156, 157, 158, 159]],\n",
       "\n",
       "        [[160, 161, 162, 163],\n",
       "         [164, 165, 166, 167],\n",
       "         [168, 169, 170, 171],\n",
       "         [172, 173, 174, 175]],\n",
       "\n",
       "        [[176, 177, 178, 179],\n",
       "         [180, 181, 182, 183],\n",
       "         [184, 185, 186, 187],\n",
       "         [188, 189, 190, 191]]],\n",
       "\n",
       "\n",
       "       [[[192, 193, 194, 195],\n",
       "         [196, 197, 198, 199],\n",
       "         [200, 201, 202, 203],\n",
       "         [204, 205, 206, 207]],\n",
       "\n",
       "        [[208, 209, 210, 211],\n",
       "         [212, 213, 214, 215],\n",
       "         [216, 217, 218, 219],\n",
       "         [220, 221, 222, 223]],\n",
       "\n",
       "        [[224, 225, 226, 227],\n",
       "         [228, 229, 230, 231],\n",
       "         [232, 233, 234, 235],\n",
       "         [236, 237, 238, 239]],\n",
       "\n",
       "        [[240, 241, 242, 243],\n",
       "         [244, 245, 246, 247],\n",
       "         [248, 249, 250, 251],\n",
       "         [252, 253, 254, 255]]]])"
      ]
     },
     "execution_count": 8,
     "metadata": {},
     "output_type": "execute_result"
    }
   ],
   "source": [
    "arr = np.arange(256).reshape(16, 16)\n",
    "\n",
    "#print(arr)\n",
    "block_sum = arr.reshape(4, 4, 4, 4)\n",
    "\n",
    "block_sum"
   ]
  },
  {
   "cell_type": "markdown",
   "id": "2e0ad860",
   "metadata": {},
   "source": [
    "#### 88. How to implement the Game of Life using numpy arrays? (★★★)"
   ]
  },
  {
   "cell_type": "code",
   "execution_count": null,
   "id": "574acff5",
   "metadata": {},
   "outputs": [],
   "source": []
  },
  {
   "cell_type": "markdown",
   "id": "69a892fa",
   "metadata": {},
   "source": [
    "#### 89. How to get the n largest values of an array (★★★)"
   ]
  },
  {
   "cell_type": "code",
   "execution_count": 167,
   "id": "21b2bd48",
   "metadata": {},
   "outputs": [
    {
     "name": "stdout",
     "output_type": "stream",
     "text": [
      "[9995 9996 9997 9998 9999]\n"
     ]
    }
   ],
   "source": [
    "Z = np.arange(10000)\n",
    "np.random.shuffle(Z)\n",
    "n = 5\n",
    "\n",
    "print (Z[np.argsort(Z)[-n:]])"
   ]
  },
  {
   "cell_type": "markdown",
   "id": "b55ccacc",
   "metadata": {},
   "source": [
    "#### 90. Given an arbitrary number of vectors, build the cartesian product (every combinations of every item) (★★★)"
   ]
  },
  {
   "cell_type": "code",
   "execution_count": null,
   "id": "4b645da4",
   "metadata": {},
   "outputs": [],
   "source": []
  },
  {
   "cell_type": "markdown",
   "id": "89187a23",
   "metadata": {},
   "source": [
    "#### 91. How to create a record array from a regular array? (★★★)"
   ]
  },
  {
   "cell_type": "code",
   "execution_count": 172,
   "id": "da94c71a",
   "metadata": {},
   "outputs": [
    {
     "name": "stdout",
     "output_type": "stream",
     "text": [
      "[(b'Hello', 2.5, 3) (b'World', 3.6, 2)]\n"
     ]
    }
   ],
   "source": [
    "ar = np.array([(\"Hello\", 2.5, 3),\n",
    "              (\"World\", 3.6, 2)])\n",
    "reg = np.core.records.fromarrays(ar.T,\n",
    "    names='col1, col2, col3',\n",
    "    formats = 'S8, f8, i8')\n",
    "print(reg)"
   ]
  },
  {
   "cell_type": "markdown",
   "id": "aa70d4ca",
   "metadata": {},
   "source": [
    "#### 92. Consider a large vector Z, compute Z to the power of 3 using 3 different methods (★★★)"
   ]
  },
  {
   "cell_type": "code",
   "execution_count": 170,
   "id": "7cff1bf5",
   "metadata": {},
   "outputs": [
    {
     "name": "stdout",
     "output_type": "stream",
     "text": [
      "1.21 s ± 25.7 ms per loop (mean ± std. dev. of 7 runs, 1 loop each)\n",
      "166 ms ± 964 µs per loop (mean ± std. dev. of 7 runs, 10 loops each)\n",
      "139 ms ± 997 µs per loop (mean ± std. dev. of 7 runs, 10 loops each)\n"
     ]
    }
   ],
   "source": [
    "x = np.random.rand(int(5e7))\n",
    "\n",
    "%timeit np.power(x,3)\n",
    "%timeit x*x*x\n",
    "%timeit np.einsum('i,i,i->i',x,x,x)"
   ]
  },
  {
   "cell_type": "markdown",
   "id": "5f79dd00",
   "metadata": {},
   "source": [
    "#### 93. Consider two arrays A and B of shape (8,3) and (2,2). How to find rows of A that contain elements of each row of B regardless of the order of the elements in B? (★★★)"
   ]
  },
  {
   "cell_type": "code",
   "execution_count": null,
   "id": "20c105b2",
   "metadata": {},
   "outputs": [],
   "source": []
  },
  {
   "cell_type": "markdown",
   "id": "a80570cd",
   "metadata": {},
   "source": [
    "#### 94. Considering a 10x3 matrix, extract rows with unequal values (e.g. [2,2,3]) (★★★)"
   ]
  },
  {
   "cell_type": "code",
   "execution_count": null,
   "id": "84db8de1",
   "metadata": {},
   "outputs": [],
   "source": []
  },
  {
   "cell_type": "markdown",
   "id": "ba154f43",
   "metadata": {},
   "source": [
    "#### 95. Convert a vector of ints into a matrix binary representation (★★★)"
   ]
  },
  {
   "cell_type": "code",
   "execution_count": null,
   "id": "cfa96e1b",
   "metadata": {},
   "outputs": [],
   "source": []
  },
  {
   "cell_type": "markdown",
   "id": "420e2343",
   "metadata": {},
   "source": [
    "#### 96. Given a two dimensional array, how to extract unique rows? (★★★)"
   ]
  },
  {
   "cell_type": "code",
   "execution_count": 169,
   "id": "4680dfd0",
   "metadata": {},
   "outputs": [
    {
     "name": "stdout",
     "output_type": "stream",
     "text": [
      "[[1 1 0]\n",
      " [0 0 0]\n",
      " [1 1 1]\n",
      " [0 0 1]\n",
      " [0 0 1]\n",
      " [0 1 0]]\n"
     ]
    },
    {
     "data": {
      "text/plain": [
       "array([[0, 0, 0],\n",
       "       [0, 0, 1],\n",
       "       [0, 1, 0],\n",
       "       [1, 1, 0],\n",
       "       [1, 1, 1]])"
      ]
     },
     "execution_count": 169,
     "metadata": {},
     "output_type": "execute_result"
    }
   ],
   "source": [
    "ar = np.random.randint(0,2,(6,3))\n",
    "print(ar)\n",
    "np.unique(ar, axis=0)"
   ]
  },
  {
   "cell_type": "markdown",
   "id": "89fef2f3",
   "metadata": {},
   "source": [
    "#### 97. Considering 2 vectors A & B, write the einsum equivalent of inner, outer, sum, and mul function (★★★)"
   ]
  },
  {
   "cell_type": "code",
   "execution_count": null,
   "id": "bb9c14b2",
   "metadata": {},
   "outputs": [],
   "source": []
  },
  {
   "cell_type": "markdown",
   "id": "7ad5cc5f",
   "metadata": {},
   "source": [
    "#### 98. Considering a path described by two vectors (X,Y), how to sample it using equidistant samples (★★★)?"
   ]
  },
  {
   "cell_type": "code",
   "execution_count": null,
   "id": "0899d1d5",
   "metadata": {},
   "outputs": [],
   "source": []
  },
  {
   "cell_type": "markdown",
   "id": "2b69272e",
   "metadata": {},
   "source": [
    "#### 99. Given an integer n and a 2D array X, select from X the rows which can be interpreted as draws from a multinomial distribution with n degrees, i.e., the rows which only contain integers and which sum to n. (★★★)"
   ]
  },
  {
   "cell_type": "code",
   "execution_count": null,
   "id": "55c8b034",
   "metadata": {},
   "outputs": [],
   "source": []
  },
  {
   "cell_type": "markdown",
   "id": "59ab5516",
   "metadata": {},
   "source": [
    "#### 100. Compute bootstrapped 95% confidence intervals for the mean of a 1D array X (i.e., resample the elements of an array with replacement N times, compute the mean of each sample, and then compute percentiles over the means). (★★★)"
   ]
  },
  {
   "cell_type": "code",
   "execution_count": null,
   "id": "450877d8",
   "metadata": {},
   "outputs": [],
   "source": []
  }
 ],
 "metadata": {
  "kernelspec": {
   "display_name": "Python 3",
   "language": "python",
   "name": "python3"
  },
  "language_info": {
   "codemirror_mode": {
    "name": "ipython",
    "version": 3
   },
   "file_extension": ".py",
   "mimetype": "text/x-python",
   "name": "python",
   "nbconvert_exporter": "python",
   "pygments_lexer": "ipython3",
   "version": "3.12.5"
  }
 },
 "nbformat": 4,
 "nbformat_minor": 5
}
