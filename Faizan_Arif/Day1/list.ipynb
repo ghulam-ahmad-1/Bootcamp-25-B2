{
 "cells": [
  {
   "cell_type": "markdown",
   "id": "3f9994f8-82f8-4450-b588-4dcbc466cc3e",
   "metadata": {},
   "source": [
    "# 1. Find the Sum of All Elements in a List\n",
    "## Problem Statement:\n",
    "Write a function to return the sum of all elements in a list.\n",
    "\n",
    "## Example 1:\n",
    "**Input:** `[1, 2, 3, 4, 5]`  \n",
    "**Output:** `15`\n",
    "\n",
    "## Example 2:\n",
    "**Input:** `[10, -2, 3]`  \n",
    "**Output:** `11`\n"
   ]
  },
  {
   "cell_type": "code",
   "execution_count": 2,
   "id": "22ab5186-6302-4f99-94f7-26e1243b2b23",
   "metadata": {},
   "outputs": [
    {
     "name": "stdout",
     "output_type": "stream",
     "text": [
      "15\n",
      "11\n"
     ]
    }
   ],
   "source": [
    "def find_sum(arr):\n",
    "    return sum(arr)\n",
    "\n",
    "list1 = [1, 2, 3, 4, 5]\n",
    "list2 = [10, -2, 3]\n",
    "print(find_sum(list1))\n",
    "print(find_sum(list2))"
   ]
  },
  {
   "cell_type": "code",
   "execution_count": null,
   "id": "2bc2fb36-de41-4a06-94c8-677512a39266",
   "metadata": {},
   "outputs": [],
   "source": []
  },
  {
   "cell_type": "markdown",
   "id": "d23b0919-b937-4ffa-9f69-e0a58e4822c8",
   "metadata": {},
   "source": [
    "# 2. Find the Maximum Element in a List\n",
    "## Problem Statement:\n",
    "Write a function to find the maximum element in a list.\n",
    "\n",
    "## Example 1:\n",
    "**Input:** `[3, 5, 1, 9, 2]`  \n",
    "**Output:** `9`\n",
    "\n",
    "## Example 2:\n",
    "**Input:** `[10, 22, 5, 8]`  \n",
    "**Output:** `22`\n"
   ]
  },
  {
   "cell_type": "code",
   "execution_count": 3,
   "id": "7d7b3e2d-d3e0-40ea-a276-6546d8d5a6dc",
   "metadata": {},
   "outputs": [
    {
     "name": "stdout",
     "output_type": "stream",
     "text": [
      "9\n",
      "22\n"
     ]
    }
   ],
   "source": [
    "def find_max(arr):\n",
    "    return max(arr)\n",
    "\n",
    "list1 = [3, 5, 1, 9, 2]\n",
    "list2 = [10, 22, 5, 8]\n",
    "print(find_max(list1))\n",
    "print(find_max(list2))"
   ]
  },
  {
   "cell_type": "code",
   "execution_count": null,
   "id": "4a7a7213-0ca0-4435-b8bb-952896ba5291",
   "metadata": {},
   "outputs": [],
   "source": []
  },
  {
   "cell_type": "markdown",
   "id": "3a468705-92a6-48b7-8cf4-f45d18a23a82",
   "metadata": {},
   "source": [
    "# 3. Find the Minimum Element in a List\n",
    "## Problem Statement:\n",
    "Write a function to find the minimum element in a list.\n",
    "\n",
    "## Example 1:\n",
    "**Input:** `[4, 7, 1, 9]`  \n",
    "**Output:** `1`\n",
    "\n",
    "## Example 2:\n",
    "**Input:** `[10, 15, 3, 8]`  \n",
    "**Output:** `3`\n"
   ]
  },
  {
   "cell_type": "code",
   "execution_count": 4,
   "id": "4d12cc30-d2d0-4d11-a297-c9abdd2841e8",
   "metadata": {},
   "outputs": [
    {
     "name": "stdout",
     "output_type": "stream",
     "text": [
      "1\n",
      "3\n"
     ]
    }
   ],
   "source": [
    "def find_min(arr):\n",
    "    return min(arr)\n",
    "\n",
    "list1 = [4, 7, 1, 9]\n",
    "list2 = [10, 15, 3, 8]\n",
    "print(find_min(list1))\n",
    "print(find_min(list2))"
   ]
  },
  {
   "cell_type": "code",
   "execution_count": null,
   "id": "8efee63d-29d3-4d2d-aa2d-10e40467a224",
   "metadata": {},
   "outputs": [],
   "source": []
  },
  {
   "cell_type": "markdown",
   "id": "c40f3f67-f422-4be3-bf91-2a8ae2176b24",
   "metadata": {},
   "source": [
    "# 4. Reverse a List\n",
    "## Problem Statement:\n",
    "Write a function to reverse a given list.\n",
    "\n",
    "## Example 1:\n",
    "**Input:** `[1, 2, 3, 4, 5]`  \n",
    "**Output:** `[5, 4, 3, 2, 1]`\n",
    "\n",
    "## Example 2:\n",
    "**Input:** `[\"a\", \"b\", \"c\", \"d\"]`  \n",
    "**Output:** `[\"d\", \"c\", \"b\", \"a\"]`\n"
   ]
  },
  {
   "cell_type": "code",
   "execution_count": 6,
   "id": "ad8b815d-4d1b-42f8-8201-3012cbb10791",
   "metadata": {},
   "outputs": [
    {
     "name": "stdout",
     "output_type": "stream",
     "text": [
      "[5, 4, 3, 2, 1]\n",
      "['d', 'c', 'b', 'a']\n"
     ]
    }
   ],
   "source": [
    "def reverse_list(arr):\n",
    "    arr.reverse()\n",
    "    return arr\n",
    "\n",
    "list1 = [1, 2, 3, 4, 5]\n",
    "list2 = [\"a\", \"b\", \"c\", \"d\"]\n",
    "print(reverse_list(list1))\n",
    "print(reverse_list(list2))"
   ]
  },
  {
   "cell_type": "code",
   "execution_count": null,
   "id": "f4974012-8b9f-4d79-9a93-c49021d42fce",
   "metadata": {},
   "outputs": [],
   "source": []
  },
  {
   "cell_type": "markdown",
   "id": "1ce0dcfb-6e54-4ef6-935e-322632660d42",
   "metadata": {},
   "source": [
    "# 5. Check if a List is Palindromic\n",
    "## Problem Statement:\n",
    "Write a function to check if a list is the same forward and backward.\n",
    "\n",
    "## Example 1:\n",
    "**Input:** `[1, 2, 3, 2, 1]`  \n",
    "**Output:** `True`\n",
    "\n",
    "## Example 2:\n",
    "**Input:** `[1, 2, 3, 4, 5]`  \n",
    "**Output:** `False`\n"
   ]
  },
  {
   "cell_type": "code",
   "execution_count": 7,
   "id": "c21305ce-5efc-4f55-aed4-f2ecb507d12a",
   "metadata": {},
   "outputs": [
    {
     "name": "stdout",
     "output_type": "stream",
     "text": [
      "True\n",
      "False\n"
     ]
    }
   ],
   "source": [
    "def palindrom_list(arr):\n",
    "    return arr == arr[::-1]\n",
    "\n",
    "list1 = [1, 2, 3, 2, 1]\n",
    "list2 = [1, 2, 3, 4, 5]\n",
    "print(palindrom_list(list1))\n",
    "print(palindrom_list(list2))"
   ]
  },
  {
   "cell_type": "code",
   "execution_count": null,
   "id": "37b1b813-c8ca-460d-8eaa-45ea822ef16f",
   "metadata": {},
   "outputs": [],
   "source": []
  },
  {
   "cell_type": "markdown",
   "id": "4e03ac95-a619-4d71-bc19-4d8aa7ebc779",
   "metadata": {},
   "source": [
    "# 6. Count the Frequency of Elements in a List\n",
    "## Problem Statement:\n",
    "Write a function to count the occurrences of each element in a list.\n",
    "\n",
    "## Example 1:\n",
    "**Input:** `[1, 2, 2, 3, 3, 3]`  \n",
    "**Output:** `{1: 1, 2: 2, 3: 3}`\n",
    "\n",
    "## Example 2:\n",
    "**Input:** `[\"a\", \"b\", \"a\", \"c\", \"c\", \"c\"]`  \n",
    "**Output:** `{\"a\": 2, \"b\": 1, \"c\": 3}`\n"
   ]
  },
  {
   "cell_type": "code",
   "execution_count": 8,
   "id": "c1c47cee-c97a-4c7b-b61d-4451912705e9",
   "metadata": {},
   "outputs": [
    {
     "name": "stdout",
     "output_type": "stream",
     "text": [
      "{1: 1, 2: 2, 3: 3}\n",
      "{'a': 2, 'b': 1, 'c': 3}\n"
     ]
    }
   ],
   "source": [
    "def find_freq(arr):\n",
    "    freq_dict = {}\n",
    "    for item in arr:\n",
    "        if item in freq_dict.keys():\n",
    "            freq_dict[item] += 1\n",
    "        else:\n",
    "            freq_dict[item] = 1\n",
    "    return freq_dict\n",
    "\n",
    "list1 = [1, 2, 2, 3, 3, 3]\n",
    "list2 = [\"a\", \"b\", \"a\", \"c\", \"c\", \"c\"]\n",
    "print(find_freq(list1))\n",
    "print(find_freq(list2))"
   ]
  },
  {
   "cell_type": "code",
   "execution_count": null,
   "id": "9f64c11f-e701-43a7-bcf3-1b06a72a16bc",
   "metadata": {},
   "outputs": [],
   "source": []
  },
  {
   "cell_type": "markdown",
   "id": "c351ff0a-2f61-478c-87bd-d71170cc4dd0",
   "metadata": {},
   "source": [
    "# 7. Find the Second Largest Number in a List\n",
    "## Problem Statement:\n",
    "Write a function to find the second largest number in a list.\n",
    "\n",
    "## Example 1:\n",
    "**Input:** `[10, 20, 4, 45, 99]`  \n",
    "**Output:** `45`\n",
    "\n",
    "## Example 2:\n",
    "**Input:** `[3, 5, 7, 7, 8]`  \n",
    "**Output:** `7`\n"
   ]
  },
  {
   "cell_type": "code",
   "execution_count": 9,
   "id": "13703cf5-889b-4ac1-81a9-223d367d8494",
   "metadata": {},
   "outputs": [
    {
     "name": "stdout",
     "output_type": "stream",
     "text": [
      "45\n",
      "7\n"
     ]
    }
   ],
   "source": [
    "def second_largest(arr):\n",
    "    arr.sort()\n",
    "    return arr[-2]\n",
    "\n",
    "list1 =[10, 20, 4, 45, 99]\n",
    "list2 = [3, 5, 7, 7, 8]\n",
    "print(second_largest(list1))\n",
    "print(second_largest(list2))"
   ]
  },
  {
   "cell_type": "code",
   "execution_count": null,
   "id": "d3456d5c-8c55-4b11-a484-edf8bff42fe9",
   "metadata": {},
   "outputs": [],
   "source": []
  },
  {
   "cell_type": "markdown",
   "id": "9c6d8daa-7f46-4bf2-a414-04a077cdb99a",
   "metadata": {},
   "source": [
    "# 8. Merge Two Sorted Lists\n",
    "## Problem Statement:\n",
    "Write a function to merge two sorted lists into a single sorted list.\n",
    "\n",
    "## Example 1:\n",
    "**Input:** `[1, 3, 5]`, `[2, 4, 6]`  \n",
    "**Output:** `[1, 2, 3, 4, 5, 6]`\n",
    "\n",
    "## Example 2:\n",
    "**Input:** `[0, 2, 8]`, `[1, 3, 7]`  \n",
    "**Output:** `[0, 1, 2, 3, 7, 8]`\n"
   ]
  },
  {
   "cell_type": "code",
   "execution_count": 14,
   "id": "f8feaf49-483c-47d9-9d0e-412e9df946d2",
   "metadata": {},
   "outputs": [
    {
     "name": "stdout",
     "output_type": "stream",
     "text": [
      "[1, 2, 3, 4, 5, 6]\n",
      "[0, 1, 2, 3, 7, 8]\n"
     ]
    }
   ],
   "source": [
    "def merge_list(arr1, arr2):\n",
    "    arr3 = []\n",
    "    arr1_lenght = len(arr1)\n",
    "    arr2_lenght = len(arr2)\n",
    "    i, j = 0, 0\n",
    "    while i<arr1_lenght and j<arr2_lenght:\n",
    "        if arr1[i]<arr2[j]:\n",
    "            arr3.append(arr1[i])\n",
    "            i += 1\n",
    "        else:\n",
    "            arr3.append(arr2[j])\n",
    "            j += 1\n",
    "    if i<arr1_lenght:\n",
    "        for i in range(i, arr1_lenght):\n",
    "            arr3.append(arr1[i])\n",
    "    else:\n",
    "        for j in range(j, arr2_lenght):\n",
    "            arr3.append(arr2[j])\n",
    "    return arr3\n",
    "\n",
    "list1 = [1, 3, 5] \n",
    "list2 = [2, 4, 6]\n",
    "print(merge_list(list1, list2))\n",
    "\n",
    "list1 = [0, 2, 8] \n",
    "list2 = [1, 3, 7]\n",
    "print(merge_list(list1, list2))\n",
    "            "
   ]
  },
  {
   "cell_type": "code",
   "execution_count": null,
   "id": "644ee2d9-46dd-4e2a-915a-b19a638b97e7",
   "metadata": {},
   "outputs": [],
   "source": []
  },
  {
   "cell_type": "markdown",
   "id": "905fc429-4a5a-4455-9d5e-a761ea93bb8a",
   "metadata": {},
   "source": [
    "# 9. Remove Duplicates from a List\n",
    "## Problem Statement:\n",
    "Write a function to remove duplicate elements from a list while maintaining order.\n",
    "\n",
    "## Example 1:\n",
    "**Input:** `[1, 2, 2, 3, 4, 4, 5]`  \n",
    "**Output:** `[1, 2, 3, 4, 5]`\n",
    "\n",
    "## Example 2:\n",
    "**Input:** `[\"a\", \"b\", \"a\", \"c\", \"c\", \"d\"]`  \n",
    "**Output:** `[\"a\", \"b\", \"c\", \"d\"]`\n"
   ]
  },
  {
   "cell_type": "code",
   "execution_count": 16,
   "id": "bd3ce823-9e58-43ff-b60f-82e28f00fd19",
   "metadata": {},
   "outputs": [
    {
     "name": "stdout",
     "output_type": "stream",
     "text": [
      "[1, 2, 3, 4, 5]\n",
      "['a', 'b', 'd', 'c']\n"
     ]
    }
   ],
   "source": [
    "def unique(arr):\n",
    "    return list(set(arr))\n",
    "\n",
    "list1 = [1, 2, 2, 3, 4, 4, 5]\n",
    "list2 = [\"a\", \"b\", \"a\", \"c\", \"c\", \"d\"]\n",
    "print(unique(list1))\n",
    "print(unique(list2))"
   ]
  },
  {
   "cell_type": "code",
   "execution_count": null,
   "id": "acc566d7-e9c0-4a76-8062-f91d0f1e57be",
   "metadata": {},
   "outputs": [],
   "source": []
  },
  {
   "cell_type": "markdown",
   "id": "8fd83067-65a1-4859-8a82-ec7309c8bc79",
   "metadata": {},
   "source": [
    "# 10. Rotate a List by k Positions\n",
    "## Problem Statement:\n",
    "Write a function to rotate a list by `k` positions to the right.\n",
    "\n",
    "## Example 1:\n",
    "**Input:** `[1, 2, 3, 4, 5]`, `k=2`  \n",
    "**Output:** `[4, 5, 1, 2, 3]`\n",
    "\n",
    "## Example 2:\n",
    "**Input:** `[10, 20, 30, 40, 50]`, `k=3`  \n",
    "**Output:** `[30, 40, 50, 10, 20]`\n"
   ]
  },
  {
   "cell_type": "code",
   "execution_count": 23,
   "id": "ee0fcda9-c7a0-4ce1-a03b-6925c8020b19",
   "metadata": {},
   "outputs": [
    {
     "name": "stdout",
     "output_type": "stream",
     "text": [
      "[4, 5, 1, 2, 3]\n",
      "[30, 40, 50, 10, 20]\n"
     ]
    }
   ],
   "source": [
    "def rotate_list(arr, k):\n",
    "    #print(arr[:-k])\n",
    "    list_rt = arr[:-k]\n",
    "    x = 0\n",
    "    for i in range(len(arr)-k, len(arr)):\n",
    "        list_rt.insert(x, arr[i])\n",
    "        x += 1\n",
    "    return list_rt\n",
    "\n",
    "list1 = [1, 2, 3, 4, 5]\n",
    "k1 = 2\n",
    "list2 = [10, 20, 30, 40, 50]\n",
    "k2 = 3\n",
    "print(rotate_list(list1, k1))\n",
    "print(rotate_list(list2, k2))"
   ]
  },
  {
   "cell_type": "code",
   "execution_count": null,
   "id": "3071afc2-ed0d-4f51-9910-6c8d06bfc1c5",
   "metadata": {},
   "outputs": [],
   "source": []
  },
  {
   "cell_type": "markdown",
   "id": "94b7d159-63f7-4efb-a0ae-d5734e84272e",
   "metadata": {},
   "source": [
    "# 11. Find the Intersection of Two Lists\n",
    "## Problem Statement:\n",
    "Write a function to find the common elements between two lists.\n",
    "\n",
    "## Example 1:\n",
    "**Input:** `[1, 2, 3, 4]`, `[3, 4, 5, 6]`  \n",
    "**Output:** `[3, 4]`\n",
    "\n",
    "## Example 2:\n",
    "**Input:** `[\"apple\", \"banana\", \"cherry\"]`, `[\"banana\", \"cherry\", \"date\"]`  \n",
    "**Output:** `[\"banana\", \"cherry\"]`\n"
   ]
  },
  {
   "cell_type": "code",
   "execution_count": 26,
   "id": "2fba381c-645b-4788-bd52-8baae6cd8c82",
   "metadata": {},
   "outputs": [
    {
     "name": "stdout",
     "output_type": "stream",
     "text": [
      "[3, 4]\n",
      "['cherry', 'banana']\n"
     ]
    }
   ],
   "source": [
    "def intersect_list(arr1, arr2):\n",
    "    return list(set(arr1) & set(arr2))\n",
    "\n",
    "list1 = [1, 2, 3, 4] \n",
    "list2 = [3, 4, 5, 6]\n",
    "print(intersect_list(list1, list2))\n",
    "\n",
    "list1 = [\"apple\", \"banana\", \"cherry\"]\n",
    "list2 = [\"banana\", \"cherry\", \"date\"]\n",
    "print(intersect_list(list1, list2))"
   ]
  },
  {
   "cell_type": "code",
   "execution_count": null,
   "id": "296ba470-936b-47f2-943c-b597ead49086",
   "metadata": {},
   "outputs": [],
   "source": []
  },
  {
   "cell_type": "markdown",
   "id": "d21374ba-1837-4c2d-88f3-493c9dcfb804",
   "metadata": {},
   "source": [
    "# 12. Find the Union of Two Lists\n",
    "## Problem Statement:\n",
    "Write a function to return the union of two lists (without duplicates).\n",
    "\n",
    "## Example 1:\n",
    "**Input:** `[1, 2, 3]`, `[3, 4, 5]`  \n",
    "**Output:** `[1, 2, 3, 4, 5]`\n",
    "\n",
    "## Example 2:\n",
    "**Input:** `[\"a\", \"b\", \"c\"]`, `[\"b\", \"c\", \"d\"]`  \n",
    "**Output:** `[\"a\", \"b\", \"c\", \"d\"]`\n"
   ]
  },
  {
   "cell_type": "code",
   "execution_count": 36,
   "id": "b9c68bb7-b138-4a77-a73d-108977bce975",
   "metadata": {},
   "outputs": [
    {
     "name": "stdout",
     "output_type": "stream",
     "text": [
      "[1, 2, 3, 4, 5]\n",
      "['a', 'b', 'c', 'd']\n"
     ]
    }
   ],
   "source": [
    "def intersect_list(arr1, arr2):\n",
    "    arr3 = list(set(arr1) | set(arr2))\n",
    "    arr3.sort()\n",
    "    return arr3\n",
    "\n",
    "list1 = [1, 2, 3] \n",
    "list2 = [3, 4, 5]\n",
    "print(intersect_list(list1, list2))\n",
    "\n",
    "list1 = [\"a\", \"b\", \"c\"]\n",
    "list2 = [\"b\", \"c\", \"d\"]\n",
    "print(intersect_list(list1, list2))"
   ]
  },
  {
   "cell_type": "code",
   "execution_count": null,
   "id": "6264bf87-40a2-40db-945f-8c3995c782c8",
   "metadata": {},
   "outputs": [],
   "source": []
  },
  {
   "cell_type": "markdown",
   "id": "e335d83d-180c-428b-b297-911ff99846fb",
   "metadata": {},
   "source": [
    "# 13. Find the Difference Between Two Lists\n",
    "## Problem Statement:\n",
    "Write a function to return elements present in the first list but not in the second.\n",
    "\n",
    "## Example 1:\n",
    "**Input:** `[1, 2, 3, 4]`, `[2, 4, 6]`  \n",
    "**Output:** `[1, 3]`\n",
    "\n",
    "## Example 2:\n",
    "**Input:** `[\"cat\", \"dog\", \"rabbit\"]`, `[\"dog\", \"rabbit\"]`  \n",
    "**Output:** `[\"cat\"]`\n"
   ]
  },
  {
   "cell_type": "code",
   "execution_count": 39,
   "id": "07389d4c-44da-45b0-bab6-ab2e638be814",
   "metadata": {},
   "outputs": [
    {
     "name": "stdout",
     "output_type": "stream",
     "text": [
      "[1, 3]\n",
      "['cat']\n"
     ]
    }
   ],
   "source": [
    "def dif_list(arr1, arr2):\n",
    "    arr3 = []\n",
    "    for item in arr1:\n",
    "        if item not in arr2:\n",
    "            arr3.append(item)\n",
    "    return arr3\n",
    "\n",
    "list1 = [1, 2, 3, 4] \n",
    "list2 = [2, 4, 6]\n",
    "print(dif_list(list1, list2))\n",
    "\n",
    "list1 = [\"cat\", \"dog\", \"rabbit\"]\n",
    "list2 = [\"dog\", \"rabbit\"]\n",
    "print(dif_list(list1, list2))"
   ]
  },
  {
   "cell_type": "code",
   "execution_count": null,
   "id": "dde54afd-9351-4698-9603-7d98450d7eeb",
   "metadata": {},
   "outputs": [],
   "source": []
  },
  {
   "cell_type": "markdown",
   "id": "19e90ba4-7144-45ea-880d-f31d4c01fbde",
   "metadata": {},
   "source": [
    "# 14. Find the Mode of a List\n",
    "## Problem Statement:\n",
    "Write a function to return the most frequently occurring element in a list.\n",
    "\n",
    "## Example 1:\n",
    "**Input:** `[1, 2, 2, 3, 3, 3]`  \n",
    "**Output:** `3`\n",
    "\n",
    "## Example 2:\n",
    "**Input:** `[\"apple\", \"banana\", \"apple\", \"cherry\", \"apple\"]`  \n",
    "**Output:** `\"apple\"`\n"
   ]
  },
  {
   "cell_type": "code",
   "execution_count": 40,
   "id": "bfc0ae57-4b69-401b-9c06-1f7896081fc7",
   "metadata": {},
   "outputs": [
    {
     "name": "stdout",
     "output_type": "stream",
     "text": [
      "3\n",
      "apple\n"
     ]
    }
   ],
   "source": [
    "def max_occur(arr):\n",
    "    return max(arr, key=arr.count)\n",
    "\n",
    "list1 = [1, 2, 2, 3, 3, 3]\n",
    "list2 = [\"apple\", \"banana\", \"apple\", \"cherry\", \"apple\"]\n",
    "print(max_occur(list1))\n",
    "print(max_occur(list2))"
   ]
  },
  {
   "cell_type": "code",
   "execution_count": null,
   "id": "d0e0abaf-a368-4db5-b6ff-262d1367c125",
   "metadata": {},
   "outputs": [],
   "source": []
  },
  {
   "cell_type": "markdown",
   "id": "8008537d-35c3-498b-9d8f-f412c3ee331a",
   "metadata": {},
   "source": [
    "# 15. Flatten a Nested List\n",
    "## Problem Statement:\n",
    "Write a function to flatten a nested list into a single list.\n",
    "\n",
    "## Example 1:\n",
    "**Input:** `[[1, 2, [3]], 4]`  \n",
    "**Output:** `[1, 2, 3, 4]`\n",
    "\n",
    "## Example 2:\n",
    "**Input:** `[[\"a\", [\"b\", \"c\"]], \"d\"]`  \n",
    "**Output:** `[\"a\", \"b\", \"c\", \"d\"]`\n"
   ]
  },
  {
   "cell_type": "code",
   "execution_count": 44,
   "id": "6edccc26-3633-42b6-bd2e-032ce68236f6",
   "metadata": {},
   "outputs": [
    {
     "name": "stdout",
     "output_type": "stream",
     "text": [
      "[1, 2, 3, 4]\n",
      "['a', 'b', 'c', 'd']\n"
     ]
    }
   ],
   "source": [
    "def flatten_list(arr):\n",
    "    arr1 = []\n",
    "    for item in arr:\n",
    "        if isinstance(item, list):\n",
    "            arr1.extend(flatten_list(item))\n",
    "        else:\n",
    "            arr1.append(item)\n",
    "    return arr1\n",
    "\n",
    "list1 = [[1, 2, [3]], 4]\n",
    "print(flatten_list(list1))\n",
    "\n",
    "list1 = [[\"a\", [\"b\", \"c\"]], \"d\"]\n",
    "print(flatten_list(list1))"
   ]
  },
  {
   "cell_type": "code",
   "execution_count": null,
   "id": "75cefb05-db24-4683-a911-9594ac598682",
   "metadata": {},
   "outputs": [],
   "source": []
  },
  {
   "cell_type": "markdown",
   "id": "e1aae028-80b8-4a5f-b481-8afb6fc767e2",
   "metadata": {},
   "source": [
    "# 16. Find Pairs in a List That Sum to a Target Value\n",
    "## Problem Statement:\n",
    "Write a function to find all pairs in a list that sum to a given target.\n",
    "\n",
    "## Example 1:\n",
    "**Input:** `[1, 2, 3, 4, 5]`, `target=6`  \n",
    "**Output:** `[(1, 5), (2, 4)]`\n",
    "\n",
    "## Example 2:\n",
    "**Input:** `[2, 4, 6, 8]`, `target=10`  \n",
    "**Output:** `[(2, 8), (4, 6)]`\n"
   ]
  },
  {
   "cell_type": "code",
   "execution_count": 70,
   "id": "35f3cb07-6370-4b58-ac70-149c425ede93",
   "metadata": {},
   "outputs": [
    {
     "name": "stdout",
     "output_type": "stream",
     "text": [
      "[(1, 5), (2, 4)]\n",
      "[(2, 8), (4, 6)]\n"
     ]
    }
   ],
   "source": [
    "from itertools import combinations\n",
    "\n",
    "def find_pair(arr, k):\n",
    "    return [pair for pair in combinations(arr, 2) if sum(pair) == k]\n",
    "\n",
    "list1 = [1, 2, 3, 4, 5]\n",
    "k1 = 6\n",
    "print(find_pair(list1, k1))\n",
    "\n",
    "list2 = [2, 4, 6, 8]\n",
    "k2 = 10\n",
    "print(find_pair(list2, k2))\n",
    "    "
   ]
  },
  {
   "cell_type": "code",
   "execution_count": null,
   "id": "a95297a6-5358-4814-a21f-0e10c6df6212",
   "metadata": {},
   "outputs": [],
   "source": []
  },
  {
   "cell_type": "markdown",
   "id": "361f2030-2016-4608-bc25-29af4908b376",
   "metadata": {},
   "source": [
    "# 17. Find the Product of All Elements Except Self\n",
    "## Problem Statement:\n",
    "Write a function that returns a list where each index contains the product of all numbers except the number at that index.\n",
    "\n",
    "## Example 1:\n",
    "**Input:** `[1, 2, 3, 4]`  \n",
    "**Output:** `[24, 12, 8, 6]`\n",
    "\n",
    "## Example 2:\n",
    "**Input:** `[5, 6, 7]`  \n",
    "**Output:** `[42, 35, 30]`\n"
   ]
  },
  {
   "cell_type": "code",
   "execution_count": 69,
   "id": "933f3985-7aa4-4cc5-9c26-45f4b46586e9",
   "metadata": {},
   "outputs": [
    {
     "name": "stdout",
     "output_type": "stream",
     "text": [
      "[24, 12, 8, 6]\n",
      "[42, 35, 30]\n"
     ]
    }
   ],
   "source": [
    "def product_except_self(nums):\n",
    "    n = len(nums)\n",
    "    left_products = [1] * n\n",
    "    right_products = [1] * n\n",
    "    result = [1] * n\n",
    "\n",
    "    for i in range(1, n):\n",
    "        left_products[i] = left_products[i-1] * nums[i-1]\n",
    "\n",
    "    for i in range(n-2, -1, -1):\n",
    "        right_products[i] = right_products[i+1] * nums[i+1]\n",
    "\n",
    "    for i in range(n):\n",
    "        result[i] = left_products[i] * right_products[i]\n",
    "\n",
    "    return result\n",
    "\n",
    "\n",
    "list1 = [1, 2, 3, 4]\n",
    "print(product_except_self(list1))\n",
    "\n",
    "\n",
    "list2 = [5, 6, 7]\n",
    "print(product_except_self(list2))"
   ]
  },
  {
   "cell_type": "code",
   "execution_count": null,
   "id": "29d2d922-479e-43b6-861d-6c471e4989c0",
   "metadata": {},
   "outputs": [],
   "source": []
  },
  {
   "cell_type": "markdown",
   "id": "129ff3e8-fc93-4856-8cc9-5b49f84704cc",
   "metadata": {},
   "source": [
    "# 18. Find the Longest Consecutive Sequence in a List\n",
    "## Problem Statement:\n",
    "Write a function to find the longest sequence of consecutive numbers in a list.\n",
    "\n",
    "## Example 1:\n",
    "**Input:** `[100, 4, 200, 1, 3, 2]`  \n",
    "**Output:** `4  (sequence: [1, 2, 3, 4])`\n",
    "\n",
    "## Example 2:\n",
    "**Input:** `[10, 11, 12, 50, 51, 52]`  \n",
    "**Output:** `3  (sequence: [10, 11, 12])`\n"
   ]
  },
  {
   "cell_type": "code",
   "execution_count": 68,
   "id": "74775c8c-6eba-4628-b4aa-685ff18ec326",
   "metadata": {},
   "outputs": [
    {
     "name": "stdout",
     "output_type": "stream",
     "text": [
      "4\n",
      "3\n"
     ]
    }
   ],
   "source": [
    "def long_seq(arr):\n",
    "    num_set = set(arr)\n",
    "    long_streak = 0\n",
    "\n",
    "    for num in arr:\n",
    "        if num - 1 not in num_set:\n",
    "            current_num = num\n",
    "            current_streak = 1\n",
    "\n",
    "            while current_num + 1 in num_set:\n",
    "                current_num += 1\n",
    "                current_streak += 1\n",
    "\n",
    "            long_streak = max(long_streak, current_streak)\n",
    "\n",
    "    return long_streak\n",
    "\n",
    "list1 = [100, 4, 200, 1, 3, 2]\n",
    "print(long_seq(list1))\n",
    "\n",
    "list1 = [10, 11, 12, 50, 51, 52]\n",
    "print(long_seq(list1))"
   ]
  },
  {
   "cell_type": "code",
   "execution_count": null,
   "id": "1e8e6260-8f83-467c-b9dd-10497f63e640",
   "metadata": {},
   "outputs": [],
   "source": []
  },
  {
   "cell_type": "markdown",
   "id": "d78db306-86d8-466d-809e-4a501d84b7e3",
   "metadata": {},
   "source": [
    "# 19. Check if a List Contains a Sublist\n",
    "## Problem Statement:\n",
    "Write a function to check if a list contains a given sublist.\n",
    "\n",
    "## Example 1:\n",
    "**Input:** `[1, 2, 3, 4, 5]`, `[3, 4]`  \n",
    "**Output:** `True`\n",
    "\n",
    "## Example 2:\n",
    "**Input:** `[10, 20, 30, 40]`, `[20, 50]`  \n",
    "**Output:** `False`\n"
   ]
  },
  {
   "cell_type": "code",
   "execution_count": 54,
   "id": "f4981789-b06f-4f01-9d60-33aee6a9fc61",
   "metadata": {},
   "outputs": [
    {
     "name": "stdout",
     "output_type": "stream",
     "text": [
      "True\n",
      "False\n"
     ]
    }
   ],
   "source": [
    "def find_subset(arr1, arr2):\n",
    "    len_sub_list = len(arr2)\n",
    "    for i in range(len(arr1)-len_sub_list+1):\n",
    "        if arr1[i:i+len_sub_list] == arr2:\n",
    "            return True\n",
    "    return False\n",
    "\n",
    "list1 = [1, 2, 3, 4, 5] \n",
    "list2 = [3, 4]\n",
    "print(find_subset(list1, list2))\n",
    "\n",
    "list1 = [10, 20, 30, 40]\n",
    "list2 = [20, 50]\n",
    "print(find_subset(list1, list2))"
   ]
  },
  {
   "cell_type": "code",
   "execution_count": null,
   "id": "dbe70fad-c011-4a2b-8610-257686b41eb7",
   "metadata": {},
   "outputs": [],
   "source": []
  },
  {
   "cell_type": "markdown",
   "id": "9f92a78f-50c6-4244-89cb-44cf6d00da88",
   "metadata": {},
   "source": [
    "# 20. Find the Kth Largest Element in a List\n",
    "## Problem Statement:\n",
    "Write a function to find the `k`th largest element in a list.\n",
    "\n",
    "## Example 1:\n",
    "**Input:** `[3, 2, 1, 5, 6, 4]`, `k=2`  \n",
    "**Output:** `5`\n",
    "\n",
    "## Example 2:\n",
    "**Input:** `[10, 20, 30, 40, 50]`, `k=3`  \n",
    "**Output:** `30`\n"
   ]
  },
  {
   "cell_type": "code",
   "execution_count": 57,
   "id": "b7752ce5-63b2-414f-b2bc-5f64a1f804e4",
   "metadata": {},
   "outputs": [
    {
     "name": "stdout",
     "output_type": "stream",
     "text": [
      "5\n"
     ]
    },
    {
     "data": {
      "text/plain": [
       "30"
      ]
     },
     "execution_count": 57,
     "metadata": {},
     "output_type": "execute_result"
    }
   ],
   "source": [
    "def k_largest(arr, k):\n",
    "    arr.sort()\n",
    "    return arr[-k]\n",
    "\n",
    "list1 = [3, 2, 1, 5, 6, 4]\n",
    "k1 = 2\n",
    "print(k_largest(list1, k1))\n",
    "\n",
    "list2 = [10, 20, 30, 40, 50]\n",
    "k1 = 3\n",
    "k_largest(list2, k2)"
   ]
  },
  {
   "cell_type": "code",
   "execution_count": null,
   "id": "e9af5c07-635e-4d89-bbde-8d499d856896",
   "metadata": {},
   "outputs": [],
   "source": []
  },
  {
   "cell_type": "markdown",
   "id": "af5120a1-17b0-4d4c-880e-34835e12e1bb",
   "metadata": {},
   "source": [
    "# 21. Find All Duplicates in a List\n",
    "## Problem Statement:\n",
    "Write a function to return a list of all duplicate elements.\n",
    "\n",
    "## Example 1:\n",
    "**Input:** `[1, 2, 3, 4, 2, 3, 5]`  \n",
    "**Output:** `[2, 3]`\n",
    "\n",
    "## Example 2:\n",
    "**Input:** `[10, 10, 20, 30, 30]`  \n",
    "**Output:** `[10, 30]`\n"
   ]
  },
  {
   "cell_type": "code",
   "execution_count": 60,
   "id": "611db358-0cf5-4c2c-b63a-331be040255e",
   "metadata": {},
   "outputs": [
    {
     "name": "stdout",
     "output_type": "stream",
     "text": [
      "[2, 3]\n",
      "[10, 30]\n"
     ]
    }
   ],
   "source": [
    "def find_dup(arr):\n",
    "    dup_arr = []\n",
    "    temp_arr = []\n",
    "    for item in arr:\n",
    "        if item in temp_arr:\n",
    "            dup_arr.append(item)\n",
    "        else:\n",
    "            temp_arr.append(item)\n",
    "    return dup_arr\n",
    "\n",
    "list1 = [1, 2, 3, 4, 2, 3, 5]\n",
    "print(find_dup(list1))\n",
    "\n",
    "list2 = [10, 10, 20, 30, 30]\n",
    "print(find_dup(list2))"
   ]
  },
  {
   "cell_type": "code",
   "execution_count": null,
   "id": "8c9d8d57-70ac-4a21-a58a-71c67aa9fb16",
   "metadata": {},
   "outputs": [],
   "source": []
  },
  {
   "cell_type": "markdown",
   "id": "b179dc25-37ab-471a-a357-6c90633751e6",
   "metadata": {},
   "source": [
    "# 22. Partition a List into Even and Odd Elements\n",
    "## Problem Statement:\n",
    "Write a function to split a list into two separate lists, one containing even numbers and the other containing odd numbers.\n",
    "\n",
    "## Example 1:\n",
    "**Input:** `[1, 2, 3, 4, 5]`  \n",
    "**Output:** `([2, 4], [1, 3, 5])`\n",
    "\n",
    "## Example 2:\n",
    "**Input:** `[10, 15, 20, 25]`  \n",
    "**Output:** `([10, 20], [15, 25])`\n"
   ]
  },
  {
   "cell_type": "code",
   "execution_count": 65,
   "id": "06437acb-825d-49d7-ae88-da2883ebd696",
   "metadata": {},
   "outputs": [
    {
     "name": "stdout",
     "output_type": "stream",
     "text": [
      "([2, 4], [1, 3, 5])\n",
      "([10, 20], [15, 25])\n"
     ]
    }
   ],
   "source": [
    "def sep_list(arr):\n",
    "    even = []\n",
    "    odd = []\n",
    "    tuple_ = tuple()\n",
    "    for item in arr:\n",
    "        if item%2==0:\n",
    "            even.append(item)\n",
    "        else:\n",
    "            odd.append(item)\n",
    "    return tuple_ + (even,) + (odd,)\n",
    "\n",
    "list1 = [1, 2, 3, 4, 5]\n",
    "print(sep_list(list1))\n",
    "\n",
    "list2 = [10, 15, 20, 25]\n",
    "print(sep_list(list2))"
   ]
  },
  {
   "cell_type": "code",
   "execution_count": null,
   "id": "973eb955-eacb-4c3b-b028-83f3496f2ffd",
   "metadata": {},
   "outputs": [],
   "source": []
  },
  {
   "cell_type": "markdown",
   "id": "b92d2695-51ec-4780-88f2-23f8f5591479",
   "metadata": {},
   "source": [
    "# 23. Find the First Non-Repeating Element in a List\n",
    "## Problem Statement:\n",
    "Write a function to find the first element that does not repeat.\n",
    "\n",
    "## Example 1:\n",
    "**Input:** `[4, 5, 1, 2, 0, 4]`  \n",
    "**Output:** `5`\n",
    "\n",
    "## Example 2:\n",
    "**Input:** `[10, 20, 10, 30, 20]`  \n",
    "**Output:** `30`\n"
   ]
  },
  {
   "cell_type": "code",
   "execution_count": 66,
   "id": "b9dfd48e-7d1f-4fdc-a66c-b260167a145c",
   "metadata": {},
   "outputs": [
    {
     "name": "stdout",
     "output_type": "stream",
     "text": [
      "5\n",
      "30\n"
     ]
    }
   ],
   "source": [
    "def find_non_dup(arr):\n",
    "    dup_arr = []\n",
    "    temp_arr = []\n",
    "    for item in arr:\n",
    "        if item in temp_arr:\n",
    "            dup_arr.append(item)\n",
    "        else:\n",
    "            temp_arr.append(item)\n",
    "    for item in temp_arr:\n",
    "        if item not in dup_arr:\n",
    "            return item\n",
    "    return none\n",
    "\n",
    "list1 = [4, 5, 1, 2, 0, 4]\n",
    "print(find_non_dup(list1))\n",
    "\n",
    "list2 = [10, 20, 10, 30, 20]\n",
    "print(find_non_dup(list2))"
   ]
  },
  {
   "cell_type": "code",
   "execution_count": null,
   "id": "9796f7dd-192a-478d-84be-f06898fc96c8",
   "metadata": {},
   "outputs": [],
   "source": []
  },
  {
   "cell_type": "markdown",
   "id": "6fb71179-2ae6-456d-b25a-db10c57e5429",
   "metadata": {},
   "source": [
    "# 24. Sort a List Without Using Built-in Sort\n",
    "## Problem Statement:\n",
    "Write a function to sort a list in ascending order without using Python’s built-in sort.\n",
    "\n",
    "## Example 1:\n",
    "**Input:** `[3, 1, 4, 1, 5, 9]`  \n",
    "**Output:** `[1, 1, 3, 4, 5, 9]`\n",
    "\n",
    "## Example 2:\n",
    "**Input:** `[10, 5, 2, 8]`  \n",
    "**Output:** `[2, 5, 8, 10]`\n"
   ]
  },
  {
   "cell_type": "code",
   "execution_count": 74,
   "id": "0ad5b31f-b1c3-4273-bc7a-98c47b958911",
   "metadata": {},
   "outputs": [
    {
     "name": "stdout",
     "output_type": "stream",
     "text": [
      "[1, 1, 3, 4, 5, 9]\n",
      "[2, 5, 8, 10]\n"
     ]
    }
   ],
   "source": [
    "def sort_list(arr):\n",
    "    n = len(arr)\n",
    "    for i in range(n):\n",
    "        for j in range(0, n - i - 1):\n",
    "            if arr[j] > arr[j + 1]:\n",
    "                arr[j], arr[j + 1] = arr[j + 1], arr[j]\n",
    "    return arr\n",
    "\n",
    "list1 = [3, 1, 4, 1, 5, 9]\n",
    "print(sort_list(list1))\n",
    "\n",
    "list2 = [10, 5, 2, 8]\n",
    "print(sort_list(list2))"
   ]
  },
  {
   "cell_type": "code",
   "execution_count": null,
   "id": "12685e9a-841e-4b2b-8cfb-7131b1e3c6f1",
   "metadata": {},
   "outputs": [],
   "source": []
  },
  {
   "cell_type": "markdown",
   "id": "37658f34-5781-4e84-b348-48b1c8f350cc",
   "metadata": {},
   "source": [
    "# 25. Find All Triplets That Sum to Zero\n",
    "## Problem Statement:\n",
    "Write a function to find all triplets in a list that sum to zero.\n",
    "\n",
    "## Example 1:\n",
    "**Input:** `[-1, 0, 1, 2, -1, -4]`  \n",
    "**Output:** `[[-1, -1, 2], [-1, 0, 1]]`\n",
    "\n",
    "## Example 2:\n",
    "**Input:** `[1, -2, 1, 0, 5]`  \n",
    "**Output:** `[[-2, 1, 1]]`\n"
   ]
  },
  {
   "cell_type": "code",
   "execution_count": 73,
   "id": "defa0f94-4681-499b-8aeb-8fc381308d05",
   "metadata": {},
   "outputs": [
    {
     "name": "stdout",
     "output_type": "stream",
     "text": [
      "[[-1, 0, 1], [-1, 2, -1], [0, 1, -1]]\n",
      "[[1, -2, 1]]\n"
     ]
    }
   ],
   "source": [
    "def find_triplets(arr):\n",
    "    n = len(arr)\n",
    "    arr1 = []\n",
    "    for i in range(n - 2):\n",
    "        for j in range(i + 1, n - 1):\n",
    "            for k in range(j + 1, n):\n",
    "                if arr[i] + arr[j] + arr[k] == 0:\n",
    "                    arr1.append([arr[i], arr[j], arr[k]])\n",
    "    return arr1\n",
    "\n",
    "\n",
    "list1 = [-1, 0, 1, 2, -1, -4]\n",
    "print(find_triplets(list1))\n",
    "\n",
    "list2 = [1, -2, 1, 0, 5]\n",
    "print(find_triplets(list2))"
   ]
  },
  {
   "cell_type": "code",
   "execution_count": null,
   "id": "cce128fa-a380-467e-9251-b0449833e334",
   "metadata": {},
   "outputs": [],
   "source": []
  },
  {
   "cell_type": "code",
   "execution_count": null,
   "id": "55f0be4a-a7a1-4d9e-8388-6112e2968e43",
   "metadata": {},
   "outputs": [],
   "source": []
  }
 ],
 "metadata": {
  "kernelspec": {
   "display_name": "Python 3 (ipykernel)",
   "language": "python",
   "name": "python3"
  },
  "language_info": {
   "codemirror_mode": {
    "name": "ipython",
    "version": 3
   },
   "file_extension": ".py",
   "mimetype": "text/x-python",
   "name": "python",
   "nbconvert_exporter": "python",
   "pygments_lexer": "ipython3",
   "version": "3.12.3"
  }
 },
 "nbformat": 4,
 "nbformat_minor": 5
}
