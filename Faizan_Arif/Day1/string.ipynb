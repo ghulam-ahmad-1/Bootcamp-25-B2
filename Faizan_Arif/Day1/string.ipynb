{
 "cells": [
  {
   "cell_type": "markdown",
   "id": "ae0ad9d2-1f51-46a1-8ed2-2b00ed414cc6",
   "metadata": {},
   "source": [
    "# 1. Reverse a String\n",
    "## Problem Statement:\n",
    "Write a function to reverse a given string.\n",
    "\n",
    "## Example 1:\n",
    "**Input:** `\"hello\"`  \n",
    "**Output:** `\"olleh\"`\n",
    "\n",
    "## Example 2:\n",
    "**Input:** `\"world\"`  \n",
    "**Output:** `\"dlrow\"`\n"
   ]
  },
  {
   "cell_type": "code",
   "execution_count": 1,
   "id": "e1435aa7-457c-4b05-ad71-fc7204bb88d7",
   "metadata": {},
   "outputs": [
    {
     "name": "stdout",
     "output_type": "stream",
     "text": [
      "olleh\n",
      "dlrow\n"
     ]
    }
   ],
   "source": [
    "def reverse_str(string):\n",
    "    return string[::-1]\n",
    "\n",
    "string1 = \"hello\"\n",
    "print(reverse_str(string1))\n",
    "\n",
    "\n",
    "string1 = \"world\"\n",
    "print(reverse_str(string1))"
   ]
  },
  {
   "cell_type": "code",
   "execution_count": null,
   "id": "1f15a4a5-58a6-4b21-b178-575c8b4790f2",
   "metadata": {},
   "outputs": [],
   "source": []
  },
  {
   "cell_type": "markdown",
   "id": "5a3927f5-6184-40a6-b3f8-34cd08ef19a1",
   "metadata": {},
   "source": [
    "# 2. Check if a String is a Palindrome\n",
    "## Problem Statement:\n",
    "Write a function to check if a string is a palindrome (same forward and backward).\n",
    "\n",
    "## Example 1:\n",
    "**Input:** `\"madam\"`  \n",
    "**Output:** `True`\n",
    "\n",
    "## Example 2:\n",
    "**Input:** `\"hello\"`  \n",
    "**Output:** `False`\n"
   ]
  },
  {
   "cell_type": "code",
   "execution_count": 4,
   "id": "e10e83ef-aacb-4764-9c1a-dc28c3d0b3df",
   "metadata": {},
   "outputs": [
    {
     "name": "stdout",
     "output_type": "stream",
     "text": [
      "True\n",
      "False\n"
     ]
    }
   ],
   "source": [
    "def palindrom_str(string):\n",
    "    return string[::-1] == string\n",
    "\n",
    "string1 = \"madam\"\n",
    "print(palindrom_str(string1))\n",
    "\n",
    "\n",
    "string1 = \"hello\"\n",
    "print(palindrom_str(string1))"
   ]
  },
  {
   "cell_type": "code",
   "execution_count": null,
   "id": "5e6a74e5-1a49-48ee-8624-20cce02b3597",
   "metadata": {},
   "outputs": [],
   "source": []
  },
  {
   "cell_type": "markdown",
   "id": "58b59720-7688-43eb-b24d-d886c3b3c809",
   "metadata": {},
   "source": [
    "# 3. Count the Number of Vowels in a String\n",
    "## Problem Statement:\n",
    "Write a function to count the number of vowels in a given string.\n",
    "\n",
    "## Example 1:\n",
    "**Input:** `\"apple\"`  \n",
    "**Output:** `2`\n",
    "\n",
    "## Example 2:\n",
    "**Input:** `\"banana\"`  \n",
    "**Output:** `3`\n"
   ]
  },
  {
   "cell_type": "code",
   "execution_count": 6,
   "id": "cc7ada12-76e0-4759-87ee-31224446fdd7",
   "metadata": {},
   "outputs": [
    {
     "name": "stdout",
     "output_type": "stream",
     "text": [
      "2\n",
      "3\n"
     ]
    }
   ],
   "source": [
    "def count_vowels(string):\n",
    "    count = 0\n",
    "    vowels = 'aeiou'\n",
    "    for char in string:\n",
    "        if char in vowels:\n",
    "            count += 1\n",
    "    return count\n",
    "\n",
    "string1 = \"apple\"\n",
    "print(count_vowels(string1))\n",
    "\n",
    "\n",
    "string1 = \"banana\"\n",
    "print(count_vowels(string1))"
   ]
  },
  {
   "cell_type": "code",
   "execution_count": null,
   "id": "6ad075be-9c42-41d2-be73-ac5760653656",
   "metadata": {},
   "outputs": [],
   "source": []
  },
  {
   "cell_type": "markdown",
   "id": "abcbec6f-e9e9-4238-8130-b4313c2357cc",
   "metadata": {},
   "source": [
    "# 4. Remove All Whitespace from a String\n",
    "## Problem Statement:\n",
    "Write a function that removes all whitespace characters from a string.\n",
    "\n",
    "## Example 1:\n",
    "**Input:** `\"hello world\"`  \n",
    "**Output:** `\"helloworld\"`\n",
    "\n",
    "## Example 2:\n",
    "**Input:** `\" Python  is  fun \"`  \n",
    "**Output:** `\"Pythonisfun\"`\n"
   ]
  },
  {
   "cell_type": "code",
   "execution_count": 9,
   "id": "59152c0f-cc53-4319-8b61-7bfa739a35a9",
   "metadata": {},
   "outputs": [
    {
     "name": "stdout",
     "output_type": "stream",
     "text": [
      "helloworld\n",
      "Pythonisfun\n"
     ]
    }
   ],
   "source": [
    "def remove_space(string):\n",
    "    return string.replace(' ', '')\n",
    "\n",
    "string1 = \"hello world\"\n",
    "print(remove_space(string1))\n",
    "\n",
    "\n",
    "string1 = \" Python  is  fun \"\n",
    "print(remove_space(string1))"
   ]
  },
  {
   "cell_type": "code",
   "execution_count": null,
   "id": "c0feb715-5555-4882-b4d5-862addfc2e83",
   "metadata": {},
   "outputs": [],
   "source": []
  },
  {
   "cell_type": "markdown",
   "id": "7a8010ed-0bbf-42c3-82c3-46b175c6e8af",
   "metadata": {},
   "source": [
    "# 5. Find the First Non-Repeating Character in a String\n",
    "## Problem Statement:\n",
    "Write a function to find the first non-repeating character in a given string.\n",
    "\n",
    "## Example 1:\n",
    "**Input:** `\"swiss\"`  \n",
    "**Output:** `\"w\"`\n",
    "\n",
    "## Example 2:\n",
    "**Input:** `\"racecar\"`  \n",
    "**Output:** `\"e\"`\n"
   ]
  },
  {
   "cell_type": "code",
   "execution_count": 14,
   "id": "4aca409d-99fa-43bc-814c-9d93d54507ad",
   "metadata": {},
   "outputs": [
    {
     "name": "stdout",
     "output_type": "stream",
     "text": [
      "w\n",
      "e\n"
     ]
    }
   ],
   "source": [
    "def find_non_dup(string):\n",
    "    dup_arr = []\n",
    "    temp_arr = []\n",
    "    for item in string:\n",
    "        if item in temp_arr:\n",
    "            dup_arr.append(item)\n",
    "        else:\n",
    "            temp_arr.append(item)\n",
    "    for item in temp_arr:\n",
    "        if item not in dup_arr:\n",
    "            return item\n",
    "    return none\n",
    "\n",
    "string1 = \"swiss\"\n",
    "print(find_non_dup(string1))\n",
    "\n",
    "\n",
    "string1 = \"racecar\"\n",
    "print(find_non_dup(string1))"
   ]
  },
  {
   "cell_type": "code",
   "execution_count": null,
   "id": "728943f8-b9cd-45ca-9c54-4698ea06ade7",
   "metadata": {},
   "outputs": [],
   "source": []
  },
  {
   "cell_type": "markdown",
   "id": "d3b7ea00-ba1f-46ed-b122-bb6b7cac074f",
   "metadata": {},
   "source": [
    "# 6. Check if Two Strings are Anagrams\n",
    "## Problem Statement:\n",
    "Write a function to check if two strings are anagrams.\n",
    "\n",
    "## Example 1:\n",
    "**Input:** `\"listen\", \"silent\"`  \n",
    "**Output:** `True`\n",
    "\n",
    "## Example 2:\n",
    "**Input:** `\"hello\", \"world\"`  \n",
    "**Output:** `False`\n"
   ]
  },
  {
   "cell_type": "code",
   "execution_count": 17,
   "id": "3b2c05e5-a7df-476b-9061-f7df9c3539d2",
   "metadata": {},
   "outputs": [
    {
     "name": "stdout",
     "output_type": "stream",
     "text": [
      "True\n",
      "False\n"
     ]
    }
   ],
   "source": [
    "def check_anagrams(str1, str2):\n",
    "    str1 = sorted(str1)\n",
    "    str2 = sorted(str2)\n",
    "    return str1 == str2\n",
    "\n",
    "str1 = 'listen'\n",
    "str2 = 'silent'\n",
    "print(check_anagrams(str1, str2))\n",
    "\n",
    "\n",
    "str1 = 'hello'\n",
    "str2 = 'world'\n",
    "print(check_anagrams(str1, str2))"
   ]
  },
  {
   "cell_type": "code",
   "execution_count": null,
   "id": "921ee110-5557-4d6e-a669-dc81ca237bcb",
   "metadata": {},
   "outputs": [],
   "source": []
  },
  {
   "cell_type": "markdown",
   "id": "3989dfe4-ab68-419d-9042-877f37ede653",
   "metadata": {},
   "source": [
    "# 7. Convert a String to Uppercase\n",
    "## Problem Statement:\n",
    "Write a function to convert a string to uppercase.\n",
    "\n",
    "## Example 1:\n",
    "**Input:** `\"python\"`  \n",
    "**Output:** `\"PYTHON\"`\n",
    "\n",
    "## Example 2:\n",
    "**Input:** `\"Hello World\"`  \n",
    "**Output:** `\"HELLO WORLD\"`\n"
   ]
  },
  {
   "cell_type": "code",
   "execution_count": 20,
   "id": "163d0c7c-d95c-48f5-9f57-a6415fe19099",
   "metadata": {},
   "outputs": [
    {
     "name": "stdout",
     "output_type": "stream",
     "text": [
      "PYTHON\n",
      "HELLO WORLD\n"
     ]
    }
   ],
   "source": [
    "def uppercase(str1):\n",
    "    str1 = str1.upper()\n",
    "    return str1\n",
    "\n",
    "string1 = \"python\"\n",
    "print(uppercase(string1))\n",
    "\n",
    "\n",
    "string1 = \"Hello World\"\n",
    "print(uppercase(string1))"
   ]
  },
  {
   "cell_type": "code",
   "execution_count": null,
   "id": "aaf4bac8-2992-489f-90fe-a6321edc64c4",
   "metadata": {},
   "outputs": [],
   "source": []
  },
  {
   "cell_type": "markdown",
   "id": "d9101758-0867-41e5-b4a0-a71db20536ae",
   "metadata": {},
   "source": [
    "# 8. Find the Most Frequent Character in a String\n",
    "## Problem Statement:\n",
    "Write a function to find the most frequently occurring character in a string.\n",
    "\n",
    "## Example 1:\n",
    "**Input:** `\"banana\"`  \n",
    "**Output:** `\"a\"`\n",
    "\n",
    "## Example 2:\n",
    "**Input:** `\"mississippi\"`  \n",
    "**Output:** `\"i\"`\n"
   ]
  },
  {
   "cell_type": "code",
   "execution_count": 24,
   "id": "9cb62d0a-3b5d-4271-8091-ad6e666acd2a",
   "metadata": {},
   "outputs": [
    {
     "name": "stdout",
     "output_type": "stream",
     "text": [
      "a\n",
      "i\n"
     ]
    }
   ],
   "source": [
    "def max_occur(str1):\n",
    "    return max(str1, key=str1.count)\n",
    "\n",
    "string1 = 'banana'\n",
    "string2 = 'mississippi'\n",
    "print(max_occur(string1))\n",
    "print(max_occur(string2))"
   ]
  },
  {
   "cell_type": "code",
   "execution_count": null,
   "id": "8934605e-f2d2-49ab-a77e-2fb406d85d79",
   "metadata": {},
   "outputs": [],
   "source": []
  },
  {
   "cell_type": "markdown",
   "id": "b23de210-f0d4-4e2d-ab9a-aa853e471a15",
   "metadata": {},
   "source": [
    "# 9. Check if a String Contains Only Digits\n",
    "## Problem Statement:\n",
    "Write a function to check if a string contains only digits.\n",
    "\n",
    "## Example 1:\n",
    "**Input:** `\"12345\"`  \n",
    "**Output:** `True`\n",
    "\n",
    "## Example 2:\n",
    "**Input:** `\"12a45\"`  \n",
    "**Output:** `False`\n"
   ]
  },
  {
   "cell_type": "code",
   "execution_count": 32,
   "id": "419f05a0-3648-4ef3-badf-0cdd35869ec1",
   "metadata": {},
   "outputs": [
    {
     "name": "stdout",
     "output_type": "stream",
     "text": [
      "True\n",
      "False\n"
     ]
    }
   ],
   "source": [
    "def only_digit(str1):\n",
    "    for char in str1:\n",
    "        try:\n",
    "            if int(char) >= 1 and int(char) <= 9:\n",
    "                pass\n",
    "        except:\n",
    "            return False\n",
    "    return True\n",
    "\n",
    "string1 = '12345'\n",
    "string2 = '12a45'\n",
    "print(only_digit(string1))\n",
    "print(only_digit(string2))"
   ]
  },
  {
   "cell_type": "code",
   "execution_count": null,
   "id": "8c3e49f1-defd-4b0d-8321-6517e6917795",
   "metadata": {},
   "outputs": [],
   "source": []
  },
  {
   "cell_type": "markdown",
   "id": "f9d2b183-d1aa-446d-a449-90d3375f7c53",
   "metadata": {},
   "source": [
    "# 10. Find the Length of the Longest Word in a Sentence\n",
    "## Problem Statement:\n",
    "Write a function to find the length of the longest word in a sentence.\n",
    "\n",
    "## Example 1:\n",
    "**Input:** `\"The quick brown fox\"`  \n",
    "**Output:** `5`\n",
    "\n",
    "## Example 2:\n",
    "**Input:** `\"A journey of a thousand miles\"`  \n",
    "**Output:** `8`\n"
   ]
  },
  {
   "cell_type": "code",
   "execution_count": 38,
   "id": "0ed5e962-f5dd-4e91-85e2-0cd0e9fcdf84",
   "metadata": {},
   "outputs": [
    {
     "name": "stdout",
     "output_type": "stream",
     "text": [
      "5\n",
      "8\n"
     ]
    }
   ],
   "source": [
    "def longest_word(str1):\n",
    "    str_list = str1.split()\n",
    "    if not str_list:\n",
    "        return 0\n",
    "    longest = 0\n",
    "    for item in str_list:\n",
    "        if len(item) > longest:\n",
    "            longest = len(item)\n",
    "    return longest\n",
    "\n",
    "string1 = 'The quick brown fox'\n",
    "string2 = 'A journey of a thousand miles'\n",
    "print(longest_word(string1))\n",
    "print(longest_word(string2))"
   ]
  },
  {
   "cell_type": "code",
   "execution_count": null,
   "id": "6a62f30a-81ee-405a-89c5-560f88ed25fe",
   "metadata": {},
   "outputs": [],
   "source": []
  },
  {
   "cell_type": "markdown",
   "id": "3499119b-b83a-4e89-b68e-db215e943998",
   "metadata": {},
   "source": [
    "# 11. Replace Spaces with '%20' (URL Encoding)\n",
    "## Problem Statement:\n",
    "Write a function to replace all spaces in a string with `%20`.\n",
    "\n",
    "## Example 1:\n",
    "**Input:** `\"Mr John Smith\"`  \n",
    "**Output:** `\"Mr%20John%20Smith\"`\n",
    "\n",
    "## Example 2:\n",
    "**Input:** `\"Hello World\"`  \n",
    "**Output:** `\"Hello%20World\"`\n"
   ]
  },
  {
   "cell_type": "code",
   "execution_count": 40,
   "id": "c1b7b110-7076-4e47-9690-b99de5ffd695",
   "metadata": {},
   "outputs": [
    {
     "name": "stdout",
     "output_type": "stream",
     "text": [
      "Mr%20John%20Smith\n",
      "Hello%20World\n"
     ]
    }
   ],
   "source": [
    "def remove_space(string):\n",
    "    return string.replace(' ', '%20')\n",
    "\n",
    "string1 = \"Mr John Smith\"\n",
    "print(remove_space(string1))\n",
    "\n",
    "\n",
    "string1 = \"Hello World\"\n",
    "print(remove_space(string1))"
   ]
  },
  {
   "cell_type": "code",
   "execution_count": null,
   "id": "b94611fe-6fb7-4edf-9954-176d45889f5b",
   "metadata": {},
   "outputs": [],
   "source": []
  },
  {
   "cell_type": "markdown",
   "id": "59196fe4-763d-4d23-a941-6f17ce59481a",
   "metadata": {},
   "source": [
    "# 12. Find All Substrings of a String\n",
    "## Problem Statement:\n",
    "Write a function to return all substrings of a given string.\n",
    "\n",
    "## Example 1:\n",
    "**Input:** `\"abc\"`  \n",
    "**Output:** `[\"a\", \"b\", \"c\", \"ab\", \"bc\", \"abc\"]`\n",
    "\n",
    "## Example 2:\n",
    "**Input:** `\"xyz\"`  \n",
    "**Output:** `[\"x\", \"y\", \"z\", \"xy\", \"yz\", \"xyz\"]`\n"
   ]
  },
  {
   "cell_type": "code",
   "execution_count": 43,
   "id": "743c4c58-3950-427f-8c0b-bd4e3eda5fa8",
   "metadata": {},
   "outputs": [
    {
     "name": "stdout",
     "output_type": "stream",
     "text": [
      "['a', 'ab', 'abc', 'b', 'bc', 'c']\n",
      "['x', 'xy', 'xyz', 'y', 'yz', 'z']\n"
     ]
    }
   ],
   "source": [
    "def find_substring(str1):\n",
    "    arr = []\n",
    "    for i in range(len(str1)):\n",
    "        for j in range(i, len(str1)):\n",
    "            arr.append(str1[i:j+1])\n",
    "    return arr\n",
    "\n",
    "string1 = \"abc\"\n",
    "print(find_substring(string1))\n",
    "\n",
    "\n",
    "string1 = \"xyz\"\n",
    "print(find_substring(string1))"
   ]
  },
  {
   "cell_type": "code",
   "execution_count": null,
   "id": "993ed2a1-22ea-41ab-aeec-da5d494b8561",
   "metadata": {},
   "outputs": [],
   "source": []
  },
  {
   "cell_type": "markdown",
   "id": "08cca7f3-0462-4e37-883e-4850ac7d9b4a",
   "metadata": {},
   "source": [
    "# 13. Reverse Each Word in a Sentence\n",
    "## Problem Statement:\n",
    "Write a function to reverse each word in a sentence while maintaining word order.\n",
    "\n",
    "## Example 1:\n",
    "**Input:** `\"hello world\"`  \n",
    "**Output:** `\"olleh dlrow\"`\n",
    "\n",
    "## Example 2:\n",
    "**Input:** `\"Python is fun\"`  \n",
    "**Output:** `\"nohtyP si nuf\"`\n"
   ]
  },
  {
   "cell_type": "code",
   "execution_count": 46,
   "id": "53eab569-3ea4-4e48-a585-6f729c5e2c69",
   "metadata": {},
   "outputs": [
    {
     "name": "stdout",
     "output_type": "stream",
     "text": [
      "olleh dlrow\n",
      "nohtyp si nuf\n"
     ]
    }
   ],
   "source": [
    "def reverse_str(string):\n",
    "    arr = string.split()\n",
    "    for i,value in enumerate(arr):\n",
    "        arr[i] = value[::-1]\n",
    "    return ' '.join(arr)\n",
    "\n",
    "\n",
    "string1 = \"hello world\"\n",
    "print(reverse_str(string1))\n",
    "\n",
    "\n",
    "string1 = \"python is fun\"\n",
    "print(reverse_str(string1))"
   ]
  },
  {
   "cell_type": "code",
   "execution_count": null,
   "id": "72bba1ec-96c7-41b3-976f-f8dbdbc8cec9",
   "metadata": {},
   "outputs": [],
   "source": []
  },
  {
   "cell_type": "markdown",
   "id": "c52682bf-2f05-4515-acce-192b91883858",
   "metadata": {},
   "source": [
    "# 14. Find the Longest Common Prefix of a List of Strings\n",
    "## Problem Statement:\n",
    "Write a function to find the longest common prefix among a list of strings.\n",
    "\n",
    "## Example 1:\n",
    "**Input:** `[\"flower\", \"flow\", \"flight\"]`  \n",
    "**Output:** `\"fl\"`\n",
    "\n",
    "## Example 2:\n",
    "**Input:** `[\"dog\", \"racecar\", \"car\"]`  \n",
    "**Output:** `\"\"`\n"
   ]
  },
  {
   "cell_type": "code",
   "execution_count": 4,
   "id": "c326e4fd-7ad6-4d3e-9bd9-f5b28114eeff",
   "metadata": {},
   "outputs": [
    {
     "name": "stdout",
     "output_type": "stream",
     "text": [
      "fl\n",
      "\n"
     ]
    }
   ],
   "source": [
    "def longest_common_prefix(arr1):\n",
    "    if not arr1:\n",
    "        return \"\"\n",
    "    prefix = arr1[0]\n",
    "    #print(prefix)\n",
    "    for string in arr1[1:]:\n",
    "        #print(string)\n",
    "        while not string.startswith(prefix):\n",
    "            prefix = prefix[:-1]\n",
    "            #print(prefix)\n",
    "            if not prefix:\n",
    "                return \"\"\n",
    "\n",
    "    return prefix\n",
    "\n",
    "list1 = [\"flower\", \"flow\", \"flight\"]\n",
    "list2 = [\"dog\", \"racecar\", \"car\"]\n",
    "print(longest_common_prefix(list1))\n",
    "print(longest_common_prefix(list2))"
   ]
  },
  {
   "cell_type": "code",
   "execution_count": null,
   "id": "353a8f44-2487-4cc5-8c4a-0e24e8148a22",
   "metadata": {},
   "outputs": [],
   "source": []
  },
  {
   "cell_type": "markdown",
   "id": "b90c467f-001e-4a93-bfff-08bba1a3f703",
   "metadata": {},
   "source": [
    "# 15. Check if a String is a Rotation of Another String\n",
    "## Problem Statement:\n",
    "Write a function to check if one string is a rotation of another.\n",
    "\n",
    "## Example 1:\n",
    "**Input:** `\"waterbottle\", \"erbottlewat\"`  \n",
    "**Output:** `True`\n",
    "\n",
    "## Example 2:\n",
    "**Input:** `\"hello\", \"lohel\"`  \n",
    "**Output:** `True`\n"
   ]
  },
  {
   "cell_type": "code",
   "execution_count": 49,
   "id": "dcf4c6e8-8192-4cff-8d48-9226448d0ff2",
   "metadata": {},
   "outputs": [
    {
     "name": "stdout",
     "output_type": "stream",
     "text": [
      "True\n",
      "True\n"
     ]
    }
   ],
   "source": [
    "def reverse_str(string1, string2):\n",
    "    return True if string1 in (string2+string2) else False\n",
    "\n",
    "string1 = \"waterbottle\"\n",
    "string2 = \"erbottlewat\"\n",
    "print(reverse_str(string1, string2))\n",
    "\n",
    "\n",
    "string1 = \"hello\"\n",
    "string2 = \"lohel\"\n",
    "print(reverse_str(string1, string2))"
   ]
  },
  {
   "cell_type": "code",
   "execution_count": null,
   "id": "f8e70c6b-a474-4c93-82fc-e39811a5f637",
   "metadata": {},
   "outputs": [],
   "source": []
  },
  {
   "cell_type": "markdown",
   "id": "06d7a3d1-e01d-483d-95a9-30330f21440c",
   "metadata": {},
   "source": [
    "# 16. Find the Second Most Frequent Character in a String\n",
    "## Problem Statement:\n",
    "Write a function to find the second most frequent character in a string.\n",
    "\n",
    "## Example 1:\n",
    "**Input:** `\"banana\"`  \n",
    "**Output:** `\"n\"`\n",
    "\n",
    "## Example 2:\n",
    "**Input:** `\"mississippi\"`  \n",
    "**Output:** `\"s\"`\n"
   ]
  },
  {
   "cell_type": "code",
   "execution_count": 7,
   "id": "65a91520-9d70-4dc4-990a-931223a98b52",
   "metadata": {},
   "outputs": [
    {
     "name": "stdout",
     "output_type": "stream",
     "text": [
      "n\n",
      "s\n"
     ]
    }
   ],
   "source": [
    "from collections import Counter\n",
    "\n",
    "def second_most_freq_char(s):\n",
    "    freq = Counter(s)\n",
    "    #print(freq)\n",
    "    if len(freq) < 2:\n",
    "        return None\n",
    "    #print(freq.items())\n",
    "    sorted_freq = sorted(freq.items(), key=lambda x: x[1], reverse=True)\n",
    "    #print(sorted_freq)\n",
    "    return sorted_freq[1][0]\n",
    "\n",
    "string1 = \"banana\"\n",
    "print(second_most_freq_char(string1))\n",
    "\n",
    "\n",
    "string1 = \"mississippi\"\n",
    "print(second_most_freq_char(string1))"
   ]
  },
  {
   "cell_type": "code",
   "execution_count": null,
   "id": "2fba47a2-7db0-4fc0-9895-e157412acb93",
   "metadata": {},
   "outputs": [],
   "source": []
  },
  {
   "cell_type": "markdown",
   "id": "d262dac7-f41e-400d-bfd0-ea5057f5c922",
   "metadata": {},
   "source": [
    "# 17. Check if a String is Made of Unique Characters\n",
    "## Problem Statement:\n",
    "Write a function to check if a string contains only unique characters.\n",
    "\n",
    "## Example 1:\n",
    "**Input:** `\"abcdef\"`  \n",
    "**Output:** `True`\n",
    "\n",
    "## Example 2:\n",
    "**Input:** `\"aabbcc\"`  \n",
    "**Output:** `False`\n"
   ]
  },
  {
   "cell_type": "code",
   "execution_count": 51,
   "id": "253be31b-7673-4b81-95e9-cb1cd09c48fb",
   "metadata": {},
   "outputs": [
    {
     "name": "stdout",
     "output_type": "stream",
     "text": [
      "True\n",
      "False\n"
     ]
    }
   ],
   "source": [
    "def find_non_dup(string):\n",
    "    dup_arr = []\n",
    "    temp_arr = []\n",
    "    for item in string:\n",
    "        if item in temp_arr:\n",
    "            return False\n",
    "        else:\n",
    "            temp_arr.append(item)\n",
    "    return True\n",
    "\n",
    "string1 = \"abcdef\"\n",
    "print(find_non_dup(string1))\n",
    "\n",
    "\n",
    "string1 = \"aabbcc\"\n",
    "print(find_non_dup(string1))"
   ]
  },
  {
   "cell_type": "code",
   "execution_count": null,
   "id": "80463995-b332-445c-9ed8-201e2e2caf7f",
   "metadata": {},
   "outputs": [],
   "source": []
  },
  {
   "cell_type": "markdown",
   "id": "739f0939-b81a-45d4-8cd2-d0659268711c",
   "metadata": {},
   "source": [
    "# 18. Find the Longest Palindromic Substring\n",
    "## Problem Statement:\n",
    "Write a function to find the longest palindromic substring.\n",
    "\n",
    "## Example 1:\n",
    "**Input:** `\"babad\"`  \n",
    "**Output:** `\"bab\"`\n",
    "\n",
    "## Example 2:\n",
    "**Input:** `\"cbbd\"`  \n",
    "**Output:** `\"bb\"`\n"
   ]
  },
  {
   "cell_type": "code",
   "execution_count": null,
   "id": "dd923018-aa4a-4cb2-98e0-6628d8b3b400",
   "metadata": {},
   "outputs": [],
   "source": []
  },
  {
   "cell_type": "code",
   "execution_count": null,
   "id": "02c1d0bc-c2b1-433e-a610-4d621d65e934",
   "metadata": {},
   "outputs": [],
   "source": []
  },
  {
   "cell_type": "markdown",
   "id": "9e48cf7b-b799-4574-984c-51fc15661b16",
   "metadata": {},
   "source": [
    "# 19. Remove Duplicate Characters from a String\n",
    "## Problem Statement:\n",
    "Write a function to remove duplicate characters from a string.\n",
    "\n",
    "## Example 1:\n",
    "**Input:** `\"hello\"`  \n",
    "**Output:** `\"helo\"`\n",
    "\n",
    "## Example 2:\n",
    "**Input:** `\"mississippi\"`  \n",
    "**Output:** `\"misp\"`\n"
   ]
  },
  {
   "cell_type": "code",
   "execution_count": 57,
   "id": "932536b6-b58c-47d8-897e-10aba10d5654",
   "metadata": {},
   "outputs": [
    {
     "name": "stdout",
     "output_type": "stream",
     "text": [
      "helo\n",
      "ismp\n"
     ]
    }
   ],
   "source": [
    "def find_non_dup(string):\n",
    "    return ''.join(set(string))\n",
    "\n",
    "string1 = \"hello\"\n",
    "print(find_non_dup(string1))\n",
    "\n",
    "\n",
    "string1 = \"mississippi\"\n",
    "print(find_non_dup(string1))"
   ]
  },
  {
   "cell_type": "code",
   "execution_count": null,
   "id": "ec288297-0e2a-4465-898b-39c002bed301",
   "metadata": {},
   "outputs": [],
   "source": []
  },
  {
   "cell_type": "markdown",
   "id": "a9abec9d-c0c3-4425-a1c6-e42342e3757a",
   "metadata": {},
   "source": [
    "# 20. Sort a String Alphabetically\n",
    "## Problem Statement:\n",
    "Write a function to sort the characters of a string alphabetically.\n",
    "\n",
    "## Example 1:\n",
    "**Input:** `\"hello\"`  \n",
    "**Output:** `\"ehllo\"`\n",
    "\n",
    "## Example 2:\n",
    "**Input:** `\"python\"`  \n",
    "**Output:** `\"hnopty\"`\n"
   ]
  },
  {
   "cell_type": "code",
   "execution_count": 59,
   "id": "9b881c5a-7e0c-4785-a2d6-f700725fad3d",
   "metadata": {},
   "outputs": [
    {
     "name": "stdout",
     "output_type": "stream",
     "text": [
      "ehllo\n",
      "hnopty\n"
     ]
    }
   ],
   "source": [
    "def sort_char(string):\n",
    "    return ''.join(sorted(string))\n",
    "\n",
    "string1 = \"hello\"\n",
    "print(sort_char(string1))\n",
    "\n",
    "\n",
    "string1 = \"python\"\n",
    "print(sort_char(string1))"
   ]
  },
  {
   "cell_type": "code",
   "execution_count": null,
   "id": "4f23c52f-0cb4-4dc7-a06d-be464656fda3",
   "metadata": {},
   "outputs": [],
   "source": []
  },
  {
   "cell_type": "markdown",
   "id": "f267b2f8-c7f6-4295-a7b0-c89af5cf5807",
   "metadata": {},
   "source": [
    "# 21. Find the Smallest Window in a String Containing All Characters of Another String\n",
    "## Problem Statement:\n",
    "Write a function to find the smallest window in a string that contains all characters of another string.\n",
    "\n",
    "## Example 1:\n",
    "**Input:** `\"ADOBECODEBANC\", \"ABC\"`  \n",
    "**Output:** `\"BANC\"`\n",
    "\n",
    "## Example 2:\n",
    "**Input:** `\"aabbcc\", \"abc\"`  \n",
    "**Output:** `\"abc\"`\n"
   ]
  },
  {
   "cell_type": "code",
   "execution_count": null,
   "id": "8145837e-3cc3-43a5-9875-f955033aaf09",
   "metadata": {},
   "outputs": [],
   "source": []
  },
  {
   "cell_type": "code",
   "execution_count": null,
   "id": "08fc97e2-2eee-4b3f-850c-59e547121d25",
   "metadata": {},
   "outputs": [],
   "source": []
  },
  {
   "cell_type": "markdown",
   "id": "823be7b2-27f6-40df-82b2-f1f2b69bc1cb",
   "metadata": {},
   "source": [
    "# 22. Implement Run-Length Encoding\n",
    "## Problem Statement:\n",
    "Write a function to perform run-length encoding on a string.\n",
    "\n",
    "## Example 1:\n",
    "**Input:** `\"aaabbc\"`  \n",
    "**Output:** `\"3a2b1c\"`\n",
    "\n",
    "## Example 2:\n",
    "**Input:** `\"wwwwaaadexxxxxx\"`  \n",
    "**Output:** `\"4w3a1d1e6x\"`\n"
   ]
  },
  {
   "cell_type": "code",
   "execution_count": 9,
   "id": "e127c6b1-57fd-40cb-aac5-9e07cef586d2",
   "metadata": {},
   "outputs": [
    {
     "name": "stdout",
     "output_type": "stream",
     "text": [
      "3a2b1c\n",
      "4w3a1d1e6x\n"
     ]
    }
   ],
   "source": [
    "def run_length_encoding(str1):\n",
    "    if not str1:\n",
    "        return \"\"\n",
    "\n",
    "    encoded = []\n",
    "    count = 1\n",
    "    for i in range(1, len(str1)):\n",
    "        if str1[i] == str1[i - 1]:\n",
    "            count += 1\n",
    "        else:\n",
    "            encoded.append(f\"{count}{str1[i - 1]}\")\n",
    "            count = 1\n",
    "\n",
    "    encoded.append(f\"{count}{str1[-1]}\")\n",
    "    return ''.join(encoded)\n",
    "\n",
    "\n",
    "string1 = \"aaabbc\" \n",
    "print(run_length_encoding(string1))\n",
    "\n",
    "\n",
    "string1 =  \"wwwwaaadexxxxxx\"\n",
    "print(run_length_encoding(string1))"
   ]
  },
  {
   "cell_type": "code",
   "execution_count": null,
   "id": "3470d46e-444c-43be-b517-730824de2300",
   "metadata": {},
   "outputs": [],
   "source": []
  },
  {
   "cell_type": "markdown",
   "id": "fbe98b17-13c7-4f56-93db-d8056113af31",
   "metadata": {},
   "source": [
    "# 23. Find All Permutations of a String\n",
    "## Problem Statement:\n",
    "Write a function to generate all permutations of a given string.\n",
    "\n",
    "## Example 1:\n",
    "**Input:** `\"abc\"`  \n",
    "**Output:** `[\"abc\", \"acb\", \"bac\", \"bca\", \"cab\", \"cba\"]`\n",
    "\n",
    "## Example 2:\n",
    "**Input:** `\"ab\"`  \n",
    "**Output:** `[\"ab\", \"ba\"]`\n"
   ]
  },
  {
   "cell_type": "code",
   "execution_count": 11,
   "id": "101a8feb-61e0-4a97-a122-f5de229e6817",
   "metadata": {},
   "outputs": [
    {
     "name": "stdout",
     "output_type": "stream",
     "text": [
      "['abc', 'acb', 'bac', 'bca', 'cab', 'cba']\n",
      "['ab', 'ba']\n"
     ]
    }
   ],
   "source": [
    "from itertools import permutations\n",
    "\n",
    "def permute_string(str1):\n",
    "    return [''.join(p) for p in permutations(str1)]\n",
    "\n",
    "\n",
    "string1 = \"abc\" \n",
    "print(permute_string(string1))\n",
    "\n",
    "\n",
    "string1 =  \"ab\"\n",
    "print(permute_string(string1))"
   ]
  },
  {
   "cell_type": "code",
   "execution_count": null,
   "id": "ff510bea-3648-446b-93c8-aa5246b38c50",
   "metadata": {},
   "outputs": [],
   "source": []
  },
  {
   "cell_type": "markdown",
   "id": "1064221e-a51f-46b1-afea-c37505d3b68b",
   "metadata": {},
   "source": [
    "# 24. Count the Number of Distinct Subsequences of a String\n",
    "## Problem Statement:\n",
    "Write a function to count the number of distinct subsequences of a string.\n",
    "\n",
    "## Example 1:\n",
    "**Input:** `\"abc\"`  \n",
    "**Output:** `7`\n",
    "\n",
    "## Example 2:\n",
    "**Input:** `\"aaa\"`  \n",
    "**Output:** `3`\n"
   ]
  },
  {
   "cell_type": "code",
   "execution_count": null,
   "id": "fb9c8ffe-7045-446c-9033-c88601f25969",
   "metadata": {},
   "outputs": [],
   "source": []
  },
  {
   "cell_type": "code",
   "execution_count": null,
   "id": "9740cb31-5aa2-431e-9c3d-9822cf1521ac",
   "metadata": {},
   "outputs": [],
   "source": []
  },
  {
   "cell_type": "markdown",
   "id": "2fd59b75-b80f-466c-9517-34c927e66134",
   "metadata": {},
   "source": [
    "# 25. Find the Shortest Superstring That Contains All Given Strings as Subsequences\n",
    "## Problem Statement:\n",
    "Write a function to find the shortest superstring that contains all given strings as subsequences.\n",
    "\n",
    "## Example 1:\n",
    "**Input:** `[\"catg\", \"ctaagt\", \"gcta\", \"ttca\", \"atgcatc\"]`  \n",
    "**Output:** `\"gctaagttcatgcatc\"`\n",
    "\n",
    "## Example 2:\n",
    "**Input:** `[\"abc\", \"bca\", \"cab\"]`  \n",
    "**Output:** `\"abcab\"`\n"
   ]
  },
  {
   "cell_type": "code",
   "execution_count": null,
   "id": "c4340296-fcc3-45e5-a27c-8706d0c53502",
   "metadata": {},
   "outputs": [],
   "source": []
  },
  {
   "cell_type": "code",
   "execution_count": null,
   "id": "74cff6c2-11a5-42c4-9a16-f649cd8c7e10",
   "metadata": {},
   "outputs": [],
   "source": []
  }
 ],
 "metadata": {
  "kernelspec": {
   "display_name": "Python 3",
   "language": "python",
   "name": "python3"
  },
  "language_info": {
   "codemirror_mode": {
    "name": "ipython",
    "version": 3
   },
   "file_extension": ".py",
   "mimetype": "text/x-python",
   "name": "python",
   "nbconvert_exporter": "python",
   "pygments_lexer": "ipython3",
   "version": "3.12.5"
  }
 },
 "nbformat": 4,
 "nbformat_minor": 5
}
