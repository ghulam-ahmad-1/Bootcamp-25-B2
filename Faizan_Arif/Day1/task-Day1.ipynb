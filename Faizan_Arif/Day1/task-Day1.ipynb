{
 "cells": [
  {
   "cell_type": "code",
   "execution_count": null,
   "id": "ded564e6-09d7-4b10-a30d-1fd11a3b3b22",
   "metadata": {},
   "outputs": [],
   "source": []
  },
  {
   "cell_type": "code",
   "execution_count": 3,
   "id": "1183483c-42c9-45c8-9389-1e52bba38259",
   "metadata": {},
   "outputs": [
    {
     "data": {
      "text/plain": [
       "'\\nReverse a String\\nTask: Write a function that takes a string and returns it reversed.\\nInput: \"hello\"\\nOutput: \"olleh\"\\n'"
      ]
     },
     "execution_count": 3,
     "metadata": {},
     "output_type": "execute_result"
    }
   ],
   "source": [
    "\n",
    "\"\"\"\n",
    "Reverse a String\n",
    "Task: Write a function that takes a string and returns it reversed.\n",
    "Input: \"hello\"\n",
    "Output: \"olleh\"\n",
    "\"\"\"\n"
   ]
  },
  {
   "cell_type": "code",
   "execution_count": 4,
   "id": "b66e7533-c56a-4f54-af82-ce169b5d839c",
   "metadata": {},
   "outputs": [
    {
     "name": "stdout",
     "output_type": "stream",
     "text": [
      "olleh\n"
     ]
    }
   ],
   "source": [
    "def reverse_str(string):\n",
    "    return string[::-1]\n",
    "\n",
    "string = \"hello\"\n",
    "print(reverse_str(string))"
   ]
  },
  {
   "cell_type": "code",
   "execution_count": null,
   "id": "2c33e166-d977-4b77-b26f-652d8aabd3f1",
   "metadata": {},
   "outputs": [],
   "source": []
  },
  {
   "cell_type": "code",
   "execution_count": null,
   "id": "89bb29e8-60c9-407d-b57f-004174e83688",
   "metadata": {},
   "outputs": [],
   "source": [
    "\n",
    "Count Vowels\n",
    "Task: Count the number of vowels in a given lowercase string.\n",
    "Input: \"data science\"\n",
    "Output: 5\n"
   ]
  },
  {
   "cell_type": "code",
   "execution_count": 5,
   "id": "e0a7213b-1b90-4cb6-be72-61fd6cd361f4",
   "metadata": {},
   "outputs": [
    {
     "name": "stdout",
     "output_type": "stream",
     "text": [
      "5\n"
     ]
    }
   ],
   "source": [
    "def count_vowels(string):\n",
    "    vowels = [\"a\", \"e\", 'i', 'o', 'u']\n",
    "    count = 0\n",
    "    for char in string:\n",
    "        if char in vowels:\n",
    "            count += 1\n",
    "    return count\n",
    "\n",
    "print(count_vowels('data science'))"
   ]
  },
  {
   "cell_type": "code",
   "execution_count": null,
   "id": "df1524cc-9b19-4c77-9489-d4954a87d710",
   "metadata": {},
   "outputs": [],
   "source": []
  },
  {
   "cell_type": "code",
   "execution_count": null,
   "id": "69897ddc-f3e6-49c9-8056-80548e78802c",
   "metadata": {},
   "outputs": [],
   "source": [
    "\n",
    "Sum of List\n",
    "Task: Return the sum of all numbers in a given list.\n",
    "Input: [1, 2, 3, 4, 5]\n",
    "Output: 15\n"
   ]
  },
  {
   "cell_type": "code",
   "execution_count": 6,
   "id": "4cd26186-fe9d-4058-94a5-c68a0b3ab9b3",
   "metadata": {},
   "outputs": [
    {
     "name": "stdout",
     "output_type": "stream",
     "text": [
      "15\n"
     ]
    }
   ],
   "source": [
    "def sum_list(arr):\n",
    "    return sum(arr)\n",
    "\n",
    "list1 = [1, 2, 3, 4, 5]\n",
    "print(sum_list(list1))"
   ]
  },
  {
   "cell_type": "code",
   "execution_count": null,
   "id": "91412f9b-0d58-422a-9afa-28b9f62bc568",
   "metadata": {},
   "outputs": [],
   "source": []
  },
  {
   "cell_type": "code",
   "execution_count": null,
   "id": "e74f93d4-98a8-4121-a496-5ad60a4c2606",
   "metadata": {},
   "outputs": [],
   "source": [
    "\n",
    "Check Palindrome\n",
    "Task: Return True if the given string is a palindrome, otherwise False.\n",
    "Input: \"madam\"\n",
    "Output: True\n"
   ]
  },
  {
   "cell_type": "code",
   "execution_count": 8,
   "id": "4f6e4be3-3272-4eff-a8e5-c1b8310ece43",
   "metadata": {},
   "outputs": [
    {
     "name": "stdout",
     "output_type": "stream",
     "text": [
      "True\n",
      "False\n"
     ]
    }
   ],
   "source": [
    "def check_palindrome(string):\n",
    "    return string == string[::-1]\n",
    "string = 'madam'\n",
    "string1 = 'madan'\n",
    "print(check_palindrome(string))\n",
    "print(check_palindrome(string1))"
   ]
  },
  {
   "cell_type": "code",
   "execution_count": null,
   "id": "1a6ed159-fab0-458f-a5c0-4b1ab7d88ea7",
   "metadata": {},
   "outputs": [],
   "source": []
  },
  {
   "cell_type": "code",
   "execution_count": null,
   "id": "a5e05de0-8554-4151-8c5a-f26e811e606a",
   "metadata": {},
   "outputs": [],
   "source": [
    "\n",
    "Remove Duplicates from List\n",
    "Task: Remove duplicates from a list while preserving order.\n",
    "Input: [1, 3, 2, 1, 3, 4]\n",
    "Output: [1, 3, 2, 4]\n"
   ]
  },
  {
   "cell_type": "code",
   "execution_count": 11,
   "id": "59df84ae-2f24-4565-8c18-e25563ea319c",
   "metadata": {},
   "outputs": [
    {
     "name": "stdout",
     "output_type": "stream",
     "text": [
      "[1, 3, 2, 4]\n"
     ]
    }
   ],
   "source": [
    "def remove_duplicate(arr):\n",
    "    duplicate_arr = []\n",
    "    for item in arr:\n",
    "        if item not in duplicate_arr:\n",
    "            duplicate_arr.append(item)\n",
    "    return duplicate_arr\n",
    "list1 = [1, 3, 2, 1, 3, 4]\n",
    "print(remove_duplicate(list1))"
   ]
  },
  {
   "cell_type": "code",
   "execution_count": null,
   "id": "2a76caf8-a071-45df-ba77-fc16001fac02",
   "metadata": {},
   "outputs": [],
   "source": []
  },
  {
   "cell_type": "code",
   "execution_count": null,
   "id": "9a42408b-0505-40fd-8c59-44b397bc4fbd",
   "metadata": {},
   "outputs": [],
   "source": [
    "\n",
    "Word Frequency Counter\n",
    "Task: Count the frequency of each word in a string and return a dictionary.\n",
    "Input: \"apple banana apple orange\"\n",
    "Output: {'apple': 2, 'banana': 1, 'orange': 1}\n"
   ]
  },
  {
   "cell_type": "code",
   "execution_count": 17,
   "id": "8644b9b7-4709-4c08-bbec-18f738efba70",
   "metadata": {},
   "outputs": [
    {
     "name": "stdout",
     "output_type": "stream",
     "text": [
      "{'apple': 2, 'banana': 1, 'orange': 1}\n"
     ]
    }
   ],
   "source": [
    "from collections import defaultdict\n",
    "\n",
    "def count_freq(string):\n",
    "    count_dict = dict()\n",
    "    keys = string.split(' ')\n",
    "    default_value = 0\n",
    "    my_dict = defaultdict(lambda: default_value, {key: default_value for key in keys})\n",
    "    #print(my_dict)\n",
    "    for item in keys:\n",
    "        my_dict[item] += 1\n",
    "    return dict(my_dict)\n",
    "string = \"apple banana apple orange\"\n",
    "print(count_freq(string))"
   ]
  },
  {
   "cell_type": "code",
   "execution_count": null,
   "id": "c8d74d2d-6589-4ec2-b245-d610b275cdf0",
   "metadata": {},
   "outputs": [],
   "source": []
  },
  {
   "cell_type": "code",
   "execution_count": null,
   "id": "4dd36627-2e02-4089-982c-29dfd159e8ba",
   "metadata": {},
   "outputs": [],
   "source": [
    "\n",
    "List of Even Squares\n",
    "Task: Return a list of squares of even numbers from a given list.\n",
    "Input: [1, 2, 3, 4, 5]\n",
    "Output: [4, 16]\n"
   ]
  },
  {
   "cell_type": "code",
   "execution_count": 18,
   "id": "155a36e4-922f-45e4-84d4-f45c27e4012d",
   "metadata": {},
   "outputs": [
    {
     "name": "stdout",
     "output_type": "stream",
     "text": [
      "[4, 16]\n"
     ]
    }
   ],
   "source": [
    "def even_squares(arr):\n",
    "    out_list = []\n",
    "    for item in arr:\n",
    "        if (item%2) == 0:\n",
    "            out_list.append(item**2)\n",
    "    return out_list\n",
    "    \n",
    "list1 = [1, 2, 3, 4, 5]\n",
    "print(even_squares(list1))"
   ]
  },
  {
   "cell_type": "code",
   "execution_count": null,
   "id": "3f2f1a1a-3e58-493a-8242-363bb1a04efd",
   "metadata": {},
   "outputs": [],
   "source": []
  },
  {
   "cell_type": "code",
   "execution_count": null,
   "id": "9d3fbc28-a3f5-4192-9144-0aea26686ff3",
   "metadata": {},
   "outputs": [],
   "source": [
    "\n",
    "Flatten Nested List\n",
    "Task: Flatten a 2D list into a 1D list.\n",
    "Input: [[1, 2], [3, 4], [5]]\n",
    "Output: [1, 2, 3, 4, 5]\n"
   ]
  },
  {
   "cell_type": "code",
   "execution_count": 20,
   "id": "1fd277b2-c308-45f9-b961-5e16e1508536",
   "metadata": {},
   "outputs": [
    {
     "name": "stdout",
     "output_type": "stream",
     "text": [
      "[1, 2, 3, 4, 5]\n"
     ]
    }
   ],
   "source": [
    "def flatten_nested_list(arr):\n",
    "    output_arr = []\n",
    "    for lst in arr:\n",
    "        for item in lst:\n",
    "            output_arr.append(item)\n",
    "            \n",
    "    return output_arr\n",
    "    \n",
    "list1 = [[1, 2], [3, 4], [5]]\n",
    "print(flatten_nested_list(list1))"
   ]
  },
  {
   "cell_type": "code",
   "execution_count": null,
   "id": "3a7499a2-0b17-4823-93c4-b6c895fd988b",
   "metadata": {},
   "outputs": [],
   "source": []
  },
  {
   "cell_type": "code",
   "execution_count": null,
   "id": "1c24534e-5cb9-47c4-bf1f-603448014652",
   "metadata": {},
   "outputs": [],
   "source": [
    "\n",
    "Group Words by Length\n",
    "Task: Group words from a list into a dictionary based on their length.\n",
    "Input: [\"a\", \"to\", \"tea\", \"ted\", \"ten\"]\n",
    "Output: {1: ['a'], 2: ['to'], 3: ['tea', 'ted', 'ten']}\n"
   ]
  },
  {
   "cell_type": "code",
   "execution_count": 66,
   "id": "b2345cd0-8bf2-4bea-b5f1-6b9cff4045c6",
   "metadata": {},
   "outputs": [
    {
     "name": "stdout",
     "output_type": "stream",
     "text": [
      "{1: [], 2: [], 3: []}\n",
      "{1: ['a'], 2: ['to'], 3: ['tea', 'ted', 'ten']}\n"
     ]
    }
   ],
   "source": [
    "from collections import defaultdict\n",
    "\n",
    "def group_word(arr):\n",
    "    max_len = len(max(arr, key=len))\n",
    "    keys = [i for i in range(1, max_len+1)]\n",
    "    default_value = []\n",
    "    my_dict = dict(defaultdict(lambda: [], {key: [] for key in keys}))\n",
    "    print(my_dict)\n",
    "    #print(arr)\n",
    "    for item in arr:\n",
    "        #print(my_dict[len(item)])\n",
    "        my_dict[len(item)].append(item)\n",
    "        #print(my_dict[len(item)])\n",
    "    return my_dict\n",
    "\n",
    "list1 = [\"a\", \"to\", \"tea\", \"ted\", \"ten\"]\n",
    "print(group_word(list1))"
   ]
  },
  {
   "cell_type": "code",
   "execution_count": null,
   "id": "054e53c0-1d35-4db0-b9f2-13f918533376",
   "metadata": {},
   "outputs": [],
   "source": []
  },
  {
   "cell_type": "code",
   "execution_count": null,
   "id": "74be34a2-d67f-4962-8839-d12de16b1d8b",
   "metadata": {},
   "outputs": [],
   "source": [
    "\n",
    "Fibonacci Generator\n",
    "Task: Write a generator that yields the first n Fibonacci numbers.\n",
    "Input: n = 6\n",
    "Output: [0, 1, 1, 2, 3, 5]\n"
   ]
  },
  {
   "cell_type": "code",
   "execution_count": 51,
   "id": "ce83fa52-e2fa-4816-9c88-b42a3909d13d",
   "metadata": {},
   "outputs": [
    {
     "name": "stdout",
     "output_type": "stream",
     "text": [
      "[0, 1, 2, 3, 4, 5]\n"
     ]
    }
   ],
   "source": [
    "def fib(n):\n",
    "    arr = []\n",
    "    i = 0\n",
    "    while i < n:\n",
    "        arr.append(i)\n",
    "        i += 1\n",
    "    return arr\n",
    "\n",
    "n = 6\n",
    "print(fib(n))"
   ]
  },
  {
   "cell_type": "code",
   "execution_count": null,
   "id": "d26027e1-d22d-451c-b5e4-9f40566ff164",
   "metadata": {},
   "outputs": [],
   "source": []
  },
  {
   "cell_type": "code",
   "execution_count": null,
   "id": "cca77f92-e968-4c32-93f8-082400bc79e0",
   "metadata": {},
   "outputs": [],
   "source": [
    "\n",
    "Merge Dictionaries by Summing Values\n",
    "Task: Merge two dictionaries by summing values of common keys.\n",
    "Input: {'a': 5, 'b': 3}, {'a': 2, 'c': 4}\n",
    "Output: {'a': 7, 'b': 3, 'c': 4}\n",
    "\n",
    "\n"
   ]
  },
  {
   "cell_type": "code",
   "execution_count": 31,
   "id": "4faa17ee-59fe-4561-bb83-894c7950271d",
   "metadata": {},
   "outputs": [
    {
     "name": "stdout",
     "output_type": "stream",
     "text": [
      "{'a': 7, 'b': 3, 'c': 4}\n"
     ]
    }
   ],
   "source": [
    "from collections import defaultdict\n",
    "\n",
    "def summing_dict(dict1, dict2):\n",
    "    dict1_keys = list(dict1.keys())\n",
    "    dict3_keys = list(dict2.keys())\n",
    "    keys = dict1_keys + dict3_keys\n",
    "    #print(keys)\n",
    "    default_value = 0\n",
    "    my_dict = dict(defaultdict(lambda: default_value, {key: default_value for key in keys}))\n",
    "    for key, value in dict1.items():\n",
    "        my_dict[key] += value\n",
    "    for key, value in dict2.items():\n",
    "        my_dict[key] += value\n",
    "    return my_dict\n",
    "\n",
    "dict1 = {'a': 5, 'b': 3}\n",
    "dict2 = {'a': 2, 'c': 4}\n",
    "print(summing_dict(dict1, dict2))"
   ]
  },
  {
   "cell_type": "code",
   "execution_count": null,
   "id": "5b85b6fa-85de-4108-8511-ac510c089250",
   "metadata": {},
   "outputs": [],
   "source": []
  },
  {
   "cell_type": "code",
   "execution_count": null,
   "id": "8de00d3b-63e4-4e8b-932e-c4e49c610ea4",
   "metadata": {},
   "outputs": [],
   "source": [
    "\n",
    "Custom Sorting\n",
    "Task: Sort a list of tuples based on the second element in descending order.\n",
    "Input: [('a', 3), ('b', 1), ('c', 2)]\n",
    "Output: [('a', 3), ('c', 2), ('b', 1)]"
   ]
  },
  {
   "cell_type": "code",
   "execution_count": 72,
   "id": "9e69ad5e-8bd4-4d57-bf05-14b73fb82979",
   "metadata": {},
   "outputs": [
    {
     "name": "stdout",
     "output_type": "stream",
     "text": [
      "[('a', 3), ('c', 2), ('b', 1)]\n"
     ]
    }
   ],
   "source": [
    "def custom_sort(arr):\n",
    "    return sorted(arr, key=lambda x:x[1], reverse=True)\n",
    "    \n",
    "    \n",
    "list1 = [('a', 3), ('b', 1), ('c', 2)]\n",
    "print(custom_sort(list1))"
   ]
  },
  {
   "cell_type": "code",
   "execution_count": null,
   "id": "e8e8c0e9-11c7-4a4a-bb6e-776c3d0626e2",
   "metadata": {},
   "outputs": [],
   "source": []
  },
  {
   "cell_type": "code",
   "execution_count": null,
   "id": "beaef0ba-deae-4e6f-aa25-73fd14f18a72",
   "metadata": {},
   "outputs": [],
   "source": []
  }
 ],
 "metadata": {
  "kernelspec": {
   "display_name": "Python 3 (ipykernel)",
   "language": "python",
   "name": "python3"
  },
  "language_info": {
   "codemirror_mode": {
    "name": "ipython",
    "version": 3
   },
   "file_extension": ".py",
   "mimetype": "text/x-python",
   "name": "python",
   "nbconvert_exporter": "python",
   "pygments_lexer": "ipython3",
   "version": "3.12.3"
  }
 },
 "nbformat": 4,
 "nbformat_minor": 5
}
