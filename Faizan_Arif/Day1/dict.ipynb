{
 "cells": [
  {
   "cell_type": "markdown",
   "id": "1f48d5c9",
   "metadata": {},
   "source": [
    "# 1. Create a Dictionary from Two Lists\n",
    "\n",
    "## Problem Statement:\n",
    "Write a function to create a dictionary from two lists of equal length, one for keys and one for values.\n",
    "\n",
    "## Example 1:\n",
    "**Input:** `keys = ['a', 'b'], values = [1, 2]`  \n",
    "**Output:** `{'a': 1, 'b': 2}`\n",
    "\n",
    "## Example 2:\n",
    "**Input:** `keys = ['x'], values = [10]`  \n",
    "**Output:** `{'x': 10}`\n"
   ]
  },
  {
   "cell_type": "code",
   "execution_count": 1,
   "id": "3ea65a39",
   "metadata": {},
   "outputs": [
    {
     "name": "stdout",
     "output_type": "stream",
     "text": [
      "{'a': 1, 'b': 2}\n",
      "{'x': 10}\n"
     ]
    }
   ],
   "source": [
    "def create_dict(keys, values):\n",
    "    if len(keys) == len(values):\n",
    "        dict1 = {}\n",
    "        for i in range(len(keys)):\n",
    "            dict1[keys[i]] = values[i]\n",
    "        return dict1\n",
    "    else:\n",
    "        return {}\n",
    "        \n",
    "\n",
    "keys = ['a', 'b']\n",
    "values = [1, 2]\n",
    "print(create_dict(keys, values))\n",
    "\n",
    "keys = ['x']\n",
    "values = [10]\n",
    "print(create_dict(keys, values))"
   ]
  },
  {
   "cell_type": "code",
   "execution_count": null,
   "id": "116d7f17",
   "metadata": {},
   "outputs": [],
   "source": []
  },
  {
   "cell_type": "markdown",
   "id": "9016196e",
   "metadata": {},
   "source": [
    "# 2. Merge Two Dictionaries\n",
    "\n",
    "## Problem Statement:\n",
    "Write a function to merge two dictionaries into one.\n",
    "\n",
    "## Example 1:\n",
    "**Input:** `{'a': 1}, {'b': 2}`  \n",
    "**Output:** `{'a': 1, 'b': 2}`\n",
    "\n",
    "## Example 2:\n",
    "**Input:** `{'x': 10}, {'y': 20, 'z': 30}`  \n",
    "**Output:** `{'x': 10, 'y': 20, 'z': 30}`\n"
   ]
  },
  {
   "cell_type": "code",
   "execution_count": 4,
   "id": "5ee5d659",
   "metadata": {},
   "outputs": [
    {
     "name": "stdout",
     "output_type": "stream",
     "text": [
      "{'a': 1, 'b': 2}\n",
      "{'x': 10, 'y': 20, 'z': 30}\n"
     ]
    }
   ],
   "source": [
    "def merge_dict(d1, d2):\n",
    "    d1.update(d2)\n",
    "    return d1\n",
    "\n",
    "dict1 = {'a': 1}\n",
    "dict2 = {'b': 2}\n",
    "print(merge_dict(dict1, dict2))\n",
    "\n",
    "dict1 = {'x': 10}\n",
    "dict2 = {'y': 20, 'z': 30}\n",
    "print(merge_dict(dict1, dict2))\n"
   ]
  },
  {
   "cell_type": "code",
   "execution_count": null,
   "id": "d9d7b5b2",
   "metadata": {},
   "outputs": [],
   "source": []
  },
  {
   "cell_type": "markdown",
   "id": "c6526c5c",
   "metadata": {},
   "source": [
    "# 3. Check if Key Exists\n",
    "\n",
    "## Problem Statement:\n",
    "Write a function to check if a specific key exists in a dictionary.\n",
    "\n",
    "## Example 1:\n",
    "**Input:** `{'a': 1}, 'a'`  \n",
    "**Output:** `True`\n",
    "\n",
    "## Example 2:\n",
    "**Input:** `{'b': 2}, 'a'`  \n",
    "**Output:** `False`\n"
   ]
  },
  {
   "cell_type": "code",
   "execution_count": 5,
   "id": "a04fa909",
   "metadata": {},
   "outputs": [
    {
     "name": "stdout",
     "output_type": "stream",
     "text": [
      "True\n",
      "False\n"
     ]
    }
   ],
   "source": [
    "def check_key(d1, key):\n",
    "    keys = d1.keys()\n",
    "    if key in keys:\n",
    "        return True\n",
    "    return False\n",
    "\n",
    "d1 = {'a': 1}\n",
    "key = 'a'\n",
    "print(check_key(d1, key))\n",
    "\n",
    "d1 = {'b': 2}\n",
    "key = 'a'\n",
    "print(check_key(d1, key))"
   ]
  },
  {
   "cell_type": "code",
   "execution_count": null,
   "id": "b1ef4e37",
   "metadata": {},
   "outputs": [],
   "source": []
  },
  {
   "cell_type": "markdown",
   "id": "e72c9a22",
   "metadata": {},
   "source": [
    "# 4. Count Frequency of Elements\n",
    "\n",
    "## Problem Statement:\n",
    "Write a function to count the frequency of each element in a list using a dictionary.\n",
    "\n",
    "## Example 1:\n",
    "**Input:** `[1,2,2,3]`  \n",
    "**Output:** `{1:1, 2:2, 3:1}`\n",
    "\n",
    "## Example 2:\n",
    "**Input:** `['a','b','a']`  \n",
    "**Output:** `{'a':2, 'b':1}`\n",
    "\n",
    "\n"
   ]
  },
  {
   "cell_type": "code",
   "execution_count": 7,
   "id": "31fd888e",
   "metadata": {},
   "outputs": [
    {
     "name": "stdout",
     "output_type": "stream",
     "text": [
      "{1: 1, 2: 2, 3: 1}\n",
      "{'a': 2, 'b': 1}\n"
     ]
    }
   ],
   "source": [
    "def find_freq(arr):\n",
    "    freq_dict = {}\n",
    "    for item in arr:\n",
    "        if item in freq_dict.keys():\n",
    "            freq_dict[item] += 1\n",
    "        else:\n",
    "            freq_dict[item] = 1\n",
    "    return freq_dict\n",
    "\n",
    "list1 = [1,2,2,3]\n",
    "list2 = ['a','b','a']\n",
    "print(find_freq(list1))\n",
    "print(find_freq(list2))"
   ]
  },
  {
   "cell_type": "code",
   "execution_count": null,
   "id": "ad5808ba",
   "metadata": {},
   "outputs": [],
   "source": []
  },
  {
   "cell_type": "markdown",
   "id": "c1b74aa9",
   "metadata": {},
   "source": [
    "# 5. Reverse Dictionary (Unique Values)\n",
    "\n",
    "## Problem Statement:\n",
    "Write a function to reverse keys and values in a dictionary. Assume values are unique.\n",
    "\n",
    "## Example 1:\n",
    "**Input:** `{'a':1, 'b':2}`  \n",
    "**Output:** `{1:'a', 2:'b'}`\n",
    "\n",
    "## Example 2:\n",
    "**Input:** `{'x':'y'}`  \n",
    "**Output:** `{'y':'x'}`\n"
   ]
  },
  {
   "cell_type": "code",
   "execution_count": 17,
   "id": "df0a31ed",
   "metadata": {},
   "outputs": [
    {
     "name": "stdout",
     "output_type": "stream",
     "text": [
      "{1: 'a', 2: 'b'}\n",
      "{'y': 'x'}\n"
     ]
    }
   ],
   "source": [
    "def reverse_dict(d1):\n",
    "    return {value: key for key, value in d1.items()}\n",
    "\n",
    "d1 = {'a':1, 'b':2}\n",
    "d2 = {'x':'y'}\n",
    "print(reverse_dict(d1))\n",
    "print(reverse_dict(d2))"
   ]
  },
  {
   "cell_type": "code",
   "execution_count": null,
   "id": "ba3b7a1a",
   "metadata": {},
   "outputs": [],
   "source": []
  },
  {
   "cell_type": "markdown",
   "id": "bfc01a37",
   "metadata": {},
   "source": [
    "# 6. Dictionary with Maximum Value\n",
    "\n",
    "## Problem Statement:\n",
    "Write a function that returns the key with the highest value in a dictionary.\n",
    "\n",
    "## Example 1:\n",
    "**Input:** `{'a':3, 'b':10}`  \n",
    "**Output:** `'b'`\n",
    "\n",
    "## Example 2:\n",
    "**Input:** `{'x':1, 'y':-5}`  \n",
    "**Output:** `'x'`\n"
   ]
  },
  {
   "cell_type": "code",
   "execution_count": 13,
   "id": "3ebfad1c",
   "metadata": {},
   "outputs": [
    {
     "name": "stdout",
     "output_type": "stream",
     "text": [
      "b\n",
      "x\n"
     ]
    }
   ],
   "source": [
    "def max_value_key(d1):\n",
    "    return max(d1, key=d1.get)\n",
    "\n",
    "d1 = {'a':3, 'b':10}\n",
    "print(max_value_key(d1))\n",
    "\n",
    "\n",
    "d2 = {'x':1, 'y':-5}\n",
    "print(max_value_key(d2))"
   ]
  },
  {
   "cell_type": "code",
   "execution_count": null,
   "id": "2aead54f",
   "metadata": {},
   "outputs": [],
   "source": []
  },
  {
   "cell_type": "markdown",
   "id": "2df1f7ab",
   "metadata": {},
   "source": [
    "# 7. Remove Key from Dictionary\n",
    "\n",
    "## Problem Statement:\n",
    "Write a function that removes a specified key from a dictionary.\n",
    "\n",
    "## Example 1:\n",
    "**Input:** `{'a':1, 'b':2}, 'a'`  \n",
    "**Output:** `{'b':2}`\n",
    "\n",
    "## Example 2:\n",
    "**Input:** `{'x':3, 'y':4}, 'z'`  \n",
    "**Output:** `{'x':3, 'y':4}`\n"
   ]
  },
  {
   "cell_type": "code",
   "execution_count": 9,
   "id": "ebc9c007",
   "metadata": {},
   "outputs": [
    {
     "name": "stdout",
     "output_type": "stream",
     "text": [
      "{'b': 2}\n",
      "{'x': 3, 'y': 4}\n"
     ]
    }
   ],
   "source": [
    "def check_key(d1, key):\n",
    "    try:\n",
    "        d1.pop(key)\n",
    "    except:\n",
    "        return d1\n",
    "    return d1\n",
    "\n",
    "d1 = {'a':1, 'b':2}\n",
    "key = 'a'\n",
    "print(check_key(d1, key))\n",
    "\n",
    "d1 = {'x':3, 'y':4}\n",
    "key = 'z'\n",
    "print(check_key(d1, key))"
   ]
  },
  {
   "cell_type": "code",
   "execution_count": null,
   "id": "4c042f24",
   "metadata": {},
   "outputs": [],
   "source": []
  },
  {
   "cell_type": "markdown",
   "id": "542b30d7",
   "metadata": {},
   "source": [
    "# 8. Dictionary from String\n",
    "\n",
    "## Problem Statement:\n",
    "Write a function to count the occurrences of each character in a given string using a dictionary.\n",
    "\n",
    "## Example 1:\n",
    "**Input:** `\"hello\"`  \n",
    "**Output:** `{'h':1,'e':1,'l':2,'o':1}`\n",
    "\n",
    "## Example 2:\n",
    "**Input:** `\"abc\"`  \n",
    "**Output:** `{'a':1,'b':1,'c':1}`\n",
    "\n",
    "\n"
   ]
  },
  {
   "cell_type": "code",
   "execution_count": 1,
   "id": "1a0604ff",
   "metadata": {},
   "outputs": [
    {
     "name": "stdout",
     "output_type": "stream",
     "text": [
      "{'h': 1, 'e': 1, 'l': 2, 'o': 1}\n",
      "{'a': 1, 'b': 1, 'c': 1}\n"
     ]
    }
   ],
   "source": [
    "def char_count(str1):\n",
    "    count_dict = {}\n",
    "    for char in str1:\n",
    "        if char in count_dict:\n",
    "            count_dict[char] += 1\n",
    "        else:\n",
    "            count_dict[char] = 1\n",
    "    return count_dict\n",
    "\n",
    "string1 = \"hello\" \n",
    "print(char_count(string1))\n",
    "\n",
    "string2 = \"abc\" \n",
    "print(char_count(string2))"
   ]
  },
  {
   "cell_type": "markdown",
   "id": "b8bb6168",
   "metadata": {},
   "source": [
    "# 9. Update Value in Dictionary\n",
    "\n",
    "## Problem Statement:\n",
    "Write a function to update a value associated with a given key in a dictionary.\n",
    "\n",
    "## Example 1:\n",
    "**Input:** `{'a':1}, 'a', 100`  \n",
    "**Output:** `{'a':100}`\n",
    "\n",
    "## Example 2:\n",
    "**Input:** `{'x':10}, 'y', 20`  \n",
    "**Output:** `{'x':10, 'y':20}`\n"
   ]
  },
  {
   "cell_type": "code",
   "execution_count": 10,
   "id": "7a8a617e",
   "metadata": {},
   "outputs": [
    {
     "name": "stdout",
     "output_type": "stream",
     "text": [
      "{'a': 100}\n",
      "{'a': 100, 'y': 20}\n"
     ]
    }
   ],
   "source": [
    "def update_value(d1, key, value):\n",
    "    d1[key] = value\n",
    "    return d1\n",
    "\n",
    "d1 = {'a':1}\n",
    "key = 'a'\n",
    "value = 100\n",
    "print(update_value(d1, key, value))\n",
    "\n",
    "d2 = {'x':10}\n",
    "key = 'y'\n",
    "value = 20\n",
    "print(update_value(d1, key, value))"
   ]
  },
  {
   "cell_type": "code",
   "execution_count": null,
   "id": "1345099a",
   "metadata": {},
   "outputs": [],
   "source": []
  },
  {
   "cell_type": "markdown",
   "id": "8b580e88",
   "metadata": {},
   "source": [
    "# 10. Sort Dictionary by Values\n",
    "\n",
    "## Problem Statement:\n",
    "Write a function to sort a dictionary by values in ascending order.\n",
    "\n",
    "## Example 1:\n",
    "**Input:** `{'a':3, 'b':1}`  \n",
    "**Output:** `{'b':1, 'a':3}`\n",
    "\n",
    "## Example 2:\n",
    "**Input:** `{'x':4,'y':2}`  \n",
    "**Output:** `{'y':2, 'x':4}`\n"
   ]
  },
  {
   "cell_type": "code",
   "execution_count": 12,
   "id": "4cfc1e2c",
   "metadata": {},
   "outputs": [
    {
     "name": "stdout",
     "output_type": "stream",
     "text": [
      "{'b': 1, 'a': 3}\n",
      "{'y': 2, 'x': 4}\n"
     ]
    }
   ],
   "source": [
    "def sort_keys(d1):\n",
    "\n",
    "    d2 = {k: v for k, v in sorted(d1.items(), key=lambda item: item[1])}\n",
    "    return d2\n",
    "\n",
    "d1 = {'a':3, 'b':1}\n",
    "print(sort_keys(d1))\n",
    "\n",
    "\n",
    "d2 = {'x':4,'y':2}\n",
    "print(sort_keys(d2))"
   ]
  },
  {
   "cell_type": "code",
   "execution_count": null,
   "id": "deac7ba4",
   "metadata": {},
   "outputs": [],
   "source": []
  },
  {
   "cell_type": "markdown",
   "id": "923a13f3",
   "metadata": {},
   "source": [
    "# 11. Dictionary Intersection\n",
    "\n",
    "## Problem Statement:\n",
    "Write a function that returns a dictionary containing keys common to two dictionaries with values from the first dictionary.\n",
    "\n",
    "## Example 1:\n",
    "**Input:** `{'a':1, 'b':2}, {'b':4, 'c':3}`  \n",
    "**Output:** `{'b':2}`\n",
    "\n",
    "## Example 2:\n",
    "**Input:** `{'x':5}, {'y':5}`  \n",
    "**Output:** `{}`\n"
   ]
  },
  {
   "cell_type": "code",
   "execution_count": 2,
   "id": "463eed21",
   "metadata": {},
   "outputs": [
    {
     "name": "stdout",
     "output_type": "stream",
     "text": [
      "{'b': 2}\n",
      "{}\n"
     ]
    }
   ],
   "source": [
    "def dict_intersection(d1, d2):\n",
    "    return {k: d1[k] for k in d1 if k in d2}\n",
    "\n",
    "d1 = {'a':1, 'b':2}\n",
    "d2 = {'b':4, 'c':3}  \n",
    "print(dict_intersection(d1, d2))\n",
    "\n",
    "\n",
    "d1 = {'x':5}\n",
    "d2 = {'y':5}\n",
    "print(dict_intersection(d1, d2))"
   ]
  },
  {
   "cell_type": "code",
   "execution_count": null,
   "id": "8ea06653",
   "metadata": {},
   "outputs": [],
   "source": []
  },
  {
   "cell_type": "markdown",
   "id": "328b85be",
   "metadata": {},
   "source": [
    "# 14. Filter Dictionary by Values\n",
    "\n",
    "## Problem Statement:\n",
    "Write a function to filter a dictionary, keeping only items where the value is greater than a given number.\n",
    "\n",
    "## Example 1:\n",
    "**Input:** `{'a':5, 'b':2, 'c':8}, 4`  \n",
    "**Output:** `{'a':5, 'c':8}`\n",
    "\n",
    "## Example 2:\n",
    "**Input:** `{'x':1, 'y':3}, 2`  \n",
    "**Output:** `{'y':3}`\n"
   ]
  },
  {
   "cell_type": "code",
   "execution_count": 3,
   "id": "58e19b37",
   "metadata": {},
   "outputs": [
    {
     "name": "stdout",
     "output_type": "stream",
     "text": [
      "{'a': 5, 'c': 8}\n",
      "{'y': 3}\n"
     ]
    }
   ],
   "source": [
    "def filter_dict_by_value(d, threshold):\n",
    "    return {k: v for k, v in d.items() if v > threshold}\n",
    "\n",
    "\n",
    "d1 = {'a':5, 'b':2, 'c':8}\n",
    "th1 = 4\n",
    "print(filter_dict_by_value(d1, th1))\n",
    "\n",
    "d2 = {'x':1, 'y':3}\n",
    "th2 = 2\n",
    "print(filter_dict_by_value(d2, th2))"
   ]
  },
  {
   "cell_type": "code",
   "execution_count": null,
   "id": "55c9884b",
   "metadata": {},
   "outputs": [],
   "source": []
  },
  {
   "cell_type": "markdown",
   "id": "b37b6bd2",
   "metadata": {},
   "source": [
    "# 16. Dictionary from List of Tuples\n",
    "\n",
    "## Problem Statement:\n",
    "Write a function that converts a list of tuples into a dictionary, combining values for duplicate keys into lists.\n",
    "\n",
    "## Example 1:\n",
    "**Input:** `[('a',1), ('b',2), ('a',3)]`  \n",
    "**Output:** `{'a':[1,3], 'b':[2]}`\n",
    "\n",
    "## Example 2:\n",
    "**Input:** `[('x',4)]`  \n",
    "**Output:** `{'x':[4]}`\n"
   ]
  },
  {
   "cell_type": "code",
   "execution_count": 4,
   "id": "0cabcc36",
   "metadata": {},
   "outputs": [
    {
     "name": "stdout",
     "output_type": "stream",
     "text": [
      "{'a': [1, 3], 'b': [2]}\n",
      "{'x': [4]}\n"
     ]
    }
   ],
   "source": [
    "def tuples_to_dict(tup):\n",
    "    result = {}\n",
    "    for key, value in tup:\n",
    "        if key in result:\n",
    "            result[key].append(value)\n",
    "        else:\n",
    "            result[key] = [value]\n",
    "    return result\n",
    "\n",
    "tp1 = [('a',1), ('b',2), ('a',3)]  \n",
    "print(tuples_to_dict(tp1))\n",
    "\n",
    "tp2 = [('x',4)]  \n",
    "print(tuples_to_dict(tp2))"
   ]
  },
  {
   "cell_type": "code",
   "execution_count": null,
   "id": "1ba92174",
   "metadata": {},
   "outputs": [],
   "source": []
  },
  {
   "cell_type": "markdown",
   "id": "a2f6a871",
   "metadata": {},
   "source": [
    "# 17. Increment Dictionary Values\n",
    "\n",
    "## Problem Statement:\n",
    "Write a function to increment all integer values in a dictionary by a specified number.\n",
    "\n",
    "## Example 1:\n",
    "**Input:** `{'a':1, 'b':2}, 3`  \n",
    "**Output:** `{'a':4, 'b':5}`\n",
    "\n",
    "## Example 2:\n",
    "**Input:** `{'x':10}, -2`  \n",
    "**Output:** `{'x':8}`\n"
   ]
  },
  {
   "cell_type": "code",
   "execution_count": 6,
   "id": "2cae3f6e",
   "metadata": {},
   "outputs": [
    {
     "name": "stdout",
     "output_type": "stream",
     "text": [
      "{'a': 4, 'b': 5}\n",
      "{'x': 8}\n"
     ]
    }
   ],
   "source": [
    "def increment_dict_values(d, incre):\n",
    "    return {k: v + incre for k, v in d.items()}\n",
    "\n",
    "d1 = {'a':1, 'b':2}\n",
    "th1 = 3\n",
    "print(increment_dict_values(d1, th1))\n",
    "\n",
    "d2 = {'x':10}\n",
    "th2 = -2\n",
    "print(increment_dict_values(d2, th2))"
   ]
  },
  {
   "cell_type": "code",
   "execution_count": null,
   "id": "5a8c4696",
   "metadata": {},
   "outputs": [],
   "source": []
  },
  {
   "cell_type": "markdown",
   "id": "1a4997f3",
   "metadata": {},
   "source": [
    "# 18. Find Duplicates in List Using Dictionary\n",
    "\n",
    "## Problem Statement:\n",
    "Write a function to find all elements that appear more than once in a list, using a dictionary.\n",
    "\n",
    "## Example 1:\n",
    "**Input:** `[1,2,2,3,4,4,4]`  \n",
    "**Output:** `[2,4]`\n",
    "\n",
    "## Example 2:\n",
    "**Input:** `['a','b','c','a']`  \n",
    "**Output:** `['a']`\n"
   ]
  },
  {
   "cell_type": "code",
   "execution_count": 7,
   "id": "35f77861",
   "metadata": {},
   "outputs": [
    {
     "name": "stdout",
     "output_type": "stream",
     "text": [
      "[2, 4]\n",
      "['a']\n"
     ]
    }
   ],
   "source": [
    "def find_duplicates(arr):\n",
    "    count = {}\n",
    "    duplicates = []\n",
    "\n",
    "    for item in arr:\n",
    "        count[item] = count.get(item, 0) + 1\n",
    "\n",
    "    for key, value in count.items():\n",
    "        if value > 1:\n",
    "            duplicates.append(key)\n",
    "\n",
    "    return duplicates\n",
    "\n",
    "list1 = [1,2,2,3,4,4,4]  \n",
    "print(find_duplicates(list1))\n",
    "\n",
    "list2 = ['a','b','c','a']  \n",
    "print(find_duplicates(list2))"
   ]
  },
  {
   "cell_type": "code",
   "execution_count": null,
   "id": "e2d4570d",
   "metadata": {},
   "outputs": [],
   "source": []
  },
  {
   "cell_type": "markdown",
   "id": "37dab363",
   "metadata": {},
   "source": [
    "# 19. Merge Dictionaries Summing Values\n",
    "\n",
    "## Problem Statement:\n",
    "Write a function to merge two dictionaries, summing values for common keys.\n",
    "\n",
    "## Example 1:\n",
    "**Input:** `{'a':2, 'b':3}, {'a':3, 'c':1}`  \n",
    "**Output:** `{'a':5, 'b':3, 'c':1}`\n",
    "\n",
    "## Example 2:\n",
    "**Input:** `{'x':1}, {'x':-1}`  \n",
    "**Output:** `{'x':0}`\n"
   ]
  },
  {
   "cell_type": "code",
   "execution_count": 11,
   "id": "f6b073b2",
   "metadata": {},
   "outputs": [
    {
     "name": "stdout",
     "output_type": "stream",
     "text": [
      "{'a': 5, 'b': 3, 'c': 1}\n",
      "{'x': 0}\n"
     ]
    }
   ],
   "source": [
    "def merge_sum_dicts(d1, d2):\n",
    "    result = d1.copy()\n",
    "    for key, value in d2.items():\n",
    "        result[key] = result.get(key, 0) + value\n",
    "    return result\n",
    "\n",
    "d1 = {'a':2, 'b':3}\n",
    "d2 = {'a':3, 'c':1}  \n",
    "print(merge_sum_dicts(d1, d2))\n",
    "\n",
    "\n",
    "d1 = {'x':1}\n",
    "d2 = {'x':-1}\n",
    "print(merge_sum_dicts(d1, d2))"
   ]
  },
  {
   "cell_type": "code",
   "execution_count": null,
   "id": "4931ea97",
   "metadata": {},
   "outputs": [],
   "source": []
  },
  {
   "cell_type": "markdown",
   "id": "01937f89",
   "metadata": {},
   "source": [
    "# 20. Dictionary of Lists to Dictionary of Sums\n",
    "\n",
    "## Problem Statement:\n",
    "Write a function to convert a dictionary of lists into a dictionary of sums.\n",
    "\n",
    "## Example 1:\n",
    "**Input:** `{'a':[1,2,3], 'b':[4,5]}`  \n",
    "**Output:** `{'a':6, 'b':9}`\n",
    "\n",
    "## Example 2:\n",
    "**Input:** `{'x':[10]}`  \n",
    "**Output:** `{'x':10}`\n"
   ]
  },
  {
   "cell_type": "code",
   "execution_count": 13,
   "id": "02599144",
   "metadata": {},
   "outputs": [
    {
     "name": "stdout",
     "output_type": "stream",
     "text": [
      "{'a': [1, 2, 3], 'b': [4, 5]}\n",
      "{'x': [10]}\n"
     ]
    }
   ],
   "source": [
    "def dict_of_sums(d1):\n",
    "    return {k: sum(v) for k, v in d1.items()}\n",
    "\n",
    "d1 = {'a':[1,2,3], 'b':[4,5]}  \n",
    "print(sort_keys(d1))\n",
    "\n",
    "\n",
    "d2 = {'x':[10]}\n",
    "print(sort_keys(d2))"
   ]
  },
  {
   "cell_type": "code",
   "execution_count": null,
   "id": "551ecc09",
   "metadata": {},
   "outputs": [],
   "source": []
  }
 ],
 "metadata": {
  "kernelspec": {
   "display_name": "Python 3",
   "language": "python",
   "name": "python3"
  },
  "language_info": {
   "codemirror_mode": {
    "name": "ipython",
    "version": 3
   },
   "file_extension": ".py",
   "mimetype": "text/x-python",
   "name": "python",
   "nbconvert_exporter": "python",
   "pygments_lexer": "ipython3",
   "version": "3.12.5"
  }
 },
 "nbformat": 4,
 "nbformat_minor": 5
}
