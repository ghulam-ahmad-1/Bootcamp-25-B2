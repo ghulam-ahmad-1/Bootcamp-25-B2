{
 "cells": [
  {
   "cell_type": "markdown",
   "id": "4f8b2c0d",
   "metadata": {},
   "source": [
    "\n",
    "\n",
    "Task: Create an iterator that returns prime numbers up to n.\n",
    "\n",
    "Input: n = 10\n",
    "Output: [2, 3, 5, 7]"
   ]
  },
  {
   "cell_type": "code",
   "execution_count": 23,
   "id": "a76e7c17",
   "metadata": {},
   "outputs": [
    {
     "data": {
      "text/plain": [
       "[2, 3, 5, 7]"
      ]
     },
     "execution_count": 23,
     "metadata": {},
     "output_type": "execute_result"
    }
   ],
   "source": [
    "def func(n, arr):\n",
    "    if n < 2:\n",
    "        return arr\n",
    "    i = 2\n",
    "    while i<=n:\n",
    "        check = True\n",
    "        for item in arr:\n",
    "            if i%item == 0:\n",
    "                check = False\n",
    "        if check == True:\n",
    "            arr.append(i)\n",
    "            #check = True\n",
    "        i += 1\n",
    "    return arr\n",
    "    \n",
    "arr = []\n",
    "n = 7\n",
    "func(n, arr)"
   ]
  },
  {
   "cell_type": "code",
   "execution_count": null,
   "id": "635ca257",
   "metadata": {},
   "outputs": [],
   "source": []
  },
  {
   "cell_type": "markdown",
   "id": "53061aa0",
   "metadata": {},
   "source": [
    "Task: Transpose a 2D matrix using pure Python (without NumPy).\n",
    "\n",
    "Input: [[1, 2, 3], [4, 5, 6]]\n",
    "Output: [[1, 4], [2, 5], [3, 6]]-------------------------------------------------\n"
   ]
  },
  {
   "cell_type": "code",
   "execution_count": 7,
   "id": "89bcf28e",
   "metadata": {},
   "outputs": [
    {
     "name": "stdout",
     "output_type": "stream",
     "text": [
      "[[1, 4], [2, 5], [3, 6]]\n"
     ]
    }
   ],
   "source": [
    "def transpose(arr):\n",
    "    trans_arr = []\n",
    "    lenght_arr = len(arr)\n",
    "    #print(lenght_arr)\n",
    "    inner_lenght = len(arr[lenght_arr-1])\n",
    "    #print(inner_lenght)\n",
    "    for i in range(inner_lenght):\n",
    "        ar = []\n",
    "        for j in range(lenght_arr):\n",
    "            ar.append(arr[j][i])\n",
    "        trans_arr.append(ar)\n",
    "    return trans_arr\n",
    "arr1 = [[1, 2, 3], [4, 5, 6]]\n",
    "print(transpose(arr1))"
   ]
  },
  {
   "cell_type": "markdown",
   "id": "e7b7263a",
   "metadata": {},
   "source": [
    "Task: Group words that are anagrams of each other.\n",
    "\n",
    "Input: [\"bat\", \"tab\", \"tap\", \"pat\", \"cat\"]\n",
    "\n",
    "Output: [[\"bat\", \"tab\"], [\"tap\", \"pat\"], [\"cat\"]]-------------------------------------------------\n"
   ]
  },
  {
   "cell_type": "code",
   "execution_count": 22,
   "id": "75637c57",
   "metadata": {},
   "outputs": [
    {
     "name": "stdout",
     "output_type": "stream",
     "text": [
      "dict_values([])\n",
      "[['bat', 'tab'], ['tap', 'pat'], ['cat']]\n"
     ]
    }
   ],
   "source": [
    "from collections import defaultdict\n",
    "default_dict = defaultdict(list)\n",
    "#print(default_dict.values())\n",
    "arr = [\"bat\", \"tab\", \"tap\", \"pat\", \"cat\"]\n",
    "for word in arr:\n",
    "    sort_word = ''.join(sorted(word)) \n",
    "    default_dict[sort_word].append(word)\n",
    "    #print(sort_word)\n",
    "\n",
    "print(list(default_dict.values()))"
   ]
  },
  {
   "cell_type": "code",
   "execution_count": null,
   "id": "e9416356",
   "metadata": {},
   "outputs": [],
   "source": []
  }
 ],
 "metadata": {
  "kernelspec": {
   "display_name": "Python 3 (ipykernel)",
   "language": "python",
   "name": "python3"
  },
  "language_info": {
   "codemirror_mode": {
    "name": "ipython",
    "version": 3
   },
   "file_extension": ".py",
   "mimetype": "text/x-python",
   "name": "python",
   "nbconvert_exporter": "python",
   "pygments_lexer": "ipython3",
   "version": "3.12.3"
  }
 },
 "nbformat": 4,
 "nbformat_minor": 5
}
