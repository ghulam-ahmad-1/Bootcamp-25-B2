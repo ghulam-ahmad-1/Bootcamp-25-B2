{
 "cells": [
  {
   "cell_type": "markdown",
   "id": "37026efb",
   "metadata": {},
   "source": [
    "Given n non-negative integers representing an elevation map where the width of each bar is 1, compute how much water it can trap after raining.Example 1:Input: height = [0,1,0,2,1,0,1,3,2,1,2,1]\n",
    "Output: 6\n",
    "Explanation: The above elevation map (black section) is represented by array [0,1,0,2,1,0,1,3,2,1,2,1]. In this case, 6 units of rain water (blue section) are being trapped.Example 2:\n",
    "Input: height = [4,2,0,3,2,5]\n",
    "Output: 9Constraints:\n",
    "\n",
    "    n == height.length\n",
    "    1 <= n <= 2 * 104\n",
    "    0 <= height[i] <= 105"
   ]
  },
  {
   "cell_type": "code",
   "execution_count": 8,
   "id": "ed793090",
   "metadata": {},
   "outputs": [
    {
     "name": "stdout",
     "output_type": "stream",
     "text": [
      "2 4 5 2\n",
      "6 4 5 0\n",
      "7 4 5 3\n",
      "9 4 5 2\n",
      "9 5 5 5\n",
      "9\n"
     ]
    }
   ],
   "source": [
    "def water_raise(arr):\n",
    "    count = 0\n",
    "    for i in range(1, len(arr)):\n",
    "        left_max = arr[i]\n",
    "        for j in range(i):\n",
    "            left_max = max(left_max, arr[j])\n",
    "        \n",
    "        right_max = arr[i]\n",
    "        for j in range(i+1, len(arr)):\n",
    "            right_max = max(right_max, arr[j])\n",
    "            \n",
    "        count += (min(left_max, right_max)-arr[i])\n",
    "        #print(count, left_max, right_max, arr[i])\n",
    "    return count\n",
    "    \n",
    "#list1 = [0,1,0,2,1,0,1,3,2,1,2,1] \n",
    "list2 = [4,2,0,3,2,5] \n",
    "print(water_raise(list2))"
   ]
  },
  {
   "cell_type": "code",
   "execution_count": null,
   "id": "6df70e58",
   "metadata": {},
   "outputs": [],
   "source": []
  }
 ],
 "metadata": {
  "kernelspec": {
   "display_name": "Python 3 (ipykernel)",
   "language": "python",
   "name": "python3"
  },
  "language_info": {
   "codemirror_mode": {
    "name": "ipython",
    "version": 3
   },
   "file_extension": ".py",
   "mimetype": "text/x-python",
   "name": "python",
   "nbconvert_exporter": "python",
   "pygments_lexer": "ipython3",
   "version": "3.12.3"
  }
 },
 "nbformat": 4,
 "nbformat_minor": 5
}
