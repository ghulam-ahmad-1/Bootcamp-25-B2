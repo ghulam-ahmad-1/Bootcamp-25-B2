{
 "cells": [
  {
   "cell_type": "markdown",
   "id": "64d0c9e3-3656-4283-99df-33c0316c7908",
   "metadata": {
    "jp-MarkdownHeadingCollapsed": true
   },
   "source": [
    "# os module – File & Directory Operations\n",
    "\n",
    "**Q:1 Create, Read, Rename, Remove files and folder**\n",
    "\n",
    "**Q:1 Get the current working directory and navigate to a sibling directory**\n",
    "\n",
    "**Q:2 Recursively list all files in a directory using only os.**\n",
    "\n",
    "**Q:3 Check if a given path is a file, directory, or doesn't exist.**\n",
    "\n",
    "**Q:4 Create a deeply nested folder structure like**\n",
    "\n",
    "**Q:5 Delete all empty directories from a given folder tree.**\n",
    "\n",
    "**Q:6 Count the number of .txt files in a directory using os.listdir().**\n",
    "\n",
    "**Q:7 Move files from one folder to another, creating the destination if needed.**\n",
    "\n",
    "**Q:8 Rename all .log files to .log.bak within a folder.**\n",
    "\n",
    "**Q:9 Print the total size of all files in a directory in MB.**\n",
    "\n",
    "**Q:10 Print the directory tree with indentation (like the tree command).**\n",
    "\n",
    "**Q:11 Write a function that synchronizes the structure of two directory trees (mirror mode).**\n",
    "\n",
    "**Q:12 Implement a safe folder deletion function that first moves the folder to a Trash directory.**\n",
    "\n",
    "**Q13: Find and print the most recently modified file in a directory recursively.**\n",
    "\n",
    "**Q:14 Generate a directory report (file count, total size, subfolders) in JSON format.**\n",
    "\n",
    "**Q:15 Track changes (additions/removals) in a directory over time using file snapshots.**\n",
    "\n"
   ]
  },
  {
   "cell_type": "code",
   "execution_count": 21,
   "id": "0cb604f0-de66-4950-b150-3ea858f1ba9c",
   "metadata": {},
   "outputs": [],
   "source": [
    "import os\n",
    "import shutil"
   ]
  },
  {
   "cell_type": "code",
   "execution_count": 24,
   "id": "d3de0b42-c67e-49e2-b0d9-225e9d3f9a91",
   "metadata": {},
   "outputs": [
    {
     "name": "stdout",
     "output_type": "stream",
     "text": [
      "/home/ml1/Documents/bootcamp\n",
      "['string.ipynb', 'prac\\\\file.txt', 'Numpy.ipynb', 'prac_dir', 'file1.ipynb', 'pandas-questions.ipynb', 'task-Day1.ipynb', 'pandas-questions_old.ipynb', 'warm-up.ipynb', 'dict.ipynb', 'Numpy_old.ipynb', '.venv', 'command.txt', 'Bootcamp Road Map.pdf', 'prac\\x0cile.txt', 'oop.ipynb', 'assignment_1.ipynb', 'faizan_arif.ipynb', 'Filing.ipynb', 'list.ipynb', 'prac.ipynb', '.ipynb_checkpoints', 'Day1-Task.ipynb']\n"
     ]
    }
   ],
   "source": [
    "print(os.getcwd())\n",
    "print(os.listdir())\n",
    "os.makedirs('prac//file.txt', exist_ok=True)"
   ]
  },
  {
   "cell_type": "code",
   "execution_count": 25,
   "id": "cf68c0f6",
   "metadata": {},
   "outputs": [],
   "source": [
    "os.rmdir('prac/file.txt')"
   ]
  },
  {
   "cell_type": "code",
   "execution_count": 26,
   "id": "6861669a",
   "metadata": {},
   "outputs": [],
   "source": [
    "#make file\n",
    "with open('prac/file.txt', 'w') as f:\n",
    "    f.write('HeHeHeHe')"
   ]
  },
  {
   "cell_type": "code",
   "execution_count": 27,
   "id": "e533c008",
   "metadata": {},
   "outputs": [
    {
     "name": "stdout",
     "output_type": "stream",
     "text": [
      "HeHeHeHe\n"
     ]
    }
   ],
   "source": [
    "#make file\n",
    "with open('prac/file.txt', 'r') as f:\n",
    "    print(f.read())"
   ]
  },
  {
   "cell_type": "code",
   "execution_count": 28,
   "id": "9375de53-f7e0-4781-a449-6ad8eab91288",
   "metadata": {},
   "outputs": [
    {
     "name": "stdout",
     "output_type": "stream",
     "text": [
      "HeHeHeHe\n"
     ]
    }
   ],
   "source": [
    "#print(os.listdir())\n",
    "print(open(f'{os.getcwd()}/prac/file.txt', 'r').read())"
   ]
  },
  {
   "cell_type": "markdown",
   "id": "fe6440de",
   "metadata": {},
   "source": [
    "shutil.rmtree('prac')\n",
    "#os.removedirs('prac')"
   ]
  },
  {
   "cell_type": "markdown",
   "id": "7aca066b",
   "metadata": {},
   "source": [
    "Get the current working directory and navigate to a sibling directory"
   ]
  },
  {
   "cell_type": "code",
   "execution_count": 33,
   "id": "6aff88b7-92de-4cf0-9452-cd880199e516",
   "metadata": {},
   "outputs": [
    {
     "data": {
      "text/plain": [
       "'/home/ml1/Documents/bootcamp/prac'"
      ]
     },
     "execution_count": 33,
     "metadata": {},
     "output_type": "execute_result"
    }
   ],
   "source": [
    "os.makedirs('prac', exist_ok=True)\n",
    "parent = os.getcwd()\n",
    "os.chdir(f'{parent}/prac')\n",
    "os.getcwd()"
   ]
  },
  {
   "cell_type": "markdown",
   "id": "0b213728",
   "metadata": {},
   "source": [
    "Q:2 Recursively list all files in a directory using only os."
   ]
  },
  {
   "cell_type": "code",
   "execution_count": 34,
   "id": "7e2007ab",
   "metadata": {},
   "outputs": [],
   "source": [
    "os.chdir('../')"
   ]
  },
  {
   "cell_type": "code",
   "execution_count": 36,
   "id": "a504a41f-193c-4ea9-849a-58df15a77f9b",
   "metadata": {},
   "outputs": [
    {
     "name": "stdout",
     "output_type": "stream",
     "text": [
      "/home/ml1/Documents/bootcamp/string.ipynb\n",
      "/home/ml1/Documents/bootcamp/Numpy.ipynb\n",
      "/home/ml1/Documents/bootcamp/file1.ipynb\n",
      "/home/ml1/Documents/bootcamp/pandas-questions.ipynb\n",
      "/home/ml1/Documents/bootcamp/task-Day1.ipynb\n",
      "/home/ml1/Documents/bootcamp/pandas-questions_old.ipynb\n",
      "/home/ml1/Documents/bootcamp/warm-up.ipynb\n",
      "/home/ml1/Documents/bootcamp/dict.ipynb\n",
      "/home/ml1/Documents/bootcamp/Numpy_old.ipynb\n",
      "/home/ml1/Documents/bootcamp/command.txt\n",
      "/home/ml1/Documents/bootcamp/Bootcamp Road Map.pdf\n",
      "/home/ml1/Documents/bootcamp/oop.ipynb\n",
      "/home/ml1/Documents/bootcamp/assignment_1.ipynb\n",
      "/home/ml1/Documents/bootcamp/faizan_arif.ipynb\n",
      "/home/ml1/Documents/bootcamp/Filing.ipynb\n",
      "/home/ml1/Documents/bootcamp/list.ipynb\n",
      "/home/ml1/Documents/bootcamp/prac.ipynb\n",
      "/home/ml1/Documents/bootcamp/Day1-Task.ipynb\n",
      "/home/ml1/Documents/bootcamp/prac_dir/file.csv\n",
      "/home/ml1/Documents/bootcamp/.venv/pyvenv.cfg\n",
      "/home/ml1/Documents/bootcamp/.venv/bin/python\n",
      "/home/ml1/Documents/bootcamp/.venv/bin/python3\n",
      "/home/ml1/Documents/bootcamp/.venv/bin/python3.12\n",
      "/home/ml1/Documents/bootcamp/.ipynb_checkpoints/list-checkpoint.ipynb\n",
      "/home/ml1/Documents/bootcamp/.ipynb_checkpoints/pandas-questions-checkpoint.ipynb\n",
      "/home/ml1/Documents/bootcamp/.ipynb_checkpoints/prac-checkpoint.ipynb\n",
      "/home/ml1/Documents/bootcamp/.ipynb_checkpoints/dict-checkpoint.ipynb\n",
      "/home/ml1/Documents/bootcamp/.ipynb_checkpoints/warm-up-checkpoint.ipynb\n",
      "/home/ml1/Documents/bootcamp/.ipynb_checkpoints/oop-checkpoint.ipynb\n",
      "/home/ml1/Documents/bootcamp/.ipynb_checkpoints/Day1-Task-checkpoint.ipynb\n",
      "/home/ml1/Documents/bootcamp/.ipynb_checkpoints/assignment_1-checkpoint.ipynb\n",
      "/home/ml1/Documents/bootcamp/.ipynb_checkpoints/Filing-checkpoint.ipynb\n",
      "/home/ml1/Documents/bootcamp/.ipynb_checkpoints/Numpy-checkpoint.ipynb\n",
      "/home/ml1/Documents/bootcamp/.ipynb_checkpoints/faizan_arif-checkpoint.ipynb\n",
      "/home/ml1/Documents/bootcamp/.ipynb_checkpoints/string-checkpoint.ipynb\n",
      "/home/ml1/Documents/bootcamp/.ipynb_checkpoints/task-Day1-checkpoint.ipynb\n"
     ]
    }
   ],
   "source": [
    "def list_files_recursive(path):\n",
    "    for dirpath, dirname, filenames in os.walk(path):\n",
    "        for file in filenames:\n",
    "            print(os.path.join(dirpath, file))\n",
    "            \n",
    "list_files_recursive(os.getcwd())"
   ]
  },
  {
   "cell_type": "markdown",
   "id": "01f390d4",
   "metadata": {},
   "source": [
    "check if a given path is a file, directory, or doesn't exist."
   ]
  },
  {
   "cell_type": "code",
   "execution_count": 40,
   "id": "7a2898a9",
   "metadata": {},
   "outputs": [
    {
     "data": {
      "text/plain": [
       "'/home/ml1/Documents/bootcamp'"
      ]
     },
     "execution_count": 40,
     "metadata": {},
     "output_type": "execute_result"
    }
   ],
   "source": [
    "os.getcwd()"
   ]
  },
  {
   "cell_type": "code",
   "execution_count": 42,
   "id": "73e2337b-6b7b-49fe-9931-d7c591bc141b",
   "metadata": {},
   "outputs": [
    {
     "name": "stdout",
     "output_type": "stream",
     "text": [
      "it is file\n"
     ]
    }
   ],
   "source": [
    "def check_name(name):\n",
    "    if os.path.exists(name):\n",
    "        if os.path.isdir(name):\n",
    "            print('it is directory')\n",
    "        elif os.path.isfile(name):\n",
    "            print('it is file')\n",
    "    else:\n",
    "        print('file does not exist')\n",
    "name = 'command.txt'\n",
    "check_name(name)"
   ]
  },
  {
   "cell_type": "markdown",
   "id": "bc0f9fc7",
   "metadata": {},
   "source": [
    "Create a deeply nested folder structure like"
   ]
  },
  {
   "cell_type": "code",
   "execution_count": 58,
   "id": "7b41c41b-7da5-45e5-bfdd-476e72724bcb",
   "metadata": {},
   "outputs": [],
   "source": [
    "os.makedirs('prac1/prac2/prac3/prac4')"
   ]
  },
  {
   "cell_type": "markdown",
   "id": "c3b35332",
   "metadata": {},
   "source": [
    "Delete all empty directories from a given folder tree."
   ]
  },
  {
   "cell_type": "code",
   "execution_count": 59,
   "id": "04406f76-8c61-422d-b1dc-082d6b359127",
   "metadata": {},
   "outputs": [
    {
     "name": "stdout",
     "output_type": "stream",
     "text": [
      "[]\n",
      "this directory deleted /home/ml1/Documents/bootcamp/prac1/prac2/prac3/prac4\n"
     ]
    }
   ],
   "source": [
    "def remove_empty_dirs(path):\n",
    "    for dirpath, dirname, filenames in os.walk(path, topdown=False):\n",
    "        if not dirname and not filenames:\n",
    "            #print(dirname)\n",
    "            os.removedirs(dirpath)\n",
    "            print(f'this directory deleted {dirpath}')\n",
    "            \n",
    "remove_empty_dirs(os.getcwd())"
   ]
  },
  {
   "cell_type": "markdown",
   "id": "065b70a5",
   "metadata": {},
   "source": [
    " Count the number of .txt files in a directory using os.listdir()."
   ]
  },
  {
   "cell_type": "code",
   "execution_count": 60,
   "id": "1a2e636e-228e-43e5-8c2a-27b465e9f994",
   "metadata": {},
   "outputs": [
    {
     "data": {
      "text/plain": [
       "1"
      ]
     },
     "execution_count": 60,
     "metadata": {},
     "output_type": "execute_result"
    }
   ],
   "source": [
    "def count_text_files(path):\n",
    "    return len([f for f in os.listdir(path) if f.endswith('.txt')])\n",
    "\n",
    "count_text_files(os.getcwd())"
   ]
  },
  {
   "cell_type": "markdown",
   "id": "d5a7879b",
   "metadata": {},
   "source": [
    "Move files from one folder to another, creating the destination if needed."
   ]
  },
  {
   "cell_type": "code",
   "execution_count": 61,
   "id": "1b71f920",
   "metadata": {},
   "outputs": [
    {
     "data": {
      "text/plain": [
       "['string.ipynb',\n",
       " 'Numpy.ipynb',\n",
       " 'prac_dir',\n",
       " 'file1.ipynb',\n",
       " 'pandas-questions.ipynb',\n",
       " 'task-Day1.ipynb',\n",
       " 'pandas-questions_old.ipynb',\n",
       " 'warm-up.ipynb',\n",
       " 'dict.ipynb',\n",
       " 'Numpy_old.ipynb',\n",
       " '.venv',\n",
       " 'command.txt',\n",
       " 'Bootcamp Road Map.pdf',\n",
       " 'oop.ipynb',\n",
       " 'assignment_1.ipynb',\n",
       " 'faizan_arif.ipynb',\n",
       " 'Filing.ipynb',\n",
       " 'list.ipynb',\n",
       " 'prac.ipynb',\n",
       " '.ipynb_checkpoints',\n",
       " 'Day1-Task.ipynb']"
      ]
     },
     "execution_count": 61,
     "metadata": {},
     "output_type": "execute_result"
    }
   ],
   "source": [
    "os.listdir()"
   ]
  },
  {
   "cell_type": "code",
   "execution_count": 63,
   "id": "73112811",
   "metadata": {},
   "outputs": [],
   "source": [
    "with open('move.txt', 'w') as f:\n",
    "    f.write('Pechat tu dekho')"
   ]
  },
  {
   "cell_type": "code",
   "execution_count": 64,
   "id": "71f166c8",
   "metadata": {},
   "outputs": [],
   "source": [
    "os.mkdir('move')"
   ]
  },
  {
   "cell_type": "code",
   "execution_count": 68,
   "id": "ae73e00b",
   "metadata": {},
   "outputs": [
    {
     "data": {
      "text/plain": [
       "['move',\n",
       " 'string.ipynb',\n",
       " 'Numpy.ipynb',\n",
       " 'prac_dir',\n",
       " 'file1.ipynb',\n",
       " 'pandas-questions.ipynb',\n",
       " 'task-Day1.ipynb',\n",
       " 'pandas-questions_old.ipynb',\n",
       " 'warm-up.ipynb',\n",
       " 'dict.ipynb',\n",
       " 'Numpy_old.ipynb',\n",
       " '.venv',\n",
       " 'command.txt',\n",
       " 'Bootcamp Road Map.pdf',\n",
       " 'oop.ipynb',\n",
       " 'assignment_1.ipynb',\n",
       " 'faizan_arif.ipynb',\n",
       " 'move.txt',\n",
       " 'Filing.ipynb',\n",
       " 'list.ipynb',\n",
       " 'prac.ipynb',\n",
       " '.ipynb_checkpoints',\n",
       " 'Day1-Task.ipynb']"
      ]
     },
     "execution_count": 68,
     "metadata": {},
     "output_type": "execute_result"
    }
   ],
   "source": [
    "os.listdir()"
   ]
  },
  {
   "cell_type": "code",
   "execution_count": 70,
   "id": "0ab3825a-334a-4720-a341-f0ea1543e7d0",
   "metadata": {},
   "outputs": [
    {
     "name": "stdout",
     "output_type": "stream",
     "text": [
      "/home/ml1/Documents/bootcamp /home/ml1/Documents/bootcamp/move\n"
     ]
    },
    {
     "ename": "NameError",
     "evalue": "name 'SRC_PATH' is not defined",
     "output_type": "error",
     "traceback": [
      "\u001b[0;31m---------------------------------------------------------------------------\u001b[0m",
      "\u001b[0;31mNameError\u001b[0m                                 Traceback (most recent call last)",
      "Cell \u001b[0;32mIn[70], line 13\u001b[0m\n\u001b[1;32m     11\u001b[0m destination \u001b[38;5;241m=\u001b[39m \u001b[38;5;124mf\u001b[39m\u001b[38;5;124m'\u001b[39m\u001b[38;5;132;01m{\u001b[39;00mos\u001b[38;5;241m.\u001b[39mgetcwd()\u001b[38;5;132;01m}\u001b[39;00m\u001b[38;5;124m/move\u001b[39m\u001b[38;5;124m'\u001b[39m\n\u001b[1;32m     12\u001b[0m \u001b[38;5;28mprint\u001b[39m(source, destination)\n\u001b[0;32m---> 13\u001b[0m \u001b[43mmove_files\u001b[49m\u001b[43m(\u001b[49m\u001b[43msource\u001b[49m\u001b[43m,\u001b[49m\u001b[43m \u001b[49m\u001b[43mdestination\u001b[49m\u001b[43m)\u001b[49m\n",
      "Cell \u001b[0;32mIn[70], line 7\u001b[0m, in \u001b[0;36mmove_files\u001b[0;34m(src, dst)\u001b[0m\n\u001b[1;32m      5\u001b[0m \u001b[38;5;28;01mif\u001b[39;00m os\u001b[38;5;241m.\u001b[39mpath\u001b[38;5;241m.\u001b[39misfile(src_path):\n\u001b[1;32m      6\u001b[0m     shutil\u001b[38;5;241m.\u001b[39mmove(src_path, os\u001b[38;5;241m.\u001b[39mpath\u001b[38;5;241m.\u001b[39mjoin(dst, item))\n\u001b[0;32m----> 7\u001b[0m     \u001b[38;5;28mprint\u001b[39m(\u001b[43mSRC_PATH\u001b[49m)\n",
      "\u001b[0;31mNameError\u001b[0m: name 'SRC_PATH' is not defined"
     ]
    }
   ],
   "source": [
    "def move_files(src, dst):\n",
    "    os.makedirs(dst, exist_ok=True)\n",
    "    for item in os.listdir(src):\n",
    "        src_path = os.path.join(src, item)\n",
    "        if os.path.isfile(src_path):\n",
    "            shutil.move(src_path, os.path.join(dst, item))\n",
    "            print(SRC_PATH)\n",
    "\n",
    "\n",
    "source = f'{os.getcwd()}'\n",
    "destination = f'{os.getcwd()}/move'\n",
    "print(source, destination)\n",
    "move_files(source, destination)"
   ]
  },
  {
   "cell_type": "code",
   "execution_count": null,
   "id": "aa70a4f3",
   "metadata": {},
   "outputs": [],
   "source": []
  },
  {
   "cell_type": "code",
   "execution_count": null,
   "id": "c70fa314",
   "metadata": {},
   "outputs": [],
   "source": []
  },
  {
   "cell_type": "code",
   "execution_count": null,
   "id": "d91da1fc",
   "metadata": {},
   "outputs": [],
   "source": []
  },
  {
   "cell_type": "code",
   "execution_count": null,
   "id": "1aabc430",
   "metadata": {},
   "outputs": [],
   "source": []
  },
  {
   "cell_type": "code",
   "execution_count": null,
   "id": "356609a0",
   "metadata": {},
   "outputs": [],
   "source": []
  },
  {
   "cell_type": "code",
   "execution_count": null,
   "id": "99e4e430",
   "metadata": {},
   "outputs": [],
   "source": []
  },
  {
   "cell_type": "code",
   "execution_count": null,
   "id": "96b7d7a2-9ca3-41b0-9a2d-1c25512f9d40",
   "metadata": {},
   "outputs": [],
   "source": []
  },
  {
   "cell_type": "code",
   "execution_count": null,
   "id": "e93ae0bf-78d0-4fb0-8a3e-df9e29b0596c",
   "metadata": {},
   "outputs": [],
   "source": []
  },
  {
   "cell_type": "markdown",
   "id": "5791d390-e204-4c7a-8169-792bf6d02fd1",
   "metadata": {
    "jp-MarkdownHeadingCollapsed": true
   },
   "source": [
    "\n",
    "# glob module – Pattern Matching\n",
    "\n",
    "**Q:1 List all .csv and .json files in the current directory.**\n",
    "\n",
    "**Q:2 Recursively find all .jpg files in nested folders.**\n",
    "\n",
    "**Q:3 Use glob to count files grouped by extension.**\n",
    "\n",
    "**Q:4 Find files with names matching pattern report_*.txt.**\n",
    "\n",
    "**Q:5 Replace spaces with underscores in filenames found via glob.**\n",
    "\n",
    "**Q:6 Return all files with a date in the format 2025-06-*.log.**\n",
    "\n",
    "**Q:7 List all files with numeric names only (e.g., 123.txt).**\n",
    "\n",
    "**Q:8 Use glob to sort files by last modified time.**\n",
    "\n",
    "**Q:9 Find all .txt files larger than 100KB using glob and os.**\n",
    "\n",
    "**Q:10 Batch rename files with a custom suffix _archived.**\n",
    "\n",
    "**Q:11 Create a utility that indexes all media files and stores the paths in a SQLite DB.**\n",
    "\n",
    "**Q:12 Find duplicate filenames (regardless of path) across a directory tree.**\n",
    "\n",
    "**Q:13 Generate a file manifest with relative paths and hash (MD5) of contents.**\n",
    "\n",
    "**Q14: Use glob patterns dynamically to extract weekly reports (e.g., week_01.json, week_02.json).**\n",
    "\n",
    "**Q:15 Write a recursive file crawler that ignores folders listed in a .ignore file.**\n"
   ]
  },
  {
   "cell_type": "code",
   "execution_count": null,
   "id": "e086f083-8cf2-409a-99bc-423710252c8b",
   "metadata": {},
   "outputs": [],
   "source": []
  },
  {
   "cell_type": "code",
   "execution_count": null,
   "id": "645efcb6-eb26-4e68-b757-768e461d75d2",
   "metadata": {},
   "outputs": [],
   "source": []
  },
  {
   "cell_type": "code",
   "execution_count": null,
   "id": "7960eb22-6d5a-478d-ae2b-7313d61d601f",
   "metadata": {},
   "outputs": [],
   "source": []
  },
  {
   "cell_type": "code",
   "execution_count": null,
   "id": "6581ba6c-a002-4d46-91bd-1f7953f24f03",
   "metadata": {},
   "outputs": [],
   "source": []
  },
  {
   "cell_type": "code",
   "execution_count": null,
   "id": "a5ddb88a-132e-44ad-98a7-ef2889b90fc4",
   "metadata": {},
   "outputs": [],
   "source": []
  },
  {
   "cell_type": "code",
   "execution_count": null,
   "id": "ce6944a2-6a7e-4f31-a1d3-ea519703ddf0",
   "metadata": {},
   "outputs": [],
   "source": []
  },
  {
   "cell_type": "code",
   "execution_count": null,
   "id": "e02f22be-8e15-4438-b6f0-89171f2cbd55",
   "metadata": {},
   "outputs": [],
   "source": []
  },
  {
   "cell_type": "code",
   "execution_count": null,
   "id": "1347debe-d3e6-435c-9419-7c83319ea167",
   "metadata": {},
   "outputs": [],
   "source": []
  },
  {
   "cell_type": "code",
   "execution_count": null,
   "id": "3a4d87d4-a7ea-4926-b1f6-98b57ef14353",
   "metadata": {},
   "outputs": [],
   "source": []
  },
  {
   "cell_type": "code",
   "execution_count": null,
   "id": "e6c8c4f5-ccca-4503-ab99-41e81d18576b",
   "metadata": {},
   "outputs": [],
   "source": []
  },
  {
   "cell_type": "code",
   "execution_count": null,
   "id": "7ee706df-4370-4da5-a142-b95c9437caca",
   "metadata": {},
   "outputs": [],
   "source": []
  },
  {
   "cell_type": "code",
   "execution_count": null,
   "id": "e9009881-91b6-499d-be9e-5b00becf893f",
   "metadata": {},
   "outputs": [],
   "source": []
  },
  {
   "cell_type": "code",
   "execution_count": null,
   "id": "6bf8902d-f3a0-48ad-becb-b99163059561",
   "metadata": {},
   "outputs": [],
   "source": []
  },
  {
   "cell_type": "code",
   "execution_count": null,
   "id": "04b33b98-b54f-4513-a552-da8cdd53c97c",
   "metadata": {},
   "outputs": [],
   "source": []
  },
  {
   "cell_type": "code",
   "execution_count": null,
   "id": "c5eca2f0-33d0-4cff-bc46-04ef2ec87b31",
   "metadata": {},
   "outputs": [],
   "source": []
  },
  {
   "cell_type": "markdown",
   "id": "11836593-dc92-44d0-953c-46ac17571473",
   "metadata": {
    "jp-MarkdownHeadingCollapsed": true
   },
   "source": [
    "\n",
    "# File Handling – Text & Binary Files\n",
    "\n",
    "**Q:1 Count the number of lines in a file without loading it entirely.**\n",
    "\n",
    "**Q:2 Replace a specific word in a file and save it to a new file.**\n",
    "\n",
    "**Q:3 Append data to an existing file with a timestamp.**\n",
    "\n",
    "**Q:4 Read and print the first 10 lines of a file.**\n",
    "\n",
    "**Q:5 Write a list of dictionaries as CSV manually (without csv module).**\n",
    "\n",
    "**Q:6 Copy a binary file in chunks (e.g., image or PDF).**\n",
    "\n",
    "**Q:7 Write a function to compare two files and print the differing lines.**\n",
    "\n",
    "**Q:8 Safely read a file that may not exist using try-except.**\n",
    "\n",
    "**Q:9 Read a file using a specific encoding (e.g., UTF-16).**\n",
    "\n",
    "**Q:10 Detect and skip empty lines when reading a file.**\n",
    "\n",
    "**Q:11 Implement a log rotation mechanism: create log.txt, log_1.txt, etc. when size exceeds 1MB.**\n",
    "\n",
    "**Q:12 Build a file-based key-value store using JSON per line.**\n",
    "\n",
    "**Q:13 Implement version control: on every write, back up the previous version with a timestamp.**\n",
    "\n",
    "**Q:14 Create a reader that detects encoding using chardet or fallback encoding.**\n",
    "\n",
    "**Q:15 Convert a large log file into separate files per date based on timestamps in each line.**\n"
   ]
  },
  {
   "cell_type": "code",
   "execution_count": null,
   "id": "cd9fca21-d1a6-43c9-a323-ac90a2d11f00",
   "metadata": {},
   "outputs": [],
   "source": []
  },
  {
   "cell_type": "code",
   "execution_count": null,
   "id": "973c8888-d4f2-4ef3-a557-935b1c0153f9",
   "metadata": {},
   "outputs": [],
   "source": []
  },
  {
   "cell_type": "code",
   "execution_count": null,
   "id": "0366559c-111f-43cd-b9cf-d5a0a57951ac",
   "metadata": {},
   "outputs": [],
   "source": []
  },
  {
   "cell_type": "code",
   "execution_count": null,
   "id": "5aeb7999-c659-452c-a71f-7f49ca9f1893",
   "metadata": {},
   "outputs": [],
   "source": []
  },
  {
   "cell_type": "code",
   "execution_count": null,
   "id": "53751a3c-9427-4fe1-97b4-ecc3646dd2b6",
   "metadata": {},
   "outputs": [],
   "source": []
  },
  {
   "cell_type": "code",
   "execution_count": null,
   "id": "f66f88dd-9e32-44fa-acc1-d5099df1cfea",
   "metadata": {},
   "outputs": [],
   "source": []
  },
  {
   "cell_type": "code",
   "execution_count": null,
   "id": "03611855-540e-4c06-b88a-9818bd7c4e1f",
   "metadata": {},
   "outputs": [],
   "source": []
  },
  {
   "cell_type": "code",
   "execution_count": null,
   "id": "cd9c5d25-b370-48a7-b94d-5d0cf1c2747e",
   "metadata": {},
   "outputs": [],
   "source": []
  },
  {
   "cell_type": "code",
   "execution_count": null,
   "id": "e0ec443e-67c2-4aae-bf45-61348919674a",
   "metadata": {},
   "outputs": [],
   "source": []
  },
  {
   "cell_type": "code",
   "execution_count": null,
   "id": "9711969f-5301-4867-b7b9-dba59247ca48",
   "metadata": {},
   "outputs": [],
   "source": []
  },
  {
   "cell_type": "code",
   "execution_count": null,
   "id": "432c9462-d5ca-4f95-953c-15c9c7136de9",
   "metadata": {},
   "outputs": [],
   "source": []
  },
  {
   "cell_type": "code",
   "execution_count": null,
   "id": "80361657-7f56-4534-b5f6-b7eee56ecc67",
   "metadata": {},
   "outputs": [],
   "source": []
  },
  {
   "cell_type": "code",
   "execution_count": null,
   "id": "9a72e9a6-e186-4d1d-b8b5-f52b3b781d59",
   "metadata": {},
   "outputs": [],
   "source": []
  },
  {
   "cell_type": "code",
   "execution_count": null,
   "id": "9876fee2-bf07-4bc1-aee4-e7720ee401bd",
   "metadata": {},
   "outputs": [],
   "source": []
  },
  {
   "cell_type": "code",
   "execution_count": null,
   "id": "3c941d47-d2a4-473e-b853-798bccd0d1d2",
   "metadata": {},
   "outputs": [],
   "source": []
  },
  {
   "cell_type": "markdown",
   "id": "49b7b4dc-a5af-49a8-b1a6-2629376ed791",
   "metadata": {
    "jp-MarkdownHeadingCollapsed": true
   },
   "source": [
    "\n",
    "# JSON Handling – json module\n",
    "\n",
    "**Q:1 Load JSON from a file and print a nested field (e.g., data[\"user\"][\"name\"]).**\n",
    "\n",
    "**Q:2 Write a Python dict to a file with pretty formatting.**\n",
    "\n",
    "**Q:3 Merge multiple JSON objects into a single file.**\n",
    "\n",
    "**Q:4 Convert a JSON array into CSV format.**\n",
    "\n",
    "**Q:5 Update a nested key inside a loaded JSON.**\n",
    "\n",
    "**Q:6 Create a function to pretty-print JSON from string input.**\n",
    "\n",
    "**Q:7 Safely load malformed JSON with exception handling.**\n",
    "\n",
    "**Q:8 Remove a key from each item in a JSON list and re-save.**\n",
    "\n",
    "**Q:9 Convert an object with datetime to a JSON string using a custom encoder.**\n",
    "\n",
    "**Q:10 Search for all values associated with a key in nested JSON.**\n",
    "\n",
    "**Q:11 Write a function to flatten deeply nested JSON into a flat dictionary.**\n",
    "\n",
    "**Q:12 Build a recursive JSON validator for required schema keys.**\n",
    "\n",
    "**Q:13 Convert a nested JSON into a pandas DataFrame with normalized columns.**\n",
    "\n",
    "**Q:14 Create a diff tool that compares two JSON files and shows key-level changes.**\n",
    "\n",
    "**Q:15 Handle and fix trailing commas in malformed JSON before parsing.**\n",
    "\n"
   ]
  },
  {
   "cell_type": "code",
   "execution_count": null,
   "id": "96ed1e4b-4790-418d-ba76-3fd3697603c6",
   "metadata": {},
   "outputs": [],
   "source": []
  },
  {
   "cell_type": "code",
   "execution_count": null,
   "id": "a945a883-853d-412f-b1eb-4696b812d624",
   "metadata": {},
   "outputs": [],
   "source": []
  },
  {
   "cell_type": "code",
   "execution_count": null,
   "id": "bea19279-5e6b-4e2b-8b55-5f1afa5bf4d4",
   "metadata": {},
   "outputs": [],
   "source": []
  },
  {
   "cell_type": "code",
   "execution_count": null,
   "id": "47d69ea5-4a78-48b2-83e2-c02b21be9c58",
   "metadata": {},
   "outputs": [],
   "source": []
  },
  {
   "cell_type": "code",
   "execution_count": null,
   "id": "44ca8311-ecec-4810-a343-fef73c3fdda4",
   "metadata": {},
   "outputs": [],
   "source": []
  },
  {
   "cell_type": "code",
   "execution_count": null,
   "id": "0ea9a5f6-031c-49d3-bbc5-165459650667",
   "metadata": {},
   "outputs": [],
   "source": []
  },
  {
   "cell_type": "code",
   "execution_count": null,
   "id": "c29b99d1-d6e9-4fca-9c86-c9c62cb3d03b",
   "metadata": {},
   "outputs": [],
   "source": []
  },
  {
   "cell_type": "code",
   "execution_count": null,
   "id": "b3708f19-a270-4366-bd8e-6044a70d2989",
   "metadata": {},
   "outputs": [],
   "source": []
  },
  {
   "cell_type": "code",
   "execution_count": null,
   "id": "c4462486-b8a9-492b-8c85-415a6869ac9d",
   "metadata": {},
   "outputs": [],
   "source": []
  },
  {
   "cell_type": "code",
   "execution_count": null,
   "id": "b5a38e81-21a8-4534-bf38-b56e602348cb",
   "metadata": {},
   "outputs": [],
   "source": []
  },
  {
   "cell_type": "code",
   "execution_count": null,
   "id": "edeaed10-eec5-450f-a8bb-ab3d9c200aa8",
   "metadata": {},
   "outputs": [],
   "source": []
  },
  {
   "cell_type": "code",
   "execution_count": null,
   "id": "719153bf-475c-404e-ab37-4df1bae3355d",
   "metadata": {},
   "outputs": [],
   "source": []
  },
  {
   "cell_type": "code",
   "execution_count": null,
   "id": "e3306548-70c6-4a3b-8977-93d0f632d2e7",
   "metadata": {},
   "outputs": [],
   "source": []
  },
  {
   "cell_type": "code",
   "execution_count": null,
   "id": "c22e231e-9fd0-41ea-a70d-0d0095e4665e",
   "metadata": {},
   "outputs": [],
   "source": []
  },
  {
   "cell_type": "code",
   "execution_count": null,
   "id": "a9fb0524-fa1d-4cc8-99e6-c52f55e6f085",
   "metadata": {},
   "outputs": [],
   "source": []
  },
  {
   "cell_type": "markdown",
   "id": "3083804d-5685-4ed0-852d-40333ae26433",
   "metadata": {
    "jp-MarkdownHeadingCollapsed": true
   },
   "source": [
    "    \n",
    "# Regular Expressions – re module\n",
    "\n",
    "**Q:1 Extract email addresses from a string using re.findall().**\n",
    "\n",
    "**Q:2 Validate a US phone number using regex.**\n",
    "\n",
    "**Q:3 Extract hashtags from a tweet-like string.**\n",
    "\n",
    "**Q:4 Replace all numbers with # in a paragraph.**\n",
    "\n",
    "**Q:5 Match filenames with extension .pdf, .docx, or .xlsx.**\n",
    "\n",
    "**Q:6 Split a paragraph into sentences using regex.**\n",
    "\n",
    "**Q:7 Match a date in the format DD-MM-YYYY or YYYY/MM/DD.**\n",
    "\n",
    "**Q:8 Extract quoted strings from text (e.g., \"like this\").**\n",
    "\n",
    "**Q:9 Clean a text by removing special characters except alphanumerics and spaces.**\n",
    "\n",
    "**Q:10 Capture repeated words like the the, is is in a sentence.**\n",
    "\n",
    "**Q:11 Write a regex that extracts values from key-value pairs (key: value) even if keys contain spaces.**\n",
    "\n",
    "**Q:12 Extract nested parentheses using recursive regex (advanced feature).**\n",
    "\n",
    "**Q:13 Create a regex to detect and fix malformed URLs in a text block.**\n",
    "\n",
    "**Q:14 Build a pattern to extract address-like strings (e.g., 123 Main St, City, ZIP).**\n",
    "\n",
    "**Q:15 Tokenize a log line into timestamp, level, and message using regex groups.**"
   ]
  },
  {
   "cell_type": "code",
   "execution_count": null,
   "id": "f26db1f6-d95e-4acf-9865-f30af739bdec",
   "metadata": {},
   "outputs": [],
   "source": []
  },
  {
   "cell_type": "code",
   "execution_count": null,
   "id": "9df5434d-35b9-4115-b333-ace145a2bdda",
   "metadata": {},
   "outputs": [],
   "source": []
  },
  {
   "cell_type": "code",
   "execution_count": null,
   "id": "661df70d-da86-4263-9964-a6ac85f13087",
   "metadata": {},
   "outputs": [],
   "source": []
  },
  {
   "cell_type": "code",
   "execution_count": null,
   "id": "b0d06c91-2baa-4cc3-b919-d5b66e479ce1",
   "metadata": {},
   "outputs": [],
   "source": []
  },
  {
   "cell_type": "code",
   "execution_count": null,
   "id": "47b77dc7-10d4-4dd3-bff1-96221bf711cb",
   "metadata": {},
   "outputs": [],
   "source": []
  },
  {
   "cell_type": "code",
   "execution_count": null,
   "id": "56308ae4-1cba-4d32-93a3-6c0b6ec54047",
   "metadata": {},
   "outputs": [],
   "source": []
  },
  {
   "cell_type": "code",
   "execution_count": null,
   "id": "506b8c6c-eb88-4d2a-9ca9-a1f1fb3ace9f",
   "metadata": {},
   "outputs": [],
   "source": []
  },
  {
   "cell_type": "code",
   "execution_count": null,
   "id": "8ae3d300-1edc-48ed-8989-5a324c4e6a5c",
   "metadata": {},
   "outputs": [],
   "source": []
  },
  {
   "cell_type": "code",
   "execution_count": null,
   "id": "a2451580-9fd8-4352-95dc-712a1bc956f5",
   "metadata": {},
   "outputs": [],
   "source": []
  },
  {
   "cell_type": "code",
   "execution_count": null,
   "id": "8ddb494a-144b-4a43-8213-519acf6e04a2",
   "metadata": {},
   "outputs": [],
   "source": []
  },
  {
   "cell_type": "code",
   "execution_count": null,
   "id": "1f66d7a7-5d04-41d0-b569-28c958a0c8c3",
   "metadata": {},
   "outputs": [],
   "source": []
  }
 ],
 "metadata": {
  "kernelspec": {
   "display_name": "Python 3 (ipykernel)",
   "language": "python",
   "name": "python3"
  },
  "language_info": {
   "codemirror_mode": {
    "name": "ipython",
    "version": 3
   },
   "file_extension": ".py",
   "mimetype": "text/x-python",
   "name": "python",
   "nbconvert_exporter": "python",
   "pygments_lexer": "ipython3",
   "version": "3.12.3"
  }
 },
 "nbformat": 4,
 "nbformat_minor": 5
}
