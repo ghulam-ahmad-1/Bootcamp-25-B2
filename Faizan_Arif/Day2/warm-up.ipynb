{
 "cells": [
  {
   "cell_type": "markdown",
   "id": "9e44e77d",
   "metadata": {},
   "source": [
    "Problem Statement:\n",
    " Write a function that compresses a string using the counts of repeated characters.\n",
    " If the compressed string is not smaller than the original, return the original.\n",
    "Example:\n",
    "Input: \"aaabbccccaaa\"\n",
    "Output: \"a3b2c4a3\"Input: \"abc\"\n",
    "Output: \"abc\""
   ]
  },
  {
   "cell_type": "code",
   "execution_count": 2,
   "id": "54da255e",
   "metadata": {},
   "outputs": [
    {
     "name": "stdout",
     "output_type": "stream",
     "text": [
      "3a2b1c\n",
      "4w3a1d1e6x\n"
     ]
    }
   ],
   "source": [
    "def run_length_encoding(str1):\n",
    "    if not str1:\n",
    "        return \"\"\n",
    "\n",
    "    encoded = []\n",
    "    count = 1\n",
    "    for i in range(1, len(str1)):\n",
    "        if str1[i] == str1[i - 1]:\n",
    "            count += 1\n",
    "        else:\n",
    "            encoded.append(f\"{count}{str1[i - 1]}\")\n",
    "            count = 1\n",
    "\n",
    "    encoded.append(f\"{count}{str1[-1]}\")\n",
    "    return ''.join(encoded)\n",
    "\n",
    "\n",
    "string1 = \"aaabbc\" \n",
    "print(run_length_encoding(string1))\n",
    "\n",
    "\n",
    "string1 =  \"wwwwaaadexxxxxx\"\n",
    "print(run_length_encoding(string1))"
   ]
  },
  {
   "cell_type": "markdown",
   "id": "79ccf812",
   "metadata": {},
   "source": [
    "Problem Statement:\n",
    " Write a function to flatten a nested list of strings\n",
    "Example:\n",
    "input = [ 'nata', 'pizza' [ 'eat', 'tea' ], ['sort'] ]output [ nata', 'pizza' , ‘eat', 'tea', 'sort']"
   ]
  },
  {
   "cell_type": "code",
   "execution_count": 3,
   "id": "bd163e90",
   "metadata": {},
   "outputs": [
    {
     "name": "stdout",
     "output_type": "stream",
     "text": [
      "[1, 2, 3, 4]\n",
      "['a', 'b', 'c', 'd']\n"
     ]
    }
   ],
   "source": [
    "def flatten_list(arr):\n",
    "    arr1 = []\n",
    "    for item in arr:\n",
    "        if isinstance(item, list):\n",
    "            arr1.extend(flatten_list(item))\n",
    "        else:\n",
    "            arr1.append(item)\n",
    "    return arr1\n",
    "\n",
    "list1 = [[1, 2, [3]], 4]\n",
    "print(flatten_list(list1))\n",
    "\n",
    "list1 = [[\"a\", [\"b\", \"c\"]], \"d\"]\n",
    "print(flatten_list(list1))"
   ]
  },
  {
   "cell_type": "markdown",
   "id": "2b654d1e",
   "metadata": {},
   "source": [
    "Problem Statement:\n",
    " Given a list of strings, group them into anagrams (words with the same letters in different order).\n",
    "Example:\n",
    "Input: [\"bat\", \"tab\", \"eat\", \"tea\", \"tan\", \"nat\"]\n",
    "Output: [['bat', 'tab'], ['eat', 'tea'], ['tan', 'nat']]"
   ]
  },
  {
   "cell_type": "code",
   "execution_count": 17,
   "id": "1218c86b",
   "metadata": {},
   "outputs": [
    {
     "name": "stdout",
     "output_type": "stream",
     "text": [
      "[['bat', 'tab'], ['eat', 'tea'], ['tan', 'nat']]\n"
     ]
    }
   ],
   "source": [
    "from collections import defaultdict\n",
    "\n",
    "def group_anagrams(arr1):\n",
    "\n",
    "    anagram_dict = defaultdict(list)\n",
    "    for s in arr1:\n",
    "        sorted_s = \"\".join(sorted(s))\n",
    "        anagram_dict[sorted_s].append(s)\n",
    "    return list(anagram_dict.values())\n",
    "\n",
    "\n",
    "list1 =  [\"bat\", \"tab\", \"eat\", \"tea\", \"tan\", \"nat\"]\n",
    "print(group_anagrams(list1))"
   ]
  },
  {
   "cell_type": "markdown",
   "id": "465e6f47",
   "metadata": {},
   "source": [
    "Problem Statement:\n",
    " Write a function that takes a string and returns the top 3 most frequent words in it (ignoring case and punctuation).\n",
    "Example:\n",
    "Input: \"The quick brown fox jumps over the lazy dog. The dog barked.\"\n",
    "Output: ['the', 'dog', 'quick']  # frequency: the(3), dog(2), quick(1) (edited) "
   ]
  },
  {
   "cell_type": "code",
   "execution_count": 22,
   "id": "2cbe6b82",
   "metadata": {},
   "outputs": [
    {
     "name": "stdout",
     "output_type": "stream",
     "text": [
      "['the', 'dog', 'barked']\n"
     ]
    }
   ],
   "source": [
    "from collections import defaultdict\n",
    "\n",
    "def group_anagrams(str1):\n",
    "    \n",
    "    str1 = str1.lower()\n",
    "    str1 = str1.replace('.', '')\n",
    "    str1 = str1.replace(',', '')\n",
    "    str1 = str1.replace(\"''\", '')\n",
    "    d1 = defaultdict(list)\n",
    "    #print(str1)\n",
    "    for s in str1.split():\n",
    "        if s in d1:\n",
    "            d1[s] += 1\n",
    "        else:\n",
    "            d1[s] = 1\n",
    "    #print(d1)\n",
    "    d2 = {k: v for k, v in sorted(d1.items(), key=lambda item: item[1])}\n",
    "    #print(d2)\n",
    "    d3 = list(d2.keys())[-3:]\n",
    "    d3.reverse()\n",
    "    return d3\n",
    "\n",
    "str1 =  \"The quick brown fox jumps over the lazy dog. The dog barked.\"\n",
    "print(group_anagrams(str1))"
   ]
  },
  {
   "cell_type": "code",
   "execution_count": null,
   "id": "f333f75a",
   "metadata": {},
   "outputs": [],
   "source": []
  }
 ],
 "metadata": {
  "kernelspec": {
   "display_name": "Python 3 (ipykernel)",
   "language": "python",
   "name": "python3"
  },
  "language_info": {
   "codemirror_mode": {
    "name": "ipython",
    "version": 3
   },
   "file_extension": ".py",
   "mimetype": "text/x-python",
   "name": "python",
   "nbconvert_exporter": "python",
   "pygments_lexer": "ipython3",
   "version": "3.12.3"
  }
 },
 "nbformat": 4,
 "nbformat_minor": 5
}
