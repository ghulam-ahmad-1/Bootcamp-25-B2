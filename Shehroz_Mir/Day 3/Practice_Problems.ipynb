{
 "cells": [
  {
   "cell_type": "markdown",
   "id": "6bdac30a-0104-4d84-8f22-43ebb83102be",
   "metadata": {},
   "source": [
    "**Problem Statement:\n",
    "Write a function that compresses a string using the counts of repeated characters.\n",
    "If the compressed string is not smaller than the original, return the original.**\n",
    "\n",
    "Example:\n",
    "\n",
    "**Input: \"aaabbccccaaa\"\n",
    "Output: \"a3b2c4a3\"**\n",
    "\n",
    "**Input: \"abc\"\n",
    "Output: \"abc\"**\n",
    "\n",
    "--------------------------------"
   ]
  },
  {
   "cell_type": "code",
   "execution_count": 1,
   "id": "391696b0-fbd8-415b-87c2-fce1ee8efb99",
   "metadata": {},
   "outputs": [],
   "source": [
    "def compress_string(s):\n",
    "    result = \"\"\n",
    "    for char in s:\n",
    "        if char not in result:\n",
    "            result += char\n",
    "    return result"
   ]
  },
  {
   "cell_type": "code",
   "execution_count": 2,
   "id": "ac373e7b-8742-4661-9118-bc9669a3fe94",
   "metadata": {},
   "outputs": [
    {
     "data": {
      "text/plain": [
       "'abc'"
      ]
     },
     "execution_count": 2,
     "metadata": {},
     "output_type": "execute_result"
    }
   ],
   "source": [
    "compress_string(\"aaabbcccaaa\")"
   ]
  },
  {
   "cell_type": "code",
   "execution_count": 3,
   "id": "b835679f-ed64-41ec-afee-6462617df1ba",
   "metadata": {},
   "outputs": [
    {
     "data": {
      "text/plain": [
       "'abc'"
      ]
     },
     "execution_count": 3,
     "metadata": {},
     "output_type": "execute_result"
    }
   ],
   "source": [
    "compress_string(\"abc\")"
   ]
  },
  {
   "cell_type": "markdown",
   "id": "e4988c0b-fdbe-4f29-bd6f-856cc287250c",
   "metadata": {},
   "source": [
    "## Problem: Flatten a Nested List of Strings\n",
    "\n",
    "**Problem Statement:**  \n",
    "Write a function that takes a nested list of strings and returns a flattened list containing all the strings.\n",
    "\n",
    "**Example:**\n",
    "\n",
    "```python\n",
    "# Input\n",
    "input_list = ['nata', 'pizza', ['eat', 'tea'], ['sort']]\n",
    "\n",
    "# Output\n",
    "['nata', 'pizza', 'eat', 'tea', 'sort']\n"
   ]
  },
  {
   "cell_type": "code",
   "execution_count": 10,
   "id": "f5937762-b7fe-45ad-b7df-22984260615c",
   "metadata": {},
   "outputs": [],
   "source": [
    "def flatten_list(input):\n",
    "    \n",
    "    result = []\n",
    "    for i, elem in enumerate(input):\n",
    "        if isinstance(elem, list):\n",
    "                result += elem\n",
    "                #result.extend(elem)\n",
    "        else:\n",
    "            result.append(elem)\n",
    "    return result"
   ]
  },
  {
   "cell_type": "code",
   "execution_count": 11,
   "id": "cbb9b3ac-f1df-45f3-acfd-f6c042a2e08c",
   "metadata": {},
   "outputs": [
    {
     "data": {
      "text/plain": [
       "['nata', 'pizza', 'eat', 'tea', 'sort']"
      ]
     },
     "execution_count": 11,
     "metadata": {},
     "output_type": "execute_result"
    }
   ],
   "source": [
    "flatten_list(['nata', 'pizza', ['eat', 'tea'], ['sort']])"
   ]
  },
  {
   "cell_type": "code",
   "execution_count": 12,
   "id": "2fa380a4-2886-43e8-8869-7c64aa89a66e",
   "metadata": {},
   "outputs": [
    {
     "data": {
      "text/plain": [
       "['nata', 'pizza', 'eat', 'tea', 'sort']"
      ]
     },
     "execution_count": 12,
     "metadata": {},
     "output_type": "execute_result"
    }
   ],
   "source": [
    "flatten_list(['nata', 'pizza', 'eat', 'tea', 'sort'])"
   ]
  },
  {
   "cell_type": "markdown",
   "id": "df06ecbe-33ae-40df-ac60-06d094cb5e2a",
   "metadata": {},
   "source": [
    "### Problem Statement:\n",
    "Given a list of strings, group them into anagrams (words with the same letters in different order).\n",
    "\n",
    "### Example:\n",
    "**Input:**  \n",
    "[\"bat\", \"tab\", \"eat\", \"tea\", \"tan\", \"nat\"]\n",
    "\n",
    "**Output:**  \n",
    "[['bat', 'tab'], ['eat', 'tea'], ['tan', 'nat']]\n"
   ]
  },
  {
   "cell_type": "code",
   "execution_count": 13,
   "id": "6628aa89-e8f7-4d60-aeb8-f6fe12d9d3ce",
   "metadata": {},
   "outputs": [
    {
     "name": "stdout",
     "output_type": "stream",
     "text": [
      "[['bat', 'tab'], ['eat', 'tea'], ['tan', 'nat']]\n"
     ]
    }
   ],
   "source": [
    "from collections import defaultdict\n",
    "\n",
    "def group_anagrams(words):\n",
    "    anagram_dict = defaultdict(list)\n",
    "    for word in words:\n",
    "        key = ''.join(sorted(word))\n",
    "        anagram_dict[key].append(word)\n",
    "    return list(anagram_dict.values())\n",
    "\n",
    "# Example usage\n",
    "words = [\"bat\", \"tab\", \"eat\", \"tea\", \"tan\", \"nat\"]\n",
    "print(group_anagrams(words))\n"
   ]
  },
  {
   "cell_type": "markdown",
   "id": "35e55aae-7790-4fe4-bf59-925879318900",
   "metadata": {},
   "source": [
    "Q4"
   ]
  },
  {
   "cell_type": "code",
   "execution_count": 14,
   "id": "67c186be-6718-4478-a491-0c9ce66e8450",
   "metadata": {},
   "outputs": [
    {
     "name": "stdout",
     "output_type": "stream",
     "text": [
      "['the', 'dog', 'quick']\n"
     ]
    }
   ],
   "source": [
    "import re\n",
    "from collections import Counter\n",
    "\n",
    "def top_3_words(text):\n",
    "    words = re.findall(r'\\b\\w+\\b', text.lower())\n",
    "    counts = Counter(words)\n",
    "    return [word for word, _ in counts.most_common(3)]\n",
    "\n",
    "# Example usage\n",
    "text = \"The quick brown fox jumps over the lazy dog. The dog barked.\"\n",
    "print(top_3_words(text))\n"
   ]
  },
  {
   "cell_type": "code",
   "execution_count": null,
   "id": "bf29ab2d-436e-4cb6-8a01-8d6416d6d876",
   "metadata": {},
   "outputs": [],
   "source": []
  }
 ],
 "metadata": {
  "kernelspec": {
   "display_name": "Python 3 (ipykernel)",
   "language": "python",
   "name": "python3"
  },
  "language_info": {
   "codemirror_mode": {
    "name": "ipython",
    "version": 3
   },
   "file_extension": ".py",
   "mimetype": "text/x-python",
   "name": "python",
   "nbconvert_exporter": "python",
   "pygments_lexer": "ipython3",
   "version": "3.12.7"
  }
 },
 "nbformat": 4,
 "nbformat_minor": 5
}
