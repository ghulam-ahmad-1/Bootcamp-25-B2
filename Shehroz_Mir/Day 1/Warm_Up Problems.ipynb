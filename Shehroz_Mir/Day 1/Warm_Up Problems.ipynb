{
 "cells": [
  {
   "cell_type": "markdown",
   "id": "60588136-e223-439d-841c-87d86c26bef1",
   "metadata": {},
   "source": [
    "Task: Group words that are anagrams of each other.\n",
    "\n",
    "**Input: [\"bat\", \"tab\", \"tap\", \"pat\", \"cat\"]**\n",
    "\n",
    "**Output: [[\"bat\", \"tab\"], [\"tap\", \"pat\"], [\"cat\"]]**"
   ]
  },
  {
   "cell_type": "code",
   "execution_count": null,
   "id": "dccce2ee-856c-4335-91e5-cb94cb581398",
   "metadata": {},
   "outputs": [],
   "source": [
    "input = [\"bat\", \"tab\", \"tap\", \"pat\", \"cat\"]\n",
    "\n",
    "for elem in range(elem + 1, len(input)):\n",
    "    for word in input:\n",
    "        if sorted(word) == sorted(input[elem + 1]):\n",
    "            \n",
    "        "
   ]
  },
  {
   "cell_type": "code",
   "execution_count": 2,
   "id": "0206d336-16a7-4dde-a851-a2da75e23a4d",
   "metadata": {},
   "outputs": [
    {
     "name": "stdout",
     "output_type": "stream",
     "text": [
      "[['bat', 'tab'], ['tap', 'pat'], ['cat']]\n"
     ]
    }
   ],
   "source": [
    "# Task 1: Group words that are anagrams of each other\n",
    "def group_anagram_words(word_list):\n",
    "    groups = {}  \n",
    "    for word in word_list:\n",
    "        sorted_word = ''.join(sorted(word))\n",
    "        if sorted_word not in groups:\n",
    "            groups[sorted_word] = [word]\n",
    "        else:\n",
    "            groups[sorted_word].append(word)\n",
    "    return list(groups.values())\n",
    "\n",
    "\n",
    "# Example usage\n",
    "result = group_anagram_words([\"bat\", \"tab\", \"tap\", \"pat\", \"cat\"])\n",
    "print(result)"
   ]
  },
  {
   "cell_type": "code",
   "execution_count": 5,
   "id": "15e0f2c3-c59b-4b6a-b3e7-29d4ef41d108",
   "metadata": {},
   "outputs": [
    {
     "ename": "SyntaxError",
     "evalue": "invalid syntax (2396111264.py, line 9)",
     "output_type": "error",
     "traceback": [
      "\u001b[1;36m  Cell \u001b[1;32mIn[5], line 9\u001b[1;36m\u001b[0m\n\u001b[1;33m    print(&quot;Original Matrix:&quot;)\u001b[0m\n\u001b[1;37m          ^\u001b[0m\n\u001b[1;31mSyntaxError\u001b[0m\u001b[1;31m:\u001b[0m invalid syntax\n"
     ]
    }
   ],
   "source": [
    "matrix = [\n",
    "    [1, 2, 3],\n",
    "    [4, 5, 6],\n",
    "    [7, 8, 9]\n",
    "]\n",
    "\n",
    "transposed = [[row[i] for row in matrix] for i in range(len(matrix[0]))]\n",
    "\n",
    "print(&quot;Original Matrix:&quot;)\n",
    "for row in matrix:\n",
    "    print(row)\n",
    "\n",
    "print(&quot;\\nTransposed Matrix:&quot;)\n",
    "for row in transposed:\n",
    "    print(row)"
   ]
  },
  {
   "cell_type": "code",
   "execution_count": null,
   "id": "49f3c933-c7bc-4310-974f-4489b5449d55",
   "metadata": {},
   "outputs": [],
   "source": []
  }
 ],
 "metadata": {
  "kernelspec": {
   "display_name": "Python 3 (ipykernel)",
   "language": "python",
   "name": "python3"
  },
  "language_info": {
   "codemirror_mode": {
    "name": "ipython",
    "version": 3
   },
   "file_extension": ".py",
   "mimetype": "text/x-python",
   "name": "python",
   "nbconvert_exporter": "python",
   "pygments_lexer": "ipython3",
   "version": "3.12.7"
  }
 },
 "nbformat": 4,
 "nbformat_minor": 5
}
