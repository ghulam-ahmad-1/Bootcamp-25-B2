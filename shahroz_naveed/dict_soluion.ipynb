{
 "cells": [
  {
   "cell_type": "markdown",
   "id": "1f48d5c9",
   "metadata": {},
   "source": [
    "# 1. Create a Dictionary from Two Lists\n",
    "\n",
    "## Problem Statement:\n",
    "Write a function to create a dictionary from two lists of equal length, one for keys and one for values.\n",
    "\n",
    "## Example 1:\n",
    "**Input:** `keys = ['a', 'b'], values = [1, 2]`  \n",
    "**Output:** `{'a': 1, 'b': 2}`\n",
    "\n",
    "## Example 2:\n",
    "**Input:** `keys = ['x'], values = [10]`  \n",
    "**Output:** `{'x': 10}`\n"
   ]
  },
  {
   "cell_type": "code",
   "execution_count": 1,
   "id": "3ea65a39",
   "metadata": {},
   "outputs": [
    {
     "name": "stdout",
     "output_type": "stream",
     "text": [
      "{'a': 1, 'b': 2}\n",
      "{'x': 10}\n"
     ]
    }
   ],
   "source": [
    "def create_dict(keys, values):\n",
    "    result = {}\n",
    "    for i in range(len(keys)):\n",
    "        result[keys[i]] = values[i]\n",
    "    return result\n",
    "\n",
    "print(create_dict(['a', 'b'], [1, 2]))\n",
    "print(create_dict(['x'], [10]))\n"
   ]
  },
  {
   "cell_type": "code",
   "execution_count": null,
   "id": "116d7f17",
   "metadata": {},
   "outputs": [],
   "source": []
  },
  {
   "cell_type": "markdown",
   "id": "9016196e",
   "metadata": {},
   "source": [
    "# 2. Merge Two Dictionaries\n",
    "\n",
    "## Problem Statement:\n",
    "Write a function to merge two dictionaries into one.\n",
    "\n",
    "## Example 1:\n",
    "**Input:** `{'a': 1}, {'b': 2}`  \n",
    "**Output:** `{'a': 1, 'b': 2}`\n",
    "\n",
    "## Example 2:\n",
    "**Input:** `{'x': 10}, {'y': 20, 'z': 30}`  \n",
    "**Output:** `{'x': 10, 'y': 20, 'z': 30}`\n"
   ]
  },
  {
   "cell_type": "code",
   "execution_count": 2,
   "id": "5ee5d659",
   "metadata": {},
   "outputs": [
    {
     "name": "stdout",
     "output_type": "stream",
     "text": [
      "{'a': 1, 'b': 2}\n",
      "{'x': 10, 'y': 20, 'z': 30}\n"
     ]
    }
   ],
   "source": [
    "def merge_dicts(d1, d2):\n",
    "    result = {}\n",
    "    for k in d1:\n",
    "        result[k] = d1[k]\n",
    "    for k in d2:\n",
    "        result[k] = d2[k]\n",
    "    return result\n",
    "\n",
    "print(merge_dicts({'a': 1}, {'b': 2}))\n",
    "print(merge_dicts({'x': 10}, {'y': 20, 'z': 30}))\n",
    "\n"
   ]
  },
  {
   "cell_type": "code",
   "execution_count": null,
   "id": "d9d7b5b2",
   "metadata": {},
   "outputs": [],
   "source": []
  },
  {
   "cell_type": "markdown",
   "id": "c6526c5c",
   "metadata": {},
   "source": [
    "# 3. Check if Key Exists\n",
    "\n",
    "## Problem Statement:\n",
    "Write a function to check if a specific key exists in a dictionary.\n",
    "\n",
    "## Example 1:\n",
    "**Input:** `{'a': 1}, 'a'`  \n",
    "**Output:** `True`\n",
    "\n",
    "## Example 2:\n",
    "**Input:** `{'b': 2}, 'a'`  \n",
    "**Output:** `False`\n"
   ]
  },
  {
   "cell_type": "code",
   "execution_count": 3,
   "id": "a04fa909",
   "metadata": {},
   "outputs": [
    {
     "name": "stdout",
     "output_type": "stream",
     "text": [
      "True\n",
      "False\n"
     ]
    }
   ],
   "source": [
    "def key_exists(d, key):\n",
    "    return key in d\n",
    "\n",
    "print(key_exists({'a': 1}, 'a'))\n",
    "print(key_exists({'b': 2}, 'a'))\n"
   ]
  },
  {
   "cell_type": "code",
   "execution_count": null,
   "id": "b1ef4e37",
   "metadata": {},
   "outputs": [],
   "source": []
  },
  {
   "cell_type": "markdown",
   "id": "e72c9a22",
   "metadata": {},
   "source": [
    "# 4. Count Frequency of Elements\n",
    "\n",
    "## Problem Statement:\n",
    "Write a function to count the frequency of each element in a list using a dictionary.\n",
    "\n",
    "## Example 1:\n",
    "**Input:** `[1,2,2,3]`  \n",
    "**Output:** `{1:1, 2:2, 3:1}`\n",
    "\n",
    "## Example 2:\n",
    "**Input:** `['a','b','a']`  \n",
    "**Output:** `{'a':2, 'b':1}`\n",
    "\n",
    "\n"
   ]
  },
  {
   "cell_type": "code",
   "execution_count": 4,
   "id": "31fd888e",
   "metadata": {},
   "outputs": [
    {
     "name": "stdout",
     "output_type": "stream",
     "text": [
      "{1: 1, 2: 2, 3: 1}\n",
      "{'a': 2, 'b': 1}\n"
     ]
    }
   ],
   "source": [
    "def count_frequency(lst):\n",
    "    freq = {}\n",
    "    for x in lst:\n",
    "        if x in freq:\n",
    "            freq[x] += 1\n",
    "        else:\n",
    "            freq[x] = 1\n",
    "    return freq\n",
    "\n",
    "print(count_frequency([1, 2, 2, 3]))\n",
    "print(count_frequency(['a', 'b', 'a']))\n"
   ]
  },
  {
   "cell_type": "code",
   "execution_count": null,
   "id": "ad5808ba",
   "metadata": {},
   "outputs": [],
   "source": []
  },
  {
   "cell_type": "markdown",
   "id": "c1b74aa9",
   "metadata": {},
   "source": [
    "# 5. Reverse Dictionary (Unique Values)\n",
    "\n",
    "## Problem Statement:\n",
    "Write a function to reverse keys and values in a dictionary. Assume values are unique.\n",
    "\n",
    "## Example 1:\n",
    "**Input:** `{'a':1, 'b':2}`  \n",
    "**Output:** `{1:'a', 2:'b'}`\n",
    "\n",
    "## Example 2:\n",
    "**Input:** `{'x':'y'}`  \n",
    "**Output:** `{'y':'x'}`\n"
   ]
  },
  {
   "cell_type": "code",
   "execution_count": 5,
   "id": "df0a31ed",
   "metadata": {},
   "outputs": [
    {
     "name": "stdout",
     "output_type": "stream",
     "text": [
      "{1: 'a', 2: 'b'}\n",
      "{'y': 'x'}\n"
     ]
    }
   ],
   "source": [
    "def reverse_dict(d):\n",
    "    result = {}\n",
    "    for k in d:\n",
    "        result[d[k]] = k\n",
    "    return result\n",
    "\n",
    "print(reverse_dict({'a': 1, 'b': 2}))\n",
    "print(reverse_dict({'x': 'y'}))\n"
   ]
  },
  {
   "cell_type": "code",
   "execution_count": null,
   "id": "ba3b7a1a",
   "metadata": {},
   "outputs": [],
   "source": []
  },
  {
   "cell_type": "markdown",
   "id": "bfc01a37",
   "metadata": {},
   "source": [
    "# 6. Dictionary with Maximum Value\n",
    "\n",
    "## Problem Statement:\n",
    "Write a function that returns the key with the highest value in a dictionary.\n",
    "\n",
    "## Example 1:\n",
    "**Input:** `{'a':3, 'b':10}`  \n",
    "**Output:** `'b'`\n",
    "\n",
    "## Example 2:\n",
    "**Input:** `{'x':1, 'y':-5}`  \n",
    "**Output:** `'x'`\n"
   ]
  },
  {
   "cell_type": "code",
   "execution_count": 6,
   "id": "3ebfad1c",
   "metadata": {},
   "outputs": [
    {
     "name": "stdout",
     "output_type": "stream",
     "text": [
      "b\n",
      "x\n"
     ]
    }
   ],
   "source": [
    "def key_with_max_value(d):\n",
    "    max_key = None\n",
    "    max_value = None\n",
    "    for k in d:\n",
    "        if max_value is None or d[k] > max_value:\n",
    "            max_value = d[k]\n",
    "            max_key = k\n",
    "    return max_key\n",
    "\n",
    "print(key_with_max_value({'a': 3, 'b': 10}))\n",
    "print(key_with_max_value({'x': 1, 'y': -5}))\n"
   ]
  },
  {
   "cell_type": "code",
   "execution_count": null,
   "id": "2aead54f",
   "metadata": {},
   "outputs": [],
   "source": []
  },
  {
   "cell_type": "markdown",
   "id": "2df1f7ab",
   "metadata": {},
   "source": [
    "# 7. Remove Key from Dictionary\n",
    "\n",
    "## Problem Statement:\n",
    "Write a function that removes a specified key from a dictionary.\n",
    "\n",
    "## Example 1:\n",
    "**Input:** `{'a':1, 'b':2}, 'a'`  \n",
    "**Output:** `{'b':2}`\n",
    "\n",
    "## Example 2:\n",
    "**Input:** `{'x':3, 'y':4}, 'z'`  \n",
    "**Output:** `{'x':3, 'y':4}`\n"
   ]
  },
  {
   "cell_type": "code",
   "execution_count": 7,
   "id": "ebc9c007",
   "metadata": {},
   "outputs": [
    {
     "name": "stdout",
     "output_type": "stream",
     "text": [
      "{'b': 2}\n",
      "{'x': 3, 'y': 4}\n"
     ]
    }
   ],
   "source": [
    "def remove_key(d, key):\n",
    "    result = {}\n",
    "    for k in d:\n",
    "        if k != key:\n",
    "            result[k] = d[k]\n",
    "    return result\n",
    "\n",
    "print(remove_key({'a': 1, 'b': 2}, 'a'))\n",
    "print(remove_key({'x': 3, 'y': 4}, 'z'))\n"
   ]
  },
  {
   "cell_type": "code",
   "execution_count": null,
   "id": "4c042f24",
   "metadata": {},
   "outputs": [],
   "source": []
  },
  {
   "cell_type": "markdown",
   "id": "542b30d7",
   "metadata": {},
   "source": [
    "# 8. Dictionary from String\n",
    "\n",
    "## Problem Statement:\n",
    "Write a function to count the occurrences of each character in a given string using a dictionary.\n",
    "\n",
    "## Example 1:\n",
    "**Input:** `\"hello\"`  \n",
    "**Output:** `{'h':1,'e':1,'l':2,'o':1}`\n",
    "\n",
    "## Example 2:\n",
    "**Input:** `\"abc\"`  \n",
    "**Output:** `{'a':1,'b':1,'c':1}`\n",
    "\n",
    "\n"
   ]
  },
  {
   "cell_type": "code",
   "execution_count": 8,
   "id": "1a0604ff",
   "metadata": {},
   "outputs": [
    {
     "name": "stdout",
     "output_type": "stream",
     "text": [
      "{'h': 1, 'e': 1, 'l': 2, 'o': 1}\n",
      "{'a': 1, 'b': 1, 'c': 1}\n"
     ]
    }
   ],
   "source": [
    "def char_count(s):\n",
    "    result = {}\n",
    "    for c in s:\n",
    "        if c in result:\n",
    "            result[c] += 1\n",
    "        else:\n",
    "            result[c] = 1\n",
    "    return result\n",
    "\n",
    "print(char_count(\"hello\"))\n",
    "print(char_count(\"abc\"))\n"
   ]
  },
  {
   "cell_type": "markdown",
   "id": "b8bb6168",
   "metadata": {},
   "source": [
    "# 9. Update Value in Dictionary\n",
    "\n",
    "## Problem Statement:\n",
    "Write a function to update a value associated with a given key in a dictionary.\n",
    "\n",
    "## Example 1:\n",
    "**Input:** `{'a':1}, 'a', 100`  \n",
    "**Output:** `{'a':100}`\n",
    "\n",
    "## Example 2:\n",
    "**Input:** `{'x':10}, 'y', 20`  \n",
    "**Output:** `{'x':10, 'y':20}`\n"
   ]
  },
  {
   "cell_type": "code",
   "execution_count": 9,
   "id": "7a8a617e",
   "metadata": {},
   "outputs": [
    {
     "name": "stdout",
     "output_type": "stream",
     "text": [
      "{'a': 100}\n",
      "{'x': 10, 'y': 20}\n"
     ]
    }
   ],
   "source": [
    "def update_value(d, key, value):\n",
    "    d[key] = value\n",
    "    return d\n",
    "\n",
    "print(update_value({'a': 1}, 'a', 100))\n",
    "print(update_value({'x': 10}, 'y', 20))\n"
   ]
  },
  {
   "cell_type": "code",
   "execution_count": null,
   "id": "1345099a",
   "metadata": {},
   "outputs": [],
   "source": []
  },
  {
   "cell_type": "markdown",
   "id": "8b580e88",
   "metadata": {},
   "source": [
    "# 10. Sort Dictionary by Values\n",
    "\n",
    "## Problem Statement:\n",
    "Write a function to sort a dictionary by values in ascending order.\n",
    "\n",
    "## Example 1:\n",
    "**Input:** `{'a':3, 'b':1}`  \n",
    "**Output:** `{'b':1, 'a':3}`\n",
    "\n",
    "## Example 2:\n",
    "**Input:** `{'x':4,'y':2}`  \n",
    "**Output:** `{'y':2, 'x':4}`\n"
   ]
  },
  {
   "cell_type": "code",
   "execution_count": 10,
   "id": "4cfc1e2c",
   "metadata": {},
   "outputs": [
    {
     "name": "stdout",
     "output_type": "stream",
     "text": [
      "{'b': 1, 'a': 3}\n",
      "{'y': 2, 'x': 4}\n"
     ]
    }
   ],
   "source": [
    "def sort_by_value(d):\n",
    "    items = list(d.items())\n",
    "    for i in range(len(items)):\n",
    "        for j in range(i + 1, len(items)):\n",
    "            if items[i][1] > items[j][1]:\n",
    "                items[i], items[j] = items[j], items[i]\n",
    "    result = {}\n",
    "    for k, v in items:\n",
    "        result[k] = v\n",
    "    return result\n",
    "\n",
    "print(sort_by_value({'a': 3, 'b': 1}))\n",
    "print(sort_by_value({'x': 4, 'y': 2}))\n"
   ]
  },
  {
   "cell_type": "code",
   "execution_count": null,
   "id": "deac7ba4",
   "metadata": {},
   "outputs": [],
   "source": []
  },
  {
   "cell_type": "markdown",
   "id": "923a13f3",
   "metadata": {},
   "source": [
    "# 11. Dictionary Intersection\n",
    "\n",
    "## Problem Statement:\n",
    "Write a function that returns a dictionary containing keys common to two dictionaries with values from the first dictionary.\n",
    "\n",
    "## Example 1:\n",
    "**Input:** `{'a':1, 'b':2}, {'b':4, 'c':3}`  \n",
    "**Output:** `{'b':2}`\n",
    "\n",
    "## Example 2:\n",
    "**Input:** `{'x':5}, {'y':5}`  \n",
    "**Output:** `{}`\n"
   ]
  },
  {
   "cell_type": "code",
   "execution_count": 11,
   "id": "463eed21",
   "metadata": {},
   "outputs": [
    {
     "name": "stdout",
     "output_type": "stream",
     "text": [
      "{'b': 2}\n",
      "{}\n"
     ]
    }
   ],
   "source": [
    "def dict_intersection(d1, d2):\n",
    "    result = {}\n",
    "    for k in d1:\n",
    "        if k in d2:\n",
    "            result[k] = d1[k]\n",
    "    return result\n",
    "\n",
    "print(dict_intersection({'a': 1, 'b': 2}, {'b': 4, 'c': 3}))\n",
    "print(dict_intersection({'x': 5}, {'y': 5}))\n"
   ]
  },
  {
   "cell_type": "code",
   "execution_count": null,
   "id": "8ea06653",
   "metadata": {},
   "outputs": [],
   "source": []
  },
  {
   "cell_type": "markdown",
   "id": "328b85be",
   "metadata": {},
   "source": [
    "# 14. Filter Dictionary by Values\n",
    "\n",
    "## Problem Statement:\n",
    "Write a function to filter a dictionary, keeping only items where the value is greater than a given number.\n",
    "\n",
    "## Example 1:\n",
    "**Input:** `{'a':5, 'b':2, 'c':8}, 4`  \n",
    "**Output:** `{'a':5, 'c':8}`\n",
    "\n",
    "## Example 2:\n",
    "**Input:** `{'x':1, 'y':3}, 2`  \n",
    "**Output:** `{'y':3}`\n"
   ]
  },
  {
   "cell_type": "code",
   "execution_count": 12,
   "id": "58e19b37",
   "metadata": {},
   "outputs": [
    {
     "name": "stdout",
     "output_type": "stream",
     "text": [
      "{'a': 5, 'c': 8}\n",
      "{'y': 3}\n"
     ]
    }
   ],
   "source": [
    "def filter_by_value(d, threshold):\n",
    "    result = {}\n",
    "    for k in d:\n",
    "        if d[k] > threshold:\n",
    "            result[k] = d[k]\n",
    "    return result\n",
    "\n",
    "print(filter_by_value({'a': 5, 'b': 2, 'c': 8}, 4))\n",
    "print(filter_by_value({'x': 1, 'y': 3}, 2))\n"
   ]
  },
  {
   "cell_type": "code",
   "execution_count": null,
   "id": "55c9884b",
   "metadata": {},
   "outputs": [],
   "source": []
  },
  {
   "cell_type": "markdown",
   "id": "b37b6bd2",
   "metadata": {},
   "source": [
    "# 16. Dictionary from List of Tuples\n",
    "\n",
    "## Problem Statement:\n",
    "Write a function that converts a list of tuples into a dictionary, combining values for duplicate keys into lists.\n",
    "\n",
    "## Example 1:\n",
    "**Input:** `[('a',1), ('b',2), ('a',3)]`  \n",
    "**Output:** `{'a':[1,3], 'b':[2]}`\n",
    "\n",
    "## Example 2:\n",
    "**Input:** `[('x',4)]`  \n",
    "**Output:** `{'x':[4]}`\n"
   ]
  },
  {
   "cell_type": "code",
   "execution_count": 13,
   "id": "0cabcc36",
   "metadata": {},
   "outputs": [
    {
     "name": "stdout",
     "output_type": "stream",
     "text": [
      "{'a': [1, 3], 'b': [2]}\n",
      "{'x': [4]}\n"
     ]
    }
   ],
   "source": [
    "def tuples_to_dict(tuples):\n",
    "    result = {}\n",
    "    for k, v in tuples:\n",
    "        if k in result:\n",
    "            result[k].append(v)\n",
    "        else:\n",
    "            result[k] = [v]\n",
    "    return result\n",
    "\n",
    "print(tuples_to_dict([('a', 1), ('b', 2), ('a', 3)]))\n",
    "print(tuples_to_dict([('x', 4)]))\n"
   ]
  },
  {
   "cell_type": "code",
   "execution_count": null,
   "id": "1ba92174",
   "metadata": {},
   "outputs": [],
   "source": []
  },
  {
   "cell_type": "markdown",
   "id": "a2f6a871",
   "metadata": {},
   "source": [
    "# 17. Increment Dictionary Values\n",
    "\n",
    "## Problem Statement:\n",
    "Write a function to increment all integer values in a dictionary by a specified number.\n",
    "\n",
    "## Example 1:\n",
    "**Input:** `{'a':1, 'b':2}, 3`  \n",
    "**Output:** `{'a':4, 'b':5}`\n",
    "\n",
    "## Example 2:\n",
    "**Input:** `{'x':10}, -2`  \n",
    "**Output:** `{'x':8}`\n"
   ]
  },
  {
   "cell_type": "code",
   "execution_count": 14,
   "id": "2cae3f6e",
   "metadata": {},
   "outputs": [
    {
     "name": "stdout",
     "output_type": "stream",
     "text": [
      "{'a': 4, 'b': 5}\n",
      "{'x': 8}\n"
     ]
    }
   ],
   "source": [
    "def increment_values(d, n):\n",
    "    return {k: d[k] + n for k in d}\n",
    "\n",
    "print(increment_values({'a': 1, 'b': 2}, 3))\n",
    "print(increment_values({'x': 10}, -2))\n"
   ]
  },
  {
   "cell_type": "code",
   "execution_count": null,
   "id": "5a8c4696",
   "metadata": {},
   "outputs": [],
   "source": []
  },
  {
   "cell_type": "markdown",
   "id": "1a4997f3",
   "metadata": {},
   "source": [
    "# 18. Find Duplicates in List Using Dictionary\n",
    "\n",
    "## Problem Statement:\n",
    "Write a function to find all elements that appear more than once in a list, using a dictionary.\n",
    "\n",
    "## Example 1:\n",
    "**Input:** `[1,2,2,3,4,4,4]`  \n",
    "**Output:** `[2,4]`\n",
    "\n",
    "## Example 2:\n",
    "**Input:** `['a','b','c','a']`  \n",
    "**Output:** `['a']`\n"
   ]
  },
  {
   "cell_type": "code",
   "execution_count": 16,
   "id": "35f77861",
   "metadata": {},
   "outputs": [
    {
     "name": "stdout",
     "output_type": "stream",
     "text": [
      "[2, 4]\n",
      "['a']\n"
     ]
    }
   ],
   "source": [
    "def find_duplicates(lst):\n",
    "    counts = {}\n",
    "    for x in lst:\n",
    "        counts[x] = counts.get(x, 0) + 1\n",
    "    dup = []\n",
    "    for x in lst:\n",
    "        if counts[x] > 1 and x not in dup:\n",
    "            dup.append(x)\n",
    "    return dup\n",
    "\n",
    "print(find_duplicates([1, 2, 2, 3, 4, 4, 4]))\n",
    "print(find_duplicates(['a', 'b', 'c', 'a']))\n"
   ]
  },
  {
   "cell_type": "code",
   "execution_count": null,
   "id": "e2d4570d",
   "metadata": {},
   "outputs": [],
   "source": []
  },
  {
   "cell_type": "markdown",
   "id": "37dab363",
   "metadata": {},
   "source": [
    "# 19. Merge Dictionaries Summing Values\n",
    "\n",
    "## Problem Statement:\n",
    "Write a function to merge two dictionaries, summing values for common keys.\n",
    "\n",
    "## Example 1:\n",
    "**Input:** `{'a':2, 'b':3}, {'a':3, 'c':1}`  \n",
    "**Output:** `{'a':5, 'b':3, 'c':1}`\n",
    "\n",
    "## Example 2:\n",
    "**Input:** `{'x':1}, {'x':-1}`  \n",
    "**Output:** `{'x':0}`\n"
   ]
  },
  {
   "cell_type": "code",
   "execution_count": 15,
   "id": "f6b073b2",
   "metadata": {},
   "outputs": [
    {
     "name": "stdout",
     "output_type": "stream",
     "text": [
      "[2, 4]\n",
      "['a']\n"
     ]
    }
   ],
   "source": [
    "def find_duplicates(lst):\n",
    "    counts = {}\n",
    "    for x in lst:\n",
    "        counts[x] = counts.get(x, 0) + 1\n",
    "    dup = []\n",
    "    for x in lst:\n",
    "        if counts[x] > 1 and x not in dup:\n",
    "            dup.append(x)\n",
    "    return dup\n",
    "\n",
    "print(find_duplicates([1, 2, 2, 3, 4, 4, 4]))\n",
    "print(find_duplicates(['a', 'b', 'c', 'a']))\n"
   ]
  },
  {
   "cell_type": "code",
   "execution_count": null,
   "id": "4931ea97",
   "metadata": {},
   "outputs": [],
   "source": []
  },
  {
   "cell_type": "markdown",
   "id": "01937f89",
   "metadata": {},
   "source": [
    "# 20. Dictionary of Lists to Dictionary of Sums\n",
    "\n",
    "## Problem Statement:\n",
    "Write a function to convert a dictionary of lists into a dictionary of sums.\n",
    "\n",
    "## Example 1:\n",
    "**Input:** `{'a':[1,2,3], 'b':[4,5]}`  \n",
    "**Output:** `{'a':6, 'b':9}`\n",
    "\n",
    "## Example 2:\n",
    "**Input:** `{'x':[10]}`  \n",
    "**Output:** `{'x':10}`\n"
   ]
  },
  {
   "cell_type": "code",
   "execution_count": null,
   "id": "02599144",
   "metadata": {},
   "outputs": [],
   "source": []
  },
  {
   "cell_type": "code",
   "execution_count": null,
   "id": "551ecc09",
   "metadata": {},
   "outputs": [],
   "source": []
  }
 ],
 "metadata": {
  "kernelspec": {
   "display_name": "Python 3 (ipykernel)",
   "language": "python",
   "name": "python3"
  },
  "language_info": {
   "codemirror_mode": {
    "name": "ipython",
    "version": 3
   },
   "file_extension": ".py",
   "mimetype": "text/x-python",
   "name": "python",
   "nbconvert_exporter": "python",
   "pygments_lexer": "ipython3",
   "version": "3.12.10"
  }
 },
 "nbformat": 4,
 "nbformat_minor": 5
}
