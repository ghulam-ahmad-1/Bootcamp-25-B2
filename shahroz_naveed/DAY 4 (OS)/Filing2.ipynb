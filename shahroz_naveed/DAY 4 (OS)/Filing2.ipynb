{
 "cells": [
  {
   "cell_type": "markdown",
   "id": "64d0c9e3-3656-4283-99df-33c0316c7908",
   "metadata": {},
   "source": [
    "# os module – File & Directory Operations\n",
    "\n",
    "**Q:1 Create, Read, Rename, Remove files and folder**\n",
    "\n",
    "**Q:1 Get the current working directory and navigate to a sibling directory**\n",
    "\n",
    "**Q:2 Recursively list all files in a directory using only os.**\n",
    "\n",
    "**Q:3 Check if a given path is a file, directory, or doesn't exist.**\n",
    "\n",
    "**Q:4 Create a deeply nested folder structure like**\n",
    "\n",
    "**Q:5 Delete all empty directories from a given folder tree.**\n",
    "\n",
    "**Q:6 Count the number of .txt files in a directory using os.listdir().**\n",
    "\n",
    "**Q:7 Move files from one folder to another, creating the destination if needed.**\n",
    "\n",
    "**Q:8 Rename all .log files to .log.bak within a folder.**\n",
    "\n",
    "**Q:9 Print the total size of all files in a directory in MB.**\n",
    "\n",
    "**Q:10 Print the directory tree with indentation (like the tree command).**\n",
    "\n",
    "**Q:11 Write a function that synchronizes the structure of two directory trees (mirror mode).**\n",
    "\n",
    "**Q:12 Implement a safe folder deletion function that first moves the folder to a Trash directory.**\n",
    "\n",
    "**Q13: Find and print the most recently modified file in a directory recursively.**\n",
    "\n",
    "**Q:14 Generate a directory report (file count, total size, subfolders) in JSON format.**\n",
    "\n",
    "**Q:15 Track changes (additions/removals) in a directory over time using file snapshots.**\n",
    "\n"
   ]
  },
  {
   "cell_type": "code",
   "execution_count": 5,
   "id": "0cb604f0-de66-4950-b150-3ea858f1ba9c",
   "metadata": {},
   "outputs": [],
   "source": [
    "# Question 1 "
   ]
  },
  {
   "cell_type": "code",
   "execution_count": 20,
   "id": "f696ccd3-5572-4ede-a2a7-dc369b00cdb5",
   "metadata": {},
   "outputs": [
    {
     "ename": "FileNotFoundError",
     "evalue": "[WinError 2] The system cannot find the file specified: 'Downloads'",
     "output_type": "error",
     "traceback": [
      "\u001b[1;31m---------------------------------------------------------------------------\u001b[0m",
      "\u001b[1;31mFileNotFoundError\u001b[0m                         Traceback (most recent call last)",
      "Cell \u001b[1;32mIn[20], line 1\u001b[0m\n\u001b[1;32m----> 1\u001b[0m \u001b[43mos\u001b[49m\u001b[38;5;241;43m.\u001b[39;49m\u001b[43mchdir\u001b[49m\u001b[43m(\u001b[49m\u001b[38;5;124;43m\"\u001b[39;49m\u001b[38;5;124;43mDownloads\u001b[39;49m\u001b[38;5;124;43m\"\u001b[39;49m\u001b[43m)\u001b[49m\n",
      "\u001b[1;31mFileNotFoundError\u001b[0m: [WinError 2] The system cannot find the file specified: 'Downloads'"
     ]
    }
   ],
   "source": [
    "os.chdir(\"Downloads\")"
   ]
  },
  {
   "cell_type": "code",
   "execution_count": 12,
   "id": "853a6f53-d90d-40ba-aac6-c2ed18b4c475",
   "metadata": {},
   "outputs": [],
   "source": [
    "import os\n",
    "os.mkdir(\"Datascience\")\n",
    "os.rename(\"Datascience\",'DS')\n",
    "os.remove(\"TITLE SEO TOOL.pdf\")"
   ]
  },
  {
   "cell_type": "markdown",
   "id": "63293778-080a-436a-aa46-6512d5a750ec",
   "metadata": {},
   "source": [
    "**Question 2**"
   ]
  },
  {
   "cell_type": "code",
   "execution_count": 14,
   "id": "d8eb7dab-27de-4fc9-95a0-659083d0dbde",
   "metadata": {},
   "outputs": [
    {
     "name": "stdout",
     "output_type": "stream",
     "text": [
      "C:\\Users\\Microsoft\\Downloads\n"
     ]
    }
   ],
   "source": [
    "import os\n",
    "print(os.getcwd())\n",
    "os.chdir(\"DS\")"
   ]
  },
  {
   "cell_type": "code",
   "execution_count": 15,
   "id": "d3de0b42-c67e-49e2-b0d9-225e9d3f9a91",
   "metadata": {},
   "outputs": [
    {
     "name": "stdout",
     "output_type": "stream",
     "text": [
      "Current: C:\\Users\\Microsoft\\Downloads\\DS\n",
      "Now in: C:\\Users\\Microsoft\\Downloads\\Datascience\n"
     ]
    }
   ],
   "source": [
    "import os\n",
    "\n",
    "cwd = os.getcwd()\n",
    "print(\"Current:\", cwd)\n",
    "\n",
    "sibling_dir = os.path.join(os.path.dirname(cwd), \"Datascience\")\n",
    "os.chdir(sibling_dir)\n",
    "\n",
    "print(\"Now in:\", os.getcwd())\n"
   ]
  },
  {
   "cell_type": "markdown",
   "id": "9e4abef8-008c-4918-80ae-8782b4675495",
   "metadata": {},
   "source": [
    "**Question 3**"
   ]
  },
  {
   "cell_type": "code",
   "execution_count": 22,
   "id": "9375de53-f7e0-4781-a449-6ad8eab91288",
   "metadata": {},
   "outputs": [
    {
     "name": "stdout",
     "output_type": "stream",
     "text": [
      "DS\\string_solution.ipynb\n",
      "DS\\g\\dict_solution hamza.ipynb\n"
     ]
    }
   ],
   "source": [
    "import os\n",
    "\n",
    "for root, dirs, files in os.walk(\"DS\"):\n",
    "    for file in files:\n",
    "        print(os.path.join(root, file))\n"
   ]
  },
  {
   "cell_type": "markdown",
   "id": "f5d00e51-0ccc-43d3-a0cd-d5054caf1b44",
   "metadata": {},
   "source": [
    "**QUESTION 4**"
   ]
  },
  {
   "cell_type": "code",
   "execution_count": 23,
   "id": "884d3c8b-83ac-47d9-9989-0df5c9d694d2",
   "metadata": {},
   "outputs": [
    {
     "name": "stdout",
     "output_type": "stream",
     "text": [
      "It's a file\n"
     ]
    }
   ],
   "source": [
    "import os\n",
    "\n",
    "path = \"Dict.ipynb\"\n",
    "\n",
    "if os.path.isfile(path):\n",
    "    print(\"It's a file\")\n",
    "elif os.path.isdir(path):\n",
    "    print(\"It's a directory\")\n",
    "else:\n",
    "    print(\"Path does not exist\")\n"
   ]
  },
  {
   "cell_type": "code",
   "execution_count": 50,
   "id": "1fe3144f-c8f8-464b-b0b0-c83a0079d9b4",
   "metadata": {},
   "outputs": [
    {
     "data": {
      "text/plain": [
       "False"
      ]
     },
     "execution_count": 50,
     "metadata": {},
     "output_type": "execute_result"
    }
   ],
   "source": [
    "os.path.exists(\"string_solution.ipynb\")"
   ]
  },
  {
   "cell_type": "markdown",
   "id": "5b6cd2fc-7278-4192-a1c5-bc74931ceb2b",
   "metadata": {},
   "source": [
    "**QUESTION 5**"
   ]
  },
  {
   "cell_type": "code",
   "execution_count": 25,
   "id": "73e2337b-6b7b-49fe-9931-d7c591bc141b",
   "metadata": {},
   "outputs": [],
   "source": [
    "os.makedirs(\"a/b/c/d\", exist_ok=True)\n"
   ]
  },
  {
   "cell_type": "code",
   "execution_count": 59,
   "id": "7b41c41b-7da5-45e5-bfdd-476e72724bcb",
   "metadata": {},
   "outputs": [
    {
     "data": {
      "text/plain": [
       "['Filing.ipynb',\n",
       " 'list_solution (1).ipynb',\n",
       " 'ml2',\n",
       " 'Numpy_solution day_3.ipynb',\n",
       " 'pandas-solution_day_3.ipynb']"
      ]
     },
     "execution_count": 59,
     "metadata": {},
     "output_type": "execute_result"
    }
   ],
   "source": []
  },
  {
   "cell_type": "code",
   "execution_count": 26,
   "id": "26b0a2bb-3b00-4100-b845-86d5624a98c7",
   "metadata": {},
   "outputs": [],
   "source": [
    "import os\n",
    "\n",
    "for root, dirs, files in os.walk(\"a\", topdown=False):\n",
    "    for d in dirs:\n",
    "        path = os.path.join(root, d)\n",
    "        if not os.listdir(path):\n",
    "            os.rmdir(path)\n"
   ]
  },
  {
   "cell_type": "code",
   "execution_count": null,
   "id": "04406f76-8c61-422d-b1dc-082d6b359127",
   "metadata": {},
   "outputs": [],
   "source": []
  },
  {
   "cell_type": "code",
   "execution_count": 33,
   "id": "1a2e636e-228e-43e5-8c2a-27b465e9f994",
   "metadata": {},
   "outputs": [
    {
     "name": "stdout",
     "output_type": "stream",
     "text": [
      "Total .txt files: 0\n"
     ]
    }
   ],
   "source": [
    "import os\n",
    "\n",
    "count = 0\n",
    "for f in os.listdir(\"DS\"):\n",
    "    if f.endswith(\".txt\"):\n",
    "        count += 1\n",
    "print(\"Total .txt files:\", count)\n"
   ]
  },
  {
   "cell_type": "code",
   "execution_count": null,
   "id": "ae90520a-7168-4c28-ba04-e38cf6969d2c",
   "metadata": {},
   "outputs": [],
   "source": []
  },
  {
   "cell_type": "code",
   "execution_count": 34,
   "id": "0ab3825a-334a-4720-a341-f0ea1543e7d0",
   "metadata": {},
   "outputs": [],
   "source": [
    "import os\n",
    "import shutil\n",
    "\n",
    "src = \"DS\"\n",
    "dst = \"destination_folder\"\n",
    "\n",
    "os.makedirs(dst, exist_ok=True)  \n",
    "\n",
    "for file in os.listdir(src):\n",
    "    src_path = os.path.join(src, file)\n",
    "    dst_path = os.path.join(dst, file)\n",
    "    if os.path.isfile(src_path):\n",
    "        shutil.move(src_path, dst_path)\n"
   ]
  },
  {
   "cell_type": "code",
   "execution_count": null,
   "id": "96b7d7a2-9ca3-41b0-9a2d-1c25512f9d40",
   "metadata": {},
   "outputs": [],
   "source": []
  },
  {
   "cell_type": "code",
   "execution_count": 35,
   "id": "e93ae0bf-78d0-4fb0-8a3e-df9e29b0596c",
   "metadata": {},
   "outputs": [],
   "source": [
    "import os\n",
    "\n",
    "folder = \"DS\"\n",
    "\n",
    "for file in os.listdir(folder):\n",
    "    if file.endswith(\".log\"):\n",
    "        old = os.path.join(folder, file)\n",
    "        new = os.path.join(folder, file + \".bak\")\n",
    "        os.rename(old, new)\n"
   ]
  },
  {
   "cell_type": "code",
   "execution_count": 35,
   "id": "bcae7c21-f818-47ef-8175-00a73c084169",
   "metadata": {},
   "outputs": [],
   "source": []
  },
  {
   "cell_type": "code",
   "execution_count": 37,
   "id": "0ccac44d-6df9-4a22-b8d5-4f32b7389620",
   "metadata": {},
   "outputs": [
    {
     "name": "stdout",
     "output_type": "stream",
     "text": [
      "Total size: 0.69 MB\n"
     ]
    }
   ],
   "source": [
    "import os\n",
    "\n",
    "folder = \"DS\"\n",
    "total_size = 0\n",
    "\n",
    "for file in os.listdir(folder):\n",
    "    path = os.path.join(folder, file)\n",
    "    if os.path.isfile(path):\n",
    "        size = os.path.getsize(path)\n",
    "        total_size += size\n",
    "\n",
    "# Convert to MB\n",
    "mb = total_size / (1024 * 1024)\n",
    "print(\"Total size:\", round(mb, 2), \"MB\")\n"
   ]
  },
  {
   "cell_type": "code",
   "execution_count": 35,
   "id": "e7f740ab-490c-49ba-8731-7ef0daecf3a9",
   "metadata": {},
   "outputs": [],
   "source": []
  },
  {
   "cell_type": "code",
   "execution_count": 44,
   "id": "1e7364c9-90c3-4f24-a0ce-99bd8959a130",
   "metadata": {},
   "outputs": [
    {
     "name": "stdout",
     "output_type": "stream",
     "text": [
      "|-- auth.log.bak\n",
      "|-- Bootcamp Road Map.pdf\n",
      "|-- dict (1).ipynb\n",
      "|-- dict_soluion.ipynb\n",
      "|-- Filing sol.ipynb\n",
      "|-- Filing.ipynb\n",
      "|-- g\n",
      "    |-- dict_solution hamza.ipynb\n",
      "|-- Hassaan Hanif Resume.pdf\n",
      "|-- Lec-3.01(NumPy-01-ArrayCreation).ipynb\n",
      "|-- list.ipynb\n",
      "|-- list_solution (1).ipynb\n",
      "|-- list_solution.ipynb\n",
      "|-- muneeb akram cv (1).pdf\n",
      "|-- Numpy_solution day_3.ipynb\n",
      "|-- pandas-questions.ipynb\n",
      "|-- pandas-solution_day_3.ipynb\n",
      "|-- string.ipynb\n",
      "|-- Untitled-1.ipynb\n",
      "|-- warmup_day3.ipynb\n"
     ]
    }
   ],
   "source": [
    "import os\n",
    "\n",
    "def print_tree(path, indent=\"\"):\n",
    "    for item in os.listdir(path):\n",
    "        full_path = os.path.join(path, item)\n",
    "        print(indent + \"|-- \" + item)\n",
    "        if os.path.isdir(full_path):\n",
    "            print_tree(full_path, indent + \"    \")\n",
    "\n",
    "# Use your desired folder path\n",
    "print_tree(\"DS\")\n"
   ]
  },
  {
   "cell_type": "code",
   "execution_count": 35,
   "id": "dfde3c9d-80d4-46e2-9c0d-1b66ffcc2c71",
   "metadata": {},
   "outputs": [],
   "source": []
  },
  {
   "cell_type": "code",
   "execution_count": 35,
   "id": "430c976b-7e2a-402f-ab4f-6f6369225901",
   "metadata": {},
   "outputs": [],
   "source": []
  },
  {
   "cell_type": "code",
   "execution_count": 35,
   "id": "95e6def7-3368-4f99-a6cc-ec9ffff61ea4",
   "metadata": {},
   "outputs": [],
   "source": []
  },
  {
   "cell_type": "code",
   "execution_count": 35,
   "id": "c48603e5-f6d5-4cc8-9d15-c93fbddfe891",
   "metadata": {},
   "outputs": [],
   "source": []
  },
  {
   "cell_type": "code",
   "execution_count": 35,
   "id": "7ad1b835-8693-444e-aacd-7759daff655a",
   "metadata": {},
   "outputs": [],
   "source": []
  },
  {
   "cell_type": "code",
   "execution_count": 35,
   "id": "c7157fe1-d9ef-476a-b443-cceee725211c",
   "metadata": {},
   "outputs": [],
   "source": []
  },
  {
   "cell_type": "markdown",
   "id": "5791d390-e204-4c7a-8169-792bf6d02fd1",
   "metadata": {},
   "source": [
    "\n",
    "# glob module – Pattern Matching\n",
    "\n",
    "**Q:1 List all .csv and .json files in the current directory.**\n",
    "\n",
    "**Q:2 Recursively find all .jpg files in nested folders.**\n",
    "\n",
    "**Q:3 Use glob to count files grouped by extension.**\n",
    "\n",
    "**Q:4 Find files with names matching pattern report_*.txt.**\n",
    "\n",
    "**Q:5 Replace spaces with underscores in filenames found via glob.**\n",
    "\n",
    "**Q:6 Return all files with a date in the format 2025-06-*.log.**\n",
    "\n",
    "**Q:7 List all files with numeric names only (e.g., 123.txt).**\n",
    "\n",
    "**Q:8 Use glob to sort files by last modified time.**\n",
    "\n",
    "**Q:9 Find all .txt files larger than 100KB using glob and os.**\n",
    "\n",
    "**Q:10 Batch rename files with a custom suffix _archived.**\n",
    "\n",
    "**Q:11 Create a utility that indexes all media files and stores the paths in a SQLite DB.**\n",
    "\n",
    "**Q:12 Find duplicate filenames (regardless of path) across a directory tree.**\n",
    "\n",
    "**Q:13 Generate a file manifest with relative paths and hash (MD5) of contents.**\n",
    "\n",
    "**Q14: Use glob patterns dynamically to extract weekly reports (e.g., week_01.json, week_02.json).**\n",
    "\n",
    "**Q:15 Write a recursive file crawler that ignores folders listed in a .ignore file.**\n"
   ]
  },
  {
   "cell_type": "code",
   "execution_count": 47,
   "id": "e086f083-8cf2-409a-99bc-423710252c8b",
   "metadata": {},
   "outputs": [
    {
     "name": "stdout",
     "output_type": "stream",
     "text": [
      "CSV files: []\n",
      "JSON files: []\n"
     ]
    }
   ],
   "source": [
    "import glob\n",
    "\n",
    "csv_files = glob.glob(\"*.csv\")\n",
    "json_files = glob.glob(\"*.json\")\n",
    "\n",
    "print(\"CSV files:\", csv_files)\n",
    "print(\"JSON files:\", json_files)\n"
   ]
  },
  {
   "cell_type": "code",
   "execution_count": 50,
   "id": "645efcb6-eb26-4e68-b757-768e461d75d2",
   "metadata": {},
   "outputs": [
    {
     "name": "stdout",
     "output_type": "stream",
     "text": [
      "[]\n"
     ]
    }
   ],
   "source": [
    "jpg_files = glob.glob(\"**/*.jpg\", recursive=True)\n",
    "print(jpg_files)"
   ]
  },
  {
   "cell_type": "code",
   "execution_count": 51,
   "id": "7960eb22-6d5a-478d-ae2b-7313d61d601f",
   "metadata": {},
   "outputs": [
    {
     "name": "stdout",
     "output_type": "stream",
     "text": [
      "{'.ipynb': 1, '.pdf': 1}\n"
     ]
    }
   ],
   "source": [
    "import os\n",
    "\n",
    "counts = {}\n",
    "\n",
    "for file in glob.glob(\"*.*\"):  \n",
    "    ext = os.path.splitext(file)[1]  \n",
    "    counts[ext] = counts.get(ext, 0) + 1\n",
    "\n",
    "print(counts)\n"
   ]
  },
  {
   "cell_type": "code",
   "execution_count": null,
   "id": "6581ba6c-a002-4d46-91bd-1f7953f24f03",
   "metadata": {},
   "outputs": [],
   "source": []
  },
  {
   "cell_type": "code",
   "execution_count": 52,
   "id": "a5ddb88a-132e-44ad-98a7-ef2889b90fc4",
   "metadata": {},
   "outputs": [
    {
     "name": "stdout",
     "output_type": "stream",
     "text": [
      "[]\n"
     ]
    }
   ],
   "source": [
    "\n",
    "files = glob.glob(\"report_*.txt\")\n",
    "print(files)\n"
   ]
  },
  {
   "cell_type": "code",
   "execution_count": null,
   "id": "ce6944a2-6a7e-4f31-a1d3-ea519703ddf0",
   "metadata": {},
   "outputs": [],
   "source": []
  },
  {
   "cell_type": "code",
   "execution_count": 53,
   "id": "e02f22be-8e15-4438-b6f0-89171f2cbd55",
   "metadata": {},
   "outputs": [],
   "source": [
    "import os\n",
    "\n",
    "for file in glob.glob(\"* *\"):  # matches files with spaces in the name\n",
    "    new_name = file.replace(\" \", \"_\")\n",
    "    os.rename(file, new_name)\n"
   ]
  },
  {
   "cell_type": "code",
   "execution_count": null,
   "id": "1347debe-d3e6-435c-9419-7c83319ea167",
   "metadata": {},
   "outputs": [],
   "source": []
  },
  {
   "cell_type": "code",
   "execution_count": 54,
   "id": "3a4d87d4-a7ea-4926-b1f6-98b57ef14353",
   "metadata": {},
   "outputs": [
    {
     "name": "stdout",
     "output_type": "stream",
     "text": [
      "[]\n"
     ]
    }
   ],
   "source": [
    "files = glob.glob(\"2025-06-*.log\")\n",
    "print(files)"
   ]
  },
  {
   "cell_type": "code",
   "execution_count": null,
   "id": "e6c8c4f5-ccca-4503-ab99-41e81d18576b",
   "metadata": {},
   "outputs": [],
   "source": []
  },
  {
   "cell_type": "code",
   "execution_count": 57,
   "id": "fd5c7427-6182-4408-9a22-724622c56ae8",
   "metadata": {},
   "outputs": [
    {
     "name": "stdout",
     "output_type": "stream",
     "text": [
      "['123.txt']\n"
     ]
    }
   ],
   "source": [
    "files = []\n",
    "for f in glob.glob(\"*.txt\"):\n",
    "    if os.path.splitext(f)[0].isdigit():\n",
    "        files.append(f)\n",
    "print(files)"
   ]
  },
  {
   "cell_type": "code",
   "execution_count": null,
   "id": "7f3fe541-2106-4b38-afca-bd3993e59ad9",
   "metadata": {},
   "outputs": [],
   "source": []
  },
  {
   "cell_type": "code",
   "execution_count": 58,
   "id": "fac53c1d-1016-407b-a812-9e3b8745f3d6",
   "metadata": {},
   "outputs": [
    {
     "name": "stdout",
     "output_type": "stream",
     "text": [
      "['dict.ipynb', 'Shahroz_Naveed_Resume_(2).pdf', 'a', 'destination_folder', 'DS', '123.txt']\n"
     ]
    }
   ],
   "source": [
    "files = glob.glob(\"*\")  # all files and folders\n",
    "files.sort(key=os.path.getmtime)\n",
    "\n",
    "print(files)"
   ]
  },
  {
   "cell_type": "code",
   "execution_count": null,
   "id": "a3337acf-1502-4a0b-9a07-93ec5ec8db9a",
   "metadata": {},
   "outputs": [],
   "source": []
  },
  {
   "cell_type": "code",
   "execution_count": 59,
   "id": "66a207b9-ed22-4e28-95cb-bb1fbee1efb6",
   "metadata": {},
   "outputs": [],
   "source": [
    "for file in glob.glob(\"*.txt\"):\n",
    "    if os.path.getsize(file) > 100 * 1024:  \n",
    "        print(file)"
   ]
  },
  {
   "cell_type": "code",
   "execution_count": null,
   "id": "7ee706df-4370-4da5-a142-b95c9437caca",
   "metadata": {},
   "outputs": [],
   "source": []
  },
  {
   "cell_type": "code",
   "execution_count": 61,
   "id": "e9009881-91b6-499d-be9e-5b00becf893f",
   "metadata": {},
   "outputs": [],
   "source": [
    "for file in glob.glob(\"*.*\"):  # all files with extensions\n",
    "    name, ext = os.path.splitext(file)\n",
    "    new_name = name + \"_archived\" + ext\n",
    "    os.rename(file, new_name)"
   ]
  },
  {
   "cell_type": "code",
   "execution_count": null,
   "id": "6bf8902d-f3a0-48ad-becb-b99163059561",
   "metadata": {},
   "outputs": [],
   "source": []
  },
  {
   "cell_type": "code",
   "execution_count": null,
   "id": "fd721db9-080a-495e-a6ba-318152b55387",
   "metadata": {},
   "outputs": [],
   "source": []
  },
  {
   "cell_type": "code",
   "execution_count": null,
   "id": "61375a0a-2dea-40e4-82b4-32d92b48b206",
   "metadata": {},
   "outputs": [],
   "source": []
  },
  {
   "cell_type": "code",
   "execution_count": null,
   "id": "5cf212cc-e0c8-40d2-9641-c22cfc09deac",
   "metadata": {},
   "outputs": [],
   "source": []
  },
  {
   "cell_type": "code",
   "execution_count": null,
   "id": "bafbb96e-24da-4aa0-905b-4a1b1a20b4b9",
   "metadata": {},
   "outputs": [],
   "source": []
  },
  {
   "cell_type": "code",
   "execution_count": null,
   "id": "bf4d8f57-a31c-4bc6-90df-12ed6994b24a",
   "metadata": {},
   "outputs": [],
   "source": []
  },
  {
   "cell_type": "code",
   "execution_count": null,
   "id": "04b33b98-b54f-4513-a552-da8cdd53c97c",
   "metadata": {},
   "outputs": [],
   "source": []
  },
  {
   "cell_type": "code",
   "execution_count": null,
   "id": "c5eca2f0-33d0-4cff-bc46-04ef2ec87b31",
   "metadata": {},
   "outputs": [],
   "source": []
  },
  {
   "cell_type": "markdown",
   "id": "11836593-dc92-44d0-953c-46ac17571473",
   "metadata": {},
   "source": [
    "\n",
    "# File Handling – Text & Binary Files\n",
    "\n",
    "**Q:1 Count the number of lines in a file without loading it entirely.**\n",
    "\n",
    "**Q:2 Replace a specific word in a file and save it to a new file.**\n",
    "\n",
    "**Q:3 Append data to an existing file with a timestamp.**\n",
    "\n",
    "**Q:4 Read and print the first 10 lines of a file.**\n",
    "\n",
    "**Q:5 Write a list of dictionaries as CSV manually (without csv module).**\n",
    "\n",
    "**Q:6 Copy a binary file in chunks (e.g., image or PDF).**\n",
    "\n",
    "**Q:7 Write a function to compare two files and print the differing lines.**\n",
    "\n",
    "**Q:8 Safely read a file that may not exist using try-except.**\n",
    "\n",
    "**Q:9 Read a file using a specific encoding (e.g., UTF-16).**\n",
    "\n",
    "**Q:10 Detect and skip empty lines when reading a file.**\n",
    "\n",
    "**Q:11 Implement a log rotation mechanism: create log.txt, log_1.txt, etc. when size exceeds 1MB.**\n",
    "\n",
    "**Q:12 Build a file-based key-value store using JSON per line.**\n",
    "\n",
    "**Q:13 Implement version control: on every write, back up the previous version with a timestamp.**\n",
    "\n",
    "**Q:14 Create a reader that detects encoding using chardet or fallback encoding.**\n",
    "\n",
    "**Q:15 Convert a large log file into separate files per date based on timestamps in each line.**\n"
   ]
  },
  {
   "cell_type": "code",
   "execution_count": 62,
   "id": "cd9fca21-d1a6-43c9-a323-ac90a2d11f00",
   "metadata": {},
   "outputs": [
    {
     "name": "stdout",
     "output_type": "stream",
     "text": [
      "Total lines: 4\n"
     ]
    }
   ],
   "source": [
    "count = 0\n",
    "with open(\"test.txt\", \"r\") as f:\n",
    "    for line in f:\n",
    "        count += 1\n",
    "\n",
    "print(\"Total lines:\", count)"
   ]
  },
  {
   "cell_type": "code",
   "execution_count": 69,
   "id": "973c8888-d4f2-4ef3-a557-935b1c0153f9",
   "metadata": {},
   "outputs": [],
   "source": [
    "old_word = \"helllo\"\n",
    "new_word = \"hi\"\n",
    "\n",
    "with open(\"test.txt\", \"r\") as oldfile, open(\"new.txt\", \"w\") as newfile:\n",
    "    for line in oldfile:\n",
    "        newline = line.replace(old_word,new_word)\n",
    "        newfile.write(newline)"
   ]
  },
  {
   "cell_type": "code",
   "execution_count": null,
   "id": "0366559c-111f-43cd-b9cf-d5a0a57951ac",
   "metadata": {},
   "outputs": [],
   "source": []
  },
  {
   "cell_type": "code",
   "execution_count": 71,
   "id": "5aeb7999-c659-452c-a71f-7f49ca9f1893",
   "metadata": {},
   "outputs": [],
   "source": [
    "from datetime import datetime\n",
    "\n",
    "with open(\"test.txt\", \"a\") as f:\n",
    "    timestamp = datetime.now().strftime(\"%Y-%m-%d %H:%M:%S\")\n",
    "    f.write(f\"\\n{timestamp} - New entry added\\n\")\n"
   ]
  },
  {
   "cell_type": "code",
   "execution_count": null,
   "id": "53751a3c-9427-4fe1-97b4-ecc3646dd2b6",
   "metadata": {},
   "outputs": [],
   "source": []
  },
  {
   "cell_type": "code",
   "execution_count": 74,
   "id": "f66f88dd-9e32-44fa-acc1-d5099df1cfea",
   "metadata": {},
   "outputs": [
    {
     "name": "stdout",
     "output_type": "stream",
     "text": [
      "helllo there i am shahroz naveed \n",
      "\n",
      "recently i am graduated from PUCIT lahore\n",
      "\n",
      "my interest in data science, machine learning and in python developer\n",
      "\n",
      "currently doing bootcamp at ML1\n",
      "\n",
      "2025-06-25 02:57:31 - New entry added\n",
      "\n",
      "helllo there i am shahroz naveed \n",
      "\n",
      "recently i am graduated from PUCIT lahore\n",
      "\n",
      "my interest in data science, machine learning and in python developer\n",
      "\n",
      "currently doing bootcamp at ML1\n",
      "\n",
      "2025-06-25 02:57:31 - New entry added\n",
      "\n"
     ]
    }
   ],
   "source": [
    "with open(\"test.txt\", \"r\") as f:\n",
    "    for i in range(10):\n",
    "        line = f.readline()\n",
    "        if not line:\n",
    "            break  \n",
    "        print(line)\n"
   ]
  },
  {
   "cell_type": "code",
   "execution_count": 79,
   "id": "03611855-540e-4c06-b88a-9818bd7c4e1f",
   "metadata": {},
   "outputs": [
    {
     "name": "stdout",
     "output_type": "stream",
     "text": [
      "helllo there i am shahroz naveed \n",
      "\n"
     ]
    }
   ],
   "source": []
  },
  {
   "cell_type": "code",
   "execution_count": null,
   "id": "cd9c5d25-b370-48a7-b94d-5d0cf1c2747e",
   "metadata": {},
   "outputs": [],
   "source": []
  },
  {
   "cell_type": "code",
   "execution_count": 80,
   "id": "e0ec443e-67c2-4aae-bf45-61348919674a",
   "metadata": {},
   "outputs": [],
   "source": [
    "data = [\n",
    "    {\"name\": \"Alice\", \"age\": 25, \"city\": \"Lahore\"},\n",
    "    {\"name\": \"Bob\", \"age\": 30, \"city\": \"Karachi\"},\n",
    "    {\"name\": \"Charlie\", \"age\": 22, \"city\": \"Islamabad\"}\n",
    "]\n",
    "\n",
    "with open(\"output.csv\", \"w\") as f:\n",
    "    \n",
    "    headers = data[0].keys()\n",
    "    f.write(\",\".join(headers) + \"\\n\")\n",
    "\n",
    "    \n",
    "    for row in data:\n",
    "        values = [str(row[h]) for h in headers]\n",
    "        f.write(\",\".join(values) + \"\\n\")\n"
   ]
  },
  {
   "cell_type": "code",
   "execution_count": null,
   "id": "9711969f-5301-4867-b7b9-dba59247ca48",
   "metadata": {},
   "outputs": [],
   "source": []
  },
  {
   "cell_type": "code",
   "execution_count": 83,
   "id": "432c9462-d5ca-4f95-953c-15c9c7136de9",
   "metadata": {},
   "outputs": [],
   "source": [
    "chunk_size = 1024  \n",
    "\n",
    "with open(\"ml.pdf\", \"rb\") as src, open(\"copy.pdf\", \"wb\") as dst:\n",
    "    while True:\n",
    "        chunk = src.read(chunk_size)\n",
    "        if not chunk:\n",
    "            break\n",
    "        dst.write(chunk)\n",
    "        \n"
   ]
  },
  {
   "cell_type": "code",
   "execution_count": null,
   "id": "80361657-7f56-4534-b5f6-b7eee56ecc67",
   "metadata": {},
   "outputs": [],
   "source": []
  },
  {
   "cell_type": "code",
   "execution_count": 84,
   "id": "9a72e9a6-e186-4d1d-b8b5-f52b3b781d59",
   "metadata": {},
   "outputs": [
    {
     "name": "stdout",
     "output_type": "stream",
     "text": [
      "Line 1 differs:\n",
      "File 1: hi there i am shahroz naveed\n",
      "File 2: helllo there i am shahroz naveed\n"
     ]
    }
   ],
   "source": [
    "def compare_files(file1, file2):\n",
    "    with open(file1, \"r\") as f1, open(file2, \"r\") as f2:\n",
    "        line_num = 1\n",
    "        for line1, line2 in zip(f1, f2):\n",
    "            if line1 != line2:\n",
    "                print(f\"Line {line_num} differs:\")\n",
    "                print(f\"File 1: {line1.strip()}\")\n",
    "                print(f\"File 2: {line2.strip()}\")\n",
    "            line_num += 1\n",
    "\n",
    "# Example usage\n",
    "compare_files(\"new.txt\", \"output.txt\")\n"
   ]
  },
  {
   "cell_type": "code",
   "execution_count": null,
   "id": "9876fee2-bf07-4bc1-aee4-e7720ee401bd",
   "metadata": {},
   "outputs": [],
   "source": []
  },
  {
   "cell_type": "code",
   "execution_count": 85,
   "id": "05118b8f-7fb8-4fed-ad67-04a4a9771c75",
   "metadata": {},
   "outputs": [
    {
     "name": "stdout",
     "output_type": "stream",
     "text": [
      "File not found. Please check the file name.\n"
     ]
    }
   ],
   "source": [
    "try:\n",
    "    with open(\"myfile.txt\", \"r\") as f:\n",
    "        content = f.read()\n",
    "        print(content)\n",
    "except FileNotFoundError:\n",
    "    print(\"File not found. Please check the file name.\")\n"
   ]
  },
  {
   "cell_type": "code",
   "execution_count": null,
   "id": "81693abd-5abb-4f81-8fcf-8e63fdaf66e5",
   "metadata": {},
   "outputs": [],
   "source": []
  },
  {
   "cell_type": "code",
   "execution_count": 89,
   "id": "b6950878-4014-47ae-ba0d-3629929d6bb3",
   "metadata": {},
   "outputs": [
    {
     "name": "stdout",
     "output_type": "stream",
     "text": [
      "hi there i am shahroz naveed \n",
      "recently i am graduated from PUCIT lahore\n",
      "my interest in data science, machine learning and in python developer\n",
      "currently doing bootcamp at ML1\n"
     ]
    }
   ],
   "source": [
    "with open(\"new.txt\", \"r\", encoding=\"utf-8\") as f:\n",
    "    content = f.read()\n",
    "    print(content)\n"
   ]
  },
  {
   "cell_type": "code",
   "execution_count": null,
   "id": "3c941d47-d2a4-473e-b853-798bccd0d1d2",
   "metadata": {},
   "outputs": [],
   "source": []
  },
  {
   "cell_type": "code",
   "execution_count": 90,
   "id": "3af3afe1-6459-42e4-a1c5-bfa23bc6456c",
   "metadata": {},
   "outputs": [
    {
     "name": "stdout",
     "output_type": "stream",
     "text": [
      "hi there i am shahroz naveed\n",
      "recently i am graduated from PUCIT lahore\n",
      "my interest in data science, machine learning and in python developer\n",
      "currently doing bootcamp at ML1\n"
     ]
    }
   ],
   "source": [
    "with open(\"new.txt\", \"r\") as f:\n",
    "    for line in f:\n",
    "        if line.strip():\n",
    "            print(line.strip())\n"
   ]
  },
  {
   "cell_type": "code",
   "execution_count": null,
   "id": "75491e69-bfb4-4121-ae64-f48b4571346f",
   "metadata": {},
   "outputs": [],
   "source": []
  },
  {
   "cell_type": "code",
   "execution_count": null,
   "id": "d8bb0bf7-8d42-498c-8fd5-4b7036ce077f",
   "metadata": {},
   "outputs": [],
   "source": []
  },
  {
   "cell_type": "code",
   "execution_count": null,
   "id": "e3718bdf-dc34-4aed-8381-19123a785d24",
   "metadata": {},
   "outputs": [],
   "source": []
  },
  {
   "cell_type": "markdown",
   "id": "49b7b4dc-a5af-49a8-b1a6-2629376ed791",
   "metadata": {},
   "source": [
    "\n",
    "# JSON Handling – json module\n",
    "\n",
    "**Q:1 Load JSON from a file and print a nested field (e.g., data[\"user\"][\"name\"]).**\n",
    "\n",
    "**Q:2 Write a Python dict to a file with pretty formatting.**\n",
    "\n",
    "**Q:3 Merge multiple JSON objects into a single file.**\n",
    "\n",
    "**Q:4 Convert a JSON array into CSV format.**\n",
    "\n",
    "**Q:5 Update a nested key inside a loaded JSON.**\n",
    "\n",
    "**Q:6 Create a function to pretty-print JSON from string input.**\n",
    "\n",
    "**Q:7 Safely load malformed JSON with exception handling.**\n",
    "\n",
    "**Q:8 Remove a key from each item in a JSON list and re-save.**\n",
    "\n",
    "**Q:9 Convert an object with datetime to a JSON string using a custom encoder.**\n",
    "\n",
    "**Q:10 Search for all values associated with a key in nested JSON.**\n",
    "\n",
    "**Q:11 Write a function to flatten deeply nested JSON into a flat dictionary.**\n",
    "\n",
    "**Q:12 Build a recursive JSON validator for required schema keys.**\n",
    "\n",
    "**Q:13 Convert a nested JSON into a pandas DataFrame with normalized columns.**\n",
    "\n",
    "**Q:14 Create a diff tool that compares two JSON files and shows key-level changes.**\n",
    "\n",
    "**Q:15 Handle and fix trailing commas in malformed JSON before parsing.**\n",
    "\n"
   ]
  },
  {
   "cell_type": "code",
   "execution_count": 92,
   "id": "96ed1e4b-4790-418d-ba76-3fd3697603c6",
   "metadata": {},
   "outputs": [
    {
     "name": "stdout",
     "output_type": "stream",
     "text": [
      "Alice\n"
     ]
    }
   ],
   "source": [
    "import json\n",
    "\n",
    "with open(\"data.json\", \"r\") as f:\n",
    "    data = json.load(f)\n",
    "\n",
    "print(data[\"user\"][\"name\"])\n"
   ]
  },
  {
   "cell_type": "code",
   "execution_count": null,
   "id": "a945a883-853d-412f-b1eb-4696b812d624",
   "metadata": {},
   "outputs": [],
   "source": []
  },
  {
   "cell_type": "code",
   "execution_count": 96,
   "id": "bea19279-5e6b-4e2b-8b55-5f1afa5bf4d4",
   "metadata": {},
   "outputs": [
    {
     "name": "stdout",
     "output_type": "stream",
     "text": [
      "{'user': {'name': 'Alice', 'age': 25}, 'status': 'active'}\n"
     ]
    }
   ],
   "source": [
    "files = [\"data.json\", \"data1.json\", \"data2.json\"]\n",
    "merged = {}\n",
    "\n",
    "for file in files:\n",
    "    with open(file, \"r\") as f:\n",
    "        data = json.load(f)\n",
    "        merged.update(data)\n",
    "\n",
    "with open(\"merged.json\", \"w\") as f:\n",
    "    json.dump(merged, f, indent=4)\n",
    "\n",
    "print(merged)"
   ]
  },
  {
   "cell_type": "code",
   "execution_count": null,
   "id": "47d69ea5-4a78-48b2-83e2-c02b21be9c58",
   "metadata": {},
   "outputs": [],
   "source": []
  },
  {
   "cell_type": "code",
   "execution_count": null,
   "id": "44ca8311-ecec-4810-a343-fef73c3fdda4",
   "metadata": {},
   "outputs": [],
   "source": [
    "data = [\n",
    "    {\"name\": \"Alice\", \"age\": 25, \"city\": \"Lahore\"},\n",
    "    {\"name\": \"Bob\", \"age\": 30, \"city\": \"Karachi\"},\n",
    "    {\"name\": \"Charlie\", \"age\": 22, \"city\": \"Islamabad\"}\n",
    "]\n",
    "\n",
    "with open(\"output.csv\", \"w\") as f:\n",
    "    \n",
    "    headers = data[0].keys()\n",
    "    f.write(\",\".join(headers) + \"\\n\")\n",
    "\n",
    "    \n",
    "    for row in data:\n",
    "        values = [str(row[h]) for h in headers]\n",
    "        f.write(\",\".join(values) + \"\\n\")\n"
   ]
  },
  {
   "cell_type": "code",
   "execution_count": null,
   "id": "0ea9a5f6-031c-49d3-bbc5-165459650667",
   "metadata": {},
   "outputs": [],
   "source": []
  },
  {
   "cell_type": "code",
   "execution_count": 97,
   "id": "c29b99d1-d6e9-4fca-9c86-c9c62cb3d03b",
   "metadata": {},
   "outputs": [],
   "source": [
    "\n",
    "\n",
    "with open(\"data.json\", \"r\") as f:\n",
    "    data = json.load(f)\n",
    "\n",
    "data[\"user\"][\"age\"] = 30\n",
    "\n",
    "with open(\"data.json\", \"w\") as f:\n",
    "    json.dump(data, f, indent=4)\n"
   ]
  },
  {
   "cell_type": "code",
   "execution_count": null,
   "id": "b3708f19-a270-4366-bd8e-6044a70d2989",
   "metadata": {},
   "outputs": [],
   "source": []
  },
  {
   "cell_type": "code",
   "execution_count": 98,
   "id": "c4462486-b8a9-492b-8c85-415a6869ac9d",
   "metadata": {},
   "outputs": [
    {
     "name": "stdout",
     "output_type": "stream",
     "text": [
      "{\n",
      "    \"user\": {\n",
      "        \"name\": \"Alice\",\n",
      "        \"age\": 25\n",
      "    },\n",
      "    \"status\": \"active\"\n",
      "}\n"
     ]
    }
   ],
   "source": [
    "\n",
    "def pretty_print_json(json_string):\n",
    "    try:\n",
    "        data = json.loads(json_string)  \n",
    "        print(json.dumps(data, indent=4))  \n",
    "    except json.JSONDecodeError:\n",
    "        print(\"Invalid JSON string\")\n",
    "json_text = '{\"user\":{\"name\":\"Alice\",\"age\":25},\"status\":\"active\"}'\n",
    "pretty_print_json(json_text)\n"
   ]
  },
  {
   "cell_type": "code",
   "execution_count": null,
   "id": "b5a38e81-21a8-4534-bf38-b56e602348cb",
   "metadata": {},
   "outputs": [],
   "source": []
  },
  {
   "cell_type": "code",
   "execution_count": 99,
   "id": "edeaed10-eec5-450f-a8bb-ab3d9c200aa8",
   "metadata": {},
   "outputs": [],
   "source": [
    "\n",
    "def load_json_safely(json_string):\n",
    "    try:\n",
    "        data = json.loads(json_string)\n",
    "        return data\n",
    "    except json.JSONDecodeError as e:\n",
    "        print(\"Failed to load JSON:\", e)\n",
    "        return None\n"
   ]
  },
  {
   "cell_type": "code",
   "execution_count": null,
   "id": "719153bf-475c-404e-ab37-4df1bae3355d",
   "metadata": {},
   "outputs": [],
   "source": []
  },
  {
   "cell_type": "code",
   "execution_count": 101,
   "id": "e3306548-70c6-4a3b-8977-93d0f632d2e7",
   "metadata": {},
   "outputs": [],
   "source": [
    "import json\n",
    "\n",
    "with open(\"data.json\", \"r\") as f:\n",
    "    data = json.load(f)\n",
    "\n",
    "for item in data:\n",
    "    if isinstance(item, dict):  \n",
    "        item.pop(\"age\", None)\n",
    "\n",
    "with open(\"data.json\", \"w\") as f:\n",
    "    json.dump(data, f, indent=4)\n"
   ]
  },
  {
   "cell_type": "code",
   "execution_count": null,
   "id": "c22e231e-9fd0-41ea-a70d-0d0095e4665e",
   "metadata": {},
   "outputs": [],
   "source": []
  },
  {
   "cell_type": "code",
   "execution_count": null,
   "id": "a9fb0524-fa1d-4cc8-99e6-c52f55e6f085",
   "metadata": {},
   "outputs": [],
   "source": []
  },
  {
   "cell_type": "markdown",
   "id": "3083804d-5685-4ed0-852d-40333ae26433",
   "metadata": {
    "jp-MarkdownHeadingCollapsed": true
   },
   "source": [
    "    \n",
    "# Regular Expressions – re module\n",
    "\n",
    "**Q:1 Extract email addresses from a string using re.findall().**\n",
    "\n",
    "**Q:2 Validate a US phone number using regex.**\n",
    "\n",
    "**Q:3 Extract hashtags from a tweet-like string.**\n",
    "\n",
    "**Q:4 Replace all numbers with # in a paragraph.**\n",
    "\n",
    "**Q:5 Match filenames with extension .pdf, .docx, or .xlsx.**\n",
    "\n",
    "**Q:6 Split a paragraph into sentences using regex.**\n",
    "\n",
    "**Q:7 Match a date in the format DD-MM-YYYY or YYYY/MM/DD.**\n",
    "\n",
    "**Q:8 Extract quoted strings from text (e.g., \"like this\").**\n",
    "\n",
    "**Q:9 Clean a text by removing special characters except alphanumerics and spaces.**\n",
    "\n",
    "**Q:10 Capture repeated words like the the, is is in a sentence.**\n",
    "\n",
    "**Q:11 Write a regex that extracts values from key-value pairs (key: value) even if keys contain spaces.**\n",
    "\n",
    "**Q:12 Extract nested parentheses using recursive regex (advanced feature).**\n",
    "\n",
    "**Q:13 Create a regex to detect and fix malformed URLs in a text block.**\n",
    "\n",
    "**Q:14 Build a pattern to extract address-like strings (e.g., 123 Main St, City, ZIP).**\n",
    "\n",
    "**Q:15 Tokenize a log line into timestamp, level, and message using regex groups.**"
   ]
  },
  {
   "cell_type": "code",
   "execution_count": null,
   "id": "f26db1f6-d95e-4acf-9865-f30af739bdec",
   "metadata": {},
   "outputs": [],
   "source": []
  },
  {
   "cell_type": "code",
   "execution_count": null,
   "id": "9df5434d-35b9-4115-b333-ace145a2bdda",
   "metadata": {},
   "outputs": [],
   "source": []
  },
  {
   "cell_type": "code",
   "execution_count": null,
   "id": "661df70d-da86-4263-9964-a6ac85f13087",
   "metadata": {},
   "outputs": [],
   "source": []
  },
  {
   "cell_type": "code",
   "execution_count": null,
   "id": "b0d06c91-2baa-4cc3-b919-d5b66e479ce1",
   "metadata": {},
   "outputs": [],
   "source": []
  },
  {
   "cell_type": "code",
   "execution_count": null,
   "id": "47b77dc7-10d4-4dd3-bff1-96221bf711cb",
   "metadata": {},
   "outputs": [],
   "source": []
  },
  {
   "cell_type": "code",
   "execution_count": null,
   "id": "56308ae4-1cba-4d32-93a3-6c0b6ec54047",
   "metadata": {},
   "outputs": [],
   "source": []
  },
  {
   "cell_type": "code",
   "execution_count": null,
   "id": "506b8c6c-eb88-4d2a-9ca9-a1f1fb3ace9f",
   "metadata": {},
   "outputs": [],
   "source": []
  },
  {
   "cell_type": "code",
   "execution_count": null,
   "id": "8ae3d300-1edc-48ed-8989-5a324c4e6a5c",
   "metadata": {},
   "outputs": [],
   "source": []
  },
  {
   "cell_type": "code",
   "execution_count": null,
   "id": "a2451580-9fd8-4352-95dc-712a1bc956f5",
   "metadata": {},
   "outputs": [],
   "source": []
  },
  {
   "cell_type": "code",
   "execution_count": null,
   "id": "8ddb494a-144b-4a43-8213-519acf6e04a2",
   "metadata": {},
   "outputs": [],
   "source": []
  },
  {
   "cell_type": "code",
   "execution_count": null,
   "id": "1f66d7a7-5d04-41d0-b569-28c958a0c8c3",
   "metadata": {},
   "outputs": [],
   "source": []
  }
 ],
 "metadata": {
  "kernelspec": {
   "display_name": "Python 3 (ipykernel)",
   "language": "python",
   "name": "python3"
  },
  "language_info": {
   "codemirror_mode": {
    "name": "ipython",
    "version": 3
   },
   "file_extension": ".py",
   "mimetype": "text/x-python",
   "name": "python",
   "nbconvert_exporter": "python",
   "pygments_lexer": "ipython3",
   "version": "3.12.10"
  }
 },
 "nbformat": 4,
 "nbformat_minor": 5
}
