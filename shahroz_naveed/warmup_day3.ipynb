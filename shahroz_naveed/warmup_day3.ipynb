{
 "cells": [
  {
   "cell_type": "code",
   "execution_count": null,
   "id": "790ee597-f627-41dd-b1e3-c6ce43f399f9",
   "metadata": {},
   "outputs": [],
   "source": [
    "Problem Statement:\n",
    " Write a function that compresses a string using the counts of repeated characters.\n",
    " If the compressed string is not smaller than the original, return the original.\n",
    "     \n",
    "Example:\n",
    "Input: \"aaabbccccaaa\"\n",
    "Output: \"a3b2c4a3\"\n",
    "Input: \"abc\"\n",
    "Output: \"abc\""
   ]
  },
  {
   "cell_type": "code",
   "execution_count": 3,
   "id": "94d18329-0efd-45dc-a1d8-1ad51b2525f4",
   "metadata": {},
   "outputs": [
    {
     "name": "stdout",
     "output_type": "stream",
     "text": [
      "a3b2c4a3\n",
      "w4a3d1e1x6\n"
     ]
    }
   ],
   "source": [
    "def run_length_encoding(s):\n",
    "    result = []\n",
    "    count = 1\n",
    "    for i in range(1, len(s)):\n",
    "        if s[i] == s[i - 1]:\n",
    "            count += 1\n",
    "        else:\n",
    "            result.append(s[i-1] + str(count))\n",
    "            count = 1\n",
    "    result.append(s[-1] + str(count) )\n",
    "    return ''.join(result)\n",
    "\n",
    "print(run_length_encoding(\"aaabbccccaaa\"))\n",
    "print(run_length_encoding(\"wwwwaaadexxxxxx\"))\n"
   ]
  },
  {
   "cell_type": "code",
   "execution_count": null,
   "id": "bb012e09-f588-4b4b-bf21-d80ed8ec5f0f",
   "metadata": {},
   "outputs": [],
   "source": [
    "Problem Statement:\n",
    " Write a function to flatten a nested list of strings\n",
    "Example:\n",
    "input = [ 'nata', 'pizza' ,[ 'eat', 'tea' ], ['sort'] ]\n",
    "output [ \"nata', 'pizza' , ‘eat', 'tea', 'sort']"
   ]
  },
  {
   "cell_type": "code",
   "execution_count": 18,
   "id": "1ff5e978-3b9a-4a72-a633-43ea06e59534",
   "metadata": {},
   "outputs": [
    {
     "name": "stdout",
     "output_type": "stream",
     "text": [
      "yes\n",
      "yes\n"
     ]
    },
    {
     "data": {
      "text/plain": [
       "['nata', 'pizza', 'eat', 'tea', 'sort']"
      ]
     },
     "execution_count": 18,
     "metadata": {},
     "output_type": "execute_result"
    }
   ],
   "source": [
    "def flatten(s):\n",
    "    new = []\n",
    "    for i in range(len(s)):\n",
    "        if type(s[i]) == type(s):\n",
    "            for j in range(len(s[i])):\n",
    "                new.append(s[i][j])\n",
    "        else:\n",
    "            new.append(s[i])\n",
    "    return new\n",
    "\n",
    "flatten([ 'nata', 'pizza',[ 'eat', 'tea' ], ['sort'] ])\n",
    "                "
   ]
  },
  {
   "cell_type": "code",
   "execution_count": 7,
   "id": "87acd9db-464e-40cc-91e1-2853f89644b5",
   "metadata": {},
   "outputs": [
    {
     "data": {
      "text/plain": [
       "type"
      ]
     },
     "execution_count": 7,
     "metadata": {},
     "output_type": "execute_result"
    }
   ],
   "source": [
    "Problem Statement:\n",
    " Given a list of strings, group them into anagrams (words with the same letters in different order).\n",
    "Example:\n",
    "Input: [\"bat\", \"tab\", \"eat\", \"tea\", \"tan\", \"nat\"]\n",
    "Output: [['bat', 'tab'], ['eat', 'tea'], ['tan', 'nat']]"
   ]
  },
  {
   "cell_type": "code",
   "execution_count": 22,
   "id": "b0bf7369-4dee-4711-803a-aa18b955a860",
   "metadata": {},
   "outputs": [
    {
     "data": {
      "text/plain": [
       "[['bat', 'tab'], ['eat', 'tea'], ['tan', 'nat']]"
      ]
     },
     "execution_count": 22,
     "metadata": {},
     "output_type": "execute_result"
    }
   ],
   "source": [
    "def group_words(strings):\n",
    "    groups = []\n",
    "    for word in strings:\n",
    "        for group in groups:\n",
    "            if anagrams(group[0],word):\n",
    "                group.append(word)\n",
    "                break\n",
    "        else:\n",
    "            groups.append([word])\n",
    "\n",
    "    return groups\n",
    "\n",
    "\n",
    "def anagrams(s1,s2):\n",
    "    d1, d2 = {}, {}\n",
    "    for i in range(len(s1)):\n",
    "        if s1[i] in d1.keys():\n",
    "            d1[s1[i]] += 1\n",
    "        else :\n",
    "            d1[s1[i]] = 1\n",
    "        if s2[i] in d2.keys():\n",
    "            d2[s2[i]] += 1\n",
    "        else:\n",
    "            d2[s2[i]] = 1\n",
    "\n",
    "    return d1 == d2\n",
    "\n",
    "words = [\"bat\", \"tab\", \"eat\", \"tea\", \"tan\", \"nat\"]\n",
    "group_words(words)"
   ]
  },
  {
   "cell_type": "code",
   "execution_count": null,
   "id": "70c6c79f-5035-49c4-a012-39e91b4dcfd8",
   "metadata": {},
   "outputs": [],
   "source": []
  },
  {
   "cell_type": "code",
   "execution_count": 23,
   "id": "f073b882-d081-42b9-85bb-7a987d0a525c",
   "metadata": {},
   "outputs": [
    {
     "name": "stdout",
     "output_type": "stream",
     "text": [
      "['the', 'dog', 'quick']\n"
     ]
    }
   ],
   "source": [
    "def count_occurences(a):\n",
    "    d1 = {}\n",
    "    for i in range(len(a)):\n",
    "        a[i] = a[i].lower()\n",
    "        if a[i][-1] == \".\": a[i] = a[i][:-1]\n",
    "        if a[i] in d1.keys(): d1[a[i]] += 1\n",
    "        else: d1[a[i]] = 1\n",
    "    lst = list(d1.items())\n",
    "    lst = sorted(lst, key = lambda x:x[1], reverse=True)\n",
    "    return [x[0] for x in lst[:3]]\n",
    "a = \"The quick brown fox jumps over the lazy dog. The dog barked.\"\n",
    "a1 = a.split()\n",
    "print(count_occurences(a1))\n",
    "\n",
    "\n",
    "\n",
    "\n",
    "\n",
    "\n"
   ]
  },
  {
   "cell_type": "code",
   "execution_count": null,
   "id": "d5401922-8677-446e-ada8-1ac0494aefe0",
   "metadata": {},
   "outputs": [],
   "source": []
  }
 ],
 "metadata": {
  "kernelspec": {
   "display_name": "Python 3 (ipykernel)",
   "language": "python",
   "name": "python3"
  },
  "language_info": {
   "codemirror_mode": {
    "name": "ipython",
    "version": 3
   },
   "file_extension": ".py",
   "mimetype": "text/x-python",
   "name": "python",
   "nbconvert_exporter": "python",
   "pygments_lexer": "ipython3",
   "version": "3.12.10"
  }
 },
 "nbformat": 4,
 "nbformat_minor": 5
}
