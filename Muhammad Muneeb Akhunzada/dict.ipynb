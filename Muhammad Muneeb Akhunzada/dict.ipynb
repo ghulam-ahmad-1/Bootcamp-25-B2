{
 "cells": [
  {
   "cell_type": "markdown",
   "id": "1f48d5c9",
   "metadata": {},
   "source": [
    "# 1. Create a Dictionary from Two Lists\n",
    "\n",
    "## Problem Statement:\n",
    "Write a function to create a dictionary from two lists of equal length, one for keys and one for values.\n",
    "\n",
    "## Example 1:\n",
    "**Input:** `keys = ['a', 'b'], values = [1, 2]`  \n",
    "**Output:** `{'a': 1, 'b': 2}`\n",
    "\n",
    "## Example 2:\n",
    "**Input:** `keys = ['x'], values = [10]`  \n",
    "**Output:** `{'x': 10}`\n"
   ]
  },
  {
   "cell_type": "code",
   "execution_count": 1,
   "id": "3ea65a39",
   "metadata": {},
   "outputs": [
    {
     "name": "stdout",
     "output_type": "stream",
     "text": [
      "{'a': 1, 'b': 2}\n"
     ]
    }
   ],
   "source": [
    "def dic(ls1, ls2):\n",
    "    dictry=dict(zip(ls1, ls2))\n",
    "    return dictry\n",
    "\n",
    "ls1=['a', 'b']\n",
    "ls2=[1, 2]\n",
    "print(dic(ls1, ls2))"
   ]
  },
  {
   "cell_type": "code",
   "execution_count": null,
   "id": "116d7f17",
   "metadata": {},
   "outputs": [],
   "source": []
  },
  {
   "cell_type": "markdown",
   "id": "9016196e",
   "metadata": {},
   "source": [
    "# 2. Merge Two Dictionaries\n",
    "\n",
    "## Problem Statement:\n",
    "Write a function to merge two dictionaries into one.\n",
    "\n",
    "## Example 1:\n",
    "**Input:** `{'a': 1}, {'b': 2}`  \n",
    "**Output:** `{'a': 1, 'b': 2}`\n",
    "\n",
    "## Example 2:\n",
    "**Input:** `{'x': 10}, {'y': 20, 'z': 30}`  \n",
    "**Output:** `{'x': 10, 'y': 20, 'z': 30}`\n"
   ]
  },
  {
   "cell_type": "code",
   "execution_count": 4,
   "id": "5ee5d659",
   "metadata": {},
   "outputs": [
    {
     "name": "stdout",
     "output_type": "stream",
     "text": [
      "{'x': 10, 'y': 20, 'z': 30}\n"
     ]
    }
   ],
   "source": [
    "d1={'x': 10}\n",
    "d2={'y': 20, 'z': 30}\n",
    "d1.update(d2)\n",
    "print(d1)"
   ]
  },
  {
   "cell_type": "code",
   "execution_count": null,
   "id": "d9d7b5b2",
   "metadata": {},
   "outputs": [],
   "source": []
  },
  {
   "cell_type": "markdown",
   "id": "c6526c5c",
   "metadata": {},
   "source": [
    "# 3. Check if Key Exists\n",
    "\n",
    "## Problem Statement:\n",
    "Write a function to check if a specific key exists in a dictionary.\n",
    "\n",
    "## Example 1:\n",
    "**Input:** `{'a': 1}, 'a'`  \n",
    "**Output:** `True`\n",
    "\n",
    "## Example 2:\n",
    "**Input:** `{'b': 2}, 'a'`  \n",
    "**Output:** `False`\n"
   ]
  },
  {
   "cell_type": "code",
   "execution_count": 5,
   "id": "a04fa909",
   "metadata": {},
   "outputs": [
    {
     "name": "stdout",
     "output_type": "stream",
     "text": [
      "False\n"
     ]
    }
   ],
   "source": [
    "dic={'b': 2}\n",
    "key='a'\n",
    "if dic.get(key) == None:\n",
    "    print(\"False\")\n",
    "else:\n",
    "    print(\"True\")\n"
   ]
  },
  {
   "cell_type": "code",
   "execution_count": null,
   "id": "b1ef4e37",
   "metadata": {},
   "outputs": [],
   "source": []
  },
  {
   "cell_type": "markdown",
   "id": "e72c9a22",
   "metadata": {},
   "source": [
    "# 4. Count Frequency of Elements\n",
    "\n",
    "## Problem Statement:\n",
    "Write a function to count the frequency of each element in a list using a dictionary.\n",
    "\n",
    "## Example 1:\n",
    "**Input:** `[1,2,2,3]`  \n",
    "**Output:** `{1:1, 2:2, 3:1}`\n",
    "\n",
    "## Example 2:\n",
    "**Input:** `['a','b','a']`  \n",
    "**Output:** `{'a':2, 'b':1}`\n",
    "\n",
    "\n"
   ]
  },
  {
   "cell_type": "code",
   "execution_count": 9,
   "id": "31fd888e",
   "metadata": {},
   "outputs": [
    {
     "name": "stdout",
     "output_type": "stream",
     "text": [
      "{'a': 2, 'b': 1}\n"
     ]
    }
   ],
   "source": [
    "a=['a','b','a']\n",
    "b = {}\n",
    "for c in a:\n",
    "    if c in b:\n",
    "        b[c] += 1\n",
    "    else:\n",
    "        b[c] = 1\n",
    "print(b)"
   ]
  },
  {
   "cell_type": "code",
   "execution_count": null,
   "id": "ad5808ba",
   "metadata": {},
   "outputs": [],
   "source": []
  },
  {
   "cell_type": "markdown",
   "id": "c1b74aa9",
   "metadata": {},
   "source": [
    "# 5. Reverse Dictionary (Unique Values)\n",
    "\n",
    "## Problem Statement:\n",
    "Write a function to reverse keys and values in a dictionary. Assume values are unique.\n",
    "\n",
    "## Example 1:\n",
    "**Input:** `{'a':1, 'b':2}`  \n",
    "**Output:** `{1:'a', 2:'b'}`\n",
    "\n",
    "## Example 2:\n",
    "**Input:** `{'x':'y'}`  \n",
    "**Output:** `{'y':'x'}`\n"
   ]
  },
  {
   "cell_type": "code",
   "execution_count": 1,
   "id": "df0a31ed",
   "metadata": {},
   "outputs": [
    {
     "name": "stdout",
     "output_type": "stream",
     "text": [
      "{1: 'a', 2: 'b'}\n"
     ]
    }
   ],
   "source": [
    "dic={'a':1, 'b':2}\n",
    "revdic={}\n",
    "for key, value in dic.items():\n",
    "    revdic[value]=key\n",
    "print(revdic)"
   ]
  },
  {
   "cell_type": "code",
   "execution_count": null,
   "id": "ba3b7a1a",
   "metadata": {},
   "outputs": [],
   "source": []
  },
  {
   "cell_type": "markdown",
   "id": "bfc01a37",
   "metadata": {},
   "source": [
    "# 6. Dictionary with Maximum Value\n",
    "\n",
    "## Problem Statement:\n",
    "Write a function that returns the key with the highest value in a dictionary.\n",
    "\n",
    "## Example 1:\n",
    "**Input:** `{'a':3, 'b':10}`  \n",
    "**Output:** `'b'`\n",
    "\n",
    "## Example 2:\n",
    "**Input:** `{'x':1, 'y':-5}`  \n",
    "**Output:** `'x'`\n"
   ]
  },
  {
   "cell_type": "code",
   "execution_count": 5,
   "id": "3ebfad1c",
   "metadata": {},
   "outputs": [
    {
     "name": "stdout",
     "output_type": "stream",
     "text": [
      "10 b\n"
     ]
    }
   ],
   "source": [
    "dic={'a':3, 'b':10}\n",
    "maxi= None\n",
    "key1= None\n",
    "for key, value in dic.items():\n",
    "    if maxi == None or value > maxi:\n",
    "        maxi=value\n",
    "        key1=key\n",
    "        \n",
    "print(maxi, key1)"
   ]
  },
  {
   "cell_type": "code",
   "execution_count": null,
   "id": "2aead54f",
   "metadata": {},
   "outputs": [],
   "source": []
  },
  {
   "cell_type": "markdown",
   "id": "2df1f7ab",
   "metadata": {},
   "source": [
    "# 7. Remove Key from Dictionary\n",
    "\n",
    "## Problem Statement:\n",
    "Write a function that removes a specified key from a dictionary.\n",
    "\n",
    "## Example 1:\n",
    "**Input:** `{'a':1, 'b':2}, 'a'`  \n",
    "**Output:** `{'b':2}`\n",
    "\n",
    "## Example 2:\n",
    "**Input:** `{'x':3, 'y':4}, 'z'`  \n",
    "**Output:** `{'x':3, 'y':4}`\n"
   ]
  },
  {
   "cell_type": "code",
   "execution_count": 8,
   "id": "ebc9c007",
   "metadata": {},
   "outputs": [
    {
     "name": "stdout",
     "output_type": "stream",
     "text": [
      "{'a': 3, 'c': 8}\n"
     ]
    },
    {
     "data": {
      "text/plain": [
       "{'c': 8}"
      ]
     },
     "execution_count": 8,
     "metadata": {},
     "output_type": "execute_result"
    }
   ],
   "source": [
    "dic={'a':3, 'b':5, 'c':8}\n",
    "dic.pop('b')\n",
    "print(dic)\n",
    "#method 2\n",
    "del dic['a']\n",
    "dic"
   ]
  },
  {
   "cell_type": "code",
   "execution_count": null,
   "id": "4c042f24",
   "metadata": {},
   "outputs": [],
   "source": []
  },
  {
   "cell_type": "markdown",
   "id": "542b30d7",
   "metadata": {},
   "source": [
    "# 8. Dictionary from String\n",
    "\n",
    "## Problem Statement:\n",
    "Write a function to count the occurrences of each character in a given string using a dictionary.\n",
    "\n",
    "## Example 1:\n",
    "**Input:** `\"hello\"`  \n",
    "**Output:** `{'h':1,'e':1,'l':2,'o':1}`\n",
    "\n",
    "## Example 2:\n",
    "**Input:** `\"abc\"`  \n",
    "**Output:** `{'a':1,'b':1,'c':1}`\n",
    "\n",
    "\n"
   ]
  },
  {
   "cell_type": "code",
   "execution_count": 1,
   "id": "1a0604ff",
   "metadata": {},
   "outputs": [
    {
     "data": {
      "text/plain": [
       "{'h': 1, 'e': 1, 'l': 2, 'o': 1}"
      ]
     },
     "execution_count": 1,
     "metadata": {},
     "output_type": "execute_result"
    }
   ],
   "source": [
    "string=\"hello\"\n",
    "dic={}\n",
    "for char in string:\n",
    "    if char in dic:\n",
    "        dic[char] +=1\n",
    "    else:\n",
    "        dic[char] = 1\n",
    "        \n",
    "dic"
   ]
  },
  {
   "cell_type": "markdown",
   "id": "b8bb6168",
   "metadata": {},
   "source": [
    "# 9. Update Value in Dictionary\n",
    "\n",
    "## Problem Statement:\n",
    "Write a function to update a value associated with a given key in a dictionary.\n",
    "\n",
    "## Example 1:\n",
    "**Input:** `{'a':1}, 'a', 100`  \n",
    "**Output:** `{'a':100}`\n",
    "\n",
    "## Example 2:\n",
    "**Input:** `{'x':10}, 'y', 20`  \n",
    "**Output:** `{'x':10, 'y':20}`\n"
   ]
  },
  {
   "cell_type": "code",
   "execution_count": 23,
   "id": "7a8a617e",
   "metadata": {},
   "outputs": [
    {
     "name": "stdout",
     "output_type": "stream",
     "text": [
      "{'a': 1, 'b': 3, 'd': 6, 'g': 8}\n"
     ]
    },
    {
     "data": {
      "text/plain": [
       "{'a': 100, 'b': 3, 'd': 6, 'g': 8}"
      ]
     },
     "execution_count": 23,
     "metadata": {},
     "output_type": "execute_result"
    }
   ],
   "source": [
    "dic={'a':1, 'b':3, 'd':6, 'g':8}\n",
    "print(dic)\n",
    "dic['a']=100\n",
    "dic"
   ]
  },
  {
   "cell_type": "code",
   "execution_count": null,
   "id": "1345099a",
   "metadata": {},
   "outputs": [],
   "source": []
  },
  {
   "cell_type": "markdown",
   "id": "8b580e88",
   "metadata": {},
   "source": [
    "# 10. Sort Dictionary by Values\n",
    "\n",
    "## Problem Statement:\n",
    "Write a function to sort a dictionary by values in ascending order.\n",
    "\n",
    "## Example 1:\n",
    "**Input:** `{'a':3, 'b':1}`  \n",
    "**Output:** `{'b':1, 'a':3}`\n",
    "\n",
    "## Example 2:\n",
    "**Input:** `{'x':4,'y':2}`  \n",
    "**Output:** `{'y':2, 'x':4}`\n"
   ]
  },
  {
   "cell_type": "code",
   "execution_count": 41,
   "id": "4cfc1e2c",
   "metadata": {},
   "outputs": [
    {
     "data": {
      "text/plain": [
       "{'d': 3, 'c': 6, 'b': 7, 'a': 9}"
      ]
     },
     "execution_count": 41,
     "metadata": {},
     "output_type": "execute_result"
    }
   ],
   "source": [
    "dic={'a':9, 'b':7, 'c':6, 'd':3}\n",
    "'''\n",
    "sort=sorted(dic.items())\n",
    "sort={key: dic[key] for key in sort}\n",
    "sort'''\n",
    "sort=sorted(dic.items(), key=lambda item:item[1])\n",
    "sort=dict(sort)\n",
    "sort"
   ]
  },
  {
   "cell_type": "code",
   "execution_count": null,
   "id": "deac7ba4",
   "metadata": {},
   "outputs": [],
   "source": []
  },
  {
   "cell_type": "markdown",
   "id": "923a13f3",
   "metadata": {},
   "source": [
    "# 11. Dictionary Intersection\n",
    "\n",
    "## Problem Statement:\n",
    "Write a function that returns a dictionary containing keys common to two dictionaries with values from the first dictionary.\n",
    "\n",
    "## Example 1:\n",
    "**Input:** `{'a':1, 'b':2}, {'b':4, 'c':3}`  \n",
    "**Output:** `{'b':2}`\n",
    "\n",
    "## Example 2:\n",
    "**Input:** `{'x':5}, {'y':5}`  \n",
    "**Output:** `{}`\n"
   ]
  },
  {
   "cell_type": "code",
   "execution_count": 54,
   "id": "463eed21",
   "metadata": {},
   "outputs": [
    {
     "name": "stdout",
     "output_type": "stream",
     "text": [
      "a\n",
      "b\n",
      "c\n"
     ]
    }
   ],
   "source": [
    "dic1={'a':1, 'b':2, 'c':3}\n",
    "dic2={'d':5, 'f':2, 'g':7}\n",
    "for key in dic1.keys():\n",
    "    print(key)\n",
    "    if key in dic2.keys():\n",
    "        print(dic1[key])"
   ]
  },
  {
   "cell_type": "code",
   "execution_count": null,
   "id": "8ea06653",
   "metadata": {},
   "outputs": [],
   "source": []
  },
  {
   "cell_type": "markdown",
   "id": "328b85be",
   "metadata": {},
   "source": [
    "# 14. Filter Dictionary by Values\n",
    "\n",
    "## Problem Statement:\n",
    "Write a function to filter a dictionary, keeping only items where the value is greater than a given number.\n",
    "\n",
    "## Example 1:\n",
    "**Input:** `{'a':5, 'b':2, 'c':8}, 4`  \n",
    "**Output:** `{'a':5, 'c':8}`\n",
    "\n",
    "## Example 2:\n",
    "**Input:** `{'x':1, 'y':3}, 2`  \n",
    "**Output:** `{'y':3}`\n"
   ]
  },
  {
   "cell_type": "code",
   "execution_count": 16,
   "id": "58e19b37",
   "metadata": {},
   "outputs": [
    {
     "name": "stdout",
     "output_type": "stream",
     "text": [
      "a 5\n",
      "b 2\n",
      "c 8\n"
     ]
    },
    {
     "data": {
      "text/plain": [
       "{'a': 5, 'c': 8}"
      ]
     },
     "execution_count": 16,
     "metadata": {},
     "output_type": "execute_result"
    }
   ],
   "source": [
    "dic={'a':5, 'b':2, 'c':8}\n",
    "no = 4\n",
    "for k,val in list(dic.items()):\n",
    "    print(k, val)\n",
    "    if val<4:\n",
    "        dic.pop(k)\n",
    "dic"
   ]
  },
  {
   "cell_type": "code",
   "execution_count": null,
   "id": "55c9884b",
   "metadata": {},
   "outputs": [],
   "source": []
  },
  {
   "cell_type": "markdown",
   "id": "b37b6bd2",
   "metadata": {},
   "source": [
    "# 16. Dictionary from List of Tuples\n",
    "\n",
    "## Problem Statement:\n",
    "Write a function that converts a list of tuples into a dictionary, combining values for duplicate keys into lists.\n",
    "\n",
    "## Example 1:\n",
    "**Input:** `[('a',1), ('b',2), ('a',3)]`  \n",
    "**Output:** `{'a':[1,3], 'b':[2]}`\n",
    "\n",
    "## Example 2:\n",
    "**Input:** `[('x',4)]`  \n",
    "**Output:** `{'x':[4]}`\n"
   ]
  },
  {
   "cell_type": "code",
   "execution_count": 59,
   "id": "0cabcc36",
   "metadata": {},
   "outputs": [
    {
     "name": "stdout",
     "output_type": "stream",
     "text": [
      "{'a': [1, 3], 'b': [2]}\n"
     ]
    }
   ],
   "source": [
    "lst=[('a',1), ('b',2), ('a', 3)]\n",
    "dic={}\n",
    "for key, val in lst:\n",
    "    if key in dic:\n",
    "        dic[key].append(val)\n",
    "    else:\n",
    "        dic[key]=[val]\n",
    "\n",
    "print(dic)        "
   ]
  },
  {
   "cell_type": "code",
   "execution_count": null,
   "id": "1ba92174",
   "metadata": {},
   "outputs": [],
   "source": []
  },
  {
   "cell_type": "markdown",
   "id": "a2f6a871",
   "metadata": {},
   "source": [
    "# 17. Increment Dictionary Values\n",
    "\n",
    "## Problem Statement:\n",
    "Write a function to increment all integer values in a dictionary by a specified number.\n",
    "\n",
    "## Example 1:\n",
    "**Input:** `{'a':1, 'b':2}, 3`  \n",
    "**Output:** `{'a':4, 'b':5}`\n",
    "\n",
    "## Example 2:\n",
    "**Input:** `{'x':10}, -2`  \n",
    "**Output:** `{'x':8}`\n"
   ]
  },
  {
   "cell_type": "code",
   "execution_count": 55,
   "id": "2cae3f6e",
   "metadata": {},
   "outputs": [
    {
     "name": "stdout",
     "output_type": "stream",
     "text": [
      "{'a': 4, 'b': 5}\n"
     ]
    }
   ],
   "source": [
    "dic={'a':1, 'b':2}\n",
    "n=3\n",
    "for value, key in dic.items():\n",
    "    dic[value] +=n\n",
    "print(dic)"
   ]
  },
  {
   "cell_type": "code",
   "execution_count": 56,
   "id": "5a8c4696",
   "metadata": {},
   "outputs": [
    {
     "name": "stdout",
     "output_type": "stream",
     "text": [
      "{4: 'a', 5: 'b'}\n"
     ]
    }
   ],
   "source": [
    "#Method 2\n",
    "dic={'a':1, 'b':2}\n",
    "n = 3\n",
    "dic={key + n: value for value, key in dic.items()}\n",
    "    \n",
    "print(dic)"
   ]
  },
  {
   "cell_type": "markdown",
   "id": "1a4997f3",
   "metadata": {},
   "source": [
    "# 18. Find Duplicates in List Using Dictionary\n",
    "\n",
    "## Problem Statement:\n",
    "Write a function to find all elements that appear more than once in a list, using a dictionary.\n",
    "\n",
    "## Example 1:\n",
    "**Input:** `[1,2,2,3,4,4,4]`  \n",
    "**Output:** `[2,4]`\n",
    "\n",
    "## Example 2:\n",
    "**Input:** `['a','b','c','a']`  \n",
    "**Output:** `['a']`\n"
   ]
  },
  {
   "cell_type": "code",
   "execution_count": 88,
   "id": "35f77861",
   "metadata": {},
   "outputs": [
    {
     "name": "stdout",
     "output_type": "stream",
     "text": [
      "{1: 1, 2: 3, 3: 1, 4: 3}\n",
      "[False, False, False, False, True, True, True, True]\n"
     ]
    }
   ],
   "source": [
    "lst=[1,2,2,2,3,4,4,4]\n",
    "dic={}\n",
    "for value in lst:\n",
    "    if value in dic:\n",
    "        dic[value] +=1\n",
    "    else:\n",
    "        dic[value] =1\n",
    "\n",
    "print(dic)\n",
    "lst1=[value>2 for value in lst]\n",
    "print(lst1)"
   ]
  },
  {
   "cell_type": "code",
   "execution_count": null,
   "id": "e2d4570d",
   "metadata": {},
   "outputs": [],
   "source": []
  },
  {
   "cell_type": "markdown",
   "id": "37dab363",
   "metadata": {},
   "source": [
    "# 19. Merge Dictionaries Summing Values\n",
    "\n",
    "## Problem Statement:\n",
    "Write a function to merge two dictionaries, summing values for common keys.\n",
    "\n",
    "## Example 1:\n",
    "**Input:** `{'a':2, 'b':3}, {'a':3, 'c':1}`  \n",
    "**Output:** `{'a':5, 'b':3, 'c':1}`\n",
    "\n",
    "## Example 2:\n",
    "**Input:** `{'x':1}, {'x':-1}`  \n",
    "**Output:** `{'x':0}`\n"
   ]
  },
  {
   "cell_type": "code",
   "execution_count": 89,
   "id": "f6b073b2",
   "metadata": {},
   "outputs": [
    {
     "name": "stdout",
     "output_type": "stream",
     "text": [
      "{'a': 5, 'b': 3, 'c': 1}\n"
     ]
    }
   ],
   "source": [
    "dic1={'a':2, 'b':3}\n",
    "dic2={'a':3, 'c':1}\n",
    "merge=dic1.copy()\n",
    "for key, value in dic2.items():\n",
    "    merge[key]=merge.get(key, 0) + value\n",
    "    \n",
    "print(merge)\n"
   ]
  },
  {
   "cell_type": "code",
   "execution_count": null,
   "id": "4931ea97",
   "metadata": {},
   "outputs": [],
   "source": []
  },
  {
   "cell_type": "markdown",
   "id": "01937f89",
   "metadata": {},
   "source": [
    "# 20. Dictionary of Lists to Dictionary of Sums\n",
    "\n",
    "## Problem Statement:\n",
    "Write a function to convert a dictionary of lists into a dictionary of sums.\n",
    "\n",
    "## Example 1:\n",
    "**Input:** `{'a':[1,2,3], 'b':[4,5]}`  \n",
    "**Output:** `{'a':6, 'b':9}`\n",
    "\n",
    "## Example 2:\n",
    "**Input:** `{'x':[10]}`  \n",
    "**Output:** `{'x':10}`\n"
   ]
  },
  {
   "cell_type": "code",
   "execution_count": 91,
   "id": "02599144",
   "metadata": {},
   "outputs": [
    {
     "data": {
      "text/plain": [
       "{'a': 6, 'b': 9}"
      ]
     },
     "execution_count": 91,
     "metadata": {},
     "output_type": "execute_result"
    }
   ],
   "source": [
    "dic={'a':[1,2,3], 'b':[4,5]}\n",
    "dic={key: sum(value) for key, value in dic.items()}\n",
    "dic"
   ]
  },
  {
   "cell_type": "code",
   "execution_count": null,
   "id": "551ecc09",
   "metadata": {},
   "outputs": [],
   "source": []
  }
 ],
 "metadata": {
  "kernelspec": {
   "display_name": "Python 3 (ipykernel)",
   "language": "python",
   "name": "python3"
  },
  "language_info": {
   "codemirror_mode": {
    "name": "ipython",
    "version": 3
   },
   "file_extension": ".py",
   "mimetype": "text/x-python",
   "name": "python",
   "nbconvert_exporter": "python",
   "pygments_lexer": "ipython3",
   "version": "3.10.9"
  }
 },
 "nbformat": 4,
 "nbformat_minor": 5
}
