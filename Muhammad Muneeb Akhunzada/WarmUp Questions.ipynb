{
 "cells": [
  {
   "cell_type": "code",
   "execution_count": null,
   "id": "dc818a81",
   "metadata": {},
   "outputs": [],
   "source": [
    "Task: Group words that are anagrams of each other.\n",
    "Input: [\"bat\", \"tab\", \"tap\", \"pat\", \"cat\"]\n",
    "Output: [[\"bat\", \"tab\"], [\"tap\", \"pat\"], [\"cat\"]]"
   ]
  },
  {
   "cell_type": "code",
   "execution_count": 12,
   "id": "b9425053",
   "metadata": {},
   "outputs": [
    {
     "name": "stdout",
     "output_type": "stream",
     "text": [
      "[['bat', 'tab'], ['tap', 'pat'], ['cat']]\n"
     ]
    }
   ],
   "source": [
    "lis=[\"bat\", \"tab\", \"tap\", \"pat\", \"cat\"]\n",
    "anagrams={}\n",
    "for word in lis:\n",
    "    sortwords=''.join(sorted(word))\n",
    "    if sortwords in anagrams:\n",
    "        anagrams[sortwords].append(word)\n",
    "    else:\n",
    "        anagrams[sortwords]=[word]\n",
    "\n",
    "print(list(anagrams.values()))"
   ]
  },
  {
   "cell_type": "code",
   "execution_count": null,
   "id": "404771d0",
   "metadata": {},
   "outputs": [],
   "source": [
    "Task: Transpose a 2D matrix using pure Python (without NumPy).\n",
    "Input: [[1, 2, 3], [4, 5, 6]]\n",
    "Output: [[1, 4], [2, 5], [3, 6]]"
   ]
  },
  {
   "cell_type": "code",
   "execution_count": 13,
   "id": "d97fea68",
   "metadata": {},
   "outputs": [
    {
     "name": "stdout",
     "output_type": "stream",
     "text": [
      "[[1, 4], [2, 5], [3, 6]]\n"
     ]
    }
   ],
   "source": [
    "trpo=[[1, 2, 3], [4, 5, 6]]\n",
    "res=[list(row) for row in zip(*trpo)]\n",
    "print(res)"
   ]
  },
  {
   "cell_type": "code",
   "execution_count": null,
   "id": "2a0f37ae",
   "metadata": {},
   "outputs": [],
   "source": []
  },
  {
   "cell_type": "code",
   "execution_count": null,
   "id": "53ca39ed",
   "metadata": {},
   "outputs": [],
   "source": [
    "Task: Create an iterator that returns prime numbers up to n.\n",
    "Input: n = 10\n",
    "Output: [2, 3, 5, 7]"
   ]
  },
  {
   "cell_type": "code",
   "execution_count": null,
   "id": "889edc07",
   "metadata": {},
   "outputs": [],
   "source": []
  }
 ],
 "metadata": {
  "kernelspec": {
   "display_name": "Python 3 (ipykernel)",
   "language": "python",
   "name": "python3"
  },
  "language_info": {
   "codemirror_mode": {
    "name": "ipython",
    "version": 3
   },
   "file_extension": ".py",
   "mimetype": "text/x-python",
   "name": "python",
   "nbconvert_exporter": "python",
   "pygments_lexer": "ipython3",
   "version": "3.10.9"
  }
 },
 "nbformat": 4,
 "nbformat_minor": 5
}
