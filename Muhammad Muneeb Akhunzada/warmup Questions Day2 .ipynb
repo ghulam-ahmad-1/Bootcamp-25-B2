{
 "cells": [
  {
   "cell_type": "markdown",
   "id": "ba132410",
   "metadata": {},
   "source": [
    "Problem Statement:\n",
    " Write a function that compresses a string using the counts of repeated characters.\n",
    " If the compressed string is not smaller than the original, return the original.\n",
    "Example:\n",
    "Input: \"aaabbccccaaa\"\n",
    "Output: \"a3b2c4a3\"\n",
    "Input: \"abc\"\n",
    "Output: \"abc\""
   ]
  },
  {
   "cell_type": "code",
   "execution_count": 4,
   "id": "3db6c79e",
   "metadata": {},
   "outputs": [
    {
     "name": "stdout",
     "output_type": "stream",
     "text": [
      "a3b2c4a3\n"
     ]
    }
   ],
   "source": [
    "def compression(s1):\n",
    "    sb = []\n",
    "    count = 1\n",
    "    prev = s1[0]\n",
    "    for i in range(1, len(s1)):\n",
    "        curr = s1[i]\n",
    "        if prev == curr:\n",
    "            count += 1\n",
    "        else:\n",
    "            sb.append(prev)\n",
    "            sb.append(str(count))\n",
    "            prev = curr\n",
    "            count = 1\n",
    "    sb.append(prev)\n",
    "    sb.append(str(count))\n",
    "    compressed = ''.join(sb)\n",
    "    if len(s1) < len(compressed):\n",
    "        return s1\n",
    "    else:\n",
    "        return compressed\n",
    "    \n",
    "\n",
    "string=\"aaabbccccaaa\"\n",
    "print(compression(string))"
   ]
  },
  {
   "cell_type": "markdown",
   "id": "73d54992",
   "metadata": {},
   "source": [
    "Problem Statement:\n",
    " Write a function to flatten a nested list of strings\n",
    "Example:\n",
    "input = [ 'nata', 'pizza' [ 'eat', 'tea' ], ['sort'] ]\n",
    "output [ nata', 'pizza' , ‘eat', 'tea', 'sort']"
   ]
  },
  {
   "cell_type": "code",
   "execution_count": 19,
   "id": "613a120d",
   "metadata": {},
   "outputs": [
    {
     "name": "stdout",
     "output_type": "stream",
     "text": [
      "['nata', 'pizza', 'eat', 'tea', 'sort']\n",
      "['n', 'a', 't', 'a', 'p', 'i', 'z', 'z', 'a', 'eat', 'tea', 'sort']\n"
     ]
    }
   ],
   "source": [
    "import itertools\n",
    "def flatten(ls):\n",
    "    b = list(itertools.chain.from_iterable(ls))\n",
    "    return b\n",
    "\n",
    "ls=[[\"nata\", \"pizza\"], [\"eat\", \"tea\"], [\"sort\"]]\n",
    "print(flatten(ls))\n",
    "\n",
    "ls=[\"nata\", \"pizza\", [\"eat\", \"tea\"], [\"sort\"]]\n",
    "\n",
    "flat_list = []\n",
    "for sublist in ls:\n",
    "    for item in sublist:\n",
    "        flat_list.append(item)\n",
    "\n",
    "print(flat_list)"
   ]
  },
  {
   "cell_type": "markdown",
   "id": "1450aa82",
   "metadata": {},
   "source": [
    "Problem Statement:\n",
    " Given a list of strings, group them into anagrams (words with the same letters in different order).\n",
    "Example:\n",
    "Input: [\"bat\", \"tab\", \"eat\", \"tea\", \"tan\", \"nat\"]\n",
    "Output: [['bat', 'tab'], ['eat', 'tea'], ['tan', 'nat']]"
   ]
  },
  {
   "cell_type": "code",
   "execution_count": 21,
   "id": "b17c3d49",
   "metadata": {},
   "outputs": [
    {
     "name": "stdout",
     "output_type": "stream",
     "text": [
      "[['bat', 'tab'], ['eat', 'tea'], ['tan', 'nat']]\n"
     ]
    }
   ],
   "source": [
    "lis=[\"bat\", \"tab\", \"eat\", \"tea\", \"tan\", \"nat\"]\n",
    "anagrams={}\n",
    "for word in lis:\n",
    "    sortwords=''.join(sorted(word))\n",
    "    if sortwords in anagrams:\n",
    "        anagrams[sortwords].append(word)\n",
    "    else:\n",
    "        anagrams[sortwords]=[word]\n",
    "\n",
    "print(list(anagrams.values()))"
   ]
  },
  {
   "cell_type": "markdown",
   "id": "93d5f476",
   "metadata": {},
   "source": [
    "Problem Statement:\n",
    " Write a function that takes a string and returns the top 3 most frequent words in it (ignoring case and punctuation).\n",
    "Example:\n",
    "Input: \"The quick brown fox jumps over the lazy dog. The dog barked.\"\n",
    "Output: ['the', 'dog', 'quick']  # frequency: the(3), dog(2), quick(1)"
   ]
  },
  {
   "cell_type": "code",
   "execution_count": 36,
   "id": "11e5500c",
   "metadata": {},
   "outputs": [
    {
     "name": "stdout",
     "output_type": "stream",
     "text": [
      "['The', 'dog']\n"
     ]
    }
   ],
   "source": [
    "import string\n",
    "ls=\"The quick brown fox jumps over a lazy dog. The dog barked\"\n",
    "str1=ls.maketrans(\"\",\"\",string.punctuation)\n",
    "cleanstring=ls.translate(str1)\n",
    "\n",
    "cleanstring=cleanstring.split(\" \")\n",
    "dic={}\n",
    "freq=[]\n",
    "for item in cleanstring:\n",
    "    if item in dic:\n",
    "        dic[item]+=1\n",
    "        freq.append(item)\n",
    "    else:\n",
    "        dic[item]=1\n",
    "\n",
    "if \n",
    "print(freq)"
   ]
  },
  {
   "cell_type": "code",
   "execution_count": null,
   "id": "3b946d46",
   "metadata": {},
   "outputs": [],
   "source": []
  }
 ],
 "metadata": {
  "kernelspec": {
   "display_name": "Python 3 (ipykernel)",
   "language": "python",
   "name": "python3"
  },
  "language_info": {
   "codemirror_mode": {
    "name": "ipython",
    "version": 3
   },
   "file_extension": ".py",
   "mimetype": "text/x-python",
   "name": "python",
   "nbconvert_exporter": "python",
   "pygments_lexer": "ipython3",
   "version": "3.10.9"
  }
 },
 "nbformat": 4,
 "nbformat_minor": 5
}
