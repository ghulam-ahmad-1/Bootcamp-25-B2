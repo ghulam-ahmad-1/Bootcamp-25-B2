{
 "cells": [
  {
   "cell_type": "markdown",
   "id": "e145e880-a06e-4795-8626-85d4a517972f",
   "metadata": {},
   "source": [
    "Warm-up Problems\n",
    "Problem Statement:\n",
    " Write a function that compresses a string using the counts of repeated characters.\n",
    " If the compressed string is not smaller than the original, return the original.\n",
    "Example:\n",
    "Input: \"aaabbccccaaa\"\n",
    "Output: \"a3b2c4a3\"\n",
    "Input: \"abc\"\n",
    "Output: \"abc\"\n",
    "--------------------------------\n",
    "Problem Statement:\n",
    " Write a function to flatten a nested list of strings\n",
    "Example:\n",
    "input = [ 'nata', 'pizza' [ 'eat', 'tea' ], ['sort'] ]\n",
    "output [ nata', 'pizza' , ‘eat', 'tea', 'sort']\n",
    "--------------------------------\n",
    "Problem Statement:\n",
    " Given a list of strings, group them into anagrams (words with the same letters in different order).\n",
    "Example:\n",
    "Input: [\"bat\", \"tab\", \"eat\", \"tea\", \"tan\", \"nat\"]\n",
    "Output: [['bat', 'tab'], ['eat', 'tea'], ['tan', 'nat']]\n",
    "--------------------------------\n",
    "Problem Statement:\n",
    " Write a function that takes a string and returns the top 3 most frequent words in it (ignoring case and punctuation).\n",
    "Example:\n",
    "Input: \"The quick brown fox jumps over the lazy dog. The dog barked.\"\n",
    "Output: ['the', 'dog', 'quick']  # frequency: the(3), dog(2), quick(1) (edited) "
   ]
  },
  {
   "cell_type": "markdown",
   "id": "a803e319-4646-4337-b615-0856200aeabe",
   "metadata": {},
   "source": [
    "# 1:"
   ]
  },
  {
   "cell_type": "code",
   "execution_count": 7,
   "id": "e091f2e5-0283-4eb6-abab-144477becc05",
   "metadata": {},
   "outputs": [
    {
     "name": "stdout",
     "output_type": "stream",
     "text": [
      "a3b2c4a3\n"
     ]
    }
   ],
   "source": [
    "def encode(text):\n",
    "    if not text:\n",
    "        return \"\"\n",
    "\n",
    "    res = \"\"\n",
    "    count = 1\n",
    "\n",
    "    for i in range(1, len(text)):\n",
    "        if text[i] == text[i - 1]:\n",
    "            count += 1\n",
    "        else:\n",
    "            res += text[i - 1] + str(count)\n",
    "            count = 1\n",
    "\n",
    "    res += text[-1] + str(count)\n",
    "\n",
    "    return res if len(res) < len(text) else text\n",
    "\n",
    "\n",
    "print(encode(\"aaabbccccaaa\")) "
   ]
  },
  {
   "cell_type": "markdown",
   "id": "8c4d7877-b49a-43b3-b35f-befd13abd55b",
   "metadata": {},
   "source": [
    "# 2:"
   ]
  },
  {
   "cell_type": "code",
   "execution_count": 16,
   "id": "60f43c5b-643e-406d-9c8e-167ec87be69c",
   "metadata": {},
   "outputs": [
    {
     "name": "stdout",
     "output_type": "stream",
     "text": [
      "['nata', 'pizza', 'eat', 'tea', 'sort']\n"
     ]
    }
   ],
   "source": [
    "def flatten_list(lst):\n",
    "    result = []\n",
    "    for item in lst:\n",
    "        if type(item) == list:  \n",
    "            result.extend(item)\n",
    "        else:\n",
    "            result.append(item)\n",
    "    return result\n",
    "\n",
    "print(flatten_list(['nata', 'pizza', ['eat', 'tea'], ['sort']]))\n"
   ]
  },
  {
   "cell_type": "markdown",
   "id": "a9d1e77e-8b57-4642-bb2c-44fca64dc1c9",
   "metadata": {},
   "source": [
    "# 3:"
   ]
  },
  {
   "cell_type": "code",
   "execution_count": 19,
   "id": "890fdf84-b027-47f6-ac6e-dbe1c51693a1",
   "metadata": {},
   "outputs": [
    {
     "name": "stdout",
     "output_type": "stream",
     "text": [
      "[['bat', 'tab'], ['eat', 'tea'], ['tan', 'nat']]\n"
     ]
    }
   ],
   "source": [
    "def group_anagrams(words):\n",
    "    anagram_groups = {}\n",
    "\n",
    "    for word in words:\n",
    "        key = ''.join(sorted(word))\n",
    "        if key in anagram_groups:\n",
    "            anagram_groups[key].append(word)\n",
    "        else:\n",
    "            anagram_groups[key] = [word]\n",
    "\n",
    "    return list(anagram_groups.values())\n",
    "\n",
    "print(group_anagrams([\"bat\", \"tab\", \"eat\", \"tea\", \"tan\", \"nat\"]))\n"
   ]
  },
  {
   "cell_type": "markdown",
   "id": "1f4a5366-f9a5-43f2-9d64-21fc988717b0",
   "metadata": {},
   "source": [
    "# 4:"
   ]
  },
  {
   "cell_type": "code",
   "execution_count": 28,
   "id": "60df3d6f-845d-43a9-b69d-1a5caff8218a",
   "metadata": {},
   "outputs": [
    {
     "name": "stdout",
     "output_type": "stream",
     "text": [
      "['the', 'dog', 'quick']\n"
     ]
    }
   ],
   "source": [
    "import string\n",
    "\n",
    "def top_3_words(text):\n",
    "    text = text.lower()\n",
    "\n",
    "    for p in string.punctuation:\n",
    "        text = text.replace(p, '')\n",
    "\n",
    "    words = text.split()\n",
    "    \n",
    "    freq = {}\n",
    "    for word in words:\n",
    "        if word in freq:\n",
    "            freq[word] += 1\n",
    "        else:\n",
    "            freq[word] = 1\n",
    "\n",
    "    sorted_words = sorted(freq.items(), key = lambda x: x[1], reverse = True)\n",
    "    \n",
    "    top_3 = [word for word, count in sorted_words[:3]]\n",
    "    \n",
    "    return top_3\n",
    "\n",
    "\n",
    "print(top_3_words(\"The quick brown fox jumps over the lazy dog. The dog barked.\"))\n"
   ]
  },
  {
   "cell_type": "code",
   "execution_count": null,
   "id": "4e9262da-edca-4d0c-838f-2534a3bbe206",
   "metadata": {},
   "outputs": [],
   "source": []
  }
 ],
 "metadata": {
  "kernelspec": {
   "display_name": "Python 3 (ipykernel)",
   "language": "python",
   "name": "python3"
  },
  "language_info": {
   "codemirror_mode": {
    "name": "ipython",
    "version": 3
   },
   "file_extension": ".py",
   "mimetype": "text/x-python",
   "name": "python",
   "nbconvert_exporter": "python",
   "pygments_lexer": "ipython3",
   "version": "3.12.7"
  }
 },
 "nbformat": 4,
 "nbformat_minor": 5
}
