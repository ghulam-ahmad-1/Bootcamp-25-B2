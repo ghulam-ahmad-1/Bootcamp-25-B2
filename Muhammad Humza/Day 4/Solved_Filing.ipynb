{
 "cells": [
  {
   "cell_type": "markdown",
   "id": "64d0c9e3-3656-4283-99df-33c0316c7908",
   "metadata": {},
   "source": [
    "# os module – File & Directory Operations\n",
    "\n",
    "**Q:1 Create, Read, Rename, Remove files and folder**\n",
    "\n",
    "**Q:1 Get the current working directory and navigate to a sibling directory**\n",
    "\n",
    "**Q:2 Recursively list all files in a directory using only os.**\n",
    "\n",
    "**Q:3 Check if a given path is a file, directory, or doesn't exist.**\n",
    "\n",
    "**Q:4 Create a deeply nested folder structure like**\n",
    "\n",
    "**Q:5 Delete all empty directories from a given folder tree.**\n",
    "\n",
    "**Q:6 Count the number of .txt files in a directory using os.listdir().**\n",
    "\n",
    "**Q:7 Move files from one folder to another, creating the destination if needed.**\n",
    "\n",
    "**Q:8 Rename all .log files to .log.bak within a folder.**\n",
    "\n",
    "**Q:9 Print the total size of all files in a directory in MB.**\n",
    "\n",
    "**Q:10 Print the directory tree with indentation (like the tree command).**\n",
    "\n",
    "**Q:11 Write a function that synchronizes the structure of two directory trees (mirror mode).**\n",
    "\n",
    "**Q:12 Implement a safe folder deletion function that first moves the folder to a Trash directory.**\n",
    "\n",
    "**Q13: Find and print the most recently modified file in a directory recursively.**\n",
    "\n",
    "**Q:14 Generate a directory report (file count, total size, subfolders) in JSON format.**\n",
    "\n",
    "**Q:15 Track changes (additions/removals) in a directory over time using file snapshots.**\n",
    "\n"
   ]
  },
  {
   "cell_type": "code",
   "execution_count": 76,
   "id": "0cb604f0-de66-4950-b150-3ea858f1ba9c",
   "metadata": {},
   "outputs": [
    {
     "name": "stdout",
     "output_type": "stream",
     "text": [
      "Hello\n"
     ]
    }
   ],
   "source": [
    "import os\n",
    "\n",
    "base_path = r\"C:\\ML1 BootCamp\\Muhammad Humza\\Day 4 Task\"\n",
    "\n",
    "# Q1 - Create, Read, Rename, Remove files and folder\n",
    "os.mkdir(os.path.join(base_path, 'test_folder'))\n",
    "with open(os.path.join(base_path, 'test_folder', 'sample.txt'), 'w') as f:\n",
    "    f.write('Hello')\n",
    "with open(os.path.join(base_path, 'test_folder', 'sample.txt'), 'r') as f:\n",
    "    print(f.read())\n",
    "os.rename(\n",
    "    os.path.join(base_path, 'test_folder', 'sample.txt'),\n",
    "    os.path.join(base_path, 'test_folder', 'renamed.txt')\n",
    ")\n",
    "os.remove(os.path.join(base_path, 'test_folder', 'renamed.txt'))\n",
    "os.rmdir(os.path.join(base_path, 'test_folder'))\n"
   ]
  },
  {
   "cell_type": "code",
   "execution_count": 78,
   "id": "d3de0b42-c67e-49e2-b0d9-225e9d3f9a91",
   "metadata": {},
   "outputs": [],
   "source": [
    "#Get current working directory and navigate to sibling directory\n",
    "def q1b():\n",
    "    cwd = os.getcwd()\n",
    "    parent = os.path.dirname(cwd)\n",
    "    sibling = os.path.join(parent, 'sibling_directory')\n",
    "    print(cwd)\n",
    "    print(sibling)"
   ]
  },
  {
   "cell_type": "code",
   "execution_count": 80,
   "id": "9375de53-f7e0-4781-a449-6ad8eab91288",
   "metadata": {},
   "outputs": [
    {
     "name": "stdout",
     "output_type": "stream",
     "text": [
      "C:\\ML1 BootCamp\\Muhammad Humza\\Day 4 Task\\Filing.ipynb\n",
      "C:\\ML1 BootCamp\\Muhammad Humza\\Day 4 Task\\Solved_Filing.ipynb\n",
      "C:\\ML1 BootCamp\\Muhammad Humza\\Day 4 Task\\Custom CNN\\test_folder\\renamed.txt\n"
     ]
    }
   ],
   "source": [
    "# Q2 - Recursively list all files\n",
    "for root, dirs, files in os.walk(base_path):\n",
    "    for file in files:\n",
    "        print(os.path.join(root, file))\n"
   ]
  },
  {
   "cell_type": "code",
   "execution_count": 82,
   "id": "6aff88b7-92de-4cf0-9452-cd880199e516",
   "metadata": {},
   "outputs": [
    {
     "name": "stdout",
     "output_type": "stream",
     "text": [
      "Does not exist\n"
     ]
    }
   ],
   "source": [
    "# Q3 - Check if path is file, directory, or doesn't exist\n",
    "path = os.path.join(base_path, 'test_folder')\n",
    "if os.path.isfile(path):\n",
    "    print('File')\n",
    "elif os.path.isdir(path):\n",
    "    print('Directory')\n",
    "else:\n",
    "    print('Does not exist')\n",
    "\n"
   ]
  },
  {
   "cell_type": "code",
   "execution_count": 84,
   "id": "1fe3144f-c8f8-464b-b0b0-c83a0079d9b4",
   "metadata": {},
   "outputs": [],
   "source": [
    "# Q4 - Create deeply nested folders\n",
    "os.makedirs(os.path.join(base_path, 'a/b/c/d/e'))"
   ]
  },
  {
   "cell_type": "code",
   "execution_count": 86,
   "id": "a504a41f-193c-4ea9-849a-58df15a77f9b",
   "metadata": {},
   "outputs": [],
   "source": [
    "# Q5 - Delete all empty directories\n",
    "for root, dirs, files in os.walk(base_path, topdown=False):\n",
    "    for d in dirs:\n",
    "        full_path = os.path.join(root, d)\n",
    "        if not os.listdir(full_path):\n",
    "            os.rmdir(full_path)"
   ]
  },
  {
   "cell_type": "code",
   "execution_count": 88,
   "id": "73e2337b-6b7b-49fe-9931-d7c591bc141b",
   "metadata": {},
   "outputs": [
    {
     "name": "stdout",
     "output_type": "stream",
     "text": [
      "0\n"
     ]
    }
   ],
   "source": [
    "# Q6 - Count .txt files using os.listdir()\n",
    "count = 0\n",
    "for file in os.listdir(base_path):\n",
    "    if file.endswith('.txt'):\n",
    "        full = os.path.join(base_path, file)\n",
    "        if os.path.isfile(full):\n",
    "            count += 1\n",
    "print(count)"
   ]
  },
  {
   "cell_type": "code",
   "execution_count": 90,
   "id": "7b41c41b-7da5-45e5-bfdd-476e72724bcb",
   "metadata": {},
   "outputs": [],
   "source": [
    "# Q7 - Move files to another folder (create destination if needed)\n",
    "src = os.path.join(base_path, 'move_from')\n",
    "dst = os.path.join(base_path, 'move_to')\n",
    "if not os.path.exists(dst):\n",
    "    os.makedirs(dst)\n",
    "if os.path.exists(src):\n",
    "    for file in os.listdir(src):\n",
    "        s = os.path.join(src, file)\n",
    "        d = os.path.join(dst, file)\n",
    "        if os.path.isfile(s):\n",
    "            os.rename(s, d)"
   ]
  },
  {
   "cell_type": "code",
   "execution_count": 92,
   "id": "26b0a2bb-3b00-4100-b845-86d5624a98c7",
   "metadata": {},
   "outputs": [],
   "source": [
    "# Q8 - Rename all .log files to .log.bak\n",
    "for file in os.listdir(base_path):\n",
    "    if file.endswith('.log'):\n",
    "        full = os.path.join(base_path, file)\n",
    "        if os.path.isfile(full):\n",
    "            os.rename(full, full + '.bak')\n"
   ]
  },
  {
   "cell_type": "code",
   "execution_count": 94,
   "id": "04406f76-8c61-422d-b1dc-082d6b359127",
   "metadata": {},
   "outputs": [
    {
     "name": "stdout",
     "output_type": "stream",
     "text": [
      "0.042804718017578125\n"
     ]
    }
   ],
   "source": [
    "# Q9 - Total size of all files in MB\n",
    "total = 0\n",
    "for file in os.listdir(base_path):\n",
    "    full = os.path.join(base_path, file)\n",
    "    if os.path.isfile(full):\n",
    "        total += os.path.getsize(full)\n",
    "print(total / (1024 * 1024))\n"
   ]
  },
  {
   "cell_type": "code",
   "execution_count": 96,
   "id": "1a2e636e-228e-43e5-8c2a-27b465e9f994",
   "metadata": {},
   "outputs": [
    {
     "name": "stdout",
     "output_type": "stream",
     "text": [
      "Custom CNN\n",
      "    test_folder\n",
      "        renamed.txt\n",
      "Filing.ipynb\n",
      "move_to\n",
      "Solved_Filing.ipynb\n"
     ]
    }
   ],
   "source": [
    "# Q10 - Print directory tree with indentation\n",
    "def tree(path, indent=0):\n",
    "    for item in os.listdir(path):\n",
    "        full = os.path.join(path, item)\n",
    "        print(' ' * indent + item)\n",
    "        if os.path.isdir(full):\n",
    "            tree(full, indent + 4)\n",
    "tree(base_path)"
   ]
  },
  {
   "cell_type": "code",
   "execution_count": 98,
   "id": "ae90520a-7168-4c28-ba04-e38cf6969d2c",
   "metadata": {},
   "outputs": [],
   "source": [
    "# Q11 - Sync structure of two directory trees (mirror mode)\n",
    "src = os.path.join(base_path, 'dir1')\n",
    "dst = os.path.join(base_path, 'dir2')\n",
    "if os.path.exists(src):\n",
    "    for root, dirs, files in os.walk(src):\n",
    "        rel_path = os.path.relpath(root, src)\n",
    "        target_root = os.path.join(dst, rel_path)\n",
    "        if not os.path.exists(target_root):\n",
    "            os.makedirs(target_root)\n",
    "        for file in files:\n",
    "            src_file = os.path.join(root, file)\n",
    "            dst_file = os.path.join(target_root, file)\n",
    "            if not os.path.exists(dst_file):\n",
    "                with open(src_file, 'rb') as f1, open(dst_file, 'wb') as f2:\n",
    "                    f2.write(f1.read())"
   ]
  },
  {
   "cell_type": "code",
   "execution_count": 100,
   "id": "0ab3825a-334a-4720-a341-f0ea1543e7d0",
   "metadata": {},
   "outputs": [],
   "source": [
    "# Q12 - Safe delete to Trash folder\n",
    "trash = os.path.join(os.path.expanduser('~'), 'Trash')\n",
    "if not os.path.exists(trash):\n",
    "    os.makedirs(trash)\n",
    "target = os.path.join(base_path, 'folder_to_delete')\n",
    "if os.path.exists(target):\n",
    "    new_path = os.path.join(trash, os.path.basename(target))\n",
    "    os.rename(target, new_path)"
   ]
  },
  {
   "cell_type": "code",
   "execution_count": 102,
   "id": "96b7d7a2-9ca3-41b0-9a2d-1c25512f9d40",
   "metadata": {},
   "outputs": [
    {
     "name": "stdout",
     "output_type": "stream",
     "text": [
      "C:\\ML1 BootCamp\\Muhammad Humza\\Day 4 Task\\Custom CNN\\test_folder\\renamed.txt\n"
     ]
    }
   ],
   "source": [
    "# Q13 - Most recently modified file recursively\n",
    "latest = ''\n",
    "latest_time = 0\n",
    "for root, dirs, files in os.walk(base_path):\n",
    "    for file in files:\n",
    "        full = os.path.join(root, file)\n",
    "        mtime = os.path.getmtime(full)\n",
    "        if mtime > latest_time:\n",
    "            latest_time = mtime\n",
    "            latest = full\n",
    "print(latest)\n"
   ]
  },
  {
   "cell_type": "code",
   "execution_count": 104,
   "id": "e93ae0bf-78d0-4fb0-8a3e-df9e29b0596c",
   "metadata": {},
   "outputs": [
    {
     "name": "stdout",
     "output_type": "stream",
     "text": [
      "{ \"files\": 3, \"size\": 44889, \"subfolders\": 3 }\n"
     ]
    }
   ],
   "source": [
    "# Q14 - Directory report\n",
    "files = 0\n",
    "size = 0\n",
    "subfolders = 0\n",
    "for root, dirs, file_list in os.walk(base_path):\n",
    "    files += len(file_list)\n",
    "    subfolders += len(dirs)\n",
    "    for file in file_list:\n",
    "        size += os.path.getsize(os.path.join(root, file))\n",
    "report = '{ \"files\": %d, \"size\": %d, \"subfolders\": %d }' % (files, size, subfolders)\n",
    "print(report)\n"
   ]
  },
  {
   "cell_type": "code",
   "execution_count": 126,
   "id": "c904be0d-61ff-41af-9ecb-96c98dce69b9",
   "metadata": {},
   "outputs": [
    {
     "name": "stdin",
     "output_type": "stream",
     "text": [
      " \n"
     ]
    },
    {
     "name": "stdout",
     "output_type": "stream",
     "text": [
      "Changes from Sun Jun 22 06:09:57 2025 to Sun Jun 22 06:09:58 2025\n",
      "Added: set()\n",
      "Removed: set()\n",
      "Modified: set()\n"
     ]
    }
   ],
   "source": [
    "# Q15 - Snapshot changes\n",
    "import time, pickle\n",
    "directory = r\"C:\\ML1 BootCamp\\Muhammad Humza\\Day 4 Task\\Custom CNN\"\n",
    "\n",
    "t1 = time.time()\n",
    "s1 = {os.path.relpath(os.path.join(r, f), directory): os.path.getmtime(os.path.join(r, f))\n",
    "      for r, _, files in os.walk(directory) for f in files if os.path.exists(os.path.join(r, f))}\n",
    "with open('snapshot1.pkl', 'wb') as f: pickle.dump((t1, s1), f)\n",
    "\n",
    "input()\n",
    "\n",
    "t2 = time.time()\n",
    "s2 = {os.path.relpath(os.path.join(r, f), directory): os.path.getmtime(os.path.join(r, f))\n",
    "      for r, _, files in os.walk(directory) for f in files if os.path.exists(os.path.join(r, f))}\n",
    "with open('snapshot2.pkl', 'wb') as f: pickle.dump((t2, s2), f)\n",
    "\n",
    "with open('snapshot1.pkl', 'rb') as f: t1, s1 = pickle.load(f)\n",
    "with open('snapshot2.pkl', 'rb') as f: t2, s2 = pickle.load(f)\n",
    "\n",
    "a = set(s2) - set(s1)\n",
    "r = set(s1) - set(s2)\n",
    "m = {f for f in s1 if f in s2 and s1[f] != s2[f]}\n",
    "\n",
    "print(\"Changes from\", time.ctime(t1), \"to\", time.ctime(t2))\n",
    "print(\"Added:\", a)\n",
    "print(\"Removed:\", r)\n",
    "print(\"Modified:\", m)\n"
   ]
  },
  {
   "cell_type": "markdown",
   "id": "5791d390-e204-4c7a-8169-792bf6d02fd1",
   "metadata": {},
   "source": [
    "\n",
    "# glob module – Pattern Matching\n",
    "\n",
    "**Q:1 List all .csv and .json files in the current directory.**\n",
    "\n",
    "**Q:2 Recursively find all .jpg files in nested folders.**\n",
    "\n",
    "**Q:3 Use glob to count files grouped by extension.**\n",
    "\n",
    "**Q:4 Find files with names matching pattern report_*.txt.**\n",
    "\n",
    "**Q:5 Replace spaces with underscores in filenames found via glob.**\n",
    "\n",
    "**Q:6 Return all files with a date in the format 2025-06-*.log.**\n",
    "\n",
    "**Q:7 List all files with numeric names only (e.g., 123.txt).**\n",
    "\n",
    "**Q:8 Use glob to sort files by last modified time.**\n",
    "\n",
    "**Q:9 Find all .txt files larger than 100KB using glob and os.**\n",
    "\n",
    "**Q:10 Batch rename files with a custom suffix _archived.**\n",
    "\n",
    "**Q:11 Create a utility that indexes all media files and stores the paths in a SQLite DB.**\n",
    "\n",
    "**Q:12 Find duplicate filenames (regardless of path) across a directory tree.**\n",
    "\n",
    "**Q:13 Generate a file manifest with relative paths and hash (MD5) of contents.**\n",
    "\n",
    "**Q14: Use glob patterns dynamically to extract weekly reports (e.g., week_01.json, week_02.json).**\n",
    "\n",
    "**Q:15 Write a recursive file crawler that ignores folders listed in a .ignore file.**\n"
   ]
  },
  {
   "cell_type": "code",
   "execution_count": null,
   "id": "bd5b79e9-dbab-4fd0-9aa4-4ed1ce342f5f",
   "metadata": {},
   "outputs": [],
   "source": []
  },
  {
   "cell_type": "code",
   "execution_count": 2,
   "id": "e086f083-8cf2-409a-99bc-423710252c8b",
   "metadata": {},
   "outputs": [
    {
     "name": "stdout",
     "output_type": "stream",
     "text": [
      "Q1: []\n"
     ]
    }
   ],
   "source": [
    "import os\n",
    "import glob\n",
    "import hashlib\n",
    "import sqlite3\n",
    "from collections import defaultdict\n",
    "\n",
    "path = r\"C:\\ML1 BootCamp\\Muhammad Humza\\Day 4 Task\"\n",
    "\n",
    "q1 = glob.glob(os.path.join(path, \"*.csv\")) + glob.glob(os.path.join(path, \"*.json\"))\n",
    "print(\"Q1:\", q1)"
   ]
  },
  {
   "cell_type": "code",
   "execution_count": 4,
   "id": "645efcb6-eb26-4e68-b757-768e461d75d2",
   "metadata": {},
   "outputs": [
    {
     "name": "stdout",
     "output_type": "stream",
     "text": [
      "Q2: []\n"
     ]
    }
   ],
   "source": [
    "q2 = glob.glob(os.path.join(path, \"**\", \"*.jpg\"), recursive=True)\n",
    "print(\"Q2:\", q2)\n"
   ]
  },
  {
   "cell_type": "code",
   "execution_count": 6,
   "id": "7960eb22-6d5a-478d-ae2b-7313d61d601f",
   "metadata": {},
   "outputs": [
    {
     "name": "stdout",
     "output_type": "stream",
     "text": [
      "Q3: {'.ipynb': 2, '.txt': 1}\n"
     ]
    }
   ],
   "source": [
    "q3 = defaultdict(int)\n",
    "for f in glob.glob(os.path.join(path, \"**\", \"*.*\"), recursive=True):\n",
    "    ext = os.path.splitext(f)[1]\n",
    "    q3[ext] += 1\n",
    "print(\"Q3:\", dict(q3))"
   ]
  },
  {
   "cell_type": "code",
   "execution_count": 28,
   "id": "a5ddb88a-132e-44ad-98a7-ef2889b90fc4",
   "metadata": {},
   "outputs": [
    {
     "name": "stdout",
     "output_type": "stream",
     "text": [
      "Q4: ['C:\\\\ML1 BootCamp\\\\Muhammad Humza\\\\Day 4 Task\\\\Custom CNN\\\\test_folder\\\\new.txt']\n"
     ]
    }
   ],
   "source": [
    "q4 = glob.glob(os.path.join(path, \"**\", \"new*.txt\"), recursive=True)\n",
    "print(\"Q4:\", q4)\n"
   ]
  },
  {
   "cell_type": "code",
   "execution_count": 35,
   "id": "6581ba6c-a002-4d46-91bd-1f7953f24f03",
   "metadata": {},
   "outputs": [
    {
     "name": "stdout",
     "output_type": "stream",
     "text": [
      "Skipped (in use): C:\\ML1 BootCamp\\Muhammad Humza\\Day 4 Task\\Custom CNN\n",
      "Q5: []\n"
     ]
    }
   ],
   "source": [
    "path = r\"C:\\ML1 BootCamp\\Muhammad Humza\\Day 4 Task\"\n",
    "q5 = []\n",
    "\n",
    "for f in glob.glob(os.path.join(path, \"**\", \"* *\"), recursive=True):\n",
    "    dir_name = os.path.dirname(f)\n",
    "    base_name = os.path.basename(f)\n",
    "    new_base = base_name.replace(\" \", \"_\")\n",
    "    new_path = os.path.join(dir_name, new_base)\n",
    "\n",
    "    try:\n",
    "        os.rename(f, new_path)\n",
    "        q5.append((f, new_path))\n",
    "    except PermissionError:\n",
    "        print(\"Skipped (in use):\", f)\n",
    "\n",
    "print(\"Q5:\", q5)"
   ]
  },
  {
   "cell_type": "code",
   "execution_count": 37,
   "id": "ce6944a2-6a7e-4f31-a1d3-ea519703ddf0",
   "metadata": {},
   "outputs": [
    {
     "name": "stdout",
     "output_type": "stream",
     "text": [
      "Q6: []\n"
     ]
    }
   ],
   "source": [
    "q6 = glob.glob(os.path.join(path, \"2025-06-*.log\"))\n",
    "print(\"Q6:\", q6)"
   ]
  },
  {
   "cell_type": "code",
   "execution_count": 39,
   "id": "e02f22be-8e15-4438-b6f0-89171f2cbd55",
   "metadata": {},
   "outputs": [
    {
     "name": "stdout",
     "output_type": "stream",
     "text": [
      "Q7: []\n"
     ]
    }
   ],
   "source": [
    "q7 = []\n",
    "for f in glob.glob(os.path.join(path, \"**\", \"[0-9]*.txt\"), recursive=True):\n",
    "    if os.path.basename(f).split('.')[0].isdigit():\n",
    "        q7.append(f)\n",
    "print(\"Q7:\", q7)"
   ]
  },
  {
   "cell_type": "code",
   "execution_count": 41,
   "id": "1347debe-d3e6-435c-9419-7c83319ea167",
   "metadata": {},
   "outputs": [
    {
     "name": "stdout",
     "output_type": "stream",
     "text": [
      "Q8: ['C:\\\\ML1 BootCamp\\\\Muhammad Humza\\\\Day 4 Task\\\\Filing.ipynb', 'C:\\\\ML1 BootCamp\\\\Muhammad Humza\\\\Day 4 Task\\\\Custom CNN', 'C:\\\\ML1 BootCamp\\\\Muhammad Humza\\\\Day 4 Task\\\\move_to', 'C:\\\\ML1 BootCamp\\\\Muhammad Humza\\\\Day 4 Task\\\\Custom CNN\\\\test_folder\\\\new.txt', 'C:\\\\ML1 BootCamp\\\\Muhammad Humza\\\\Day 4 Task\\\\Custom CNN\\\\test_folder', 'C:\\\\ML1 BootCamp\\\\Muhammad Humza\\\\Day 4 Task\\\\Solved_Filing.ipynb']\n"
     ]
    }
   ],
   "source": [
    "q8 = sorted(glob.glob(os.path.join(path, \"**\", \"*\"), recursive=True), key=os.path.getmtime)\n",
    "print(\"Q8:\", q8)\n"
   ]
  },
  {
   "cell_type": "code",
   "execution_count": 43,
   "id": "3a4d87d4-a7ea-4926-b1f6-98b57ef14353",
   "metadata": {},
   "outputs": [
    {
     "name": "stdout",
     "output_type": "stream",
     "text": [
      "Q9: []\n"
     ]
    }
   ],
   "source": [
    "q9 = []\n",
    "for f in glob.glob(os.path.join(path, \"**\", \"*.txt\"), recursive=True):\n",
    "    if os.path.getsize(f) > 100 * 1024:\n",
    "        q9.append(f)\n",
    "print(\"Q9:\", q9)"
   ]
  },
  {
   "cell_type": "code",
   "execution_count": 45,
   "id": "e6c8c4f5-ccca-4503-ab99-41e81d18576b",
   "metadata": {},
   "outputs": [
    {
     "name": "stdout",
     "output_type": "stream",
     "text": [
      "Q10: [('C:\\\\ML1 BootCamp\\\\Muhammad Humza\\\\Day 4 Task\\\\Filing.ipynb', 'C:\\\\ML1 BootCamp\\\\Muhammad Humza\\\\Day 4 Task\\\\Filing_archived.ipynb'), ('C:\\\\ML1 BootCamp\\\\Muhammad Humza\\\\Day 4 Task\\\\Solved_Filing.ipynb', 'C:\\\\ML1 BootCamp\\\\Muhammad Humza\\\\Day 4 Task\\\\Solved_Filing_archived.ipynb'), ('C:\\\\ML1 BootCamp\\\\Muhammad Humza\\\\Day 4 Task\\\\Custom CNN\\\\test_folder\\\\new.txt', 'C:\\\\ML1 BootCamp\\\\Muhammad Humza\\\\Day 4 Task\\\\Custom CNN\\\\test_folder\\\\new_archived.txt')]\n"
     ]
    }
   ],
   "source": [
    "q10 = []\n",
    "for f in glob.glob(os.path.join(path, \"**\", \"*.*\"), recursive=True):\n",
    "    root, ext = os.path.splitext(f)\n",
    "    new = root + \"_archived\" + ext\n",
    "    os.rename(f, new)\n",
    "    q10.append((f, new))\n",
    "print(\"Q10:\", q10)\n",
    "\n",
    "media_exts = ['*.mp4', '*.mp3', '*.avi', '*.mov', '*.jpg', '*.png']"
   ]
  },
  {
   "cell_type": "code",
   "execution_count": 47,
   "id": "7ee706df-4370-4da5-a142-b95c9437caca",
   "metadata": {},
   "outputs": [
    {
     "name": "stdout",
     "output_type": "stream",
     "text": [
      "Q11: Media files indexed in SQLite DB\n"
     ]
    }
   ],
   "source": [
    "q11 = []\n",
    "for ext in media_exts:\n",
    "    q11 += glob.glob(os.path.join(path, \"**\", ext), recursive=True)\n",
    "conn = sqlite3.connect(\"media_index.db\")\n",
    "c = conn.cursor()\n",
    "c.execute(\"CREATE TABLE IF NOT EXISTS media (path TEXT)\")\n",
    "c.executemany(\"INSERT INTO media (path) VALUES (?)\", [(f,) for f in q11])\n",
    "conn.commit()\n",
    "conn.close()\n",
    "print(\"Q11: Media files indexed in SQLite DB\")"
   ]
  },
  {
   "cell_type": "code",
   "execution_count": 49,
   "id": "e9009881-91b6-499d-be9e-5b00becf893f",
   "metadata": {},
   "outputs": [
    {
     "name": "stdout",
     "output_type": "stream",
     "text": [
      "Q12: {}\n"
     ]
    }
   ],
   "source": [
    "q12_all = glob.glob(os.path.join(path, \"**\", \"*.*\"), recursive=True)\n",
    "name_map = defaultdict(list)\n",
    "for f in q12_all:\n",
    "    name = os.path.basename(f)\n",
    "    name_map[name].append(f)\n",
    "q12 = {k: v for k, v in name_map.items() if len(v) > 1}\n",
    "print(\"Q12:\", q12)"
   ]
  },
  {
   "cell_type": "code",
   "execution_count": 51,
   "id": "6bf8902d-f3a0-48ad-becb-b99163059561",
   "metadata": {},
   "outputs": [
    {
     "name": "stdout",
     "output_type": "stream",
     "text": [
      "Q13: [('Filing_archived.ipynb', '1ca3d253067a812a3e37f10ac708038b'), ('Solved_Filing_archived.ipynb', 'c7004f74de7cacf5d6b2f83723979487'), ('Custom CNN\\\\test_folder\\\\new_archived.txt', 'd41d8cd98f00b204e9800998ecf8427e')]\n"
     ]
    }
   ],
   "source": [
    "q13 = []\n",
    "for f in q12_all:\n",
    "    try:\n",
    "        with open(f, \"rb\") as file:\n",
    "            content = file.read()\n",
    "        rel_path = os.path.relpath(f, path)\n",
    "        md5_hash = hashlib.md5(content).hexdigest()\n",
    "        q13.append((rel_path, md5_hash))\n",
    "    except:\n",
    "        pass\n",
    "print(\"Q13:\", q13)\n"
   ]
  },
  {
   "cell_type": "code",
   "execution_count": 53,
   "id": "04b33b98-b54f-4513-a552-da8cdd53c97c",
   "metadata": {},
   "outputs": [
    {
     "name": "stdout",
     "output_type": "stream",
     "text": [
      "Q14: []\n"
     ]
    }
   ],
   "source": [
    "q14 = glob.glob(os.path.join(path, \"week_*.json\"))\n",
    "print(\"Q14:\", q14)\n",
    "\n",
    "ignore_list = []\n",
    "if os.path.exists(os.path.join(path, \".ignore\")):\n",
    "    with open(os.path.join(path, \".ignore\")) as f:\n",
    "        ignore_list = [line.strip() for line in f if line.strip()]"
   ]
  },
  {
   "cell_type": "code",
   "execution_count": 55,
   "id": "c5eca2f0-33d0-4cff-bc46-04ef2ec87b31",
   "metadata": {},
   "outputs": [
    {
     "name": "stdout",
     "output_type": "stream",
     "text": [
      "Q15: ['C:\\\\ML1 BootCamp\\\\Muhammad Humza\\\\Day 4 Task\\\\Filing_archived.ipynb', 'C:\\\\ML1 BootCamp\\\\Muhammad Humza\\\\Day 4 Task\\\\Solved_Filing_archived.ipynb', 'C:\\\\ML1 BootCamp\\\\Muhammad Humza\\\\Day 4 Task\\\\Custom CNN\\\\test_folder\\\\new_archived.txt']\n"
     ]
    }
   ],
   "source": [
    "q15 = []\n",
    "for root, dirs, files in os.walk(path):\n",
    "    if any(ignored in root for ignored in ignore_list):\n",
    "        continue\n",
    "    for file in files:\n",
    "        q15.append(os.path.join(root, file))\n",
    "print(\"Q15:\", q15)"
   ]
  },
  {
   "cell_type": "markdown",
   "id": "11836593-dc92-44d0-953c-46ac17571473",
   "metadata": {},
   "source": [
    "\n",
    "# File Handling – Text & Binary Files\n",
    "\n",
    "**Q:1 Count the number of lines in a file without loading it entirely.**\n",
    "\n",
    "**Q:2 Replace a specific word in a file and save it to a new file.**\n",
    "\n",
    "**Q:3 Append data to an existing file with a timestamp.**\n",
    "\n",
    "**Q:4 Read and print the first 10 lines of a file.**\n",
    "\n",
    "**Q:5 Write a list of dictionaries as CSV manually (without csv module).**\n",
    "\n",
    "**Q:6 Copy a binary file in chunks (e.g., image or PDF).**\n",
    "\n",
    "**Q:7 Write a function to compare two files and print the differing lines.**\n",
    "\n",
    "**Q:8 Safely read a file that may not exist using try-except.**\n",
    "\n",
    "**Q:9 Read a file using a specific encoding (e.g., UTF-16).**\n",
    "\n",
    "**Q:10 Detect and skip empty lines when reading a file.**\n",
    "\n",
    "**Q:11 Implement a log rotation mechanism: create log.txt, log_1.txt, etc. when size exceeds 1MB.**\n",
    "\n",
    "**Q:12 Build a file-based key-value store using JSON per line.**\n",
    "\n",
    "**Q:13 Implement version control: on every write, back up the previous version with a timestamp.**\n",
    "\n",
    "**Q:14 Create a reader that detects encoding using chardet or fallback encoding.**\n",
    "\n",
    "**Q:15 Convert a large log file into separate files per date based on timestamps in each line.**\n"
   ]
  },
  {
   "cell_type": "code",
   "execution_count": null,
   "id": "cd9fca21-d1a6-43c9-a323-ac90a2d11f00",
   "metadata": {},
   "outputs": [],
   "source": []
  },
  {
   "cell_type": "code",
   "execution_count": null,
   "id": "973c8888-d4f2-4ef3-a557-935b1c0153f9",
   "metadata": {},
   "outputs": [],
   "source": []
  },
  {
   "cell_type": "code",
   "execution_count": null,
   "id": "0366559c-111f-43cd-b9cf-d5a0a57951ac",
   "metadata": {},
   "outputs": [],
   "source": []
  },
  {
   "cell_type": "code",
   "execution_count": null,
   "id": "5aeb7999-c659-452c-a71f-7f49ca9f1893",
   "metadata": {},
   "outputs": [],
   "source": []
  },
  {
   "cell_type": "code",
   "execution_count": null,
   "id": "53751a3c-9427-4fe1-97b4-ecc3646dd2b6",
   "metadata": {},
   "outputs": [],
   "source": []
  },
  {
   "cell_type": "code",
   "execution_count": null,
   "id": "f66f88dd-9e32-44fa-acc1-d5099df1cfea",
   "metadata": {},
   "outputs": [],
   "source": []
  },
  {
   "cell_type": "code",
   "execution_count": null,
   "id": "03611855-540e-4c06-b88a-9818bd7c4e1f",
   "metadata": {},
   "outputs": [],
   "source": []
  },
  {
   "cell_type": "code",
   "execution_count": null,
   "id": "cd9c5d25-b370-48a7-b94d-5d0cf1c2747e",
   "metadata": {},
   "outputs": [],
   "source": []
  },
  {
   "cell_type": "code",
   "execution_count": null,
   "id": "e0ec443e-67c2-4aae-bf45-61348919674a",
   "metadata": {},
   "outputs": [],
   "source": []
  },
  {
   "cell_type": "code",
   "execution_count": null,
   "id": "9711969f-5301-4867-b7b9-dba59247ca48",
   "metadata": {},
   "outputs": [],
   "source": []
  },
  {
   "cell_type": "code",
   "execution_count": null,
   "id": "432c9462-d5ca-4f95-953c-15c9c7136de9",
   "metadata": {},
   "outputs": [],
   "source": []
  },
  {
   "cell_type": "code",
   "execution_count": null,
   "id": "80361657-7f56-4534-b5f6-b7eee56ecc67",
   "metadata": {},
   "outputs": [],
   "source": []
  },
  {
   "cell_type": "code",
   "execution_count": null,
   "id": "9a72e9a6-e186-4d1d-b8b5-f52b3b781d59",
   "metadata": {},
   "outputs": [],
   "source": []
  },
  {
   "cell_type": "code",
   "execution_count": null,
   "id": "9876fee2-bf07-4bc1-aee4-e7720ee401bd",
   "metadata": {},
   "outputs": [],
   "source": []
  },
  {
   "cell_type": "code",
   "execution_count": null,
   "id": "3c941d47-d2a4-473e-b853-798bccd0d1d2",
   "metadata": {},
   "outputs": [],
   "source": []
  },
  {
   "cell_type": "markdown",
   "id": "49b7b4dc-a5af-49a8-b1a6-2629376ed791",
   "metadata": {
    "jp-MarkdownHeadingCollapsed": true
   },
   "source": [
    "\n",
    "# JSON Handling – json module\n",
    "\n",
    "**Q:1 Load JSON from a file and print a nested field (e.g., data[\"user\"][\"name\"]).**\n",
    "\n",
    "**Q:2 Write a Python dict to a file with pretty formatting.**\n",
    "\n",
    "**Q:3 Merge multiple JSON objects into a single file.**\n",
    "\n",
    "**Q:4 Convert a JSON array into CSV format.**\n",
    "\n",
    "**Q:5 Update a nested key inside a loaded JSON.**\n",
    "\n",
    "**Q:6 Create a function to pretty-print JSON from string input.**\n",
    "\n",
    "**Q:7 Safely load malformed JSON with exception handling.**\n",
    "\n",
    "**Q:8 Remove a key from each item in a JSON list and re-save.**\n",
    "\n",
    "**Q:9 Convert an object with datetime to a JSON string using a custom encoder.**\n",
    "\n",
    "**Q:10 Search for all values associated with a key in nested JSON.**\n",
    "\n",
    "**Q:11 Write a function to flatten deeply nested JSON into a flat dictionary.**\n",
    "\n",
    "**Q:12 Build a recursive JSON validator for required schema keys.**\n",
    "\n",
    "**Q:13 Convert a nested JSON into a pandas DataFrame with normalized columns.**\n",
    "\n",
    "**Q:14 Create a diff tool that compares two JSON files and shows key-level changes.**\n",
    "\n",
    "**Q:15 Handle and fix trailing commas in malformed JSON before parsing.**\n",
    "\n"
   ]
  },
  {
   "cell_type": "code",
   "execution_count": null,
   "id": "96ed1e4b-4790-418d-ba76-3fd3697603c6",
   "metadata": {},
   "outputs": [],
   "source": []
  },
  {
   "cell_type": "code",
   "execution_count": null,
   "id": "a945a883-853d-412f-b1eb-4696b812d624",
   "metadata": {},
   "outputs": [],
   "source": []
  },
  {
   "cell_type": "code",
   "execution_count": null,
   "id": "bea19279-5e6b-4e2b-8b55-5f1afa5bf4d4",
   "metadata": {},
   "outputs": [],
   "source": []
  },
  {
   "cell_type": "code",
   "execution_count": null,
   "id": "47d69ea5-4a78-48b2-83e2-c02b21be9c58",
   "metadata": {},
   "outputs": [],
   "source": []
  },
  {
   "cell_type": "code",
   "execution_count": null,
   "id": "44ca8311-ecec-4810-a343-fef73c3fdda4",
   "metadata": {},
   "outputs": [],
   "source": []
  },
  {
   "cell_type": "code",
   "execution_count": null,
   "id": "0ea9a5f6-031c-49d3-bbc5-165459650667",
   "metadata": {},
   "outputs": [],
   "source": []
  },
  {
   "cell_type": "code",
   "execution_count": null,
   "id": "c29b99d1-d6e9-4fca-9c86-c9c62cb3d03b",
   "metadata": {},
   "outputs": [],
   "source": []
  },
  {
   "cell_type": "code",
   "execution_count": null,
   "id": "b3708f19-a270-4366-bd8e-6044a70d2989",
   "metadata": {},
   "outputs": [],
   "source": []
  },
  {
   "cell_type": "code",
   "execution_count": null,
   "id": "c4462486-b8a9-492b-8c85-415a6869ac9d",
   "metadata": {},
   "outputs": [],
   "source": []
  },
  {
   "cell_type": "code",
   "execution_count": null,
   "id": "b5a38e81-21a8-4534-bf38-b56e602348cb",
   "metadata": {},
   "outputs": [],
   "source": []
  },
  {
   "cell_type": "code",
   "execution_count": null,
   "id": "edeaed10-eec5-450f-a8bb-ab3d9c200aa8",
   "metadata": {},
   "outputs": [],
   "source": []
  },
  {
   "cell_type": "code",
   "execution_count": null,
   "id": "719153bf-475c-404e-ab37-4df1bae3355d",
   "metadata": {},
   "outputs": [],
   "source": []
  },
  {
   "cell_type": "code",
   "execution_count": null,
   "id": "e3306548-70c6-4a3b-8977-93d0f632d2e7",
   "metadata": {},
   "outputs": [],
   "source": []
  },
  {
   "cell_type": "code",
   "execution_count": null,
   "id": "c22e231e-9fd0-41ea-a70d-0d0095e4665e",
   "metadata": {},
   "outputs": [],
   "source": []
  },
  {
   "cell_type": "code",
   "execution_count": null,
   "id": "a9fb0524-fa1d-4cc8-99e6-c52f55e6f085",
   "metadata": {},
   "outputs": [],
   "source": []
  },
  {
   "cell_type": "markdown",
   "id": "3083804d-5685-4ed0-852d-40333ae26433",
   "metadata": {},
   "source": [
    "    \n",
    "# Regular Expressions – re module\n",
    "\n",
    "**Q:1 Extract email addresses from a string using re.findall().**\n",
    "\n",
    "**Q:2 Validate a US phone number using regex.**\n",
    "\n",
    "**Q:3 Extract hashtags from a tweet-like string.**\n",
    "\n",
    "**Q:4 Replace all numbers with # in a paragraph.**\n",
    "\n",
    "**Q:5 Match filenames with extension .pdf, .docx, or .xlsx.**\n",
    "\n",
    "**Q:6 Split a paragraph into sentences using regex.**\n",
    "\n",
    "**Q:7 Match a date in the format DD-MM-YYYY or YYYY/MM/DD.**\n",
    "\n",
    "**Q:8 Extract quoted strings from text (e.g., \"like this\").**\n",
    "\n",
    "**Q:9 Clean a text by removing special characters except alphanumerics and spaces.**\n",
    "\n",
    "**Q:10 Capture repeated words like the the, is is in a sentence.**\n",
    "\n",
    "**Q:11 Write a regex that extracts values from key-value pairs (key: value) even if keys contain spaces.**\n",
    "\n",
    "**Q:12 Extract nested parentheses using recursive regex (advanced feature).**\n",
    "\n",
    "**Q:13 Create a regex to detect and fix malformed URLs in a text block.**\n",
    "\n",
    "**Q:14 Build a pattern to extract address-like strings (e.g., 123 Main St, City, ZIP).**\n",
    "\n",
    "**Q:15 Tokenize a log line into timestamp, level, and message using regex groups.**"
   ]
  },
  {
   "cell_type": "code",
   "execution_count": 128,
   "id": "f26db1f6-d95e-4acf-9865-f30af739bdec",
   "metadata": {},
   "outputs": [
    {
     "name": "stdout",
     "output_type": "stream",
     "text": [
      "['john.doe@example.com', 'jane_doe123@test.co.uk']\n"
     ]
    }
   ],
   "source": [
    "import re\n",
    "text = \"Contact us at john.doe@example.com and jane_doe123@test.co.uk\"\n",
    "emails = re.findall(r'[a-zA-Z0-9._%+-]+@[a-zA-Z0-9.-]+\\.[a-zA-Z]{2,}', text)\n",
    "print(emails)\n"
   ]
  },
  {
   "cell_type": "code",
   "execution_count": 130,
   "id": "9df5434d-35b9-4115-b333-ace145a2bdda",
   "metadata": {},
   "outputs": [
    {
     "name": "stdout",
     "output_type": "stream",
     "text": [
      "['123-456-7890', '(123) 456-7890']\n"
     ]
    }
   ],
   "source": [
    "text = \"Call me at 123-456-7890 or (123) 456-7890\"\n",
    "phones = re.findall(r'\\(?\\d{3}\\)?[-\\s]?\\d{3}-\\d{4}', text)\n",
    "print(phones)"
   ]
  },
  {
   "cell_type": "code",
   "execution_count": 132,
   "id": "661df70d-da86-4263-9964-a6ac85f13087",
   "metadata": {},
   "outputs": [
    {
     "name": "stdout",
     "output_type": "stream",
     "text": [
      "['#weather', '#sunshine', '#beach']\n"
     ]
    }
   ],
   "source": [
    "text = \"Loving the #weather and #sunshine at the #beach\"\n",
    "hashtags = re.findall(r'#\\w+', text)\n",
    "print(hashtags)\n"
   ]
  },
  {
   "cell_type": "code",
   "execution_count": 134,
   "id": "b0d06c91-2baa-4cc3-b919-d5b66e479ce1",
   "metadata": {},
   "outputs": [
    {
     "name": "stdout",
     "output_type": "stream",
     "text": [
      "My number is ##### and zip is #####\n"
     ]
    }
   ],
   "source": [
    "text = \"My number is 12345 and zip is 90210\"\n",
    "replaced = re.sub(r'\\d', '#', text)\n",
    "print(replaced)\n"
   ]
  },
  {
   "cell_type": "code",
   "execution_count": 136,
   "id": "47b77dc7-10d4-4dd3-bff1-96221bf711cb",
   "metadata": {},
   "outputs": [
    {
     "name": "stdout",
     "output_type": "stream",
     "text": [
      "['pdf', 'xlsx', 'docx']\n"
     ]
    }
   ],
   "source": [
    "text = \"Files: report.pdf, data.xlsx, notes.docx, image.png\"\n",
    "files = re.findall(r'\\b\\w+\\.(pdf|docx|xlsx)\\b', text)\n",
    "print(files)\n"
   ]
  },
  {
   "cell_type": "code",
   "execution_count": 138,
   "id": "56308ae4-1cba-4d32-93a3-6c0b6ec54047",
   "metadata": {},
   "outputs": [
    {
     "name": "stdout",
     "output_type": "stream",
     "text": [
      "['Hello there!', 'How are you?', \"I'm fine.\", 'Thanks for asking.']\n"
     ]
    }
   ],
   "source": [
    "text = \"Hello there! How are you? I'm fine. Thanks for asking.\"\n",
    "sentences = re.split(r'(?<=[.!?])\\s+', text)\n",
    "print(sentences)\n"
   ]
  },
  {
   "cell_type": "code",
   "execution_count": 140,
   "id": "506b8c6c-eb88-4d2a-9ca9-a1f1fb3ace9f",
   "metadata": {},
   "outputs": [
    {
     "name": "stdout",
     "output_type": "stream",
     "text": [
      "['25-12-2024', '2024/12/25']\n"
     ]
    }
   ],
   "source": [
    "text = \"Dates: 25-12-2024 and 2024/12/25 are important.\"\n",
    "dates = re.findall(r'\\b\\d{2}-\\d{2}-\\d{4}\\b|\\b\\d{4}/\\d{2}/\\d{2}\\b', text)\n",
    "print(dates)\n"
   ]
  },
  {
   "cell_type": "code",
   "execution_count": 142,
   "id": "8ae3d300-1edc-48ed-8989-5a324c4e6a5c",
   "metadata": {},
   "outputs": [
    {
     "name": "stdout",
     "output_type": "stream",
     "text": [
      "['hello', 'goodbye']\n"
     ]
    }
   ],
   "source": [
    "text = 'She said \"hello\" and then \"goodbye\".'\n",
    "quotes = re.findall(r'\"(.*?)\"', text)\n",
    "print(quotes)\n"
   ]
  },
  {
   "cell_type": "code",
   "execution_count": 144,
   "id": "a2451580-9fd8-4352-95dc-712a1bc956f5",
   "metadata": {},
   "outputs": [
    {
     "name": "stdout",
     "output_type": "stream",
     "text": [
      "Hello Hows it going 100 amazing Python\n"
     ]
    }
   ],
   "source": [
    "text = \"Hello! How's it going? $100 #amazing @Python\"\n",
    "cleaned = re.sub(r'[^a-zA-Z0-9 ]+', '', text)\n",
    "print(cleaned)\n"
   ]
  },
  {
   "cell_type": "code",
   "execution_count": 146,
   "id": "8ddb494a-144b-4a43-8213-519acf6e04a2",
   "metadata": {},
   "outputs": [
    {
     "name": "stdout",
     "output_type": "stream",
     "text": [
      "['is', 'the']\n"
     ]
    }
   ],
   "source": [
    "text = \"This is is a test to see the the repeated words.\"\n",
    "repeats = re.findall(r'\\b(\\w+)\\s+\\1\\b', text, re.IGNORECASE)\n",
    "print(repeats)\n"
   ]
  },
  {
   "cell_type": "code",
   "execution_count": 148,
   "id": "1f66d7a7-5d04-41d0-b569-28c958a0c8c3",
   "metadata": {},
   "outputs": [
    {
     "name": "stdout",
     "output_type": "stream",
     "text": [
      "['John Doe', '30', '123 Main St']\n"
     ]
    }
   ],
   "source": [
    "text = \"Name: John Doe, Age: 30, Address: 123 Main St\"\n",
    "values = re.findall(r'\\b[\\w\\s]+:\\s*([^,]+)', text)\n",
    "print(values)\n"
   ]
  },
  {
   "cell_type": "code",
   "execution_count": 152,
   "id": "d0c7747a-8a4c-4239-a69c-85a4b8e16402",
   "metadata": {},
   "outputs": [
    {
     "name": "stdout",
     "output_type": "stream",
     "text": [
      "['(parentheses)']\n"
     ]
    }
   ],
   "source": [
    "text = \"Here is (a sample (nested (parentheses)))\"\n",
    "nested = re.findall(r'\\([^()]*\\)', text)\n",
    "print(nested)\n"
   ]
  },
  {
   "cell_type": "code",
   "execution_count": 154,
   "id": "01927549-9edc-4345-b9d9-50339c41a437",
   "metadata": {},
   "outputs": [
    {
     "name": "stdout",
     "output_type": "stream",
     "text": [
      "Visit http:///www.example.com or http://example.org\n"
     ]
    }
   ],
   "source": [
    "text = \"Visit www.example.com or http:/example.org\"\n",
    "fixed = re.sub(r'\\b(www\\.[^\\s]+)', r'http://\\1', text)\n",
    "fixed = re.sub(r'\\bhttp:/([^\\s])', r'http://\\1', fixed)\n",
    "print(fixed)\n"
   ]
  },
  {
   "cell_type": "code",
   "execution_count": 156,
   "id": "b33c33df-f231-437e-905d-5e96daa719e4",
   "metadata": {},
   "outputs": [
    {
     "name": "stdout",
     "output_type": "stream",
     "text": [
      "['123 Main St, Springfield, 12345']\n"
     ]
    }
   ],
   "source": [
    "text = \"Send it to 123 Main St, Springfield, 12345 now.\"\n",
    "addresses = re.findall(r'\\d+\\s+[A-Za-z ]+,\\s*\\w+,\\s*\\d{5}', text)\n",
    "print(addresses)\n"
   ]
  },
  {
   "cell_type": "code",
   "execution_count": 158,
   "id": "7ae1f18b-befe-4427-acc3-41b08b11f5f0",
   "metadata": {},
   "outputs": [
    {
     "name": "stdout",
     "output_type": "stream",
     "text": [
      "('2025-06-20 14:22:10', 'INFO', 'Application started')\n"
     ]
    }
   ],
   "source": [
    "text = \"2025-06-20 14:22:10 [INFO] Application started\"\n",
    "match = re.match(r'(\\d{4}-\\d{2}-\\d{2} \\d{2}:\\d{2}:\\d{2}) \\[(\\w+)\\] (.+)', text)\n",
    "if match:\n",
    "    print(match.groups())\n"
   ]
  },
  {
   "cell_type": "code",
   "execution_count": null,
   "id": "b317cf7d-e836-47f7-b7ed-756ea634ef56",
   "metadata": {},
   "outputs": [],
   "source": []
  }
 ],
 "metadata": {
  "kernelspec": {
   "display_name": "Python 3 (ipykernel)",
   "language": "python",
   "name": "python3"
  },
  "language_info": {
   "codemirror_mode": {
    "name": "ipython",
    "version": 3
   },
   "file_extension": ".py",
   "mimetype": "text/x-python",
   "name": "python",
   "nbconvert_exporter": "python",
   "pygments_lexer": "ipython3",
   "version": "3.12.7"
  }
 },
 "nbformat": 4,
 "nbformat_minor": 5
}
