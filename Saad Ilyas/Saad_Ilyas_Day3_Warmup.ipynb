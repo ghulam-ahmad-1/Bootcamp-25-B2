{
 "cells": [
  {
   "cell_type": "code",
   "execution_count": 1,
   "id": "280e2646-2304-4f1a-a7ad-c4742623bca5",
   "metadata": {},
   "outputs": [
    {
     "name": "stdout",
     "output_type": "stream",
     "text": [
      "w4a3d1e1x6\n"
     ]
    }
   ],
   "source": [
    "input = \"wwwwaaadexxxxxx\"\n",
    "\n",
    "i = 0\n",
    "j = 0\n",
    "\n",
    "substrs = []\n",
    "\n",
    "while j < len(input):\n",
    "    if input[i] == input[j]:\n",
    "        j += 1\n",
    "        if j < len(input):\n",
    "            continue\n",
    "\n",
    "    \n",
    "    substrs.append(input[i:j])\n",
    "    i = j\n",
    "\n",
    "encoding = \"\"\n",
    "for i in range(len(substrs)):\n",
    "    encoding += str(substrs[i][0]) + str(len(substrs[i]))\n",
    "\n",
    "print(encoding)\n"
   ]
  },
  {
   "cell_type": "code",
   "execution_count": 35,
   "id": "cf062141-5156-410d-a6a1-61ff1621494c",
   "metadata": {},
   "outputs": [
    {
     "name": "stdout",
     "output_type": "stream",
     "text": [
      "['nata', 'pizza', 'eat', 'tea', 'sort']\n"
     ]
    }
   ],
   "source": [
    "def flatten(final, arr):\n",
    "    if not arr:\n",
    "        return final\n",
    "    \n",
    "    try:\n",
    "        if isinstance(arr[0], str):\n",
    "            y = arr[0]/0\n",
    "        for i in arr[0]:\n",
    "            flatten(final, [i])\n",
    "    except:\n",
    "        final.append(arr[0])\n",
    "    \n",
    "    return flatten(final, arr[1:])\n",
    "    \n",
    "  \n",
    "input = [ 'nata', 'pizza', [ 'eat', 'tea' ], ['sort'] ]\n",
    "final = []\n",
    "print(flatten(final, input))"
   ]
  },
  {
   "cell_type": "code",
   "execution_count": 13,
   "id": "ea46183f-0209-4285-8520-84044905238f",
   "metadata": {},
   "outputs": [
    {
     "name": "stdout",
     "output_type": "stream",
     "text": [
      "[['bat', 'tab'], ['eat', 'tea'], ['tan', 'nat']]\n"
     ]
    }
   ],
   "source": [
    "def check_anagram(word1, word2):\n",
    "    count = {}\n",
    "\n",
    "    for i in range(len(word1)):\n",
    "        if word1[i] not in count:\n",
    "            count[word1[i]] = 1\n",
    "        else:\n",
    "            count[word1[i]] += 1\n",
    "\n",
    "    count2 = {}\n",
    "\n",
    "    for i in range(len(word2)):\n",
    "        if word2[i] not in count2:\n",
    "            count2[word2[i]] = 1\n",
    "        else:\n",
    "            count2[word2[i]] += 1\n",
    "    \n",
    "    if count == count2:\n",
    "        return True\n",
    "\n",
    "    else:\n",
    "        return False\n",
    "\n",
    "\n",
    "input = [\"bat\", \"tab\", \"eat\", \"tea\", \"tan\", \"nat\"]\n",
    "output = []\n",
    "used = []\n",
    "\n",
    "for i in range(len(input) - 1):\n",
    "    arr = []\n",
    "    for j in range(i, len(input)):\n",
    "        if check_anagram(input[i], input[j]):\n",
    "            if input[j] not in arr and j not in used:\n",
    "                arr.append(input[j])\n",
    "                used.append(j)\n",
    "    if arr:\n",
    "        output.append(arr)\n",
    "\n",
    "print(output)\n",
    "            \n",
    "            \n",
    "    "
   ]
  },
  {
   "cell_type": "code",
   "execution_count": 28,
   "id": "f66edad3-ed9f-42af-a7db-02e3cd64fcea",
   "metadata": {},
   "outputs": [
    {
     "name": "stdout",
     "output_type": "stream",
     "text": [
      "['the', 'dog', 'barked']\n"
     ]
    }
   ],
   "source": [
    "input =  \"The quick brown fox jumps over the lazy dog. The dog barked.\"\n",
    "input = input.replace('.', '')\n",
    "input = input.lower()\n",
    "words = input.split(' ')\n",
    "\n",
    "count = {}\n",
    "\n",
    "for i in range(len(words)):\n",
    "    if words[i] not in count:\n",
    "        count[words[i]] = 1\n",
    "    else:\n",
    "        count[words[i]] += 1\n",
    "\n",
    "\n",
    "\n",
    "\n",
    "def sort_dict(temp):\n",
    "    arr = list(temp.items())\n",
    "    for i in range(len(arr) - 1):\n",
    "        min = arr[i]\n",
    "        ind = i\n",
    "        for j in range(i+1, len(arr)):\n",
    "            if arr[j][1] < min[1]:\n",
    "                min = arr[j]\n",
    "                ind = j\n",
    "        temp = arr[i]\n",
    "        arr[i] = arr[ind]\n",
    "        arr[ind] = temp\n",
    "    \n",
    "    dict1 = {}\n",
    "    for i in range(len(arr)):\n",
    "        key, value = arr[i]\n",
    "        dict1[key] = value\n",
    "    \n",
    "    return dict1\n",
    "\n",
    "def return_max(count, k):\n",
    "    count = sort_dict(count)\n",
    "    keys = list(count.keys())\n",
    "    \n",
    "    keys.reverse()\n",
    "    return keys[0:k]\n",
    "\n",
    "print(return_max(count, 3))\n",
    "\n"
   ]
  }
 ],
 "metadata": {
  "kernelspec": {
   "display_name": "Python 3 (ipykernel)",
   "language": "python",
   "name": "python3"
  },
  "language_info": {
   "codemirror_mode": {
    "name": "ipython",
    "version": 3
   },
   "file_extension": ".py",
   "mimetype": "text/x-python",
   "name": "python",
   "nbconvert_exporter": "python",
   "pygments_lexer": "ipython3",
   "version": "3.10.13"
  }
 },
 "nbformat": 4,
 "nbformat_minor": 5
}
