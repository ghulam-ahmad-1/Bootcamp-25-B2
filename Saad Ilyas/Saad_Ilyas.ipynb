{
 "cells": [
  {
   "cell_type": "code",
   "execution_count": 2,
   "id": "dbe32162-7de5-48f5-acc5-d2431eb56cb7",
   "metadata": {},
   "outputs": [
    {
     "name": "stdout",
     "output_type": "stream",
     "text": [
      "[['bat', 'tab'], ['tap', 'pat'], ['cat']]\n"
     ]
    }
   ],
   "source": [
    "def check_anagram(word1, word2):\n",
    "    count = {}\n",
    "\n",
    "    for i in range(len(word1)):\n",
    "        if word1[i] not in count:\n",
    "            count[word1[i]] = 1\n",
    "        else:\n",
    "            count[word1[i]] += 1\n",
    "\n",
    "    count2 = {}\n",
    "\n",
    "    for i in range(len(word2)):\n",
    "        if word2[i] not in count2:\n",
    "            count2[word2[i]] = 1\n",
    "        else:\n",
    "            count2[word2[i]] += 1\n",
    "    \n",
    "    if count == count2:\n",
    "        return True\n",
    "\n",
    "    else:\n",
    "        return False\n",
    "    \n",
    "input = [\"bat\", \"tab\", \"tap\", \"pat\", \"cat\"]\n",
    "output = []\n",
    "while input:\n",
    "    word = input.pop(0)\n",
    "    if not input:\n",
    "        output.append([word])\n",
    "    else:\n",
    "        indices = []\n",
    "        for i in range(len(input)):\n",
    "            if check_anagram(input[i], word):\n",
    "                indices.append(i)\n",
    "        anagrams = [word]\n",
    "        for idx in indices:\n",
    "            temp = input.pop(idx)\n",
    "            anagrams.append(temp)\n",
    "\n",
    "        output.append(anagrams)\n",
    "\n",
    "print(output)\n",
    "\n",
    "            \n",
    "        \n",
    "    "
   ]
  },
  {
   "cell_type": "code",
   "execution_count": 9,
   "id": "65883aee-77a4-42b9-aef9-5d17d2622715",
   "metadata": {},
   "outputs": [
    {
     "name": "stdout",
     "output_type": "stream",
     "text": [
      "[[1, 4], [2, 5], [3, 6]]\n"
     ]
    }
   ],
   "source": [
    "input = [[1, 2, 3], [4, 5, 6]]\n",
    "output = []\n",
    "for i in range(len(input[0])):\n",
    "    t_row = []\n",
    "    for j in range(len(input)):\n",
    "        t_row.append(input[j][i])\n",
    "    output.append(t_row)\n",
    "print(output)\n",
    "        \n",
    "    \n",
    "    "
   ]
  },
  {
   "cell_type": "code",
   "execution_count": 17,
   "id": "b3580481-9cc7-4758-97fe-ec9954e7923b",
   "metadata": {},
   "outputs": [
    {
     "name": "stdout",
     "output_type": "stream",
     "text": [
      "[2, 3, 5, 7]\n"
     ]
    }
   ],
   "source": [
    "def isPrime(num):\n",
    "    num_primes = []\n",
    "    for i in range(1, num + 1):\n",
    "        if num % i == 0:\n",
    "            num_primes.append(i)\n",
    "\n",
    "    if len(num_primes) > 2:\n",
    "        return False\n",
    "        \n",
    "    return True\n",
    "    \n",
    "def return_primes(n):\n",
    "    if n == 1:\n",
    "        return [1]\n",
    "    if n == 2:\n",
    "        return [2]\n",
    "    \n",
    "    primes = []\n",
    "    for i in range(2, n+1):\n",
    "        if isPrime(i):\n",
    "            primes.append(i)\n",
    "\n",
    "    return primes\n",
    "print(return_primes(10))\n",
    "    "
   ]
  },
  {
   "cell_type": "code",
   "execution_count": null,
   "id": "47aba3de-9b9e-41ec-b5b3-63e0ba7d23dd",
   "metadata": {},
   "outputs": [],
   "source": []
  }
 ],
 "metadata": {
  "kernelspec": {
   "display_name": "Python 3",
   "language": "python",
   "name": "python3"
  },
  "language_info": {
   "codemirror_mode": {
    "name": "ipython",
    "version": 3
   },
   "file_extension": ".py",
   "mimetype": "text/x-python",
   "name": "python",
   "nbconvert_exporter": "python",
   "pygments_lexer": "ipython3",
   "version": "3.12.1"
  }
 },
 "nbformat": 4,
 "nbformat_minor": 5
}
