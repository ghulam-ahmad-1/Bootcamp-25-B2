{
 "cells": [
  {
   "cell_type": "markdown",
   "id": "3f9994f8-82f8-4450-b588-4dcbc466cc3e",
   "metadata": {},
   "source": [
    "# 1. Find the Sum of All Elements in a List\n",
    "## Problem Statement:\n",
    "Write a function to return the sum of all elements in a list.\n",
    "\n",
    "## Example 1:\n",
    "**Input:** `[1, 2, 3, 4, 5]`  \n",
    "**Output:** `15`\n",
    "\n",
    "## Example 2:\n",
    "**Input:** `[10, -2, 3]`  \n",
    "**Output:** `11`\n"
   ]
  },
  {
   "cell_type": "code",
   "execution_count": 2,
   "id": "22ab5186-6302-4f99-94f7-26e1243b2b23",
   "metadata": {},
   "outputs": [
    {
     "name": "stdout",
     "output_type": "stream",
     "text": [
      "15\n"
     ]
    }
   ],
   "source": [
    "def sum(arr):\n",
    "    sum = 0\n",
    "    for i in range(len(arr)):\n",
    "        sum += arr[i]\n",
    "    \n",
    "    return sum\n",
    "\n",
    "print(sum([1,2,3,4,5]))"
   ]
  },
  {
   "cell_type": "code",
   "execution_count": null,
   "id": "2bc2fb36-de41-4a06-94c8-677512a39266",
   "metadata": {},
   "outputs": [],
   "source": []
  },
  {
   "cell_type": "markdown",
   "id": "d23b0919-b937-4ffa-9f69-e0a58e4822c8",
   "metadata": {},
   "source": [
    "# 2. Find the Maximum Element in a List\n",
    "## Problem Statement:\n",
    "Write a function to find the maximum element in a list.\n",
    "\n",
    "## Example 1:\n",
    "**Input:** `[3, 5, 1, 9, 2]`  \n",
    "**Output:** `9`\n",
    "\n",
    "## Example 2:\n",
    "**Input:** `[10, 22, 5, 8]`  \n",
    "**Output:** `22`\n"
   ]
  },
  {
   "cell_type": "code",
   "execution_count": 3,
   "id": "7d7b3e2d-d3e0-40ea-a276-6546d8d5a6dc",
   "metadata": {},
   "outputs": [
    {
     "name": "stdout",
     "output_type": "stream",
     "text": [
      "9\n"
     ]
    }
   ],
   "source": [
    "def max(arr):\n",
    "    max = arr[0]\n",
    "    for i in range(len(arr)):\n",
    "        if arr[i] > max:\n",
    "            max = arr[i]\n",
    "    \n",
    "    return max\n",
    "\n",
    "print(max([3,5,1,9,2]))"
   ]
  },
  {
   "cell_type": "code",
   "execution_count": null,
   "id": "4a7a7213-0ca0-4435-b8bb-952896ba5291",
   "metadata": {},
   "outputs": [],
   "source": []
  },
  {
   "cell_type": "markdown",
   "id": "3a468705-92a6-48b7-8cf4-f45d18a23a82",
   "metadata": {},
   "source": [
    "# 3. Find the Minimum Element in a List\n",
    "## Problem Statement:\n",
    "Write a function to find the minimum element in a list.\n",
    "\n",
    "## Example 1:\n",
    "**Input:** `[4, 7, 1, 9]`  \n",
    "**Output:** `1`\n",
    "\n",
    "## Example 2:\n",
    "**Input:** `[10, 15, 3, 8]`  \n",
    "**Output:** `3`\n"
   ]
  },
  {
   "cell_type": "code",
   "execution_count": 4,
   "id": "4d12cc30-d2d0-4d11-a297-c9abdd2841e8",
   "metadata": {},
   "outputs": [
    {
     "name": "stdout",
     "output_type": "stream",
     "text": [
      "1\n"
     ]
    }
   ],
   "source": [
    "def min(arr):\n",
    "    min = arr[0]\n",
    "    for i in range(len(arr)):\n",
    "        if arr[i] < min:\n",
    "            min = arr[i]\n",
    "    \n",
    "    return min\n",
    "\n",
    "print(min([4,7,1,9]))"
   ]
  },
  {
   "cell_type": "code",
   "execution_count": null,
   "id": "8efee63d-29d3-4d2d-aa2d-10e40467a224",
   "metadata": {},
   "outputs": [],
   "source": []
  },
  {
   "cell_type": "markdown",
   "id": "c40f3f67-f422-4be3-bf91-2a8ae2176b24",
   "metadata": {},
   "source": [
    "# 4. Reverse a List\n",
    "## Problem Statement:\n",
    "Write a function to reverse a given list.\n",
    "\n",
    "## Example 1:\n",
    "**Input:** `[1, 2, 3, 4, 5]`  \n",
    "**Output:** `[5, 4, 3, 2, 1]`\n",
    "\n",
    "## Example 2:\n",
    "**Input:** `[\"a\", \"b\", \"c\", \"d\"]`  \n",
    "**Output:** `[\"d\", \"c\", \"b\", \"a\"]`\n"
   ]
  },
  {
   "cell_type": "code",
   "execution_count": null,
   "id": "ad8b815d-4d1b-42f8-8201-3012cbb10791",
   "metadata": {},
   "outputs": [
    {
     "name": "stdout",
     "output_type": "stream",
     "text": [
      "['e', 'd', 'c', 'b', 'a']\n"
     ]
    }
   ],
   "source": [
    "def reverse(arr):\n",
    "    i = 0\n",
    "    j = len(arr) - 1\n",
    "\n",
    "    while i < j:\n",
    "        arr3 = arr[i]\n",
    "        arr[i] = arr[j]\n",
    "        arr[j] = arr3\n",
    "        i += 1\n",
    "        j -= 1\n",
    "\n",
    "    return arr\n",
    "\n",
    "print(reverse([\"a\", \"b\", \"c\", \"d\", \"e\"]))"
   ]
  },
  {
   "cell_type": "code",
   "execution_count": null,
   "id": "f4974012-8b9f-4d79-9a93-c49021d42fce",
   "metadata": {},
   "outputs": [],
   "source": []
  },
  {
   "cell_type": "markdown",
   "id": "1ce0dcfb-6e54-4ef6-935e-322632660d42",
   "metadata": {},
   "source": [
    "# 5. Check if a List is Palindromic\n",
    "## Problem Statement:\n",
    "Write a function to check if a list is the same forward and backward.\n",
    "\n",
    "## Example 1:\n",
    "**Input:** `[1, 2, 3, 2, 1]`  \n",
    "**Output:** `True`\n",
    "\n",
    "## Example 2:\n",
    "**Input:** `[1, 2, 3, 4, 5]`  \n",
    "**Output:** `False`\n"
   ]
  },
  {
   "cell_type": "code",
   "execution_count": 8,
   "id": "c21305ce-5efc-4f55-aed4-f2ecb507d12a",
   "metadata": {},
   "outputs": [
    {
     "name": "stdout",
     "output_type": "stream",
     "text": [
      "True\n"
     ]
    }
   ],
   "source": [
    "input = [1,2,3,2,1]\n",
    "output = input[::-1]\n",
    "if input == output:\n",
    "    print(\"True\")\n",
    "else:\n",
    "    print(\"False\")"
   ]
  },
  {
   "cell_type": "code",
   "execution_count": null,
   "id": "37b1b813-c8ca-460d-8eaa-45ea822ef16f",
   "metadata": {},
   "outputs": [],
   "source": []
  },
  {
   "cell_type": "markdown",
   "id": "4e03ac95-a619-4d71-bc19-4d8aa7ebc779",
   "metadata": {},
   "source": [
    "# 6. Count the Frequency of Elements in a List\n",
    "## Problem Statement:\n",
    "Write a function to count the occurrences of each element in a list.\n",
    "\n",
    "## Example 1:\n",
    "**Input:** `[1, 2, 2, 3, 3, 3]`  \n",
    "**Output:** `{1: 1, 2: 2, 3: 3}`\n",
    "\n",
    "## Example 2:\n",
    "**Input:** `[\"a\", \"b\", \"a\", \"c\", \"c\", \"c\"]`  \n",
    "**Output:** `{\"a\": 2, \"b\": 1, \"c\": 3}`\n"
   ]
  },
  {
   "cell_type": "code",
   "execution_count": 9,
   "id": "c1c47cee-c97a-4c7b-b61d-4451912705e9",
   "metadata": {},
   "outputs": [
    {
     "name": "stdout",
     "output_type": "stream",
     "text": [
      "{1: 1, 2: 2, 3: 3}\n"
     ]
    }
   ],
   "source": [
    "input = [1,2,2,3,3,3]\n",
    "count = {}\n",
    "\n",
    "for i in range(len(input)):\n",
    "    if input[i] not in count:\n",
    "        count[input[i]] = 1\n",
    "    else:\n",
    "        count[input[i]] += 1\n",
    "\n",
    "print(count)"
   ]
  },
  {
   "cell_type": "code",
   "execution_count": null,
   "id": "9f64c11f-e701-43a7-bcf3-1b06a72a16bc",
   "metadata": {},
   "outputs": [],
   "source": []
  },
  {
   "cell_type": "markdown",
   "id": "c351ff0a-2f61-478c-87bd-d71170cc4dd0",
   "metadata": {},
   "source": [
    "# 7. Find the Second Largest Number in a List\n",
    "## Problem Statement:\n",
    "Write a function to find the second largest number in a list.\n",
    "\n",
    "## Example 1:\n",
    "**Input:** `[10, 20, 4, 45, 99]`  \n",
    "**Output:** `45`\n",
    "\n",
    "## Example 2:\n",
    "**Input:** `[3, 5, 7, 7, 8]`  \n",
    "**Output:** `7`\n"
   ]
  },
  {
   "cell_type": "code",
   "execution_count": 11,
   "id": "13703cf5-889b-4ac1-81a9-223d367d8494",
   "metadata": {},
   "outputs": [
    {
     "name": "stdout",
     "output_type": "stream",
     "text": [
      "7\n"
     ]
    }
   ],
   "source": [
    "def max_remove(arr):\n",
    "    max = arr[0]\n",
    "    x = 0\n",
    "    for i in range(len(arr)):\n",
    "        if arr[i] > max:\n",
    "            max = arr[i]\n",
    "            x = i\n",
    "    arr.pop(x)\n",
    "    return arr\n",
    "\n",
    "\n",
    "input = [3,5,7,7,8]\n",
    "input = max_remove(input)\n",
    "print(max(input))\n",
    "\n"
   ]
  },
  {
   "cell_type": "code",
   "execution_count": null,
   "id": "d3456d5c-8c55-4b11-a484-edf8bff42fe9",
   "metadata": {},
   "outputs": [],
   "source": []
  },
  {
   "cell_type": "markdown",
   "id": "9c6d8daa-7f46-4bf2-a414-04a077cdb99a",
   "metadata": {},
   "source": [
    "# 8. Merge Two Sorted Lists\n",
    "## Problem Statement:\n",
    "Write a function to merge two sorted lists into a single sorted list.\n",
    "\n",
    "## Example 1:\n",
    "**Input:** `[1, 3, 5]`, `[2, 4, 6]`  \n",
    "**Output:** `[1, 2, 3, 4, 5, 6]`\n",
    "\n",
    "## Example 2:\n",
    "**Input:** `[0, 2, 8]`, `[1, 3, 7]`  \n",
    "**Output:** `[0, 1, 2, 3, 7, 8]`\n"
   ]
  },
  {
   "cell_type": "code",
   "execution_count": 12,
   "id": "f8feaf49-483c-47d9-9d0e-412e9df946d2",
   "metadata": {},
   "outputs": [
    {
     "name": "stdout",
     "output_type": "stream",
     "text": [
      "[1, 2, 3, 4, 5, 6]\n"
     ]
    }
   ],
   "source": [
    "arr1 = [1,3,5]\n",
    "arr2 = [2,4,6]\n",
    "arr3 = arr1 + arr2\n",
    "\n",
    "for i in range(len(arr3) - 1):\n",
    "        for j in range(len(arr3) - i - 1):\n",
    "            if arr3[j] > arr3[j+1]:\n",
    "                w = arr3[j]\n",
    "                arr3[j] = arr3[j+1]\n",
    "                arr3[j+1] = w\n",
    "\n",
    "print(arr3)"
   ]
  },
  {
   "cell_type": "code",
   "execution_count": null,
   "id": "644ee2d9-46dd-4e2a-915a-b19a638b97e7",
   "metadata": {},
   "outputs": [],
   "source": []
  },
  {
   "cell_type": "markdown",
   "id": "905fc429-4a5a-4455-9d5e-a761ea93bb8a",
   "metadata": {},
   "source": [
    "# 9. Remove Duplicates from a List\n",
    "## Problem Statement:\n",
    "Write a function to remove duplicate elements from a list while maintaining order.\n",
    "\n",
    "## Example 1:\n",
    "**Input:** `[1, 2, 2, 3, 4, 4, 5]`  \n",
    "**Output:** `[1, 2, 3, 4, 5]`\n",
    "\n",
    "## Example 2:\n",
    "**Input:** `[\"a\", \"b\", \"a\", \"c\", \"c\", \"d\"]`  \n",
    "**Output:** `[\"a\", \"b\", \"c\", \"d\"]`\n"
   ]
  },
  {
   "cell_type": "code",
   "execution_count": 13,
   "id": "bd3ce823-9e58-43ff-b60f-82e28f00fd19",
   "metadata": {},
   "outputs": [
    {
     "name": "stdout",
     "output_type": "stream",
     "text": [
      "[1, 2, 3, 4, 5]\n"
     ]
    }
   ],
   "source": [
    "arr = [1,2,2,3,4,4,5]\n",
    "arr2 = []\n",
    "\n",
    "for i in range(len(arr)):\n",
    "    if arr[i] not in arr2:\n",
    "        arr2.append(arr[i])\n",
    "\n",
    "print(arr2)"
   ]
  },
  {
   "cell_type": "code",
   "execution_count": null,
   "id": "acc566d7-e9c0-4a76-8062-f91d0f1e57be",
   "metadata": {},
   "outputs": [],
   "source": []
  },
  {
   "cell_type": "markdown",
   "id": "8fd83067-65a1-4859-8a82-ec7309c8bc79",
   "metadata": {},
   "source": [
    "# 10. Rotate a List by k Positions\n",
    "## Problem Statement:\n",
    "Write a function to rotate a list by `k` positions to the right.\n",
    "\n",
    "## Example 1:\n",
    "**Input:** `[1, 2, 3, 4, 5]`, `k=2`  \n",
    "**Output:** `[4, 5, 1, 2, 3]`\n",
    "\n",
    "## Example 2:\n",
    "**Input:** `[10, 20, 30, 40, 50]`, `k=3`  \n",
    "**Output:** `[30, 40, 50, 10, 20]`\n"
   ]
  },
  {
   "cell_type": "code",
   "execution_count": 14,
   "id": "ee0fcda9-c7a0-4ce1-a03b-6925c8020b19",
   "metadata": {},
   "outputs": [
    {
     "name": "stdout",
     "output_type": "stream",
     "text": [
      "[4, 5, 1, 2, 3]\n"
     ]
    }
   ],
   "source": [
    "def rotate(arr):\n",
    "    final = []\n",
    "    for i in range(len(arr)):\n",
    "        final.append(arr[i])\n",
    "\n",
    "    for i in range(len(arr)):\n",
    "        final[(i+1)%len(arr)] = arr[i]\n",
    "    \n",
    "    return final\n",
    "\n",
    "\n",
    "input = [1,2,3,4,5]\n",
    "\n",
    "k = 2\n",
    "for i in range(k):\n",
    "    input = rotate(input)\n",
    "\n",
    "print(input)"
   ]
  },
  {
   "cell_type": "code",
   "execution_count": null,
   "id": "3071afc2-ed0d-4f51-9910-6c8d06bfc1c5",
   "metadata": {},
   "outputs": [],
   "source": []
  },
  {
   "cell_type": "markdown",
   "id": "94b7d159-63f7-4efb-a0ae-d5734e84272e",
   "metadata": {},
   "source": [
    "# 11. Find the Intersection of Two Lists\n",
    "## Problem Statement:\n",
    "Write a function to find the common elements between two lists.\n",
    "\n",
    "## Example 1:\n",
    "**Input:** `[1, 2, 3, 4]`, `[3, 4, 5, 6]`  \n",
    "**Output:** `[3, 4]`\n",
    "\n",
    "## Example 2:\n",
    "**Input:** `[\"apple\", \"banana\", \"cherry\"]`, `[\"banana\", \"cherry\", \"date\"]`  \n",
    "**Output:** `[\"banana\", \"cherry\"]`\n"
   ]
  },
  {
   "cell_type": "code",
   "execution_count": null,
   "id": "2fba381c-645b-4788-bd52-8baae6cd8c82",
   "metadata": {},
   "outputs": [
    {
     "name": "stdout",
     "output_type": "stream",
     "text": [
      "[3, 4]\n"
     ]
    }
   ],
   "source": [
    "arr1 = [1,2,3,4]\n",
    "arr2 = [3,4,5,6]\n",
    "\n",
    "intersection = []\n",
    "\n",
    "if len(arr1) <= len(arr2):\n",
    "    for i in range(len(arr1)):\n",
    "        if arr1[i] in arr2:\n",
    "            intersection.append(arr1[i])\n",
    "else:\n",
    "    for i in range(len(arr2)):\n",
    "        if arr2[i] in arr1:\n",
    "            intersection.append(arr2[i])\n",
    "\n",
    "print(intersection)"
   ]
  },
  {
   "cell_type": "code",
   "execution_count": null,
   "id": "296ba470-936b-47f2-943c-b597ead49086",
   "metadata": {},
   "outputs": [],
   "source": []
  },
  {
   "cell_type": "markdown",
   "id": "d21374ba-1837-4c2d-88f3-493c9dcfb804",
   "metadata": {},
   "source": [
    "# 12. Find the Union of Two Lists\n",
    "## Problem Statement:\n",
    "Write a function to return the union of two lists (without duplicates).\n",
    "\n",
    "## Example 1:\n",
    "**Input:** `[1, 2, 3]`, `[3, 4, 5]`  \n",
    "**Output:** `[1, 2, 3, 4, 5]`\n",
    "\n",
    "## Example 2:\n",
    "**Input:** `[\"a\", \"b\", \"c\"]`, `[\"b\", \"c\", \"d\"]`  \n",
    "**Output:** `[\"a\", \"b\", \"c\", \"d\"]`\n"
   ]
  },
  {
   "cell_type": "code",
   "execution_count": 17,
   "id": "b9c68bb7-b138-4a77-a73d-108977bce975",
   "metadata": {},
   "outputs": [
    {
     "name": "stdout",
     "output_type": "stream",
     "text": [
      "[3, 4, 5, 6, 1, 2]\n"
     ]
    }
   ],
   "source": [
    "arr1 = [1,2,3,4]\n",
    "arr2 = [3,4,5,6]\n",
    "\n",
    "\n",
    "if len(arr1) <= len(arr2):\n",
    "    for i in range(len(arr1)):\n",
    "        if arr1[i] not in arr2:\n",
    "            arr2.append(arr1[i])\n",
    "    \n",
    "    print(arr2)\n",
    "else:\n",
    "    for i in range(len(arr2)):\n",
    "        if arr2[i] not in arr1:\n",
    "            arr1.append(arr2[i])\n",
    "    \n",
    "    print(arr1)\n",
    "\n"
   ]
  },
  {
   "cell_type": "code",
   "execution_count": null,
   "id": "6264bf87-40a2-40db-945f-8c3995c782c8",
   "metadata": {},
   "outputs": [],
   "source": []
  },
  {
   "cell_type": "markdown",
   "id": "e335d83d-180c-428b-b297-911ff99846fb",
   "metadata": {},
   "source": [
    "# 13. Find the Difference Between Two Lists\n",
    "## Problem Statement:\n",
    "Write a function to return elements present in the first list but not in the second.\n",
    "\n",
    "## Example 1:\n",
    "**Input:** `[1, 2, 3, 4]`, `[2, 4, 6]`  \n",
    "**Output:** `[1, 3]`\n",
    "\n",
    "## Example 2:\n",
    "**Input:** `[\"cat\", \"dog\", \"rabbit\"]`, `[\"dog\", \"rabbit\"]`  \n",
    "**Output:** `[\"cat\"]`\n"
   ]
  },
  {
   "cell_type": "code",
   "execution_count": 19,
   "id": "07389d4c-44da-45b0-bab6-ab2e638be814",
   "metadata": {},
   "outputs": [
    {
     "name": "stdout",
     "output_type": "stream",
     "text": [
      "[1, 3]\n"
     ]
    }
   ],
   "source": [
    "arr1 = [1,2,3,4]\n",
    "arr2 = [2,4,6]\n",
    "\n",
    "diff = []\n",
    "\n",
    "for i in range(len(arr1)):\n",
    "    if arr1[i] not in arr2:\n",
    "        diff.append(arr1[i])\n",
    "\n",
    "print(diff)"
   ]
  },
  {
   "cell_type": "code",
   "execution_count": null,
   "id": "dde54afd-9351-4698-9603-7d98450d7eeb",
   "metadata": {},
   "outputs": [],
   "source": []
  },
  {
   "cell_type": "markdown",
   "id": "19e90ba4-7144-45ea-880d-f31d4c01fbde",
   "metadata": {},
   "source": [
    "# 14. Find the Mode of a List\n",
    "## Problem Statement:\n",
    "Write a function to return the most frequently occurring element in a list.\n",
    "\n",
    "## Example 1:\n",
    "**Input:** `[1, 2, 2, 3, 3, 3]`  \n",
    "**Output:** `3`\n",
    "\n",
    "## Example 2:\n",
    "**Input:** `[\"apple\", \"banana\", \"apple\", \"cherry\", \"apple\"]`  \n",
    "**Output:** `\"apple\"`\n"
   ]
  },
  {
   "cell_type": "code",
   "execution_count": 29,
   "id": "bfc0ae57-4b69-401b-9c06-1f7896081fc7",
   "metadata": {},
   "outputs": [
    {
     "name": "stdout",
     "output_type": "stream",
     "text": [
      "3\n"
     ]
    }
   ],
   "source": [
    "input = [1,2,2,3,3,3]\n",
    "count = {}\n",
    "\n",
    "for i in range(len(input)):\n",
    "    if input[i] not in count:\n",
    "        count[input[i]] = 1\n",
    "    else:\n",
    "        count[input[i]] += 1\n",
    "\n",
    "keys = list(count.keys())\n",
    "k = keys[0]\n",
    "max = count[keys[0]]\n",
    "\n",
    "\n",
    "\n",
    "for i in range(len(keys)):\n",
    "    \n",
    "    if count[keys[i]] > max:\n",
    "      \n",
    "        k = keys[i]\n",
    "        max = count[keys[i]]\n",
    "\n",
    "\n",
    "print(k)\n",
    "\n"
   ]
  },
  {
   "cell_type": "code",
   "execution_count": null,
   "id": "d0e0abaf-a368-4db5-b6ff-262d1367c125",
   "metadata": {},
   "outputs": [],
   "source": []
  },
  {
   "cell_type": "markdown",
   "id": "8008537d-35c3-498b-9d8f-f412c3ee331a",
   "metadata": {},
   "source": [
    "# 15. Flatten a Nested List\n",
    "## Problem Statement:\n",
    "Write a function to flatten a nested list into a single list.\n",
    "\n",
    "## Example 1:\n",
    "**Input:** `[[1, 2, [3]], 4]`  \n",
    "**Output:** `[1, 2, 3, 4]`\n",
    "\n",
    "## Example 2:\n",
    "**Input:** `[[\"a\", [\"b\", \"c\"]], \"d\"]`  \n",
    "**Output:** `[\"a\", \"b\", \"c\", \"d\"]`\n"
   ]
  },
  {
   "cell_type": "code",
   "execution_count": 46,
   "id": "6edccc26-3633-42b6-bd2e-032ce68236f6",
   "metadata": {},
   "outputs": [
    {
     "name": "stdout",
     "output_type": "stream",
     "text": [
      "[1, 2, 3, 4, 4]\n"
     ]
    }
   ],
   "source": [
    "def flatten(final, arr):\n",
    "    if not arr:\n",
    "        return final\n",
    "    \n",
    "    try:\n",
    "        for i in arr[0]:\n",
    "            flatten(final, [i])\n",
    "    except:\n",
    "        final.append(arr[0])\n",
    "    \n",
    "    return flatten(final, arr[1:])\n",
    "    \n",
    "  \n",
    "input = [[1,2,[3], 4], 4]\n",
    "final = []\n",
    "print(flatten(final, input))\n"
   ]
  },
  {
   "cell_type": "code",
   "execution_count": null,
   "id": "75cefb05-db24-4683-a911-9594ac598682",
   "metadata": {},
   "outputs": [],
   "source": []
  },
  {
   "cell_type": "markdown",
   "id": "e1aae028-80b8-4a5f-b481-8afb6fc767e2",
   "metadata": {},
   "source": [
    "# 16. Find Pairs in a List That Sum to a Target Value\n",
    "## Problem Statement:\n",
    "Write a function to find all pairs in a list that sum to a given target.\n",
    "\n",
    "## Example 1:\n",
    "**Input:** `[1, 2, 3, 4, 5]`, `target=6`  \n",
    "**Output:** `[(1, 5), (2, 4)]`\n",
    "\n",
    "## Example 2:\n",
    "**Input:** `[2, 4, 6, 8]`, `target=10`  \n",
    "**Output:** `[(2, 8), (4, 6)]`\n"
   ]
  },
  {
   "cell_type": "code",
   "execution_count": 54,
   "id": "35f3cb07-6370-4b58-ac70-149c425ede93",
   "metadata": {},
   "outputs": [
    {
     "name": "stdout",
     "output_type": "stream",
     "text": [
      "[(2, 8), (4, 6)]\n"
     ]
    }
   ],
   "source": [
    "arr = [2,4,6,8]\n",
    "target = 10\n",
    "arr.sort()\n",
    "\n",
    "i = 0\n",
    "j = len(arr) - 1\n",
    "\n",
    "output = []\n",
    "\n",
    "while i < j:\n",
    "    if arr[i] + arr[j] == target:\n",
    "        output.append((arr[i], arr[j]))\n",
    "        i += 1\n",
    "        j -= 1\n",
    "        continue\n",
    "    \n",
    "    if arr[i+1] + arr[j] >= target:\n",
    "        j -= 1\n",
    "        continue\n",
    "    \n",
    "    if arr[i] + arr[j-1] >= target:\n",
    "        i += 1\n",
    "        continue\n",
    "\n",
    "print(output)\n",
    "\n"
   ]
  },
  {
   "cell_type": "code",
   "execution_count": null,
   "id": "a95297a6-5358-4814-a21f-0e10c6df6212",
   "metadata": {},
   "outputs": [],
   "source": []
  },
  {
   "cell_type": "markdown",
   "id": "361f2030-2016-4608-bc25-29af4908b376",
   "metadata": {},
   "source": [
    "# 17. Find the Product of All Elements Except Self\n",
    "## Problem Statement:\n",
    "Write a function that returns a list where each index contains the product of all numbers except the number at that index.\n",
    "\n",
    "## Example 1:\n",
    "**Input:** `[1, 2, 3, 4]`  \n",
    "**Output:** `[24, 12, 8, 6]`\n",
    "\n",
    "## Example 2:\n",
    "**Input:** `[5, 6, 7]`  \n",
    "**Output:** `[42, 35, 30]`\n"
   ]
  },
  {
   "cell_type": "code",
   "execution_count": 56,
   "id": "933f3985-7aa4-4cc5-9c26-45f4b46586e9",
   "metadata": {},
   "outputs": [
    {
     "name": "stdout",
     "output_type": "stream",
     "text": [
      "[24, 12, 8, 6]\n"
     ]
    }
   ],
   "source": [
    "def product_calculator(arr):\n",
    "    product = 1\n",
    "    for i in range(len(arr)):\n",
    "        product *= arr[i]\n",
    "    \n",
    "    for i in range(len(arr)):\n",
    "        arr[i] = int(product/arr[i])\n",
    "    \n",
    "    return arr\n",
    "\n",
    "input = [1,2,3,4]\n",
    "output = product_calculator(input)\n",
    "print(output)"
   ]
  },
  {
   "cell_type": "code",
   "execution_count": null,
   "id": "29d2d922-479e-43b6-861d-6c471e4989c0",
   "metadata": {},
   "outputs": [],
   "source": []
  },
  {
   "cell_type": "markdown",
   "id": "129ff3e8-fc93-4856-8cc9-5b49f84704cc",
   "metadata": {},
   "source": [
    "# 18. Find the Longest Consecutive Sequence in a List\n",
    "## Problem Statement:\n",
    "Write a function to find the longest sequence of consecutive numbers in a list.\n",
    "\n",
    "## Example 1:\n",
    "**Input:** `[100, 4, 200, 1, 3, 2]`  \n",
    "**Output:** `4  (sequence: [1, 2, 3, 4])`\n",
    "\n",
    "## Example 2:\n",
    "**Input:** `[10, 11, 12, 50, 51, 52]`  \n",
    "**Output:** `3  (sequence: [10, 11, 12])`\n"
   ]
  },
  {
   "cell_type": "code",
   "execution_count": 89,
   "id": "74775c8c-6eba-4628-b4aa-685ff18ec326",
   "metadata": {},
   "outputs": [
    {
     "name": "stdout",
     "output_type": "stream",
     "text": [
      "3 (sequence: [10, 11, 12])\n"
     ]
    }
   ],
   "source": [
    "def sequence(arr):\n",
    "    if not arr:\n",
    "        return 0\n",
    "    \n",
    "    if len(arr) == 1:\n",
    "        return 1\n",
    "    \n",
    "    arr.sort()\n",
    "    \n",
    "    sequences = []\n",
    "    \n",
    "    start = 0\n",
    "    end = 1\n",
    "\n",
    "    while end < len(arr):\n",
    "        if arr[end] == arr[end-1] + 1:\n",
    "            end += 1\n",
    "        \n",
    "        else:\n",
    "            sequences.append(arr[start:end])\n",
    "            start = end\n",
    "            end = end + 1\n",
    "            if start == len(arr) - 1:\n",
    "                sequences.append([arr[start]])\n",
    "                break\n",
    "    \n",
    "    max = len(sequences[0])\n",
    "    idx = 0\n",
    "\n",
    "    for i in range(len(sequences)):\n",
    "        if len(sequences[i]) > max:\n",
    "            max = len(sequences[i])\n",
    "            idx = i\n",
    "    \n",
    "    return f\"{max} (sequence: {sequences[idx]})\"\n",
    "\n",
    "input = [10,11,12,50,51,52]\n",
    "print(sequence(input))\n",
    "\n",
    "\n",
    "\n",
    "\n"
   ]
  },
  {
   "cell_type": "code",
   "execution_count": null,
   "id": "1e8e6260-8f83-467c-b9dd-10497f63e640",
   "metadata": {},
   "outputs": [],
   "source": []
  },
  {
   "cell_type": "markdown",
   "id": "d78db306-86d8-466d-809e-4a501d84b7e3",
   "metadata": {},
   "source": [
    "# 19. Check if a List Contains a Sublist\n",
    "## Problem Statement:\n",
    "Write a function to check if a list contains a given sublist.\n",
    "\n",
    "## Example 1:\n",
    "**Input:** `[1, 2, 3, 4, 5]`, `[3, 4]`  \n",
    "**Output:** `True`\n",
    "\n",
    "## Example 2:\n",
    "**Input:** `[10, 20, 30, 40]`, `[20, 50]`  \n",
    "**Output:** `False`\n"
   ]
  },
  {
   "cell_type": "code",
   "execution_count": null,
   "id": "f4981789-b06f-4f01-9d60-33aee6a9fc61",
   "metadata": {},
   "outputs": [
    {
     "name": "stdout",
     "output_type": "stream",
     "text": [
      "False\n"
     ]
    }
   ],
   "source": [
    "arr = [10,20,30,40]\n",
    "sublist = [20,50]\n",
    "\n",
    "def find_sublist(arr, sublist):\n",
    "    if len(sublist) > len(arr):\n",
    "        return False\n",
    "    \n",
    "    if not arr or not sublist:\n",
    "        return False\n",
    "    \n",
    "    for i in range(len(arr) - len(sublist) + 1):\n",
    "        if arr[i:i+len(sublist)] == sublist:\n",
    "            return True\n",
    "\n",
    "    return False\n",
    "\n",
    "print(find_sublist(arr, sublist))"
   ]
  },
  {
   "cell_type": "code",
   "execution_count": null,
   "id": "dbe70fad-c011-4a2b-8610-257686b41eb7",
   "metadata": {},
   "outputs": [],
   "source": []
  },
  {
   "cell_type": "markdown",
   "id": "9f92a78f-50c6-4244-89cb-44cf6d00da88",
   "metadata": {},
   "source": [
    "# 20. Find the Kth Largest Element in a List\n",
    "## Problem Statement:\n",
    "Write a function to find the `k`th largest element in a list.\n",
    "\n",
    "## Example 1:\n",
    "**Input:** `[3, 2, 1, 5, 6, 4]`, `k=2`  \n",
    "**Output:** `5`\n",
    "\n",
    "## Example 2:\n",
    "**Input:** `[10, 20, 30, 40, 50]`, `k=3`  \n",
    "**Output:** `30`\n"
   ]
  },
  {
   "cell_type": "code",
   "execution_count": 63,
   "id": "b7752ce5-63b2-414f-b2bc-5f64a1f804e4",
   "metadata": {},
   "outputs": [
    {
     "name": "stdout",
     "output_type": "stream",
     "text": [
      "30\n"
     ]
    }
   ],
   "source": [
    "input = [10,20,30,40,50]\n",
    "k = 3\n",
    "def sort_list(temp):\n",
    "\n",
    "    for i in range(len(temp) - 1):\n",
    "        for j in range(len(temp) - i - 1):\n",
    "            if temp[j] > temp[j+1]:\n",
    "                w = temp[j]\n",
    "                temp[j] = temp[j+1]\n",
    "                temp[j+1] = w\n",
    "    \n",
    "    return temp\n",
    "\n",
    "def kth_largest(arr, k):\n",
    "    arr = sort_list(arr)\n",
    "    if k > len(arr):\n",
    "        return -1\n",
    "    return arr[len(arr) - k]\n",
    "\n",
    "print(kth_largest(input, k))\n"
   ]
  },
  {
   "cell_type": "code",
   "execution_count": null,
   "id": "e9af5c07-635e-4d89-bbde-8d499d856896",
   "metadata": {},
   "outputs": [],
   "source": []
  },
  {
   "cell_type": "markdown",
   "id": "af5120a1-17b0-4d4c-880e-34835e12e1bb",
   "metadata": {},
   "source": [
    "# 21. Find All Duplicates in a List\n",
    "## Problem Statement:\n",
    "Write a function to return a list of all duplicate elements.\n",
    "\n",
    "## Example 1:\n",
    "**Input:** `[1, 2, 3, 4, 2, 3, 5]`  \n",
    "**Output:** `[2, 3]`\n",
    "\n",
    "## Example 2:\n",
    "**Input:** `[10, 10, 20, 30, 30]`  \n",
    "**Output:** `[10, 30]`\n"
   ]
  },
  {
   "cell_type": "code",
   "execution_count": 70,
   "id": "611db358-0cf5-4c2c-b63a-331be040255e",
   "metadata": {},
   "outputs": [
    {
     "name": "stdout",
     "output_type": "stream",
     "text": [
      "[10, 30]\n"
     ]
    }
   ],
   "source": [
    "input = [10,10,20,30,30]\n",
    "\n",
    "def duplicate_elements(arr):\n",
    "    count = {}\n",
    "\n",
    "    for i in range(len(arr)):\n",
    "        if arr[i] not in count:\n",
    "            count[arr[i]] = 1\n",
    "        else:\n",
    "            count[arr[i]] += 1\n",
    "    \n",
    "    duplicates = []\n",
    "    for key in count.keys():\n",
    "        if count[key] > 1:\n",
    "            duplicates.append(key)\n",
    "    \n",
    "    return duplicates\n",
    "\n",
    "print(duplicate_elements(input))"
   ]
  },
  {
   "cell_type": "code",
   "execution_count": null,
   "id": "8c9d8d57-70ac-4a21-a58a-71c67aa9fb16",
   "metadata": {},
   "outputs": [],
   "source": []
  },
  {
   "cell_type": "markdown",
   "id": "b179dc25-37ab-471a-a357-6c90633751e6",
   "metadata": {},
   "source": [
    "# 22. Partition a List into Even and Odd Elements\n",
    "## Problem Statement:\n",
    "Write a function to split a list into two separate lists, one containing even numbers and the other containing odd numbers.\n",
    "\n",
    "## Example 1:\n",
    "**Input:** `[1, 2, 3, 4, 5]`  \n",
    "**Output:** `([2, 4], [1, 3, 5])`\n",
    "\n",
    "## Example 2:\n",
    "**Input:** `[10, 15, 20, 25]`  \n",
    "**Output:** `([10, 20], [15, 25])`\n"
   ]
  },
  {
   "cell_type": "code",
   "execution_count": 72,
   "id": "06437acb-825d-49d7-ae88-da2883ebd696",
   "metadata": {},
   "outputs": [
    {
     "name": "stdout",
     "output_type": "stream",
     "text": [
      "([10, 20], [15, 25])\n"
     ]
    }
   ],
   "source": [
    "def odd_even_split(arr):\n",
    "    even = []\n",
    "    odd = []\n",
    "\n",
    "    for i in range(len(arr)):\n",
    "        if arr[i] % 2 == 0:\n",
    "            even.append(arr[i])\n",
    "        else:\n",
    "            odd.append(arr[i])\n",
    "        \n",
    "    return (even, odd)\n",
    "\n",
    "arr = [10,15,20,25]\n",
    "print(odd_even_split(arr))"
   ]
  },
  {
   "cell_type": "code",
   "execution_count": null,
   "id": "973eb955-eacb-4c3b-b028-83f3496f2ffd",
   "metadata": {},
   "outputs": [],
   "source": []
  },
  {
   "cell_type": "markdown",
   "id": "b92d2695-51ec-4780-88f2-23f8f5591479",
   "metadata": {},
   "source": [
    "# 23. Find the First Non-Repeating Element in a List\n",
    "## Problem Statement:\n",
    "Write a function to find the first element that does not repeat.\n",
    "\n",
    "## Example 1:\n",
    "**Input:** `[4, 5, 1, 2, 0, 4]`  \n",
    "**Output:** `5`\n",
    "\n",
    "## Example 2:\n",
    "**Input:** `[10, 20, 10, 30, 20]`  \n",
    "**Output:** `30`\n"
   ]
  },
  {
   "cell_type": "code",
   "execution_count": 76,
   "id": "b9dfd48e-7d1f-4fdc-a66c-b260167a145c",
   "metadata": {},
   "outputs": [
    {
     "name": "stdout",
     "output_type": "stream",
     "text": [
      "30\n"
     ]
    }
   ],
   "source": [
    "input = [10,20,10,30,20]\n",
    "\n",
    "def element(input):\n",
    "    count = {}\n",
    "\n",
    "    for i in range(len(input)):\n",
    "        if input[i] not in count:\n",
    "            count[input[i]] = 1\n",
    "        else:\n",
    "            count[input[i]] += 1\n",
    "    \n",
    "    for i in range(len(input)):\n",
    "        if count[input[i]] == 1:\n",
    "            return input[i]\n",
    "    \n",
    "    return -1\n",
    "\n",
    "num = element(input)\n",
    "print(num)\n",
    "\n",
    "\n"
   ]
  },
  {
   "cell_type": "code",
   "execution_count": null,
   "id": "9796f7dd-192a-478d-84be-f06898fc96c8",
   "metadata": {},
   "outputs": [],
   "source": []
  },
  {
   "cell_type": "markdown",
   "id": "6fb71179-2ae6-456d-b25a-db10c57e5429",
   "metadata": {},
   "source": [
    "# 24. Sort a List Without Using Built-in Sort\n",
    "## Problem Statement:\n",
    "Write a function to sort a list in ascending order without using Python’s built-in sort.\n",
    "\n",
    "## Example 1:\n",
    "**Input:** `[3, 1, 4, 1, 5, 9]`  \n",
    "**Output:** `[1, 1, 3, 4, 5, 9]`\n",
    "\n",
    "## Example 2:\n",
    "**Input:** `[10, 5, 2, 8]`  \n",
    "**Output:** `[2, 5, 8, 10]`\n"
   ]
  },
  {
   "cell_type": "code",
   "execution_count": 74,
   "id": "0ad5b31f-b1c3-4273-bc7a-98c47b958911",
   "metadata": {},
   "outputs": [
    {
     "name": "stdout",
     "output_type": "stream",
     "text": [
      "[1, 1, 3, 4, 5, 9]\n"
     ]
    }
   ],
   "source": [
    "input = [3,1,4,1,5,9]\n",
    "\n",
    "def sort_list(temp):\n",
    "\n",
    "    for i in range(len(temp) - 1):\n",
    "        for j in range(len(temp) - i - 1):\n",
    "            if temp[j] > temp[j+1]:\n",
    "                w = temp[j]\n",
    "                temp[j] = temp[j+1]\n",
    "                temp[j+1] = w\n",
    "    \n",
    "    return temp\n",
    "\n",
    "sorted_list = sort_list(input)\n",
    "print(sorted_list)"
   ]
  },
  {
   "cell_type": "code",
   "execution_count": null,
   "id": "12685e9a-841e-4b2b-8cfb-7131b1e3c6f1",
   "metadata": {},
   "outputs": [],
   "source": []
  },
  {
   "cell_type": "markdown",
   "id": "37658f34-5781-4e84-b348-48b1c8f350cc",
   "metadata": {},
   "source": [
    "# 25. Find All Triplets That Sum to Zero\n",
    "## Problem Statement:\n",
    "Write a function to find all triplets in a list that sum to zero.\n",
    "\n",
    "## Example 1:\n",
    "**Input:** `[-1, 0, 1, 2, -1, -4]`  \n",
    "**Output:** `[[-1, -1, 2], [-1, 0, 1]]`\n",
    "\n",
    "## Example 2:\n",
    "**Input:** `[1, -2, 1, 0, 5]`  \n",
    "**Output:** `[[-2, 1, 1]]`\n"
   ]
  },
  {
   "cell_type": "code",
   "execution_count": 82,
   "id": "defa0f94-4681-499b-8aeb-8fc381308d05",
   "metadata": {},
   "outputs": [
    {
     "name": "stdout",
     "output_type": "stream",
     "text": [
      "[[-2, 1, 1]]\n"
     ]
    }
   ],
   "source": [
    "input = [1,-2,1,0,5]\n",
    "\n",
    "def triplets(input):\n",
    "    combs = []\n",
    "    for i in range(len(input) - 1):\n",
    "        for j in range(i + 1, len(input)):\n",
    "            combs.append([i,j])\n",
    "\n",
    "    trips = []\n",
    "    for i in range(len(input)):\n",
    "        for j in range(len(combs)):\n",
    "            if input[i] + input[combs[j][0]] + input[combs[j][1]] == 0 and i != combs[j][0] and i != combs[j][1]:\n",
    "                temp = [input[combs[j][0]], input[combs[j][1]], input[i]]\n",
    "                temp.sort()\n",
    "                if temp not in trips:\n",
    "                    trips.append(temp)\n",
    "    \n",
    "    return trips\n",
    "\n",
    "print(triplets(input))"
   ]
  },
  {
   "cell_type": "code",
   "execution_count": null,
   "id": "cce128fa-a380-467e-9251-b0449833e334",
   "metadata": {},
   "outputs": [],
   "source": []
  },
  {
   "cell_type": "code",
   "execution_count": null,
   "id": "55f0be4a-a7a1-4d9e-8388-6112e2968e43",
   "metadata": {},
   "outputs": [],
   "source": []
  }
 ],
 "metadata": {
  "kernelspec": {
   "display_name": "Python 3",
   "language": "python",
   "name": "python3"
  },
  "language_info": {
   "codemirror_mode": {
    "name": "ipython",
    "version": 3
   },
   "file_extension": ".py",
   "mimetype": "text/x-python",
   "name": "python",
   "nbconvert_exporter": "python",
   "pygments_lexer": "ipython3",
   "version": "3.12.1"
  }
 },
 "nbformat": 4,
 "nbformat_minor": 5
}
