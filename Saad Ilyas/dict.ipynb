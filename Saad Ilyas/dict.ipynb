{
 "cells": [
  {
   "cell_type": "markdown",
   "id": "1f48d5c9",
   "metadata": {},
   "source": [
    "# 1. Create a Dictionary from Two Lists\n",
    "\n",
    "## Problem Statement:\n",
    "Write a function to create a dictionary from two lists of equal length, one for keys and one for values.\n",
    "\n",
    "## Example 1:\n",
    "**Input:** `keys = ['a', 'b'], values = [1, 2]`  \n",
    "**Output:** `{'a': 1, 'b': 2}`\n",
    "\n",
    "## Example 2:\n",
    "**Input:** `keys = ['x'], values = [10]`  \n",
    "**Output:** `{'x': 10}`\n"
   ]
  },
  {
   "cell_type": "code",
   "execution_count": 3,
   "id": "3ea65a39",
   "metadata": {},
   "outputs": [
    {
     "name": "stdout",
     "output_type": "stream",
     "text": [
      "{'a': 1, 'b': 2}\n"
     ]
    }
   ],
   "source": [
    "keys = ['a', 'b']\n",
    "values = [1,2]\n",
    "freq = {}\n",
    "for i in range(len(keys)):\n",
    "    freq[keys[i]] = values[i]\n",
    "\n",
    "print(freq)"
   ]
  },
  {
   "cell_type": "code",
   "execution_count": null,
   "id": "116d7f17",
   "metadata": {},
   "outputs": [],
   "source": []
  },
  {
   "cell_type": "markdown",
   "id": "9016196e",
   "metadata": {},
   "source": [
    "# 2. Merge Two Dictionaries\n",
    "\n",
    "## Problem Statement:\n",
    "Write a function to merge two dictionaries into one.\n",
    "\n",
    "## Example 1:\n",
    "**Input:** `{'a': 1}, {'b': 2}`  \n",
    "**Output:** `{'a': 1, 'b': 2}`\n",
    "\n",
    "## Example 2:\n",
    "**Input:** `{'x': 10}, {'y': 20, 'z': 30}`  \n",
    "**Output:** `{'x': 10, 'y': 20, 'z': 30}`\n"
   ]
  },
  {
   "cell_type": "code",
   "execution_count": 8,
   "id": "5ee5d659",
   "metadata": {},
   "outputs": [
    {
     "name": "stdout",
     "output_type": "stream",
     "text": [
      "{'b': 2, 'a': 1}\n"
     ]
    }
   ],
   "source": [
    "def merge_dicts(dict1, dict2):\n",
    "    if len(dict1) <= len(dict2):\n",
    "        for key in dict1.keys():\n",
    "            if key not in dict2:\n",
    "                dict2[key] = dict1[key]\n",
    "            else:\n",
    "                dict2[key] += dict1[key]\n",
    "        return dict2\n",
    "    \n",
    "    for key in dict1.keys():\n",
    "            if key not in dict1:\n",
    "                dict1[key] = dict2[key]\n",
    "            else:\n",
    "                dict1[key] += dict2[key]\n",
    "    return dict1\n",
    "\n",
    "print(merge_dicts({'a': 1}, {'b': 2}))  "
   ]
  },
  {
   "cell_type": "code",
   "execution_count": null,
   "id": "d9d7b5b2",
   "metadata": {},
   "outputs": [],
   "source": []
  },
  {
   "cell_type": "markdown",
   "id": "c6526c5c",
   "metadata": {},
   "source": [
    "# 3. Check if Key Exists\n",
    "\n",
    "## Problem Statement:\n",
    "Write a function to check if a specific key exists in a dictionary.\n",
    "\n",
    "## Example 1:\n",
    "**Input:** `{'a': 1}, 'a'`  \n",
    "**Output:** `True`\n",
    "\n",
    "## Example 2:\n",
    "**Input:** `{'b': 2}, 'a'`  \n",
    "**Output:** `False`\n"
   ]
  },
  {
   "cell_type": "code",
   "execution_count": 5,
   "id": "a04fa909",
   "metadata": {},
   "outputs": [
    {
     "name": "stdout",
     "output_type": "stream",
     "text": [
      "False\n"
     ]
    }
   ],
   "source": [
    "def checker(dict1, key):\n",
    "    if key in dict1:\n",
    "        return True\n",
    "    \n",
    "    return False\n",
    "\n",
    "dict1 = {'a': 1}\n",
    "key = 'c'\n",
    "\n",
    "print(checker(dict1, key))"
   ]
  },
  {
   "cell_type": "code",
   "execution_count": null,
   "id": "b1ef4e37",
   "metadata": {},
   "outputs": [],
   "source": []
  },
  {
   "cell_type": "markdown",
   "id": "e72c9a22",
   "metadata": {},
   "source": [
    "# 4. Count Frequency of Elements\n",
    "\n",
    "## Problem Statement:\n",
    "Write a function to count the frequency of each element in a list using a dictionary.\n",
    "\n",
    "## Example 1:\n",
    "**Input:** `[1,2,2,3]`  \n",
    "**Output:** `{1:1, 2:2, 3:1}`\n",
    "\n",
    "## Example 2:\n",
    "**Input:** `['a','b','a']`  \n",
    "**Output:** `{'a':2, 'b':1}`\n",
    "\n",
    "\n"
   ]
  },
  {
   "cell_type": "code",
   "execution_count": 2,
   "id": "31fd888e",
   "metadata": {},
   "outputs": [
    {
     "name": "stdout",
     "output_type": "stream",
     "text": [
      "{'a': 2, 'b': 1}\n"
     ]
    }
   ],
   "source": [
    "input = ['a', 'b', 'a']\n",
    "count = {}\n",
    "\n",
    "for i in range(len(input)):\n",
    "    if input[i] not in count:\n",
    "        count[input[i]] = 1\n",
    "    else:\n",
    "        count[input[i]] += 1\n",
    "\n",
    "print(count)"
   ]
  },
  {
   "cell_type": "code",
   "execution_count": null,
   "id": "ad5808ba",
   "metadata": {},
   "outputs": [],
   "source": []
  },
  {
   "cell_type": "markdown",
   "id": "c1b74aa9",
   "metadata": {},
   "source": [
    "# 5. Reverse Dictionary (Unique Values)\n",
    "\n",
    "## Problem Statement:\n",
    "Write a function to reverse keys and values in a dictionary. Assume values are unique.\n",
    "\n",
    "## Example 1:\n",
    "**Input:** `{'a':1, 'b':2}`  \n",
    "**Output:** `{1:'a', 2:'b'}`\n",
    "\n",
    "## Example 2:\n",
    "**Input:** `{'x':'y'}`  \n",
    "**Output:** `{'y':'x'}`\n"
   ]
  },
  {
   "cell_type": "code",
   "execution_count": 9,
   "id": "df0a31ed",
   "metadata": {},
   "outputs": [
    {
     "name": "stdout",
     "output_type": "stream",
     "text": [
      "{1: 'a', 2: 'b'}\n"
     ]
    }
   ],
   "source": [
    "dict1 = {'a':1, 'b':2}\n",
    "\n",
    "def reverse_dict(dict1):\n",
    "    dict2 = {}\n",
    "    for key in dict1.keys():\n",
    "        dict2[dict1[key]] = key\n",
    "    \n",
    "    return dict2\n",
    "\n",
    "print(reverse_dict(dict1))\n"
   ]
  },
  {
   "cell_type": "code",
   "execution_count": null,
   "id": "ba3b7a1a",
   "metadata": {},
   "outputs": [],
   "source": []
  },
  {
   "cell_type": "markdown",
   "id": "bfc01a37",
   "metadata": {},
   "source": [
    "# 6. Dictionary with Maximum Value\n",
    "\n",
    "## Problem Statement:\n",
    "Write a function that returns the key with the highest value in a dictionary.\n",
    "\n",
    "## Example 1:\n",
    "**Input:** `{'a':3, 'b':10}`  \n",
    "**Output:** `'b'`\n",
    "\n",
    "## Example 2:\n",
    "**Input:** `{'x':1, 'y':-5}`  \n",
    "**Output:** `'x'`\n"
   ]
  },
  {
   "cell_type": "code",
   "execution_count": 16,
   "id": "3ebfad1c",
   "metadata": {},
   "outputs": [
    {
     "name": "stdout",
     "output_type": "stream",
     "text": [
      "x\n"
     ]
    }
   ],
   "source": [
    "dict1 = {'x':1, 'y':-5}\n",
    "def max_key(dict1):\n",
    "    keys = list(dict1.keys())\n",
    "\n",
    "    max = dict1[keys[0]]\n",
    "    k = keys[0]\n",
    "\n",
    "    for i in range(len(keys)):\n",
    "        if dict1[keys[i]] > max:\n",
    "            max = dict1[keys[i]]\n",
    "            k = keys[i]\n",
    "    \n",
    "    return k\n",
    "\n",
    "print(max_key(dict1))"
   ]
  },
  {
   "cell_type": "code",
   "execution_count": null,
   "id": "2aead54f",
   "metadata": {},
   "outputs": [],
   "source": []
  },
  {
   "cell_type": "markdown",
   "id": "2df1f7ab",
   "metadata": {},
   "source": [
    "# 7. Remove Key from Dictionary\n",
    "\n",
    "## Problem Statement:\n",
    "Write a function that removes a specified key from a dictionary.\n",
    "\n",
    "## Example 1:\n",
    "**Input:** `{'a':1, 'b':2}, 'a'`  \n",
    "**Output:** `{'b':2}`\n",
    "\n",
    "## Example 2:\n",
    "**Input:** `{'x':3, 'y':4}, 'z'`  \n",
    "**Output:** `{'x':3, 'y':4}`\n"
   ]
  },
  {
   "cell_type": "code",
   "execution_count": 14,
   "id": "ebc9c007",
   "metadata": {},
   "outputs": [
    {
     "name": "stdout",
     "output_type": "stream",
     "text": [
      "{'a': 1, 'b': 2}\n"
     ]
    }
   ],
   "source": [
    "dict1 = {'a':1, 'b':2}\n",
    "key = 'c'\n",
    "\n",
    "def remove_key(dict1, key):\n",
    "    try:\n",
    "        dict1.pop(key)\n",
    "        return dict1\n",
    "    except:\n",
    "        return dict1\n",
    "\n",
    "print(remove_key(dict1, key))"
   ]
  },
  {
   "cell_type": "code",
   "execution_count": null,
   "id": "4c042f24",
   "metadata": {},
   "outputs": [],
   "source": []
  },
  {
   "cell_type": "markdown",
   "id": "542b30d7",
   "metadata": {},
   "source": [
    "# 8. Dictionary from String\n",
    "\n",
    "## Problem Statement:\n",
    "Write a function to count the occurrences of each character in a given string using a dictionary.\n",
    "\n",
    "## Example 1:\n",
    "**Input:** `\"hello\"`  \n",
    "**Output:** `{'h':1,'e':1,'l':2,'o':1}`\n",
    "\n",
    "## Example 2:\n",
    "**Input:** `\"abc\"`  \n",
    "**Output:** `{'a':1,'b':1,'c':1}`\n",
    "\n",
    "\n"
   ]
  },
  {
   "cell_type": "code",
   "execution_count": 17,
   "id": "1a0604ff",
   "metadata": {},
   "outputs": [
    {
     "name": "stdout",
     "output_type": "stream",
     "text": [
      "{'h': 1, 'e': 1, 'l': 2, 'o': 1}\n"
     ]
    }
   ],
   "source": [
    "input = \"hello\"\n",
    "count = {}\n",
    "\n",
    "for i in range(len(input)):\n",
    "    if input[i] not in count:\n",
    "        count[input[i]] = 1\n",
    "    else:\n",
    "        count[input[i]] += 1\n",
    "\n",
    "print(count)"
   ]
  },
  {
   "cell_type": "markdown",
   "id": "b8bb6168",
   "metadata": {},
   "source": [
    "# 9. Update Value in Dictionary\n",
    "\n",
    "## Problem Statement:\n",
    "Write a function to update a value associated with a given key in a dictionary.\n",
    "\n",
    "## Example 1:\n",
    "**Input:** `{'a':1}, 'a', 100`  \n",
    "**Output:** `{'a':100}`\n",
    "\n",
    "## Example 2:\n",
    "**Input:** `{'x':10}, 'y', 20`  \n",
    "**Output:** `{'x':10, 'y':20}`\n"
   ]
  },
  {
   "cell_type": "code",
   "execution_count": 18,
   "id": "7a8a617e",
   "metadata": {},
   "outputs": [
    {
     "name": "stdout",
     "output_type": "stream",
     "text": [
      "{'a': 100}\n"
     ]
    }
   ],
   "source": [
    "dict1 = {'a':1}\n",
    "key = 'a'\n",
    "val = 100\n",
    "\n",
    "def update_val(dict1, key, val):\n",
    "    dict1[key] = val\n",
    "    return dict1\n",
    "\n",
    "print(update_val(dict1,key,val))"
   ]
  },
  {
   "cell_type": "code",
   "execution_count": null,
   "id": "1345099a",
   "metadata": {},
   "outputs": [],
   "source": []
  },
  {
   "cell_type": "markdown",
   "id": "8b580e88",
   "metadata": {},
   "source": [
    "# 10. Sort Dictionary by Values\n",
    "\n",
    "## Problem Statement:\n",
    "Write a function to sort a dictionary by values in ascending order.\n",
    "\n",
    "## Example 1:\n",
    "**Input:** `{'a':3, 'b':1}`  \n",
    "**Output:** `{'b':1, 'a':3}`\n",
    "\n",
    "## Example 2:\n",
    "**Input:** `{'x':4,'y':2}`  \n",
    "**Output:** `{'y':2, 'x':4}`\n"
   ]
  },
  {
   "cell_type": "code",
   "execution_count": 23,
   "id": "4cfc1e2c",
   "metadata": {},
   "outputs": [
    {
     "name": "stdout",
     "output_type": "stream",
     "text": [
      "{'b': 1, 'a': 3}\n"
     ]
    }
   ],
   "source": [
    "input = {'a':3, 'b':1}\n",
    "\n",
    "def sort_dict(temp):\n",
    "    arr = list(temp.items())\n",
    "    for i in range(len(arr) - 1):\n",
    "        min = arr[i]\n",
    "        ind = i\n",
    "        for j in range(i+1, len(arr)):\n",
    "            if arr[j][1] < min[1]:\n",
    "                min = arr[j]\n",
    "                ind = j\n",
    "        temp = arr[i]\n",
    "        arr[i] = arr[ind]\n",
    "        arr[ind] = temp\n",
    "    \n",
    "    dict1 = {}\n",
    "    for i in range(len(arr)):\n",
    "        key, value = arr[i]\n",
    "        dict1[key] = value\n",
    "    \n",
    "    return dict1\n",
    "\n",
    "        \n",
    "\n",
    "sorted_dict = sort_dict(input)\n",
    "print(sorted_dict)"
   ]
  },
  {
   "cell_type": "code",
   "execution_count": null,
   "id": "deac7ba4",
   "metadata": {},
   "outputs": [],
   "source": []
  },
  {
   "cell_type": "markdown",
   "id": "923a13f3",
   "metadata": {},
   "source": [
    "# 11. Dictionary Intersection\n",
    "\n",
    "## Problem Statement:\n",
    "Write a function that returns a dictionary containing keys common to two dictionaries with values from the first dictionary.\n",
    "\n",
    "## Example 1:\n",
    "**Input:** `{'a':1, 'b':2}, {'b':4, 'c':3}`  \n",
    "**Output:** `{'b':2}`\n",
    "\n",
    "## Example 2:\n",
    "**Input:** `{'x':5}, {'y':5}`  \n",
    "**Output:** `{}`\n"
   ]
  },
  {
   "cell_type": "code",
   "execution_count": 56,
   "id": "463eed21",
   "metadata": {},
   "outputs": [
    {
     "name": "stdout",
     "output_type": "stream",
     "text": [
      "{'b': 2}\n",
      "{}\n"
     ]
    }
   ],
   "source": [
    "dict1 = {'a':1, 'b':2}\n",
    "dict2 = {'b':4, 'c':3}\n",
    "dict3 = {'x':5}\n",
    "dict4 = {'y':5}\n",
    "\n",
    "def intersection(dict1, dict2):\n",
    "    dict3 = {}\n",
    "    for key in dict1.keys():\n",
    "        if key in dict2:\n",
    "            dict3[key] = dict1[key]\n",
    "    \n",
    "    return dict3\n",
    "\n",
    "print(intersection(dict1, dict2))\n",
    "print(intersection(dict3, dict4))"
   ]
  },
  {
   "cell_type": "code",
   "execution_count": null,
   "id": "8ea06653",
   "metadata": {},
   "outputs": [],
   "source": []
  },
  {
   "cell_type": "markdown",
   "id": "328b85be",
   "metadata": {},
   "source": [
    "# 14. Filter Dictionary by Values\n",
    "\n",
    "## Problem Statement:\n",
    "Write a function to filter a dictionary, keeping only items where the value is greater than a given number.\n",
    "\n",
    "## Example 1:\n",
    "**Input:** `{'a':5, 'b':2, 'c':8}, 4`  \n",
    "**Output:** `{'a':5, 'c':8}`\n",
    "\n",
    "## Example 2:\n",
    "**Input:** `{'x':1, 'y':3}, 2`  \n",
    "**Output:** `{'y':3}`\n"
   ]
  },
  {
   "cell_type": "code",
   "execution_count": 29,
   "id": "58e19b37",
   "metadata": {},
   "outputs": [
    {
     "name": "stdout",
     "output_type": "stream",
     "text": [
      "{'y': 3}\n"
     ]
    }
   ],
   "source": [
    "input = {'x':1, 'y':3}\n",
    "num = 2\n",
    "\n",
    "def remove_items(dict1, num):\n",
    "    dict2 = {}\n",
    "    for key in dict1.keys():\n",
    "        if dict1[key] > num:\n",
    "            dict2[key] = dict1[key]\n",
    "    return dict2\n",
    "\n",
    "print(remove_items(input, num))"
   ]
  },
  {
   "cell_type": "code",
   "execution_count": null,
   "id": "55c9884b",
   "metadata": {},
   "outputs": [],
   "source": []
  },
  {
   "cell_type": "markdown",
   "id": "b37b6bd2",
   "metadata": {},
   "source": [
    "# 16. Dictionary from List of Tuples\n",
    "\n",
    "## Problem Statement:\n",
    "Write a function that converts a list of tuples into a dictionary, combining values for duplicate keys into lists.\n",
    "\n",
    "## Example 1:\n",
    "**Input:** `[('a',1), ('b',2), ('a',3)]`  \n",
    "**Output:** `{'a':[1,3], 'b':[2]}`\n",
    "\n",
    "## Example 2:\n",
    "**Input:** `[('x',4)]`  \n",
    "**Output:** `{'x':[4]}`\n"
   ]
  },
  {
   "cell_type": "code",
   "execution_count": null,
   "id": "0cabcc36",
   "metadata": {},
   "outputs": [
    {
     "name": "stdout",
     "output_type": "stream",
     "text": [
      "{'a': [1, 3], 'b': [2]}\n"
     ]
    }
   ],
   "source": [
    "def dict_from_tuples(tup):\n",
    "    dict1 = {}\n",
    "    for i in range(len(tup)):\n",
    "        key, value = tup[i]\n",
    "        if key not in dict1:\n",
    "            dict1[key] = [value]\n",
    "        else:\n",
    "            arr = dict1[key]\n",
    "            arr.append(value)\n",
    "            dict1[key] = arr\n",
    "\n",
    "    return dict1\n",
    "\n",
    "input = [('a',1), ('b',2), ('a',3)]\n",
    "print(dict_from_tuples(input))"
   ]
  },
  {
   "cell_type": "code",
   "execution_count": null,
   "id": "1ba92174",
   "metadata": {},
   "outputs": [],
   "source": []
  },
  {
   "cell_type": "markdown",
   "id": "a2f6a871",
   "metadata": {},
   "source": [
    "# 17. Increment Dictionary Values\n",
    "\n",
    "## Problem Statement:\n",
    "Write a function to increment all integer values in a dictionary by a specified number.\n",
    "\n",
    "## Example 1:\n",
    "**Input:** `{'a':1, 'b':2}, 3`  \n",
    "**Output:** `{'a':4, 'b':5}`\n",
    "\n",
    "## Example 2:\n",
    "**Input:** `{'x':10}, -2`  \n",
    "**Output:** `{'x':8}`\n"
   ]
  },
  {
   "cell_type": "code",
   "execution_count": 38,
   "id": "2cae3f6e",
   "metadata": {},
   "outputs": [
    {
     "name": "stdout",
     "output_type": "stream",
     "text": [
      "{'x': 8}\n"
     ]
    }
   ],
   "source": [
    "dict1 = {'x':10}\n",
    "num = -2\n",
    "\n",
    "def increment(dict1, num):\n",
    "    for key in dict1.keys():\n",
    "        dict1[key] += num\n",
    "\n",
    "    return dict1\n",
    "\n",
    "print(increment(dict1, num))"
   ]
  },
  {
   "cell_type": "code",
   "execution_count": null,
   "id": "5a8c4696",
   "metadata": {},
   "outputs": [],
   "source": []
  },
  {
   "cell_type": "markdown",
   "id": "1a4997f3",
   "metadata": {},
   "source": [
    "# 18. Find Duplicates in List Using Dictionary\n",
    "\n",
    "## Problem Statement:\n",
    "Write a function to find all elements that appear more than once in a list, using a dictionary.\n",
    "\n",
    "## Example 1:\n",
    "**Input:** `[1,2,2,3,4,4,4]`  \n",
    "**Output:** `[2,4]`\n",
    "\n",
    "## Example 2:\n",
    "**Input:** `['a','b','c','a']`  \n",
    "**Output:** `['a']`\n"
   ]
  },
  {
   "cell_type": "code",
   "execution_count": 43,
   "id": "35f77861",
   "metadata": {},
   "outputs": [
    {
     "name": "stdout",
     "output_type": "stream",
     "text": [
      "['a']\n"
     ]
    }
   ],
   "source": [
    "input = ['a', 'b', 'c', 'a']\n",
    "count = {}\n",
    "\n",
    "for i in range(len(input)):\n",
    "    if input[i] not in count:\n",
    "        count[input[i]] = 1\n",
    "    else:\n",
    "        count[input[i]] += 1\n",
    "\n",
    "dups = []\n",
    "for key in count.keys():\n",
    "    if count[key] > 1:\n",
    "        dups.append(key)\n",
    "\n",
    "print(dups)"
   ]
  },
  {
   "cell_type": "code",
   "execution_count": null,
   "id": "e2d4570d",
   "metadata": {},
   "outputs": [],
   "source": []
  },
  {
   "cell_type": "markdown",
   "id": "37dab363",
   "metadata": {},
   "source": [
    "# 19. Merge Dictionaries Summing Values\n",
    "\n",
    "## Problem Statement:\n",
    "Write a function to merge two dictionaries, summing values for common keys.\n",
    "\n",
    "## Example 1:\n",
    "**Input:** `{'a':2, 'b':3}, {'a':3, 'c':1}`  \n",
    "**Output:** `{'a':5, 'b':3, 'c':1}`\n",
    "\n",
    "## Example 2:\n",
    "**Input:** `{'x':1}, {'x':-1}`  \n",
    "**Output:** `{'x':0}`\n"
   ]
  },
  {
   "cell_type": "code",
   "execution_count": 45,
   "id": "f6b073b2",
   "metadata": {},
   "outputs": [
    {
     "name": "stdout",
     "output_type": "stream",
     "text": [
      "{'x': 0}\n"
     ]
    }
   ],
   "source": [
    "def merge_dicts(dict1, dict2):\n",
    "    if len(dict1) <= len(dict2):\n",
    "        for key in dict1.keys():\n",
    "            if key not in dict2:\n",
    "                dict2[key] = dict1[key]\n",
    "            else:\n",
    "                dict2[key] += dict1[key]\n",
    "        return dict2\n",
    "    \n",
    "    for key in dict1.keys():\n",
    "            if key not in dict1:\n",
    "                dict1[key] = dict2[key]\n",
    "            else:\n",
    "                dict1[key] += dict2[key]\n",
    "    return dict1\n",
    "\n",
    "print(merge_dicts({'x':1}, {'x':-1}))  "
   ]
  },
  {
   "cell_type": "code",
   "execution_count": null,
   "id": "4931ea97",
   "metadata": {},
   "outputs": [],
   "source": []
  },
  {
   "cell_type": "markdown",
   "id": "01937f89",
   "metadata": {},
   "source": [
    "# 20. Dictionary of Lists to Dictionary of Sums\n",
    "\n",
    "## Problem Statement:\n",
    "Write a function to convert a dictionary of lists into a dictionary of sums.\n",
    "\n",
    "## Example 1:\n",
    "**Input:** `{'a':[1,2,3], 'b':[4,5]}`  \n",
    "**Output:** `{'a':6, 'b':9}`\n",
    "\n",
    "## Example 2:\n",
    "**Input:** `{'x':[10]}`  \n",
    "**Output:** `{'x':10}`\n"
   ]
  },
  {
   "cell_type": "code",
   "execution_count": 53,
   "id": "02599144",
   "metadata": {},
   "outputs": [
    {
     "name": "stdout",
     "output_type": "stream",
     "text": [
      "{'a': 6, 'b': 9}\n"
     ]
    }
   ],
   "source": [
    "dict1 = {'a':[1,2,3], 'b':[4,5]}\n",
    "dict2 = {'x':[10]}\n",
    "\n",
    "def to_sum(dict1):\n",
    "    if not dict1:\n",
    "        return dict1\n",
    "    \n",
    "    for key in dict1.keys():\n",
    "        arr = dict1[key]\n",
    "        tot = sum(arr)\n",
    "        dict1[key] = tot\n",
    "    \n",
    "    return dict1\n",
    "\n",
    "print(to_sum(dict1))\n",
    "# print(to_sum(dict2))"
   ]
  },
  {
   "cell_type": "code",
   "execution_count": null,
   "id": "551ecc09",
   "metadata": {},
   "outputs": [],
   "source": []
  }
 ],
 "metadata": {
  "kernelspec": {
   "display_name": "Python 3",
   "language": "python",
   "name": "python3"
  },
  "language_info": {
   "codemirror_mode": {
    "name": "ipython",
    "version": 3
   },
   "file_extension": ".py",
   "mimetype": "text/x-python",
   "name": "python",
   "nbconvert_exporter": "python",
   "pygments_lexer": "ipython3",
   "version": "3.12.1"
  }
 },
 "nbformat": 4,
 "nbformat_minor": 5
}
