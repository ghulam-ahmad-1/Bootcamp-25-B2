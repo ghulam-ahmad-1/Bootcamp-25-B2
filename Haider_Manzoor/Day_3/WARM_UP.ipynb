{
 "cells": [
  {
   "cell_type": "code",
   "execution_count": 16,
   "id": "89acb654-cf1a-424c-97d5-59c338e3f794",
   "metadata": {},
   "outputs": [],
   "source": [
    "Input = [\"nata\", \"pizza\",[\"eat\",\"tea\"], [\"sort\"]]"
   ]
  },
  {
   "cell_type": "code",
   "execution_count": 19,
   "id": "9fa1e5b5-3e1e-4fc6-87e9-87bdff6e8f41",
   "metadata": {},
   "outputs": [],
   "source": [
    "Input = [\"nata\", \"pizza\",[\"eat\",\"tea\"], [\"sort\"]]\n",
    "new_list=[]\n",
    "for element in Input:\n",
    "    if type(element) is list:\n",
    "        for item in element:\n",
    "            new_list.append(item)\n",
    "    else:\n",
    "        new_list.append(element)"
   ]
  },
  {
   "cell_type": "code",
   "execution_count": 20,
   "id": "e0001cdf-0e14-4252-90ec-910df8d9d25b",
   "metadata": {},
   "outputs": [
    {
     "data": {
      "text/plain": [
       "['nata', 'pizza', 'eat', 'tea', 'sort']"
      ]
     },
     "execution_count": 20,
     "metadata": {},
     "output_type": "execute_result"
    }
   ],
   "source": [
    "new_list"
   ]
  },
  {
   "cell_type": "code",
   "execution_count": 21,
   "id": "f3c04fb9-d19a-4d35-8380-91c4786b2b93",
   "metadata": {},
   "outputs": [],
   "source": [
    "Input= [\"bat\", \"tab\", \"eat\", \"tea\", \"tan\", \"nat\"]"
   ]
  },
  {
   "cell_type": "code",
   "execution_count": 27,
   "id": "0b1cc045-8ce1-4acc-af4a-044021441e9b",
   "metadata": {},
   "outputs": [],
   "source": [
    "lis= []\n",
    "sub_lis=[]"
   ]
  },
  {
   "cell_type": "code",
   "execution_count": 28,
   "id": "42f0a395-85fb-4935-9d37-d352a3ff9c28",
   "metadata": {},
   "outputs": [],
   "source": [
    "for element in Input:\n",
    "    if element[::-1] in Input:\n",
    "        sub_lis.append(element)\n",
    "        sub_lis.append(element[::-1])\n",
    "        lis.append(sub_lis)\n",
    "        sub_lis=[]"
   ]
  },
  {
   "cell_type": "code",
   "execution_count": 29,
   "id": "6f7b88a8-4455-495d-9ef6-1f96a8005124",
   "metadata": {},
   "outputs": [
    {
     "name": "stdout",
     "output_type": "stream",
     "text": [
      "[['bat', 'tab'], ['tab', 'bat'], ['tan', 'nat'], ['nat', 'tan']]\n"
     ]
    }
   ],
   "source": [
    "print(lis)"
   ]
  },
  {
   "cell_type": "code",
   "execution_count": 30,
   "id": "a91c48df-8fc6-4115-bee0-829d6c0b5a81",
   "metadata": {},
   "outputs": [
    {
     "name": "stdout",
     "output_type": "stream",
     "text": [
      "['the', 'dog', 'quick']\n"
     ]
    }
   ],
   "source": [
    "import re\n",
    "from collections import Counter\n",
    "\n",
    "def top_3_words(text):\n",
    "    words = re.findall(r'\\b\\w+\\b', text.lower())\n",
    "    word_counts = Counter(words)\n",
    "    \n",
    "    most_common = [word for word, count in word_counts.most_common(3)]\n",
    "    \n",
    "    return most_common\n",
    "\n",
    "\n",
    "input_text = \"The quick brown fox jumps over the lazy dog. The dog barked.\"\n",
    "print(top_3_words(input_text))\n"
   ]
  },
  {
   "cell_type": "code",
   "execution_count": null,
   "id": "46a31ed5-b44b-4271-87ae-1a8fca80485e",
   "metadata": {},
   "outputs": [],
   "source": []
  }
 ],
 "metadata": {
  "kernelspec": {
   "display_name": "Python 3 (ipykernel)",
   "language": "python",
   "name": "python3"
  },
  "language_info": {
   "codemirror_mode": {
    "name": "ipython",
    "version": 3
   },
   "file_extension": ".py",
   "mimetype": "text/x-python",
   "name": "python",
   "nbconvert_exporter": "python",
   "pygments_lexer": "ipython3",
   "version": "3.10.11"
  }
 },
 "nbformat": 4,
 "nbformat_minor": 5
}
