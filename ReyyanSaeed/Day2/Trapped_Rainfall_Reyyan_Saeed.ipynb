{
 "cells": [
  {
   "cell_type": "code",
   "execution_count": 7,
   "id": "6e03022a",
   "metadata": {},
   "outputs": [
    {
     "data": {
      "text/plain": [
       "6"
      ]
     },
     "execution_count": 7,
     "metadata": {},
     "output_type": "execute_result"
    }
   ],
   "source": [
    "def trapRainWater(height):\n",
    "    water=0\n",
    "    n=len(height)\n",
    "    i=0\n",
    "    while i<n-1:\n",
    "        if height[i]==0:\n",
    "            i=i+1\n",
    "            continue\n",
    "        left =i\n",
    "        \n",
    "        right = left+1\n",
    "        while right<n and height[right]<height[left]:\n",
    "            right=right+1\n",
    "            \n",
    "            \n",
    "        if right ==n:\n",
    "            right=left+1\n",
    "            for j in range(left +1, n):\n",
    "                if height[j] >height[right]:\n",
    "                    right=j\n",
    "        max_lvl=min(height[left], height[right])\n",
    "        for j in range(left+1, right):\n",
    "            trap=max_lvl-height[j]\n",
    "            water = water+trap\n",
    "        i=right\n",
    "    return water\n",
    "\n",
    "height=[0,1,0,2,1,0,1,3,2,1,2,1]\n",
    "total=trapRainWater(height)\n",
    "total"
   ]
  },
  {
   "cell_type": "code",
   "execution_count": null,
   "id": "fca1aaea",
   "metadata": {},
   "outputs": [],
   "source": []
  }
 ],
 "metadata": {
  "kernelspec": {
   "display_name": "Python 3 (ipykernel)",
   "language": "python",
   "name": "python3"
  },
  "language_info": {
   "codemirror_mode": {
    "name": "ipython",
    "version": 3
   },
   "file_extension": ".py",
   "mimetype": "text/x-python",
   "name": "python",
   "nbconvert_exporter": "python",
   "pygments_lexer": "ipython3",
   "version": "3.11.4"
  }
 },
 "nbformat": 4,
 "nbformat_minor": 5
}
