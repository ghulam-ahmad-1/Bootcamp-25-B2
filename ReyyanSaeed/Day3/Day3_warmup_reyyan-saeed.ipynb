{
 "cells": [
  {
   "cell_type": "code",
   "execution_count": 35,
   "id": "d353feb1",
   "metadata": {},
   "outputs": [
    {
     "name": "stdout",
     "output_type": "stream",
     "text": [
      "aaabbc\n"
     ]
    }
   ],
   "source": [
    "def RunLen(str):\n",
    "    str2=''\n",
    "    i=0\n",
    "    while i<len(str):\n",
    "        count=1\n",
    "        for j in range(i+1, len(str)):\n",
    "            if str[j] == str[i]:\n",
    "                count=count+1\n",
    "            else:\n",
    "                break\n",
    "        str2=str2+str[i]+f\"{count}\"  \n",
    "        i=i+count\n",
    "    if len(str)>len(str2):\n",
    "        return str2\n",
    "    else:\n",
    "        return str\n",
    "    return st\n",
    "str=\"aaabbc\"\n",
    "str2=RunLen(str)\n",
    "print(str2)"
   ]
  },
  {
   "cell_type": "code",
   "execution_count": 54,
   "id": "cc876482",
   "metadata": {},
   "outputs": [
    {
     "name": "stdout",
     "output_type": "stream",
     "text": [
      "['nata', 'pizza', 'eat', 'tea', 'sort']\n"
     ]
    }
   ],
   "source": [
    "lst =['nata', 'pizza', ['eat', 'tea'], ['sort']]\n",
    "flattened = [element for sublist in lst for element in (sublist if isinstance(sublist, list) else [sublist])]\n",
    "print(flattened)"
   ]
  },
  {
   "cell_type": "code",
   "execution_count": null,
   "id": "ecd00de9",
   "metadata": {},
   "outputs": [],
   "source": []
  },
  {
   "cell_type": "code",
   "execution_count": 9,
   "id": "ba358a12",
   "metadata": {},
   "outputs": [
    {
     "name": "stdout",
     "output_type": "stream",
     "text": [
      "[['bat', 'tab'], ['eat', 'tea'], ['tan', 'nat']]\n"
     ]
    }
   ],
   "source": [
    "def isAnagram(str,str2):\n",
    "    if len(str) != len(str2):\n",
    "        return False\n",
    "    dict={}\n",
    "    dict2={}\n",
    "    for char in str:\n",
    "        dict[char]=dict.get(char,0)+1\n",
    "    for char in str2:\n",
    "        dict2[char]=dict2.get(char,0)+1\n",
    "    for key,value in dict.items():\n",
    "        if value!=dict2[key]:\n",
    "            return False\n",
    "    return True\n",
    "\n",
    "def groupByAnagram(lst):\n",
    "    anagram_groups={}\n",
    "    for word in lst:\n",
    "        sorted_word = ''.join(sorted(word))\n",
    "        if sorted_word not in anagram_groups:\n",
    "            anagram_groups[sorted_word] = []\n",
    "        anagram_groups[sorted_word].append(word)\n",
    "    return list(anagram_groups.values())\n",
    "\n",
    "lst = [\"bat\", \"tab\", \"eat\", \"tea\", \"tan\", \"nat\"]\n",
    "pairs = groupByAnagram(lst)\n",
    "print(pairs)"
   ]
  },
  {
   "cell_type": "code",
   "execution_count": null,
   "id": "53864666",
   "metadata": {},
   "outputs": [],
   "source": []
  },
  {
   "cell_type": "code",
   "execution_count": null,
   "id": "665f4d0f",
   "metadata": {},
   "outputs": [],
   "source": []
  },
  {
   "cell_type": "code",
   "execution_count": 50,
   "id": "31ddb4aa",
   "metadata": {},
   "outputs": [
    {
     "name": "stdout",
     "output_type": "stream",
     "text": [
      "['The', 'dog', 'quick']\n"
     ]
    }
   ],
   "source": [
    "import string\n",
    "def threeFreq(str):\n",
    "    word = ''\n",
    "    word_freq = {}\n",
    "    translator = str.maketrans('', '', string.punctuation)\n",
    "    cleaned_str = str.translate(translator)\n",
    "    \n",
    "    for i in cleaned_str:\n",
    "        if i != ' ':\n",
    "            word += i\n",
    "        else:\n",
    "            if word:\n",
    "                if word in word_freq:\n",
    "                    word_freq[word] += 1\n",
    "                else:\n",
    "                    word_freq[word] = 1\n",
    "                word = ''\n",
    "    \n",
    "    return word_freq\n",
    "\n",
    "str = \"The quick brown fox jumps over the lazy dog. The dog barked.\"\n",
    "word_freq = threeFreq(str)\n",
    "sorted_dict = sorted(word_freq.items(), key=lambda x: x[1], reverse=True)\n",
    "lst = [word for word, freq in sorted_dict[:3]]\n",
    "\n",
    "print(lst)"
   ]
  },
  {
   "cell_type": "code",
   "execution_count": null,
   "id": "aaaa092c",
   "metadata": {},
   "outputs": [],
   "source": [
    "Warm-up Problems\n",
    "Problem Statement:\n",
    " Write a function that compresses a string using the counts of repeated characters.\n",
    " If the compressed string is not smaller than the original, return the original.\n",
    "Example:\n",
    "Input: \"aaabbccccaaa\"\n",
    "Output: \"a3b2c4a3\"\n",
    "Input: \"abc\"\n",
    "Output: \"abc\"\n",
    "--------------------------------\n",
    "Problem Statement:\n",
    " Write a function to flatten a nested list of strings\n",
    "Example:\n",
    "input = [ 'nata', 'pizza' [ 'eat', 'tea' ], ['sort'] ]\n",
    "output [ nata', 'pizza' , ‘eat', 'tea', 'sort']\n",
    "--------------------------------\n",
    "Problem Statement:\n",
    " Given a list of strings, group them into anagrams (words with the same letters in different order).\n",
    "Example:\n",
    "Input: [\"bat\", \"tab\", \"eat\", \"tea\", \"tan\", \"nat\"]\n",
    "Output: [['bat', 'tab'], ['eat', 'tea'], ['tan', 'nat']]\n",
    "--------------------------------\n",
    "Problem Statement:\n",
    " Write a function that takes a string and returns the top 3 most frequent words in it (ignoring case and punctuation).\n",
    "Example:\n",
    "Input: \"The quick brown fox jumps over the lazy dog. The dog barked.\"\n",
    "Output: ['the', 'dog', 'quick']  # frequency: the(3), dog(2), quick(1) (edited) "
   ]
  }
 ],
 "metadata": {
  "kernelspec": {
   "display_name": "Python 3 (ipykernel)",
   "language": "python",
   "name": "python3"
  },
  "language_info": {
   "codemirror_mode": {
    "name": "ipython",
    "version": 3
   },
   "file_extension": ".py",
   "mimetype": "text/x-python",
   "name": "python",
   "nbconvert_exporter": "python",
   "pygments_lexer": "ipython3",
   "version": "3.11.4"
  }
 },
 "nbformat": 4,
 "nbformat_minor": 5
}
