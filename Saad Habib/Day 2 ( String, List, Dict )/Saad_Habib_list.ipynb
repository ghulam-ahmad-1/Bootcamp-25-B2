{
  "cells": [
    {
      "cell_type": "markdown",
      "id": "3f9994f8-82f8-4450-b588-4dcbc466cc3e",
      "metadata": {
        "id": "3f9994f8-82f8-4450-b588-4dcbc466cc3e"
      },
      "source": [
        "# 1. Find the Sum of All Elements in a List\n",
        "## Problem Statement:\n",
        "Write a function to return the sum of all elements in a list.\n",
        "\n",
        "## Example 1:\n",
        "**Input:** `[1, 2, 3, 4, 5]`  \n",
        "**Output:** `15`\n",
        "\n",
        "## Example 2:\n",
        "**Input:** `[10, -2, 3]`  \n",
        "**Output:** `11`\n"
      ]
    },
    {
      "cell_type": "code",
      "execution_count": 1,
      "id": "22ab5186-6302-4f99-94f7-26e1243b2b23",
      "metadata": {
        "colab": {
          "base_uri": "https://localhost:8080/"
        },
        "id": "22ab5186-6302-4f99-94f7-26e1243b2b23",
        "outputId": "3b9de82a-aafe-4cea-9598-0cdaa16dde6b"
      },
      "outputs": [
        {
          "output_type": "execute_result",
          "data": {
            "text/plain": [
              "15"
            ]
          },
          "metadata": {},
          "execution_count": 1
        }
      ],
      "source": [
        "def sum_list(lst):\n",
        "  return sum(lst)\n",
        "sum_list([1, 2, 3, 4, 5])"
      ]
    },
    {
      "cell_type": "code",
      "execution_count": null,
      "id": "2bc2fb36-de41-4a06-94c8-677512a39266",
      "metadata": {
        "id": "2bc2fb36-de41-4a06-94c8-677512a39266"
      },
      "outputs": [],
      "source": []
    },
    {
      "cell_type": "markdown",
      "id": "d23b0919-b937-4ffa-9f69-e0a58e4822c8",
      "metadata": {
        "id": "d23b0919-b937-4ffa-9f69-e0a58e4822c8"
      },
      "source": [
        "# 2. Find the Maximum Element in a List\n",
        "## Problem Statement:\n",
        "Write a function to find the maximum element in a list.\n",
        "\n",
        "## Example 1:\n",
        "**Input:** `[3, 5, 1, 9, 2]`  \n",
        "**Output:** `9`\n",
        "\n",
        "## Example 2:\n",
        "**Input:** `[10, 22, 5, 8]`  \n",
        "**Output:** `22`\n"
      ]
    },
    {
      "cell_type": "code",
      "execution_count": 3,
      "id": "7d7b3e2d-d3e0-40ea-a276-6546d8d5a6dc",
      "metadata": {
        "colab": {
          "base_uri": "https://localhost:8080/"
        },
        "id": "7d7b3e2d-d3e0-40ea-a276-6546d8d5a6dc",
        "outputId": "89061560-c6db-400c-e170-4924fbb67858"
      },
      "outputs": [
        {
          "output_type": "execute_result",
          "data": {
            "text/plain": [
              "9"
            ]
          },
          "metadata": {},
          "execution_count": 3
        }
      ],
      "source": [
        "def max_list(lst):\n",
        "  return max(lst)\n",
        "max_list([3, 5, 1, 9, 2])"
      ]
    },
    {
      "cell_type": "code",
      "execution_count": null,
      "id": "4a7a7213-0ca0-4435-b8bb-952896ba5291",
      "metadata": {
        "id": "4a7a7213-0ca0-4435-b8bb-952896ba5291"
      },
      "outputs": [],
      "source": []
    },
    {
      "cell_type": "markdown",
      "id": "3a468705-92a6-48b7-8cf4-f45d18a23a82",
      "metadata": {
        "id": "3a468705-92a6-48b7-8cf4-f45d18a23a82"
      },
      "source": [
        "# 3. Find the Minimum Element in a List\n",
        "## Problem Statement:\n",
        "Write a function to find the minimum element in a list.\n",
        "\n",
        "## Example 1:\n",
        "**Input:** `[4, 7, 1, 9]`  \n",
        "**Output:** `1`\n",
        "\n",
        "## Example 2:\n",
        "**Input:** `[10, 15, 3, 8]`  \n",
        "**Output:** `3`\n"
      ]
    },
    {
      "cell_type": "code",
      "execution_count": 5,
      "id": "4d12cc30-d2d0-4d11-a297-c9abdd2841e8",
      "metadata": {
        "colab": {
          "base_uri": "https://localhost:8080/"
        },
        "id": "4d12cc30-d2d0-4d11-a297-c9abdd2841e8",
        "outputId": "ad02c72b-76a1-4032-d394-84aae92a0bd4"
      },
      "outputs": [
        {
          "output_type": "execute_result",
          "data": {
            "text/plain": [
              "1"
            ]
          },
          "metadata": {},
          "execution_count": 5
        }
      ],
      "source": [
        "def min_list(lst):\n",
        "  return min(lst)\n",
        "min_list([4, 7, 1, 9])"
      ]
    },
    {
      "cell_type": "code",
      "execution_count": null,
      "id": "8efee63d-29d3-4d2d-aa2d-10e40467a224",
      "metadata": {
        "id": "8efee63d-29d3-4d2d-aa2d-10e40467a224"
      },
      "outputs": [],
      "source": []
    },
    {
      "cell_type": "markdown",
      "id": "c40f3f67-f422-4be3-bf91-2a8ae2176b24",
      "metadata": {
        "id": "c40f3f67-f422-4be3-bf91-2a8ae2176b24"
      },
      "source": [
        "# 4. Reverse a List\n",
        "## Problem Statement:\n",
        "Write a function to reverse a given list.\n",
        "\n",
        "## Example 1:\n",
        "**Input:** `[1, 2, 3, 4, 5]`  \n",
        "**Output:** `[5, 4, 3, 2, 1]`\n",
        "\n",
        "## Example 2:\n",
        "**Input:** `[\"a\", \"b\", \"c\", \"d\"]`  \n",
        "**Output:** `[\"d\", \"c\", \"b\", \"a\"]`\n"
      ]
    },
    {
      "cell_type": "code",
      "execution_count": 8,
      "id": "ad8b815d-4d1b-42f8-8201-3012cbb10791",
      "metadata": {
        "colab": {
          "base_uri": "https://localhost:8080/"
        },
        "id": "ad8b815d-4d1b-42f8-8201-3012cbb10791",
        "outputId": "597943cd-6c74-411c-f635-ffbd3d4fc72a"
      },
      "outputs": [
        {
          "output_type": "execute_result",
          "data": {
            "text/plain": [
              "[5, 4, 3, 2, 1]"
            ]
          },
          "metadata": {},
          "execution_count": 8
        }
      ],
      "source": [
        "def rev_list(lst):\n",
        "  return lst[::-1]\n",
        "rev_list([1, 2, 3, 4, 5])"
      ]
    },
    {
      "cell_type": "code",
      "execution_count": null,
      "id": "f4974012-8b9f-4d79-9a93-c49021d42fce",
      "metadata": {
        "id": "f4974012-8b9f-4d79-9a93-c49021d42fce"
      },
      "outputs": [],
      "source": []
    },
    {
      "cell_type": "markdown",
      "id": "1ce0dcfb-6e54-4ef6-935e-322632660d42",
      "metadata": {
        "id": "1ce0dcfb-6e54-4ef6-935e-322632660d42"
      },
      "source": [
        "# 5. Check if a List is Palindromic\n",
        "## Problem Statement:\n",
        "Write a function to check if a list is the same forward and backward.\n",
        "\n",
        "## Example 1:\n",
        "**Input:** `[1, 2, 3, 2, 1]`  \n",
        "**Output:** `True`\n",
        "\n",
        "## Example 2:\n",
        "**Input:** `[1, 2, 3, 4, 5]`  \n",
        "**Output:** `False`\n"
      ]
    },
    {
      "cell_type": "code",
      "execution_count": 9,
      "id": "c21305ce-5efc-4f55-aed4-f2ecb507d12a",
      "metadata": {
        "colab": {
          "base_uri": "https://localhost:8080/"
        },
        "id": "c21305ce-5efc-4f55-aed4-f2ecb507d12a",
        "outputId": "3c9f8944-c3cd-45cc-e7c0-2230022c2e00"
      },
      "outputs": [
        {
          "output_type": "execute_result",
          "data": {
            "text/plain": [
              "False"
            ]
          },
          "metadata": {},
          "execution_count": 9
        }
      ],
      "source": [
        "def pal_list(lst):\n",
        "  return lst==lst[::-1]\n",
        "pal_list([1, 2, 3, 4, 5])"
      ]
    },
    {
      "cell_type": "code",
      "execution_count": null,
      "id": "37b1b813-c8ca-460d-8eaa-45ea822ef16f",
      "metadata": {
        "id": "37b1b813-c8ca-460d-8eaa-45ea822ef16f"
      },
      "outputs": [],
      "source": []
    },
    {
      "cell_type": "markdown",
      "id": "4e03ac95-a619-4d71-bc19-4d8aa7ebc779",
      "metadata": {
        "id": "4e03ac95-a619-4d71-bc19-4d8aa7ebc779"
      },
      "source": [
        "# 6. Count the Frequency of Elements in a List\n",
        "## Problem Statement:\n",
        "Write a function to count the occurrences of each element in a list.\n",
        "\n",
        "## Example 1:\n",
        "**Input:** `[1, 2, 2, 3, 3, 3]`  \n",
        "**Output:** `{1: 1, 2: 2, 3: 3}`\n",
        "\n",
        "## Example 2:\n",
        "**Input:** `[\"a\", \"b\", \"a\", \"c\", \"c\", \"c\"]`  \n",
        "**Output:** `{\"a\": 2, \"b\": 1, \"c\": 3}`\n"
      ]
    },
    {
      "cell_type": "code",
      "execution_count": 10,
      "id": "c1c47cee-c97a-4c7b-b61d-4451912705e9",
      "metadata": {
        "colab": {
          "base_uri": "https://localhost:8080/"
        },
        "id": "c1c47cee-c97a-4c7b-b61d-4451912705e9",
        "outputId": "72053dc3-c92d-420a-f074-9fab9ab73586"
      },
      "outputs": [
        {
          "output_type": "stream",
          "name": "stdout",
          "text": [
            "Counter({3: 3, 2: 2, 1: 1})\n",
            "Counter({'c': 3, 'a': 2, 'b': 1})\n"
          ]
        }
      ],
      "source": [
        "\n",
        "from collections import Counter\n",
        "\n",
        "def count_elements(lst):\n",
        "  return Counter(lst)\n",
        "\n",
        "print(count_elements([1, 2, 2, 3, 3, 3]))\n",
        "print(count_elements([\"a\", \"b\", \"a\", \"c\", \"c\", \"c\"]))\n"
      ]
    },
    {
      "cell_type": "code",
      "execution_count": null,
      "id": "9f64c11f-e701-43a7-bcf3-1b06a72a16bc",
      "metadata": {
        "id": "9f64c11f-e701-43a7-bcf3-1b06a72a16bc"
      },
      "outputs": [],
      "source": []
    },
    {
      "cell_type": "markdown",
      "id": "c351ff0a-2f61-478c-87bd-d71170cc4dd0",
      "metadata": {
        "id": "c351ff0a-2f61-478c-87bd-d71170cc4dd0"
      },
      "source": [
        "# 7. Find the Second Largest Number in a List\n",
        "## Problem Statement:\n",
        "Write a function to find the second largest number in a list.\n",
        "\n",
        "## Example 1:\n",
        "**Input:** `[10, 20, 4, 45, 99]`  \n",
        "**Output:** `45`\n",
        "\n",
        "## Example 2:\n",
        "**Input:** `[3, 5, 7, 7, 8]`  \n",
        "**Output:** `7`\n"
      ]
    },
    {
      "cell_type": "code",
      "execution_count": 11,
      "id": "13703cf5-889b-4ac1-81a9-223d367d8494",
      "metadata": {
        "colab": {
          "base_uri": "https://localhost:8080/"
        },
        "id": "13703cf5-889b-4ac1-81a9-223d367d8494",
        "outputId": "79338729-e25b-4711-b06f-38341c489e28"
      },
      "outputs": [
        {
          "output_type": "stream",
          "name": "stdout",
          "text": [
            "45\n",
            "7\n"
          ]
        }
      ],
      "source": [
        "\n",
        "def second_largest(lst):\n",
        "  lst = sorted(list(set(lst)))\n",
        "  if len(lst) < 2:\n",
        "    return \"List should have at least two distinct elements\"\n",
        "  return lst[-2]\n",
        "\n",
        "print(second_largest([10, 20, 4, 45, 99]))\n",
        "print(second_largest([3, 5, 7, 7, 8]))"
      ]
    },
    {
      "cell_type": "code",
      "execution_count": null,
      "id": "d3456d5c-8c55-4b11-a484-edf8bff42fe9",
      "metadata": {
        "id": "d3456d5c-8c55-4b11-a484-edf8bff42fe9"
      },
      "outputs": [],
      "source": []
    },
    {
      "cell_type": "markdown",
      "id": "9c6d8daa-7f46-4bf2-a414-04a077cdb99a",
      "metadata": {
        "id": "9c6d8daa-7f46-4bf2-a414-04a077cdb99a"
      },
      "source": [
        "# 8. Merge Two Sorted Lists\n",
        "## Problem Statement:\n",
        "Write a function to merge two sorted lists into a single sorted list.\n",
        "\n",
        "## Example 1:\n",
        "**Input:** `[1, 3, 5]`, `[2, 4, 6]`  \n",
        "**Output:** `[1, 2, 3, 4, 5, 6]`\n",
        "\n",
        "## Example 2:\n",
        "**Input:** `[0, 2, 8]`, `[1, 3, 7]`  \n",
        "**Output:** `[0, 1, 2, 3, 7, 8]`\n"
      ]
    },
    {
      "cell_type": "code",
      "execution_count": 12,
      "id": "f8feaf49-483c-47d9-9d0e-412e9df946d2",
      "metadata": {
        "colab": {
          "base_uri": "https://localhost:8080/"
        },
        "id": "f8feaf49-483c-47d9-9d0e-412e9df946d2",
        "outputId": "7e80f8a0-cd97-4cc6-de07-d437dcee6e38"
      },
      "outputs": [
        {
          "output_type": "stream",
          "name": "stdout",
          "text": [
            "[1, 2, 3, 4, 5, 6]\n",
            "[0, 1, 2, 3, 7, 8]\n"
          ]
        }
      ],
      "source": [
        "\n",
        "def merge_sorted_lists(list1, list2):\n",
        "  return sorted(list1 + list2)\n",
        "\n",
        "print(merge_sorted_lists([1, 3, 5], [2, 4, 6]))\n",
        "print(merge_sorted_lists([0, 2, 8], [1, 3, 7]))"
      ]
    },
    {
      "cell_type": "code",
      "execution_count": null,
      "id": "644ee2d9-46dd-4e2a-915a-b19a638b97e7",
      "metadata": {
        "id": "644ee2d9-46dd-4e2a-915a-b19a638b97e7"
      },
      "outputs": [],
      "source": []
    },
    {
      "cell_type": "markdown",
      "id": "905fc429-4a5a-4455-9d5e-a761ea93bb8a",
      "metadata": {
        "id": "905fc429-4a5a-4455-9d5e-a761ea93bb8a"
      },
      "source": [
        "# 9. Remove Duplicates from a List\n",
        "## Problem Statement:\n",
        "Write a function to remove duplicate elements from a list while maintaining order.\n",
        "\n",
        "## Example 1:\n",
        "**Input:** `[1, 2, 2, 3, 4, 4, 5]`  \n",
        "**Output:** `[1, 2, 3, 4, 5]`\n",
        "\n",
        "## Example 2:\n",
        "**Input:** `[\"a\", \"b\", \"a\", \"c\", \"c\", \"d\"]`  \n",
        "**Output:** `[\"a\", \"b\", \"c\", \"d\"]`\n"
      ]
    },
    {
      "cell_type": "code",
      "execution_count": 13,
      "id": "acc566d7-e9c0-4a76-8062-f91d0f1e57be",
      "metadata": {
        "colab": {
          "base_uri": "https://localhost:8080/"
        },
        "id": "acc566d7-e9c0-4a76-8062-f91d0f1e57be",
        "outputId": "dfc98161-1191-42e4-caba-5ea3695375a5"
      },
      "outputs": [
        {
          "output_type": "stream",
          "name": "stdout",
          "text": [
            "['a', 'b', 'c', 'd']\n"
          ]
        }
      ],
      "source": [
        "def remove_duplicates_ordered(lst):\n",
        "  seen = set()\n",
        "  result = []\n",
        "  for item in lst:\n",
        "    if item not in seen:\n",
        "      seen.add(item)\n",
        "      result.append(item)\n",
        "  return result\n",
        "\n",
        "print(remove_duplicates_ordered([\"a\", \"b\", \"a\", \"c\", \"c\", \"d\"]))\n"
      ]
    },
    {
      "cell_type": "markdown",
      "id": "8fd83067-65a1-4859-8a82-ec7309c8bc79",
      "metadata": {
        "id": "8fd83067-65a1-4859-8a82-ec7309c8bc79"
      },
      "source": [
        "# 10. Rotate a List by k Positions\n",
        "## Problem Statement:\n",
        "Write a function to rotate a list by `k` positions to the right.\n",
        "\n",
        "## Example 1:\n",
        "**Input:** `[1, 2, 3, 4, 5]`, `k=2`  \n",
        "**Output:** `[4, 5, 1, 2, 3]`\n",
        "\n",
        "## Example 2:\n",
        "**Input:** `[10, 20, 30, 40, 50]`, `k=3`  \n",
        "**Output:** `[30, 40, 50, 10, 20]`\n"
      ]
    },
    {
      "cell_type": "code",
      "execution_count": 15,
      "id": "ee0fcda9-c7a0-4ce1-a03b-6925c8020b19",
      "metadata": {
        "colab": {
          "base_uri": "https://localhost:8080/"
        },
        "id": "ee0fcda9-c7a0-4ce1-a03b-6925c8020b19",
        "outputId": "0cd8aa15-6a4e-4bab-a98a-f19a07d269d9"
      },
      "outputs": [
        {
          "output_type": "stream",
          "name": "stdout",
          "text": [
            "[4, 5, 1, 2, 3]\n",
            "[30, 40, 50, 10, 20]\n"
          ]
        }
      ],
      "source": [
        "\n",
        "def rotate_list(lst, k):\n",
        "  n = len(lst)\n",
        "  if n == 0:\n",
        "    return lst\n",
        "  k = k % n\n",
        "  return lst[n-k:] + lst[:n-k]\n",
        "\n",
        "print(rotate_list([1, 2, 3, 4, 5], k=2))\n",
        "print(rotate_list([10, 20, 30, 40, 50], k=3))\n",
        "\n"
      ]
    },
    {
      "cell_type": "code",
      "execution_count": null,
      "id": "3071afc2-ed0d-4f51-9910-6c8d06bfc1c5",
      "metadata": {
        "id": "3071afc2-ed0d-4f51-9910-6c8d06bfc1c5"
      },
      "outputs": [],
      "source": []
    },
    {
      "cell_type": "markdown",
      "id": "94b7d159-63f7-4efb-a0ae-d5734e84272e",
      "metadata": {
        "id": "94b7d159-63f7-4efb-a0ae-d5734e84272e"
      },
      "source": [
        "# 11. Find the Intersection of Two Lists\n",
        "## Problem Statement:\n",
        "Write a function to find the common elements between two lists.\n",
        "\n",
        "## Example 1:\n",
        "**Input:** `[1, 2, 3, 4]`, `[3, 4, 5, 6]`  \n",
        "**Output:** `[3, 4]`\n",
        "\n",
        "## Example 2:\n",
        "**Input:** `[\"apple\", \"banana\", \"cherry\"]`, `[\"banana\", \"cherry\", \"date\"]`  \n",
        "**Output:** `[\"banana\", \"cherry\"]`\n"
      ]
    },
    {
      "cell_type": "code",
      "execution_count": 16,
      "id": "2fba381c-645b-4788-bd52-8baae6cd8c82",
      "metadata": {
        "colab": {
          "base_uri": "https://localhost:8080/"
        },
        "id": "2fba381c-645b-4788-bd52-8baae6cd8c82",
        "outputId": "ba5e6f54-59c2-4c9a-bcb7-181223fb7ccf"
      },
      "outputs": [
        {
          "output_type": "stream",
          "name": "stdout",
          "text": [
            "[3, 4]\n",
            "['cherry', 'banana']\n"
          ]
        }
      ],
      "source": [
        "\n",
        "def intersection_of_lists(list1, list2):\n",
        "  return list(set(list1) & set(list2))\n",
        "\n",
        "print(intersection_of_lists([1, 2, 3, 4], [3, 4, 5, 6]))\n",
        "print(intersection_of_lists([\"apple\", \"banana\", \"cherry\"], [\"banana\", \"cherry\", \"date\"]))"
      ]
    },
    {
      "cell_type": "code",
      "execution_count": null,
      "id": "296ba470-936b-47f2-943c-b597ead49086",
      "metadata": {
        "id": "296ba470-936b-47f2-943c-b597ead49086"
      },
      "outputs": [],
      "source": []
    },
    {
      "cell_type": "markdown",
      "id": "d21374ba-1837-4c2d-88f3-493c9dcfb804",
      "metadata": {
        "id": "d21374ba-1837-4c2d-88f3-493c9dcfb804"
      },
      "source": [
        "# 12. Find the Union of Two Lists\n",
        "## Problem Statement:\n",
        "Write a function to return the union of two lists (without duplicates).\n",
        "\n",
        "## Example 1:\n",
        "**Input:** `[1, 2, 3]`, `[3, 4, 5]`  \n",
        "**Output:** `[1, 2, 3, 4, 5]`\n",
        "\n",
        "## Example 2:\n",
        "**Input:** `[\"a\", \"b\", \"c\"]`, `[\"b\", \"c\", \"d\"]`  \n",
        "**Output:** `[\"a\", \"b\", \"c\", \"d\"]`\n"
      ]
    },
    {
      "cell_type": "code",
      "execution_count": 17,
      "id": "b9c68bb7-b138-4a77-a73d-108977bce975",
      "metadata": {
        "colab": {
          "base_uri": "https://localhost:8080/"
        },
        "id": "b9c68bb7-b138-4a77-a73d-108977bce975",
        "outputId": "b0c6fe89-a32c-48ae-e464-b2c78abed31c"
      },
      "outputs": [
        {
          "output_type": "stream",
          "name": "stdout",
          "text": [
            "[1, 2, 3, 4, 5]\n",
            "['d', 'b', 'c', 'a']\n"
          ]
        }
      ],
      "source": [
        "\n",
        "def union_of_lists(list1, list2):\n",
        "  return list(set(list1) | set(list2))\n",
        "\n",
        "print(union_of_lists([1, 2, 3], [3, 4, 5]))\n",
        "print(union_of_lists([\"a\", \"b\", \"c\"], [\"b\", \"c\", \"d\"]))"
      ]
    },
    {
      "cell_type": "code",
      "execution_count": null,
      "id": "6264bf87-40a2-40db-945f-8c3995c782c8",
      "metadata": {
        "id": "6264bf87-40a2-40db-945f-8c3995c782c8"
      },
      "outputs": [],
      "source": []
    },
    {
      "cell_type": "markdown",
      "id": "e335d83d-180c-428b-b297-911ff99846fb",
      "metadata": {
        "id": "e335d83d-180c-428b-b297-911ff99846fb"
      },
      "source": [
        "# 13. Find the Difference Between Two Lists\n",
        "## Problem Statement:\n",
        "Write a function to return elements present in the first list but not in the second.\n",
        "\n",
        "## Example 1:\n",
        "**Input:** `[1, 2, 3, 4]`, `[2, 4, 6]`  \n",
        "**Output:** `[1, 3]`\n",
        "\n",
        "## Example 2:\n",
        "**Input:** `[\"cat\", \"dog\", \"rabbit\"]`, `[\"dog\", \"rabbit\"]`  \n",
        "**Output:** `[\"cat\"]`\n"
      ]
    },
    {
      "cell_type": "code",
      "execution_count": 18,
      "id": "07389d4c-44da-45b0-bab6-ab2e638be814",
      "metadata": {
        "colab": {
          "base_uri": "https://localhost:8080/"
        },
        "id": "07389d4c-44da-45b0-bab6-ab2e638be814",
        "outputId": "6fbdd445-2c0a-46df-e3ea-b6a295599011"
      },
      "outputs": [
        {
          "output_type": "stream",
          "name": "stdout",
          "text": [
            "[1, 3]\n",
            "['cat']\n"
          ]
        }
      ],
      "source": [
        "\n",
        "def difference_of_lists(list1, list2):\n",
        "  return list(set(list1) - set(list2))\n",
        "\n",
        "print(difference_of_lists([1, 2, 3, 4], [2, 4, 6]))\n",
        "print(difference_of_lists([\"cat\", \"dog\", \"rabbit\"], [\"dog\", \"rabbit\"]))\n"
      ]
    },
    {
      "cell_type": "code",
      "execution_count": null,
      "id": "dde54afd-9351-4698-9603-7d98450d7eeb",
      "metadata": {
        "id": "dde54afd-9351-4698-9603-7d98450d7eeb"
      },
      "outputs": [],
      "source": []
    },
    {
      "cell_type": "markdown",
      "id": "19e90ba4-7144-45ea-880d-f31d4c01fbde",
      "metadata": {
        "id": "19e90ba4-7144-45ea-880d-f31d4c01fbde"
      },
      "source": [
        "# 14. Find the Mode of a List\n",
        "## Problem Statement:\n",
        "Write a function to return the most frequently occurring element in a list.\n",
        "\n",
        "## Example 1:\n",
        "**Input:** `[1, 2, 2, 3, 3, 3]`  \n",
        "**Output:** `3`\n",
        "\n",
        "## Example 2:\n",
        "**Input:** `[\"apple\", \"banana\", \"apple\", \"cherry\", \"apple\"]`  \n",
        "**Output:** `\"apple\"`\n"
      ]
    },
    {
      "cell_type": "code",
      "execution_count": 19,
      "id": "bfc0ae57-4b69-401b-9c06-1f7896081fc7",
      "metadata": {
        "colab": {
          "base_uri": "https://localhost:8080/"
        },
        "id": "bfc0ae57-4b69-401b-9c06-1f7896081fc7",
        "outputId": "d9a6d984-f70f-4006-adb9-c30974a49e2d"
      },
      "outputs": [
        {
          "output_type": "stream",
          "name": "stdout",
          "text": [
            "3\n",
            "apple\n"
          ]
        }
      ],
      "source": [
        "\n",
        "def mode_list(lst):\n",
        "  counts = Counter(lst)\n",
        "  return max(counts, key=counts.get)\n",
        "\n",
        "print(mode_list([1, 2, 2, 3, 3, 3]))\n",
        "print(mode_list([\"apple\", \"banana\", \"apple\", \"cherry\", \"apple\"]))"
      ]
    },
    {
      "cell_type": "code",
      "execution_count": null,
      "id": "d0e0abaf-a368-4db5-b6ff-262d1367c125",
      "metadata": {
        "id": "d0e0abaf-a368-4db5-b6ff-262d1367c125"
      },
      "outputs": [],
      "source": []
    },
    {
      "cell_type": "markdown",
      "id": "8008537d-35c3-498b-9d8f-f412c3ee331a",
      "metadata": {
        "id": "8008537d-35c3-498b-9d8f-f412c3ee331a"
      },
      "source": [
        "# 15. Flatten a Nested List\n",
        "## Problem Statement:\n",
        "Write a function to flatten a nested list into a single list.\n",
        "\n",
        "## Example 1:\n",
        "**Input:** `[[1, 2, [3]], 4]`  \n",
        "**Output:** `[1, 2, 3, 4]`\n",
        "\n",
        "## Example 2:\n",
        "**Input:** `[[\"a\", [\"b\", \"c\"]], \"d\"]`  \n",
        "**Output:** `[\"a\", \"b\", \"c\", \"d\"]`\n"
      ]
    },
    {
      "cell_type": "code",
      "source": [
        "\n",
        "def flatten_list(nested_list):\n",
        "  flattened = []\n",
        "  for item in nested_list:\n",
        "    if isinstance(item, list):\n",
        "      flattened.extend(flatten_list(item))\n",
        "    else:\n",
        "      flattened.append(item)\n",
        "  return flattened\n",
        "\n",
        "print(flatten_list([[1, 2, [3]], 4]))\n",
        "print(flatten_list([[\"a\", [\"b\", \"c\"]], \"d\"]))"
      ],
      "metadata": {
        "colab": {
          "base_uri": "https://localhost:8080/"
        },
        "id": "OJ9vIdialIy7",
        "outputId": "12150619-53c5-4665-db89-0eb1149af6dd"
      },
      "id": "OJ9vIdialIy7",
      "execution_count": 21,
      "outputs": [
        {
          "output_type": "stream",
          "name": "stdout",
          "text": [
            "[1, 2, 3, 4]\n",
            "['a', 'b', 'c', 'd']\n"
          ]
        }
      ]
    },
    {
      "cell_type": "code",
      "source": [],
      "metadata": {
        "id": "HBdS43zilImr"
      },
      "id": "HBdS43zilImr",
      "execution_count": null,
      "outputs": []
    },
    {
      "cell_type": "markdown",
      "id": "e1aae028-80b8-4a5f-b481-8afb6fc767e2",
      "metadata": {
        "id": "e1aae028-80b8-4a5f-b481-8afb6fc767e2"
      },
      "source": [
        "# 16. Find Pairs in a List That Sum to a Target Value\n",
        "## Problem Statement:\n",
        "Write a function to find all pairs in a list that sum to a given target.\n",
        "\n",
        "## Example 1:\n",
        "**Input:** `[1, 2, 3, 4, 5]`, `target=6`  \n",
        "**Output:** `[(1, 5), (2, 4)]`\n",
        "\n",
        "## Example 2:\n",
        "**Input:** `[2, 4, 6, 8]`, `target=10`  \n",
        "**Output:** `[(2, 8), (4, 6)]`\n"
      ]
    },
    {
      "cell_type": "code",
      "execution_count": 22,
      "id": "35f3cb07-6370-4b58-ac70-149c425ede93",
      "metadata": {
        "colab": {
          "base_uri": "https://localhost:8080/"
        },
        "id": "35f3cb07-6370-4b58-ac70-149c425ede93",
        "outputId": "50e71ee9-11d0-4a8a-87d1-dc76aeb5f79a"
      },
      "outputs": [
        {
          "output_type": "stream",
          "name": "stdout",
          "text": [
            "[(1, 5), (2, 4)]\n",
            "[(2, 8), (4, 6)]\n"
          ]
        }
      ],
      "source": [
        "\n",
        "def find_pairs_with_sum(lst, target):\n",
        "  seen = set()\n",
        "  pairs = []\n",
        "  for num in lst:\n",
        "    complement = target - num\n",
        "    if complement in seen:\n",
        "      pairs.append((min(num, complement), max(num, complement)))\n",
        "    seen.add(num)\n",
        "  return sorted(list(set(pairs)))\n",
        "\n",
        "print(find_pairs_with_sum([1, 2, 3, 4, 5], target=6))\n",
        "print(find_pairs_with_sum([2, 4, 6, 8], target=10))"
      ]
    },
    {
      "cell_type": "code",
      "execution_count": null,
      "id": "a95297a6-5358-4814-a21f-0e10c6df6212",
      "metadata": {
        "id": "a95297a6-5358-4814-a21f-0e10c6df6212"
      },
      "outputs": [],
      "source": []
    },
    {
      "cell_type": "markdown",
      "id": "361f2030-2016-4608-bc25-29af4908b376",
      "metadata": {
        "id": "361f2030-2016-4608-bc25-29af4908b376"
      },
      "source": [
        "# 17. Find the Product of All Elements Except Self\n",
        "## Problem Statement:\n",
        "Write a function that returns a list where each index contains the product of all numbers except the number at that index.\n",
        "\n",
        "## Example 1:\n",
        "**Input:** `[1, 2, 3, 4]`  \n",
        "**Output:** `[24, 12, 8, 6]`\n",
        "\n",
        "## Example 2:\n",
        "**Input:** `[5, 6, 7]`  \n",
        "**Output:** `[42, 35, 30]`\n"
      ]
    },
    {
      "cell_type": "code",
      "execution_count": 23,
      "id": "933f3985-7aa4-4cc5-9c26-45f4b46586e9",
      "metadata": {
        "colab": {
          "base_uri": "https://localhost:8080/"
        },
        "id": "933f3985-7aa4-4cc5-9c26-45f4b46586e9",
        "outputId": "4cf66a80-237a-4ebd-8999-c860ffdce43d"
      },
      "outputs": [
        {
          "output_type": "stream",
          "name": "stdout",
          "text": [
            "[24, 12, 8, 6]\n",
            "[42, 35, 30]\n"
          ]
        }
      ],
      "source": [
        "\n",
        "def product_except_self(lst):\n",
        "  n = len(lst)\n",
        "  result = [1] * n\n",
        "\n",
        "  # Calculate the prefix products\n",
        "  prefix_product = 1\n",
        "  for i in range(n):\n",
        "    result[i] *= prefix_product\n",
        "    prefix_product *= lst[i]\n",
        "\n",
        "  # Calculate the suffix products and combine\n",
        "  suffix_product = 1\n",
        "  for i in range(n - 1, -1, -1):\n",
        "    result[i] *= suffix_product\n",
        "    suffix_product *= lst[i]\n",
        "\n",
        "  return result\n",
        "\n",
        "print(product_except_self([1, 2, 3, 4]))\n",
        "print(product_except_self([5, 6, 7]))"
      ]
    },
    {
      "cell_type": "code",
      "execution_count": null,
      "id": "29d2d922-479e-43b6-861d-6c471e4989c0",
      "metadata": {
        "id": "29d2d922-479e-43b6-861d-6c471e4989c0"
      },
      "outputs": [],
      "source": []
    },
    {
      "cell_type": "markdown",
      "id": "129ff3e8-fc93-4856-8cc9-5b49f84704cc",
      "metadata": {
        "id": "129ff3e8-fc93-4856-8cc9-5b49f84704cc"
      },
      "source": [
        "# 18. Find the Longest Consecutive Sequence in a List\n",
        "## Problem Statement:\n",
        "Write a function to find the longest sequence of consecutive numbers in a list.\n",
        "\n",
        "## Example 1:\n",
        "**Input:** `[100, 4, 200, 1, 3, 2]`  \n",
        "**Output:** `4  (sequence: [1, 2, 3, 4])`\n",
        "\n",
        "## Example 2:\n",
        "**Input:** `[10, 11, 12, 50, 51, 52]`  \n",
        "**Output:** `3  (sequence: [10, 11, 12])`\n"
      ]
    },
    {
      "cell_type": "code",
      "execution_count": 24,
      "id": "1e8e6260-8f83-467c-b9dd-10497f63e640",
      "metadata": {
        "colab": {
          "base_uri": "https://localhost:8080/"
        },
        "id": "1e8e6260-8f83-467c-b9dd-10497f63e640",
        "outputId": "ec02ecfe-0abd-429b-a5ad-1db0697f2ae4"
      },
      "outputs": [
        {
          "output_type": "stream",
          "name": "stdout",
          "text": [
            "4\n",
            "3\n"
          ]
        }
      ],
      "source": [
        "\n",
        "def longest_consecutive(nums):\n",
        "  num_set = set(nums)\n",
        "  longest_streak = 0\n",
        "\n",
        "  for num in num_set:\n",
        "    if num - 1 not in num_set:  # Start of a sequence\n",
        "      current_num = num\n",
        "      current_streak = 1\n",
        "\n",
        "      while current_num + 1 in num_set:\n",
        "        current_num += 1\n",
        "        current_streak += 1\n",
        "\n",
        "      longest_streak = max(longest_streak, current_streak)\n",
        "\n",
        "  return longest_streak\n",
        "\n",
        "print(longest_consecutive([100, 4, 200, 1, 3, 2]))\n",
        "print(longest_consecutive([10, 11, 12, 50, 51, 52]))"
      ]
    },
    {
      "cell_type": "markdown",
      "id": "d78db306-86d8-466d-809e-4a501d84b7e3",
      "metadata": {
        "id": "d78db306-86d8-466d-809e-4a501d84b7e3"
      },
      "source": [
        "# 19. Check if a List Contains a Sublist\n",
        "## Problem Statement:\n",
        "Write a function to check if a list contains a given sublist.\n",
        "\n",
        "## Example 1:\n",
        "**Input:** `[1, 2, 3, 4, 5]`, `[3, 4]`  \n",
        "**Output:** `True`\n",
        "\n",
        "## Example 2:\n",
        "**Input:** `[10, 20, 30, 40]`, `[20, 50]`  \n",
        "**Output:** `False`\n"
      ]
    },
    {
      "cell_type": "code",
      "execution_count": 25,
      "id": "f4981789-b06f-4f01-9d60-33aee6a9fc61",
      "metadata": {
        "colab": {
          "base_uri": "https://localhost:8080/"
        },
        "id": "f4981789-b06f-4f01-9d60-33aee6a9fc61",
        "outputId": "1985a5cd-cc53-4a64-e70e-9d89791f38e0"
      },
      "outputs": [
        {
          "output_type": "stream",
          "name": "stdout",
          "text": [
            "True\n",
            "False\n"
          ]
        }
      ],
      "source": [
        "\n",
        "def contains_sublist(main_list, sub_list):\n",
        "  n = len(main_list)\n",
        "  m = len(sub_list)\n",
        "\n",
        "  if m > n:\n",
        "    return False\n",
        "\n",
        "  for i in range(n - m + 1):\n",
        "    if main_list[i:i+m] == sub_list:\n",
        "      return True\n",
        "\n",
        "  return False\n",
        "\n",
        "print(contains_sublist([1, 2, 3, 4, 5], [3, 4]))\n",
        "print(contains_sublist([10, 20, 30, 40], [20, 50]))"
      ]
    },
    {
      "cell_type": "code",
      "execution_count": null,
      "id": "dbe70fad-c011-4a2b-8610-257686b41eb7",
      "metadata": {
        "id": "dbe70fad-c011-4a2b-8610-257686b41eb7"
      },
      "outputs": [],
      "source": []
    },
    {
      "cell_type": "markdown",
      "id": "9f92a78f-50c6-4244-89cb-44cf6d00da88",
      "metadata": {
        "id": "9f92a78f-50c6-4244-89cb-44cf6d00da88"
      },
      "source": [
        "# 20. Find the Kth Largest Element in a List\n",
        "## Problem Statement:\n",
        "Write a function to find the `k`th largest element in a list.\n",
        "\n",
        "## Example 1:\n",
        "**Input:** `[3, 2, 1, 5, 6, 4]`, `k=2`  \n",
        "**Output:** `5`\n",
        "\n",
        "## Example 2:\n",
        "**Input:** `[10, 20, 30, 40, 50]`, `k=3`  \n",
        "**Output:** `30`\n"
      ]
    },
    {
      "cell_type": "code",
      "execution_count": 26,
      "id": "b7752ce5-63b2-414f-b2bc-5f64a1f804e4",
      "metadata": {
        "colab": {
          "base_uri": "https://localhost:8080/"
        },
        "id": "b7752ce5-63b2-414f-b2bc-5f64a1f804e4",
        "outputId": "9c91bf10-ed77-4241-90a6-6b195338ad04"
      },
      "outputs": [
        {
          "output_type": "stream",
          "name": "stdout",
          "text": [
            "5\n",
            "30\n"
          ]
        }
      ],
      "source": [
        "\n",
        "def kth_largest_element(lst, k):\n",
        "  lst.sort()\n",
        "  return lst[-k]\n",
        "\n",
        "print(kth_largest_element([3, 2, 1, 5, 6, 4], k=2))\n",
        "print(kth_largest_element([10, 20, 30, 40, 50], k=3))\n"
      ]
    },
    {
      "cell_type": "code",
      "execution_count": null,
      "id": "e9af5c07-635e-4d89-bbde-8d499d856896",
      "metadata": {
        "id": "e9af5c07-635e-4d89-bbde-8d499d856896"
      },
      "outputs": [],
      "source": []
    },
    {
      "cell_type": "markdown",
      "id": "af5120a1-17b0-4d4c-880e-34835e12e1bb",
      "metadata": {
        "id": "af5120a1-17b0-4d4c-880e-34835e12e1bb"
      },
      "source": [
        "# 21. Find All Duplicates in a List\n",
        "## Problem Statement:\n",
        "Write a function to return a list of all duplicate elements.\n",
        "\n",
        "## Example 1:\n",
        "**Input:** `[1, 2, 3, 4, 2, 3, 5]`  \n",
        "**Output:** `[2, 3]`\n",
        "\n",
        "## Example 2:\n",
        "**Input:** `[10, 10, 20, 30, 30]`  \n",
        "**Output:** `[10, 30]`\n"
      ]
    },
    {
      "cell_type": "code",
      "execution_count": 29,
      "id": "611db358-0cf5-4c2c-b63a-331be040255e",
      "metadata": {
        "colab": {
          "base_uri": "https://localhost:8080/"
        },
        "id": "611db358-0cf5-4c2c-b63a-331be040255e",
        "outputId": "5dd2e36f-4e6c-4bd3-b5f4-cb982378bbb6"
      },
      "outputs": [
        {
          "output_type": "stream",
          "name": "stdout",
          "text": [
            "[2, 3]\n",
            "[10, 30]\n"
          ]
        }
      ],
      "source": [
        "\n",
        "def find_all_duplicates(lst):\n",
        "  counts = Counter(lst)\n",
        "  duplicates = [item for item, count in counts.items() if count > 1]\n",
        "  return duplicates\n",
        "\n",
        "print(find_all_duplicates([1, 2, 3, 4, 2, 3, 5]))\n",
        "print(find_all_duplicates([10, 10, 20, 30, 30]))\n"
      ]
    },
    {
      "cell_type": "code",
      "execution_count": null,
      "id": "8c9d8d57-70ac-4a21-a58a-71c67aa9fb16",
      "metadata": {
        "id": "8c9d8d57-70ac-4a21-a58a-71c67aa9fb16"
      },
      "outputs": [],
      "source": []
    },
    {
      "cell_type": "markdown",
      "id": "b179dc25-37ab-471a-a357-6c90633751e6",
      "metadata": {
        "id": "b179dc25-37ab-471a-a357-6c90633751e6"
      },
      "source": [
        "# 22. Partition a List into Even and Odd Elements\n",
        "## Problem Statement:\n",
        "Write a function to split a list into two separate lists, one containing even numbers and the other containing odd numbers.\n",
        "\n",
        "## Example 1:\n",
        "**Input:** `[1, 2, 3, 4, 5]`  \n",
        "**Output:** `([2, 4], [1, 3, 5])`\n",
        "\n",
        "## Example 2:\n",
        "**Input:** `[10, 15, 20, 25]`  \n",
        "**Output:** `([10, 20], [15, 25])`\n"
      ]
    },
    {
      "cell_type": "code",
      "execution_count": 30,
      "id": "06437acb-825d-49d7-ae88-da2883ebd696",
      "metadata": {
        "colab": {
          "base_uri": "https://localhost:8080/"
        },
        "id": "06437acb-825d-49d7-ae88-da2883ebd696",
        "outputId": "5629f5aa-6bde-4390-da15-3b930bdf65d7"
      },
      "outputs": [
        {
          "output_type": "stream",
          "name": "stdout",
          "text": [
            "([2, 4], [1, 3, 5])\n",
            "([10, 20], [15, 25])\n"
          ]
        }
      ],
      "source": [
        "\n",
        "def partition_even_odd(lst):\n",
        "  even_list = [num for num in lst if num % 2 == 0]\n",
        "  odd_list = [num for num in lst if num % 2 != 0]\n",
        "  return (even_list, odd_list)\n",
        "\n",
        "print(partition_even_odd([1, 2, 3, 4, 5]))\n",
        "print(partition_even_odd([10, 15, 20, 25]))"
      ]
    },
    {
      "cell_type": "code",
      "execution_count": null,
      "id": "973eb955-eacb-4c3b-b028-83f3496f2ffd",
      "metadata": {
        "id": "973eb955-eacb-4c3b-b028-83f3496f2ffd"
      },
      "outputs": [],
      "source": []
    },
    {
      "cell_type": "markdown",
      "id": "b92d2695-51ec-4780-88f2-23f8f5591479",
      "metadata": {
        "id": "b92d2695-51ec-4780-88f2-23f8f5591479"
      },
      "source": [
        "# 23. Find the First Non-Repeating Element in a List\n",
        "## Problem Statement:\n",
        "Write a function to find the first element that does not repeat.\n",
        "\n",
        "## Example 1:\n",
        "**Input:** `[4, 5, 1, 2, 0, 4]`  \n",
        "**Output:** `5`\n",
        "\n",
        "## Example 2:\n",
        "**Input:** `[10, 20, 10, 30, 20]`  \n",
        "**Output:** `30`\n"
      ]
    },
    {
      "cell_type": "code",
      "execution_count": 31,
      "id": "b9dfd48e-7d1f-4fdc-a66c-b260167a145c",
      "metadata": {
        "colab": {
          "base_uri": "https://localhost:8080/"
        },
        "id": "b9dfd48e-7d1f-4fdc-a66c-b260167a145c",
        "outputId": "f7daeead-aba8-4ce3-effa-440f56c5225e"
      },
      "outputs": [
        {
          "output_type": "stream",
          "name": "stdout",
          "text": [
            "5\n",
            "30\n"
          ]
        }
      ],
      "source": [
        "\n",
        "def find_first_non_repeating(lst):\n",
        "  counts = Counter(lst)\n",
        "  for item in lst:\n",
        "    if counts[item] == 1:\n",
        "      return item\n",
        "  return None\n",
        "\n",
        "print(find_first_non_repeating([4, 5, 1, 2, 0, 4]))\n",
        "print(find_first_non_repeating([10, 20, 10, 30, 20]))"
      ]
    },
    {
      "cell_type": "code",
      "execution_count": null,
      "id": "9796f7dd-192a-478d-84be-f06898fc96c8",
      "metadata": {
        "id": "9796f7dd-192a-478d-84be-f06898fc96c8"
      },
      "outputs": [],
      "source": []
    },
    {
      "cell_type": "markdown",
      "id": "6fb71179-2ae6-456d-b25a-db10c57e5429",
      "metadata": {
        "id": "6fb71179-2ae6-456d-b25a-db10c57e5429"
      },
      "source": [
        "# 24. Sort a List Without Using Built-in Sort\n",
        "## Problem Statement:\n",
        "Write a function to sort a list in ascending order without using Python’s built-in sort.\n",
        "\n",
        "## Example 1:\n",
        "**Input:** `[3, 1, 4, 1, 5, 9]`  \n",
        "**Output:** `[1, 1, 3, 4, 5, 9]`\n",
        "\n",
        "## Example 2:\n",
        "**Input:** `[10, 5, 2, 8]`  \n",
        "**Output:** `[2, 5, 8, 10]`\n"
      ]
    },
    {
      "cell_type": "code",
      "execution_count": 32,
      "id": "12685e9a-841e-4b2b-8cfb-7131b1e3c6f1",
      "metadata": {
        "colab": {
          "base_uri": "https://localhost:8080/"
        },
        "id": "12685e9a-841e-4b2b-8cfb-7131b1e3c6f1",
        "outputId": "1606d928-4f8d-41ed-8489-ac37c2afcf75"
      },
      "outputs": [
        {
          "output_type": "stream",
          "name": "stdout",
          "text": [
            "[1, 1, 3, 4, 5, 9]\n",
            "[2, 5, 8, 10]\n"
          ]
        }
      ],
      "source": [
        "\n",
        "def manual_sort(lst):\n",
        "  n = len(lst)\n",
        "  for i in range(n):\n",
        "    for j in range(0, n - i - 1):\n",
        "      if lst[j] > lst[j+1]:\n",
        "        lst[j], lst[j+1] = lst[j+1], lst[j]\n",
        "  return lst\n",
        "\n",
        "print(manual_sort([3, 1, 4, 1, 5, 9]))\n",
        "print(manual_sort([10, 5, 2, 8]))\n"
      ]
    },
    {
      "cell_type": "markdown",
      "id": "37658f34-5781-4e84-b348-48b1c8f350cc",
      "metadata": {
        "id": "37658f34-5781-4e84-b348-48b1c8f350cc"
      },
      "source": [
        "# 25. Find All Triplets That Sum to Zero\n",
        "## Problem Statement:\n",
        "Write a function to find all triplets in a list that sum to zero.\n",
        "\n",
        "## Example 1:\n",
        "**Input:** `[-1, 0, 1, 2, -1, -4]`  \n",
        "**Output:** `[[-1, -1, 2], [-1, 0, 1]]`\n",
        "\n",
        "## Example 2:\n",
        "**Input:** `[1, -2, 1, 0, 5]`  \n",
        "**Output:** `[[-2, 1, 1]]`\n"
      ]
    },
    {
      "cell_type": "code",
      "execution_count": null,
      "id": "defa0f94-4681-499b-8aeb-8fc381308d05",
      "metadata": {
        "id": "defa0f94-4681-499b-8aeb-8fc381308d05"
      },
      "outputs": [],
      "source": []
    },
    {
      "cell_type": "code",
      "execution_count": null,
      "id": "cce128fa-a380-467e-9251-b0449833e334",
      "metadata": {
        "id": "cce128fa-a380-467e-9251-b0449833e334"
      },
      "outputs": [],
      "source": []
    },
    {
      "cell_type": "code",
      "execution_count": null,
      "id": "55f0be4a-a7a1-4d9e-8388-6112e2968e43",
      "metadata": {
        "id": "55f0be4a-a7a1-4d9e-8388-6112e2968e43"
      },
      "outputs": [],
      "source": []
    }
  ],
  "metadata": {
    "kernelspec": {
      "display_name": "Python 3 (ipykernel)",
      "language": "python",
      "name": "python3"
    },
    "language_info": {
      "codemirror_mode": {
        "name": "ipython",
        "version": 3
      },
      "file_extension": ".py",
      "mimetype": "text/x-python",
      "name": "python",
      "nbconvert_exporter": "python",
      "pygments_lexer": "ipython3",
      "version": "3.12.9"
    },
    "colab": {
      "provenance": []
    }
  },
  "nbformat": 4,
  "nbformat_minor": 5
}