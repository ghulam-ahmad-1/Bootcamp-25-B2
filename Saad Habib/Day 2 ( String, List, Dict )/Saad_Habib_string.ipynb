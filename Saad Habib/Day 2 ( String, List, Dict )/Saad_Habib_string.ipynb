{
  "cells": [
    {
      "cell_type": "markdown",
      "id": "ae0ad9d2-1f51-46a1-8ed2-2b00ed414cc6",
      "metadata": {
        "id": "ae0ad9d2-1f51-46a1-8ed2-2b00ed414cc6"
      },
      "source": [
        "# 1. Reverse a String\n",
        "## Problem Statement:\n",
        "Write a function to reverse a given string.\n",
        "\n",
        "## Example 1:\n",
        "**Input:** `\"hello\"`  \n",
        "**Output:** `\"olleh\"`\n",
        "\n",
        "## Example 2:\n",
        "**Input:** `\"world\"`  \n",
        "**Output:** `\"dlrow\"`\n"
      ]
    },
    {
      "cell_type": "code",
      "execution_count": 1,
      "id": "e1435aa7-457c-4b05-ad71-fc7204bb88d7",
      "metadata": {
        "id": "e1435aa7-457c-4b05-ad71-fc7204bb88d7",
        "colab": {
          "base_uri": "https://localhost:8080/",
          "height": 35
        },
        "outputId": "02f94008-e459-4bd0-d081-75d385f3c68f"
      },
      "outputs": [
        {
          "output_type": "execute_result",
          "data": {
            "text/plain": [
              "'olleh'"
            ],
            "application/vnd.google.colaboratory.intrinsic+json": {
              "type": "string"
            }
          },
          "metadata": {},
          "execution_count": 1
        }
      ],
      "source": [
        "def reverse(str):\n",
        "  return str[::-1]\n",
        "reverse('hello')"
      ]
    },
    {
      "cell_type": "code",
      "execution_count": null,
      "id": "1f15a4a5-58a6-4b21-b178-575c8b4790f2",
      "metadata": {
        "id": "1f15a4a5-58a6-4b21-b178-575c8b4790f2"
      },
      "outputs": [],
      "source": []
    },
    {
      "cell_type": "markdown",
      "id": "5a3927f5-6184-40a6-b3f8-34cd08ef19a1",
      "metadata": {
        "id": "5a3927f5-6184-40a6-b3f8-34cd08ef19a1"
      },
      "source": [
        "# 2. Check if a String is a Palindrome\n",
        "## Problem Statement:\n",
        "Write a function to check if a string is a palindrome (same forward and backward).\n",
        "\n",
        "## Example 1:\n",
        "**Input:** `\"madam\"`  \n",
        "**Output:** `True`\n",
        "\n",
        "## Example 2:\n",
        "**Input:** `\"hello\"`  \n",
        "**Output:** `False`\n"
      ]
    },
    {
      "cell_type": "code",
      "execution_count": 3,
      "id": "e10e83ef-aacb-4764-9c1a-dc28c3d0b3df",
      "metadata": {
        "id": "e10e83ef-aacb-4764-9c1a-dc28c3d0b3df",
        "colab": {
          "base_uri": "https://localhost:8080/"
        },
        "outputId": "0ff64465-bcb9-4e04-d922-bcf6ac67f6a0"
      },
      "outputs": [
        {
          "output_type": "execute_result",
          "data": {
            "text/plain": [
              "False"
            ]
          },
          "metadata": {},
          "execution_count": 3
        }
      ],
      "source": [
        "def check_palin(str):\n",
        "  return str==str[::-1]\n",
        "check_palin('hello')"
      ]
    },
    {
      "cell_type": "code",
      "execution_count": null,
      "id": "5e6a74e5-1a49-48ee-8624-20cce02b3597",
      "metadata": {
        "id": "5e6a74e5-1a49-48ee-8624-20cce02b3597"
      },
      "outputs": [],
      "source": []
    },
    {
      "cell_type": "markdown",
      "id": "58b59720-7688-43eb-b24d-d886c3b3c809",
      "metadata": {
        "id": "58b59720-7688-43eb-b24d-d886c3b3c809"
      },
      "source": [
        "# 3. Count the Number of Vowels in a String\n",
        "## Problem Statement:\n",
        "Write a function to count the number of vowels in a given string.\n",
        "\n",
        "## Example 1:\n",
        "**Input:** `\"apple\"`  \n",
        "**Output:** `2`\n",
        "\n",
        "## Example 2:\n",
        "**Input:** `\"banana\"`  \n",
        "**Output:** `3`\n"
      ]
    },
    {
      "cell_type": "code",
      "execution_count": 4,
      "id": "cc7ada12-76e0-4759-87ee-31224446fdd7",
      "metadata": {
        "id": "cc7ada12-76e0-4759-87ee-31224446fdd7",
        "colab": {
          "base_uri": "https://localhost:8080/"
        },
        "outputId": "9e727a3c-0ee7-4c39-a0f5-19a7c26ee0d5"
      },
      "outputs": [
        {
          "output_type": "execute_result",
          "data": {
            "text/plain": [
              "2"
            ]
          },
          "metadata": {},
          "execution_count": 4
        }
      ],
      "source": [
        "def vowels(str):\n",
        "  vowels='aeiouAEIOU'\n",
        "  count=0\n",
        "  for i in str:\n",
        "    if i in vowels:\n",
        "      count+=1\n",
        "  return count\n",
        "vowels('apple')"
      ]
    },
    {
      "cell_type": "code",
      "execution_count": null,
      "id": "6ad075be-9c42-41d2-be73-ac5760653656",
      "metadata": {
        "id": "6ad075be-9c42-41d2-be73-ac5760653656"
      },
      "outputs": [],
      "source": []
    },
    {
      "cell_type": "markdown",
      "id": "abcbec6f-e9e9-4238-8130-b4313c2357cc",
      "metadata": {
        "id": "abcbec6f-e9e9-4238-8130-b4313c2357cc"
      },
      "source": [
        "# 4. Remove All Whitespace from a String\n",
        "## Problem Statement:\n",
        "Write a function that removes all whitespace characters from a string.\n",
        "\n",
        "## Example 1:\n",
        "**Input:** `\"hello world\"`  \n",
        "**Output:** `\"helloworld\"`\n",
        "\n",
        "## Example 2:\n",
        "**Input:** `\" Python  is  fun \"`  \n",
        "**Output:** `\"Pythonisfun\"`\n"
      ]
    },
    {
      "cell_type": "code",
      "execution_count": 5,
      "id": "59152c0f-cc53-4319-8b61-7bfa739a35a9",
      "metadata": {
        "id": "59152c0f-cc53-4319-8b61-7bfa739a35a9",
        "colab": {
          "base_uri": "https://localhost:8080/",
          "height": 35
        },
        "outputId": "4ef532ce-945a-4801-832c-ad862c2a345a"
      },
      "outputs": [
        {
          "output_type": "execute_result",
          "data": {
            "text/plain": [
              "'helloworld'"
            ],
            "application/vnd.google.colaboratory.intrinsic+json": {
              "type": "string"
            }
          },
          "metadata": {},
          "execution_count": 5
        }
      ],
      "source": [
        "def remove_space(str):\n",
        "  return str.replace(' ','')\n",
        "remove_space('hello world')"
      ]
    },
    {
      "cell_type": "code",
      "execution_count": null,
      "id": "c0feb715-5555-4882-b4d5-862addfc2e83",
      "metadata": {
        "id": "c0feb715-5555-4882-b4d5-862addfc2e83"
      },
      "outputs": [],
      "source": []
    },
    {
      "cell_type": "markdown",
      "id": "7a8010ed-0bbf-42c3-82c3-46b175c6e8af",
      "metadata": {
        "id": "7a8010ed-0bbf-42c3-82c3-46b175c6e8af"
      },
      "source": [
        "# 5. Find the First Non-Repeating Character in a String\n",
        "## Problem Statement:\n",
        "Write a function to find the first non-repeating character in a given string.\n",
        "\n",
        "## Example 1:\n",
        "**Input:** `\"swiss\"`  \n",
        "**Output:** `\"w\"`\n",
        "\n",
        "## Example 2:\n",
        "**Input:** `\"racecar\"`  \n",
        "**Output:** `\"e\"`\n"
      ]
    },
    {
      "cell_type": "code",
      "execution_count": 6,
      "id": "4aca409d-99fa-43bc-814c-9d93d54507ad",
      "metadata": {
        "id": "4aca409d-99fa-43bc-814c-9d93d54507ad",
        "colab": {
          "base_uri": "https://localhost:8080/",
          "height": 35
        },
        "outputId": "9240676e-b94a-42d4-e6f2-b9f0157766a5"
      },
      "outputs": [
        {
          "output_type": "execute_result",
          "data": {
            "text/plain": [
              "'e'"
            ],
            "application/vnd.google.colaboratory.intrinsic+json": {
              "type": "string"
            }
          },
          "metadata": {},
          "execution_count": 6
        }
      ],
      "source": [
        "def find_first_non_repeating_char(s):\n",
        "    char_counts = {}\n",
        "    for char in s:\n",
        "        char_counts[char] = char_counts.get(char, 0) + 1\n",
        "\n",
        "    for char in s:\n",
        "        if char_counts[char] == 1:\n",
        "            return char\n",
        "\n",
        "    return None\n",
        "find_first_non_repeating_char('racecar')"
      ]
    },
    {
      "cell_type": "code",
      "execution_count": null,
      "id": "728943f8-b9cd-45ca-9c54-4698ea06ade7",
      "metadata": {
        "id": "728943f8-b9cd-45ca-9c54-4698ea06ade7"
      },
      "outputs": [],
      "source": []
    },
    {
      "cell_type": "markdown",
      "id": "d3b7ea00-ba1f-46ed-b122-bb6b7cac074f",
      "metadata": {
        "id": "d3b7ea00-ba1f-46ed-b122-bb6b7cac074f"
      },
      "source": [
        "# 6. Check if Two Strings are Anagrams\n",
        "## Problem Statement:\n",
        "Write a function to check if two strings are anagrams.\n",
        "\n",
        "## Example 1:\n",
        "**Input:** `\"listen\", \"silent\"`  \n",
        "**Output:** `True`\n",
        "\n",
        "## Example 2:\n",
        "**Input:** `\"hello\", \"world\"`  \n",
        "**Output:** `False`\n"
      ]
    },
    {
      "cell_type": "code",
      "execution_count": 7,
      "id": "3b2c05e5-a7df-476b-9061-f7df9c3539d2",
      "metadata": {
        "id": "3b2c05e5-a7df-476b-9061-f7df9c3539d2",
        "colab": {
          "base_uri": "https://localhost:8080/"
        },
        "outputId": "c5f69bf1-7e03-4f6e-e492-b0b2eebfb3bd"
      },
      "outputs": [
        {
          "output_type": "execute_result",
          "data": {
            "text/plain": [
              "True"
            ]
          },
          "metadata": {},
          "execution_count": 7
        }
      ],
      "source": [
        "\n",
        "def check_anagram(str1, str2):\n",
        "  return sorted(str1) == sorted(str2)\n",
        "check_anagram('listen', 'silent')\n"
      ]
    },
    {
      "cell_type": "code",
      "execution_count": null,
      "id": "921ee110-5557-4d6e-a669-dc81ca237bcb",
      "metadata": {
        "id": "921ee110-5557-4d6e-a669-dc81ca237bcb"
      },
      "outputs": [],
      "source": []
    },
    {
      "cell_type": "markdown",
      "id": "3989dfe4-ab68-419d-9042-877f37ede653",
      "metadata": {
        "id": "3989dfe4-ab68-419d-9042-877f37ede653"
      },
      "source": [
        "# 7. Convert a String to Uppercase\n",
        "## Problem Statement:\n",
        "Write a function to convert a string to uppercase.\n",
        "\n",
        "## Example 1:\n",
        "**Input:** `\"python\"`  \n",
        "**Output:** `\"PYTHON\"`\n",
        "\n",
        "## Example 2:\n",
        "**Input:** `\"Hello World\"`  \n",
        "**Output:** `\"HELLO WORLD\"`\n"
      ]
    },
    {
      "cell_type": "code",
      "execution_count": 9,
      "id": "163d0c7c-d95c-48f5-9f57-a6415fe19099",
      "metadata": {
        "id": "163d0c7c-d95c-48f5-9f57-a6415fe19099",
        "colab": {
          "base_uri": "https://localhost:8080/",
          "height": 35
        },
        "outputId": "10ae336c-dc9a-4061-8738-25509c1d6831"
      },
      "outputs": [
        {
          "output_type": "execute_result",
          "data": {
            "text/plain": [
              "'PYTHON'"
            ],
            "application/vnd.google.colaboratory.intrinsic+json": {
              "type": "string"
            }
          },
          "metadata": {},
          "execution_count": 9
        }
      ],
      "source": [
        "def upper(str):\n",
        "  return str.upper()\n",
        "upper('python')"
      ]
    },
    {
      "cell_type": "code",
      "execution_count": null,
      "id": "aaf4bac8-2992-489f-90fe-a6321edc64c4",
      "metadata": {
        "id": "aaf4bac8-2992-489f-90fe-a6321edc64c4"
      },
      "outputs": [],
      "source": []
    },
    {
      "cell_type": "markdown",
      "id": "d9101758-0867-41e5-b4a0-a71db20536ae",
      "metadata": {
        "id": "d9101758-0867-41e5-b4a0-a71db20536ae"
      },
      "source": [
        "# 8. Find the Most Frequent Character in a String\n",
        "## Problem Statement:\n",
        "Write a function to find the most frequently occurring character in a string.\n",
        "\n",
        "## Example 1:\n",
        "**Input:** `\"banana\"`  \n",
        "**Output:** `\"a\"`\n",
        "\n",
        "## Example 2:\n",
        "**Input:** `\"mississippi\"`  \n",
        "**Output:** `\"i\"`\n"
      ]
    },
    {
      "cell_type": "code",
      "execution_count": 13,
      "id": "9cb62d0a-3b5d-4271-8091-ad6e666acd2a",
      "metadata": {
        "id": "9cb62d0a-3b5d-4271-8091-ad6e666acd2a",
        "colab": {
          "base_uri": "https://localhost:8080/",
          "height": 35
        },
        "outputId": "cdd248a5-487d-44f1-e549-2555993c7a00"
      },
      "outputs": [
        {
          "output_type": "execute_result",
          "data": {
            "text/plain": [
              "'a'"
            ],
            "application/vnd.google.colaboratory.intrinsic+json": {
              "type": "string"
            }
          },
          "metadata": {},
          "execution_count": 13
        }
      ],
      "source": [
        "\n",
        "from collections import Counter\n",
        "\n",
        "def most_frequent_char(s):\n",
        "\n",
        "  if not s:\n",
        "    return None\n",
        "  char_counts = Counter(s)\n",
        "  most_common = char_counts.most_common(1)\n",
        "  return most_common[0][0]\n",
        "\n",
        "most_frequent_char(\"banana\")"
      ]
    },
    {
      "cell_type": "code",
      "execution_count": null,
      "id": "8934605e-f2d2-49ab-a77e-2fb406d85d79",
      "metadata": {
        "id": "8934605e-f2d2-49ab-a77e-2fb406d85d79"
      },
      "outputs": [],
      "source": []
    },
    {
      "cell_type": "markdown",
      "id": "b23de210-f0d4-4e2d-ab9a-aa853e471a15",
      "metadata": {
        "id": "b23de210-f0d4-4e2d-ab9a-aa853e471a15"
      },
      "source": [
        "# 9. Check if a String Contains Only Digits\n",
        "## Problem Statement:\n",
        "Write a function to check if a string contains only digits.\n",
        "\n",
        "## Example 1:\n",
        "**Input:** `\"12345\"`  \n",
        "**Output:** `True`\n",
        "\n",
        "## Example 2:\n",
        "**Input:** `\"12a45\"`  \n",
        "**Output:** `False`\n"
      ]
    },
    {
      "cell_type": "code",
      "execution_count": 14,
      "id": "419f05a0-3648-4ef3-badf-0cdd35869ec1",
      "metadata": {
        "id": "419f05a0-3648-4ef3-badf-0cdd35869ec1",
        "colab": {
          "base_uri": "https://localhost:8080/"
        },
        "outputId": "9b6cc603-29ec-407a-ebd7-4311afbc62a6"
      },
      "outputs": [
        {
          "output_type": "execute_result",
          "data": {
            "text/plain": [
              "False"
            ]
          },
          "metadata": {},
          "execution_count": 14
        }
      ],
      "source": [
        "\n",
        "def contains_only_digits(s):\n",
        "  return s.isdigit()\n",
        "contains_only_digits('12a45')"
      ]
    },
    {
      "cell_type": "code",
      "execution_count": null,
      "id": "8c3e49f1-defd-4b0d-8321-6517e6917795",
      "metadata": {
        "id": "8c3e49f1-defd-4b0d-8321-6517e6917795"
      },
      "outputs": [],
      "source": []
    },
    {
      "cell_type": "markdown",
      "id": "f9d2b183-d1aa-446d-a449-90d3375f7c53",
      "metadata": {
        "id": "f9d2b183-d1aa-446d-a449-90d3375f7c53"
      },
      "source": [
        "# 10. Find the Length of the Longest Word in a Sentence\n",
        "## Problem Statement:\n",
        "Write a function to find the length of the longest word in a sentence.\n",
        "\n",
        "## Example 1:\n",
        "**Input:** `\"The quick brown fox\"`  \n",
        "**Output:** `5`\n",
        "\n",
        "## Example 2:\n",
        "**Input:** `\"A journey of a thousand miles\"`  \n",
        "**Output:** `8`\n"
      ]
    },
    {
      "cell_type": "code",
      "execution_count": 15,
      "id": "0ed5e962-f5dd-4e91-85e2-0cd0e9fcdf84",
      "metadata": {
        "id": "0ed5e962-f5dd-4e91-85e2-0cd0e9fcdf84",
        "colab": {
          "base_uri": "https://localhost:8080/"
        },
        "outputId": "ba836a49-b985-4291-e581-4bf987463cd5"
      },
      "outputs": [
        {
          "output_type": "stream",
          "name": "stdout",
          "text": [
            "5\n"
          ]
        }
      ],
      "source": [
        "\n",
        "def find_longest_word_length(sentence):\n",
        "  words = sentence.split()\n",
        "  if not words:\n",
        "    return 0\n",
        "  longest_length = 0\n",
        "  for word in words:\n",
        "    longest_length = max(longest_length, len(word))\n",
        "  return longest_length\n",
        "\n",
        "print(find_longest_word_length(\"The quick brown fox\"))"
      ]
    },
    {
      "cell_type": "code",
      "execution_count": null,
      "id": "6a62f30a-81ee-405a-89c5-560f88ed25fe",
      "metadata": {
        "id": "6a62f30a-81ee-405a-89c5-560f88ed25fe"
      },
      "outputs": [],
      "source": []
    },
    {
      "cell_type": "markdown",
      "id": "3499119b-b83a-4e89-b68e-db215e943998",
      "metadata": {
        "id": "3499119b-b83a-4e89-b68e-db215e943998"
      },
      "source": [
        "# 11. Replace Spaces with '%20' (URL Encoding)\n",
        "## Problem Statement:\n",
        "Write a function to replace all spaces in a string with `%20`.\n",
        "\n",
        "## Example 1:\n",
        "**Input:** `\"Mr John Smith\"`  \n",
        "**Output:** `\"Mr%20John%20Smith\"`\n",
        "\n",
        "## Example 2:\n",
        "**Input:** `\"Hello World\"`  \n",
        "**Output:** `\"Hello%20World\"`\n"
      ]
    },
    {
      "cell_type": "code",
      "execution_count": 17,
      "id": "c1b7b110-7076-4e47-9690-b99de5ffd695",
      "metadata": {
        "id": "c1b7b110-7076-4e47-9690-b99de5ffd695",
        "colab": {
          "base_uri": "https://localhost:8080/"
        },
        "outputId": "d81a79f2-07aa-4ed5-f88e-b5d7656fa6a7"
      },
      "outputs": [
        {
          "output_type": "stream",
          "name": "stdout",
          "text": [
            "Mr%20John%20Smith\n",
            "Hello%20World\n"
          ]
        }
      ],
      "source": [
        "\n",
        "def rpl(s):\n",
        "  return s.replace(' ', '%20')\n",
        "\n",
        "print(rpl(\"Mr John Smith\"))\n",
        "print(rpl(\"Hello World\"))"
      ]
    },
    {
      "cell_type": "code",
      "execution_count": null,
      "id": "b94611fe-6fb7-4edf-9954-176d45889f5b",
      "metadata": {
        "id": "b94611fe-6fb7-4edf-9954-176d45889f5b"
      },
      "outputs": [],
      "source": []
    },
    {
      "cell_type": "markdown",
      "id": "59196fe4-763d-4d23-a941-6f17ce59481a",
      "metadata": {
        "id": "59196fe4-763d-4d23-a941-6f17ce59481a"
      },
      "source": [
        "# 12. Find All Substrings of a String\n",
        "## Problem Statement:\n",
        "Write a function to return all substrings of a given string.\n",
        "\n",
        "## Example 1:\n",
        "**Input:** `\"abc\"`  \n",
        "**Output:** `[\"a\", \"b\", \"c\", \"ab\", \"bc\", \"abc\"]`\n",
        "\n",
        "## Example 2:\n",
        "**Input:** `\"xyz\"`  \n",
        "**Output:** `[\"x\", \"y\", \"z\", \"xy\", \"yz\", \"xyz\"]`\n"
      ]
    },
    {
      "cell_type": "code",
      "execution_count": 18,
      "id": "743c4c58-3950-427f-8c0b-bd4e3eda5fa8",
      "metadata": {
        "id": "743c4c58-3950-427f-8c0b-bd4e3eda5fa8",
        "colab": {
          "base_uri": "https://localhost:8080/"
        },
        "outputId": "35a8cbe4-7e58-4c49-bea6-886362574eba"
      },
      "outputs": [
        {
          "output_type": "stream",
          "name": "stdout",
          "text": [
            "['a', 'ab', 'abc', 'b', 'bc', 'c']\n",
            "['x', 'xy', 'xyz', 'y', 'yz', 'z']\n"
          ]
        }
      ],
      "source": [
        "\n",
        "\n",
        "def find_all_substrings(s):\n",
        "  substrings = []\n",
        "  n = len(s)\n",
        "  for i in range(n):\n",
        "    for j in range(i, n):\n",
        "      substrings.append(s[i:j+1])\n",
        "  return substrings\n",
        "\n",
        "print(find_all_substrings(\"abc\"))\n",
        "print(find_all_substrings(\"xyz\"))\n"
      ]
    },
    {
      "cell_type": "code",
      "execution_count": null,
      "id": "993ed2a1-22ea-41ab-aeec-da5d494b8561",
      "metadata": {
        "id": "993ed2a1-22ea-41ab-aeec-da5d494b8561"
      },
      "outputs": [],
      "source": []
    },
    {
      "cell_type": "markdown",
      "id": "08cca7f3-0462-4e37-883e-4850ac7d9b4a",
      "metadata": {
        "id": "08cca7f3-0462-4e37-883e-4850ac7d9b4a"
      },
      "source": [
        "# 13. Reverse Each Word in a Sentence\n",
        "## Problem Statement:\n",
        "Write a function to reverse each word in a sentence while maintaining word order.\n",
        "\n",
        "## Example 1:\n",
        "**Input:** `\"hello world\"`  \n",
        "**Output:** `\"olleh dlrow\"`\n",
        "\n",
        "## Example 2:\n",
        "**Input:** `\"Python is fun\"`  \n",
        "**Output:** `\"nohtyP si nuf\"`\n"
      ]
    },
    {
      "cell_type": "code",
      "source": [
        "# prompt: Write a function to reverse each word in a sentence while maintaining word order\n",
        "\n",
        "def reverse_words_in_sentence(sentence):\n",
        "  words = sentence.split()\n",
        "  reversed_words = [word[::-1] for word in words]\n",
        "  return \" \".join(reversed_words)\n",
        "\n",
        "print(reverse_words_in_sentence(\"hello world\"))\n",
        "print(reverse_words_in_sentence(\"Python is fun\"))"
      ],
      "metadata": {
        "colab": {
          "base_uri": "https://localhost:8080/"
        },
        "id": "V2I0THNpawez",
        "outputId": "1adb14e6-ae50-42c9-f060-9601da948f3e"
      },
      "id": "V2I0THNpawez",
      "execution_count": 20,
      "outputs": [
        {
          "output_type": "stream",
          "name": "stdout",
          "text": [
            "olleh dlrow\n",
            "nohtyP si nuf\n"
          ]
        }
      ]
    },
    {
      "cell_type": "markdown",
      "id": "c52682bf-2f05-4515-acce-192b91883858",
      "metadata": {
        "id": "c52682bf-2f05-4515-acce-192b91883858"
      },
      "source": [
        "# 14. Find the Longest Common Prefix of a List of Strings\n",
        "## Problem Statement:\n",
        "Write a function to find the longest common prefix among a list of strings.\n",
        "\n",
        "## Example 1:\n",
        "**Input:** `[\"flower\", \"flow\", \"flight\"]`  \n",
        "**Output:** `\"fl\"`\n",
        "\n",
        "## Example 2:\n",
        "**Input:** `[\"dog\", \"racecar\", \"car\"]`  \n",
        "**Output:** `\"\"`\n"
      ]
    },
    {
      "cell_type": "code",
      "execution_count": 21,
      "id": "c326e4fd-7ad6-4d3e-9bd9-f5b28114eeff",
      "metadata": {
        "id": "c326e4fd-7ad6-4d3e-9bd9-f5b28114eeff",
        "colab": {
          "base_uri": "https://localhost:8080/"
        },
        "outputId": "377564bb-0d4d-451f-b17c-20e3b7ceb526"
      },
      "outputs": [
        {
          "output_type": "stream",
          "name": "stdout",
          "text": [
            "fl\n",
            "\n"
          ]
        }
      ],
      "source": [
        "\n",
        "\n",
        "def longest_common_prefix(strs):\n",
        "  if not strs:\n",
        "    return \"\"\n",
        "\n",
        "  strs.sort()\n",
        "\n",
        "  first_str = strs[0]\n",
        "  last_str = strs[-1]\n",
        "  prefix = \"\"\n",
        "\n",
        "  min_len = min(len(first_str), len(last_str))\n",
        "\n",
        "  for i in range(min_len):\n",
        "    if first_str[i] == last_str[i]:\n",
        "      prefix += first_str[i]\n",
        "    else:\n",
        "      break\n",
        "\n",
        "  return prefix\n",
        "\n",
        "print(longest_common_prefix([\"flower\", \"flow\", \"flight\"]))\n",
        "print(longest_common_prefix([\"dog\", \"racecar\", \"car\"]))"
      ]
    },
    {
      "cell_type": "code",
      "execution_count": null,
      "id": "353a8f44-2487-4cc5-8c4a-0e24e8148a22",
      "metadata": {
        "id": "353a8f44-2487-4cc5-8c4a-0e24e8148a22"
      },
      "outputs": [],
      "source": []
    },
    {
      "cell_type": "markdown",
      "id": "b90c467f-001e-4a93-bfff-08bba1a3f703",
      "metadata": {
        "id": "b90c467f-001e-4a93-bfff-08bba1a3f703"
      },
      "source": [
        "# 15. Check if a String is a Rotation of Another String\n",
        "## Problem Statement:\n",
        "Write a function to check if one string is a rotation of another.\n",
        "\n",
        "## Example 1:\n",
        "**Input:** `\"waterbottle\", \"erbottlewat\"`  \n",
        "**Output:** `True`\n",
        "\n",
        "## Example 2:\n",
        "**Input:** `\"hello\", \"lohel\"`  \n",
        "**Output:** `True`\n"
      ]
    },
    {
      "cell_type": "code",
      "execution_count": 22,
      "id": "dcf4c6e8-8192-4cff-8d48-9226448d0ff2",
      "metadata": {
        "id": "dcf4c6e8-8192-4cff-8d48-9226448d0ff2",
        "colab": {
          "base_uri": "https://localhost:8080/"
        },
        "outputId": "b57d1cd8-306c-4b38-ac79-4fe881436a05"
      },
      "outputs": [
        {
          "output_type": "stream",
          "name": "stdout",
          "text": [
            "True\n",
            "True\n"
          ]
        }
      ],
      "source": [
        "\n",
        "\n",
        "def check_rotation(str1, str2):\n",
        "  if len(str1) != len(str2):\n",
        "    return False\n",
        "\n",
        "  temp = str1 + str1\n",
        "\n",
        "  if str2 in temp:\n",
        "    return True\n",
        "  else:\n",
        "    return False\n",
        "\n",
        "print(check_rotation(\"waterbottle\", \"erbottlewat\"))\n",
        "print(check_rotation(\"hello\", \"lohel\"))"
      ]
    },
    {
      "cell_type": "code",
      "execution_count": null,
      "id": "f8e70c6b-a474-4c93-82fc-e39811a5f637",
      "metadata": {
        "id": "f8e70c6b-a474-4c93-82fc-e39811a5f637"
      },
      "outputs": [],
      "source": []
    },
    {
      "cell_type": "markdown",
      "id": "06d7a3d1-e01d-483d-95a9-30330f21440c",
      "metadata": {
        "id": "06d7a3d1-e01d-483d-95a9-30330f21440c"
      },
      "source": [
        "# 16. Find the Second Most Frequent Character in a String\n",
        "## Problem Statement:\n",
        "Write a function to find the second most frequent character in a string.\n",
        "\n",
        "## Example 1:\n",
        "**Input:** `\"banana\"`  \n",
        "**Output:** `\"n\"`\n",
        "\n",
        "## Example 2:\n",
        "**Input:** `\"mississippi\"`  \n",
        "**Output:** `\"s\"`\n"
      ]
    },
    {
      "cell_type": "code",
      "execution_count": 25,
      "id": "65a91520-9d70-4dc4-990a-931223a98b52",
      "metadata": {
        "id": "65a91520-9d70-4dc4-990a-931223a98b52",
        "colab": {
          "base_uri": "https://localhost:8080/"
        },
        "outputId": "e58fc986-fe61-4836-cce2-4e7997a864d7"
      },
      "outputs": [
        {
          "output_type": "stream",
          "name": "stdout",
          "text": [
            "n\n",
            "s\n"
          ]
        }
      ],
      "source": [
        "\n",
        "def second_most_frequent_char(s):\n",
        "  if not s:\n",
        "    return None\n",
        "  char_counts = Counter(s)\n",
        "  if len(char_counts) < 2:\n",
        "    return None\n",
        "  most_common = char_counts.most_common(2)\n",
        "  return most_common[1][0]\n",
        "\n",
        "print(second_most_frequent_char(\"banana\"))\n",
        "print(second_most_frequent_char(\"mississippi\"))"
      ]
    },
    {
      "cell_type": "code",
      "execution_count": null,
      "id": "2fba47a2-7db0-4fc0-9895-e157412acb93",
      "metadata": {
        "id": "2fba47a2-7db0-4fc0-9895-e157412acb93"
      },
      "outputs": [],
      "source": []
    },
    {
      "cell_type": "markdown",
      "id": "d262dac7-f41e-400d-bfd0-ea5057f5c922",
      "metadata": {
        "id": "d262dac7-f41e-400d-bfd0-ea5057f5c922"
      },
      "source": [
        "# 17. Check if a String is Made of Unique Characters\n",
        "## Problem Statement:\n",
        "Write a function to check if a string contains only unique characters.\n",
        "\n",
        "## Example 1:\n",
        "**Input:** `\"abcdef\"`  \n",
        "**Output:** `True`\n",
        "\n",
        "## Example 2:\n",
        "**Input:** `\"aabbcc\"`  \n",
        "**Output:** `False`\n"
      ]
    },
    {
      "cell_type": "code",
      "execution_count": 26,
      "id": "253be31b-7673-4b81-95e9-cb1cd09c48fb",
      "metadata": {
        "id": "253be31b-7673-4b81-95e9-cb1cd09c48fb",
        "colab": {
          "base_uri": "https://localhost:8080/"
        },
        "outputId": "caad27e8-f9b4-4d7c-fe2e-0ce29ff50756"
      },
      "outputs": [
        {
          "output_type": "stream",
          "name": "stdout",
          "text": [
            "True\n",
            "False\n"
          ]
        }
      ],
      "source": [
        "\n",
        "def has_unique_chars(s):\n",
        "  return len(set(s)) == len(s)\n",
        "\n",
        "print(has_unique_chars(\"abcdef\"))\n",
        "print(has_unique_chars(\"aabbcc\"))"
      ]
    },
    {
      "cell_type": "code",
      "execution_count": null,
      "id": "80463995-b332-445c-9ed8-201e2e2caf7f",
      "metadata": {
        "id": "80463995-b332-445c-9ed8-201e2e2caf7f"
      },
      "outputs": [],
      "source": []
    },
    {
      "cell_type": "markdown",
      "id": "739f0939-b81a-45d4-8cd2-d0659268711c",
      "metadata": {
        "id": "739f0939-b81a-45d4-8cd2-d0659268711c"
      },
      "source": [
        "# 18. Find the Longest Palindromic Substring\n",
        "## Problem Statement:\n",
        "Write a function to find the longest palindromic substring.\n",
        "\n",
        "## Example 1:\n",
        "**Input:** `\"babad\"`  \n",
        "**Output:** `\"bab\"`\n",
        "\n",
        "## Example 2:\n",
        "**Input:** `\"cbbd\"`  \n",
        "**Output:** `\"bb\"`\n"
      ]
    },
    {
      "cell_type": "code",
      "execution_count": 37,
      "id": "02c1d0bc-c2b1-433e-a610-4d621d65e934",
      "metadata": {
        "id": "02c1d0bc-c2b1-433e-a610-4d621d65e934",
        "colab": {
          "base_uri": "https://localhost:8080/"
        },
        "outputId": "518fc051-a8b1-4190-c250-37885d4a37c1"
      },
      "outputs": [
        {
          "output_type": "stream",
          "name": "stdout",
          "text": [
            "bab\n",
            "bb\n"
          ]
        }
      ],
      "source": [
        "\n",
        "def longest_palindrome(s):\n",
        "  n = len(s)\n",
        "  if n < 2:\n",
        "    return s\n",
        "\n",
        "  start = 0\n",
        "  max_len = 1\n",
        "\n",
        "  def expand_around_center(left, right):\n",
        "    while left >= 0 and right < n and s[left] == s[right]:\n",
        "      left -= 1\n",
        "      right += 1\n",
        "    return s[left + 1:right]\n",
        "\n",
        "  for i in range(n):\n",
        "    # Odd length palindromes\n",
        "    palindrome1 = expand_around_center(i, i)\n",
        "    if len(palindrome1) > max_len:\n",
        "      max_len = len(palindrome1)\n",
        "      start = s.index(palindrome1)\n",
        "\n",
        "    # Even length palindromes\n",
        "    palindrome2 = expand_around_center(i, i + 1)\n",
        "    if len(palindrome2) > max_len:\n",
        "      max_len = len(palindrome2)\n",
        "      start = s.index(palindrome2)\n",
        "\n",
        "  return s[start:start + max_len]\n",
        "\n",
        "print(longest_palindrome(\"babad\"))\n",
        "print(longest_palindrome(\"cbbd\"))"
      ]
    },
    {
      "cell_type": "markdown",
      "id": "9e48cf7b-b799-4574-984c-51fc15661b16",
      "metadata": {
        "id": "9e48cf7b-b799-4574-984c-51fc15661b16"
      },
      "source": [
        "# 19. Remove Duplicate Characters from a String\n",
        "## Problem Statement:\n",
        "Write a function to remove duplicate characters from a string.\n",
        "\n",
        "## Example 1:\n",
        "**Input:** `\"hello\"`  \n",
        "**Output:** `\"helo\"`\n",
        "\n",
        "## Example 2:\n",
        "**Input:** `\"mississippi\"`  \n",
        "**Output:** `\"misp\"`\n"
      ]
    },
    {
      "cell_type": "code",
      "execution_count": 27,
      "id": "ec288297-0e2a-4465-898b-39c002bed301",
      "metadata": {
        "id": "ec288297-0e2a-4465-898b-39c002bed301",
        "colab": {
          "base_uri": "https://localhost:8080/"
        },
        "outputId": "abbba5e3-8eb3-4ecc-9a1a-d448e70ee46d"
      },
      "outputs": [
        {
          "output_type": "stream",
          "name": "stdout",
          "text": [
            "helo\n",
            "misp\n"
          ]
        }
      ],
      "source": [
        "\n",
        "def remove_duplicates(s):\n",
        "  seen = set()\n",
        "  result = []\n",
        "  for char in s:\n",
        "    if char not in seen:\n",
        "      seen.add(char)\n",
        "      result.append(char)\n",
        "  return \"\".join(result)\n",
        "\n",
        "print(remove_duplicates(\"hello\"))\n",
        "print(remove_duplicates(\"mississippi\"))"
      ]
    },
    {
      "cell_type": "markdown",
      "id": "a9abec9d-c0c3-4425-a1c6-e42342e3757a",
      "metadata": {
        "id": "a9abec9d-c0c3-4425-a1c6-e42342e3757a"
      },
      "source": [
        "# 20. Sort a String Alphabetically\n",
        "## Problem Statement:\n",
        "Write a function to sort the characters of a string alphabetically.\n",
        "\n",
        "## Example 1:\n",
        "**Input:** `\"hello\"`  \n",
        "**Output:** `\"ehllo\"`\n",
        "\n",
        "## Example 2:\n",
        "**Input:** `\"python\"`  \n",
        "**Output:** `\"hnopty\"`\n"
      ]
    },
    {
      "cell_type": "code",
      "execution_count": 28,
      "id": "9b881c5a-7e0c-4785-a2d6-f700725fad3d",
      "metadata": {
        "id": "9b881c5a-7e0c-4785-a2d6-f700725fad3d",
        "colab": {
          "base_uri": "https://localhost:8080/"
        },
        "outputId": "d134a219-754e-4f90-a9b8-b9adc824bc72"
      },
      "outputs": [
        {
          "output_type": "stream",
          "name": "stdout",
          "text": [
            "ehllo\n",
            "hnopty\n"
          ]
        }
      ],
      "source": [
        "\n",
        "def sort_string_alphabetically(s):\n",
        "  return \"\".join(sorted(s))\n",
        "\n",
        "print(sort_string_alphabetically(\"hello\"))\n",
        "print(sort_string_alphabetically(\"python\"))"
      ]
    },
    {
      "cell_type": "code",
      "execution_count": null,
      "id": "4f23c52f-0cb4-4dc7-a06d-be464656fda3",
      "metadata": {
        "id": "4f23c52f-0cb4-4dc7-a06d-be464656fda3"
      },
      "outputs": [],
      "source": []
    },
    {
      "cell_type": "markdown",
      "id": "f267b2f8-c7f6-4295-a7b0-c89af5cf5807",
      "metadata": {
        "id": "f267b2f8-c7f6-4295-a7b0-c89af5cf5807"
      },
      "source": [
        "# 21. Find the Smallest Window in a String Containing All Characters of Another String\n",
        "## Problem Statement:\n",
        "Write a function to find the smallest window in a string that contains all characters of another string.\n",
        "\n",
        "## Example 1:\n",
        "**Input:** `\"ADOBECODEBANC\", \"ABC\"`  \n",
        "**Output:** `\"BANC\"`\n",
        "\n",
        "## Example 2:\n",
        "**Input:** `\"aabbcc\", \"abc\"`  \n",
        "**Output:** `\"abc\"`\n"
      ]
    },
    {
      "cell_type": "code",
      "execution_count": null,
      "id": "08fc97e2-2eee-4b3f-850c-59e547121d25",
      "metadata": {
        "id": "08fc97e2-2eee-4b3f-850c-59e547121d25"
      },
      "outputs": [],
      "source": []
    },
    {
      "cell_type": "markdown",
      "id": "823be7b2-27f6-40df-82b2-f1f2b69bc1cb",
      "metadata": {
        "id": "823be7b2-27f6-40df-82b2-f1f2b69bc1cb"
      },
      "source": [
        "# 22. Implement Run-Length Encoding\n",
        "## Problem Statement:\n",
        "Write a function to perform run-length encoding on a string.\n",
        "\n",
        "## Example 1:\n",
        "**Input:** `\"aaabbc\"`  \n",
        "**Output:** `\"3a2b1c\"`\n",
        "\n",
        "## Example 2:\n",
        "**Input:** `\"wwwwaaadexxxxxx\"`  \n",
        "**Output:** `\"4w3a1d1e6x\"`\n"
      ]
    },
    {
      "cell_type": "code",
      "execution_count": 29,
      "id": "3470d46e-444c-43be-b517-730824de2300",
      "metadata": {
        "id": "3470d46e-444c-43be-b517-730824de2300",
        "colab": {
          "base_uri": "https://localhost:8080/"
        },
        "outputId": "0962e4df-cfe3-4cf4-a2ef-9a9e04c8d29f"
      },
      "outputs": [
        {
          "output_type": "stream",
          "name": "stdout",
          "text": [
            "3a2b1c\n",
            "4w3a1d1e6x\n"
          ]
        }
      ],
      "source": [
        "\n",
        "def run_length_encoding(s):\n",
        "  if not s:\n",
        "    return \"\"\n",
        "  encoded_string = \"\"\n",
        "  count = 1\n",
        "  for i in range(1, len(s)):\n",
        "    if s[i] == s[i-1]:\n",
        "      count += 1\n",
        "    else:\n",
        "      encoded_string += str(count) + s[i-1]\n",
        "      count = 1\n",
        "  encoded_string += str(count) + s[-1]\n",
        "  return encoded_string\n",
        "\n",
        "print(run_length_encoding(\"aaabbc\"))\n",
        "print(run_length_encoding(\"wwwwaaadexxxxxx\"))"
      ]
    },
    {
      "cell_type": "markdown",
      "id": "fbe98b17-13c7-4f56-93db-d8056113af31",
      "metadata": {
        "id": "fbe98b17-13c7-4f56-93db-d8056113af31"
      },
      "source": [
        "# 23. Find All Permutations of a String\n",
        "## Problem Statement:\n",
        "Write a function to generate all permutations of a given string.\n",
        "\n",
        "## Example 1:\n",
        "**Input:** `\"abc\"`  \n",
        "**Output:** `[\"abc\", \"acb\", \"bac\", \"bca\", \"cab\", \"cba\"]`\n",
        "\n",
        "## Example 2:\n",
        "**Input:** `\"ab\"`  \n",
        "**Output:** `[\"ab\", \"ba\"]`\n"
      ]
    },
    {
      "cell_type": "code",
      "execution_count": 30,
      "id": "101a8feb-61e0-4a97-a122-f5de229e6817",
      "metadata": {
        "id": "101a8feb-61e0-4a97-a122-f5de229e6817",
        "colab": {
          "base_uri": "https://localhost:8080/"
        },
        "outputId": "249038f9-fd53-4a98-ef97-827958f6520f"
      },
      "outputs": [
        {
          "output_type": "stream",
          "name": "stdout",
          "text": [
            "['abc', 'acb', 'bac', 'bca', 'cab', 'cba']\n",
            "['ab', 'ba']\n"
          ]
        }
      ],
      "source": [
        "\n",
        "import itertools\n",
        "\n",
        "def find_all_permutations(s):\n",
        "  return [\"\".join(p) for p in itertools.permutations(s)]\n",
        "\n",
        "print(find_all_permutations(\"abc\"))\n",
        "print(find_all_permutations(\"ab\"))"
      ]
    },
    {
      "cell_type": "code",
      "execution_count": null,
      "id": "ff510bea-3648-446b-93c8-aa5246b38c50",
      "metadata": {
        "id": "ff510bea-3648-446b-93c8-aa5246b38c50"
      },
      "outputs": [],
      "source": []
    },
    {
      "cell_type": "markdown",
      "id": "1064221e-a51f-46b1-afea-c37505d3b68b",
      "metadata": {
        "id": "1064221e-a51f-46b1-afea-c37505d3b68b"
      },
      "source": [
        "# 24. Count the Number of Distinct Subsequences of a String\n",
        "## Problem Statement:\n",
        "Write a function to count the number of distinct subsequences of a string.\n",
        "\n",
        "## Example 1:\n",
        "**Input:** `\"abc\"`  \n",
        "**Output:** `7`\n",
        "\n",
        "## Example 2:\n",
        "**Input:** `\"aaa\"`  \n",
        "**Output:** `3`\n"
      ]
    },
    {
      "cell_type": "code",
      "execution_count": 35,
      "id": "fb9c8ffe-7045-446c-9033-c88601f25969",
      "metadata": {
        "id": "fb9c8ffe-7045-446c-9033-c88601f25969",
        "colab": {
          "base_uri": "https://localhost:8080/"
        },
        "outputId": "ceb80315-06c2-45e7-9f1d-27065fba8112"
      },
      "outputs": [
        {
          "output_type": "execute_result",
          "data": {
            "text/plain": [
              "3"
            ]
          },
          "metadata": {},
          "execution_count": 35
        }
      ],
      "source": [
        "def count_distinct_subsequences(s):\n",
        "    n = len(s)\n",
        "    dp = [0] * (n + 1)\n",
        "    dp[0] = 1\n",
        "    last_occurrence = {}\n",
        "\n",
        "    for i in range(1, n + 1):\n",
        "        dp[i] = 2 * dp[i - 1]\n",
        "        if s[i - 1] in last_occurrence:\n",
        "            dp[i] -= dp[last_occurrence[s[i - 1]]]\n",
        "        last_occurrence[s[i - 1]] = i - 1\n",
        "    return dp[n]-1\n",
        "count_distinct_subsequences('aaa')"
      ]
    },
    {
      "cell_type": "code",
      "execution_count": null,
      "id": "9740cb31-5aa2-431e-9c3d-9822cf1521ac",
      "metadata": {
        "id": "9740cb31-5aa2-431e-9c3d-9822cf1521ac"
      },
      "outputs": [],
      "source": []
    },
    {
      "cell_type": "markdown",
      "id": "2fd59b75-b80f-466c-9517-34c927e66134",
      "metadata": {
        "id": "2fd59b75-b80f-466c-9517-34c927e66134"
      },
      "source": [
        "# 25. Find the Shortest Superstring That Contains All Given Strings as Subsequences\n",
        "## Problem Statement:\n",
        "Write a function to find the shortest superstring that contains all given strings as subsequences.\n",
        "\n",
        "## Example 1:\n",
        "**Input:** `[\"catg\", \"ctaagt\", \"gcta\", \"ttca\", \"atgcatc\"]`  \n",
        "**Output:** `\"gctaagttcatgcatc\"`\n",
        "\n",
        "## Example 2:\n",
        "**Input:** `[\"abc\", \"bca\", \"cab\"]`  \n",
        "**Output:** `\"abcab\"`\n"
      ]
    },
    {
      "cell_type": "code",
      "execution_count": null,
      "id": "c4340296-fcc3-45e5-a27c-8706d0c53502",
      "metadata": {
        "id": "c4340296-fcc3-45e5-a27c-8706d0c53502"
      },
      "outputs": [],
      "source": []
    },
    {
      "cell_type": "code",
      "execution_count": null,
      "id": "74cff6c2-11a5-42c4-9a16-f649cd8c7e10",
      "metadata": {
        "id": "74cff6c2-11a5-42c4-9a16-f649cd8c7e10"
      },
      "outputs": [],
      "source": []
    }
  ],
  "metadata": {
    "kernelspec": {
      "display_name": "Python 3 (ipykernel)",
      "language": "python",
      "name": "python3"
    },
    "language_info": {
      "codemirror_mode": {
        "name": "ipython",
        "version": 3
      },
      "file_extension": ".py",
      "mimetype": "text/x-python",
      "name": "python",
      "nbconvert_exporter": "python",
      "pygments_lexer": "ipython3",
      "version": "3.12.3"
    },
    "colab": {
      "provenance": []
    }
  },
  "nbformat": 4,
  "nbformat_minor": 5
}