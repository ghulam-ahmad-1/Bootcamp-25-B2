{
  "cells": [
    {
      "cell_type": "markdown",
      "id": "1f48d5c9",
      "metadata": {
        "id": "1f48d5c9"
      },
      "source": [
        "# 1. Create a Dictionary from Two Lists\n",
        "\n",
        "## Problem Statement:\n",
        "Write a function to create a dictionary from two lists of equal length, one for keys and one for values.\n",
        "\n",
        "## Example 1:\n",
        "**Input:** `keys = ['a', 'b'], values = [1, 2]`  \n",
        "**Output:** `{'a': 1, 'b': 2}`\n",
        "\n",
        "## Example 2:\n",
        "**Input:** `keys = ['x'], values = [10]`  \n",
        "**Output:** `{'x': 10}`\n"
      ]
    },
    {
      "cell_type": "code",
      "execution_count": 1,
      "id": "3ea65a39",
      "metadata": {
        "colab": {
          "base_uri": "https://localhost:8080/"
        },
        "id": "3ea65a39",
        "outputId": "1946490b-2f07-4b83-d053-54f93415b7df"
      },
      "outputs": [
        {
          "output_type": "execute_result",
          "data": {
            "text/plain": [
              "{'a': 1, 'b': 2}"
            ]
          },
          "metadata": {},
          "execution_count": 1
        }
      ],
      "source": [
        "\n",
        "def create_dictionary(keys, values):\n",
        "  return dict(zip(keys, values))\n",
        "\n",
        "create_dictionary(keys = ['a', 'b'], values = [1, 2])"
      ]
    },
    {
      "cell_type": "code",
      "execution_count": null,
      "id": "116d7f17",
      "metadata": {
        "id": "116d7f17"
      },
      "outputs": [],
      "source": []
    },
    {
      "cell_type": "markdown",
      "id": "9016196e",
      "metadata": {
        "id": "9016196e"
      },
      "source": [
        "# 2. Merge Two Dictionaries\n",
        "\n",
        "## Problem Statement:\n",
        "Write a function to merge two dictionaries into one.\n",
        "\n",
        "## Example 1:\n",
        "**Input:** `{'a': 1}, {'b': 2}`  \n",
        "**Output:** `{'a': 1, 'b': 2}`\n",
        "\n",
        "## Example 2:\n",
        "**Input:** `{'x': 10}, {'y': 20, 'z': 30}`  \n",
        "**Output:** `{'x': 10, 'y': 20, 'z': 30}`\n"
      ]
    },
    {
      "cell_type": "code",
      "execution_count": 2,
      "id": "5ee5d659",
      "metadata": {
        "colab": {
          "base_uri": "https://localhost:8080/"
        },
        "id": "5ee5d659",
        "outputId": "3e0b67d8-f51e-4b5a-97dd-f01f629ba73e"
      },
      "outputs": [
        {
          "output_type": "stream",
          "name": "stdout",
          "text": [
            "{'a': 1, 'b': 2}\n",
            "{'x': 10, 'y': 20, 'z': 30}\n"
          ]
        }
      ],
      "source": [
        "\n",
        "def merge_two_dictionaries(dict1, dict2):\n",
        "  merged_dict = dict1.copy()\n",
        "  merged_dict.update(dict2)\n",
        "  return merged_dict\n",
        "\n",
        "print(merge_two_dictionaries({'a': 1}, {'b': 2}))\n",
        "print(merge_two_dictionaries({'x': 10}, {'y': 20, 'z': 30}))"
      ]
    },
    {
      "cell_type": "code",
      "execution_count": null,
      "id": "d9d7b5b2",
      "metadata": {
        "id": "d9d7b5b2"
      },
      "outputs": [],
      "source": []
    },
    {
      "cell_type": "markdown",
      "id": "c6526c5c",
      "metadata": {
        "id": "c6526c5c"
      },
      "source": [
        "# 3. Check if Key Exists\n",
        "\n",
        "## Problem Statement:\n",
        "Write a function to check if a specific key exists in a dictionary.\n",
        "\n",
        "## Example 1:\n",
        "**Input:** `{'a': 1}, 'a'`  \n",
        "**Output:** `True`\n",
        "\n",
        "## Example 2:\n",
        "**Input:** `{'b': 2}, 'a'`  \n",
        "**Output:** `False`\n"
      ]
    },
    {
      "cell_type": "code",
      "execution_count": 4,
      "id": "a04fa909",
      "metadata": {
        "colab": {
          "base_uri": "https://localhost:8080/"
        },
        "id": "a04fa909",
        "outputId": "08d7b661-64d4-4b9b-95b0-fc5e49bf6a1b"
      },
      "outputs": [
        {
          "output_type": "stream",
          "name": "stdout",
          "text": [
            "True\n",
            "False\n"
          ]
        }
      ],
      "source": [
        "\n",
        "def check_key_exists(dictionary, key):\n",
        "  return key in dictionary\n",
        "\n",
        "print(check_key_exists({'a': 1}, 'a'))\n",
        "print(check_key_exists({'b': 2}, 'a'))"
      ]
    },
    {
      "cell_type": "code",
      "execution_count": null,
      "id": "b1ef4e37",
      "metadata": {
        "id": "b1ef4e37"
      },
      "outputs": [],
      "source": []
    },
    {
      "cell_type": "markdown",
      "id": "e72c9a22",
      "metadata": {
        "id": "e72c9a22"
      },
      "source": [
        "# 4. Count Frequency of Elements\n",
        "\n",
        "## Problem Statement:\n",
        "Write a function to count the frequency of each element in a list using a dictionary.\n",
        "\n",
        "## Example 1:\n",
        "**Input:** `[1,2,2,3]`  \n",
        "**Output:** `{1:1, 2:2, 3:1}`\n",
        "\n",
        "## Example 2:\n",
        "**Input:** `['a','b','a']`  \n",
        "**Output:** `{'a':2, 'b':1}`\n",
        "\n",
        "\n"
      ]
    },
    {
      "cell_type": "code",
      "execution_count": 5,
      "id": "31fd888e",
      "metadata": {
        "colab": {
          "base_uri": "https://localhost:8080/"
        },
        "id": "31fd888e",
        "outputId": "8975d2c3-8608-44a0-edc7-b037e3c594f7"
      },
      "outputs": [
        {
          "output_type": "stream",
          "name": "stdout",
          "text": [
            "{1: 1, 2: 2, 3: 1}\n",
            "{'a': 2, 'b': 1}\n"
          ]
        }
      ],
      "source": [
        "\n",
        "def count_element_frequency(input_list):\n",
        "  frequency = {}\n",
        "  for item in input_list:\n",
        "    frequency[item] = frequency.get(item, 0) + 1\n",
        "  return frequency\n",
        "\n",
        "print(count_element_frequency([1,2,2,3]))\n",
        "print(count_element_frequency(['a','b','a']))\n"
      ]
    },
    {
      "cell_type": "code",
      "execution_count": null,
      "id": "ad5808ba",
      "metadata": {
        "id": "ad5808ba"
      },
      "outputs": [],
      "source": []
    },
    {
      "cell_type": "markdown",
      "id": "c1b74aa9",
      "metadata": {
        "id": "c1b74aa9"
      },
      "source": [
        "# 5. Reverse Dictionary (Unique Values)\n",
        "\n",
        "## Problem Statement:\n",
        "Write a function to reverse keys and values in a dictionary. Assume values are unique.\n",
        "\n",
        "## Example 1:\n",
        "**Input:** `{'a':1, 'b':2}`  \n",
        "**Output:** `{1:'a', 2:'b'}`\n",
        "\n",
        "## Example 2:\n",
        "**Input:** `{'x':'y'}`  \n",
        "**Output:** `{'y':'x'}`\n"
      ]
    },
    {
      "cell_type": "code",
      "execution_count": 6,
      "id": "df0a31ed",
      "metadata": {
        "colab": {
          "base_uri": "https://localhost:8080/"
        },
        "id": "df0a31ed",
        "outputId": "55e1b924-d3d6-4bea-ba9e-9c154cf3014f"
      },
      "outputs": [
        {
          "output_type": "stream",
          "name": "stdout",
          "text": [
            "{1: 'a', 2: 'b'}\n",
            "{'y': 'x'}\n"
          ]
        }
      ],
      "source": [
        "\n",
        "def reverse_dictionary(input_dict):\n",
        "  return {value: key for key, value in input_dict.items()}\n",
        "\n",
        "print(reverse_dictionary({'a':1, 'b':2}))\n",
        "print(reverse_dictionary({'x':'y'}))"
      ]
    },
    {
      "cell_type": "code",
      "execution_count": null,
      "id": "ba3b7a1a",
      "metadata": {
        "id": "ba3b7a1a"
      },
      "outputs": [],
      "source": []
    },
    {
      "cell_type": "markdown",
      "id": "bfc01a37",
      "metadata": {
        "id": "bfc01a37"
      },
      "source": [
        "# 6. Dictionary with Maximum Value\n",
        "\n",
        "## Problem Statement:\n",
        "Write a function that returns the key with the highest value in a dictionary.\n",
        "\n",
        "## Example 1:\n",
        "**Input:** `{'a':3, 'b':10}`  \n",
        "**Output:** `'b'`\n",
        "\n",
        "## Example 2:\n",
        "**Input:** `{'x':1, 'y':-5}`  \n",
        "**Output:** `'x'`\n"
      ]
    },
    {
      "cell_type": "code",
      "execution_count": 7,
      "id": "3ebfad1c",
      "metadata": {
        "colab": {
          "base_uri": "https://localhost:8080/"
        },
        "id": "3ebfad1c",
        "outputId": "bbf9fa5b-f7b1-4c89-9506-a0e872ff77fd"
      },
      "outputs": [
        {
          "output_type": "stream",
          "name": "stdout",
          "text": [
            "b\n",
            "x\n"
          ]
        }
      ],
      "source": [
        "\n",
        "def get_key_with_max_value(input_dict):\n",
        "  return max(input_dict, key=input_dict.get)\n",
        "\n",
        "print(get_key_with_max_value({'a':3, 'b':10}))\n",
        "print(get_key_with_max_value({'x':1, 'y':-5}))"
      ]
    },
    {
      "cell_type": "code",
      "execution_count": null,
      "id": "2aead54f",
      "metadata": {
        "id": "2aead54f"
      },
      "outputs": [],
      "source": []
    },
    {
      "cell_type": "markdown",
      "id": "2df1f7ab",
      "metadata": {
        "id": "2df1f7ab"
      },
      "source": [
        "# 7. Remove Key from Dictionary\n",
        "\n",
        "## Problem Statement:\n",
        "Write a function that removes a specified key from a dictionary.\n",
        "\n",
        "## Example 1:\n",
        "**Input:** `{'a':1, 'b':2}, 'a'`  \n",
        "**Output:** `{'b':2}`\n",
        "\n",
        "## Example 2:\n",
        "**Input:** `{'x':3, 'y':4}, 'z'`  \n",
        "**Output:** `{'x':3, 'y':4}`\n"
      ]
    },
    {
      "cell_type": "code",
      "execution_count": 8,
      "id": "ebc9c007",
      "metadata": {
        "colab": {
          "base_uri": "https://localhost:8080/"
        },
        "id": "ebc9c007",
        "outputId": "f1a70d8c-c2d8-4ebd-ae66-f31ab479cd03"
      },
      "outputs": [
        {
          "output_type": "stream",
          "name": "stdout",
          "text": [
            "{'b': 2}\n",
            "{'x': 3, 'y': 4}\n"
          ]
        }
      ],
      "source": [
        "\n",
        "def remove_key_from_dictionary(input_dict, key_to_remove):\n",
        "\n",
        "  if key_to_remove in input_dict:\n",
        "    del input_dict[key_to_remove]\n",
        "  return input_dict\n",
        "\n",
        "print(remove_key_from_dictionary({'a':1, 'b':2}, 'a'))\n",
        "print(remove_key_from_dictionary({'x':3, 'y':4}, 'z'))"
      ]
    },
    {
      "cell_type": "code",
      "execution_count": null,
      "id": "4c042f24",
      "metadata": {
        "id": "4c042f24"
      },
      "outputs": [],
      "source": []
    },
    {
      "cell_type": "markdown",
      "id": "542b30d7",
      "metadata": {
        "id": "542b30d7"
      },
      "source": [
        "# 8. Dictionary from String\n",
        "\n",
        "## Problem Statement:\n",
        "Write a function to count the occurrences of each character in a given string using a dictionary.\n",
        "\n",
        "## Example 1:\n",
        "**Input:** `\"hello\"`  \n",
        "**Output:** `{'h':1,'e':1,'l':2,'o':1}`\n",
        "\n",
        "## Example 2:\n",
        "**Input:** `\"abc\"`  \n",
        "**Output:** `{'a':1,'b':1,'c':1}`\n",
        "\n",
        "\n"
      ]
    },
    {
      "cell_type": "code",
      "execution_count": 9,
      "id": "1a0604ff",
      "metadata": {
        "colab": {
          "base_uri": "https://localhost:8080/"
        },
        "id": "1a0604ff",
        "outputId": "197cff29-b154-421f-be60-d13300449d77"
      },
      "outputs": [
        {
          "output_type": "stream",
          "name": "stdout",
          "text": [
            "{'h': 1, 'e': 1, 'l': 2, 'o': 1}\n",
            "{'a': 1, 'b': 1, 'c': 1}\n"
          ]
        }
      ],
      "source": [
        "\n",
        "def count_char_occurrences(input_string):\n",
        "  char_counts = {}\n",
        "  for char in input_string:\n",
        "    char_counts[char] = char_counts.get(char, 0) + 1\n",
        "  return char_counts\n",
        "\n",
        "print(count_char_occurrences(\"hello\"))\n",
        "print(count_char_occurrences(\"abc\"))"
      ]
    },
    {
      "cell_type": "markdown",
      "id": "b8bb6168",
      "metadata": {
        "id": "b8bb6168"
      },
      "source": [
        "# 9. Update Value in Dictionary\n",
        "\n",
        "## Problem Statement:\n",
        "Write a function to update a value associated with a given key in a dictionary.\n",
        "\n",
        "## Example 1:\n",
        "**Input:** `{'a':1}, 'a', 100`  \n",
        "**Output:** `{'a':100}`\n",
        "\n",
        "## Example 2:\n",
        "**Input:** `{'x':10}, 'y', 20`  \n",
        "**Output:** `{'x':10, 'y':20}`\n"
      ]
    },
    {
      "cell_type": "code",
      "execution_count": 10,
      "id": "7a8a617e",
      "metadata": {
        "colab": {
          "base_uri": "https://localhost:8080/"
        },
        "id": "7a8a617e",
        "outputId": "3192789e-2854-4482-c8ce-9b417e5107f9"
      },
      "outputs": [
        {
          "output_type": "stream",
          "name": "stdout",
          "text": [
            "{'a': 100}\n",
            "{'x': 10, 'y': 20}\n"
          ]
        }
      ],
      "source": [
        "\n",
        "def update_dictionary_value(input_dict, key, new_value):\n",
        "  input_dict[key] = new_value\n",
        "  return input_dict\n",
        "\n",
        "print(update_dictionary_value({'a':1}, 'a', 100))\n",
        "print(update_dictionary_value({'x':10}, 'y', 20))"
      ]
    },
    {
      "cell_type": "code",
      "execution_count": null,
      "id": "1345099a",
      "metadata": {
        "id": "1345099a"
      },
      "outputs": [],
      "source": []
    },
    {
      "cell_type": "markdown",
      "id": "8b580e88",
      "metadata": {
        "id": "8b580e88"
      },
      "source": [
        "# 10. Sort Dictionary by Values\n",
        "\n",
        "## Problem Statement:\n",
        "Write a function to sort a dictionary by values in ascending order.\n",
        "\n",
        "## Example 1:\n",
        "**Input:** `{'a':3, 'b':1}`  \n",
        "**Output:** `{'b':1, 'a':3}`\n",
        "\n",
        "## Example 2:\n",
        "**Input:** `{'x':4,'y':2}`  \n",
        "**Output:** `{'y':2, 'x':4}`\n"
      ]
    },
    {
      "cell_type": "code",
      "execution_count": 11,
      "id": "4cfc1e2c",
      "metadata": {
        "colab": {
          "base_uri": "https://localhost:8080/"
        },
        "id": "4cfc1e2c",
        "outputId": "e6914c54-5f07-469a-89e0-bd6d1cb5725a"
      },
      "outputs": [
        {
          "output_type": "stream",
          "name": "stdout",
          "text": [
            "{'b': 1, 'a': 3}\n",
            "{'y': 2, 'x': 4}\n"
          ]
        }
      ],
      "source": [
        "\n",
        "def sort_dictionary_by_values(input_dict):\n",
        "  sorted_items = sorted(input_dict.items(), key=lambda item: item[1])\n",
        "  return dict(sorted_items)\n",
        "\n",
        "print(sort_dictionary_by_values({'a':3, 'b':1}))\n",
        "print(sort_dictionary_by_values({'x':4,'y':2}))"
      ]
    },
    {
      "cell_type": "code",
      "execution_count": null,
      "id": "deac7ba4",
      "metadata": {
        "id": "deac7ba4"
      },
      "outputs": [],
      "source": []
    },
    {
      "cell_type": "markdown",
      "id": "923a13f3",
      "metadata": {
        "id": "923a13f3"
      },
      "source": [
        "# 11. Dictionary Intersection\n",
        "\n",
        "## Problem Statement:\n",
        "Write a function that returns a dictionary containing keys common to two dictionaries with values from the first dictionary.\n",
        "\n",
        "## Example 1:\n",
        "**Input:** `{'a':1, 'b':2}, {'b':4, 'c':3}`  \n",
        "**Output:** `{'b':2}`\n",
        "\n",
        "## Example 2:\n",
        "**Input:** `{'x':5}, {'y':5}`  \n",
        "**Output:** `{}`\n"
      ]
    },
    {
      "cell_type": "code",
      "execution_count": 13,
      "id": "463eed21",
      "metadata": {
        "colab": {
          "base_uri": "https://localhost:8080/"
        },
        "id": "463eed21",
        "outputId": "27379613-08af-4324-a4a4-20de8e3b7cdb"
      },
      "outputs": [
        {
          "output_type": "stream",
          "name": "stdout",
          "text": [
            "{'b': 2}\n",
            "{}\n"
          ]
        }
      ],
      "source": [
        "\n",
        "def dictionary_intersection(dict1, dict2):\n",
        "  common_keys = set(dict1.keys()).intersection(set(dict2.keys()))\n",
        "  return {key: dict1[key] for key in common_keys}\n",
        "\n",
        "print(dictionary_intersection({'a':1, 'b':2}, {'b':4, 'c':3}))\n",
        "print(dictionary_intersection({'x':5}, {'y':5}))"
      ]
    },
    {
      "cell_type": "code",
      "execution_count": null,
      "id": "8ea06653",
      "metadata": {
        "id": "8ea06653"
      },
      "outputs": [],
      "source": []
    },
    {
      "cell_type": "markdown",
      "id": "328b85be",
      "metadata": {
        "id": "328b85be"
      },
      "source": [
        "# 14. Filter Dictionary by Values\n",
        "\n",
        "## Problem Statement:\n",
        "Write a function to filter a dictionary, keeping only items where the value is greater than a given number.\n",
        "\n",
        "## Example 1:\n",
        "**Input:** `{'a':5, 'b':2, 'c':8}, 4`  \n",
        "**Output:** `{'a':5, 'c':8}`\n",
        "\n",
        "## Example 2:\n",
        "**Input:** `{'x':1, 'y':3}, 2`  \n",
        "**Output:** `{'y':3}`\n"
      ]
    },
    {
      "cell_type": "code",
      "execution_count": 14,
      "id": "58e19b37",
      "metadata": {
        "colab": {
          "base_uri": "https://localhost:8080/"
        },
        "id": "58e19b37",
        "outputId": "906c2070-2baa-4336-931a-23fd54d2ee58"
      },
      "outputs": [
        {
          "output_type": "stream",
          "name": "stdout",
          "text": [
            "{'a': 5, 'c': 8}\n",
            "{'y': 3}\n"
          ]
        }
      ],
      "source": [
        "\n",
        "def filter_dictionary_by_value(input_dict, threshold):\n",
        "  return {key: value for key, value in input_dict.items() if value > threshold}\n",
        "\n",
        "print(filter_dictionary_by_value({'a':5, 'b':2, 'c':8}, 4))\n",
        "print(filter_dictionary_by_value({'x':1, 'y':3}, 2))"
      ]
    },
    {
      "cell_type": "code",
      "execution_count": null,
      "id": "55c9884b",
      "metadata": {
        "id": "55c9884b"
      },
      "outputs": [],
      "source": []
    },
    {
      "cell_type": "markdown",
      "id": "b37b6bd2",
      "metadata": {
        "id": "b37b6bd2"
      },
      "source": [
        "# 16. Dictionary from List of Tuples\n",
        "\n",
        "## Problem Statement:\n",
        "Write a function that converts a list of tuples into a dictionary, combining values for duplicate keys into lists.\n",
        "\n",
        "## Example 1:\n",
        "**Input:** `[('a',1), ('b',2), ('a',3)]`  \n",
        "**Output:** `{'a':[1,3], 'b':[2]}`\n",
        "\n",
        "## Example 2:\n",
        "**Input:** `[('x',4)]`  \n",
        "**Output:** `{'x':[4]}`\n"
      ]
    },
    {
      "cell_type": "code",
      "execution_count": 15,
      "id": "0cabcc36",
      "metadata": {
        "colab": {
          "base_uri": "https://localhost:8080/"
        },
        "id": "0cabcc36",
        "outputId": "c419a6c9-7960-4b31-fa01-8b96ea8c151e"
      },
      "outputs": [
        {
          "output_type": "stream",
          "name": "stdout",
          "text": [
            "{'a': [1, 3], 'b': [2]}\n",
            "{'x': [4]}\n"
          ]
        }
      ],
      "source": [
        "\n",
        "from collections import defaultdict\n",
        "\n",
        "def list_of_tuples_to_dictionary(list_of_tuples):\n",
        "  result_dict = defaultdict(list)\n",
        "  for key, value in list_of_tuples:\n",
        "    result_dict[key].append(value)\n",
        "  return dict(result_dict)\n",
        "\n",
        "print(list_of_tuples_to_dictionary([('a',1), ('b',2), ('a',3)]))\n",
        "print(list_of_tuples_to_dictionary([('x',4)]))\n"
      ]
    },
    {
      "cell_type": "code",
      "execution_count": null,
      "id": "1ba92174",
      "metadata": {
        "id": "1ba92174"
      },
      "outputs": [],
      "source": []
    },
    {
      "cell_type": "markdown",
      "id": "a2f6a871",
      "metadata": {
        "id": "a2f6a871"
      },
      "source": [
        "# 17. Increment Dictionary Values\n",
        "\n",
        "## Problem Statement:\n",
        "Write a function to increment all integer values in a dictionary by a specified number.\n",
        "\n",
        "## Example 1:\n",
        "**Input:** `{'a':1, 'b':2}, 3`  \n",
        "**Output:** `{'a':4, 'b':5}`\n",
        "\n",
        "## Example 2:\n",
        "**Input:** `{'x':10}, -2`  \n",
        "**Output:** `{'x':8}`\n"
      ]
    },
    {
      "cell_type": "code",
      "execution_count": 16,
      "id": "2cae3f6e",
      "metadata": {
        "colab": {
          "base_uri": "https://localhost:8080/"
        },
        "id": "2cae3f6e",
        "outputId": "daae76dc-53d9-40fe-e0b5-8c5e7bc0fd71"
      },
      "outputs": [
        {
          "output_type": "stream",
          "name": "stdout",
          "text": [
            "{'a': 4, 'b': 5}\n",
            "{'x': 8}\n"
          ]
        }
      ],
      "source": [
        "\n",
        "def increment_dictionary_values(input_dict, increment_by):\n",
        "  for key, value in input_dict.items():\n",
        "    if isinstance(value, int):\n",
        "      input_dict[key] = value + increment_by\n",
        "  return input_dict\n",
        "\n",
        "print(increment_dictionary_values({'a':1, 'b':2}, 3))\n",
        "print(increment_dictionary_values({'x':10}, -2))"
      ]
    },
    {
      "cell_type": "code",
      "execution_count": null,
      "id": "5a8c4696",
      "metadata": {
        "id": "5a8c4696"
      },
      "outputs": [],
      "source": []
    },
    {
      "cell_type": "markdown",
      "id": "1a4997f3",
      "metadata": {
        "id": "1a4997f3"
      },
      "source": [
        "# 18. Find Duplicates in List Using Dictionary\n",
        "\n",
        "## Problem Statement:\n",
        "Write a function to find all elements that appear more than once in a list, using a dictionary.\n",
        "\n",
        "## Example 1:\n",
        "**Input:** `[1,2,2,3,4,4,4]`  \n",
        "**Output:** `[2,4]`\n",
        "\n",
        "## Example 2:\n",
        "**Input:** `['a','b','c','a']`  \n",
        "**Output:** `['a']`\n"
      ]
    },
    {
      "cell_type": "code",
      "execution_count": 17,
      "id": "35f77861",
      "metadata": {
        "colab": {
          "base_uri": "https://localhost:8080/"
        },
        "id": "35f77861",
        "outputId": "59251ade-0069-4019-83af-cb91724071c9"
      },
      "outputs": [
        {
          "output_type": "stream",
          "name": "stdout",
          "text": [
            "[2, 4]\n",
            "['a']\n"
          ]
        }
      ],
      "source": [
        "\n",
        "def find_duplicates(input_list):\n",
        "  frequency = {}\n",
        "  duplicates = []\n",
        "  for item in input_list:\n",
        "    frequency[item] = frequency.get(item, 0) + 1\n",
        "  for item, count in frequency.items():\n",
        "    if count > 1:\n",
        "      duplicates.append(item)\n",
        "  return duplicates\n",
        "\n",
        "print(find_duplicates([1,2,2,3,4,4,4]))\n",
        "print(find_duplicates(['a','b','c','a']))"
      ]
    },
    {
      "cell_type": "code",
      "execution_count": null,
      "id": "e2d4570d",
      "metadata": {
        "id": "e2d4570d"
      },
      "outputs": [],
      "source": []
    },
    {
      "cell_type": "markdown",
      "id": "37dab363",
      "metadata": {
        "id": "37dab363"
      },
      "source": [
        "# 19. Merge Dictionaries Summing Values\n",
        "\n",
        "## Problem Statement:\n",
        "Write a function to merge two dictionaries, summing values for common keys.\n",
        "\n",
        "## Example 1:\n",
        "**Input:** `{'a':2, 'b':3}, {'a':3, 'c':1}`  \n",
        "**Output:** `{'a':5, 'b':3, 'c':1}`\n",
        "\n",
        "## Example 2:\n",
        "**Input:** `{'x':1}, {'x':-1}`  \n",
        "**Output:** `{'x':0}`\n"
      ]
    },
    {
      "cell_type": "code",
      "execution_count": 18,
      "id": "4931ea97",
      "metadata": {
        "colab": {
          "base_uri": "https://localhost:8080/"
        },
        "id": "4931ea97",
        "outputId": "57d93b44-b627-4fcc-a94a-790531f60876"
      },
      "outputs": [
        {
          "output_type": "stream",
          "name": "stdout",
          "text": [
            "{'a': 5, 'b': 3, 'c': 1}\n",
            "{'x': 0}\n"
          ]
        }
      ],
      "source": [
        "\n",
        "def merge_and_sum_dictionaries(dict1, dict2):\n",
        "  merged_dict = dict1.copy()\n",
        "  for key, value in dict2.items():\n",
        "    merged_dict[key] = merged_dict.get(key, 0) + value\n",
        "  return merged_dict\n",
        "\n",
        "print(merge_and_sum_dictionaries({'a':2, 'b':3}, {'a':3, 'c':1}))\n",
        "print(merge_and_sum_dictionaries({'x':1}, {'x':-1}))"
      ]
    },
    {
      "cell_type": "markdown",
      "id": "01937f89",
      "metadata": {
        "id": "01937f89"
      },
      "source": [
        "# 20. Dictionary of Lists to Dictionary of Sums\n",
        "\n",
        "## Problem Statement:\n",
        "Write a function to convert a dictionary of lists into a dictionary of sums.\n",
        "\n",
        "## Example 1:\n",
        "**Input:** `{'a':[1,2,3], 'b':[4,5]}`  \n",
        "**Output:** `{'a':6, 'b':9}`\n",
        "\n",
        "## Example 2:\n",
        "**Input:** `{'x':[10]}`  \n",
        "**Output:** `{'x':10}`\n"
      ]
    },
    {
      "cell_type": "code",
      "execution_count": 19,
      "id": "02599144",
      "metadata": {
        "colab": {
          "base_uri": "https://localhost:8080/"
        },
        "id": "02599144",
        "outputId": "a6724f8d-031e-4bcf-8124-d7619043433e"
      },
      "outputs": [
        {
          "output_type": "stream",
          "name": "stdout",
          "text": [
            "{'a': 6, 'b': 9}\n",
            "{'x': 10}\n"
          ]
        }
      ],
      "source": [
        "\n",
        "def dictionary_of_lists_to_sums(input_dict):\n",
        "  return {key: sum(values) for key, values in input_dict.items()}\n",
        "\n",
        "print(dictionary_of_lists_to_sums({'a':[1,2,3], 'b':[4,5]}))\n",
        "print(dictionary_of_lists_to_sums({'x':[10]}))"
      ]
    },
    {
      "cell_type": "code",
      "execution_count": null,
      "id": "551ecc09",
      "metadata": {
        "id": "551ecc09"
      },
      "outputs": [],
      "source": []
    }
  ],
  "metadata": {
    "kernelspec": {
      "display_name": "myenv",
      "language": "python",
      "name": "myenv"
    },
    "language_info": {
      "codemirror_mode": {
        "name": "ipython",
        "version": 3
      },
      "file_extension": ".py",
      "mimetype": "text/x-python",
      "name": "python",
      "nbconvert_exporter": "python",
      "pygments_lexer": "ipython3",
      "version": "3.12.3"
    },
    "colab": {
      "provenance": []
    }
  },
  "nbformat": 4,
  "nbformat_minor": 5
}