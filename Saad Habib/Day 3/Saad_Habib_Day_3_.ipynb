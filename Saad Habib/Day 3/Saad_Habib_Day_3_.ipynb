{
  "nbformat": 4,
  "nbformat_minor": 0,
  "metadata": {
    "colab": {
      "provenance": []
    },
    "kernelspec": {
      "name": "python3",
      "display_name": "Python 3"
    },
    "language_info": {
      "name": "python"
    }
  },
  "cells": [
    {
      "cell_type": "code",
      "execution_count": null,
      "metadata": {
        "id": "houyI5Ntn2jU"
      },
      "outputs": [],
      "source": [
        "Write a function that compresses a string using the counts of repeated characters.\n",
        " If the compressed string is not smaller than the original, return the original."
      ]
    },
    {
      "cell_type": "code",
      "source": [
        "def compress(string):\n",
        "\n",
        "    freq = {}\n",
        "    for char in string:\n",
        "        freq[char] = freq.get(char, 0) + 1\n",
        "    compressed = \"\"\n",
        "    seen = set()\n",
        "    for char in string:\n",
        "        if char not in seen:\n",
        "            compressed += char + str(freq[char])\n",
        "            seen.add(char)\n",
        "    return compressed\n",
        "\n",
        "print(compress('aaabbccccaaa'))\n"
      ],
      "metadata": {
        "colab": {
          "base_uri": "https://localhost:8080/"
        },
        "id": "E2EPgnyroE-2",
        "outputId": "3a3ffd3c-fe04-4aaf-dd01-48599c823580"
      },
      "execution_count": 28,
      "outputs": [
        {
          "output_type": "stream",
          "name": "stdout",
          "text": [
            "a6b2c4\n"
          ]
        }
      ]
    },
    {
      "cell_type": "code",
      "source": [
        " Write a function to flatten a nested list of strings"
      ],
      "metadata": {
        "id": "i_of3A28pSf8"
      },
      "execution_count": null,
      "outputs": []
    },
    {
      "cell_type": "code",
      "source": [
        "def flatten(nested_list):\n",
        "    flat_list = []\n",
        "    for item in nested_list:\n",
        "        if isinstance(item, list):\n",
        "            flat_list.extend(flatten(item))\n",
        "        else:\n",
        "            flat_list.append(item)\n",
        "    return flat_list\n",
        "a = [ 'nata', 'pizza', [ 'eat', 'tea' ], ['sort'] ]\n",
        "flatten(a)"
      ],
      "metadata": {
        "colab": {
          "base_uri": "https://localhost:8080/"
        },
        "id": "QrYrMysOtRpn",
        "outputId": "10ed3263-4d4a-40a4-befb-d3d07cf9034b"
      },
      "execution_count": 41,
      "outputs": [
        {
          "output_type": "execute_result",
          "data": {
            "text/plain": [
              "['nata', 'pizza', 'eat', 'tea', 'sort']"
            ]
          },
          "metadata": {},
          "execution_count": 41
        }
      ]
    },
    {
      "cell_type": "code",
      "source": [
        " Given a list of strings, group them into anagrams (words with the same letters in different order)"
      ],
      "metadata": {
        "id": "A7LgrSF-tfoO"
      },
      "execution_count": null,
      "outputs": []
    },
    {
      "cell_type": "code",
      "source": [
        "\n",
        "from collections import defaultdict\n",
        "\n",
        "def group_anagrams(strings):\n",
        "    anagram_groups = defaultdict(list)\n",
        "    for s in strings:\n",
        "        sorted_s = ''.join(sorted(s))\n",
        "        anagram_groups[sorted_s].append(s)\n",
        "    return list(anagram_groups.values())\n",
        "\n",
        "my_strings = [\"eat\", \"tea\", \"tan\", \"ate\", \"nat\", \"bat\"]\n",
        "print(group_anagrams(my_strings))"
      ],
      "metadata": {
        "id": "Ksyc2TyBurGF",
        "outputId": "30dc03ca-7efe-44b7-fac3-1746eed3a121",
        "colab": {
          "base_uri": "https://localhost:8080/"
        }
      },
      "execution_count": 42,
      "outputs": [
        {
          "output_type": "stream",
          "name": "stdout",
          "text": [
            "[['eat', 'tea', 'ate'], ['tan', 'nat'], ['bat']]\n"
          ]
        }
      ]
    },
    {
      "cell_type": "code",
      "source": [
        "\n",
        "import re\n",
        "from collections import Counter\n",
        "\n",
        "def top_3_words(text):\n",
        "\n",
        "  text = re.sub(r'[^\\w\\s]', '', text).lower()\n",
        "  words = text.split()\n",
        "\n",
        "  word_counts = Counter(words)\n",
        "\n",
        "  top_words = [word for word, count in word_counts.most_common(3)]\n",
        "\n",
        "  return top_words\n",
        "\n",
        "print(top_3_words(\"The quick brown fox jumps over the lazy dog. The dog barked.\"))"
      ],
      "metadata": {
        "id": "BVWq3sbVu5oW",
        "outputId": "d545d9fe-cce0-45ed-b962-50cc641b8fc1",
        "colab": {
          "base_uri": "https://localhost:8080/"
        }
      },
      "execution_count": 43,
      "outputs": [
        {
          "output_type": "stream",
          "name": "stdout",
          "text": [
            "['the', 'dog', 'quick']\n"
          ]
        }
      ]
    },
    {
      "cell_type": "code",
      "source": [],
      "metadata": {
        "id": "gRdwW6vdvV_S"
      },
      "execution_count": null,
      "outputs": []
    }
  ]
}