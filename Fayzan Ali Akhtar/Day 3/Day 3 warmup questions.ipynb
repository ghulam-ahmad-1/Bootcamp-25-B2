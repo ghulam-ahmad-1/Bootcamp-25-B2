{
 "cells": [
  {
   "cell_type": "code",
   "execution_count": null,
   "id": "efbd8f1e-abab-4660-bb11-db24c359e1c9",
   "metadata": {},
   "outputs": [],
   "source": []
  },
  {
   "cell_type": "code",
   "execution_count": 1,
   "id": "dc3f8310-578e-409a-8b37-31f673f785fe",
   "metadata": {},
   "outputs": [],
   "source": [
    "# Problem Statement:\n",
    "#  Write a function that compresses a string using the counts of repeated characters.\n",
    "#  If the compressed string is not smaller than the original, return the original.\n",
    "# Example:\n",
    "# Input: \"aaabbccccaaa\"\n",
    "# Output: \"a3b2c4a3\"\n",
    "# Input: \"abc\"\n",
    "# Output: \"abc\""
   ]
  },
  {
   "cell_type": "code",
   "execution_count": 10,
   "id": "0ef019e1-c2d0-45d3-b60e-802fb8117831",
   "metadata": {},
   "outputs": [
    {
     "name": "stdout",
     "output_type": "stream",
     "text": [
      "ans = a3b2c4a3\n"
     ]
    }
   ],
   "source": [
    "input = \"aaabbccccaaa\"\n",
    "count = 1\n",
    "ans = \"\"\n",
    "\n",
    "for i in range(len(input)-1):\n",
    "    if input[i] == input[i+1]:\n",
    "        count += 1\n",
    "    else:\n",
    "        ans += input[i] + str(count)\n",
    "        count = 1\n",
    "if input[-1] != ans[-2]:\n",
    "    ans += input[-1] + str(count)\n",
    "\n",
    "print(\"ans =\",ans)"
   ]
  },
  {
   "cell_type": "code",
   "execution_count": 11,
   "id": "1c20bb1b-85a9-4acc-846a-dfdde58adda2",
   "metadata": {},
   "outputs": [],
   "source": [
    "# --------------------------------\n",
    "# Problem Statement:\n",
    "#  Write a function to flatten a nested list of strings\n",
    "# Example:\n",
    "# input = [ 'nata', 'pizza' [ 'eat', 'tea' ], ['sort'] ]\n",
    "# output [ nata', 'pizza' , ‘eat', 'tea', 'sort']"
   ]
  },
  {
   "cell_type": "code",
   "execution_count": 27,
   "id": "c0625a1f-ae35-4db5-bdc5-7cbd82229516",
   "metadata": {},
   "outputs": [
    {
     "name": "stdout",
     "output_type": "stream",
     "text": [
      "['nata', 'pizza', 'eat', 'tea', 'sort']\n"
     ]
    }
   ],
   "source": [
    "def flattenList(arr):\n",
    "    ans = []\n",
    "\n",
    "    for x in arr:\n",
    "        # print(\"x =\",x)\n",
    "        if isinstance(x, list):\n",
    "            ans += flattenList(x)\n",
    "        else:\n",
    "            ans.append(x)\n",
    "    return ans\n",
    "\n",
    "input = ['nata', 'pizza', [ 'eat', 'tea' ], ['sort'] ]\n",
    "print(flattenList(input))"
   ]
  },
  {
   "cell_type": "code",
   "execution_count": null,
   "id": "8ffa4fdf-bd08-4032-a73a-2c79b608ea41",
   "metadata": {},
   "outputs": [],
   "source": [
    "# --------------------------------\n",
    "# Problem Statement:\n",
    "#  Given a list of strings, group them into anagrams (words with the same letters in different order).\n",
    "# Example:\n",
    "# Input: [\"bat\", \"tab\", \"eat\", \"tea\", \"tan\", \"nat\"]\n",
    "# Output: [['bat', 'tab'], ['eat', 'tea'], ['tan', 'nat']]"
   ]
  },
  {
   "cell_type": "code",
   "execution_count": 12,
   "id": "28b7d1cf-1fa6-4a1d-8ce8-0e7ab378338b",
   "metadata": {},
   "outputs": [
    {
     "name": "stdout",
     "output_type": "stream",
     "text": [
      "output = [['bat', 'tab', 'abt'], ['tap', 'pat'], ['cat', 'tac']]\n"
     ]
    }
   ],
   "source": [
    "def makeDict(word):\n",
    "    dictionary = {}\n",
    "    for s in word:\n",
    "        if s in dictionary:\n",
    "            dictionary[s] += 1\n",
    "        else:\n",
    "            dictionary[s] = 1\n",
    "    return dictionary\n",
    "def groupAnagrams(arr):\n",
    "    ans = []\n",
    "    seen = []\n",
    "    for word in arr:\n",
    "        curr_dict = makeDict(word)\n",
    "        if curr_dict in seen:\n",
    "            for i,lst in enumerate(ans):\n",
    "                seen_dict = makeDict(lst[0])\n",
    "                if seen_dict == curr_dict:\n",
    "                    ans[i].append(word)\n",
    "        else:\n",
    "            ans.append([word])\n",
    "            seen.append(curr_dict)\n",
    "        \n",
    "    return ans\n",
    "\n",
    "input = [\"bat\", \"tab\", \"tap\", \"pat\", \"cat\", \"tac\",\"abt\"]\n",
    "output = groupAnagrams(input)\n",
    "print(\"output =\",output)"
   ]
  },
  {
   "cell_type": "code",
   "execution_count": null,
   "id": "f1cc9624-82a5-44be-9344-5a8e4cb42c75",
   "metadata": {},
   "outputs": [],
   "source": [
    "# Problem Statement:\n",
    "#  Write a function that takes a string and returns the top 3 most frequent words in it (ignoring case and punctuation).\n",
    "# Example:\n",
    "# Input: \"The quick brown fox jumps over the lazy dog. The dog barked.\"\n",
    "# Output: ['the', 'dog', 'quick']  # frequency: the(3), dog(2), quick(1)"
   ]
  },
  {
   "cell_type": "code",
   "execution_count": 55,
   "id": "33a75e37-f320-4d17-9e92-30c91d5b56db",
   "metadata": {},
   "outputs": [
    {
     "name": "stdout",
     "output_type": "stream",
     "text": [
      "['the', 'dog', 'quick']\n"
     ]
    }
   ],
   "source": [
    "import string\n",
    "def make_dict(input):\n",
    "    input = input.lower()\n",
    "    input = ''.join([char for char in input if char not in string.punctuation])\n",
    "    arr = input.split()\n",
    "    dict_arr = {}\n",
    "    \n",
    "    for x in arr:\n",
    "        if x not in dict_arr:\n",
    "            dict_arr[x] = 1\n",
    "        else:\n",
    "            dict_arr[x] += 1\n",
    "    # print(\"dict_arr =\",dict_arr)\n",
    "    ans = {}\n",
    "    ans = dict(sorted(dict_arr.items(), key=lambda item: item[1], reverse=True))\n",
    "    # print(\"ans =\",ans)\n",
    "    # list(ans.keys())\n",
    "    ans = list(ans.keys())\n",
    "    # print(\"ans =\",ans)\n",
    "    ans = ans[:3]\n",
    "    return ans\n",
    "\n",
    "print(make_dict(\"The quick brown fox jumps over the lazy dog. The dog barked.\"))"
   ]
  },
  {
   "cell_type": "code",
   "execution_count": null,
   "id": "fe101925-c99d-40a9-a34b-ce3a4ccca40a",
   "metadata": {},
   "outputs": [],
   "source": []
  },
  {
   "cell_type": "code",
   "execution_count": null,
   "id": "d36c2b4e-302c-446a-98b5-76ebb834b4c4",
   "metadata": {},
   "outputs": [],
   "source": []
  }
 ],
 "metadata": {
  "kernelspec": {
   "display_name": "Python 3 (ipykernel)",
   "language": "python",
   "name": "python3"
  },
  "language_info": {
   "codemirror_mode": {
    "name": "ipython",
    "version": 3
   },
   "file_extension": ".py",
   "mimetype": "text/x-python",
   "name": "python",
   "nbconvert_exporter": "python",
   "pygments_lexer": "ipython3",
   "version": "3.13.5"
  }
 },
 "nbformat": 4,
 "nbformat_minor": 5
}
