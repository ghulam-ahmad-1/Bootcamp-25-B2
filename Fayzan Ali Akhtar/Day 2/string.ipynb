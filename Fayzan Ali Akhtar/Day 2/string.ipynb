{
 "cells": [
  {
   "cell_type": "markdown",
   "id": "ae0ad9d2-1f51-46a1-8ed2-2b00ed414cc6",
   "metadata": {},
   "source": [
    "# 1. Reverse a String\n",
    "## Problem Statement:\n",
    "Write a function to reverse a given string.\n",
    "\n",
    "## Example 1:\n",
    "**Input:** `\"hello\"`  \n",
    "**Output:** `\"olleh\"`\n",
    "\n",
    "## Example 2:\n",
    "**Input:** `\"world\"`  \n",
    "**Output:** `\"dlrow\"`\n"
   ]
  },
  {
   "cell_type": "code",
   "execution_count": 2,
   "id": "e1435aa7-457c-4b05-ad71-fc7204bb88d7",
   "metadata": {},
   "outputs": [
    {
     "name": "stdout",
     "output_type": "stream",
     "text": [
      "ans = olleh\n"
     ]
    }
   ],
   "source": [
    "input = \"hello\"\n",
    "temp = []\n",
    "ans = []\n",
    "\n",
    "for s in input:\n",
    "    temp.append(s)\n",
    "\n",
    "for i in range(len(temp)):\n",
    "    index = len(temp) - i - 1\n",
    "    ans.append(temp[index])\n",
    "\n",
    "ans = \"\".join(ans)\n",
    "print(\"ans =\",ans)"
   ]
  },
  {
   "cell_type": "code",
   "execution_count": null,
   "id": "1f15a4a5-58a6-4b21-b178-575c8b4790f2",
   "metadata": {},
   "outputs": [],
   "source": []
  },
  {
   "cell_type": "markdown",
   "id": "5a3927f5-6184-40a6-b3f8-34cd08ef19a1",
   "metadata": {},
   "source": [
    "# 2. Check if a String is a Palindrome\n",
    "## Problem Statement:\n",
    "Write a function to check if a string is a palindrome (same forward and backward).\n",
    "\n",
    "## Example 1:\n",
    "**Input:** `\"madam\"`  \n",
    "**Output:** `True`\n",
    "\n",
    "## Example 2:\n",
    "**Input:** `\"hello\"`  \n",
    "**Output:** `False`\n"
   ]
  },
  {
   "cell_type": "code",
   "execution_count": 3,
   "id": "e10e83ef-aacb-4764-9c1a-dc28c3d0b3df",
   "metadata": {},
   "outputs": [
    {
     "name": "stdout",
     "output_type": "stream",
     "text": [
      "ans = True\n"
     ]
    }
   ],
   "source": [
    "def isPalendrome(input):\n",
    "    mid = len(input) // 2\n",
    "    for s in range(mid):\n",
    "        e = len(input) - s - 1\n",
    "        if (input[s] != input[e]):\n",
    "            return False\n",
    "    return True\n",
    "\n",
    "ans = isPalendrome(\"madam\")\n",
    "print(\"ans =\", ans)"
   ]
  },
  {
   "cell_type": "code",
   "execution_count": null,
   "id": "5e6a74e5-1a49-48ee-8624-20cce02b3597",
   "metadata": {},
   "outputs": [],
   "source": []
  },
  {
   "cell_type": "markdown",
   "id": "58b59720-7688-43eb-b24d-d886c3b3c809",
   "metadata": {},
   "source": [
    "# 3. Count the Number of Vowels in a String\n",
    "## Problem Statement:\n",
    "Write a function to count the number of vowels in a given string.\n",
    "\n",
    "## Example 1:\n",
    "**Input:** `\"apple\"`  \n",
    "**Output:** `2`\n",
    "\n",
    "## Example 2:\n",
    "**Input:** `\"banana\"`  \n",
    "**Output:** `3`\n"
   ]
  },
  {
   "cell_type": "code",
   "execution_count": 4,
   "id": "cc7ada12-76e0-4759-87ee-31224446fdd7",
   "metadata": {},
   "outputs": [
    {
     "name": "stdout",
     "output_type": "stream",
     "text": [
      "count = 5\n"
     ]
    }
   ],
   "source": [
    "input = \"data science\"\n",
    "count = 0\n",
    "vowels = ['a','e','i','o','u']\n",
    "\n",
    "for s in input:\n",
    "    if s in vowels:\n",
    "        count += 1\n",
    "\n",
    "print(\"count =\", count)"
   ]
  },
  {
   "cell_type": "code",
   "execution_count": null,
   "id": "6ad075be-9c42-41d2-be73-ac5760653656",
   "metadata": {},
   "outputs": [],
   "source": []
  },
  {
   "cell_type": "markdown",
   "id": "abcbec6f-e9e9-4238-8130-b4313c2357cc",
   "metadata": {},
   "source": [
    "# 4. Remove All Whitespace from a String\n",
    "## Problem Statement:\n",
    "Write a function that removes all whitespace characters from a string.\n",
    "\n",
    "## Example 1:\n",
    "**Input:** `\"hello world\"`  \n",
    "**Output:** `\"helloworld\"`\n",
    "\n",
    "## Example 2:\n",
    "**Input:** `\" Python  is  fun \"`  \n",
    "**Output:** `\"Pythonisfun\"`\n"
   ]
  },
  {
   "cell_type": "code",
   "execution_count": 9,
   "id": "59152c0f-cc53-4319-8b61-7bfa739a35a9",
   "metadata": {},
   "outputs": [
    {
     "name": "stdout",
     "output_type": "stream",
     "text": [
      "ans = Pythonisfun\n"
     ]
    }
   ],
   "source": [
    "input = \" Python  is  fun \"\n",
    "ans = []\n",
    "\n",
    "for s in input:\n",
    "    if s != \" \":\n",
    "        ans.append(s)\n",
    "\n",
    "ans = \"\".join(ans)\n",
    "\n",
    "print(\"ans =\",ans)"
   ]
  },
  {
   "cell_type": "code",
   "execution_count": null,
   "id": "c0feb715-5555-4882-b4d5-862addfc2e83",
   "metadata": {},
   "outputs": [],
   "source": []
  },
  {
   "cell_type": "markdown",
   "id": "7a8010ed-0bbf-42c3-82c3-46b175c6e8af",
   "metadata": {},
   "source": [
    "# 5. Find the First Non-Repeating Character in a String\n",
    "## Problem Statement:\n",
    "Write a function to find the first non-repeating character in a given string.\n",
    "\n",
    "## Example 1:\n",
    "**Input:** `\"swiss\"`  \n",
    "**Output:** `\"w\"`\n",
    "\n",
    "## Example 2:\n",
    "**Input:** `\"racecar\"`  \n",
    "**Output:** `\"e\"`\n"
   ]
  },
  {
   "cell_type": "code",
   "execution_count": 11,
   "id": "4aca409d-99fa-43bc-814c-9d93d54507ad",
   "metadata": {},
   "outputs": [
    {
     "name": "stdout",
     "output_type": "stream",
     "text": [
      "ans = w\n"
     ]
    }
   ],
   "source": [
    "dictionary = {}\n",
    "input = \"swiss\"\n",
    "\n",
    "for s in input:\n",
    "    if s in dictionary:\n",
    "        dictionary[s] += 1\n",
    "    else:\n",
    "        dictionary[s] = 1\n",
    "\n",
    "ans = \"\"\n",
    "for s in dictionary:\n",
    "    if dictionary[s] == 1:\n",
    "        ans = s\n",
    "        break\n",
    "\n",
    "print(\"ans =\",ans)"
   ]
  },
  {
   "cell_type": "code",
   "execution_count": null,
   "id": "728943f8-b9cd-45ca-9c54-4698ea06ade7",
   "metadata": {},
   "outputs": [],
   "source": []
  },
  {
   "cell_type": "markdown",
   "id": "d3b7ea00-ba1f-46ed-b122-bb6b7cac074f",
   "metadata": {},
   "source": [
    "# 6. Check if Two Strings are Anagrams\n",
    "## Problem Statement:\n",
    "Write a function to check if two strings are anagrams.\n",
    "\n",
    "## Example 1:\n",
    "**Input:** `\"listen\", \"silent\"`  \n",
    "**Output:** `True`\n",
    "\n",
    "## Example 2:\n",
    "**Input:** `\"hello\", \"world\"`  \n",
    "**Output:** `False`\n"
   ]
  },
  {
   "cell_type": "code",
   "execution_count": 14,
   "id": "3b2c05e5-a7df-476b-9061-f7df9c3539d2",
   "metadata": {},
   "outputs": [
    {
     "name": "stdout",
     "output_type": "stream",
     "text": [
      "output = False\n"
     ]
    }
   ],
   "source": [
    "def makeDict(word):\n",
    "    dictionary = {}\n",
    "    for s in word:\n",
    "        if s in dictionary:\n",
    "            dictionary[s] += 1\n",
    "        else:\n",
    "            dictionary[s] = 1\n",
    "    return dictionary\n",
    "def checkAnagrams(str1, str2):\n",
    "    dict1 = makeDict(str1)\n",
    "    dict2 = makeDict(str2)\n",
    "    return dict1 == dict2\n",
    "\n",
    "str1 = \"hello\"\n",
    "str2 = \"world\"\n",
    "output = checkAnagrams(str1, str2)\n",
    "print(\"output =\",output)"
   ]
  },
  {
   "cell_type": "code",
   "execution_count": null,
   "id": "921ee110-5557-4d6e-a669-dc81ca237bcb",
   "metadata": {},
   "outputs": [],
   "source": []
  },
  {
   "cell_type": "markdown",
   "id": "3989dfe4-ab68-419d-9042-877f37ede653",
   "metadata": {},
   "source": [
    "# 7. Convert a String to Uppercase\n",
    "## Problem Statement:\n",
    "Write a function to convert a string to uppercase.\n",
    "\n",
    "## Example 1:\n",
    "**Input:** `\"python\"`  \n",
    "**Output:** `\"PYTHON\"`\n",
    "\n",
    "## Example 2:\n",
    "**Input:** `\"Hello World\"`  \n",
    "**Output:** `\"HELLO WORLD\"`\n"
   ]
  },
  {
   "cell_type": "code",
   "execution_count": 36,
   "id": "163d0c7c-d95c-48f5-9f57-a6415fe19099",
   "metadata": {},
   "outputs": [
    {
     "name": "stdout",
     "output_type": "stream",
     "text": [
      "ans = HELLO WORLD\n"
     ]
    }
   ],
   "source": [
    "ans = []\n",
    "input = \"Hello World\"\n",
    "\n",
    "for s in input:\n",
    "    ascii_value = ord(s)\n",
    "    if s == \" \" or ascii_value >= 65 and ascii_value <= 90 :\n",
    "        ans.append(s)\n",
    "    else:\n",
    "        ans.append(chr(ascii_value-32))\n",
    "\n",
    "ans = \"\".join(ans)\n",
    "print(\"ans =\",ans)"
   ]
  },
  {
   "cell_type": "code",
   "execution_count": null,
   "id": "aaf4bac8-2992-489f-90fe-a6321edc64c4",
   "metadata": {},
   "outputs": [],
   "source": []
  },
  {
   "cell_type": "markdown",
   "id": "d9101758-0867-41e5-b4a0-a71db20536ae",
   "metadata": {},
   "source": [
    "# 8. Find the Most Frequent Character in a String\n",
    "## Problem Statement:\n",
    "Write a function to find the most frequently occurring character in a string.\n",
    "\n",
    "## Example 1:\n",
    "**Input:** `\"banana\"`  \n",
    "**Output:** `\"a\"`\n",
    "\n",
    "## Example 2:\n",
    "**Input:** `\"mississippi\"`  \n",
    "**Output:** `\"i\"`\n"
   ]
  },
  {
   "cell_type": "code",
   "execution_count": 43,
   "id": "9cb62d0a-3b5d-4271-8091-ad6e666acd2a",
   "metadata": {},
   "outputs": [
    {
     "name": "stdout",
     "output_type": "stream",
     "text": [
      "output = i\n"
     ]
    }
   ],
   "source": [
    "def makeDict(word):\n",
    "    dictionary = {}\n",
    "    for s in word:\n",
    "        if s in dictionary:\n",
    "            dictionary[s] += 1\n",
    "        else:\n",
    "            dictionary[s] = 1\n",
    "    return dictionary\n",
    "\n",
    "input = \"mississippi\"\n",
    "output = makeDict(input)\n",
    "\n",
    "output = dict(sorted(output.items(), key=lambda item: item[1], reverse=True))\n",
    "print(\"output =\",list(output.keys())[0])"
   ]
  },
  {
   "cell_type": "code",
   "execution_count": null,
   "id": "8934605e-f2d2-49ab-a77e-2fb406d85d79",
   "metadata": {},
   "outputs": [],
   "source": []
  },
  {
   "cell_type": "markdown",
   "id": "b23de210-f0d4-4e2d-ab9a-aa853e471a15",
   "metadata": {},
   "source": [
    "# 9. Check if a String Contains Only Digits\n",
    "## Problem Statement:\n",
    "Write a function to check if a string contains only digits.\n",
    "\n",
    "## Example 1:\n",
    "**Input:** `\"12345\"`  \n",
    "**Output:** `True`\n",
    "\n",
    "## Example 2:\n",
    "**Input:** `\"12a45\"`  \n",
    "**Output:** `False`\n"
   ]
  },
  {
   "cell_type": "code",
   "execution_count": 51,
   "id": "419f05a0-3648-4ef3-badf-0cdd35869ec1",
   "metadata": {},
   "outputs": [
    {
     "name": "stdout",
     "output_type": "stream",
     "text": [
      "output = True\n"
     ]
    }
   ],
   "source": [
    "input =  \"12345\"\n",
    "def onlyDigits(input):\n",
    "    for s in input:\n",
    "        if ord(s) < 48 or ord(s) > 57:\n",
    "            return False\n",
    "    return True\n",
    "\n",
    "output = onlyDigits(input)\n",
    "\n",
    "print(\"output =\",output)"
   ]
  },
  {
   "cell_type": "code",
   "execution_count": null,
   "id": "8c3e49f1-defd-4b0d-8321-6517e6917795",
   "metadata": {},
   "outputs": [],
   "source": []
  },
  {
   "cell_type": "markdown",
   "id": "f9d2b183-d1aa-446d-a449-90d3375f7c53",
   "metadata": {},
   "source": [
    "# 10. Find the Length of the Longest Word in a Sentence\n",
    "## Problem Statement:\n",
    "Write a function to find the length of the longest word in a sentence.\n",
    "\n",
    "## Example 1:\n",
    "**Input:** `\"The quick brown fox\"`  \n",
    "**Output:** `5`\n",
    "\n",
    "## Example 2:\n",
    "**Input:** `\"A journey of a thousand miles\"`  \n",
    "**Output:** `8`\n"
   ]
  },
  {
   "cell_type": "code",
   "execution_count": 54,
   "id": "0ed5e962-f5dd-4e91-85e2-0cd0e9fcdf84",
   "metadata": {},
   "outputs": [
    {
     "name": "stdout",
     "output_type": "stream",
     "text": [
      "Output = 8\n"
     ]
    }
   ],
   "source": [
    "def findLongestWord(input):\n",
    "    lst = input.split()\n",
    "    ans = 0\n",
    "    for s in lst:\n",
    "        size = len(s)\n",
    "        if size > ans:\n",
    "            ans = size\n",
    "    return ans\n",
    "\n",
    "input = \"A journey of a thousand miles\"\n",
    "output = findLongestWord(input)\n",
    "print(\"Output =\",output)"
   ]
  },
  {
   "cell_type": "code",
   "execution_count": null,
   "id": "6a62f30a-81ee-405a-89c5-560f88ed25fe",
   "metadata": {},
   "outputs": [],
   "source": []
  },
  {
   "cell_type": "markdown",
   "id": "3499119b-b83a-4e89-b68e-db215e943998",
   "metadata": {},
   "source": [
    "# 11. Replace Spaces with '%20' (URL Encoding)\n",
    "## Problem Statement:\n",
    "Write a function to replace all spaces in a string with `%20`.\n",
    "\n",
    "## Example 1:\n",
    "**Input:** `\"Mr John Smith\"`  \n",
    "**Output:** `\"Mr%20John%20Smith\"`\n",
    "\n",
    "## Example 2:\n",
    "**Input:** `\"Hello World\"`  \n",
    "**Output:** `\"Hello%20World\"`\n"
   ]
  },
  {
   "cell_type": "code",
   "execution_count": 55,
   "id": "c1b7b110-7076-4e47-9690-b99de5ffd695",
   "metadata": {},
   "outputs": [
    {
     "name": "stdout",
     "output_type": "stream",
     "text": [
      "Output = Mr%20John%20Smith\n"
     ]
    }
   ],
   "source": [
    "input = \"Mr John Smith\"\n",
    "ans = []\n",
    "for s in input:\n",
    "    if s == \" \":\n",
    "        ans.append(\"%20\")\n",
    "    else:\n",
    "        ans.append(s)\n",
    "output = \"\".join(ans)\n",
    "print(\"Output =\",output)"
   ]
  },
  {
   "cell_type": "code",
   "execution_count": null,
   "id": "b94611fe-6fb7-4edf-9954-176d45889f5b",
   "metadata": {},
   "outputs": [],
   "source": []
  },
  {
   "cell_type": "markdown",
   "id": "59196fe4-763d-4d23-a941-6f17ce59481a",
   "metadata": {},
   "source": [
    "# 12. Find All Substrings of a String\n",
    "## Problem Statement:\n",
    "Write a function to return all substrings of a given string.\n",
    "\n",
    "## Example 1:\n",
    "**Input:** `\"abc\"`  \n",
    "**Output:** `[\"a\", \"b\", \"c\", \"ab\", \"bc\", \"abc\"]`\n",
    "\n",
    "## Example 2:\n",
    "**Input:** `\"xyz\"`  \n",
    "**Output:** `[\"x\", \"y\", \"z\", \"xy\", \"yz\", \"xyz\"]`\n"
   ]
  },
  {
   "cell_type": "code",
   "execution_count": 59,
   "id": "743c4c58-3950-427f-8c0b-bd4e3eda5fa8",
   "metadata": {},
   "outputs": [
    {
     "name": "stdout",
     "output_type": "stream",
     "text": [
      "ans = ['a', 'ab', 'abc', 'b', 'bc', 'c']\n"
     ]
    }
   ],
   "source": [
    "input = \"abc\"\n",
    "\n",
    "ans = []\n",
    "\n",
    "for i in range(len(input)):\n",
    "    for j in range(i + 1, len(input) + 1):\n",
    "        ans.append(input[i:j])\n",
    "\n",
    "print(\"ans =\",ans)"
   ]
  },
  {
   "cell_type": "code",
   "execution_count": null,
   "id": "993ed2a1-22ea-41ab-aeec-da5d494b8561",
   "metadata": {},
   "outputs": [],
   "source": []
  },
  {
   "cell_type": "markdown",
   "id": "08cca7f3-0462-4e37-883e-4850ac7d9b4a",
   "metadata": {},
   "source": [
    "# 13. Reverse Each Word in a Sentence\n",
    "## Problem Statement:\n",
    "Write a function to reverse each word in a sentence while maintaining word order.\n",
    "\n",
    "## Example 1:\n",
    "**Input:** `\"hello world\"`  \n",
    "**Output:** `\"olleh dlrow\"`\n",
    "\n",
    "## Example 2:\n",
    "**Input:** `\"Python is fun\"`  \n",
    "**Output:** `\"nohtyP si nuf\"`\n"
   ]
  },
  {
   "cell_type": "code",
   "execution_count": 64,
   "id": "53eab569-3ea4-4e48-a585-6f729c5e2c69",
   "metadata": {},
   "outputs": [
    {
     "name": "stdout",
     "output_type": "stream",
     "text": [
      "Output = olleh dlrow\n"
     ]
    }
   ],
   "source": [
    "input = \"hello world\"\n",
    "\n",
    "\n",
    "temp = input.split()\n",
    "ans = []\n",
    "for x in temp:\n",
    "    ans.append(x[::-1])\n",
    "\n",
    "output = \" \".join(ans)\n",
    "\n",
    "print(\"Output =\",output)"
   ]
  },
  {
   "cell_type": "code",
   "execution_count": null,
   "id": "72bba1ec-96c7-41b3-976f-f8dbdbc8cec9",
   "metadata": {},
   "outputs": [],
   "source": []
  },
  {
   "cell_type": "markdown",
   "id": "c52682bf-2f05-4515-acce-192b91883858",
   "metadata": {},
   "source": [
    "# 14. Find the Longest Common Prefix of a List of Strings\n",
    "## Problem Statement:\n",
    "Write a function to find the longest common prefix among a list of strings.\n",
    "\n",
    "## Example 1:\n",
    "**Input:** `[\"flower\", \"flow\", \"flight\"]`  \n",
    "**Output:** `\"fl\"`\n",
    "\n",
    "## Example 2:\n",
    "**Input:** `[\"dog\", \"racecar\", \"car\"]`  \n",
    "**Output:** `\"\"`\n"
   ]
  },
  {
   "cell_type": "code",
   "execution_count": 70,
   "id": "c326e4fd-7ad6-4d3e-9bd9-f5b28114eeff",
   "metadata": {},
   "outputs": [
    {
     "name": "stdout",
     "output_type": "stream",
     "text": [
      "input = ['flow', 'flower', 'flight']\n",
      "output = fl\n"
     ]
    }
   ],
   "source": [
    "index = 0\n",
    "input = [\"flower\", \"flow\", \"flight\"]\n",
    "input = sorted(input, key=len)\n",
    "print(\"input =\",input)\n",
    "shortest = input[0]\n",
    "end = False\n",
    "for i in range(1, len(shortest) + 1):\n",
    "    prefix = shortest[:i]\n",
    "    # print(\"prefix =\",prefix)\n",
    "    for x in input:\n",
    "        if x[:i] != prefix:\n",
    "            end =  True\n",
    "            break\n",
    "    if end:\n",
    "        break\n",
    "    index = i\n",
    "output = shortest[:index]\n",
    "\n",
    "print(\"output =\",output)"
   ]
  },
  {
   "cell_type": "code",
   "execution_count": null,
   "id": "353a8f44-2487-4cc5-8c4a-0e24e8148a22",
   "metadata": {},
   "outputs": [],
   "source": []
  },
  {
   "cell_type": "markdown",
   "id": "b90c467f-001e-4a93-bfff-08bba1a3f703",
   "metadata": {},
   "source": [
    "# 15. Check if a String is a Rotation of Another String\n",
    "## Problem Statement:\n",
    "Write a function to check if one string is a rotation of another.\n",
    "\n",
    "## Example 1:\n",
    "**Input:** `\"waterbottle\", \"erbottlewat\"`  \n",
    "**Output:** `True`\n",
    "\n",
    "## Example 2:\n",
    "**Input:** `\"hello\", \"lohel\"`  \n",
    "**Output:** `True`\n"
   ]
  },
  {
   "cell_type": "code",
   "execution_count": 74,
   "id": "dcf4c6e8-8192-4cff-8d48-9226448d0ff2",
   "metadata": {},
   "outputs": [
    {
     "name": "stdout",
     "output_type": "stream",
     "text": [
      "output = True\n"
     ]
    }
   ],
   "source": [
    "def makeDict(word):\n",
    "    dictionary = {}\n",
    "    for s in word:\n",
    "        if s in dictionary:\n",
    "            dictionary[s] += 1\n",
    "        else:\n",
    "            dictionary[s] = 1\n",
    "    return dictionary\n",
    "\n",
    "str2 = \"waterbottle\"\n",
    "str1 = \"erbottlewat\"\n",
    "\n",
    "dict1 = makeDict(str1)\n",
    "dict2 = makeDict(str2)\n",
    "\n",
    "output = dict1 == dict2\n",
    "\n",
    "print(\"output =\",output)"
   ]
  },
  {
   "cell_type": "code",
   "execution_count": null,
   "id": "f8e70c6b-a474-4c93-82fc-e39811a5f637",
   "metadata": {},
   "outputs": [],
   "source": []
  },
  {
   "cell_type": "markdown",
   "id": "06d7a3d1-e01d-483d-95a9-30330f21440c",
   "metadata": {},
   "source": [
    "# 16. Find the Second Most Frequent Character in a String\n",
    "## Problem Statement:\n",
    "Write a function to find the second most frequent character in a string.\n",
    "\n",
    "## Example 1:\n",
    "**Input:** `\"banana\"`  \n",
    "**Output:** `\"n\"`\n",
    "\n",
    "## Example 2:\n",
    "**Input:** `\"mississippi\"`  \n",
    "**Output:** `\"s\"`\n"
   ]
  },
  {
   "cell_type": "code",
   "execution_count": 81,
   "id": "65a91520-9d70-4dc4-990a-931223a98b52",
   "metadata": {},
   "outputs": [
    {
     "name": "stdout",
     "output_type": "stream",
     "text": [
      "Output = s\n"
     ]
    }
   ],
   "source": [
    "def makeDict(word):\n",
    "    dictionary = {}\n",
    "    for s in word:\n",
    "        if s in dictionary:\n",
    "            dictionary[s] += 1\n",
    "        else:\n",
    "            dictionary[s] = 1\n",
    "    return dictionary\n",
    "\n",
    "input = \"mississippi\"\n",
    "dict1 = makeDict(input)\n",
    "output = dict(sorted(dict1.items(), key=lambda item: item[1], reverse=True))\n",
    "# print(\"Output =\",output)\n",
    "output = list(output.keys())[1]\n",
    "\n",
    "print(\"Output =\",output)"
   ]
  },
  {
   "cell_type": "code",
   "execution_count": null,
   "id": "2fba47a2-7db0-4fc0-9895-e157412acb93",
   "metadata": {},
   "outputs": [],
   "source": []
  },
  {
   "cell_type": "markdown",
   "id": "d262dac7-f41e-400d-bfd0-ea5057f5c922",
   "metadata": {},
   "source": [
    "# 17. Check if a String is Made of Unique Characters\n",
    "## Problem Statement:\n",
    "Write a function to check if a string contains only unique characters.\n",
    "\n",
    "## Example 1:\n",
    "**Input:** `\"abcdef\"`  \n",
    "**Output:** `True`\n",
    "\n",
    "## Example 2:\n",
    "**Input:** `\"aabbcc\"`  \n",
    "**Output:** `False`\n"
   ]
  },
  {
   "cell_type": "code",
   "execution_count": 83,
   "id": "253be31b-7673-4b81-95e9-cb1cd09c48fb",
   "metadata": {},
   "outputs": [
    {
     "name": "stdout",
     "output_type": "stream",
     "text": [
      "ans = False\n"
     ]
    }
   ],
   "source": [
    "def makeDict(word):\n",
    "    dictionary = {}\n",
    "    for s in word:\n",
    "        if s in dictionary:\n",
    "            dictionary[s] += 1\n",
    "        else:\n",
    "            dictionary[s] = 1\n",
    "    return dictionary\n",
    "\n",
    "input = \"aabbcc\"\n",
    "dict1 = makeDict(input)\n",
    "ans = True\n",
    "for x in dict1:\n",
    "    if dict1[x] > 1:\n",
    "        ans = False\n",
    "print(\"ans =\",ans)"
   ]
  },
  {
   "cell_type": "code",
   "execution_count": null,
   "id": "80463995-b332-445c-9ed8-201e2e2caf7f",
   "metadata": {},
   "outputs": [],
   "source": []
  },
  {
   "cell_type": "markdown",
   "id": "739f0939-b81a-45d4-8cd2-d0659268711c",
   "metadata": {},
   "source": [
    "# 18. Find the Longest Palindromic Substring\n",
    "## Problem Statement:\n",
    "Write a function to find the longest palindromic substring.\n",
    "\n",
    "## Example 1:\n",
    "**Input:** `\"babad\"`  \n",
    "**Output:** `\"bab\"`\n",
    "\n",
    "## Example 2:\n",
    "**Input:** `\"cbbd\"`  \n",
    "**Output:** `\"bb\"`\n"
   ]
  },
  {
   "cell_type": "code",
   "execution_count": 99,
   "id": "dd923018-aa4a-4cb2-98e0-6628d8b3b400",
   "metadata": {},
   "outputs": [
    {
     "name": "stdout",
     "output_type": "stream",
     "text": [
      "output = bab\n"
     ]
    }
   ],
   "source": [
    "input = \"babad\"\n",
    "all_sub_strings = []\n",
    "\n",
    "for i in range(len(input)):\n",
    "    for j in range(i+1, len(input)+1):\n",
    "        all_sub_strings.append(input[i:j])\n",
    "\n",
    "def findPalindrome(input):\n",
    "    if len(input) <= 1:\n",
    "        return False\n",
    "    mid = len(input) // 2\n",
    "    end = len(input) - 1\n",
    "    for i in range(mid):\n",
    "        if input[i] != input[end]:\n",
    "            return False\n",
    "        end -= 1\n",
    "    return True\n",
    "    \n",
    "# print(\"all_sub_strings =\",all_sub_strings)\n",
    "\n",
    "palindrome_list = [x for x in all_sub_strings if findPalindrome(x)]\n",
    "# print(\"palindrome_list =\",palindrome_list)\n",
    "\n",
    "final_list = sorted(palindrome_list, key=len)\n",
    "output = final_list[0]\n",
    "print(\"output =\",output)"
   ]
  },
  {
   "cell_type": "code",
   "execution_count": null,
   "id": "02c1d0bc-c2b1-433e-a610-4d621d65e934",
   "metadata": {},
   "outputs": [],
   "source": []
  },
  {
   "cell_type": "markdown",
   "id": "9e48cf7b-b799-4574-984c-51fc15661b16",
   "metadata": {},
   "source": [
    "# 19. Remove Duplicate Characters from a String\n",
    "## Problem Statement:\n",
    "Write a function to remove duplicate characters from a string.\n",
    "\n",
    "## Example 1:\n",
    "**Input:** `\"hello\"`  \n",
    "**Output:** `\"helo\"`\n",
    "\n",
    "## Example 2:\n",
    "**Input:** `\"mississippi\"`  \n",
    "**Output:** `\"misp\"`\n"
   ]
  },
  {
   "cell_type": "code",
   "execution_count": 100,
   "id": "932536b6-b58c-47d8-897e-10aba10d5654",
   "metadata": {},
   "outputs": [
    {
     "name": "stdout",
     "output_type": "stream",
     "text": [
      "output = misp\n"
     ]
    }
   ],
   "source": [
    "input = \"mississippi\"\n",
    "seen = set()\n",
    "ans = []\n",
    "\n",
    "for s in input:\n",
    "    if s not in seen:\n",
    "        ans.append(s)\n",
    "        seen.add(s)\n",
    "output = \"\".join(ans)\n",
    "print(\"output =\",output)"
   ]
  },
  {
   "cell_type": "code",
   "execution_count": null,
   "id": "ec288297-0e2a-4465-898b-39c002bed301",
   "metadata": {},
   "outputs": [],
   "source": []
  },
  {
   "cell_type": "markdown",
   "id": "a9abec9d-c0c3-4425-a1c6-e42342e3757a",
   "metadata": {},
   "source": [
    "# 20. Sort a String Alphabetically\n",
    "## Problem Statement:\n",
    "Write a function to sort the characters of a string alphabetically.\n",
    "\n",
    "## Example 1:\n",
    "**Input:** `\"hello\"`  \n",
    "**Output:** `\"ehllo\"`\n",
    "\n",
    "## Example 2:\n",
    "**Input:** `\"python\"`  \n",
    "**Output:** `\"hnopty\"`\n"
   ]
  },
  {
   "cell_type": "code",
   "execution_count": 104,
   "id": "9b881c5a-7e0c-4785-a2d6-f700725fad3d",
   "metadata": {},
   "outputs": [
    {
     "name": "stdout",
     "output_type": "stream",
     "text": [
      "output = ehllo\n"
     ]
    }
   ],
   "source": [
    "input = \"hello\"\n",
    "word_list = []\n",
    "\n",
    "for s in input:\n",
    "    word_list.append([s,ord(s)])\n",
    "\n",
    "word_list = sorted(word_list, key= lambda item: item[1])\n",
    "\n",
    "ans = []\n",
    "for x in word_list:\n",
    "    ans.append(x[0])\n",
    "output = ''.join(ans)\n",
    "print(\"output =\",output)"
   ]
  },
  {
   "cell_type": "code",
   "execution_count": null,
   "id": "4f23c52f-0cb4-4dc7-a06d-be464656fda3",
   "metadata": {},
   "outputs": [],
   "source": []
  },
  {
   "cell_type": "markdown",
   "id": "f267b2f8-c7f6-4295-a7b0-c89af5cf5807",
   "metadata": {},
   "source": [
    "# 21. Find the Smallest Window in a String Containing All Characters of Another String\n",
    "## Problem Statement:\n",
    "Write a function to find the smallest window in a string that contains all characters of another string.\n",
    "\n",
    "## Example 1:\n",
    "**Input:** `\"ADOBECODEBANC\", \"ABC\"`  \n",
    "**Output:** `\"BANC\"`\n",
    "\n",
    "## Example 2:\n",
    "**Input:** `\"aabbcc\", \"abc\"`  \n",
    "**Output:** `\"abc\"`\n"
   ]
  },
  {
   "cell_type": "code",
   "execution_count": null,
   "id": "8145837e-3cc3-43a5-9875-f955033aaf09",
   "metadata": {},
   "outputs": [],
   "source": []
  },
  {
   "cell_type": "code",
   "execution_count": null,
   "id": "08fc97e2-2eee-4b3f-850c-59e547121d25",
   "metadata": {},
   "outputs": [],
   "source": []
  },
  {
   "cell_type": "markdown",
   "id": "823be7b2-27f6-40df-82b2-f1f2b69bc1cb",
   "metadata": {},
   "source": [
    "# 22. Implement Run-Length Encoding\n",
    "## Problem Statement:\n",
    "Write a function to perform run-length encoding on a string.\n",
    "\n",
    "## Example 1:\n",
    "**Input:** `\"aaabbc\"`  \n",
    "**Output:** `\"3a2b1c\"`\n",
    "\n",
    "## Example 2:\n",
    "**Input:** `\"wwwwaaadexxxxxx\"`  \n",
    "**Output:** `\"4w3a1d1e6x\"`\n"
   ]
  },
  {
   "cell_type": "code",
   "execution_count": null,
   "id": "e127c6b1-57fd-40cb-aac5-9e07cef586d2",
   "metadata": {},
   "outputs": [],
   "source": [
    "count = 0\n",
    "last = None\n",
    "input = \"wwwwaaadexxxxxx\"\n",
    "\n",
    "for s in input:\n",
    "    "
   ]
  },
  {
   "cell_type": "code",
   "execution_count": null,
   "id": "3470d46e-444c-43be-b517-730824de2300",
   "metadata": {},
   "outputs": [],
   "source": []
  },
  {
   "cell_type": "markdown",
   "id": "fbe98b17-13c7-4f56-93db-d8056113af31",
   "metadata": {},
   "source": [
    "# 23. Find All Permutations of a String\n",
    "## Problem Statement:\n",
    "Write a function to generate all permutations of a given string.\n",
    "\n",
    "## Example 1:\n",
    "**Input:** `\"abc\"`  \n",
    "**Output:** `[\"abc\", \"acb\", \"bac\", \"bca\", \"cab\", \"cba\"]`\n",
    "\n",
    "## Example 2:\n",
    "**Input:** `\"ab\"`  \n",
    "**Output:** `[\"ab\", \"ba\"]`\n"
   ]
  },
  {
   "cell_type": "code",
   "execution_count": null,
   "id": "101a8feb-61e0-4a97-a122-f5de229e6817",
   "metadata": {},
   "outputs": [],
   "source": []
  },
  {
   "cell_type": "code",
   "execution_count": null,
   "id": "ff510bea-3648-446b-93c8-aa5246b38c50",
   "metadata": {},
   "outputs": [],
   "source": []
  },
  {
   "cell_type": "markdown",
   "id": "1064221e-a51f-46b1-afea-c37505d3b68b",
   "metadata": {},
   "source": [
    "# 24. Count the Number of Distinct Subsequences of a String\n",
    "## Problem Statement:\n",
    "Write a function to count the number of distinct subsequences of a string.\n",
    "\n",
    "## Example 1:\n",
    "**Input:** `\"abc\"`  \n",
    "**Output:** `7`\n",
    "\n",
    "## Example 2:\n",
    "**Input:** `\"aaa\"`  \n",
    "**Output:** `3`\n"
   ]
  },
  {
   "cell_type": "code",
   "execution_count": null,
   "id": "fb9c8ffe-7045-446c-9033-c88601f25969",
   "metadata": {},
   "outputs": [],
   "source": []
  },
  {
   "cell_type": "code",
   "execution_count": null,
   "id": "9740cb31-5aa2-431e-9c3d-9822cf1521ac",
   "metadata": {},
   "outputs": [],
   "source": []
  },
  {
   "cell_type": "markdown",
   "id": "2fd59b75-b80f-466c-9517-34c927e66134",
   "metadata": {},
   "source": [
    "# 25. Find the Shortest Superstring That Contains All Given Strings as Subsequences\n",
    "## Problem Statement:\n",
    "Write a function to find the shortest superstring that contains all given strings as subsequences.\n",
    "\n",
    "## Example 1:\n",
    "**Input:** `[\"catg\", \"ctaagt\", \"gcta\", \"ttca\", \"atgcatc\"]`  \n",
    "**Output:** `\"gctaagttcatgcatc\"`\n",
    "\n",
    "## Example 2:\n",
    "**Input:** `[\"abc\", \"bca\", \"cab\"]`  \n",
    "**Output:** `\"abcab\"`\n"
   ]
  },
  {
   "cell_type": "code",
   "execution_count": null,
   "id": "c4340296-fcc3-45e5-a27c-8706d0c53502",
   "metadata": {},
   "outputs": [],
   "source": []
  },
  {
   "cell_type": "code",
   "execution_count": null,
   "id": "74cff6c2-11a5-42c4-9a16-f649cd8c7e10",
   "metadata": {},
   "outputs": [],
   "source": []
  }
 ],
 "metadata": {
  "kernelspec": {
   "display_name": "Python 3 (ipykernel)",
   "language": "python",
   "name": "python3"
  },
  "language_info": {
   "codemirror_mode": {
    "name": "ipython",
    "version": 3
   },
   "file_extension": ".py",
   "mimetype": "text/x-python",
   "name": "python",
   "nbconvert_exporter": "python",
   "pygments_lexer": "ipython3",
   "version": "3.13.5"
  }
 },
 "nbformat": 4,
 "nbformat_minor": 5
}
