{
 "cells": [
  {
   "cell_type": "code",
   "execution_count": null,
   "id": "cced9c16-5530-4abf-b229-9412a9d45beb",
   "metadata": {},
   "outputs": [],
   "source": [
    "# Task: Group words that are anagrams of each other.\n",
    "# Input: [\"bat\", \"tab\", \"tap\", \"pat\", \"cat\"]\n",
    "# Output: [[\"bat\", \"tab\"], [\"tap\", \"pat\"], [\"cat\"]]"
   ]
  },
  {
   "cell_type": "code",
   "execution_count": 6,
   "id": "02f49bdc-531d-4a6a-8126-ea7c348c3b97",
   "metadata": {},
   "outputs": [
    {
     "name": "stdout",
     "output_type": "stream",
     "text": [
      "output = [['bat', 'tab', 'abt'], ['tap', 'pat'], ['cat', 'tac']]\n"
     ]
    }
   ],
   "source": [
    "def makeDict(word):\n",
    "    dictionary = {}\n",
    "    for s in word:\n",
    "        if s in dictionary:\n",
    "            dictionary[s] += 1\n",
    "        else:\n",
    "            dictionary[s] = 1\n",
    "    return dictionary\n",
    "def groupAnagrams(arr):\n",
    "    ans = []\n",
    "    seen = []\n",
    "    for word in arr:\n",
    "        curr_dict = makeDict(word)\n",
    "        if curr_dict in seen:\n",
    "            for i,lst in enumerate(ans):\n",
    "                seen_dict = makeDict(lst[0])\n",
    "                if seen_dict == curr_dict:\n",
    "                    ans[i].append(word)\n",
    "        else:\n",
    "            ans.append([word])\n",
    "            seen.append(curr_dict)\n",
    "        \n",
    "    return ans\n",
    "\n",
    "input = [\"bat\", \"tab\", \"tap\", \"pat\", \"cat\", \"tac\",\"abt\"]\n",
    "output = groupAnagrams(input)\n",
    "print(\"output =\",output)"
   ]
  },
  {
   "cell_type": "code",
   "execution_count": 7,
   "id": "ccbb56ab-6260-4b0e-985f-9f3e5db3936c",
   "metadata": {},
   "outputs": [],
   "source": [
    "# Task: Transpose a 2D matrix using pure Python (without NumPy).\n",
    "# Input: [[1, 2, 3], [4, 5, 6]]\n",
    "# Output: [[1, 4], [2, 5], [3, 6]]"
   ]
  },
  {
   "cell_type": "code",
   "execution_count": 27,
   "id": "c6a442dd-8b82-432b-a3aa-fb4a50003174",
   "metadata": {},
   "outputs": [
    {
     "name": "stdout",
     "output_type": "stream",
     "text": [
      "ans = [[1, 4], [2, 5], [3, 6]]\n",
      "output = [[1, 4], [2, 5], [3, 6]]\n"
     ]
    }
   ],
   "source": [
    "def transpose(arr):\n",
    "    row_size = len(arr)\n",
    "    col_size = len(arr[0])\n",
    "\n",
    "    ans = []\n",
    "    for i in range(col_size):\n",
    "        ans.append([])\n",
    "        for j in range(row_size):\n",
    "            ans[i].append(0)\n",
    "    \n",
    "    for i in range(col_size):\n",
    "        \n",
    "        for j in range(row_size):\n",
    "            ans[i][j] = arr[j][i]\n",
    "            \n",
    "    print(\"ans =\",ans)\n",
    "\n",
    "    return ans\n",
    "\n",
    "input = [[1, 2, 3], [4, 5, 6]]\n",
    "output = transpose(input)\n",
    "\n",
    "print(\"output =\",output)"
   ]
  },
  {
   "cell_type": "code",
   "execution_count": 11,
   "id": "880713eb-1512-4ff2-8fd5-1a3e8c400136",
   "metadata": {},
   "outputs": [],
   "source": [
    "# Task: Create an iterator that returns prime numbers up to n.\n",
    "# Input: n = 10\n",
    "# Output: [2, 3, 5, 7]"
   ]
  },
  {
   "cell_type": "code",
   "execution_count": 30,
   "id": "a7e11749-af3f-4f31-85dc-09b5dabd8f1e",
   "metadata": {},
   "outputs": [
    {
     "name": "stdout",
     "output_type": "stream",
     "text": [
      "output = [2, 3, 5, 7, 11, 13, 17, 19]\n"
     ]
    }
   ],
   "source": [
    "def isPrimeNumber(num):\n",
    "    half = num // 2 + 1\n",
    "    for i in range(2,half):\n",
    "        if num % i == 0:\n",
    "            # print(\"num =\",num,\"divider =\",i)\n",
    "            return False\n",
    "    return True\n",
    "def iteratorPrimeNumbers(n):\n",
    "    ans = []\n",
    "    for i in range(2,n+1):\n",
    "        # print(\"curr num =\",i)\n",
    "        isPrime = isPrimeNumber(i)\n",
    "        if isPrime:\n",
    "            ans.append(i)\n",
    "    return iter(ans)\n",
    "\n",
    "input =20\n",
    "output = iteratorPrimeNumbers(input)\n",
    "ans = []\n",
    "for num in output:\n",
    "    ans.append(num)\n",
    "print(\"output =\",ans)"
   ]
  },
  {
   "cell_type": "code",
   "execution_count": null,
   "id": "3b7b9d76-ce99-4cf2-af6a-1b3ae1c43368",
   "metadata": {},
   "outputs": [],
   "source": []
  }
 ],
 "metadata": {
  "kernelspec": {
   "display_name": "Python 3 (ipykernel)",
   "language": "python",
   "name": "python3"
  },
  "language_info": {
   "codemirror_mode": {
    "name": "ipython",
    "version": 3
   },
   "file_extension": ".py",
   "mimetype": "text/x-python",
   "name": "python",
   "nbconvert_exporter": "python",
   "pygments_lexer": "ipython3",
   "version": "3.13.5"
  }
 },
 "nbformat": 4,
 "nbformat_minor": 5
}
