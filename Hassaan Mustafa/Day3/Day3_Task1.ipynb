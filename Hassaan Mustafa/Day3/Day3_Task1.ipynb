{
 "cells": [
  {
   "cell_type": "markdown",
   "id": "f9f21521-d85b-4bb7-9c3e-bc2639f4aeff",
   "metadata": {},
   "source": [
    "# Day 3 Begins"
   ]
  },
  {
   "cell_type": "markdown",
   "id": "448e2525-ee36-4aad-a0a4-838428ca6590",
   "metadata": {},
   "source": [
    "Warm-up Problems\n",
    "Problem Statement:\n",
    "Write a function that compresses a string using the counts of repeated characters.\n",
    "If the compressed string is not smaller than the original, return the original.\n",
    "Example:\n",
    "Input: \"aaabbccccaaa\"\n",
    "Output: \"a3b2c4a3\"\n",
    "Input: \"abc\"\n",
    "Output: \"abc\"\n"
   ]
  },
  {
   "cell_type": "code",
   "execution_count": 64,
   "id": "c379f5f3-3144-4445-bc0d-25c484dadfb6",
   "metadata": {},
   "outputs": [
    {
     "data": {
      "text/plain": [
       "'a3b2c4a3'"
      ]
     },
     "execution_count": 64,
     "metadata": {},
     "output_type": "execute_result"
    }
   ],
   "source": [
    "def Compress(str1):\n",
    "    ans = \"\"\n",
    "    count = 1\n",
    "\n",
    "    for x in range(len(str1) - 1):\n",
    "        if str1[x] == str1[x+1]:\n",
    "            count += 1\n",
    "        else:\n",
    "            ans += str1[x] + str(count)\n",
    "            count = 1\n",
    "\n",
    "    if str1[-1] != ans[-2]:\n",
    "        ans += str1[-1] + str(count)\n",
    "\n",
    "    return ans\n",
    "\n",
    "Compress(\"aaabbccccaaa\")"
   ]
  },
  {
   "cell_type": "markdown",
   "id": "4b370b28-21a4-42b8-a534-fcb49b3e04d2",
   "metadata": {},
   "source": [
    "Problem Statement:\n",
    " Write a function to flatten a nested list of strings\n",
    "Example:\n",
    "input = [ 'nata', 'pizza' [ 'eat', 'tea' ], ['sort'] ]\n",
    "output [ nata', 'pizza' , ‘eat', 'tea', 'sort']\n"
   ]
  },
  {
   "cell_type": "code",
   "execution_count": 11,
   "id": "e262141c-f936-4b44-8932-f4f2ce4cab1b",
   "metadata": {},
   "outputs": [
    {
     "name": "stdout",
     "output_type": "stream",
     "text": [
      "['nata', 'pizza', 'eat', 'tea', 'sort']\n",
      "None\n"
     ]
    }
   ],
   "source": [
    "def Flatten(lis):\n",
    "    flat = []\n",
    "    for x in lis:\n",
    "        if type(x) != list:\n",
    "            flat.append(x)\n",
    "        else:\n",
    "            for y in x:\n",
    "                flat.append(y)\n",
    "    print(flat)\n",
    "\n",
    "lis =  ['nata', 'pizza',[ 'eat', 'tea' ],['sort']]\n",
    "print(Flatten(lis))"
   ]
  },
  {
   "cell_type": "markdown",
   "id": "3208e983-6ad1-40e4-ad1c-a1979d9d55c7",
   "metadata": {},
   "source": [
    "Problem Statement:\n",
    " Given a list of strings, group them into anagrams (words with the same letters in different order).\n",
    "Example:\n",
    "Input: [\"bat\", \"tab\", \"eat\", \"tea\", \"tan\", \"nat\"]\n",
    "Output: [['bat', 'tab'], ['eat', 'tea'], ['tan', 'nat']]\n"
   ]
  },
  {
   "cell_type": "code",
   "execution_count": 59,
   "id": "9a21a23a-2243-4ddf-97c5-b91bfa2f93db",
   "metadata": {},
   "outputs": [
    {
     "data": {
      "text/plain": [
       "[['bat', 'tab'], ['eat', 'tea'], ['tan', 'nat']]"
      ]
     },
     "execution_count": 59,
     "metadata": {},
     "output_type": "execute_result"
    }
   ],
   "source": [
    "def Anagram(lis):\n",
    "    anagram_groups = {}\n",
    "    for word in lis:\n",
    "        sort_word = \"\".join(sorted(word.lower()))\n",
    "        if sort_word in anagram_groups:\n",
    "            anagram_groups[sort_word].append(word)\n",
    "        else:\n",
    "            anagram_groups[sort_word] = [word]\n",
    "\n",
    "    return list(anagram_groups.values())\n",
    "\n",
    "Anagram([\"bat\", \"tab\", \"eat\", \"tea\", \"tan\", \"nat\"])"
   ]
  },
  {
   "cell_type": "markdown",
   "id": "6e9ec077-cd1f-4298-824a-69bd686179af",
   "metadata": {},
   "source": [
    "Problem Statement:\n",
    "Write a function that takes a string and returns the top 3 most frequent words in it (ignoring case and punctuation).\n",
    "Example:\n",
    "Input: \"The quick brown fox jumps over the lazy dog. The dog barked.\"\n",
    "Output: ['the', 'dog', 'quick']  # frequency: the(3), dog(2), quick(1)"
   ]
  },
  {
   "cell_type": "code",
   "execution_count": 35,
   "id": "3a1c8c38-f4d1-4dab-95a2-fd6f177442ee",
   "metadata": {},
   "outputs": [
    {
     "data": {
      "text/plain": [
       "{'the': 3, 'dog': 2, 'quick': 1}"
      ]
     },
     "execution_count": 35,
     "metadata": {},
     "output_type": "execute_result"
    }
   ],
   "source": [
    "def FreqWords(str1):\n",
    "    word = \"\"\n",
    "    freq = {}\n",
    "    ans = {}\n",
    "    for x in str1:\n",
    "        if x != \" \":\n",
    "            word += x.lower()\n",
    "        else:\n",
    "            if word[-1] == \".\":\n",
    "                word2 = word[:-1:]\n",
    "                word = word2\n",
    "            if word not in freq:\n",
    "                freq[word] = 1\n",
    "                word = \"\"\n",
    "            else:\n",
    "                freq[word] += 1\n",
    "                word = \"\"\n",
    "\n",
    "    sort_freq = dict(sorted(freq.items(), key = lambda i: i[1], reverse = True))\n",
    "    \n",
    "    count = 0\n",
    "    for x in sort_freq:\n",
    "        if count > 2:\n",
    "            break\n",
    "        else:\n",
    "            ans[x] = sort_freq[x]\n",
    "            count += 1\n",
    "    return ans\n",
    "    \n",
    "FreqWords(\"The quick brown fox jumps over the lazy dog. The dog barked.\")"
   ]
  },
  {
   "cell_type": "code",
   "execution_count": null,
   "id": "5dc7eeaf-0546-4361-ab98-b0ef1020c9e8",
   "metadata": {},
   "outputs": [],
   "source": []
  }
 ],
 "metadata": {
  "kernelspec": {
   "display_name": "Python 3 (ipykernel)",
   "language": "python",
   "name": "python3"
  },
  "language_info": {
   "codemirror_mode": {
    "name": "ipython",
    "version": 3
   },
   "file_extension": ".py",
   "mimetype": "text/x-python",
   "name": "python",
   "nbconvert_exporter": "python",
   "pygments_lexer": "ipython3",
   "version": "3.13.5"
  }
 },
 "nbformat": 4,
 "nbformat_minor": 5
}
