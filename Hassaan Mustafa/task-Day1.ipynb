{
 "cells": [
  {
   "cell_type": "code",
   "execution_count": 1,
   "id": "1183483c-42c9-45c8-9389-1e52bba38259",
   "metadata": {},
   "outputs": [
    {
     "data": {
      "text/plain": [
       "'\\nReverse a String\\nTask: Write a function that takes a string and returns it reversed.\\nInput: \"hello\"\\nOutput: \"olleh\"\\n'"
      ]
     },
     "execution_count": 1,
     "metadata": {},
     "output_type": "execute_result"
    }
   ],
   "source": [
    "\"\"\"\n",
    "Reverse a String\n",
    "Task: Write a function that takes a string and returns it reversed.\n",
    "Input: \"hello\"\n",
    "Output: \"olleh\"\n",
    "\"\"\""
   ]
  },
  {
   "cell_type": "code",
   "execution_count": 2,
   "id": "b66e7533-c56a-4f54-af82-ce169b5d839c",
   "metadata": {},
   "outputs": [
    {
     "name": "stdout",
     "output_type": "stream",
     "text": [
      "apaP\n"
     ]
    }
   ],
   "source": [
    "def Reverse(inp_str):\n",
    "    rev = \"\"\n",
    "    rev += inp_str[::-1]\n",
    "\n",
    "    return rev\n",
    "\n",
    "print(Reverse(\"Papa\"))"
   ]
  },
  {
   "cell_type": "code",
   "execution_count": null,
   "id": "2c33e166-d977-4b77-b26f-652d8aabd3f1",
   "metadata": {},
   "outputs": [],
   "source": []
  },
  {
   "cell_type": "code",
   "execution_count": 3,
   "id": "89bb29e8-60c9-407d-b57f-004174e83688",
   "metadata": {},
   "outputs": [
    {
     "ename": "SyntaxError",
     "evalue": "invalid syntax (2304451560.py, line 1)",
     "output_type": "error",
     "traceback": [
      "  \u001b[36mCell\u001b[39m\u001b[36m \u001b[39m\u001b[32mIn[3]\u001b[39m\u001b[32m, line 1\u001b[39m\n\u001b[31m    \u001b[39m\u001b[31mCount Vowels\u001b[39m\n          ^\n\u001b[31mSyntaxError\u001b[39m\u001b[31m:\u001b[39m invalid syntax\n"
     ]
    }
   ],
   "source": [
    "\n",
    "Count Vowels\n",
    "Task: Count the number of vowels in a given lowercase string.\n",
    "Input: \"data science\"\n",
    "Output: 5\n"
   ]
  },
  {
   "cell_type": "code",
   "execution_count": null,
   "id": "e0a7213b-1b90-4cb6-be72-61fd6cd361f4",
   "metadata": {},
   "outputs": [
    {
     "name": "stdout",
     "output_type": "stream",
     "text": [
      "4\n"
     ]
    }
   ],
   "source": [
    "def CountVowels(inp_str):\n",
    "    inp_str = inp_str.lower()\n",
    "    count = 0\n",
    "    for char in inp_str:\n",
    "        if char == \"a\" or char == \"e\" or char == \"i\" or char == \"o\" or char == \"u\":\n",
    "            count += 1\n",
    "    return count\n",
    "\n",
    "print(CountVowels(\"aefou\"))"
   ]
  },
  {
   "cell_type": "code",
   "execution_count": null,
   "id": "df1524cc-9b19-4c77-9489-d4954a87d710",
   "metadata": {},
   "outputs": [],
   "source": []
  },
  {
   "cell_type": "code",
   "execution_count": null,
   "id": "69897ddc-f3e6-49c9-8056-80548e78802c",
   "metadata": {},
   "outputs": [],
   "source": [
    "\n",
    "Sum of List\n",
    "Task: Return the sum of all numbers in a given list.\n",
    "Input: [1, 2, 3, 4, 5]\n",
    "Output: 15\n"
   ]
  },
  {
   "cell_type": "code",
   "execution_count": null,
   "id": "4cd26186-fe9d-4058-94a5-c68a0b3ab9b3",
   "metadata": {},
   "outputs": [
    {
     "name": "stdout",
     "output_type": "stream",
     "text": [
      "15\n"
     ]
    }
   ],
   "source": [
    "def Sum(lis):\n",
    "    sum_val = 0\n",
    "    for val in lis:\n",
    "        sum_val += val\n",
    "    return sum_val\n",
    "\n",
    "list1 = [1,2,3,4,5]\n",
    "print(Sum(list1))"
   ]
  },
  {
   "cell_type": "code",
   "execution_count": null,
   "id": "91412f9b-0d58-422a-9afa-28b9f62bc568",
   "metadata": {},
   "outputs": [],
   "source": []
  },
  {
   "cell_type": "code",
   "execution_count": null,
   "id": "e74f93d4-98a8-4121-a496-5ad60a4c2606",
   "metadata": {},
   "outputs": [],
   "source": [
    "\n",
    "Check Palindrome\n",
    "Task: Return True if the given string is a palindrome, otherwise False.\n",
    "Input: \"madam\"\n",
    "Output: True\n"
   ]
  },
  {
   "cell_type": "code",
   "execution_count": null,
   "id": "4f6e4be3-3272-4eff-a8e5-c1b8310ece43",
   "metadata": {},
   "outputs": [
    {
     "name": "stdout",
     "output_type": "stream",
     "text": [
      "False\n"
     ]
    }
   ],
   "source": [
    "def IsPalindrome(inp_str):\n",
    "    ans = False\n",
    "    rev_str = \"\"\n",
    "    rev_str += inp_str[::-1]\n",
    "\n",
    "    if rev_str == inp_str:\n",
    "        ans = True\n",
    "\n",
    "    return ans\n",
    "\n",
    "print(IsPalindrome(\"madm\"))"
   ]
  },
  {
   "cell_type": "code",
   "execution_count": null,
   "id": "1a6ed159-fab0-458f-a5c0-4b1ab7d88ea7",
   "metadata": {},
   "outputs": [],
   "source": []
  },
  {
   "cell_type": "code",
   "execution_count": null,
   "id": "a5e05de0-8554-4151-8c5a-f26e811e606a",
   "metadata": {},
   "outputs": [],
   "source": [
    "\n",
    "Remove Duplicates from List\n",
    "Task: Remove duplicates from a list while preserving order.\n",
    "Input: [1, 3, 2, 1, 3, 4]\n",
    "Output: [1, 3, 2, 4]\n"
   ]
  },
  {
   "cell_type": "code",
   "execution_count": null,
   "id": "59df84ae-2f24-4565-8c18-e25563ea319c",
   "metadata": {},
   "outputs": [
    {
     "name": "stdout",
     "output_type": "stream",
     "text": [
      "[1, 3, 2, 4]\n"
     ]
    }
   ],
   "source": [
    "def DupRemover(lis):\n",
    "    val_lis = []\n",
    "    for x in lis:\n",
    "        if x not in val_lis:\n",
    "            val_lis.append(x)\n",
    "    \n",
    "    lis = val_lis\n",
    "    return lis\n",
    "\n",
    "lis1 = [1,3,2,1,3,4]\n",
    "print(DupRemover(lis1))"
   ]
  },
  {
   "cell_type": "code",
   "execution_count": null,
   "id": "2a76caf8-a071-45df-ba77-fc16001fac02",
   "metadata": {},
   "outputs": [],
   "source": []
  },
  {
   "cell_type": "code",
   "execution_count": null,
   "id": "9a42408b-0505-40fd-8c59-44b397bc4fbd",
   "metadata": {},
   "outputs": [],
   "source": [
    "\n",
    "Word Frequency Counter\n",
    "Task: Count the frequency of each word in a string and return a dictionary.\n",
    "Input: \"apple banana apple orange\"\n",
    "Output: {'apple': 2, 'banana': 1, 'orange': 1}\n"
   ]
  },
  {
   "cell_type": "code",
   "execution_count": 10,
   "id": "8644b9b7-4709-4c08-bbec-18f738efba70",
   "metadata": {},
   "outputs": [
    {
     "name": "stdout",
     "output_type": "stream",
     "text": [
      "{'apple': 2, 'banana': 1, 'orange': 1}\n"
     ]
    }
   ],
   "source": [
    "def freqCount(inp_str):\n",
    "    word = \"\"\n",
    "    out_dict = {}\n",
    "    for x in inp_str:\n",
    "        if x == \" \":\n",
    "            if word in out_dict:\n",
    "                out_dict[word] += 1\n",
    "            else:\n",
    "                out_dict[word] = 1\n",
    "            word = \"\"\n",
    "\n",
    "        else:\n",
    "            word += x\n",
    "    \n",
    "    if word:\n",
    "        if word in out_dict:\n",
    "                out_dict[word] += 1\n",
    "        else:\n",
    "            out_dict[word] = 1\n",
    "\n",
    "    return out_dict\n",
    "\n",
    "inp_str = \"apple banana apple orange\"\n",
    "print(freqCount(inp_str))"
   ]
  },
  {
   "cell_type": "code",
   "execution_count": null,
   "id": "c8d74d2d-6589-4ec2-b245-d610b275cdf0",
   "metadata": {},
   "outputs": [],
   "source": []
  },
  {
   "cell_type": "code",
   "execution_count": null,
   "id": "4dd36627-2e02-4089-982c-29dfd159e8ba",
   "metadata": {},
   "outputs": [],
   "source": [
    "\n",
    "List of Even Squares\n",
    "Task: Return a list of squares of even numbers from a given list.\n",
    "Input: [1, 2, 3, 4, 5]\n",
    "Output: [4, 16]\n"
   ]
  },
  {
   "cell_type": "code",
   "execution_count": null,
   "id": "155a36e4-922f-45e4-84d4-f45c27e4012d",
   "metadata": {},
   "outputs": [
    {
     "name": "stdout",
     "output_type": "stream",
     "text": [
      "[4, 16]\n"
     ]
    }
   ],
   "source": [
    "def Squares(lis):\n",
    "    sqr_lis = []\n",
    "    for x in lis:\n",
    "        if x % 2 == 0:\n",
    "            sqr_lis.append(x ** 2)\n",
    "\n",
    "    return sqr_lis\n",
    "\n",
    "lis = [1, 2, 3, 4, 5]\n",
    "print(Squares(lis))"
   ]
  },
  {
   "cell_type": "code",
   "execution_count": null,
   "id": "3f2f1a1a-3e58-493a-8242-363bb1a04efd",
   "metadata": {},
   "outputs": [],
   "source": []
  },
  {
   "cell_type": "code",
   "execution_count": null,
   "id": "9d3fbc28-a3f5-4192-9144-0aea26686ff3",
   "metadata": {},
   "outputs": [],
   "source": [
    "\n",
    "Flatten Nested List\n",
    "Task: Flatten a 2D list into a 1D list.\n",
    "Input: [[1, 2], [3, 4], [5]]\n",
    "Output: [1, 2, 3, 4, 5]\n"
   ]
  },
  {
   "cell_type": "code",
   "execution_count": null,
   "id": "1fd277b2-c308-45f9-b961-5e16e1508536",
   "metadata": {},
   "outputs": [
    {
     "name": "stdout",
     "output_type": "stream",
     "text": [
      "[1, 2, 3, 4, 5]\n"
     ]
    }
   ],
   "source": [
    "def Flatten(lis):\n",
    "    flat = []\n",
    "    for x in lis:\n",
    "        for y in x:\n",
    "            flat.append(y)\n",
    "    \n",
    "    return flat\n",
    "\n",
    "lis = [[1, 2], [3, 4], [5]]\n",
    "print(Flatten(lis))"
   ]
  },
  {
   "cell_type": "code",
   "execution_count": null,
   "id": "3a7499a2-0b17-4823-93c4-b6c895fd988b",
   "metadata": {},
   "outputs": [],
   "source": []
  },
  {
   "cell_type": "code",
   "execution_count": null,
   "id": "1c24534e-5cb9-47c4-bf1f-603448014652",
   "metadata": {},
   "outputs": [],
   "source": [
    "\n",
    "Group Words by Length\n",
    "Task: Group words from a list into a dictionary based on their length.\n",
    "Input: [\"a\", \"to\", \"tea\", \"ted\", \"ten\"]\n",
    "Output: {1: ['a'], 2: ['to'], 3: ['tea', 'ted', 'ten']}\n"
   ]
  },
  {
   "cell_type": "code",
   "execution_count": null,
   "id": "b2345cd0-8bf2-4bea-b5f1-6b9cff4045c6",
   "metadata": {},
   "outputs": [
    {
     "name": "stdout",
     "output_type": "stream",
     "text": [
      "{1: ['a'], 2: ['to'], 3: ['tea', 'ted', 'ten']}\n"
     ]
    }
   ],
   "source": [
    "def GroupLen(lis):\n",
    "    out_dict = {}\n",
    "    for x in lis:\n",
    "        if len(x) in out_dict:\n",
    "            out_dict[len(x)].append(x)\n",
    "        else:\n",
    "            out_dict[len(x)] = [x]\n",
    "\n",
    "    return out_dict\n",
    "\n",
    "lis = [\"a\", \"to\", \"tea\", \"ted\", \"ten\"]\n",
    "print(GroupLen(lis))"
   ]
  },
  {
   "cell_type": "code",
   "execution_count": null,
   "id": "054e53c0-1d35-4db0-b9f2-13f918533376",
   "metadata": {},
   "outputs": [],
   "source": []
  },
  {
   "cell_type": "code",
   "execution_count": null,
   "id": "74be34a2-d67f-4962-8839-d12de16b1d8b",
   "metadata": {},
   "outputs": [],
   "source": [
    "\n",
    "Fibonacci Generator\n",
    "Task: Write a generator that yields the first n Fibonacci numbers.\n",
    "Input: n = 6\n",
    "Output: [0, 1, 1, 2, 3, 5]\n"
   ]
  },
  {
   "cell_type": "code",
   "execution_count": null,
   "id": "ce83fa52-e2fa-4816-9c88-b42a3909d13d",
   "metadata": {},
   "outputs": [
    {
     "name": "stdout",
     "output_type": "stream",
     "text": [
      "[0, 1, 1, 2, 3, 5]\n"
     ]
    }
   ],
   "source": [
    "def Fib(num):\n",
    "    lis = []\n",
    "    if num < 0:\n",
    "        print(\"Negative Number\")\n",
    "        return\n",
    "    elif num == 0:\n",
    "        lis = [0]\n",
    "    elif num == 1:\n",
    "        lis = [0,1]\n",
    "    else:\n",
    "        lis = [0,1]\n",
    "        index = 1\n",
    "        for i in range(num-2):\n",
    "            lis.append(lis[index] + lis[index - 1])\n",
    "            index += 1\n",
    "    \n",
    "    print(lis)\n",
    "\n",
    "num = 6\n",
    "Fib(num)"
   ]
  },
  {
   "cell_type": "code",
   "execution_count": null,
   "id": "d26027e1-d22d-451c-b5e4-9f40566ff164",
   "metadata": {},
   "outputs": [],
   "source": []
  },
  {
   "cell_type": "code",
   "execution_count": null,
   "id": "cca77f92-e968-4c32-93f8-082400bc79e0",
   "metadata": {},
   "outputs": [],
   "source": [
    "\n",
    "Merge Dictionaries by Summing Values\n",
    "Task: Merge two dictionaries by summing values of common keys.\n",
    "Input: {'a': 5, 'b': 3}, {'a': 2, 'c': 4}\n",
    "Output: {'a': 7, 'b': 3, 'c': 4}\n",
    "\n",
    "\n"
   ]
  },
  {
   "cell_type": "code",
   "execution_count": null,
   "id": "4faa17ee-59fe-4561-bb83-894c7950271d",
   "metadata": {},
   "outputs": [
    {
     "name": "stdout",
     "output_type": "stream",
     "text": [
      "{'a': 7, 'b': 3, 'c': 4}\n"
     ]
    }
   ],
   "source": [
    "def Merge(dict1, dict2):\n",
    "    out_dict = {}\n",
    "    for x in dict1:\n",
    "        if x in dict2:\n",
    "            out_dict[x] = dict1[x] + dict2[x]\n",
    "        else:\n",
    "            out_dict[x] = dict1[x]\n",
    "\n",
    "    for x in dict2:\n",
    "        if x not in out_dict:\n",
    "            out_dict[x] = dict2[x]\n",
    "\n",
    "    return out_dict\n",
    "\n",
    "dict1 = {'a': 5, 'b': 3}\n",
    "dict2 = {'a': 2, 'c': 4}\n",
    "\n",
    "print(Merge(dict1, dict2))"
   ]
  },
  {
   "cell_type": "code",
   "execution_count": null,
   "id": "5b85b6fa-85de-4108-8511-ac510c089250",
   "metadata": {},
   "outputs": [],
   "source": []
  },
  {
   "cell_type": "code",
   "execution_count": null,
   "id": "8de00d3b-63e4-4e8b-932e-c4e49c610ea4",
   "metadata": {},
   "outputs": [],
   "source": [
    "Custom Sorting\n",
    "Task: Sort a list of tuples based on the second element in descending order.\n",
    "Input: [('a', 3), ('b', 1), ('c', 2)]\n",
    "Output: [('a', 3), ('c', 2), ('b', 1)]"
   ]
  },
  {
   "cell_type": "code",
   "execution_count": 7,
   "id": "9e69ad5e-8bd4-4d57-bf05-14b73fb82979",
   "metadata": {},
   "outputs": [
    {
     "name": "stdout",
     "output_type": "stream",
     "text": [
      "[('a', 3), ('c', 2), ('b', 1)]\n"
     ]
    }
   ],
   "source": [
    "def Sort(lis):\n",
    "    out = []\n",
    "    for x in lis:\n",
    "        for i in range(len(out)):\n",
    "            if out[i][1] < x[1]:\n",
    "                out.insert(i, x)\n",
    "                break\n",
    "        else:\n",
    "            out.append(x)\n",
    "        \n",
    "    print(out)\n",
    "Sort([('a', 3), ('b', 1), ('c', 2)])"
   ]
  }
 ],
 "metadata": {
  "kernelspec": {
   "display_name": "ml1",
   "language": "python",
   "name": "python3"
  },
  "language_info": {
   "codemirror_mode": {
    "name": "ipython",
    "version": 3
   },
   "file_extension": ".py",
   "mimetype": "text/x-python",
   "name": "python",
   "nbconvert_exporter": "python",
   "pygments_lexer": "ipython3",
   "version": "3.13.5"
  }
 },
 "nbformat": 4,
 "nbformat_minor": 5
}
