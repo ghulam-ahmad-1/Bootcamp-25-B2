{
 "cells": [
  {
   "cell_type": "code",
   "execution_count": 1,
   "id": "6c000c29",
   "metadata": {},
   "outputs": [
    {
     "name": "stdout",
     "output_type": "stream",
     "text": [
      "9\n"
     ]
    }
   ],
   "source": [
    "def Solution(height):\n",
    "    left = []\n",
    "    right = []\n",
    "    units = 0\n",
    "    max_num = 0\n",
    "\n",
    "    for x in height:\n",
    "        max_num = max(x, max_num)\n",
    "        left.append(max_num) \n",
    "    \n",
    "    max_num = 0\n",
    "    for x in height[::-1]:\n",
    "        max_num = max(x, max_num)\n",
    "        right.insert(0,max_num)\n",
    "    \n",
    "    for val in range(len(height)):\n",
    "        units += min(left[val], right[val]) - height[val]\n",
    "    \n",
    "    return units\n",
    "\n",
    "height = [4,2,0,3,2,5]\n",
    "print(Solution(height))"
   ]
  }
 ],
 "metadata": {
  "kernelspec": {
   "display_name": "ml1",
   "language": "python",
   "name": "python3"
  },
  "language_info": {
   "codemirror_mode": {
    "name": "ipython",
    "version": 3
   },
   "file_extension": ".py",
   "mimetype": "text/x-python",
   "name": "python",
   "nbconvert_exporter": "python",
   "pygments_lexer": "ipython3",
   "version": "3.13.5"
  }
 },
 "nbformat": 4,
 "nbformat_minor": 5
}
