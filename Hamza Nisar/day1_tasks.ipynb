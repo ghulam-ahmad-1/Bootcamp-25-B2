{
  "cells": [
    {
      "cell_type": "code",
      "execution_count": null,
      "id": "ded564e6-09d7-4b10-a30d-1fd11a3b3b22",
      "metadata": {
        "id": "ded564e6-09d7-4b10-a30d-1fd11a3b3b22"
      },
      "outputs": [],
      "source": []
    },
    {
      "cell_type": "code",
      "execution_count": null,
      "id": "1183483c-42c9-45c8-9389-1e52bba38259",
      "metadata": {
        "id": "1183483c-42c9-45c8-9389-1e52bba38259"
      },
      "outputs": [],
      "source": [
        "\n",
        "Reverse a String\n",
        "Task: Write a function that takes a string and returns it reversed.\n",
        "Input: \"hello\"\n",
        "Output: \"olleh\"\n"
      ]
    },
    {
      "cell_type": "code",
      "execution_count": 4,
      "id": "b66e7533-c56a-4f54-af82-ce169b5d839c",
      "metadata": {
        "colab": {
          "base_uri": "https://localhost:8080/"
        },
        "id": "b66e7533-c56a-4f54-af82-ce169b5d839c",
        "outputId": "c0697a50-4722-4329-dc29-5e48e6d75ebe"
      },
      "outputs": [
        {
          "output_type": "stream",
          "name": "stdout",
          "text": [
            "olleh\n"
          ]
        }
      ],
      "source": [
        "def myfunc(input_string):\n",
        "    output = \"\"\n",
        "    val = len(input_string)\n",
        "    for i in range(val):\n",
        "        output = output + input_string[- (i + 1)]\n",
        "    return output\n",
        "\n",
        "x = myfunc(\"hello\")\n",
        "print(x)\n",
        "\n",
        "\n",
        "\n",
        ""
      ]
    },
    {
      "cell_type": "code",
      "execution_count": null,
      "id": "89bb29e8-60c9-407d-b57f-004174e83688",
      "metadata": {
        "id": "89bb29e8-60c9-407d-b57f-004174e83688"
      },
      "outputs": [],
      "source": [
        "\n",
        "Count Vowels\n",
        "Task: Count the number of vowels in a given lowercase string.\n",
        "Input: \"data science\"\n",
        "Output: 5\n"
      ]
    },
    {
      "cell_type": "code",
      "execution_count": 6,
      "id": "e0a7213b-1b90-4cb6-be72-61fd6cd361f4",
      "metadata": {
        "colab": {
          "base_uri": "https://localhost:8080/"
        },
        "id": "e0a7213b-1b90-4cb6-be72-61fd6cd361f4",
        "outputId": "1db4d778-9c16-4478-8036-1c45b8651a98"
      },
      "outputs": [
        {
          "output_type": "stream",
          "name": "stdout",
          "text": [
            "5\n"
          ]
        }
      ],
      "source": [
        "storage = ['a','e','i','o','u']\n",
        "input = \"data science\"\n",
        "count = 0\n",
        "for i in input:\n",
        "  if i in storage:\n",
        "    count+=1\n",
        "print(count)\n",
        "\n"
      ]
    },
    {
      "cell_type": "code",
      "execution_count": null,
      "id": "df1524cc-9b19-4c77-9489-d4954a87d710",
      "metadata": {
        "id": "df1524cc-9b19-4c77-9489-d4954a87d710"
      },
      "outputs": [],
      "source": []
    },
    {
      "cell_type": "code",
      "execution_count": null,
      "id": "69897ddc-f3e6-49c9-8056-80548e78802c",
      "metadata": {
        "id": "69897ddc-f3e6-49c9-8056-80548e78802c"
      },
      "outputs": [],
      "source": [
        "\n",
        "Sum of List\n",
        "Task: Return the sum of all numbers in a given list.\n",
        "Input: [1, 2, 3, 4, 5]\n",
        "Output: 15\n"
      ]
    },
    {
      "cell_type": "code",
      "source": [
        "# input_list = [1, 2, 3, 4, 5]\n",
        "# print(sum(input_list))\n"
      ],
      "metadata": {
        "id": "xErPe0u9QOM5"
      },
      "id": "xErPe0u9QOM5",
      "execution_count": null,
      "outputs": []
    },
    {
      "cell_type": "code",
      "execution_count": 20,
      "id": "4cd26186-fe9d-4058-94a5-c68a0b3ab9b3",
      "metadata": {
        "colab": {
          "base_uri": "https://localhost:8080/"
        },
        "id": "4cd26186-fe9d-4058-94a5-c68a0b3ab9b3",
        "outputId": "829ecfd6-937a-45d6-d518-a85e29bc40f4"
      },
      "outputs": [
        {
          "output_type": "stream",
          "name": "stdout",
          "text": [
            "15\n"
          ]
        }
      ],
      "source": [
        "Input =  [1, 2, 3, 4,5]\n",
        "sum = 0\n",
        "for i in Input:\n",
        "  sum+=i\n",
        "print(sum)\n"
      ]
    },
    {
      "cell_type": "code",
      "execution_count": null,
      "id": "e74f93d4-98a8-4121-a496-5ad60a4c2606",
      "metadata": {
        "id": "e74f93d4-98a8-4121-a496-5ad60a4c2606"
      },
      "outputs": [],
      "source": [
        "\n",
        "Check Palindrome\n",
        "Task: Return True if the given string is a palindrome, otherwise False.\n",
        "Input: \"madam\"\n",
        "Output: True\n"
      ]
    },
    {
      "cell_type": "code",
      "execution_count": 23,
      "id": "4f6e4be3-3272-4eff-a8e5-c1b8310ece43",
      "metadata": {
        "colab": {
          "base_uri": "https://localhost:8080/"
        },
        "id": "4f6e4be3-3272-4eff-a8e5-c1b8310ece43",
        "outputId": "f47adb24-ba56-4e82-e319-d5f4d7ca95e0"
      },
      "outputs": [
        {
          "output_type": "stream",
          "name": "stdout",
          "text": [
            "True\n"
          ]
        }
      ],
      "source": [
        "## use the above reversing function\n",
        "input = \"madam\"\n",
        "reversed = myfunc(input)\n",
        "if input == reversed:\n",
        "  print(True)\n",
        "else:\n",
        "  print(False)"
      ]
    },
    {
      "cell_type": "code",
      "execution_count": null,
      "id": "1a6ed159-fab0-458f-a5c0-4b1ab7d88ea7",
      "metadata": {
        "id": "1a6ed159-fab0-458f-a5c0-4b1ab7d88ea7"
      },
      "outputs": [],
      "source": []
    },
    {
      "cell_type": "code",
      "execution_count": null,
      "id": "a5e05de0-8554-4151-8c5a-f26e811e606a",
      "metadata": {
        "id": "a5e05de0-8554-4151-8c5a-f26e811e606a"
      },
      "outputs": [],
      "source": [
        "\n",
        "Remove Duplicates from List\n",
        "Task: Remove duplicates from a list while preserving order.\n",
        "Input: [1, 3, 2, 1, 3, 4]\n",
        "Output: [1, 3, 2, 4]\n"
      ]
    },
    {
      "cell_type": "code",
      "execution_count": 36,
      "id": "59df84ae-2f24-4565-8c18-e25563ea319c",
      "metadata": {
        "colab": {
          "base_uri": "https://localhost:8080/"
        },
        "id": "59df84ae-2f24-4565-8c18-e25563ea319c",
        "outputId": "7b60c35e-ffcb-4be2-8e03-0dde9060c8e4"
      },
      "outputs": [
        {
          "output_type": "stream",
          "name": "stdout",
          "text": [
            "[1, 3, 2, 4]\n"
          ]
        }
      ],
      "source": [
        "Input = [1, 3, 2, 1, 3, 4]\n",
        "Output = []\n",
        "for val in Input:\n",
        "  if val not in Output:\n",
        "    Output.append(val)\n",
        "\n",
        "print(Output)\n",
        "\n"
      ]
    },
    {
      "cell_type": "code",
      "execution_count": null,
      "id": "2a76caf8-a071-45df-ba77-fc16001fac02",
      "metadata": {
        "id": "2a76caf8-a071-45df-ba77-fc16001fac02"
      },
      "outputs": [],
      "source": []
    },
    {
      "cell_type": "code",
      "execution_count": null,
      "id": "9a42408b-0505-40fd-8c59-44b397bc4fbd",
      "metadata": {
        "id": "9a42408b-0505-40fd-8c59-44b397bc4fbd"
      },
      "outputs": [],
      "source": [
        "\n",
        "Word Frequency Counter\n",
        "Task: Count the frequency of each word in a string and return a dictionary.\n",
        "Input: \"apple banana apple orange\"\n",
        "Output: {'apple': 2, 'banana': 1, 'orange': 1}\n"
      ]
    },
    {
      "cell_type": "code",
      "execution_count": null,
      "id": "4dd36627-2e02-4089-982c-29dfd159e8ba",
      "metadata": {
        "id": "4dd36627-2e02-4089-982c-29dfd159e8ba"
      },
      "outputs": [],
      "source": [
        "\n",
        "List of Even Squares\n",
        "Task: Return a list of squares of even numbers from a given list.\n",
        "Input: [1, 2, 3, 4, 5]\n",
        "Output: [4, 16]\n"
      ]
    },
    {
      "cell_type": "code",
      "execution_count": 61,
      "id": "155a36e4-922f-45e4-84d4-f45c27e4012d",
      "metadata": {
        "colab": {
          "base_uri": "https://localhost:8080/"
        },
        "id": "155a36e4-922f-45e4-84d4-f45c27e4012d",
        "outputId": "cbfa48b7-3138-42fa-d99d-6eb18e6e5b68"
      },
      "outputs": [
        {
          "output_type": "stream",
          "name": "stdout",
          "text": [
            "[4, 16]\n"
          ]
        }
      ],
      "source": [
        "Input = [1, 2, 3, 4, 5]\n",
        "output = []\n",
        "for val in Input:\n",
        "  if val%2 == 0:\n",
        "    output.append(val**2)\n",
        "print(output)\n",
        "\n"
      ]
    },
    {
      "cell_type": "code",
      "execution_count": null,
      "id": "3f2f1a1a-3e58-493a-8242-363bb1a04efd",
      "metadata": {
        "id": "3f2f1a1a-3e58-493a-8242-363bb1a04efd"
      },
      "outputs": [],
      "source": []
    },
    {
      "cell_type": "code",
      "execution_count": null,
      "id": "9d3fbc28-a3f5-4192-9144-0aea26686ff3",
      "metadata": {
        "id": "9d3fbc28-a3f5-4192-9144-0aea26686ff3"
      },
      "outputs": [],
      "source": [
        "\n",
        "Flatten Nested List\n",
        "Task: Flatten a 2D list into a 1D list.\n",
        "Input: [[1, 2], [3, 4], [5]]\n",
        "Output: [1, 2, 3, 4, 5]\n"
      ]
    },
    {
      "cell_type": "code",
      "execution_count": 71,
      "id": "1fd277b2-c308-45f9-b961-5e16e1508536",
      "metadata": {
        "colab": {
          "base_uri": "https://localhost:8080/"
        },
        "id": "1fd277b2-c308-45f9-b961-5e16e1508536",
        "outputId": "dc9b12d3-71a8-43ef-e242-c0e3b6628084"
      },
      "outputs": [
        {
          "output_type": "stream",
          "name": "stdout",
          "text": [
            "[1, 2, 3, 4, 5]\n"
          ]
        }
      ],
      "source": [
        "Input = [[1, 2], [3, 4], [5]]\n",
        "output = []\n",
        "for row in Input:\n",
        "  for col in row:\n",
        "    output.append(col)\n",
        "print(output)\n"
      ]
    },
    {
      "cell_type": "code",
      "execution_count": null,
      "id": "3a7499a2-0b17-4823-93c4-b6c895fd988b",
      "metadata": {
        "id": "3a7499a2-0b17-4823-93c4-b6c895fd988b"
      },
      "outputs": [],
      "source": []
    },
    {
      "cell_type": "code",
      "execution_count": null,
      "id": "1c24534e-5cb9-47c4-bf1f-603448014652",
      "metadata": {
        "id": "1c24534e-5cb9-47c4-bf1f-603448014652"
      },
      "outputs": [],
      "source": [
        "\n",
        "Group Words by Length\n",
        "Task: Group words from a list into a dictionary based on their length.\n",
        "Input: [\"a\", \"to\", \"tea\", \"ted\", \"ten\"]\n",
        "Output: {1: ['a'], 2: ['to'], 3: ['tea', 'ted', 'ten']}\n"
      ]
    },
    {
      "cell_type": "code",
      "execution_count": 139,
      "id": "b2345cd0-8bf2-4bea-b5f1-6b9cff4045c6",
      "metadata": {
        "colab": {
          "base_uri": "https://localhost:8080/"
        },
        "id": "b2345cd0-8bf2-4bea-b5f1-6b9cff4045c6",
        "outputId": "3fc0bc0a-ed00-4ba4-c7b3-94813c80e924"
      },
      "outputs": [
        {
          "output_type": "stream",
          "name": "stdout",
          "text": [
            "{1: ['a'], 2: ['to'], 3: ['tea', 'ted', 'ten']}\n"
          ]
        }
      ],
      "source": [
        "Input = [\"a\", \"to\", \"tea\", \"ted\", \"ten\"]\n",
        "output = {}\n",
        "for val in Input:\n",
        "  if len(val) in output.keys():\n",
        "    output[len(val)].append(val)\n",
        "  else:\n",
        "    output[len(val)] = [val]\n",
        "\n",
        "print(output)"
      ]
    },
    {
      "cell_type": "code",
      "execution_count": null,
      "id": "054e53c0-1d35-4db0-b9f2-13f918533376",
      "metadata": {
        "id": "054e53c0-1d35-4db0-b9f2-13f918533376"
      },
      "outputs": [],
      "source": []
    },
    {
      "cell_type": "code",
      "execution_count": null,
      "id": "74be34a2-d67f-4962-8839-d12de16b1d8b",
      "metadata": {
        "id": "74be34a2-d67f-4962-8839-d12de16b1d8b"
      },
      "outputs": [],
      "source": [
        "\n",
        "Fibonacci Generator\n",
        "Task: Write a generator that yields the first n Fibonacci numbers.\n",
        "Input: n = 6\n",
        "Output: [0, 1, 1, 2, 3, 5]\n"
      ]
    },
    {
      "cell_type": "code",
      "execution_count": 73,
      "id": "ce83fa52-e2fa-4816-9c88-b42a3909d13d",
      "metadata": {
        "colab": {
          "base_uri": "https://localhost:8080/"
        },
        "id": "ce83fa52-e2fa-4816-9c88-b42a3909d13d",
        "outputId": "c5c57f12-608f-4642-ce54-0be5cd1fa01f"
      },
      "outputs": [
        {
          "output_type": "stream",
          "name": "stdout",
          "text": [
            "[0, 1, 1, 2, 3, 5]\n"
          ]
        }
      ],
      "source": [
        "n = 6\n",
        "Output = []\n",
        "for i in range(n):\n",
        "  if i == 0:\n",
        "    Output.append(0)\n",
        "  elif i == 1:\n",
        "    Output.append(1)\n",
        "  else:\n",
        "    Output.append(Output[i-1]+Output[i-2])\n",
        "print(Output)"
      ]
    },
    {
      "cell_type": "code",
      "execution_count": null,
      "id": "d26027e1-d22d-451c-b5e4-9f40566ff164",
      "metadata": {
        "id": "d26027e1-d22d-451c-b5e4-9f40566ff164"
      },
      "outputs": [],
      "source": []
    },
    {
      "cell_type": "code",
      "execution_count": null,
      "id": "cca77f92-e968-4c32-93f8-082400bc79e0",
      "metadata": {
        "id": "cca77f92-e968-4c32-93f8-082400bc79e0"
      },
      "outputs": [],
      "source": [
        "\n",
        "Merge Dictionaries by Summing Values\n",
        "Task: Merge two dictionaries by summing values of common keys.\n",
        "Input: {'a': 5, 'b': 3}, {'a': 2, 'c': 4}\n",
        "Output: {'a': 7, 'b': 3, 'c': 4}\n",
        "\n",
        "\n"
      ]
    },
    {
      "cell_type": "code",
      "execution_count": 112,
      "id": "4faa17ee-59fe-4561-bb83-894c7950271d",
      "metadata": {
        "colab": {
          "base_uri": "https://localhost:8080/"
        },
        "id": "4faa17ee-59fe-4561-bb83-894c7950271d",
        "outputId": "e435f361-da21-404b-df5d-8336b99249e7"
      },
      "outputs": [
        {
          "output_type": "execute_result",
          "data": {
            "text/plain": [
              "{'a': 7, 'b': 3, 'c': 4}"
            ]
          },
          "metadata": {},
          "execution_count": 112
        }
      ],
      "source": [
        "Dict1 = {'a': 5, 'b': 3}\n",
        "Dict2 = {'a': 2, 'c': 4}\n",
        "\n",
        "a = list(Dict1.keys())\n",
        "b = list(Dict2.keys())\n",
        "for i in b:\n",
        "  if i not in a:\n",
        "    a.append(i)\n",
        "\n",
        "freq = []\n",
        "\n",
        "for letter in a:\n",
        "  if letter in Dict1.keys():\n",
        "    a1 = Dict1[letter]\n",
        "  else: a1 = 0\n",
        "  if letter in Dict2.keys():\n",
        "    a2 = Dict2[letter]\n",
        "  else: a2 = 0\n",
        "\n",
        "  freq.append(a1+a2)\n",
        "\n",
        "dict = {}\n",
        "for i in range(len(a)):\n",
        "  dict[a[i]] = freq[i]\n",
        "dict\n",
        ""
      ]
    },
    {
      "cell_type": "code",
      "execution_count": null,
      "id": "5b85b6fa-85de-4108-8511-ac510c089250",
      "metadata": {
        "id": "5b85b6fa-85de-4108-8511-ac510c089250"
      },
      "outputs": [],
      "source": []
    },
    {
      "cell_type": "code",
      "execution_count": null,
      "id": "8de00d3b-63e4-4e8b-932e-c4e49c610ea4",
      "metadata": {
        "id": "8de00d3b-63e4-4e8b-932e-c4e49c610ea4"
      },
      "outputs": [],
      "source": [
        "\n",
        "Custom Sorting\n",
        "Task: Sort a list of tuples based on the second element in descending order.\n",
        "Input: [('a', 3), ('b', 1), ('c', 2)]\n",
        "Output: [('a', 3), ('c', 2), ('b', 1)]"
      ]
    },
    {
      "cell_type": "code",
      "execution_count": 137,
      "id": "9e69ad5e-8bd4-4d57-bf05-14b73fb82979",
      "metadata": {
        "colab": {
          "base_uri": "https://localhost:8080/"
        },
        "id": "9e69ad5e-8bd4-4d57-bf05-14b73fb82979",
        "outputId": "ace8ed96-ce6e-49e4-b346-84702055dfb7"
      },
      "outputs": [
        {
          "output_type": "execute_result",
          "data": {
            "text/plain": [
              "[('a', 3), ('c', 2), ('b', 1)]"
            ]
          },
          "metadata": {},
          "execution_count": 137
        }
      ],
      "source": [
        "Input = [('a', 3), ('b', 1), ('c', 2)]\n",
        "output = []\n",
        "for i in Input:\n",
        "  if i[1] == 3:\n",
        "    output.append((i[0],3))\n",
        "for i in Input:\n",
        "  if i[1] == 2:\n",
        "    output.append((i[0],2))\n",
        "for i in Input:\n",
        "  if i[1] == 1:\n",
        "    output.append((i[0],1))\n",
        "\n",
        "\n",
        "\n",
        "\n",
        "output\n",
        "\n",
        "\n"
      ]
    },
    {
      "cell_type": "code",
      "execution_count": null,
      "id": "e8e8c0e9-11c7-4a4a-bb6e-776c3d0626e2",
      "metadata": {
        "id": "e8e8c0e9-11c7-4a4a-bb6e-776c3d0626e2"
      },
      "outputs": [],
      "source": []
    },
    {
      "cell_type": "code",
      "execution_count": null,
      "id": "beaef0ba-deae-4e6f-aa25-73fd14f18a72",
      "metadata": {
        "id": "beaef0ba-deae-4e6f-aa25-73fd14f18a72"
      },
      "outputs": [],
      "source": []
    }
  ],
  "metadata": {
    "kernelspec": {
      "display_name": "Python 3 (ipykernel)",
      "language": "python",
      "name": "python3"
    },
    "language_info": {
      "codemirror_mode": {
        "name": "ipython",
        "version": 3
      },
      "file_extension": ".py",
      "mimetype": "text/x-python",
      "name": "python",
      "nbconvert_exporter": "python",
      "pygments_lexer": "ipython3",
      "version": "3.11.5"
    },
    "colab": {
      "provenance": []
    }
  },
  "nbformat": 4,
  "nbformat_minor": 5
}