{
 "cells": [
  {
   "cell_type": "code",
   "execution_count": 12,
   "id": "2b885674-70b7-4100-8408-15f086f904fe",
   "metadata": {},
   "outputs": [
    {
     "data": {
      "text/plain": [
       "[[1, 4], [2, 5], [3, 6]]"
      ]
     },
     "execution_count": 12,
     "metadata": {},
     "output_type": "execute_result"
    }
   ],
   "source": [
    "input = [[1,2,3],[4,5,6]]\n",
    "\n",
    "rows = len(input)\n",
    "cols = len(input[0])\n",
    "output = []\n",
    "\n",
    "for i in range(cols):\n",
    "    string = []\n",
    "    for j in range(rows):\n",
    "        string.append(input[j][i])\n",
    "    output.append(string)\n",
    "output    \n",
    "    \n"
   ]
  },
  {
   "cell_type": "code",
   "execution_count": 57,
   "id": "3b690887-257e-45df-98ee-45a89f39035e",
   "metadata": {},
   "outputs": [
    {
     "data": {
      "text/plain": [
       "[['bat', 'tab'], ['tap', 'pat']]"
      ]
     },
     "execution_count": 57,
     "metadata": {},
     "output_type": "execute_result"
    }
   ],
   "source": [
    "def is_anagram(string1,string2):\n",
    "    if string1!=string2:\n",
    "        if sorted(string1) == sorted(string2):\n",
    "            return True\n",
    "        \n",
    "\n",
    "Input = [\"bat\", \"tab\", \"tap\", \"pat\", \"cat\"]\n",
    "Output = []\n",
    "for i in Input:\n",
    "    for j in range(len(Input)):\n",
    "        if is_anagram(i,Input[j]):\n",
    "            \n",
    "            Output.append([i,Input[j]])\n",
    "            Input[j] = \"\"\n",
    "        \n",
    "  \n",
    "Output"
   ]
  },
  {
   "cell_type": "code",
   "execution_count": 61,
   "id": "97120ff6-5427-41ec-baae-ce3313ac5612",
   "metadata": {},
   "outputs": [
    {
     "name": "stdout",
     "output_type": "stream",
     "text": [
      "2\n",
      "3\n",
      "5\n",
      "7\n"
     ]
    }
   ],
   "source": [
    "for i in range(10):\n",
    "    if i != 0 and i != 1:\n",
    "        count = 0\n",
    "        for j in range(2,10):\n",
    "            if i%j == 0:\n",
    "                count+=1\n",
    "        if count == 1:\n",
    "            print(i)\n",
    "            \n",
    "            \n",
    "        "
   ]
  }
 ],
 "metadata": {
  "kernelspec": {
   "display_name": "Python 3 (ipykernel)",
   "language": "python",
   "name": "python3"
  },
  "language_info": {
   "codemirror_mode": {
    "name": "ipython",
    "version": 3
   },
   "file_extension": ".py",
   "mimetype": "text/x-python",
   "name": "python",
   "nbconvert_exporter": "python",
   "pygments_lexer": "ipython3",
   "version": "3.11.5"
  }
 },
 "nbformat": 4,
 "nbformat_minor": 5
}
