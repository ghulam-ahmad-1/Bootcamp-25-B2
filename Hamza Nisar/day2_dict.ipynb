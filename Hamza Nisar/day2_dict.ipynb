{
 "cells": [
  {
   "cell_type": "markdown",
   "id": "1f48d5c9",
   "metadata": {},
   "source": [
    "# 1. Create a Dictionary from Two Lists\n",
    "\n",
    "## Problem Statement:\n",
    "Write a function to create a dictionary from two lists of equal length, one for keys and one for values.\n",
    "\n",
    "## Example 1:\n",
    "**Input:** `keys = ['a', 'b'], values = [1, 2]`  \n",
    "**Output:** `{'a': 1, 'b': 2}`\n",
    "\n",
    "## Example 2:\n",
    "**Input:** `keys = ['x'], values = [10]`  \n",
    "**Output:** `{'x': 10}`\n"
   ]
  },
  {
   "cell_type": "code",
   "execution_count": 2,
   "id": "3ea65a39",
   "metadata": {},
   "outputs": [
    {
     "data": {
      "text/plain": [
       "{'a': 1, 'b': 2}"
      ]
     },
     "execution_count": 2,
     "metadata": {},
     "output_type": "execute_result"
    }
   ],
   "source": [
    "dict = {}\n",
    "keys = ['a','b']\n",
    "values = [1,2]\n",
    "\n",
    "for idx,x in enumerate(keys):\n",
    "    dict[x] = values[idx]\n",
    "dict"
   ]
  },
  {
   "cell_type": "code",
   "execution_count": null,
   "id": "116d7f17",
   "metadata": {},
   "outputs": [],
   "source": []
  },
  {
   "cell_type": "markdown",
   "id": "9016196e",
   "metadata": {},
   "source": [
    "# 2. Merge Two Dictionaries\n",
    "\n",
    "## Problem Statement:\n",
    "Write a function to merge two dictionaries into one.\n",
    "\n",
    "## Example 1:\n",
    "**Input:** `{'a': 1}, {'b': 2}`  \n",
    "**Output:** `{'a': 1, 'b': 2}`\n",
    "\n",
    "## Example 2:\n",
    "**Input:** `{'x': 10}, {'y': 20, 'z': 30}`  \n",
    "**Output:** `{'x': 10, 'y': 20, 'z': 30}`\n"
   ]
  },
  {
   "cell_type": "code",
   "execution_count": 13,
   "id": "5ee5d659",
   "metadata": {},
   "outputs": [
    {
     "data": {
      "text/plain": [
       "{'x': 10, 'y': 20, 'z': 30}"
      ]
     },
     "execution_count": 13,
     "metadata": {},
     "output_type": "execute_result"
    }
   ],
   "source": [
    "dict1 = {'x':10 }\n",
    "dict2 = {'y':20 , 'z':30 }\n",
    "\n",
    "for x in dict2:\n",
    "    dict1[x] = dict2[x]\n",
    "dict1    \n"
   ]
  },
  {
   "cell_type": "code",
   "execution_count": null,
   "id": "d9d7b5b2",
   "metadata": {},
   "outputs": [],
   "source": []
  },
  {
   "cell_type": "markdown",
   "id": "c6526c5c",
   "metadata": {},
   "source": [
    "# 3. Check if Key Exists\n",
    "\n",
    "## Problem Statement:\n",
    "Write a function to check if a specific key exists in a dictionary.\n",
    "\n",
    "## Example 1:\n",
    "**Input:** `{'a': 1}, 'a'`  \n",
    "**Output:** `True`\n",
    "\n",
    "## Example 2:\n",
    "**Input:** `{'b': 2}, 'a'`  \n",
    "**Output:** `False`\n"
   ]
  },
  {
   "cell_type": "code",
   "execution_count": 23,
   "id": "a04fa909",
   "metadata": {},
   "outputs": [
    {
     "name": "stdout",
     "output_type": "stream",
     "text": [
      "True\n"
     ]
    }
   ],
   "source": [
    "dict1 = {'a',1}\n",
    "if 'a' in dict1:\n",
    "    print(True)\n",
    "else:\n",
    "    print(False)"
   ]
  },
  {
   "cell_type": "markdown",
   "id": "e72c9a22",
   "metadata": {},
   "source": [
    "# 4. Count Frequency of Elements\n",
    "\n",
    "## Problem Statement:\n",
    "Write a function to count the frequency of each element in a list using a dictionary.\n",
    "\n",
    "## Example 1:\n",
    "**Input:** `[1,2,2,3]`  \n",
    "**Output:** `{1:1, 2:2, 3:1}`\n",
    "\n",
    "## Example 2:\n",
    "**Input:** `['a','b','a']`  \n",
    "**Output:** `{'a':2, 'b':1}`\n",
    "\n",
    "\n"
   ]
  },
  {
   "cell_type": "code",
   "execution_count": 29,
   "id": "31fd888e",
   "metadata": {},
   "outputs": [
    {
     "data": {
      "text/plain": [
       "{1: 1, 2: 2, 3: 1}"
      ]
     },
     "execution_count": 29,
     "metadata": {},
     "output_type": "execute_result"
    }
   ],
   "source": [
    "Input = [1,2,2,3]\n",
    "output = {}\n",
    "\n",
    "for x in Input:\n",
    "    output[x] = output.get(x,0) +1\n",
    "\n",
    "output\n"
   ]
  },
  {
   "cell_type": "code",
   "execution_count": null,
   "id": "ad5808ba",
   "metadata": {},
   "outputs": [],
   "source": []
  },
  {
   "cell_type": "markdown",
   "id": "c1b74aa9",
   "metadata": {},
   "source": [
    "# 5. Reverse Dictionary (Unique Values)\n",
    "\n",
    "## Problem Statement:\n",
    "Write a function to reverse keys and values in a dictionary. Assume values are unique.\n",
    "\n",
    "## Example 1:\n",
    "**Input:** `{'a':1, 'b':2}`  \n",
    "**Output:** `{1:'a', 2:'b'}`\n",
    "\n",
    "## Example 2:\n",
    "**Input:** `{'x':'y'}`  \n",
    "**Output:** `{'y':'x'}`\n"
   ]
  },
  {
   "cell_type": "code",
   "execution_count": 30,
   "id": "df0a31ed",
   "metadata": {},
   "outputs": [
    {
     "data": {
      "text/plain": [
       "{1: 'a', 2: 'b'}"
      ]
     },
     "execution_count": 30,
     "metadata": {},
     "output_type": "execute_result"
    }
   ],
   "source": [
    "Input = {'a':1,'b':2}\n",
    "dict = {}\n",
    "\n",
    "for x in Input:\n",
    "    dict[Input[x]] = x\n",
    "dict\n",
    "\n"
   ]
  },
  {
   "cell_type": "code",
   "execution_count": null,
   "id": "ba3b7a1a",
   "metadata": {},
   "outputs": [],
   "source": []
  },
  {
   "cell_type": "markdown",
   "id": "bfc01a37",
   "metadata": {},
   "source": [
    "# 6. Dictionary with Maximum Value\n",
    "\n",
    "## Problem Statement:\n",
    "Write a function that returns the key with the highest value in a dictionary.\n",
    "\n",
    "## Example 1:\n",
    "**Input:** `{'a':3, 'b':10}`  \n",
    "**Output:** `'b'`\n",
    "\n",
    "## Example 2:\n",
    "**Input:** `{'x':1, 'y':-5}`  \n",
    "**Output:** `'x'`\n"
   ]
  },
  {
   "cell_type": "code",
   "execution_count": 33,
   "id": "3ebfad1c",
   "metadata": {},
   "outputs": [
    {
     "data": {
      "text/plain": [
       "'b'"
      ]
     },
     "execution_count": 33,
     "metadata": {},
     "output_type": "execute_result"
    }
   ],
   "source": [
    "input = {'a':3,'b':10}\n",
    "x = max(input,key = input.get)\n",
    "x"
   ]
  },
  {
   "cell_type": "code",
   "execution_count": null,
   "id": "2aead54f",
   "metadata": {},
   "outputs": [],
   "source": []
  },
  {
   "cell_type": "markdown",
   "id": "2df1f7ab",
   "metadata": {},
   "source": [
    "# 7. Remove Key from Dictionary\n",
    "\n",
    "## Problem Statement:\n",
    "Write a function that removes a specified key from a dictionary.\n",
    "\n",
    "## Example 1:\n",
    "**Input:** `{'a':1, 'b':2}, 'a'`  \n",
    "**Output:** `{'b':2}`\n",
    "\n",
    "## Example 2:\n",
    "**Input:** `{'x':3, 'y':4}, 'z'`  \n",
    "**Output:** `{'x':3, 'y':4}`\n"
   ]
  },
  {
   "cell_type": "code",
   "execution_count": 34,
   "id": "ebc9c007",
   "metadata": {},
   "outputs": [
    {
     "data": {
      "text/plain": [
       "{'b': 2}"
      ]
     },
     "execution_count": 34,
     "metadata": {},
     "output_type": "execute_result"
    }
   ],
   "source": [
    "input = {'a':1,'b':2}\n",
    "input.pop(\"a\")\n",
    "input"
   ]
  },
  {
   "cell_type": "markdown",
   "id": "542b30d7",
   "metadata": {},
   "source": [
    "# 8. Dictionary from String\n",
    "\n",
    "## Problem Statement:\n",
    "Write a function to count the occurrences of each character in a given string using a dictionary.\n",
    "\n",
    "## Example 1:\n",
    "**Input:** `\"hello\"`  \n",
    "**Output:** `{'h':1,'e':1,'l':2,'o':1}`\n",
    "\n",
    "## Example 2:\n",
    "**Input:** `\"abc\"`  \n",
    "**Output:** `{'a':1,'b':1,'c':1}`\n",
    "\n",
    "\n"
   ]
  },
  {
   "cell_type": "code",
   "execution_count": 40,
   "id": "1a0604ff",
   "metadata": {},
   "outputs": [
    {
     "data": {
      "text/plain": [
       "{'h': 1, 'e': 1, 'l': 2, 'o': 1}"
      ]
     },
     "execution_count": 40,
     "metadata": {},
     "output_type": "execute_result"
    }
   ],
   "source": [
    "input = \"hello\"\n",
    "dict = {}\n",
    "\n",
    "for x in input:\n",
    "    if x not in dict:\n",
    "        dict[x] = 1\n",
    "    else:\n",
    "        dict[x] +=1\n",
    "dict"
   ]
  },
  {
   "cell_type": "markdown",
   "id": "b8bb6168",
   "metadata": {},
   "source": [
    "# 9. Update Value in Dictionary\n",
    "\n",
    "## Problem Statement:\n",
    "Write a function to update a value associated with a given key in a dictionary.\n",
    "\n",
    "## Example 1:\n",
    "**Input:** `{'a':1}, 'a', 100`  \n",
    "**Output:** `{'a':100}`\n",
    "\n",
    "## Example 2:\n",
    "**Input:** `{'x':10}, 'y', 20`  \n",
    "**Output:** `{'x':10, 'y':20}`\n"
   ]
  },
  {
   "cell_type": "code",
   "execution_count": 44,
   "id": "7a8a617e",
   "metadata": {},
   "outputs": [
    {
     "data": {
      "text/plain": [
       "{'a': 100}"
      ]
     },
     "execution_count": 44,
     "metadata": {},
     "output_type": "execute_result"
    }
   ],
   "source": [
    "dict = {'a':1}\n",
    "\n",
    "dict['a'] = 100\n",
    "\n",
    "dict"
   ]
  },
  {
   "cell_type": "code",
   "execution_count": null,
   "id": "1345099a",
   "metadata": {},
   "outputs": [],
   "source": []
  },
  {
   "cell_type": "markdown",
   "id": "8b580e88",
   "metadata": {},
   "source": [
    "# 10. Sort Dictionary by Values\n",
    "\n",
    "## Problem Statement:\n",
    "Write a function to sort a dictionary by values in ascending order.\n",
    "\n",
    "## Example 1:\n",
    "**Input:** `{'a':3, 'b':1}`  \n",
    "**Output:** `{'b':1, 'a':3}`\n",
    "\n",
    "## Example 2:\n",
    "**Input:** `{'x':4,'y':2}`  \n",
    "**Output:** `{'y':2, 'x':4}`\n"
   ]
  },
  {
   "cell_type": "code",
   "execution_count": 50,
   "id": "4cfc1e2c",
   "metadata": {},
   "outputs": [
    {
     "data": {
      "text/plain": [
       "[('b', 1), ('a', 3)]"
      ]
     },
     "execution_count": 50,
     "metadata": {},
     "output_type": "execute_result"
    }
   ],
   "source": [
    "input = {'a':3,'b':1}\n",
    "sorted(input.items(), key=lambda item: item[1])\n"
   ]
  },
  {
   "cell_type": "code",
   "execution_count": null,
   "id": "deac7ba4",
   "metadata": {},
   "outputs": [],
   "source": []
  },
  {
   "cell_type": "markdown",
   "id": "923a13f3",
   "metadata": {},
   "source": [
    "# 11. Dictionary Intersection\n",
    "\n",
    "## Problem Statement:\n",
    "Write a function that returns a dictionary containing keys common to two dictionaries with values from the first dictionary.\n",
    "\n",
    "## Example 1:\n",
    "**Input:** `{'a':1, 'b':2}, {'b':4, 'c':3}`  \n",
    "**Output:** `{'b':2}`\n",
    "\n",
    "## Example 2:\n",
    "**Input:** `{'x':5}, {'y':5}`  \n",
    "**Output:** `{}`\n"
   ]
  },
  {
   "cell_type": "code",
   "execution_count": 54,
   "id": "463eed21",
   "metadata": {},
   "outputs": [
    {
     "data": {
      "text/plain": [
       "{'b': 2}"
      ]
     },
     "execution_count": 54,
     "metadata": {},
     "output_type": "execute_result"
    }
   ],
   "source": [
    "dict1,dict2={'a':1, 'b':2} , {'b':4, 'c':3}\n",
    "output = {}\n",
    "for x in dict1:\n",
    "    if x in dict2:\n",
    "        output[x]=dict1[x]\n",
    "output        \n"
   ]
  },
  {
   "cell_type": "code",
   "execution_count": null,
   "id": "8ea06653",
   "metadata": {},
   "outputs": [],
   "source": []
  },
  {
   "cell_type": "markdown",
   "id": "328b85be",
   "metadata": {},
   "source": [
    "# 14. Filter Dictionary by Values\n",
    "\n",
    "## Problem Statement:\n",
    "Write a function to filter a dictionary, keeping only items where the value is greater than a given number.\n",
    "\n",
    "## Example 1:\n",
    "**Input:** `{'a':5, 'b':2, 'c':8}, 4`  \n",
    "**Output:** `{'a':5, 'c':8}`\n",
    "\n",
    "## Example 2:\n",
    "**Input:** `{'x':1, 'y':3}, 2`  \n",
    "**Output:** `{'y':3}`\n"
   ]
  },
  {
   "cell_type": "code",
   "execution_count": 80,
   "id": "58e19b37",
   "metadata": {},
   "outputs": [
    {
     "data": {
      "text/plain": [
       "{'a': 5, 'c': 8}"
      ]
     },
     "execution_count": 80,
     "metadata": {},
     "output_type": "execute_result"
    }
   ],
   "source": [
    "Input = {'a':5,'b':2,'c':8}\n",
    "names = []\n",
    "value = 4\n",
    "\n",
    "for x in Input:\n",
    "    if Input[x] < value:\n",
    "        names.append(x)\n",
    "\n",
    "for name in names:\n",
    "    Input.pop(name)\n",
    "Input        \n"
   ]
  },
  {
   "cell_type": "code",
   "execution_count": 83,
   "id": "55c9884b",
   "metadata": {},
   "outputs": [
    {
     "data": {
      "text/plain": [
       "5"
      ]
     },
     "execution_count": 83,
     "metadata": {},
     "output_type": "execute_result"
    }
   ],
   "source": [
    "Input['a']"
   ]
  },
  {
   "cell_type": "markdown",
   "id": "b37b6bd2",
   "metadata": {},
   "source": [
    "# 16. Dictionary from List of Tuples\n",
    "\n",
    "## Problem Statement:\n",
    "Write a function that converts a list of tuples into a dictionary, combining values for duplicate keys into lists.\n",
    "\n",
    "## Example 1:\n",
    "**Input:** `[('a',1), ('b',2), ('a',3)]`  \n",
    "**Output:** `{'a':[1,3], 'b':[2]}`\n",
    "\n",
    "## Example 2:\n",
    "**Input:** `[('x',4)]`  \n",
    "**Output:** `{'x':[4]}`\n"
   ]
  },
  {
   "cell_type": "code",
   "execution_count": 85,
   "id": "0cabcc36",
   "metadata": {},
   "outputs": [
    {
     "data": {
      "text/plain": [
       "{'a': [1, 3], 'b': [2]}"
      ]
     },
     "execution_count": 85,
     "metadata": {},
     "output_type": "execute_result"
    }
   ],
   "source": [
    "Input = [('a',1), ('b',2), ('a',3)]\n",
    "out = {}\n",
    "\n",
    "for x in Input:\n",
    "    if x[0] in out:\n",
    "\n",
    "        \n",
    "        out[x[0]].append(x[1])\n",
    "    else:\n",
    "        out[x[0]] = [x[1]]\n",
    "out"
   ]
  },
  {
   "cell_type": "code",
   "execution_count": null,
   "id": "1ba92174",
   "metadata": {},
   "outputs": [],
   "source": []
  },
  {
   "cell_type": "markdown",
   "id": "a2f6a871",
   "metadata": {},
   "source": [
    "# 17. Increment Dictionary Values\n",
    "\n",
    "## Problem Statement:\n",
    "Write a function to increment all integer values in a dictionary by a specified number.\n",
    "\n",
    "## Example 1:\n",
    "**Input:** `{'a':1, 'b':2}, 3`  \n",
    "**Output:** `{'a':4, 'b':5}`\n",
    "\n",
    "## Example 2:\n",
    "**Input:** `{'x':10}, -2`  \n",
    "**Output:** `{'x':8}`\n"
   ]
  },
  {
   "cell_type": "code",
   "execution_count": 86,
   "id": "2cae3f6e",
   "metadata": {},
   "outputs": [
    {
     "data": {
      "text/plain": [
       "{'a': 4, 'b': 5}"
      ]
     },
     "execution_count": 86,
     "metadata": {},
     "output_type": "execute_result"
    }
   ],
   "source": [
    "input = {'a':1,'b':2}\n",
    "\n",
    "value = 3\n",
    "\n",
    "for x in input:\n",
    "    input[x] += 3\n",
    "\n",
    "input"
   ]
  },
  {
   "cell_type": "code",
   "execution_count": null,
   "id": "5a8c4696",
   "metadata": {},
   "outputs": [],
   "source": []
  },
  {
   "cell_type": "markdown",
   "id": "1a4997f3",
   "metadata": {},
   "source": [
    "# 18. Find Duplicates in List Using Dictionary\n",
    "\n",
    "## Problem Statement:\n",
    "Write a function to find all elements that appear more than once in a list, using a dictionary.\n",
    "\n",
    "## Example 1:\n",
    "**Input:** `[1,2,2,3,4,4,4]`  \n",
    "**Output:** `[2,4]`\n",
    "\n",
    "## Example 2:\n",
    "**Input:** `['a','b','c','a']`  \n",
    "**Output:** `['a']`\n"
   ]
  },
  {
   "cell_type": "code",
   "execution_count": 104,
   "id": "35f77861",
   "metadata": {},
   "outputs": [
    {
     "data": {
      "text/plain": [
       "[2, 4]"
      ]
     },
     "execution_count": 104,
     "metadata": {},
     "output_type": "execute_result"
    }
   ],
   "source": [
    "Input = [1,2,2,3,4,4,4]\n",
    "dict = {}\n",
    "list = []\n",
    "\n",
    "for x in Input:\n",
    "    if x in dict:\n",
    "        dict[x]+=1\n",
    "    else:\n",
    "        dict[x] = 1\n",
    "\n",
    "for x in dict:\n",
    "    if dict[x] > 1:\n",
    "        list.append(x)\n",
    "list"
   ]
  },
  {
   "cell_type": "code",
   "execution_count": null,
   "id": "e2d4570d",
   "metadata": {},
   "outputs": [],
   "source": []
  },
  {
   "cell_type": "markdown",
   "id": "37dab363",
   "metadata": {},
   "source": [
    "# 19. Merge Dictionaries Summing Values\n",
    "\n",
    "## Problem Statement:\n",
    "Write a function to merge two dictionaries, summing values for common keys.\n",
    "\n",
    "## Example 1:\n",
    "**Input:** `{'a':2, 'b':3}, {'a':3, 'c':1}`  \n",
    "**Output:** `{'a':5, 'b':3, 'c':1}`\n",
    "\n",
    "## Example 2:\n",
    "**Input:** `{'x':1}, {'x':-1}`  \n",
    "**Output:** `{'x':0}`\n"
   ]
  },
  {
   "cell_type": "code",
   "execution_count": 110,
   "id": "f6b073b2",
   "metadata": {},
   "outputs": [
    {
     "data": {
      "text/plain": [
       "{'a': 5, 'b': 3, 'c': 1}"
      ]
     },
     "execution_count": 110,
     "metadata": {},
     "output_type": "execute_result"
    }
   ],
   "source": [
    "dict1,dict2 = {'a':2, 'b':3}, {'a':3, 'c':1}\n",
    "for x in dict1:\n",
    "    if x in dict2:\n",
    "        dict1[x] += dict2[x]\n",
    "for x in dict2:\n",
    "    if x not in dict1:\n",
    "        dict1[x] = dict2[x]\n",
    "dict1"
   ]
  },
  {
   "cell_type": "code",
   "execution_count": null,
   "id": "4931ea97",
   "metadata": {},
   "outputs": [],
   "source": []
  },
  {
   "cell_type": "markdown",
   "id": "01937f89",
   "metadata": {},
   "source": [
    "# 20. Dictionary of Lists to Dictionary of Sums\n",
    "\n",
    "## Problem Statement:\n",
    "Write a function to convert a dictionary of lists into a dictionary of sums.\n",
    "\n",
    "## Example 1:\n",
    "**Input:** `{'a':[1,2,3], 'b':[4,5]}`  \n",
    "**Output:** `{'a':6, 'b':9}`\n",
    "\n",
    "## Example 2:\n",
    "**Input:** `{'x':[10]}`  \n",
    "**Output:** `{'x':10}`\n"
   ]
  },
  {
   "cell_type": "code",
   "execution_count": 113,
   "id": "02599144",
   "metadata": {},
   "outputs": [
    {
     "data": {
      "text/plain": [
       "{'a': 6, 'b': 9}"
      ]
     },
     "execution_count": 113,
     "metadata": {},
     "output_type": "execute_result"
    }
   ],
   "source": [
    "input = {'a':[1,2,3], 'b':[4,5]}\n",
    "for x in input:\n",
    "    input[x] = sum(input[x])\n",
    "input"
   ]
  },
  {
   "cell_type": "code",
   "execution_count": null,
   "id": "551ecc09",
   "metadata": {},
   "outputs": [],
   "source": []
  }
 ],
 "metadata": {
  "kernelspec": {
   "display_name": "Python 3",
   "language": "python",
   "name": "python3"
  },
  "language_info": {
   "codemirror_mode": {
    "name": "ipython",
    "version": 3
   },
   "file_extension": ".py",
   "mimetype": "text/x-python",
   "name": "python",
   "nbconvert_exporter": "python",
   "pygments_lexer": "ipython3",
   "version": "3.11.5"
  }
 },
 "nbformat": 4,
 "nbformat_minor": 5
}
