{
 "cells": [
  {
   "cell_type": "code",
   "execution_count": null,
   "id": "0bc4a385-f454-4e08-be9f-5ab175292793",
   "metadata": {},
   "outputs": [],
   "source": [
    "Problem Statement:\n",
    " Write a function to flatten a nested list of strings\n",
    "Example:\n",
    "input = [ 'nata', 'pizza' [ 'eat', 'tea' ], ['sort'] ]"
   ]
  },
  {
   "cell_type": "code",
   "execution_count": 15,
   "id": "ad632a65-d0fe-4b0a-a1a1-7615b7faac8e",
   "metadata": {},
   "outputs": [
    {
     "ename": "ValueError",
     "evalue": "zero-dimensional arrays cannot be concatenated",
     "output_type": "error",
     "traceback": [
      "\u001b[1;31m---------------------------------------------------------------------------\u001b[0m",
      "\u001b[1;31mValueError\u001b[0m                                Traceback (most recent call last)",
      "Cell \u001b[1;32mIn[15], line 5\u001b[0m\n\u001b[0;32m      3\u001b[0m     \u001b[38;5;28;01mreturn\u001b[39;00m np\u001b[38;5;241m.\u001b[39mconcatenate(s)\u001b[38;5;241m.\u001b[39mtolist()\n\u001b[0;32m      4\u001b[0m s\u001b[38;5;241m=\u001b[39m[ \u001b[38;5;124m'\u001b[39m\u001b[38;5;124mnata\u001b[39m\u001b[38;5;124m'\u001b[39m, \u001b[38;5;124m'\u001b[39m\u001b[38;5;124mpizza\u001b[39m\u001b[38;5;124m'\u001b[39m , [ \u001b[38;5;124m'\u001b[39m\u001b[38;5;124meat\u001b[39m\u001b[38;5;124m'\u001b[39m, \u001b[38;5;124m'\u001b[39m\u001b[38;5;124mtea\u001b[39m\u001b[38;5;124m'\u001b[39m ], [\u001b[38;5;124m'\u001b[39m\u001b[38;5;124msort\u001b[39m\u001b[38;5;124m'\u001b[39m] ]\n\u001b[1;32m----> 5\u001b[0m \u001b[38;5;28mprint\u001b[39m(flat_loop(s))\n",
      "Cell \u001b[1;32mIn[15], line 3\u001b[0m, in \u001b[0;36mflat_loop\u001b[1;34m(s)\u001b[0m\n\u001b[0;32m      2\u001b[0m \u001b[38;5;28;01mdef\u001b[39;00m \u001b[38;5;21mflat_loop\u001b[39m(s):\n\u001b[1;32m----> 3\u001b[0m     \u001b[38;5;28;01mreturn\u001b[39;00m np\u001b[38;5;241m.\u001b[39mconcatenate(s)\u001b[38;5;241m.\u001b[39mtolist()\n",
      "\u001b[1;31mValueError\u001b[0m: zero-dimensional arrays cannot be concatenated"
     ]
    }
   ],
   "source": [
    "import numpy as np\n",
    "def flat_loop(s):\n",
    "    return np.concatenate(s).tolist()\n",
    "s=[ 'nata', 'pizza' , [ 'eat', 'tea' ], ['sort'] ]\n",
    "print(flat_loop(s))"
   ]
  },
  {
   "cell_type": "code",
   "execution_count": 39,
   "id": "d3704477-5b73-40b3-9997-d68d181a3879",
   "metadata": {},
   "outputs": [
    {
     "name": "stdout",
     "output_type": "stream",
     "text": [
      "['nata', 'pizza', 'eat', 'tea', 'sort']\n"
     ]
    }
   ],
   "source": [
    "def flat_list1(nested_list):\n",
    "    flat_list= []\n",
    "\n",
    "    for item in nested_list:\n",
    "        if isinstance(item,list):\n",
    "            flat_list.extend (flat_list1(item))\n",
    "        else:\n",
    "            flat_list.append(item)\n",
    "    return flat_list\n",
    "nested_list=['nata','pizza' , ['eat','tea'],['sort']]\n",
    "print(flat_list1(nested_list))"
   ]
  },
  {
   "cell_type": "code",
   "execution_count": null,
   "id": "b6ae557c-a49b-4652-82d1-a8cd58da4ba2",
   "metadata": {},
   "outputs": [],
   "source": [
    "Problem Statement:\n",
    " Write a function that compresses a string using the counts of repeated characters.\n",
    " If the compressed string is not smaller than the original, return the original.\n",
    "Example:\n",
    "Input: \"aaabbccccaaa\"\n",
    "Output: \"a3b2c4a3\""
   ]
  },
  {
   "cell_type": "code",
   "execution_count": 51,
   "id": "b74d0ed1-d282-4ec7-a205-3c6c5108124f",
   "metadata": {},
   "outputs": [
    {
     "name": "stdout",
     "output_type": "stream",
     "text": [
      "a4b3c4a3\n"
     ]
    }
   ],
   "source": [
    "def compress_string(s):\n",
    "    compressed=[]\n",
    "    count=1\n",
    "    for i in range(1,len(s)):\n",
    "        if s[i]==s[i-1]:\n",
    "            count+=1\n",
    "        else:\n",
    "            compressed.append(f\"{s[i-1]}{count}\")\n",
    "            count=1\n",
    "    compressed.append(f\"{s[-1]}{count}\")\n",
    "    compressed_str=\"\".join(compressed)\n",
    "    return compressed_str if len(compressed_str) < len(s) else s\n",
    "s=\"aaaabbbccccaaa\"\n",
    "print(compress_string(s))"
   ]
  },
  {
   "cell_type": "code",
   "execution_count": null,
   "id": "193e3ca4-50c8-42aa-acb5-9ccaada64764",
   "metadata": {},
   "outputs": [],
   "source": [
    " Write a function that takes a string and returns the top 3 most frequent words in it (ignoring case and punctuation).\n",
    "Example:\n",
    "Input: \"The quick brown fox jumps over the lazy dog. The dog barked.\""
   ]
  },
  {
   "cell_type": "code",
   "execution_count": 61,
   "id": "c38011ca-1b24-4c22-90de-22603993729e",
   "metadata": {},
   "outputs": [
    {
     "name": "stdout",
     "output_type": "stream",
     "text": [
      "[('most', 2), ('common', 2), ('person', 2)]\n"
     ]
    }
   ],
   "source": [
    "import re\n",
    "from collections import Counter\n",
    "def word_counter(s):\n",
    "    words=re.findall(r'\\b\\w+\\b' ,s.lower())\n",
    "    words_counter=Counter(words)\n",
    "    return words_counter.most_common(3)\n",
    "s=\"the most common person in this world is a person who is most common\"\n",
    "print(word_counter(s))\n",
    "\n"
   ]
  },
  {
   "cell_type": "code",
   "execution_count": null,
   "id": "68eb2475-848d-44bd-8026-9956b2599e1a",
   "metadata": {},
   "outputs": [],
   "source": [
    "Problem Statement:\n",
    " Given a list of strings, group them into anagrams (words with the same letters in different order).\n",
    "Example:\n",
    "Input: [\"bat\", \"tab\", \"eat\", \"tea\", \"tan\", \"nat\"]"
   ]
  },
  {
   "cell_type": "code",
   "execution_count": 63,
   "id": "52de347a-267f-49e0-b223-745bd6637c16",
   "metadata": {},
   "outputs": [
    {
     "name": "stdout",
     "output_type": "stream",
     "text": [
      "[['bat', 'tab'], ['eat', 'tea'], ['tan', 'nat']]\n"
     ]
    }
   ],
   "source": [
    "from collections import defaultdict\n",
    "def grp_ana(w):\n",
    "    anagram=defaultdict(list)\n",
    "    for i in w:\n",
    "        anagram[\"\".join(sorted(i))].append(i)\n",
    "    return list(anagram.values())\n",
    "w=[\"bat\", \"tab\", \"eat\", \"tea\", \"tan\", \"nat\"]\n",
    "print(grp_ana(w))"
   ]
  },
  {
   "cell_type": "code",
   "execution_count": null,
   "id": "de8b9e03-d634-4887-b8cd-83c2edc8cd3d",
   "metadata": {},
   "outputs": [],
   "source": []
  }
 ],
 "metadata": {
  "kernelspec": {
   "display_name": "Python [conda env:base] *",
   "language": "python",
   "name": "conda-base-py"
  },
  "language_info": {
   "codemirror_mode": {
    "name": "ipython",
    "version": 3
   },
   "file_extension": ".py",
   "mimetype": "text/x-python",
   "name": "python",
   "nbconvert_exporter": "python",
   "pygments_lexer": "ipython3",
   "version": "3.12.7"
  }
 },
 "nbformat": 4,
 "nbformat_minor": 5
}
