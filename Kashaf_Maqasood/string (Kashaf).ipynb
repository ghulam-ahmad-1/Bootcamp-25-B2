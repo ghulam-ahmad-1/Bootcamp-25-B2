{
 "cells": [
  {
   "cell_type": "markdown",
   "id": "ae0ad9d2-1f51-46a1-8ed2-2b00ed414cc6",
   "metadata": {},
   "source": [
    "# 1. Reverse a String\n",
    "## Problem Statement:\n",
    "Write a function to reverse a given string.\n",
    "\n",
    "## Example 1:\n",
    "**Input:** `\"hello\"`  \n",
    "**Output:** `\"olleh\"`\n",
    "\n",
    "## Example 2:\n",
    "**Input:** `\"world\"`  \n",
    "**Output:** `\"dlrow\"`\n"
   ]
  },
  {
   "cell_type": "code",
   "execution_count": 1,
   "id": "e1435aa7-457c-4b05-ad71-fc7204bb88d7",
   "metadata": {},
   "outputs": [
    {
     "name": "stdout",
     "output_type": "stream",
     "text": [
      "olleh\n"
     ]
    }
   ],
   "source": [
    "input1=\"hello\"\n",
    "output=input1[::-1]\n",
    "print(output)"
   ]
  },
  {
   "cell_type": "code",
   "execution_count": 3,
   "id": "1f15a4a5-58a6-4b21-b178-575c8b4790f2",
   "metadata": {},
   "outputs": [
    {
     "name": "stdout",
     "output_type": "stream",
     "text": [
      "dlrow\n"
     ]
    }
   ],
   "source": [
    "input1=\"world\"\n",
    "output=input1[::-1]\n",
    "print(output)"
   ]
  },
  {
   "cell_type": "markdown",
   "id": "5a3927f5-6184-40a6-b3f8-34cd08ef19a1",
   "metadata": {},
   "source": [
    "# 2. Check if a String is a Palindrome\n",
    "## Problem Statement:\n",
    "Write a function to check if a string is a palindrome (same forward and backward).\n",
    "\n",
    "## Example 1:\n",
    "**Input:** `\"madam\"`  \n",
    "**Output:** `True`\n",
    "\n",
    "## Example 2:\n",
    "**Input:** `\"hello\"`  \n",
    "**Output:** `False`\n"
   ]
  },
  {
   "cell_type": "code",
   "execution_count": 15,
   "id": "e10e83ef-aacb-4764-9c1a-dc28c3d0b3df",
   "metadata": {},
   "outputs": [
    {
     "name": "stdout",
     "output_type": "stream",
     "text": [
      "True\n"
     ]
    }
   ],
   "source": [
    "def palindrome(input1):\n",
    "    return input1==input[::-1]\n",
    "        \n",
    "    \n",
    "    \n",
    "\n",
    "input1=\"madam\"\n",
    "output=palindrome(input1)\n",
    "print(output)\n",
    "    \n",
    "\n"
   ]
  },
  {
   "cell_type": "code",
   "execution_count": 17,
   "id": "5e6a74e5-1a49-48ee-8624-20cce02b3597",
   "metadata": {},
   "outputs": [
    {
     "name": "stdout",
     "output_type": "stream",
     "text": [
      "False\n"
     ]
    }
   ],
   "source": [
    "def palindrome(input1):\n",
    "    return input1==input[::-1]\n",
    "        \n",
    "    \n",
    "    \n",
    "\n",
    "input1=\"hello\"\n",
    "output=palindrome(input1)\n",
    "print(output)\n",
    "    \n",
    "\n",
    "\n",
    "    "
   ]
  },
  {
   "cell_type": "markdown",
   "id": "58b59720-7688-43eb-b24d-d886c3b3c809",
   "metadata": {},
   "source": [
    "# 3. Count the Number of Vowels in a String\n",
    "## Problem Statement:\n",
    "Write a function to count the number of vowels in a given string.\n",
    "\n",
    "## Example 1:\n",
    "**Input:** `\"apple\"`  \n",
    "**Output:** `2`\n",
    "\n",
    "## Example 2:\n",
    "**Input:** `\"banana\"`  \n",
    "**Output:** `3`\n"
   ]
  },
  {
   "cell_type": "code",
   "execution_count": null,
   "id": "cc7ada12-76e0-4759-87ee-31224446fdd7",
   "metadata": {},
   "outputs": [],
   "source": [
    "def count_vowels(word):\n",
    "    vowels=\"aeiou\"\n",
    "    "
   ]
  },
  {
   "cell_type": "code",
   "execution_count": null,
   "id": "6ad075be-9c42-41d2-be73-ac5760653656",
   "metadata": {},
   "outputs": [],
   "source": []
  },
  {
   "cell_type": "markdown",
   "id": "abcbec6f-e9e9-4238-8130-b4313c2357cc",
   "metadata": {},
   "source": [
    "# 4. Remove All Whitespace from a String\n",
    "## Problem Statement:\n",
    "Write a function that removes all whitespace characters from a string.\n",
    "\n",
    "## Example 1:\n",
    "**Input:** `\"hello world\"`  \n",
    "**Output:** `\"helloworld\"`\n",
    "\n",
    "## Example 2:\n",
    "**Input:** `\" Python  is  fun \"`  \n",
    "**Output:** `\"Pythonisfun\"`\n"
   ]
  },
  {
   "cell_type": "code",
   "execution_count": 29,
   "id": "59152c0f-cc53-4319-8b61-7bfa739a35a9",
   "metadata": {},
   "outputs": [
    {
     "name": "stdout",
     "output_type": "stream",
     "text": [
      "hellowold\n",
      "Pythonisfun\n"
     ]
    }
   ],
   "source": [
    "def remove_whitespaces(s):\n",
    "    return \"\".join(s.split())\n",
    "s=\"hello wold\"\n",
    "s2=\" Python  is  fun \"\n",
    "output=remove_whitespaces(s)\n",
    "output1=remove_whitespaces(s2)\n",
    "print(output)\n",
    "print(output1)\n",
    "\n",
    "\n"
   ]
  },
  {
   "cell_type": "code",
   "execution_count": null,
   "id": "c0feb715-5555-4882-b4d5-862addfc2e83",
   "metadata": {},
   "outputs": [],
   "source": []
  },
  {
   "cell_type": "markdown",
   "id": "7a8010ed-0bbf-42c3-82c3-46b175c6e8af",
   "metadata": {},
   "source": [
    "# 5. Find the First Non-Repeating Character in a String\n",
    "## Problem Statement:\n",
    "Write a function to find the first non-repeating character in a given string.\n",
    "\n",
    "## Example 1:\n",
    "**Input:** `\"swiss\"`  \n",
    "**Output:** `\"w\"`\n",
    "\n",
    "## Example 2:\n",
    "**Input:** `\"racecar\"`  \n",
    "**Output:** `\"e\"`\n"
   ]
  },
  {
   "cell_type": "code",
   "execution_count": 35,
   "id": "4aca409d-99fa-43bc-814c-9d93d54507ad",
   "metadata": {},
   "outputs": [
    {
     "name": "stdout",
     "output_type": "stream",
     "text": [
      "e\n",
      "w\n"
     ]
    }
   ],
   "source": [
    "def non_repeating_character (s):\n",
    "    char_count={}\n",
    "    for char in s:\n",
    "        char_count[char]=char_count.get(char,0)+1\n",
    "    for char in s:\n",
    "        if char_count[char]==1:\n",
    "            return  char\n",
    "        \n",
    "    return None  \n",
    "\n",
    "s=\"racecar\"\n",
    "s2=\"swiss\"\n",
    "\n",
    "output=non_repeating_character (s)\n",
    "print(output)\n",
    "output2=non_repeating_character (s2)\n",
    "print(output2)\n"
   ]
  },
  {
   "cell_type": "code",
   "execution_count": null,
   "id": "728943f8-b9cd-45ca-9c54-4698ea06ade7",
   "metadata": {},
   "outputs": [],
   "source": []
  },
  {
   "cell_type": "markdown",
   "id": "d3b7ea00-ba1f-46ed-b122-bb6b7cac074f",
   "metadata": {},
   "source": [
    "# 6. Check if Two Strings are Anagrams\n",
    "## Problem Statement:\n",
    "Write a function to check if two strings are anagrams.\n",
    "\n",
    "## Example 1:\n",
    "**Input:** `\"listen\", \"silent\"`  \n",
    "**Output:** `True`\n",
    "\n",
    "## Example 2:\n",
    "**Input:** `\"hello\", \"world\"`  \n",
    "**Output:** `False`\n"
   ]
  },
  {
   "cell_type": "code",
   "execution_count": 41,
   "id": "3b2c05e5-a7df-476b-9061-f7df9c3539d2",
   "metadata": {},
   "outputs": [
    {
     "name": "stdout",
     "output_type": "stream",
     "text": [
      "True\n",
      "False\n"
     ]
    }
   ],
   "source": [
    "def check_anangram(s1,s2):\n",
    "    return sorted(s1)==sorted(s2)\n",
    "s1,s2=\"listen\",\"silent\"\n",
    "s3,s4=\"hello\", \"world\"\n",
    "output=check_anangram(s1,s2)\n",
    "output1=check_anangram(s3,s4)\n",
    "print(output)\n",
    "print(output1)\n"
   ]
  },
  {
   "cell_type": "code",
   "execution_count": null,
   "id": "921ee110-5557-4d6e-a669-dc81ca237bcb",
   "metadata": {},
   "outputs": [],
   "source": []
  },
  {
   "cell_type": "markdown",
   "id": "3989dfe4-ab68-419d-9042-877f37ede653",
   "metadata": {},
   "source": [
    "# 7. Convert a String to Uppercase\n",
    "## Problem Statement:\n",
    "Write a function to convert a string to uppercase.\n",
    "\n",
    "## Example 1:\n",
    "**Input:** `\"python\"`  \n",
    "**Output:** `\"PYTHON\"`\n",
    "\n",
    "## Example 2:\n",
    "**Input:** `\"Hello World\"`  \n",
    "**Output:** `\"HELLO WORLD\"`\n"
   ]
  },
  {
   "cell_type": "code",
   "execution_count": 45,
   "id": "163d0c7c-d95c-48f5-9f57-a6415fe19099",
   "metadata": {},
   "outputs": [
    {
     "name": "stdout",
     "output_type": "stream",
     "text": [
      "PYTHON\n"
     ]
    }
   ],
   "source": [
    "def upper_case(s):\n",
    "    return  s.upper()\n",
    "s= \"python\"\n",
    "print(upper_case(s))"
   ]
  },
  {
   "cell_type": "code",
   "execution_count": 47,
   "id": "aaf4bac8-2992-489f-90fe-a6321edc64c4",
   "metadata": {},
   "outputs": [
    {
     "name": "stdout",
     "output_type": "stream",
     "text": [
      "HELLO WORLD\n"
     ]
    }
   ],
   "source": [
    "def upper_case(s):\n",
    "    return  s.upper()\n",
    "s= \"Hello World\"\n",
    "print(upper_case(s))"
   ]
  },
  {
   "cell_type": "markdown",
   "id": "d9101758-0867-41e5-b4a0-a71db20536ae",
   "metadata": {},
   "source": [
    "# 8. Find the Most Frequent Character in a String\n",
    "## Problem Statement:\n",
    "Write a function to find the most frequently occurring character in a string.\n",
    "\n",
    "## Example 1:\n",
    "**Input:** `\"banana\"`  \n",
    "**Output:** `\"a\"`\n",
    "\n",
    "## Example 2:\n",
    "**Input:** `\"mississippi\"`  \n",
    "**Output:** `\"i\"`\n"
   ]
  },
  {
   "cell_type": "code",
   "execution_count": 49,
   "id": "9cb62d0a-3b5d-4271-8091-ad6e666acd2a",
   "metadata": {},
   "outputs": [
    {
     "name": "stdout",
     "output_type": "stream",
     "text": [
      "i\n"
     ]
    }
   ],
   "source": [
    "from collections import Counter\n",
    "def freq_char(s):\n",
    "    if not s:\n",
    "        return None\n",
    "    char_count=Counter(s)\n",
    "    return max(char_count, key=char_count.get)\n",
    "s= \"mississippi\"\n",
    "print(freq_char(s))\n",
    "    "
   ]
  },
  {
   "cell_type": "code",
   "execution_count": 51,
   "id": "8934605e-f2d2-49ab-a77e-2fb406d85d79",
   "metadata": {},
   "outputs": [
    {
     "name": "stdout",
     "output_type": "stream",
     "text": [
      "a\n"
     ]
    }
   ],
   "source": [
    "from collections import Counter\n",
    "def freq_char(s):\n",
    "    if not s:\n",
    "        return None\n",
    "    char_count=Counter(s)\n",
    "    return max(char_count, key=char_count.get)\n",
    "s= \"banana\"\n",
    "print(freq_char(s))\n",
    "    "
   ]
  },
  {
   "cell_type": "markdown",
   "id": "b23de210-f0d4-4e2d-ab9a-aa853e471a15",
   "metadata": {},
   "source": [
    "# 9. Check if a String Contains Only Digits\n",
    "## Problem Statement:\n",
    "Write a function to check if a string contains only digits.\n",
    "\n",
    "## Example 1:\n",
    "**Input:** `\"12345\"`  \n",
    "**Output:** `True`\n",
    "\n",
    "## Example 2:\n",
    "**Input:** `\"12a45\"`  \n",
    "**Output:** `False`\n"
   ]
  },
  {
   "cell_type": "code",
   "execution_count": 53,
   "id": "419f05a0-3648-4ef3-badf-0cdd35869ec1",
   "metadata": {},
   "outputs": [
    {
     "name": "stdout",
     "output_type": "stream",
     "text": [
      "True\n"
     ]
    }
   ],
   "source": [
    "def check_digit(s):\n",
    "    return s.isdigit()\n",
    "s=    \"12345\"\n",
    "print(check_digit(s))\n",
    "    "
   ]
  },
  {
   "cell_type": "code",
   "execution_count": 55,
   "id": "8c3e49f1-defd-4b0d-8321-6517e6917795",
   "metadata": {},
   "outputs": [
    {
     "name": "stdout",
     "output_type": "stream",
     "text": [
      "False\n"
     ]
    }
   ],
   "source": [
    "def check_digit(s):\n",
    "    return s.isdigit()\n",
    "s=    \"12a45\"\n",
    "print(check_digit(s))\n",
    "    "
   ]
  },
  {
   "cell_type": "markdown",
   "id": "f9d2b183-d1aa-446d-a449-90d3375f7c53",
   "metadata": {},
   "source": [
    "# 10. Find the Length of the Longest Word in a Sentence\n",
    "## Problem Statement:\n",
    "Write a function to find the length of the longest word in a sentence.\n",
    "\n",
    "## Example 1:\n",
    "**Input:** `\"The quick brown fox\"`  \n",
    "**Output:** `5`\n",
    "\n",
    "## Example 2:\n",
    "**Input:** `c  \n",
    "**Output:** `8`\n"
   ]
  },
  {
   "cell_type": "code",
   "execution_count": 57,
   "id": "0ed5e962-f5dd-4e91-85e2-0cd0e9fcdf84",
   "metadata": {},
   "outputs": [
    {
     "name": "stdout",
     "output_type": "stream",
     "text": [
      "4\n"
     ]
    }
   ],
   "source": [
    "def length(s):\n",
    "    words= s.split()\n",
    "    return max(len(words) for word in words) if words else 0\n",
    "\n",
    "s=\"The quick brown fox\"\n",
    "print(length(s)) "
   ]
  },
  {
   "cell_type": "code",
   "execution_count": 59,
   "id": "6a62f30a-81ee-405a-89c5-560f88ed25fe",
   "metadata": {},
   "outputs": [
    {
     "name": "stdout",
     "output_type": "stream",
     "text": [
      "6\n"
     ]
    }
   ],
   "source": [
    "def length(s):\n",
    "    words= s.split()\n",
    "    return max(len(words) for word in words) if words else 0\n",
    "\n",
    "s=\"A journey of a thousand miles\"\n",
    "print(length(s)) "
   ]
  },
  {
   "cell_type": "markdown",
   "id": "3499119b-b83a-4e89-b68e-db215e943998",
   "metadata": {},
   "source": [
    "# 11. Replace Spaces with '%20' (URL Encoding)\n",
    "## Problem Statement:\n",
    "Write a function to replace all spaces in a string with `%20`.\n",
    "\n",
    "## Example 1:\n",
    "**Input:** `\"Mr John Smith\"`  \n",
    "**Output:** `\"Mr%20John%20Smith\"`\n",
    "\n",
    "## Example 2:\n",
    "**Input:** `\"Hello World\"`  \n",
    "**Output:** `\"Hello%20World\"`\n"
   ]
  },
  {
   "cell_type": "code",
   "execution_count": 61,
   "id": "c1b7b110-7076-4e47-9690-b99de5ffd695",
   "metadata": {},
   "outputs": [
    {
     "name": "stdout",
     "output_type": "stream",
     "text": [
      "Mr%20John%20Smith\n"
     ]
    }
   ],
   "source": [
    "def replace(s):\n",
    "    return s.replace(\" \", \"%20\")\n",
    "s=\"Mr John Smith\"\n",
    "print(replace(s))"
   ]
  },
  {
   "cell_type": "code",
   "execution_count": 63,
   "id": "b94611fe-6fb7-4edf-9954-176d45889f5b",
   "metadata": {},
   "outputs": [
    {
     "name": "stdout",
     "output_type": "stream",
     "text": [
      "Hello%20World\n"
     ]
    }
   ],
   "source": [
    "def replace(s):\n",
    "    return s.replace(\" \", \"%20\")\n",
    "s=\"Hello World\"\n",
    "print(replace(s))"
   ]
  },
  {
   "cell_type": "markdown",
   "id": "59196fe4-763d-4d23-a941-6f17ce59481a",
   "metadata": {},
   "source": [
    "# 12. Find All Substrings of a String\n",
    "## Problem Statement:\n",
    "Write a function to return all substrings of a given string.\n",
    "\n",
    "## Example 1:\n",
    "**Input:** `\"abc\"`  \n",
    "**Output:** `[\"a\", \"b\", \"c\", \"ab\", \"bc\", \"abc\"]`\n",
    "\n",
    "## Example 2:\n",
    "**Input:** `\"xyz\"`  \n",
    "**Output:** `[\"x\", \"y\", \"z\", \"xy\", \"yz\", \"xyz\"]`\n"
   ]
  },
  {
   "cell_type": "code",
   "execution_count": 75,
   "id": "743c4c58-3950-427f-8c0b-bd4e3eda5fa8",
   "metadata": {},
   "outputs": [
    {
     "name": "stdout",
     "output_type": "stream",
     "text": [
      "['x', 'xy', 'xyz', 'y', 'yz', 'z']\n"
     ]
    }
   ],
   "source": [
    "def get_substring(s):\n",
    "    substring=[]\n",
    "    for i in range(len(s)):\n",
    "        for j in range(i+1,len(s)+1):\n",
    "            substring.append(s[i:j])\n",
    "    return substring\n",
    "s=\"xyz\"\n",
    "print(get_substring(s))\n",
    "            "
   ]
  },
  {
   "cell_type": "code",
   "execution_count": 77,
   "id": "993ed2a1-22ea-41ab-aeec-da5d494b8561",
   "metadata": {},
   "outputs": [
    {
     "name": "stdout",
     "output_type": "stream",
     "text": [
      "['a', 'ab', 'abc', 'b', 'bc', 'c']\n"
     ]
    }
   ],
   "source": [
    "def get_substrings(s):\n",
    "    substrings = []\n",
    "    for i in range(len(s)):\n",
    "        for j in range(i + 1, len(s) + 1):\n",
    "            substrings.append(s[i:j])\n",
    "    return substrings\n",
    "\n",
    "\n",
    "text = \"abc\"\n",
    "print(get_substrings(text))  \n"
   ]
  },
  {
   "cell_type": "markdown",
   "id": "08cca7f3-0462-4e37-883e-4850ac7d9b4a",
   "metadata": {},
   "source": [
    "# 13. Reverse Each Word in a Sentence\n",
    "## Problem Statement:\n",
    "Write a function to reverse each word in a sentence while maintaining word order.\n",
    "\n",
    "## Example 1:\n",
    "**Input:** `\"hello world\"`  \n",
    "**Output:** `\"olleh dlrow\"`\n",
    "\n",
    "## Example 2:\n",
    "**Input:** `\"Python is fun\"`  \n",
    "**Output:** `\"nohtyP si nuf\"`\n"
   ]
  },
  {
   "cell_type": "code",
   "execution_count": 79,
   "id": "53eab569-3ea4-4e48-a585-6f729c5e2c69",
   "metadata": {},
   "outputs": [
    {
     "name": "stdout",
     "output_type": "stream",
     "text": [
      "olleh dlrow\n"
     ]
    }
   ],
   "source": [
    "def reverse_sen(s):\n",
    "    return \" \".join(word[::-1] for word in s.split())\n",
    "s=\"hello world\"\n",
    "print(reverse_sen(s))"
   ]
  },
  {
   "cell_type": "code",
   "execution_count": 81,
   "id": "72bba1ec-96c7-41b3-976f-f8dbdbc8cec9",
   "metadata": {},
   "outputs": [
    {
     "name": "stdout",
     "output_type": "stream",
     "text": [
      "nohtyP si nuf\n"
     ]
    }
   ],
   "source": [
    "def reverse_sen(s):\n",
    "    return \" \".join(word[::-1] for word in s.split())\n",
    "s=\"Python is fun\"\n",
    "print(reverse_sen(s))"
   ]
  },
  {
   "cell_type": "markdown",
   "id": "c52682bf-2f05-4515-acce-192b91883858",
   "metadata": {},
   "source": [
    "# 14. Find the Longest Common Prefix of a List of Strings\n",
    "## Problem Statement:\n",
    "Write a function to find the longest common prefix among a list of strings.\n",
    "\n",
    "## Example 1:\n",
    "**Input:** `[\"flower\", \"flow\", \"flight\"]`  \n",
    "**Output:** `\"fl\"`\n",
    "\n",
    "## Example 2:\n",
    "**Input:** `[\"dog\", \"racecar\", \"car\"]`  \n",
    "**Output:** `\"\"`\n"
   ]
  },
  {
   "cell_type": "code",
   "execution_count": 96,
   "id": "c326e4fd-7ad6-4d3e-9bd9-f5b28114eeff",
   "metadata": {},
   "outputs": [
    {
     "name": "stdout",
     "output_type": "stream",
     "text": [
      "None\n"
     ]
    }
   ],
   "source": [
    "def  check_prefix(s):\n",
    "    if not s:\n",
    "        return \"\"\n",
    "    prefix=s[0]\n",
    "    for i in s[1:]:\n",
    "        while i.startswith(prefix):\n",
    "            prefix = prefix[:-1]\n",
    "        \n",
    "    if not prefix:\n",
    "         return \"\"\n",
    "s=[\"flower\", \"flow\", \"flight\"]\n",
    "print(check_prefix(s))\n",
    "        "
   ]
  },
  {
   "cell_type": "code",
   "execution_count": 98,
   "id": "353a8f44-2487-4cc5-8c4a-0e24e8148a22",
   "metadata": {},
   "outputs": [
    {
     "name": "stdout",
     "output_type": "stream",
     "text": [
      "None\n"
     ]
    }
   ],
   "source": [
    "def  check_prefix(s):\n",
    "    if not s:\n",
    "        return \"\"\n",
    "    prefix=s[0]\n",
    "    for i in s[1:]:\n",
    "        while i.startswith(prefix):\n",
    "            prefix = prefix[:-1]\n",
    "        \n",
    "    if not prefix:\n",
    "         return \"\"\n",
    "s=[\"dog\", \"racecar\", \"car\"]\n",
    "print(check_prefix(s))\n",
    "        "
   ]
  },
  {
   "cell_type": "markdown",
   "id": "b90c467f-001e-4a93-bfff-08bba1a3f703",
   "metadata": {},
   "source": [
    "# 15. Check if a String is a Rotation of Another String\n",
    "## Problem Statement:\n",
    "Write a function to check if one string is a rotation of another.\n",
    "\n",
    "## Example 1:\n",
    "**Input:** `\"waterbottle\", \"erbottlewat\"`  \n",
    "**Output:** `True`\n",
    "\n",
    "## Example 2:\n",
    "**Input:** `\"hello\", \"lohel\"`  \n",
    "**Output:** `True`\n"
   ]
  },
  {
   "cell_type": "code",
   "execution_count": null,
   "id": "dcf4c6e8-8192-4cff-8d48-9226448d0ff2",
   "metadata": {},
   "outputs": [],
   "source": []
  },
  {
   "cell_type": "code",
   "execution_count": 110,
   "id": "f8e70c6b-a474-4c93-82fc-e39811a5f637",
   "metadata": {},
   "outputs": [
    {
     "name": "stdout",
     "output_type": "stream",
     "text": [
      "True\n",
      "True\n"
     ]
    }
   ],
   "source": [
    "def is_rotation(s1,s2):\n",
    "    if len(s1)!=len(s2):\n",
    "        return False\n",
    "    return s2 in (s1,s2)\n",
    "s1,s2=\"hello\", \"lohel\"\n",
    "s3,s4=\"waterbottle\", \"erbottlewat\" \n",
    "print(is_rotation(s1, s2))\n",
    "print(is_rotation(s3, s4))\n"
   ]
  },
  {
   "cell_type": "markdown",
   "id": "06d7a3d1-e01d-483d-95a9-30330f21440c",
   "metadata": {},
   "source": [
    "# 16. Find the Second Most Frequent Character in a String\n",
    "## Problem Statement:\n",
    "Write a function to find the second most frequent character in a string.\n",
    "\n",
    "## Example 1:\n",
    "**Input:** `\"banana\"`  \n",
    "**Output:** `\"n\"`\n",
    "\n",
    "## Example 2:\n",
    "**Input:** `\"mississippi\"`  \n",
    "**Output:** `\"s\"`\n"
   ]
  },
  {
   "cell_type": "code",
   "execution_count": 112,
   "id": "65a91520-9d70-4dc4-990a-931223a98b52",
   "metadata": {},
   "outputs": [
    {
     "name": "stdout",
     "output_type": "stream",
     "text": [
      "n\n",
      "s\n"
     ]
    }
   ],
   "source": [
    "from collections import Counter\n",
    "\n",
    "def second_frequent_char(s):\n",
    "    if not s:\n",
    "        return None  \n",
    "    \n",
    "    char_count = Counter(s) \n",
    "    sorted_chars = sorted(char_count.items(), key=lambda x: x[1], reverse=True)  \n",
    "\n",
    "    return sorted_chars[1][0] if len(sorted_chars) > 1 else None \n",
    "\n",
    "\n",
    "text = \"banana\"\n",
    "text2=\"mississippi\"\n",
    "print(second_frequent_char(text)) \n",
    "print(second_frequent_char(text2)) \n"
   ]
  },
  {
   "cell_type": "code",
   "execution_count": null,
   "id": "2fba47a2-7db0-4fc0-9895-e157412acb93",
   "metadata": {},
   "outputs": [],
   "source": []
  },
  {
   "cell_type": "markdown",
   "id": "d262dac7-f41e-400d-bfd0-ea5057f5c922",
   "metadata": {},
   "source": [
    "# 17. Check if a String is Made of Unique Characters\n",
    "## Problem Statement:\n",
    "Write a function to check if a string contains only unique characters.\n",
    "\n",
    "## Example 1:\n",
    "**Input:** `\"abcdef\"`  \n",
    "**Output:** `True`\n",
    "\n",
    "## Example 2:\n",
    "**Input:** `\"aabbcc\"`  \n",
    "**Output:** `False`\n"
   ]
  },
  {
   "cell_type": "code",
   "execution_count": 114,
   "id": "253be31b-7673-4b81-95e9-cb1cd09c48fb",
   "metadata": {},
   "outputs": [
    {
     "name": "stdout",
     "output_type": "stream",
     "text": [
      "True\n",
      "False\n"
     ]
    }
   ],
   "source": [
    "def has_unique_chars(s):\n",
    "    return len(set(s)) == len(s)\n",
    "\n",
    "\n",
    "text1 = \"abcdef\"\n",
    "text2 = \"aabbcc\"\n",
    "\n",
    "print(has_unique_chars(text1))  \n",
    "print(has_unique_chars(text2))  "
   ]
  },
  {
   "cell_type": "code",
   "execution_count": null,
   "id": "80463995-b332-445c-9ed8-201e2e2caf7f",
   "metadata": {},
   "outputs": [],
   "source": []
  },
  {
   "cell_type": "markdown",
   "id": "739f0939-b81a-45d4-8cd2-d0659268711c",
   "metadata": {},
   "source": [
    "# 18. Find the Longest Palindromic Substring\n",
    "## Problem Statement:\n",
    "Write a function to find the longest palindromic substring.\n",
    "\n",
    "## Example 1:\n",
    "**Input:** `\"babad\"`  \n",
    "**Output:** `\"bab\"`\n",
    "\n",
    "## Example 2:\n",
    "**Input:** `\"cbbd\"`  \n",
    "**Output:** `\"bb\"`\n"
   ]
  },
  {
   "cell_type": "code",
   "execution_count": 158,
   "id": "dd923018-aa4a-4cb2-98e0-6628d8b3b400",
   "metadata": {},
   "outputs": [
    {
     "name": "stdout",
     "output_type": "stream",
     "text": [
      "bab\n",
      "bb\n"
     ]
    }
   ],
   "source": [
    "def longest_palindromic_substring(s):\n",
    "    if not s:\n",
    "        return \"\"\n",
    "\n",
    "    def expand_around_center(left, right):\n",
    "        while left >= 0 and right < len(s) and s[left] == s[right]:\n",
    "            left -= 1\n",
    "            right += 1\n",
    "        return s[left + 1:right]\n",
    "\n",
    "    longest = \"\"\n",
    "    for i in range(len(s)):\n",
    "        # Odd-length palindrome (single center)\n",
    "        odd_palindrome = expand_around_center(i, i)\n",
    "        # Even-length palindrome (two-center)\n",
    "        even_palindrome = expand_around_center(i, i + 1)\n",
    "        longest = max(longest, odd_palindrome, even_palindrome, key=len)\n",
    "\n",
    "    return longest\n",
    "\n",
    "\n",
    "text = \"babad\"\n",
    "text2=\"cbbd\"\n",
    "print(longest_palindromic_substring(text))  \n",
    "print(longest_palindromic_substring(text2))  \n"
   ]
  },
  {
   "cell_type": "code",
   "execution_count": null,
   "id": "02c1d0bc-c2b1-433e-a610-4d621d65e934",
   "metadata": {},
   "outputs": [],
   "source": []
  },
  {
   "cell_type": "markdown",
   "id": "9e48cf7b-b799-4574-984c-51fc15661b16",
   "metadata": {},
   "source": [
    "# 19. Remove Duplicate Characters from a String\n",
    "## Problem Statement:\n",
    "Write a function to remove duplicate characters from a string.\n",
    "\n",
    "## Example 1:\n",
    "**Input:** `\"hello\"`  \n",
    "**Output:** `\"helo\"`\n",
    "\n",
    "## Example 2:\n",
    "**Input:** `\"mississippi\"`  \n",
    "**Output:** `\"misp\"`\n"
   ]
  },
  {
   "cell_type": "code",
   "execution_count": null,
   "id": "932536b6-b58c-47d8-897e-10aba10d5654",
   "metadata": {},
   "outputs": [],
   "source": []
  },
  {
   "cell_type": "code",
   "execution_count": 124,
   "id": "ec288297-0e2a-4465-898b-39c002bed301",
   "metadata": {},
   "outputs": [
    {
     "name": "stdout",
     "output_type": "stream",
     "text": [
      "misp\n",
      "helo\n"
     ]
    }
   ],
   "source": [
    "def remove_dupplicates(s):\n",
    "    seen=set()\n",
    "    result=[]\n",
    "    for char in s:\n",
    "        if char not in seen:\n",
    "         seen.add(char)\n",
    "         result.append(char)\n",
    "    return \"\".join(result)\n",
    "s=\"mississippi\"\n",
    "s2=\"hello\"\n",
    "print(remove_dupplicates(s))\n",
    "\n",
    "print(remove_dupplicates(s2)) "
   ]
  },
  {
   "cell_type": "markdown",
   "id": "a9abec9d-c0c3-4425-a1c6-e42342e3757a",
   "metadata": {},
   "source": [
    "# 20. Sort a String Alphabetically\n",
    "## Problem Statement:\n",
    "Write a function to sort the characters of a string alphabetically.\n",
    "\n",
    "## Example 1:\n",
    "**Input:** `\"hello\"`  \n",
    "**Output:** `\"ehllo\"`\n",
    "\n",
    "## Example 2:\n",
    "**Input:** `\"python\"`  \n",
    "**Output:** `\"hnopty\"`\n"
   ]
  },
  {
   "cell_type": "code",
   "execution_count": 126,
   "id": "9b881c5a-7e0c-4785-a2d6-f700725fad3d",
   "metadata": {},
   "outputs": [
    {
     "name": "stdout",
     "output_type": "stream",
     "text": [
      "ehllo\n",
      "hnopty\n"
     ]
    }
   ],
   "source": [
    "def sort_string(s):\n",
    "    return \"\".join(sorted(s))\n",
    "\n",
    "\n",
    "text = \"hello\"\n",
    "text2=\"python\"\n",
    "print(sort_string(text))  \n",
    "print(sort_string(text2))  \n"
   ]
  },
  {
   "cell_type": "code",
   "execution_count": null,
   "id": "4f23c52f-0cb4-4dc7-a06d-be464656fda3",
   "metadata": {},
   "outputs": [],
   "source": []
  },
  {
   "cell_type": "markdown",
   "id": "f267b2f8-c7f6-4295-a7b0-c89af5cf5807",
   "metadata": {},
   "source": [
    "# 21. Find the Smallest Window in a String Containing All Characters of Another String\n",
    "## Problem Statement:\n",
    "Write a function to find the smallest window in a string that contains all characters of another string.\n",
    "\n",
    "## Example 1:\n",
    "**Input:** `\"ADOBECODEBANC\", \"ABC\"`  \n",
    "**Output:** `\"BANC\"`\n",
    "\n",
    "## Example 2:\n",
    "**Input:** `\"aabbcc\", \"abc\"`  \n",
    "**Output:** `\"abc\"`\n"
   ]
  },
  {
   "cell_type": "code",
   "execution_count": null,
   "id": "8145837e-3cc3-43a5-9875-f955033aaf09",
   "metadata": {},
   "outputs": [],
   "source": [
    "from collections import Counter\n",
    "\n",
    "def smallest_window(s, t):\n",
    "    if not s or not t:\n",
    "        return \"\"\n",
    "\n",
    "    char_count = Counter(t)  # Frequency map of characters in t\n",
    "    required_chars = len(char_count)\n",
    "    left, right, formed = 0, 0, 0\n",
    "    window_counts = {}\n",
    "    min_length = float(\"inf\")\n",
    "    min_window = \"\"\n",
    "\n",
    "    while right < len(s):\n",
    "        char = s[right]\n",
    "        window_counts[char] = window_counts.get(char, 0) + 1\n",
    "\n",
    "        if char in char_count and window_counts[char] == char_count[char]:\n",
    "            formed += 1\n",
    "\n",
    "        while left <= right and formed == required_chars:\n",
    "            if right - left + 1 < min_length:\n",
    "                min_length = right - left + 1\n",
    "                min_window = s[left:right + 1]\n",
    "\n",
    "            window_counts[s[left]] -= 1\n",
    "            if s[left] in char_count and window_counts[s[left]] < char_count[s[left]]:\n",
    "                formed -= 1\n",
    "            \n",
    "            left += 1\n",
    "\n",
    "        right += 1\n",
    "\n",
    "    return min_window\n",
    "\n",
    "\n",
    "s = \"ADOBECODEBANC\"\n",
    "t = \"ABC\"\n",
    "print(smallest_window(s, t))  "
   ]
  },
  {
   "cell_type": "code",
   "execution_count": null,
   "id": "08fc97e2-2eee-4b3f-850c-59e547121d25",
   "metadata": {},
   "outputs": [],
   "source": []
  },
  {
   "cell_type": "markdown",
   "id": "823be7b2-27f6-40df-82b2-f1f2b69bc1cb",
   "metadata": {},
   "source": [
    "# 22. Implement Run-Length Encoding\n",
    "## Problem Statement:\n",
    "Write a function to perform run-length encoding on a string.\n",
    "\n",
    "## Example 1:\n",
    "**Input:** `\"aaabbc\"`  \n",
    "**Output:** `\"3a2b1c\"`\n",
    "\n",
    "## Example 2:\n",
    "**Input:** `\"wwwwaaadexxxxxx\"`  \n",
    "**Output:** `\"4w3a1d1e6x\"`\n"
   ]
  },
  {
   "cell_type": "code",
   "execution_count": null,
   "id": "e127c6b1-57fd-40cb-aac5-9e07cef586d2",
   "metadata": {},
   "outputs": [],
   "source": []
  },
  {
   "cell_type": "code",
   "execution_count": 132,
   "id": "3470d46e-444c-43be-b517-730824de2300",
   "metadata": {},
   "outputs": [
    {
     "name": "stdout",
     "output_type": "stream",
     "text": [
      "w4a3d1e1x6\n",
      "a3b2c1\n"
     ]
    }
   ],
   "source": [
    "def run_length_encoding(s):\n",
    "    if not s:\n",
    "        return \"\"\n",
    "    encoded=[]\n",
    "    count=1\n",
    "    for i in range(1,len(s)):\n",
    "        if s[i]==s[i-1]:\n",
    "            count+=1\n",
    "        else:\n",
    "            encoded.append(s[i-1]+str(count))\n",
    "            count=1\n",
    "    encoded.append(s[-1]+str(count))\n",
    "    return \"\".join(encoded)\n",
    "s=\"wwwwaaadexxxxxx\"\n",
    "s2=\"aaabbc\"\n",
    "print(run_length_encoding(s))\n",
    "print(run_length_encoding(s2))"
   ]
  },
  {
   "cell_type": "markdown",
   "id": "fbe98b17-13c7-4f56-93db-d8056113af31",
   "metadata": {},
   "source": [
    "# 23. Find All Permutations of a String\n",
    "## Problem Statement:\n",
    "Write a function to generate all permutations of a given string.\n",
    "\n",
    "## Example 1:\n",
    "**Input:** `\"abc\"`  \n",
    "**Output:** `[\"abc\", \"acb\", \"bac\", \"bca\", \"cab\", \"cba\"]`\n",
    "\n",
    "## Example 2:\n",
    "**Input:** `\"ab\"`  \n",
    "**Output:** `[\"ab\", \"ba\"]`\n"
   ]
  },
  {
   "cell_type": "code",
   "execution_count": 136,
   "id": "101a8feb-61e0-4a97-a122-f5de229e6817",
   "metadata": {
    "scrolled": true
   },
   "outputs": [
    {
     "name": "stdout",
     "output_type": "stream",
     "text": [
      "['aaabbc', 'aaabcb', 'aaabbc', 'aaabcb', 'aaacbb', 'aaacbb', 'aababc', 'aabacb', 'aabbac', 'aabbca', 'aabcab', 'aabcba', 'aababc', 'aabacb', 'aabbac', 'aabbca', 'aabcab', 'aabcba', 'aacabb', 'aacabb', 'aacbab', 'aacbba', 'aacbab', 'aacbba', 'aaabbc', 'aaabcb', 'aaabbc', 'aaabcb', 'aaacbb', 'aaacbb', 'aababc', 'aabacb', 'aabbac', 'aabbca', 'aabcab', 'aabcba', 'aababc', 'aabacb', 'aabbac', 'aabbca', 'aabcab', 'aabcba', 'aacabb', 'aacabb', 'aacbab', 'aacbba', 'aacbab', 'aacbba', 'abaabc', 'abaacb', 'ababac', 'ababca', 'abacab', 'abacba', 'abaabc', 'abaacb', 'ababac', 'ababca', 'abacab', 'abacba', 'abbaac', 'abbaca', 'abbaac', 'abbaca', 'abbcaa', 'abbcaa', 'abcaab', 'abcaba', 'abcaab', 'abcaba', 'abcbaa', 'abcbaa', 'abaabc', 'abaacb', 'ababac', 'ababca', 'abacab', 'abacba', 'abaabc', 'abaacb', 'ababac', 'ababca', 'abacab', 'abacba', 'abbaac', 'abbaca', 'abbaac', 'abbaca', 'abbcaa', 'abbcaa', 'abcaab', 'abcaba', 'abcaab', 'abcaba', 'abcbaa', 'abcbaa', 'acaabb', 'acaabb', 'acabab', 'acabba', 'acabab', 'acabba', 'acaabb', 'acaabb', 'acabab', 'acabba', 'acabab', 'acabba', 'acbaab', 'acbaba', 'acbaab', 'acbaba', 'acbbaa', 'acbbaa', 'acbaab', 'acbaba', 'acbaab', 'acbaba', 'acbbaa', 'acbbaa', 'aaabbc', 'aaabcb', 'aaabbc', 'aaabcb', 'aaacbb', 'aaacbb', 'aababc', 'aabacb', 'aabbac', 'aabbca', 'aabcab', 'aabcba', 'aababc', 'aabacb', 'aabbac', 'aabbca', 'aabcab', 'aabcba', 'aacabb', 'aacabb', 'aacbab', 'aacbba', 'aacbab', 'aacbba', 'aaabbc', 'aaabcb', 'aaabbc', 'aaabcb', 'aaacbb', 'aaacbb', 'aababc', 'aabacb', 'aabbac', 'aabbca', 'aabcab', 'aabcba', 'aababc', 'aabacb', 'aabbac', 'aabbca', 'aabcab', 'aabcba', 'aacabb', 'aacabb', 'aacbab', 'aacbba', 'aacbab', 'aacbba', 'abaabc', 'abaacb', 'ababac', 'ababca', 'abacab', 'abacba', 'abaabc', 'abaacb', 'ababac', 'ababca', 'abacab', 'abacba', 'abbaac', 'abbaca', 'abbaac', 'abbaca', 'abbcaa', 'abbcaa', 'abcaab', 'abcaba', 'abcaab', 'abcaba', 'abcbaa', 'abcbaa', 'abaabc', 'abaacb', 'ababac', 'ababca', 'abacab', 'abacba', 'abaabc', 'abaacb', 'ababac', 'ababca', 'abacab', 'abacba', 'abbaac', 'abbaca', 'abbaac', 'abbaca', 'abbcaa', 'abbcaa', 'abcaab', 'abcaba', 'abcaab', 'abcaba', 'abcbaa', 'abcbaa', 'acaabb', 'acaabb', 'acabab', 'acabba', 'acabab', 'acabba', 'acaabb', 'acaabb', 'acabab', 'acabba', 'acabab', 'acabba', 'acbaab', 'acbaba', 'acbaab', 'acbaba', 'acbbaa', 'acbbaa', 'acbaab', 'acbaba', 'acbaab', 'acbaba', 'acbbaa', 'acbbaa', 'aaabbc', 'aaabcb', 'aaabbc', 'aaabcb', 'aaacbb', 'aaacbb', 'aababc', 'aabacb', 'aabbac', 'aabbca', 'aabcab', 'aabcba', 'aababc', 'aabacb', 'aabbac', 'aabbca', 'aabcab', 'aabcba', 'aacabb', 'aacabb', 'aacbab', 'aacbba', 'aacbab', 'aacbba', 'aaabbc', 'aaabcb', 'aaabbc', 'aaabcb', 'aaacbb', 'aaacbb', 'aababc', 'aabacb', 'aabbac', 'aabbca', 'aabcab', 'aabcba', 'aababc', 'aabacb', 'aabbac', 'aabbca', 'aabcab', 'aabcba', 'aacabb', 'aacabb', 'aacbab', 'aacbba', 'aacbab', 'aacbba', 'abaabc', 'abaacb', 'ababac', 'ababca', 'abacab', 'abacba', 'abaabc', 'abaacb', 'ababac', 'ababca', 'abacab', 'abacba', 'abbaac', 'abbaca', 'abbaac', 'abbaca', 'abbcaa', 'abbcaa', 'abcaab', 'abcaba', 'abcaab', 'abcaba', 'abcbaa', 'abcbaa', 'abaabc', 'abaacb', 'ababac', 'ababca', 'abacab', 'abacba', 'abaabc', 'abaacb', 'ababac', 'ababca', 'abacab', 'abacba', 'abbaac', 'abbaca', 'abbaac', 'abbaca', 'abbcaa', 'abbcaa', 'abcaab', 'abcaba', 'abcaab', 'abcaba', 'abcbaa', 'abcbaa', 'acaabb', 'acaabb', 'acabab', 'acabba', 'acabab', 'acabba', 'acaabb', 'acaabb', 'acabab', 'acabba', 'acabab', 'acabba', 'acbaab', 'acbaba', 'acbaab', 'acbaba', 'acbbaa', 'acbbaa', 'acbaab', 'acbaba', 'acbaab', 'acbaba', 'acbbaa', 'acbbaa', 'baaabc', 'baaacb', 'baabac', 'baabca', 'baacab', 'baacba', 'baaabc', 'baaacb', 'baabac', 'baabca', 'baacab', 'baacba', 'babaac', 'babaca', 'babaac', 'babaca', 'babcaa', 'babcaa', 'bacaab', 'bacaba', 'bacaab', 'bacaba', 'bacbaa', 'bacbaa', 'baaabc', 'baaacb', 'baabac', 'baabca', 'baacab', 'baacba', 'baaabc', 'baaacb', 'baabac', 'baabca', 'baacab', 'baacba', 'babaac', 'babaca', 'babaac', 'babaca', 'babcaa', 'babcaa', 'bacaab', 'bacaba', 'bacaab', 'bacaba', 'bacbaa', 'bacbaa', 'baaabc', 'baaacb', 'baabac', 'baabca', 'baacab', 'baacba', 'baaabc', 'baaacb', 'baabac', 'baabca', 'baacab', 'baacba', 'babaac', 'babaca', 'babaac', 'babaca', 'babcaa', 'babcaa', 'bacaab', 'bacaba', 'bacaab', 'bacaba', 'bacbaa', 'bacbaa', 'bbaaac', 'bbaaca', 'bbaaac', 'bbaaca', 'bbacaa', 'bbacaa', 'bbaaac', 'bbaaca', 'bbaaac', 'bbaaca', 'bbacaa', 'bbacaa', 'bbaaac', 'bbaaca', 'bbaaac', 'bbaaca', 'bbacaa', 'bbacaa', 'bbcaaa', 'bbcaaa', 'bbcaaa', 'bbcaaa', 'bbcaaa', 'bbcaaa', 'bcaaab', 'bcaaba', 'bcaaab', 'bcaaba', 'bcabaa', 'bcabaa', 'bcaaab', 'bcaaba', 'bcaaab', 'bcaaba', 'bcabaa', 'bcabaa', 'bcaaab', 'bcaaba', 'bcaaab', 'bcaaba', 'bcabaa', 'bcabaa', 'bcbaaa', 'bcbaaa', 'bcbaaa', 'bcbaaa', 'bcbaaa', 'bcbaaa', 'baaabc', 'baaacb', 'baabac', 'baabca', 'baacab', 'baacba', 'baaabc', 'baaacb', 'baabac', 'baabca', 'baacab', 'baacba', 'babaac', 'babaca', 'babaac', 'babaca', 'babcaa', 'babcaa', 'bacaab', 'bacaba', 'bacaab', 'bacaba', 'bacbaa', 'bacbaa', 'baaabc', 'baaacb', 'baabac', 'baabca', 'baacab', 'baacba', 'baaabc', 'baaacb', 'baabac', 'baabca', 'baacab', 'baacba', 'babaac', 'babaca', 'babaac', 'babaca', 'babcaa', 'babcaa', 'bacaab', 'bacaba', 'bacaab', 'bacaba', 'bacbaa', 'bacbaa', 'baaabc', 'baaacb', 'baabac', 'baabca', 'baacab', 'baacba', 'baaabc', 'baaacb', 'baabac', 'baabca', 'baacab', 'baacba', 'babaac', 'babaca', 'babaac', 'babaca', 'babcaa', 'babcaa', 'bacaab', 'bacaba', 'bacaab', 'bacaba', 'bacbaa', 'bacbaa', 'bbaaac', 'bbaaca', 'bbaaac', 'bbaaca', 'bbacaa', 'bbacaa', 'bbaaac', 'bbaaca', 'bbaaac', 'bbaaca', 'bbacaa', 'bbacaa', 'bbaaac', 'bbaaca', 'bbaaac', 'bbaaca', 'bbacaa', 'bbacaa', 'bbcaaa', 'bbcaaa', 'bbcaaa', 'bbcaaa', 'bbcaaa', 'bbcaaa', 'bcaaab', 'bcaaba', 'bcaaab', 'bcaaba', 'bcabaa', 'bcabaa', 'bcaaab', 'bcaaba', 'bcaaab', 'bcaaba', 'bcabaa', 'bcabaa', 'bcaaab', 'bcaaba', 'bcaaab', 'bcaaba', 'bcabaa', 'bcabaa', 'bcbaaa', 'bcbaaa', 'bcbaaa', 'bcbaaa', 'bcbaaa', 'bcbaaa', 'caaabb', 'caaabb', 'caabab', 'caabba', 'caabab', 'caabba', 'caaabb', 'caaabb', 'caabab', 'caabba', 'caabab', 'caabba', 'cabaab', 'cababa', 'cabaab', 'cababa', 'cabbaa', 'cabbaa', 'cabaab', 'cababa', 'cabaab', 'cababa', 'cabbaa', 'cabbaa', 'caaabb', 'caaabb', 'caabab', 'caabba', 'caabab', 'caabba', 'caaabb', 'caaabb', 'caabab', 'caabba', 'caabab', 'caabba', 'cabaab', 'cababa', 'cabaab', 'cababa', 'cabbaa', 'cabbaa', 'cabaab', 'cababa', 'cabaab', 'cababa', 'cabbaa', 'cabbaa', 'caaabb', 'caaabb', 'caabab', 'caabba', 'caabab', 'caabba', 'caaabb', 'caaabb', 'caabab', 'caabba', 'caabab', 'caabba', 'cabaab', 'cababa', 'cabaab', 'cababa', 'cabbaa', 'cabbaa', 'cabaab', 'cababa', 'cabaab', 'cababa', 'cabbaa', 'cabbaa', 'cbaaab', 'cbaaba', 'cbaaab', 'cbaaba', 'cbabaa', 'cbabaa', 'cbaaab', 'cbaaba', 'cbaaab', 'cbaaba', 'cbabaa', 'cbabaa', 'cbaaab', 'cbaaba', 'cbaaab', 'cbaaba', 'cbabaa', 'cbabaa', 'cbbaaa', 'cbbaaa', 'cbbaaa', 'cbbaaa', 'cbbaaa', 'cbbaaa', 'cbaaab', 'cbaaba', 'cbaaab', 'cbaaba', 'cbabaa', 'cbabaa', 'cbaaab', 'cbaaba', 'cbaaab', 'cbaaba', 'cbabaa', 'cbabaa', 'cbaaab', 'cbaaba', 'cbaaab', 'cbaaba', 'cbabaa', 'cbabaa', 'cbbaaa', 'cbbaaa', 'cbbaaa', 'cbbaaa', 'cbbaaa', 'cbbaaa']\n",
      "['ab', 'ba']\n"
     ]
    }
   ],
   "source": [
    "from itertools import permutations\n",
    "def perm(s):\n",
    "    return[\"\".join(p) for p in permutations(s)]\n",
    "s=\"abc\"\n",
    "s=\"ab\"\n",
    "print(perm(s2))\n",
    "print(perm(s))"
   ]
  },
  {
   "cell_type": "code",
   "execution_count": null,
   "id": "ff510bea-3648-446b-93c8-aa5246b38c50",
   "metadata": {},
   "outputs": [],
   "source": []
  },
  {
   "cell_type": "markdown",
   "id": "1064221e-a51f-46b1-afea-c37505d3b68b",
   "metadata": {},
   "source": [
    "# 24. Count the Number of Distinct Subsequences of a String\n",
    "## Problem Statement:\n",
    "Write a function to count the number of distinct subsequences of a string.\n",
    "\n",
    "## Example 1:\n",
    "**Input:** `\"abc\"`  \n",
    "**Output:** `7`\n",
    "\n",
    "## Example 2:\n",
    "**Input:** `\"aaa\"`  \n",
    "**Output:** `3`\n"
   ]
  },
  {
   "cell_type": "code",
   "execution_count": 146,
   "id": "fb9c8ffe-7045-446c-9033-c88601f25969",
   "metadata": {
    "scrolled": true
   },
   "outputs": [
    {
     "name": "stdout",
     "output_type": "stream",
     "text": [
      "3\n",
      "7\n"
     ]
    }
   ],
   "source": [
    "def subseq(s):\n",
    "    subseqq={\"\"}\n",
    "    for char in s:\n",
    "        subseqq |={sub+char for sub in subseqq}\n",
    "    return len(subseqq) -1\n",
    "s=\"aaa\"\n",
    "s2=\"abc\"\n",
    "print(subseq(s))\n",
    "print(subseq(s2))\n",
    "        \n",
    "    "
   ]
  },
  {
   "cell_type": "code",
   "execution_count": null,
   "id": "9740cb31-5aa2-431e-9c3d-9822cf1521ac",
   "metadata": {},
   "outputs": [],
   "source": []
  },
  {
   "cell_type": "markdown",
   "id": "2fd59b75-b80f-466c-9517-34c927e66134",
   "metadata": {},
   "source": [
    "# 25. Find the Shortest Superstring That Contains All Given Strings as Subsequences\n",
    "## Problem Statement:\n",
    "Write a function to find the shortest superstring that contains all given strings as subsequences.\n",
    "\n",
    "## Example 1:\n",
    "**Input:** `[\"catg\", \"ctaagt\", \"gcta\", \"ttca\", \"atgcatc\"]`  \n",
    "**Output:** `\"gctaagttcatgcatc\"`\n",
    "\n",
    "## Example 2:\n",
    "**Input:** `[\"abc\", \"bca\", \"cab\"]`  \n",
    "**Output:** `\"abcab\"`\n"
   ]
  },
  {
   "cell_type": "code",
   "execution_count": 150,
   "id": "c4340296-fcc3-45e5-a27c-8706d0c53502",
   "metadata": {},
   "outputs": [
    {
     "name": "stdout",
     "output_type": "stream",
     "text": [
      "catgcatcagt\n",
      "abcab\n"
     ]
    }
   ],
   "source": [
    "from itertools import permutations\n",
    "\n",
    "def merge_strings(s1, s2):\n",
    "    \"\"\" Merge s1 and s2 into the shortest superstring containing both as subsequences \"\"\"\n",
    "    i, j = 0, 0\n",
    "    merged = []\n",
    "    for char in s1:\n",
    "        merged.append(char)\n",
    "        if j < len(s2) and char == s2[j]:\n",
    "            j += 1\n",
    "    merged.extend(s2[j:])\n",
    "    return \"\".join(merged)\n",
    "\n",
    "def shortest_superstring(strings):\n",
    "    \n",
    "    shortest = None\n",
    "    for perm in permutations(strings):\n",
    "        superstring = perm[0]\n",
    "        for s in perm[1:]:\n",
    "            superstring = merge_strings(superstring, s)\n",
    "        if shortest is None or len(superstring) < len(shortest):\n",
    "            shortest = superstring\n",
    "    \n",
    "    return shortest\n",
    "\n",
    "\n",
    "words = [\"catg\", \"ctaagt\", \"gcta\", \"ttca\", \"atgcatc\"]\n",
    "word=[\"abc\", \"bca\", \"cab\"]\n",
    "print(shortest_superstring(words))\n",
    "print(shortest_superstring(word))  \n"
   ]
  },
  {
   "cell_type": "code",
   "execution_count": null,
   "id": "74cff6c2-11a5-42c4-9a16-f649cd8c7e10",
   "metadata": {},
   "outputs": [],
   "source": []
  }
 ],
 "metadata": {
  "kernelspec": {
   "display_name": "Python [conda env:base] *",
   "language": "python",
   "name": "conda-base-py"
  },
  "language_info": {
   "codemirror_mode": {
    "name": "ipython",
    "version": 3
   },
   "file_extension": ".py",
   "mimetype": "text/x-python",
   "name": "python",
   "nbconvert_exporter": "python",
   "pygments_lexer": "ipython3",
   "version": "3.12.7"
  }
 },
 "nbformat": 4,
 "nbformat_minor": 5
}
