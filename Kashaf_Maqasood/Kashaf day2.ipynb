{
 "cells": [
  {
   "cell_type": "code",
   "execution_count": null,
   "id": "5055bda0-8400-4d73-a626-6b7f355d4184",
   "metadata": {},
   "outputs": [],
   "source": [
    "Task: Group words that are anagrams of each other.\n",
    "Input: [\"bat\", \"tab\", \"tap\", \"pat\", \"cat\"]"
   ]
  },
  {
   "cell_type": "code",
   "execution_count": 7,
   "id": "6dee116f-62ad-4c9f-987e-66dd6030c185",
   "metadata": {},
   "outputs": [
    {
     "name": "stdout",
     "output_type": "stream",
     "text": [
      "[['bat', 'tab'], ['tap', 'pat'], ['cat']]\n"
     ]
    }
   ],
   "source": [
    "def group_anagram(string):\n",
    "    #dict to holdd anangram\n",
    "    anagram={}\n",
    "    for word in string:\n",
    "        #sort the word to form a key\n",
    "        sorted_word= \" \".join(sorted(word))\n",
    "        if sorted_word in anagram:\n",
    "            anagram[sorted_word].append(word)\n",
    "        else:\n",
    "            anagram[sorted_word]=[word]\n",
    "    return list(anagram.values())\n",
    "\n",
    "string=[\"bat\",\"tab\",\"tap\",\"pat\",\"cat\"]\n",
    "result=group_anagram(string)\n",
    "print(result)"
   ]
  },
  {
   "cell_type": "code",
   "execution_count": 16,
   "id": "5298e9b8-cc58-4b99-b415-20524e8796d5",
   "metadata": {},
   "outputs": [
    {
     "name": "stdout",
     "output_type": "stream",
     "text": [
      "2\n",
      "3\n",
      "5\n",
      "7\n"
     ]
    }
   ],
   "source": [
    "def prime_iterator(n):\n",
    "\n",
    "    def is_prime(num):\n",
    "        if num <= 1:\n",
    "            return False\n",
    "        if num <= 3:\n",
    "            return True\n",
    "        if num % 2 == 0 or num % 3 == 0:\n",
    "            return False\n",
    "        i = 5\n",
    "        while i * i <= num:\n",
    "            if num % i == 0 or num % (i + 2) == 0:\n",
    "                return False\n",
    "            i += 6\n",
    "        return True\n",
    "\n",
    "    for i in range(2, n + 1):\n",
    "        if is_prime(i):\n",
    "            yield i\n",
    "\n",
    "\n",
    "primes = prime_iterator(10)\n",
    "for prime in primes:\n",
    "    print(prime)"
   ]
  },
  {
   "cell_type": "code",
   "execution_count": null,
   "id": "40c07f75-1bad-408b-94ce-723423adee1c",
   "metadata": {},
   "outputs": [],
   "source": [
    "Task: Transpose a 2D matrix using pure Python (without NumPy).\n",
    "Input: [[1, 2, 3], [4, 5, 6]]"
   ]
  },
  {
   "cell_type": "code",
   "execution_count": 14,
   "id": "dc351bc9-25d8-42ff-a1ad-ce11ca22ec81",
   "metadata": {},
   "outputs": [
    {
     "ename": "SyntaxError",
     "evalue": "invalid syntax (107804753.py, line 12)",
     "output_type": "error",
     "traceback": [
      "\u001b[1;36m  Cell \u001b[1;32mIn[14], line 12\u001b[1;36m\u001b[0m\n\u001b[1;33m    print(&quot;Original Matrix:&quot;)\u001b[0m\n\u001b[1;37m          ^\u001b[0m\n\u001b[1;31mSyntaxError\u001b[0m\u001b[1;31m:\u001b[0m invalid syntax\n"
     ]
    }
   ],
   "source": [
    "matrix = [[1, 2, 3], [4, 5, 6]]\n",
    "\n",
    "rows = len(matrix)\n",
    "cols = len(matrix[0])\n",
    "\n",
    "transposed = [[0 for _ in range(rows)] for _ in range(cols)]\n",
    "\n",
    "for i in range(rows):\n",
    "    for j in range(cols):\n",
    "        transposed[j][i] = matrix[i][j]\n",
    "\n",
    "print(&quot;Original Matrix:&quot;)\n",
    "for row in matrix:\n",
    "    print(row)\n",
    "\n",
    "print(&quot;\\nTransposed Matrix:&quot;)\n",
    "for row in transposed:\n",
    "\n",
    "    print(row)"
   ]
  },
  {
   "cell_type": "code",
   "execution_count": 20,
   "id": "07232d7f-99e3-47d4-b7cc-d4271ee3476b",
   "metadata": {},
   "outputs": [
    {
     "name": "stdout",
     "output_type": "stream",
     "text": [
      "[(1, 4), (2, 5), (3, 6)]\n"
     ]
    }
   ],
   "source": [
    "matrix = [[1, 2, 3], [4, 5, 6]]\n",
    "a=list(zip(*matrix))\n",
    "print(a)"
   ]
  },
  {
   "cell_type": "code",
   "execution_count": null,
   "id": "ba2734fe-fdf2-4df1-a8fc-7f1e1fa72edd",
   "metadata": {},
   "outputs": [],
   "source": []
  },
  {
   "cell_type": "code",
   "execution_count": null,
   "id": "c36a896c-9254-4e4f-ad07-30fb8643a51a",
   "metadata": {},
   "outputs": [],
   "source": []
  }
 ],
 "metadata": {
  "kernelspec": {
   "display_name": "Python [conda env:base] *",
   "language": "python",
   "name": "conda-base-py"
  },
  "language_info": {
   "codemirror_mode": {
    "name": "ipython",
    "version": 3
   },
   "file_extension": ".py",
   "mimetype": "text/x-python",
   "name": "python",
   "nbconvert_exporter": "python",
   "pygments_lexer": "ipython3",
   "version": "3.12.7"
  }
 },
 "nbformat": 4,
 "nbformat_minor": 5
}
