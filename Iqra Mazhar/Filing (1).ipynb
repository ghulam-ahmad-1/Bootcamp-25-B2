{
 "cells": [
  {
   "cell_type": "markdown",
   "id": "64d0c9e3-3656-4283-99df-33c0316c7908",
   "metadata": {},
   "source": [
    "# os module – File & Directory Operations\n",
    "\n",
    "**Q:1 Create, Read, Rename, Remove files and folder**\n",
    "\n",
    "**Q:1 Get the current working directory and navigate to a sibling directory**\n",
    "\n",
    "**Q:2 Recursively list all files in a directory using only os.**\n",
    "\n",
    "**Q:3 Check if a given path is a file, directory, or doesn't exist.**\n",
    "\n",
    "**Q:4 Create a deeply nested folder structure like**\n",
    "\n",
    "**Q:5 Delete all empty directories from a given folder tree.**\n",
    "\n",
    "**Q:6 Count the number of .txt files in a directory using os.listdir().**\n",
    "\n",
    "**Q:7 Move files from one folder to another, creating the destination if needed.**\n",
    "\n",
    "**Q:8 Rename all .log files to .log.bak within a folder.**\n",
    "\n",
    "**Q:9 Print the total size of all files in a directory in MB.**\n",
    "\n",
    "**Q:10 Print the directory tree with indentation (like the tree command).**\n",
    "\n",
    "**Q:11 Write a function that synchronizes the structure of two directory trees (mirror mode).**\n",
    "\n",
    "**Q:12 Implement a safe folder deletion function that first moves the folder to a Trash directory.**\n",
    "\n",
    "**Q13: Find and print the most recently modified file in a directory recursively.**\n",
    "\n",
    "**Q:14 Generate a directory report (file count, total size, subfolders) in JSON format.**\n",
    "\n",
    "**Q:15 Track changes (additions/removals) in a directory over time using file snapshots.**\n",
    "\n"
   ]
  },
  {
   "cell_type": "code",
   "execution_count": null,
   "id": "e3e973e5-2029-425f-be77-c80797a655b1",
   "metadata": {},
   "outputs": [],
   "source": [
    "**Q:1 Create, Read, Rename, Remove files and folder**"
   ]
  },
  {
   "cell_type": "code",
   "execution_count": 73,
   "id": "0cb604f0-de66-4950-b150-3ea858f1ba9c",
   "metadata": {},
   "outputs": [],
   "source": [
    "import os \n",
    "os.mkdir('my_folder1') #creating a folder \n",
    "\n"
   ]
  },
  {
   "cell_type": "code",
   "execution_count": 5,
   "id": "d3de0b42-c67e-49e2-b0d9-225e9d3f9a91",
   "metadata": {},
   "outputs": [],
   "source": [
    "with open('my_folder1/sample.txt' , 'w') as f:\n",
    "    f.write(\"hello world\")        #creatig a sample.txt file in my_folder \n",
    "\n"
   ]
  },
  {
   "cell_type": "code",
   "execution_count": 6,
   "id": "9375de53-f7e0-4781-a449-6ad8eab91288",
   "metadata": {},
   "outputs": [
    {
     "name": "stdout",
     "output_type": "stream",
     "text": [
      "hello world\n"
     ]
    }
   ],
   "source": [
    "with open('my_folder1/sample.txt' , 'r') as f:\n",
    "    content = f.read()        #reading the contents of sample.txt file of my_folder\n",
    "    print(content)"
   ]
  },
  {
   "cell_type": "code",
   "execution_count": 11,
   "id": "1fe3144f-c8f8-464b-b0b0-c83a0079d9b4",
   "metadata": {},
   "outputs": [],
   "source": [
    "os.rename('my_folder1/rename.txt' , 'my_folder1/new_file.txt') #renaming file "
   ]
  },
  {
   "cell_type": "code",
   "execution_count": 12,
   "id": "a504a41f-193c-4ea9-849a-58df15a77f9b",
   "metadata": {},
   "outputs": [],
   "source": [
    "os.rename('my_folder1' , 'new_folder')      #renaming folder "
   ]
  },
  {
   "cell_type": "code",
   "execution_count": 13,
   "id": "73e2337b-6b7b-49fe-9931-d7c591bc141b",
   "metadata": {},
   "outputs": [
    {
     "name": "stdout",
     "output_type": "stream",
     "text": [
      "hello world\n"
     ]
    }
   ],
   "source": [
    "with open('new_folder/new_file.txt' , 'r') as f:\n",
    "    content = f.read()                                #checking by using new names of the file and folder \n",
    "    print(content)"
   ]
  },
  {
   "cell_type": "code",
   "execution_count": 14,
   "id": "7b41c41b-7da5-45e5-bfdd-476e72724bcb",
   "metadata": {},
   "outputs": [],
   "source": [
    "os.remove('new_folder/new_file.txt')   # deleting file "
   ]
  },
  {
   "cell_type": "code",
   "execution_count": null,
   "id": "26b0a2bb-3b00-4100-b845-86d5624a98c7",
   "metadata": {},
   "outputs": [],
   "source": [
    "os.rmdir('new_folder')         # only works to remove folder that is empty "
   ]
  },
  {
   "cell_type": "code",
   "execution_count": 20,
   "id": "04406f76-8c61-422d-b1dc-082d6b359127",
   "metadata": {},
   "outputs": [],
   "source": [
    "#use shutil to remove a non-empty folder\n",
    "#for creating a dummy file and folder \n",
    "os.mkdir('folder')"
   ]
  },
  {
   "cell_type": "code",
   "execution_count": 22,
   "id": "1a2e636e-228e-43e5-8c2a-27b465e9f994",
   "metadata": {},
   "outputs": [],
   "source": [
    "with open('folder/raw.txt' , 'w') as f: f.write('Hello')"
   ]
  },
  {
   "cell_type": "code",
   "execution_count": 23,
   "id": "ae90520a-7168-4c28-ba04-e38cf6969d2c",
   "metadata": {},
   "outputs": [
    {
     "name": "stdout",
     "output_type": "stream",
     "text": [
      "Hello\n"
     ]
    }
   ],
   "source": [
    "with open('folder/raw.txt' , 'r') as f: print(f.read())"
   ]
  },
  {
   "cell_type": "code",
   "execution_count": 24,
   "id": "0ab3825a-334a-4720-a341-f0ea1543e7d0",
   "metadata": {},
   "outputs": [],
   "source": [
    "#removing non-empty folder using shutil \n",
    "import shutil\n",
    "shutil.rmtree('folder')"
   ]
  },
  {
   "cell_type": "code",
   "execution_count": null,
   "id": "0ded59f3-c4e7-420c-87b3-124910455ca5",
   "metadata": {},
   "outputs": [],
   "source": [
    "**Q:1 Get the current working directory and navigate to a sibling directory**"
   ]
  },
  {
   "cell_type": "code",
   "execution_count": 29,
   "id": "3e685ff8-0c90-477a-aa2a-a19cefef7e6c",
   "metadata": {},
   "outputs": [
    {
     "name": "stdout",
     "output_type": "stream",
     "text": [
      "current directory C:\\Users\\wastech\\Downloads\n"
     ]
    }
   ],
   "source": [
    "import os \n",
    "current_directory = os.getcwd()      #printing the current directory \n",
    "print(\"current directory\" , current_directory)"
   ]
  },
  {
   "cell_type": "code",
   "execution_count": 35,
   "id": "a81adb65-40d2-499e-87f1-a61a3b48bded",
   "metadata": {},
   "outputs": [
    {
     "name": "stdout",
     "output_type": "stream",
     "text": [
      "C:\\Users\\wastech\\Documents\n"
     ]
    }
   ],
   "source": [
    "sibling = 'Documents'\n",
    "parent_directory = os.path.dirname(current_directory)   #this will return the path C:\\Users|wastech\n",
    "sibling_path = os.path.join(parent_directory , sibling)   #this will join the path of parent(C:\\Users|wastech) and sibling(Documents) retruning the sibling\n",
    "print(sibling_path)"
   ]
  },
  {
   "cell_type": "code",
   "execution_count": null,
   "id": "a54eaf2d-a575-4f78-8d54-8a3f5a1708b8",
   "metadata": {},
   "outputs": [],
   "source": [
    "**Q:2 Recursively list all files in a directory using only os.**"
   ]
  },
  {
   "cell_type": "code",
   "execution_count": 53,
   "id": "fd592da9-5ad6-49d5-8bfc-a0cccf9d04f1",
   "metadata": {},
   "outputs": [
    {
     "name": "stdout",
     "output_type": "stream",
     "text": [
      "bw\\bw videos\\v (1).mp4\n",
      "bw\\bw videos\\v (10).mp4\n",
      "bw\\bw videos\\v (11).mp4\n",
      "bw\\bw videos\\v (12).mp4\n",
      "bw\\bw videos\\v (2).mp4\n",
      "bw\\bw videos\\v (3).mp4\n",
      "bw\\bw videos\\v (4).mp4\n",
      "bw\\bw videos\\v (5).mp4\n",
      "bw\\bw videos\\v (6).mp4\n",
      "bw\\bw videos\\v (7).mp4\n",
      "bw\\bw videos\\v (8).mp4\n",
      "bw\\bw videos\\v (9).mp4\n",
      "list of all files in directory None\n"
     ]
    }
   ],
   "source": [
    "def list_of_file(directory):     \n",
    " for dirpath , dirnames , filenames in os.walk(directory):  \n",
    "    for filename in filenames:\n",
    "        print(os.path.join(dirpath , filename))\n",
    "\n",
    "start = 'bw'\n",
    "print(\"list of all files in directory\" , list_of_file(start))\n",
    "\n",
    "\n",
    "   '''- dirpath   → the path of that current folder - dirnames  → list of subfolders inside it\n",
    "                                      - filenames → list of files inside it'''"
   ]
  },
  {
   "cell_type": "code",
   "execution_count": null,
   "id": "e67c7e09-0722-40ba-b47e-6cff4570f3fa",
   "metadata": {},
   "outputs": [],
   "source": [
    "**Q:3 Check if a given path is a file, directory, or doesn't exist.**"
   ]
  },
  {
   "cell_type": "code",
   "execution_count": 47,
   "id": "c92f0c75-f2df-4fca-b918-511503be0c6b",
   "metadata": {},
   "outputs": [
    {
     "name": "stdout",
     "output_type": "stream",
     "text": [
      "'numbers' is a director\n",
      "check is a file , directory or doesnt exist None\n"
     ]
    }
   ],
   "source": [
    "def check(content):\n",
    "    if os.path.isfile(content):\n",
    "        print(f\"'{content}' is a file\")\n",
    "    elif os.path.isdir(content):\n",
    "        print(f\"'{content}' is a director\")\n",
    "    elif not os.path.exists(content):\n",
    "        print(f\"'{content}' not exist\")\n",
    "    else:\n",
    "        print(f\"'{content} exist but a regular file or directory\")\n",
    "\n",
    "path = 'numbers'       \n",
    "print('check is a file , directory or doesnt exist' , check(path))     #here i am in directory downloads"
   ]
  },
  {
   "cell_type": "code",
   "execution_count": null,
   "id": "6e0a892a-0ac1-4ba4-a7c0-af9080661456",
   "metadata": {},
   "outputs": [],
   "source": [
    "**Q:4 Create a deeply nested folder structure like**"
   ]
  },
  {
   "cell_type": "code",
   "execution_count": 62,
   "id": "b581ef56-5d1c-4199-931a-346a3897dda1",
   "metadata": {},
   "outputs": [
    {
     "name": "stdout",
     "output_type": "stream",
     "text": [
      "nested folders Folder1\\folder1.1\\folder1.2\\folder1.3\\folder1.4\n"
     ]
    }
   ],
   "source": [
    "nested_folders = os.path.join(\"Folder1\" , \"folder1.1\" , \"folder1.2\" , \"folder1.3\" , \"folder1.4\")\n",
    "os.makedirs(nested_folders , exist_ok = True)\n",
    "print(\"nested folders\" , nested_folders)"
   ]
  },
  {
   "cell_type": "code",
   "execution_count": null,
   "id": "298348be-a691-48b0-8579-635dcbed7d4b",
   "metadata": {},
   "outputs": [],
   "source": [
    "**Q:5 Delete all empty directories from a given folder tree.**"
   ]
  },
  {
   "cell_type": "code",
   "execution_count": 64,
   "id": "114cfee0-18bb-43ef-8e83-05b78213a010",
   "metadata": {},
   "outputs": [
    {
     "name": "stdout",
     "output_type": "stream",
     "text": [
      "Deleted empty folders Folder1\\folder1.1\\folder1.2\\folder1.3\n",
      "deleting all empty directories  None\n"
     ]
    }
   ],
   "source": [
    "def delete(directory):\n",
    "    for dirpath , dirnames , filenames in os.walk(directory , topdown = False):\n",
    "        if not dirnames and not filenames:\n",
    "            os.rmdir(dirpath)\n",
    "            print(f\"Deleted empty folders {dirpath}\")\n",
    "\n",
    "empty_directories = 'Folder1'\n",
    "print(\"deleting all empty directories \" , delete(empty_directories))"
   ]
  },
  {
   "cell_type": "code",
   "execution_count": null,
   "id": "b00fe63f-5fcf-4902-99ae-67115be8cd3f",
   "metadata": {},
   "outputs": [],
   "source": [
    "**Q:6 Count the number of .txt files in a directory using os.listdir().**"
   ]
  },
  {
   "cell_type": "code",
   "execution_count": 186,
   "id": "0cc8d501-4a46-4d7c-8a35-0bf6f3f13565",
   "metadata": {},
   "outputs": [
    {
     "name": "stdout",
     "output_type": "stream",
     "text": [
      "Number of .txt files: 8\n"
     ]
    }
   ],
   "source": [
    "import os\n",
    "directory = 'C:/Users/wastech/Documents/pf'\n",
    "\n",
    "# Count .txt files\n",
    "txt_count = len([f for f in os.listdir(directory) if f.endswith('.txt')])\n",
    "\n",
    "print(f\"Number of .txt files: {txt_count}\")"
   ]
  },
  {
   "cell_type": "markdown",
   "id": "5791d390-e204-4c7a-8169-792bf6d02fd1",
   "metadata": {},
   "source": [
    "\n",
    "# glob module – Pattern Matching\n",
    "\n",
    "**Q:1 List all .csv and .json files in the current directory.**\n",
    "\n",
    "**Q:2 Recursively find all .jpg files in nested folders.**\n",
    "\n",
    "**Q:3 Use glob to count files grouped by extension.**\n",
    "\n",
    "**Q:4 Find files with names matching pattern report_*.txt.**\n",
    "\n",
    "**Q:5 Replace spaces with underscores in filenames found via glob.**\n",
    "\n",
    "**Q:6 Return all files with a date in the format 2025-06-*.log.**\n",
    "\n",
    "**Q:7 List all files with numeric names only (e.g., 123.txt).**\n",
    "\n",
    "**Q:8 Use glob to sort files by last modified time.**\n",
    "\n",
    "**Q:9 Find all .txt files larger than 100KB using glob and os.**\n",
    "\n",
    "**Q:10 Batch rename files with a custom suffix _archived.**\n",
    "\n",
    "**Q:11 Create a utility that indexes all media files and stores the paths in a SQLite DB.**\n",
    "\n",
    "**Q:12 Find duplicate filenames (regardless of path) across a directory tree.**\n",
    "\n",
    "**Q:13 Generate a file manifest with relative paths and hash (MD5) of contents.**\n",
    "\n",
    "**Q14: Use glob patterns dynamically to extract weekly reports (e.g., week_01.json, week_02.json).**\n",
    "\n",
    "**Q:15 Write a recursive file crawler that ignores folders listed in a .ignore file.**\n"
   ]
  },
  {
   "cell_type": "code",
   "execution_count": null,
   "id": "723e6a78-501a-446c-af03-2112c0869774",
   "metadata": {},
   "outputs": [],
   "source": [
    "Q:1 List all .csv and .json files in the current directory."
   ]
  },
  {
   "cell_type": "code",
   "execution_count": 86,
   "id": "e086f083-8cf2-409a-99bc-423710252c8b",
   "metadata": {},
   "outputs": [
    {
     "name": "stdout",
     "output_type": "stream",
     "text": [
      "all csv and json files \n",
      "imdb_top_1000.csv\n",
      "LCWU - Student Portal Accounts.csv\n",
      "sentiment_dataset_150.csv\n"
     ]
    }
   ],
   "source": [
    "import glob\n",
    "csv = glob.glob(\"*.csv\")\n",
    "json = glob.glob(\"*json\")\n",
    "all_files = csv+json\n",
    "print(\"all csv and json files \")\n",
    "for i in all_files:\n",
    "    print(i)\n"
   ]
  },
  {
   "cell_type": "code",
   "execution_count": null,
   "id": "645efcb6-eb26-4e68-b757-768e461d75d2",
   "metadata": {},
   "outputs": [],
   "source": [
    "Q:2 Recursively find all .jpg files in nested folders."
   ]
  },
  {
   "cell_type": "code",
   "execution_count": 93,
   "id": "7960eb22-6d5a-478d-ae2b-7313d61d601f",
   "metadata": {},
   "outputs": [
    {
     "name": "stdout",
     "output_type": "stream",
     "text": [
      "all jpg files\n",
      "C:/Users/wastech/Documents/MSCS\\challan.jpeg\n",
      "C:/Users/wastech/Documents/MSCS\\WhatsApp Image 2024-09-16 at 8.19.08 PM (1).jpeg\n"
     ]
    }
   ],
   "source": [
    "#jpg = glob.glob(\"**/*.jpg\" , recursive= True)    ... for searching the jpg files \n",
    "import glob \n",
    "import os \n",
    "path = \"C:/Users/wastech/Documents/MSCS\"\n",
    "jpeg = glob.glob(os.path.join(path , \"**\" , \"*jpeg\") , recursive =True)     #search inside the target folder\n",
    "print(\"all jpg files\")\n",
    "for i in jpeg:\n",
    "    print(i)"
   ]
  },
  {
   "cell_type": "code",
   "execution_count": null,
   "id": "6581ba6c-a002-4d46-91bd-1f7953f24f03",
   "metadata": {},
   "outputs": [],
   "source": [
    "Q:3 Use glob to count files grouped by extension."
   ]
  },
  {
   "cell_type": "code",
   "execution_count": 99,
   "id": "a5ddb88a-132e-44ad-98a7-ef2889b90fc4",
   "metadata": {},
   "outputs": [
    {
     "name": "stdout",
     "output_type": "stream",
     "text": [
      "82\n"
     ]
    }
   ],
   "source": [
    "import glob \n",
    "import os \n",
    "path =  \"C:/Users/wastech/Documents/MSCS\"\n",
    "files = glob.glob(os.path.join(path , \"**\" ,\"*\") , recursive = True)\n",
    "count = 0\n",
    "for i in files:\n",
    "    count +=1\n",
    "print(count)"
   ]
  },
  {
   "cell_type": "code",
   "execution_count": 124,
   "id": "ce6944a2-6a7e-4f31-a1d3-ea519703ddf0",
   "metadata": {},
   "outputs": [],
   "source": [
    "#Q4\n",
    "import os \n",
    "os.chdir(r'C:\\Users\\wastech\\Documents\\pf')\n",
    "import glob \n",
    "matching_files = glob.glob('report_*.txt')\n",
    "for i in matching_files:\n",
    "    print(i)"
   ]
  },
  {
   "cell_type": "code",
   "execution_count": 126,
   "id": "e02f22be-8e15-4438-b6f0-89171f2cbd55",
   "metadata": {},
   "outputs": [],
   "source": [
    "#Q5\n",
    "import os \n",
    "os.chdir(r'C:\\Users\\wastech\\Documents\\pf')\n",
    "import glob \n",
    "filename = 'New Text'\n",
    "for filename in glob.glob(\".txt\"):\n",
    "    if \" \" in run:\n",
    "        new_filename = filename.replace(\" \" ,\"_\")\n",
    "        os.rename(filename , new_filename)\n",
    "        print(f\"Renamed: {filename} to {new_filename}\")"
   ]
  },
  {
   "cell_type": "code",
   "execution_count": 129,
   "id": "1347debe-d3e6-435c-9419-7c83319ea167",
   "metadata": {},
   "outputs": [],
   "source": [
    "#**Q:6 Return all files with a date in the format 2025-06-*.log.**\n",
    "import glob \n",
    "matching_file =  glob.glob('2025-06-*.log')\n",
    "for i in matching_file:\n",
    "    print(i)"
   ]
  },
  {
   "cell_type": "code",
   "execution_count": 140,
   "id": "3a4d87d4-a7ea-4926-b1f6-98b57ef14353",
   "metadata": {},
   "outputs": [
    {
     "name": "stdout",
     "output_type": "stream",
     "text": [
      " Numeric file: 12.txt.txt\n",
      " Numeric file: 98.txt.txt\n",
      " Numeric file: 12.txt.txt\n",
      " Numeric file: 98.txt.txt\n"
     ]
    }
   ],
   "source": [
    "#**Q:7 List all files with numeric names only (e.g., 123.txt).**\n",
    "import glob\n",
    "import os\n",
    "\n",
    "files = glob.glob(\"*.txt\") + glob.glob(\"*.txt.txt\")\n",
    "\n",
    "for f in files:\n",
    "    name = os.path.splitext(os.path.splitext(f)[0])[0]\n",
    "    if name.isdigit():\n",
    "        print(f\" Numeric file: {f}\")"
   ]
  },
  {
   "cell_type": "code",
   "execution_count": 141,
   "id": "e6c8c4f5-ccca-4503-ab99-41e81d18576b",
   "metadata": {},
   "outputs": [
    {
     "name": "stdout",
     "output_type": "stream",
     "text": [
      "extra.txt\n",
      "raw.txt\n",
      "New Text.txt\n",
      "12.txt.txt\n",
      "98.txt.txt\n"
     ]
    }
   ],
   "source": [
    "#**Q:8 Use glob to sort files by last modified time.**\n",
    "import glob \n",
    "import os \n",
    "files = glob.glob(\"*.txt\")\n",
    "files.sort(key=os.path.getmtime)\n",
    "for i in files:\n",
    "    print(i)"
   ]
  },
  {
   "cell_type": "code",
   "execution_count": 144,
   "id": "7ee706df-4370-4da5-a142-b95c9437caca",
   "metadata": {},
   "outputs": [],
   "source": [
    "#**Q:9 Find all .txt files larger than 100KB using glob and os.**\n",
    "import glob \n",
    "import os \n",
    "files = glob.glob(\"*.txt\")\n",
    "for i in files:\n",
    "    if os.path.getsize(i) > 100 * 1024:   #100kb = 102400 bytes\n",
    "        print(f\"{i} is greater than 100kb \")"
   ]
  },
  {
   "cell_type": "code",
   "execution_count": null,
   "id": "e9009881-91b6-499d-be9e-5b00becf893f",
   "metadata": {},
   "outputs": [],
   "source": []
  },
  {
   "cell_type": "code",
   "execution_count": null,
   "id": "6bf8902d-f3a0-48ad-becb-b99163059561",
   "metadata": {},
   "outputs": [],
   "source": []
  },
  {
   "cell_type": "code",
   "execution_count": null,
   "id": "04b33b98-b54f-4513-a552-da8cdd53c97c",
   "metadata": {},
   "outputs": [],
   "source": []
  },
  {
   "cell_type": "code",
   "execution_count": null,
   "id": "c5eca2f0-33d0-4cff-bc46-04ef2ec87b31",
   "metadata": {},
   "outputs": [],
   "source": []
  },
  {
   "cell_type": "markdown",
   "id": "11836593-dc92-44d0-953c-46ac17571473",
   "metadata": {},
   "source": [
    "\n",
    "# File Handling – Text & Binary Files\n",
    "\n",
    "**Q:1 Count the number of lines in a file without loading it entirely.**\n",
    "\n",
    "**Q:2 Replace a specific word in a file and save it to a new file.**\n",
    "\n",
    "**Q:3 Append data to an existing file with a timestamp.**\n",
    "\n",
    "**Q:4 Read and print the first 10 lines of a file.**\n",
    "\n",
    "**Q:5 Write a list of dictionaries as CSV manually (without csv module).**\n",
    "\n",
    "**Q:6 Copy a binary file in chunks (e.g., image or PDF).**\n",
    "\n",
    "**Q:7 Write a function to compare two files and print the differing lines.**\n",
    "\n",
    "**Q:8 Safely read a file that may not exist using try-except.**\n",
    "\n",
    "**Q:9 Read a file using a specific encoding (e.g., UTF-16).**\n",
    "\n",
    "**Q:10 Detect and skip empty lines when reading a file.**\n",
    "\n",
    "**Q:11 Implement a log rotation mechanism: create log.txt, log_1.txt, etc. when size exceeds 1MB.**\n",
    "\n",
    "**Q:12 Build a file-based key-value store using JSON per line.**\n",
    "\n",
    "**Q:13 Implement version control: on every write, back up the previous version with a timestamp.**\n",
    "\n",
    "**Q:14 Create a reader that detects encoding using chardet or fallback encoding.**\n",
    "\n",
    "**Q:15 Convert a large log file into separate files per date based on timestamps in each line.**\n"
   ]
  },
  {
   "cell_type": "code",
   "execution_count": 158,
   "id": "cd9fca21-d1a6-43c9-a323-ac90a2d11f00",
   "metadata": {},
   "outputs": [
    {
     "name": "stdout",
     "output_type": "stream",
     "text": [
      "total number of lines 5\n"
     ]
    }
   ],
   "source": [
    "line_count = 0 \n",
    "with open(\"extra.txt\" , \"r\") as f:\n",
    "    for i in file:\n",
    "        line_count +=1\n",
    "    print(f\"total number of lines {line_count}\")\n",
    "    "
   ]
  },
  {
   "cell_type": "code",
   "execution_count": 160,
   "id": "973c8888-d4f2-4ef3-a557-935b1c0153f9",
   "metadata": {},
   "outputs": [],
   "source": [
    "old_word ='iqra'\n",
    "new_word = 'world'\n",
    "with open(\"extra.txt\" , 'r') as f:\n",
    "    content =f.read()\n",
    "updation = content.replace(old_word , new_word)\n",
    "with open(\"new_file.txt\" , 'w') as file:\n",
    "    file.write(updation)"
   ]
  },
  {
   "cell_type": "code",
   "execution_count": null,
   "id": "0366559c-111f-43cd-b9cf-d5a0a57951ac",
   "metadata": {},
   "outputs": [],
   "source": [
    "#q3 \n",
    "from datetime import datetime\n",
    "new_data = \"This is new log data.\"\n",
    "timestamp = datetime.now().strftime(\"%Y-%m-%d %H:%M:%S\")\n",
    "with open('log.txt', 'a') as file:\n",
    "    file.write(f\"[{timestamp}] {new_data}\\n\")"
   ]
  },
  {
   "cell_type": "code",
   "execution_count": null,
   "id": "5aeb7999-c659-452c-a71f-7f49ca9f1893",
   "metadata": {},
   "outputs": [],
   "source": [
    "#q4 \n",
    "with open('myfile.txt', 'r') as file:\n",
    "    for i in range(10):\n",
    "        line = file.readline()\n",
    "        if not line:  \n",
    "            break\n",
    "        print(line.strip()) \n"
   ]
  },
  {
   "cell_type": "code",
   "execution_count": null,
   "id": "53751a3c-9427-4fe1-97b4-ecc3646dd2b6",
   "metadata": {},
   "outputs": [],
   "source": [
    "#q5\n",
    "data = [\n",
    "    {\"name\": \"Ali\", \"age\": 20},\n",
    "    {\"name\": \"Sara\", \"age\": 22},\n",
    "    {\"name\": \"Zain\", \"age\": 19}\n",
    "]\n",
    "with open('output.csv', 'w') as file:\n",
    "    headers = data[0].keys()\n",
    "    file.write(','.join(headers) + '\\n')\n",
    "    for item in data:\n",
    "        values = [str(item[key]) for key in headers]\n",
    "        file.write(','.join(values) + '\\n')"
   ]
  },
  {
   "cell_type": "code",
   "execution_count": null,
   "id": "f66f88dd-9e32-44fa-acc1-d5099df1cfea",
   "metadata": {},
   "outputs": [],
   "source": [
    "#q6\n",
    "chunk_size = 1024  # 1 KB\n",
    "with open('source_file.pdf', 'rb') as src:\n",
    "    with open('copy_file.pdf', 'wb') as dst:\n",
    "        while True:\n",
    "            chunk = src.read(chunk_size)\n",
    "            if not chunk:\n",
    "                break\n",
    "            dst.write(chunk)\n",
    "\n",
    "print(\"Binary file copied in chunks successfully.\")\n"
   ]
  },
  {
   "cell_type": "code",
   "execution_count": null,
   "id": "03611855-540e-4c06-b88a-9818bd7c4e1f",
   "metadata": {},
   "outputs": [],
   "source": []
  },
  {
   "cell_type": "code",
   "execution_count": null,
   "id": "cd9c5d25-b370-48a7-b94d-5d0cf1c2747e",
   "metadata": {},
   "outputs": [],
   "source": []
  },
  {
   "cell_type": "code",
   "execution_count": null,
   "id": "e0ec443e-67c2-4aae-bf45-61348919674a",
   "metadata": {},
   "outputs": [],
   "source": []
  },
  {
   "cell_type": "code",
   "execution_count": null,
   "id": "9711969f-5301-4867-b7b9-dba59247ca48",
   "metadata": {},
   "outputs": [],
   "source": []
  },
  {
   "cell_type": "code",
   "execution_count": null,
   "id": "432c9462-d5ca-4f95-953c-15c9c7136de9",
   "metadata": {},
   "outputs": [],
   "source": []
  },
  {
   "cell_type": "code",
   "execution_count": null,
   "id": "80361657-7f56-4534-b5f6-b7eee56ecc67",
   "metadata": {},
   "outputs": [],
   "source": []
  },
  {
   "cell_type": "code",
   "execution_count": null,
   "id": "9a72e9a6-e186-4d1d-b8b5-f52b3b781d59",
   "metadata": {},
   "outputs": [],
   "source": []
  },
  {
   "cell_type": "code",
   "execution_count": null,
   "id": "9876fee2-bf07-4bc1-aee4-e7720ee401bd",
   "metadata": {},
   "outputs": [],
   "source": []
  },
  {
   "cell_type": "code",
   "execution_count": null,
   "id": "3c941d47-d2a4-473e-b853-798bccd0d1d2",
   "metadata": {},
   "outputs": [],
   "source": []
  },
  {
   "cell_type": "markdown",
   "id": "49b7b4dc-a5af-49a8-b1a6-2629376ed791",
   "metadata": {},
   "source": [
    "\n",
    "# JSON Handling – json module\n",
    "\n",
    "**Q:1 Load JSON from a file and print a nested field (e.g., data[\"user\"][\"name\"]).**\n",
    "\n",
    "**Q:2 Write a Python dict to a file with pretty formatting.**\n",
    "\n",
    "**Q:3 Merge multiple JSON objects into a single file.**\n",
    "\n",
    "**Q:4 Convert a JSON array into CSV format.**\n",
    "\n",
    "**Q:5 Update a nested key inside a loaded JSON.**\n",
    "\n",
    "**Q:6 Create a function to pretty-print JSON from string input.**\n",
    "\n",
    "**Q:7 Safely load malformed JSON with exception handling.**\n",
    "\n",
    "**Q:8 Remove a key from each item in a JSON list and re-save.**\n",
    "\n",
    "**Q:9 Convert an object with datetime to a JSON string using a custom encoder.**\n",
    "\n",
    "**Q:10 Search for all values associated with a key in nested JSON.**\n",
    "\n",
    "**Q:11 Write a function to flatten deeply nested JSON into a flat dictionary.**\n",
    "\n",
    "**Q:12 Build a recursive JSON validator for required schema keys.**\n",
    "\n",
    "**Q:13 Convert a nested JSON into a pandas DataFrame with normalized columns.**\n",
    "\n",
    "**Q:14 Create a diff tool that compares two JSON files and shows key-level changes.**\n",
    "\n",
    "**Q:15 Handle and fix trailing commas in malformed JSON before parsing.**\n",
    "\n"
   ]
  },
  {
   "cell_type": "code",
   "execution_count": null,
   "id": "1f480e9e-f6e9-4a31-8ffb-cfba90a0d26b",
   "metadata": {},
   "outputs": [],
   "source": [
    "#q1\n",
    "import json\n",
    "with open('data.json', 'r') as file:\n",
    "    data = json.load(file)\n",
    "print(data[\"user\"][\"name\"])"
   ]
  },
  {
   "cell_type": "code",
   "execution_count": null,
   "id": "a945a883-853d-412f-b1eb-4696b812d624",
   "metadata": {},
   "outputs": [],
   "source": [
    "data1 = {\n",
    "    \"name\": \"Alice\",\n",
    "    \"age\": 30,\n",
    "    \"skills\": [\"Python\", \"Data Analysis\", \"Machine Learning\"]\n",
    "}\n",
    "with open('output.json', 'w') as f:       # Write to file with pretty formatting\n",
    "    json.dump(data, f, indent=4)\n",
    "\n",
    "print(\"Dictionary written to 'output.json' with pretty formatting.\")"
   ]
  },
  {
   "cell_type": "code",
   "execution_count": null,
   "id": "bea19279-5e6b-4e2b-8b55-5f1afa5bf4d4",
   "metadata": {},
   "outputs": [],
   "source": [
    "with open('file1.json', 'r') as f1:\n",
    "    data1 = json.load(f1)\n",
    "with open('file2.json', 'r') as f2:\n",
    "    data2 = json.load(f2)\n",
    "merged_data = [data1, data2]\n",
    "with open('merged.json', 'w') as f_out:\n",
    "    json.dump(merged_data, f_out, indent=4)"
   ]
  },
  {
   "cell_type": "code",
   "execution_count": null,
   "id": "47d69ea5-4a78-48b2-83e2-c02b21be9c58",
   "metadata": {},
   "outputs": [],
   "source": [
    "#q5 \n",
    "\n",
    "with open('data.json', 'r') as file:\n",
    "    data = json.load(file)\n",
    "data['person']['address']['city'] = 'Karachi'   # For example, change the \"city\" inside \"address\"\n",
    "with open('data.json', 'w') as file:\n",
    "    json.dump(data, file, indent=4)\n"
   ]
  },
  {
   "cell_type": "code",
   "execution_count": null,
   "id": "44ca8311-ecec-4810-a343-fef73c3fdda4",
   "metadata": {},
   "outputs": [],
   "source": [
    "#q6\n",
    "def pretty_print_json(json_string):\n",
    "    # Convert string to Python dictionary\n",
    "    data = json.loads(json_string)\n",
    "\n",
    "    # Pretty-print the JSON with indent\n",
    "    pretty_json = json.dumps(data, indent=4)\n",
    "    print(pretty_json)\n",
    "\n",
    "# Example usage\n",
    "json_input = '{\"name\": \"Ali\", \"age\": 20, \"city\": \"Lahore\"}'\n",
    "pretty_print_json(json_input)"
   ]
  },
  {
   "cell_type": "code",
   "execution_count": null,
   "id": "0ea9a5f6-031c-49d3-bbc5-165459650667",
   "metadata": {},
   "outputs": [],
   "source": [
    "#q7 \n",
    "def load_json_safely(json_string):\n",
    "    try:\n",
    "        data = json.loads(json_string)\n",
    "        print(\"JSON loaded successfully!\")\n",
    "        return data\n",
    "    except json.JSONDecodeError as e:\n",
    "        print(\"Error: Malformed JSON!\")\n",
    "        print(\"Details:\", e)\n",
    "        return None\n",
    "# Example: Malformed JSON (missing quotes around keys)\n",
    "bad_json = '{name: \"Ali\", age: 20}'\n",
    "# Try to load it\n",
    "load_json_safely(bad_json)"
   ]
  },
  {
   "cell_type": "code",
   "execution_count": null,
   "id": "c29b99d1-d6e9-4fca-9c86-c9c62cb3d03b",
   "metadata": {},
   "outputs": [],
   "source": []
  },
  {
   "cell_type": "code",
   "execution_count": null,
   "id": "b3708f19-a270-4366-bd8e-6044a70d2989",
   "metadata": {},
   "outputs": [],
   "source": []
  },
  {
   "cell_type": "code",
   "execution_count": null,
   "id": "c4462486-b8a9-492b-8c85-415a6869ac9d",
   "metadata": {},
   "outputs": [],
   "source": []
  },
  {
   "cell_type": "code",
   "execution_count": null,
   "id": "b5a38e81-21a8-4534-bf38-b56e602348cb",
   "metadata": {},
   "outputs": [],
   "source": []
  },
  {
   "cell_type": "code",
   "execution_count": null,
   "id": "edeaed10-eec5-450f-a8bb-ab3d9c200aa8",
   "metadata": {},
   "outputs": [],
   "source": []
  },
  {
   "cell_type": "code",
   "execution_count": null,
   "id": "719153bf-475c-404e-ab37-4df1bae3355d",
   "metadata": {},
   "outputs": [],
   "source": []
  },
  {
   "cell_type": "code",
   "execution_count": null,
   "id": "e3306548-70c6-4a3b-8977-93d0f632d2e7",
   "metadata": {},
   "outputs": [],
   "source": []
  },
  {
   "cell_type": "code",
   "execution_count": null,
   "id": "c22e231e-9fd0-41ea-a70d-0d0095e4665e",
   "metadata": {},
   "outputs": [],
   "source": []
  },
  {
   "cell_type": "code",
   "execution_count": null,
   "id": "a9fb0524-fa1d-4cc8-99e6-c52f55e6f085",
   "metadata": {},
   "outputs": [],
   "source": []
  },
  {
   "cell_type": "markdown",
   "id": "3083804d-5685-4ed0-852d-40333ae26433",
   "metadata": {},
   "source": [
    "    \n",
    "# Regular Expressions – re module\n",
    "\n",
    "**Q:1 Extract email addresses from a string using re.findall().**\n",
    "\n",
    "**Q:2 Validate a US phone number using regex.**\n",
    "\n",
    "**Q:3 Extract hashtags from a tweet-like string.**\n",
    "\n",
    "**Q:4 Replace all numbers with # in a paragraph.**\n",
    "\n",
    "**Q:5 Match filenames with extension .pdf, .docx, or .xlsx.**\n",
    "\n",
    "**Q:6 Split a paragraph into sentences using regex.**\n",
    "\n",
    "**Q:7 Match a date in the format DD-MM-YYYY or YYYY/MM/DD.**\n",
    "\n",
    "**Q:8 Extract quoted strings from text (e.g., \"like this\").**\n",
    "\n",
    "**Q:9 Clean a text by removing special characters except alphanumerics and spaces.**\n",
    "\n",
    "**Q:10 Capture repeated words like the the, is is in a sentence.**\n",
    "\n",
    "**Q:11 Write a regex that extracts values from key-value pairs (key: value) even if keys contain spaces.**\n",
    "\n",
    "**Q:12 Extract nested parentheses using recursive regex (advanced feature).**\n",
    "\n",
    "**Q:13 Create a regex to detect and fix malformed URLs in a text block.**\n",
    "\n",
    "**Q:14 Build a pattern to extract address-like strings (e.g., 123 Main St, City, ZIP).**\n",
    "\n",
    "**Q:15 Tokenize a log line into timestamp, level, and message using regex groups.**"
   ]
  },
  {
   "cell_type": "code",
   "execution_count": 167,
   "id": "f26db1f6-d95e-4acf-9865-f30af739bdec",
   "metadata": {},
   "outputs": [
    {
     "name": "stdout",
     "output_type": "stream",
     "text": [
      "['support@example.com']\n"
     ]
    }
   ],
   "source": [
    "#Q:1 Extract email addresses from a string using re.findall().\n",
    "import re\n",
    "\n",
    "text = \"Contact us at support@example.com .\"\n",
    "\n",
    "# Define a regex pattern for email addresses\n",
    "pattern = r'\\b[A-Za-z0-9._%+-]+@[A-Za-z0-9.-]+\\.[A-Z|a-z]{2,7}\\b'\n",
    "\n",
    "# Extract all email addresses\n",
    "emails = re.findall(pattern, text)\n",
    "\n",
    "print(emails)"
   ]
  },
  {
   "cell_type": "code",
   "execution_count": 169,
   "id": "9df5434d-35b9-4115-b333-ace145a2bdda",
   "metadata": {},
   "outputs": [
    {
     "name": "stdout",
     "output_type": "stream",
     "text": [
      " Valid:   (123) 456-7890\n",
      " Valid:   123-456-7890\n",
      " Valid:   123.456.7890\n",
      " Valid:   1234567890\n",
      " Valid:   +1 123 456 7890\n",
      " Valid:   456-7890\n"
     ]
    }
   ],
   "source": [
    "import re\n",
    "\n",
    "# Sample phone numbers\n",
    "numbers = [\n",
    "    \"(123) 456-7890\",\n",
    "    \"123-456-7890\",\n",
    "    \"123.456.7890\",\n",
    "    \"1234567890\",\n",
    "    \"+1 123 456 7890\",\n",
    "    \"456-7890\"\n",
    "]\n",
    "\n",
    "# Regex pattern for US phone numbers\n",
    "pattern = re.compile(r'^(\\+1\\s?)?(\\(?\\d{3}\\)?[\\s.-]?)?\\d{3}[\\s.-]?\\d{4}$')\n",
    "\n",
    "# Validate each number\n",
    "for number in numbers:\n",
    "    if pattern.match(number):\n",
    "        print(f\" Valid:   {number}\")\n",
    "    else:\n",
    "        print(f\" Invalid: {number}\")"
   ]
  },
  {
   "cell_type": "code",
   "execution_count": 170,
   "id": "661df70d-da86-4263-9964-a6ac85f13087",
   "metadata": {},
   "outputs": [
    {
     "name": "stdout",
     "output_type": "stream",
     "text": [
      "['sunset', 'relaxation', 'vacaymode']\n"
     ]
    }
   ],
   "source": [
    "#Q:3 Extract hashtags from a tweet-like string\n",
    "tweet = \"Loving the vibes at the beach! #sunset #relaxation #vacaymode\"\n",
    "\n",
    "# Regex pattern to match hashtags\n",
    "hashtags = re.findall(r'#(\\w+)', tweet)\n",
    "\n",
    "print(hashtags)"
   ]
  },
  {
   "cell_type": "code",
   "execution_count": null,
   "id": "b0d06c91-2baa-4cc3-b919-d5b66e479ce1",
   "metadata": {},
   "outputs": [],
   "source": [
    "#Q:4 Replace all numbers with # in a paragraph.\n",
    "\n",
    "text = \"My phone number is 123-456-7890 and I was born in 1995.\"\n",
    "\n",
    "# Replace all digits with '#'\n",
    "masked = re.sub(r'\\d', '#', text)\n",
    "\n",
    "print(masked)"
   ]
  },
  {
   "cell_type": "code",
   "execution_count": 174,
   "id": "47b77dc7-10d4-4dd3-bff1-96221bf711cb",
   "metadata": {},
   "outputs": [
    {
     "name": "stdout",
     "output_type": "stream",
     "text": [
      "['report.pdf', 'summary.docx', 'data.xlsx']\n"
     ]
    }
   ],
   "source": [
    "#q5Q:5 Match filenames with extension .pdf, .docx, or .xlsx.\n",
    "import re\n",
    "\n",
    "filenames = [\n",
    "    \"report.pdf\", \"summary.docx\", \"data.xlsx\",\n",
    "    \"image.png\", \"notes.txt\", \"presentation.pptx\"\n",
    "]\n",
    "\n",
    "pattern = r'^.+\\.(pdf|docx|xlsx)$' \n",
    "\n",
    "matches = [f for f in filenames if re.match(pattern, f, re.IGNORECASE)]\n",
    "\n",
    "print(matches)"
   ]
  },
  {
   "cell_type": "code",
   "execution_count": 175,
   "id": "56308ae4-1cba-4d32-93a3-6c0b6ec54047",
   "metadata": {},
   "outputs": [
    {
     "name": "stdout",
     "output_type": "stream",
     "text": [
      "['Hello there!', 'How are you doing today?', \"I hope everything's great.\", \"Let's grab coffee.\"]\n"
     ]
    }
   ],
   "source": [
    "# **Q:6 Split a paragraph into sentences using regex.**\n",
    "text = \"Hello there! How are you doing today? I hope everything's great. Let's grab coffee.\"\n",
    "# Split on punctuation followed by space\n",
    "sentences = re.split(r'(?<=[.!?])\\s+', text)\n",
    "print(sentences)"
   ]
  },
  {
   "cell_type": "code",
   "execution_count": 176,
   "id": "506b8c6c-eb88-4d2a-9ca9-a1f1fb3ace9f",
   "metadata": {},
   "outputs": [
    {
     "name": "stdout",
     "output_type": "stream",
     "text": [
      "['25-06-2025', '2025/06/24']\n"
     ]
    }
   ],
   "source": [
    "#**Q:7 Match a date in the format DD-MM-YYYY or YYYY/MM/DD.**\n",
    "text = \"Today's date is 25-06-2025 and the report was filed on 2025/06/24.\"\n",
    "# Regex pattern for both formats\n",
    "pattern = r'\\b(\\d{2}-\\d{2}-\\d{4}|\\d{4}/\\d{2}/\\d{2})\\b'\n",
    "\n",
    "# Find all matching dates\n",
    "dates = re.findall(pattern, text)\n",
    "\n",
    "print(dates)"
   ]
  },
  {
   "cell_type": "code",
   "execution_count": 177,
   "id": "8ae3d300-1edc-48ed-8989-5a324c4e6a5c",
   "metadata": {},
   "outputs": [
    {
     "name": "stdout",
     "output_type": "stream",
     "text": [
      "['Hello there!', 'How are you?']\n"
     ]
    }
   ],
   "source": [
    "#**Q:8 Extract quoted strings from text (e.g., \"like this\").**\n",
    "text = 'She said, \"Hello there!\" and then added, \"How are you?\"'\n",
    "\n",
    "# Extract text inside double quotes\n",
    "quotes = re.findall(r'\"(.*?)\"', text)\n",
    "\n",
    "print(quotes)"
   ]
  },
  {
   "cell_type": "code",
   "execution_count": 178,
   "id": "a2451580-9fd8-4352-95dc-712a1bc956f5",
   "metadata": {},
   "outputs": [
    {
     "name": "stdout",
     "output_type": "stream",
     "text": [
      "Hello This is example 1 Clean it up please \n"
     ]
    }
   ],
   "source": [
    "#**Q:9 Clean a text by removing special characters except alphanumerics and spaces.**\n",
    "text = \"Hello! This is @example #1: Clean it up, please :)\"\n",
    "\n",
    "# Remove everything except letters, numbers, and spaces\n",
    "cleaned = re.sub(r'[^a-zA-Z0-9\\s]', '', text)\n",
    "\n",
    "print(cleaned)"
   ]
  },
  {
   "cell_type": "code",
   "execution_count": null,
   "id": "8ddb494a-144b-4a43-8213-519acf6e04a2",
   "metadata": {},
   "outputs": [],
   "source": [
    "#**Q:10 Capture repeated words like the the, is is in a sentence.**"
   ]
  },
  {
   "cell_type": "code",
   "execution_count": null,
   "id": "1f66d7a7-5d04-41d0-b569-28c958a0c8c3",
   "metadata": {},
   "outputs": [],
   "source": [
    "#**Q:11 Write a regex that extracts values from key-value pairs (key: value) even if keys contain spaces.**"
   ]
  }
 ],
 "metadata": {
  "kernelspec": {
   "display_name": "Python 3 (ipykernel)",
   "language": "python",
   "name": "python3"
  },
  "language_info": {
   "codemirror_mode": {
    "name": "ipython",
    "version": 3
   },
   "file_extension": ".py",
   "mimetype": "text/x-python",
   "name": "python",
   "nbconvert_exporter": "python",
   "pygments_lexer": "ipython3",
   "version": "3.12.7"
  }
 },
 "nbformat": 4,
 "nbformat_minor": 5
}
