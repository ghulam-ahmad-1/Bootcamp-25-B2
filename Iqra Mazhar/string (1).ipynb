{
 "cells": [
  {
   "cell_type": "markdown",
   "id": "ae0ad9d2-1f51-46a1-8ed2-2b00ed414cc6",
   "metadata": {},
   "source": [
    "# 1. Reverse a String\n",
    "## Problem Statement:\n",
    "Write a function to reverse a given string.\n",
    "\n",
    "## Example 1:\n",
    "**Input:** `\"hello\"`  \n",
    "**Output:** `\"olleh\"`\n",
    "\n",
    "## Example 2:\n",
    "**Input:** `\"world\"`  \n",
    "**Output:** `\"dlrow\"`\n"
   ]
  },
  {
   "cell_type": "code",
   "execution_count": 42,
   "id": "e1435aa7-457c-4b05-ad71-fc7204bb88d7",
   "metadata": {},
   "outputs": [
    {
     "name": "stdout",
     "output_type": "stream",
     "text": [
      "olleh\n"
     ]
    }
   ],
   "source": [
    "def reverse_string(s):\n",
    "    return s[::-1]\n",
    "a = \"hello\"\n",
    "print(reverse_string(a))"
   ]
  },
  {
   "cell_type": "code",
   "execution_count": 43,
   "id": "1f15a4a5-58a6-4b21-b178-575c8b4790f2",
   "metadata": {},
   "outputs": [
    {
     "name": "stdout",
     "output_type": "stream",
     "text": [
      "dlrow\n"
     ]
    }
   ],
   "source": [
    "def reverse_string(s):\n",
    "    return s[::-1]\n",
    "a = \"world\"\n",
    "print(reverse_string(a))"
   ]
  },
  {
   "cell_type": "markdown",
   "id": "5a3927f5-6184-40a6-b3f8-34cd08ef19a1",
   "metadata": {},
   "source": [
    "# 2. Check if a String is a Palindrome\n",
    "## Problem Statement:\n",
    "Write a function to check if a string is a palindrome (same forward and backward).\n",
    "\n",
    "## Example 1:\n",
    "**Input:** `\"madam\"`  \n",
    "**Output:** `True`\n",
    "\n",
    "## Example 2:\n",
    "**Input:** `\"hello\"`  \n",
    "**Output:** `False`\n"
   ]
  },
  {
   "cell_type": "code",
   "execution_count": 7,
   "id": "e10e83ef-aacb-4764-9c1a-dc28c3d0b3df",
   "metadata": {},
   "outputs": [
    {
     "name": "stdout",
     "output_type": "stream",
     "text": [
      "True\n"
     ]
    }
   ],
   "source": [
    "def palindrome(text):\n",
    " return text == text[::-1]\n",
    " \n",
    "\n",
    "a =\"madam\"\n",
    "print(palindrome(a))"
   ]
  },
  {
   "cell_type": "code",
   "execution_count": 9,
   "id": "5e6a74e5-1a49-48ee-8624-20cce02b3597",
   "metadata": {},
   "outputs": [
    {
     "name": "stdout",
     "output_type": "stream",
     "text": [
      "False\n"
     ]
    }
   ],
   "source": [
    "def is_palindrome(string):\n",
    " return string == string[::-1]\n",
    "\n",
    "b = \"hello\"\n",
    "print(is_palindrome(b))\n"
   ]
  },
  {
   "cell_type": "markdown",
   "id": "58b59720-7688-43eb-b24d-d886c3b3c809",
   "metadata": {},
   "source": [
    "# 3. Count the Number of Vowels in a String\n",
    "## Problem Statement:\n",
    "Write a function to count the number of vowels in a given string.\n",
    "\n",
    "## Example 1:\n",
    "**Input:** `\"apple\"`  \n",
    "**Output:** `2`\n",
    "\n",
    "## Example 2:\n",
    "**Input:** `\"banana\"`  \n",
    "**Output:** `3`\n"
   ]
  },
  {
   "cell_type": "code",
   "execution_count": 11,
   "id": "cc7ada12-76e0-4759-87ee-31224446fdd7",
   "metadata": {},
   "outputs": [
    {
     "name": "stdout",
     "output_type": "stream",
     "text": [
      "vowels present in string are  2\n"
     ]
    }
   ],
   "source": [
    "def counter(text):\n",
    "    vowels = \"aeiou\"\n",
    "    count = 0\n",
    "    for char in text:\n",
    "        if char in vowels:\n",
    "            count +=1\n",
    "    return count\n",
    " \n",
    "\n",
    "c =\"apple\"\n",
    "print(\"vowels present in string are \" , counter(c))"
   ]
  },
  {
   "cell_type": "code",
   "execution_count": 15,
   "id": "6ad075be-9c42-41d2-be73-ac5760653656",
   "metadata": {},
   "outputs": [
    {
     "name": "stdout",
     "output_type": "stream",
     "text": [
      "3\n"
     ]
    }
   ],
   "source": [
    "def counter1(text):\n",
    " vowels =\" aeiou\"\n",
    " count = 0\n",
    " for char in text:\n",
    "    if char in vowels:\n",
    "            count +=1\n",
    " return count\n",
    "\n",
    "c =\"banana\"\n",
    "print(counter(c))"
   ]
  },
  {
   "cell_type": "markdown",
   "id": "abcbec6f-e9e9-4238-8130-b4313c2357cc",
   "metadata": {},
   "source": [
    "# 4. Remove All Whitespace from a String\n",
    "## Problem Statement:\n",
    "Write a function that removes all whitespace characters from a string.\n",
    "\n",
    "## Example 1:\n",
    "**Input:** `\"hello world\"`  \n",
    "**Output:** `\"helloworld\"`\n",
    "\n",
    "## Example 2:\n",
    "**Input:** `\" Python  is  fun \"`  \n",
    "**Output:** `\"Pythonisfun\"`\n"
   ]
  },
  {
   "cell_type": "code",
   "execution_count": 45,
   "id": "59152c0f-cc53-4319-8b61-7bfa739a35a9",
   "metadata": {},
   "outputs": [
    {
     "name": "stdout",
     "output_type": "stream",
     "text": [
      "helloworld\n"
     ]
    }
   ],
   "source": [
    "def replace(text):\n",
    " return text.replace(\" \",\"\")\n",
    "a = \"hello world\"\n",
    "print(replace(a))"
   ]
  },
  {
   "cell_type": "code",
   "execution_count": 46,
   "id": "c0feb715-5555-4882-b4d5-862addfc2e83",
   "metadata": {},
   "outputs": [
    {
     "name": "stdout",
     "output_type": "stream",
     "text": [
      "Pyhtonisfun\n"
     ]
    }
   ],
   "source": [
    "def replace(text):\n",
    " return text.replace(\" \",\"\")\n",
    "a = \"Pyhton is fun \"\n",
    "print(replace(a))"
   ]
  },
  {
   "cell_type": "markdown",
   "id": "7a8010ed-0bbf-42c3-82c3-46b175c6e8af",
   "metadata": {},
   "source": [
    "# 5. Find the First Non-Repeating Character in a String\n",
    "## Problem Statement:\n",
    "Write a function to find the first non-repeating character in a given string.\n",
    "\n",
    "## Example 1:\n",
    "**Input:** `\"swiss\"`  \n",
    "**Output:** `\"w\"`\n",
    "\n",
    "## Example 2:\n",
    "**Input:** `\"racecar\"`  \n",
    "**Output:** `\"e\"`\n"
   ]
  },
  {
   "cell_type": "code",
   "execution_count": 26,
   "id": "4aca409d-99fa-43bc-814c-9d93d54507ad",
   "metadata": {},
   "outputs": [
    {
     "name": "stdout",
     "output_type": "stream",
     "text": [
      "w\n"
     ]
    }
   ],
   "source": [
    "def find_first_non_repeating(s):\n",
    "    char_counts = {}\n",
    "    for char in s:\n",
    "        char_counts[char] = char_counts.get(char, 0) + 1\n",
    "\n",
    "    for char in s:\n",
    "        if char_counts[char] == 1:\n",
    "            return char\n",
    "    return None\n",
    "\n",
    "\n",
    "string1 = \"swiss\"\n",
    "print(find_first_non_repeating(string1)) \n"
   ]
  },
  {
   "cell_type": "code",
   "execution_count": 27,
   "id": "728943f8-b9cd-45ca-9c54-4698ea06ade7",
   "metadata": {},
   "outputs": [
    {
     "name": "stdout",
     "output_type": "stream",
     "text": [
      "e\n"
     ]
    }
   ],
   "source": [
    "def find_first_non_repeating(s):\n",
    "    char_counts = {}\n",
    "    for char in s:\n",
    "        char_counts[char] = char_counts.get(char, 0) + 1\n",
    "\n",
    "    for char in s:\n",
    "        if char_counts[char] == 1:\n",
    "            return char\n",
    "    return None\n",
    "\n",
    "\n",
    "string1 = \"racecar\"\n",
    "print(find_first_non_repeating(string1)) \n"
   ]
  },
  {
   "cell_type": "markdown",
   "id": "d3b7ea00-ba1f-46ed-b122-bb6b7cac074f",
   "metadata": {},
   "source": [
    "# 6. Check if Two Strings are Anagrams\n",
    "## Problem Statement:\n",
    "Write a function to check if two strings are anagrams.\n",
    "\n",
    "## Example 1:\n",
    "**Input:** `\"listen\", \"silent\"`  \n",
    "**Output:** `True`\n",
    "\n",
    "## Example 2:\n",
    "**Input:** `\"hello\", \"world\"`  \n",
    "**Output:** `False`\n"
   ]
  },
  {
   "cell_type": "code",
   "execution_count": 28,
   "id": "3b2c05e5-a7df-476b-9061-f7df9c3539d2",
   "metadata": {},
   "outputs": [
    {
     "name": "stdout",
     "output_type": "stream",
     "text": [
      "true\n"
     ]
    }
   ],
   "source": [
    "\n",
    "def areAnagrams(s1, s2):\n",
    "    \n",
    "    # Sort both strings\n",
    "    s1 = sorted(s1)\n",
    "    s2 = sorted(s2)\n",
    "\n",
    "    # Compare sorted strings\n",
    "    return s1 == s2\n",
    "\n",
    "if __name__ == \"__main__\":\n",
    "    s1 = \"listen\"\n",
    "    s2 = \"silent\"\n",
    "    print(\"true\" if areAnagrams(s1, s2) else \"false\")"
   ]
  },
  {
   "cell_type": "code",
   "execution_count": 29,
   "id": "921ee110-5557-4d6e-a669-dc81ca237bcb",
   "metadata": {},
   "outputs": [
    {
     "name": "stdout",
     "output_type": "stream",
     "text": [
      "false\n"
     ]
    }
   ],
   "source": [
    "def areAnagrams(s1, s2):\n",
    "    \n",
    "    # Sort both strings\n",
    "    s1 = sorted(s1)\n",
    "    s2 = sorted(s2)\n",
    "\n",
    "    # Compare sorted strings\n",
    "    return s1 == s2\n",
    "\n",
    "if __name__ == \"__main__\":\n",
    "    s1 = \"hello\"\n",
    "    s2 = \"world\"\n",
    "    print(\"true\" if areAnagrams(s1, s2) else \"false\")"
   ]
  },
  {
   "cell_type": "markdown",
   "id": "3989dfe4-ab68-419d-9042-877f37ede653",
   "metadata": {},
   "source": [
    "# 7. Convert a String to Uppercase\n",
    "## Problem Statement:\n",
    "Write a function to convert a string to uppercase.\n",
    "\n",
    "## Example 1:\n",
    "**Input:** `\"python\"`  \n",
    "**Output:** `\"PYTHON\"`\n",
    "\n",
    "## Example 2:\n",
    "**Input:** `\"Hello World\"`  \n",
    "**Output:** `\"HELLO WORLD\"`\n"
   ]
  },
  {
   "cell_type": "code",
   "execution_count": 48,
   "id": "163d0c7c-d95c-48f5-9f57-a6415fe19099",
   "metadata": {},
   "outputs": [
    {
     "name": "stdout",
     "output_type": "stream",
     "text": [
      "PYHTON\n"
     ]
    }
   ],
   "source": [
    "def upper(text):\n",
    " return text.upper()\n",
    "a = \"pyhton\"\n",
    "print(upper(a))"
   ]
  },
  {
   "cell_type": "code",
   "execution_count": 49,
   "id": "aaf4bac8-2992-489f-90fe-a6321edc64c4",
   "metadata": {},
   "outputs": [
    {
     "name": "stdout",
     "output_type": "stream",
     "text": [
      "HELLO WORLD\n"
     ]
    }
   ],
   "source": [
    "def upper(text):\n",
    " return text.upper()\n",
    "a = \"Hello World\"\n",
    "print(upper(a))"
   ]
  },
  {
   "cell_type": "markdown",
   "id": "d9101758-0867-41e5-b4a0-a71db20536ae",
   "metadata": {},
   "source": [
    "# 8. Find the Most Frequent Character in a String\n",
    "## Problem Statement:\n",
    "Write a function to find the most frequently occurring character in a string.\n",
    "\n",
    "## Example 1:\n",
    "**Input:** `\"banana\"`  \n",
    "**Output:** `\"a\"`\n",
    "\n",
    "## Example 2:\n",
    "**Input:** `\"mississippi\"`  \n",
    "**Output:** `\"i\"`\n"
   ]
  },
  {
   "cell_type": "code",
   "execution_count": 39,
   "id": "9cb62d0a-3b5d-4271-8091-ad6e666acd2a",
   "metadata": {},
   "outputs": [
    {
     "name": "stdout",
     "output_type": "stream",
     "text": [
      "a\n"
     ]
    }
   ],
   "source": [
    "from collections import Counter\n",
    "\n",
    "def most_frequent_letter(word):\n",
    " letter_counts = Counter(word)\n",
    " most_common = letter_counts.most_common(1)\n",
    " return most_common[0][0]\n",
    "\n",
    "\n",
    "word = \"banana\"\n",
    "print(most_frequent_letter(word))"
   ]
  },
  {
   "cell_type": "code",
   "execution_count": 40,
   "id": "8934605e-f2d2-49ab-a77e-2fb406d85d79",
   "metadata": {},
   "outputs": [
    {
     "name": "stdout",
     "output_type": "stream",
     "text": [
      "i\n"
     ]
    }
   ],
   "source": [
    "from collections import Counter\n",
    "\n",
    "def most_frequent_letter(word):\n",
    " letter_counts = Counter(word)\n",
    " most_common = letter_counts.most_common(1)\n",
    " return most_common[0][0]\n",
    "\n",
    "\n",
    "word = \"mississippi\"\n",
    "print(most_frequent_letter(word))"
   ]
  },
  {
   "cell_type": "markdown",
   "id": "b23de210-f0d4-4e2d-ab9a-aa853e471a15",
   "metadata": {},
   "source": [
    "# 9. Check if a String Contains Only Digits\n",
    "## Problem Statement:\n",
    "Write a function to check if a string contains only digits.\n",
    "\n",
    "## Example 1:\n",
    "**Input:** `\"12345\"`  \n",
    "**Output:** `True`\n",
    "\n",
    "## Example 2:\n",
    "**Input:** `\"12a45\"`  \n",
    "**Output:** `False`\n"
   ]
  },
  {
   "cell_type": "code",
   "execution_count": 55,
   "id": "419f05a0-3648-4ef3-badf-0cdd35869ec1",
   "metadata": {},
   "outputs": [
    {
     "name": "stdout",
     "output_type": "stream",
     "text": [
      "True\n"
     ]
    }
   ],
   "source": [
    "def digit(text):\n",
    " return text.isdigit()\n",
    "a =\"12345\"\n",
    "print(digit(a))"
   ]
  },
  {
   "cell_type": "code",
   "execution_count": 54,
   "id": "8c3e49f1-defd-4b0d-8321-6517e6917795",
   "metadata": {},
   "outputs": [
    {
     "name": "stdout",
     "output_type": "stream",
     "text": [
      "False\n"
     ]
    }
   ],
   "source": [
    "def digit(text):\n",
    " return text.isdigit()\n",
    "a =\"12a45\"\n",
    "print(digit(a))"
   ]
  },
  {
   "cell_type": "markdown",
   "id": "f9d2b183-d1aa-446d-a449-90d3375f7c53",
   "metadata": {},
   "source": [
    "# 10. Find the Length of the Longest Word in a Sentence\n",
    "## Problem Statement:\n",
    "Write a function to find the length of the longest word in a sentence.\n",
    "\n",
    "## Example 1:\n",
    "**Input:** `\"The quick brown fox\"`  \n",
    "**Output:** `5`\n",
    "\n",
    "## Example 2:\n",
    "**Input:** `\"A journey of a thousand miles\"`  \n",
    "**Output:** `8`\n"
   ]
  },
  {
   "cell_type": "code",
   "execution_count": 56,
   "id": "0ed5e962-f5dd-4e91-85e2-0cd0e9fcdf84",
   "metadata": {},
   "outputs": [
    {
     "name": "stdout",
     "output_type": "stream",
     "text": [
      "5\n"
     ]
    }
   ],
   "source": [
    "def longest_word_length(sentence):\n",
    "    words = sentence.split()  \n",
    "    longest_length = max(len(word) for word in words)  \n",
    "    return longest_length\n",
    "\n",
    "\n",
    "sentence = \"The quick brown fox \"\n",
    "print(longest_word_length(sentence))  \n"
   ]
  },
  {
   "cell_type": "code",
   "execution_count": 57,
   "id": "6a62f30a-81ee-405a-89c5-560f88ed25fe",
   "metadata": {},
   "outputs": [
    {
     "name": "stdout",
     "output_type": "stream",
     "text": [
      "8\n"
     ]
    }
   ],
   "source": [
    "def longest_word_length(sentence):\n",
    "    words = sentence.split()  \n",
    "    longest_length = max(len(word) for word in words)  \n",
    "    return longest_length\n",
    "\n",
    "\n",
    "sentence = \"A journey of a thousand miles \"\n",
    "print(longest_word_length(sentence))  "
   ]
  },
  {
   "cell_type": "markdown",
   "id": "3499119b-b83a-4e89-b68e-db215e943998",
   "metadata": {},
   "source": [
    "# 11. Replace Spaces with '%20' (URL Encoding)\n",
    "## Problem Statement:\n",
    "Write a function to replace all spaces in a string with `%20`.\n",
    "\n",
    "## Example 1:\n",
    "**Input:** `\"Mr John Smith\"`  \n",
    "**Output:** `\"Mr%20John%20Smith\"`\n",
    "\n",
    "## Example 2:\n",
    "**Input:** `\"Hello World\"`  \n",
    "**Output:** `\"Hello%20World\"`\n"
   ]
  },
  {
   "cell_type": "code",
   "execution_count": 58,
   "id": "c1b7b110-7076-4e47-9690-b99de5ffd695",
   "metadata": {},
   "outputs": [
    {
     "name": "stdout",
     "output_type": "stream",
     "text": [
      "Mr%20John%20Smith\n"
     ]
    }
   ],
   "source": [
    "def replace_spaces(text):\n",
    "    return text.replace(\" \", \"%20\")  \n",
    "\n",
    "\n",
    "string = \"Mr John Smith\"\n",
    "print(replace_spaces(string))  "
   ]
  },
  {
   "cell_type": "code",
   "execution_count": 59,
   "id": "b94611fe-6fb7-4edf-9954-176d45889f5b",
   "metadata": {},
   "outputs": [
    {
     "name": "stdout",
     "output_type": "stream",
     "text": [
      "Hello%20world\n"
     ]
    }
   ],
   "source": [
    "def replace_spaces(text):\n",
    "    return text.replace(\" \", \"%20\")  \n",
    "\n",
    "\n",
    "string = \"Hello world\"\n",
    "print(replace_spaces(string)) "
   ]
  },
  {
   "cell_type": "markdown",
   "id": "59196fe4-763d-4d23-a941-6f17ce59481a",
   "metadata": {},
   "source": [
    "# 12. Find All Substrings of a String\n",
    "## Problem Statement:\n",
    "Write a function to return all substrings of a given string.\n",
    "\n",
    "## Example 1:\n",
    "**Input:** `\"abc\"`  \n",
    "**Output:** `[\"a\", \"b\", \"c\", \"ab\", \"bc\", \"abc\"]`\n",
    "\n",
    "## Example 2:\n",
    "**Input:** `\"xyz\"`  \n",
    "**Output:** `[\"x\", \"y\", \"z\", \"xy\", \"yz\", \"xyz\"]`\n"
   ]
  },
  {
   "cell_type": "code",
   "execution_count": 60,
   "id": "743c4c58-3950-427f-8c0b-bd4e3eda5fa8",
   "metadata": {},
   "outputs": [
    {
     "name": "stdout",
     "output_type": "stream",
     "text": [
      "['a', 'ab', 'abc', 'b', 'bc', 'c']\n"
     ]
    }
   ],
   "source": [
    "def get_substrings(s):\n",
    "    substrings = []\n",
    "    n = len(s)\n",
    "\n",
    "    \n",
    "    for i in range(n):\n",
    "        for j in range(i + 1, n + 1):\n",
    "            substrings.append(s[i:j])\n",
    "\n",
    "    return substrings\n",
    "\n",
    "\n",
    "string = \"abc\"\n",
    "print(get_substrings(string))  "
   ]
  },
  {
   "cell_type": "code",
   "execution_count": 61,
   "id": "993ed2a1-22ea-41ab-aeec-da5d494b8561",
   "metadata": {},
   "outputs": [
    {
     "name": "stdout",
     "output_type": "stream",
     "text": [
      "['x', 'xy', 'xyz', 'y', 'yz', 'z']\n"
     ]
    }
   ],
   "source": [
    "def get_substrings(s):\n",
    "    substrings = []\n",
    "    n = len(s)\n",
    "\n",
    "    \n",
    "    for i in range(n):\n",
    "        for j in range(i + 1, n + 1):\n",
    "            substrings.append(s[i:j])\n",
    "\n",
    "    return substrings\n",
    "\n",
    "\n",
    "string = \"xyz\"\n",
    "print(get_substrings(string))  "
   ]
  },
  {
   "cell_type": "markdown",
   "id": "08cca7f3-0462-4e37-883e-4850ac7d9b4a",
   "metadata": {},
   "source": [
    "# 13. Reverse Each Word in a Sentence\n",
    "## Problem Statement:\n",
    "Write a function to reverse each word in a sentence while maintaining word order.\n",
    "\n",
    "## Example 1:\n",
    "**Input:** `\"hello world\"`  \n",
    "**Output:** `\"olleh dlrow\"`\n",
    "\n",
    "## Example 2:\n",
    "**Input:** `\"Python is fun\"`  \n",
    "**Output:** `\"nohtyP si nuf\"`\n"
   ]
  },
  {
   "cell_type": "code",
   "execution_count": 62,
   "id": "53eab569-3ea4-4e48-a585-6f729c5e2c69",
   "metadata": {},
   "outputs": [
    {
     "name": "stdout",
     "output_type": "stream",
     "text": [
      "olleH dlroW\n"
     ]
    }
   ],
   "source": [
    "def reverse_words(sentence):\n",
    "    words = sentence.split() \n",
    "    reversed_words = [word[::-1] for word in words]  \n",
    "    return \" \".join(reversed_words) \n",
    "\n",
    "\n",
    "sentence = \"Hello World\"\n",
    "print(reverse_words(sentence))  "
   ]
  },
  {
   "cell_type": "code",
   "execution_count": 63,
   "id": "72bba1ec-96c7-41b3-976f-f8dbdbc8cec9",
   "metadata": {},
   "outputs": [
    {
     "name": "stdout",
     "output_type": "stream",
     "text": [
      "nothyP si nuf\n"
     ]
    }
   ],
   "source": [
    "def reverse_words(sentence):\n",
    "    words = sentence.split() \n",
    "    reversed_words = [word[::-1] for word in words]  \n",
    "    return \" \".join(reversed_words) \n",
    "\n",
    "\n",
    "sentence = \"Pyhton is fun\"\n",
    "print(reverse_words(sentence))  "
   ]
  },
  {
   "cell_type": "markdown",
   "id": "c52682bf-2f05-4515-acce-192b91883858",
   "metadata": {},
   "source": [
    "# 14. Find the Longest Common Prefix of a List of Strings\n",
    "## Problem Statement:\n",
    "Write a function to find the longest common prefix among a list of strings.\n",
    "\n",
    "## Example 1:\n",
    "**Input:** `[\"flower\", \"flow\", \"flight\"]`  \n",
    "**Output:** `\"fl\"`\n",
    "\n",
    "## Example 2:\n",
    "**Input:** `[\"dog\", \"racecar\", \"car\"]`  \n",
    "**Output:** `\"\"`\n"
   ]
  },
  {
   "cell_type": "code",
   "execution_count": 64,
   "id": "c326e4fd-7ad6-4d3e-9bd9-f5b28114eeff",
   "metadata": {},
   "outputs": [
    {
     "name": "stdout",
     "output_type": "stream",
     "text": [
      "fl\n"
     ]
    }
   ],
   "source": [
    "def longest_common_prefix(words):\n",
    "    if not words:\n",
    "        return \"\"\n",
    "    words.sort()\n",
    "    \n",
    "    first, last = words[0], words[-1]\n",
    "    common_prefix = \"\"\n",
    "    for i in range(min(len(first), len(last))):\n",
    "        if first[i] == last[i]:\n",
    "            common_prefix += first[i]\n",
    "        else:\n",
    "            break\n",
    "\n",
    "    return common_prefix\n",
    "\n",
    "\n",
    "words_list = [\"flower\", \"flow\", \"flight\"]\n",
    "print(longest_common_prefix(words_list))  "
   ]
  },
  {
   "cell_type": "code",
   "execution_count": 67,
   "id": "353a8f44-2487-4cc5-8c4a-0e24e8148a22",
   "metadata": {},
   "outputs": [
    {
     "name": "stdout",
     "output_type": "stream",
     "text": [
      "\n"
     ]
    }
   ],
   "source": [
    "def longest_common_prefix(words):\n",
    "    if not words:\n",
    "        return \"\"\n",
    "    words.sort()\n",
    "    \n",
    "    first, last = words[0], words[-1]\n",
    "    common_prefix = \"\"\n",
    "    for i in range(min(len(first), len(last))):\n",
    "        if first[i] == last[i]:\n",
    "            common_prefix += first[i]\n",
    "        else:\n",
    "            break\n",
    "\n",
    "    return common_prefix\n",
    "\n",
    "\n",
    "words_list = [\"dog\", \"racecar\", \"car\"]\n",
    "print(longest_common_prefix(words_list))  "
   ]
  },
  {
   "cell_type": "markdown",
   "id": "b90c467f-001e-4a93-bfff-08bba1a3f703",
   "metadata": {},
   "source": [
    "# 15. Check if a String is a Rotation of Another String\n",
    "## Problem Statement:\n",
    "Write a function to check if one string is a rotation of another.\n",
    "\n",
    "## Example 1:\n",
    "**Input:** `\"waterbottle\", \"erbottlewat\"`  \n",
    "**Output:** `True`\n",
    "\n",
    "## Example 2:\n",
    "**Input:** `\"hello\", \"lohel\"`  \n",
    "**Output:** `True`\n"
   ]
  },
  {
   "cell_type": "code",
   "execution_count": 68,
   "id": "dcf4c6e8-8192-4cff-8d48-9226448d0ff2",
   "metadata": {},
   "outputs": [
    {
     "name": "stdout",
     "output_type": "stream",
     "text": [
      "True\n"
     ]
    }
   ],
   "source": [
    "def is_rotation(s1, s2):\n",
    "    if len(s1) != len(s2):\n",
    "        return False  \n",
    "    \n",
    " \n",
    "    return s2 in (s1 + s1)\n",
    "\n",
    "\n",
    "str1 = \"waterbottle\"\n",
    "str2 = \"erbottlewat\"\n",
    "print(is_rotation(str1, str2))  "
   ]
  },
  {
   "cell_type": "code",
   "execution_count": 69,
   "id": "f8e70c6b-a474-4c93-82fc-e39811a5f637",
   "metadata": {},
   "outputs": [
    {
     "name": "stdout",
     "output_type": "stream",
     "text": [
      "True\n"
     ]
    }
   ],
   "source": [
    "def is_rotation(s1, s2):\n",
    "    if len(s1) != len(s2):\n",
    "        return False  \n",
    "    \n",
    " \n",
    "    return s2 in (s1 + s1)\n",
    "\n",
    "\n",
    "str1 = \"hello\"\n",
    "str2 = \"lohel\"\n",
    "print(is_rotation(str1, str2))  "
   ]
  },
  {
   "cell_type": "markdown",
   "id": "06d7a3d1-e01d-483d-95a9-30330f21440c",
   "metadata": {},
   "source": [
    "# 16. Find the Second Most Frequent Character in a String\n",
    "## Problem Statement:\n",
    "Write a function to find the second most frequent character in a string.\n",
    "\n",
    "## Example 1:\n",
    "**Input:** `\"banana\"`  \n",
    "**Output:** `\"n\"`\n",
    "\n",
    "## Example 2:\n",
    "**Input:** `\"mississippi\"`  \n",
    "**Output:** `\"s\"`\n"
   ]
  },
  {
   "cell_type": "code",
   "execution_count": 70,
   "id": "65a91520-9d70-4dc4-990a-931223a98b52",
   "metadata": {},
   "outputs": [
    {
     "name": "stdout",
     "output_type": "stream",
     "text": [
      "n\n"
     ]
    }
   ],
   "source": [
    "from collections import Counter\n",
    "\n",
    "def second_most_frequent_char(s):\n",
    "   \n",
    "    freq = Counter(s)\n",
    "    sorted_chars = sorted(freq.items(), key=lambda x: x[1], reverse=True)\n",
    "    return sorted_chars[1][0] if len(sorted_chars) > 1 else None\n",
    "\n",
    "\n",
    "string = \"banana\"\n",
    "print(second_most_frequent_char(string))  "
   ]
  },
  {
   "cell_type": "code",
   "execution_count": 71,
   "id": "2fba47a2-7db0-4fc0-9895-e157412acb93",
   "metadata": {},
   "outputs": [
    {
     "name": "stdout",
     "output_type": "stream",
     "text": [
      "s\n"
     ]
    }
   ],
   "source": [
    "from collections import Counter\n",
    "\n",
    "def second_most_frequent_char(s):\n",
    "   \n",
    "    freq = Counter(s)\n",
    "    sorted_chars = sorted(freq.items(), key=lambda x: x[1], reverse=True)\n",
    "    return sorted_chars[1][0] if len(sorted_chars) > 1 else None\n",
    "\n",
    "\n",
    "string = \"mississippi\"\n",
    "print(second_most_frequent_char(string))  "
   ]
  },
  {
   "cell_type": "markdown",
   "id": "d262dac7-f41e-400d-bfd0-ea5057f5c922",
   "metadata": {},
   "source": [
    "# 17. Check if a String is Made of Unique Characters\n",
    "## Problem Statement:\n",
    "Write a function to check if a string contains only unique characters.\n",
    "\n",
    "## Example 1:\n",
    "**Input:** `\"abcdef\"`  \n",
    "**Output:** `True`\n",
    "\n",
    "## Example 2:\n",
    "**Input:** `\"aabbcc\"`  \n",
    "**Output:** `False`\n"
   ]
  },
  {
   "cell_type": "code",
   "execution_count": 72,
   "id": "253be31b-7673-4b81-95e9-cb1cd09c48fb",
   "metadata": {},
   "outputs": [
    {
     "name": "stdout",
     "output_type": "stream",
     "text": [
      "True\n"
     ]
    }
   ],
   "source": [
    "def has_unique_chars(s):\n",
    "    return len(set(s)) == len(s)  \n",
    "\n",
    "print(has_unique_chars(\"abcdef\")) \n"
   ]
  },
  {
   "cell_type": "code",
   "execution_count": 73,
   "id": "80463995-b332-445c-9ed8-201e2e2caf7f",
   "metadata": {},
   "outputs": [
    {
     "name": "stdout",
     "output_type": "stream",
     "text": [
      "False\n"
     ]
    }
   ],
   "source": [
    "def has_unique_chars(s):\n",
    "    return len(set(s)) == len(s)  \n",
    "\n",
    "print(has_unique_chars(\"aabbcc\")) \n"
   ]
  },
  {
   "cell_type": "markdown",
   "id": "739f0939-b81a-45d4-8cd2-d0659268711c",
   "metadata": {},
   "source": [
    "# 18. Find the Longest Palindromic Substring\n",
    "## Problem Statement:\n",
    "Write a function to find the longest palindromic substring.\n",
    "\n",
    "## Example 1:\n",
    "**Input:** `\"babad\"`  \n",
    "**Output:** `\"bab\"`\n",
    "\n",
    "## Example 2:\n",
    "**Input:** `\"cbbd\"`  \n",
    "**Output:** `\"bb\"`\n"
   ]
  },
  {
   "cell_type": "code",
   "execution_count": 74,
   "id": "dd923018-aa4a-4cb2-98e0-6628d8b3b400",
   "metadata": {},
   "outputs": [
    {
     "name": "stdout",
     "output_type": "stream",
     "text": [
      "bab\n"
     ]
    }
   ],
   "source": [
    "def longest_palindromic_substring(s):\n",
    "    if not s:\n",
    "        return \"\"\n",
    "\n",
    "    def expand_around_center(left, right):\n",
    "        while left >= 0 and right < len(s) and s[left] == s[right]:\n",
    "            left -= 1\n",
    "            right += 1\n",
    "        return s[left + 1:right]  \n",
    "\n",
    "    longest = \"\"\n",
    "    \n",
    "    for i in range(len(s)):\n",
    "        # Odd-length palindrome\n",
    "        odd_palindrome = expand_around_center(i, i)\n",
    "        # Even-length palindrome\n",
    "        even_palindrome = expand_around_center(i, i + 1)\n",
    "        \n",
    "        # Update longest palindrome\n",
    "        longest = max(longest, odd_palindrome, even_palindrome, key=len)\n",
    "\n",
    "    return longest\n",
    "\n",
    "\n",
    "print(longest_palindromic_substring(\"babad\"))  "
   ]
  },
  {
   "cell_type": "code",
   "execution_count": 75,
   "id": "02c1d0bc-c2b1-433e-a610-4d621d65e934",
   "metadata": {},
   "outputs": [
    {
     "name": "stdout",
     "output_type": "stream",
     "text": [
      "bb\n"
     ]
    }
   ],
   "source": [
    "def longest_palindromic_substring(s):\n",
    "    if not s:\n",
    "        return \"\"\n",
    "\n",
    "    def expand_around_center(left, right):\n",
    "        while left >= 0 and right < len(s) and s[left] == s[right]:\n",
    "            left -= 1\n",
    "            right += 1\n",
    "        return s[left + 1:right]  \n",
    "\n",
    "    longest = \"\"\n",
    "    \n",
    "    for i in range(len(s)):\n",
    "        # Odd-length palindrome\n",
    "        odd_palindrome = expand_around_center(i, i)\n",
    "        # Even-length palindrome\n",
    "        even_palindrome = expand_around_center(i, i + 1)\n",
    "        \n",
    "        # Update longest palindrome\n",
    "        longest = max(longest, odd_palindrome, even_palindrome, key=len)\n",
    "\n",
    "    return longest\n",
    "\n",
    "\n",
    "print(longest_palindromic_substring(\"bb\"))  "
   ]
  },
  {
   "cell_type": "markdown",
   "id": "9e48cf7b-b799-4574-984c-51fc15661b16",
   "metadata": {},
   "source": [
    "# 19. Remove Duplicate Characters from a String\n",
    "## Problem Statement:\n",
    "Write a function to remove duplicate characters from a string.\n",
    "\n",
    "## Example 1:\n",
    "**Input:** `\"hello\"`  \n",
    "**Output:** `\"helo\"`\n",
    "\n",
    "## Example 2:\n",
    "**Input:** `\"mississippi\"`  \n",
    "**Output:** `\"misp\"`\n"
   ]
  },
  {
   "cell_type": "code",
   "execution_count": 76,
   "id": "932536b6-b58c-47d8-897e-10aba10d5654",
   "metadata": {},
   "outputs": [
    {
     "name": "stdout",
     "output_type": "stream",
     "text": [
      "helo\n"
     ]
    }
   ],
   "source": [
    "def remove_duplicates(s):\n",
    "    seen = set()\n",
    "    result = \"\"\n",
    "\n",
    "    for char in s:\n",
    "        if char not in seen:\n",
    "            seen.add(char)\n",
    "            result += char  \n",
    "\n",
    "    return result\n",
    "\n",
    "print(remove_duplicates(\"hello\"))  \n"
   ]
  },
  {
   "cell_type": "code",
   "execution_count": 77,
   "id": "ec288297-0e2a-4465-898b-39c002bed301",
   "metadata": {},
   "outputs": [
    {
     "name": "stdout",
     "output_type": "stream",
     "text": [
      "misp\n"
     ]
    }
   ],
   "source": [
    "def remove_duplicates(s):\n",
    "    seen = set()\n",
    "    result = \"\"\n",
    "\n",
    "    for char in s:\n",
    "        if char not in seen:\n",
    "            seen.add(char)\n",
    "            result += char  \n",
    "\n",
    "    return result\n",
    "\n",
    "print(remove_duplicates(\"mississippi\"))  "
   ]
  },
  {
   "cell_type": "markdown",
   "id": "a9abec9d-c0c3-4425-a1c6-e42342e3757a",
   "metadata": {},
   "source": [
    "# 20. Sort a String Alphabetically\n",
    "## Problem Statement:\n",
    "Write a function to sort the characters of a string alphabetically.\n",
    "\n",
    "## Example 1:\n",
    "**Input:** `\"hello\"`  \n",
    "**Output:** `\"ehllo\"`\n",
    "\n",
    "## Example 2:\n",
    "**Input:** `\"python\"`  \n",
    "**Output:** `\"hnopty\"`\n"
   ]
  },
  {
   "cell_type": "code",
   "execution_count": 78,
   "id": "9b881c5a-7e0c-4785-a2d6-f700725fad3d",
   "metadata": {},
   "outputs": [
    {
     "name": "stdout",
     "output_type": "stream",
     "text": [
      "ehllo\n"
     ]
    }
   ],
   "source": [
    "def sort_chars(s):\n",
    "    return \"\".join(sorted(s))  \n",
    "\n",
    "\n",
    "print(sort_chars(\"hello\"))  \n"
   ]
  },
  {
   "cell_type": "code",
   "execution_count": 79,
   "id": "4f23c52f-0cb4-4dc7-a06d-be464656fda3",
   "metadata": {},
   "outputs": [
    {
     "name": "stdout",
     "output_type": "stream",
     "text": [
      "hnopty\n"
     ]
    }
   ],
   "source": [
    "def sort_chars(s):\n",
    "    return \"\".join(sorted(s))  \n",
    "\n",
    "\n",
    "print(sort_chars(\"pyhton\"))  \n"
   ]
  },
  {
   "cell_type": "markdown",
   "id": "f267b2f8-c7f6-4295-a7b0-c89af5cf5807",
   "metadata": {},
   "source": [
    "# 21. Find the Smallest Window in a String Containing All Characters of Another String\n",
    "## Problem Statement:\n",
    "Write a function to find the smallest window in a string that contains all characters of another string.\n",
    "\n",
    "## Example 1:\n",
    "**Input:** `\"ADOBECODEBANC\", \"ABC\"`  \n",
    "**Output:** `\"BANC\"`\n",
    "\n",
    "## Example 2:\n",
    "**Input:** `\"aabbcc\", \"abc\"`  \n",
    "**Output:** `\"abc\"`\n"
   ]
  },
  {
   "cell_type": "code",
   "execution_count": 80,
   "id": "8145837e-3cc3-43a5-9875-f955033aaf09",
   "metadata": {},
   "outputs": [
    {
     "name": "stdout",
     "output_type": "stream",
     "text": [
      "BANC\n"
     ]
    }
   ],
   "source": [
    "from collections import Counter\n",
    "\n",
    "def smallest_window(s, t):\n",
    "    if not t or not s:\n",
    "        return \"\"\n",
    "\n",
    "    char_count = Counter(t)  \n",
    "    required_chars = len(char_count) \n",
    "    left, right = 0, 0\n",
    "    formed = 0\n",
    "    window_counts = {}\n",
    "    min_len = float(\"inf\")\n",
    "    min_window = \"\"\n",
    "\n",
    "    while right < len(s):\n",
    "        char = s[right]\n",
    "        window_counts[char] = window_counts.get(char, 0) + 1\n",
    "\n",
    "        if char in char_count and window_counts[char] == char_count[char]:\n",
    "            formed += 1\n",
    "        while left <= right and formed == required_chars:\n",
    "            window_size = right - left + 1\n",
    "            if window_size < min_len:\n",
    "                min_len = window_size\n",
    "                min_window = s[left:right+1]\n",
    "            char = s[left]\n",
    "            window_counts[char] -= 1\n",
    "            if char in char_count and window_counts[char] < char_count[char]:\n",
    "                formed -= 1\n",
    "            left += 1\n",
    "\n",
    "        right += 1\n",
    "\n",
    "    return min_window\n",
    "\n",
    "\n",
    "s = \"ADOBECODEBANC\"\n",
    "t = \"ABC\"\n",
    "print(smallest_window(s, t))  "
   ]
  },
  {
   "cell_type": "code",
   "execution_count": 81,
   "id": "08fc97e2-2eee-4b3f-850c-59e547121d25",
   "metadata": {},
   "outputs": [
    {
     "name": "stdout",
     "output_type": "stream",
     "text": [
      "abbc\n"
     ]
    }
   ],
   "source": [
    "from collections import Counter\n",
    "\n",
    "def smallest_window(s, t):\n",
    "    if not t or not s:\n",
    "        return \"\"\n",
    "\n",
    "    char_count = Counter(t)  \n",
    "    required_chars = len(char_count) \n",
    "    left, right = 0, 0\n",
    "    formed = 0\n",
    "    window_counts = {}\n",
    "    min_len = float(\"inf\")\n",
    "    min_window = \"\"\n",
    "\n",
    "    while right < len(s):\n",
    "        char = s[right]\n",
    "        window_counts[char] = window_counts.get(char, 0) + 1\n",
    "\n",
    "        if char in char_count and window_counts[char] == char_count[char]:\n",
    "            formed += 1\n",
    "        while left <= right and formed == required_chars:\n",
    "            window_size = right - left + 1\n",
    "            if window_size < min_len:\n",
    "                min_len = window_size\n",
    "                min_window = s[left:right+1]\n",
    "            char = s[left]\n",
    "            window_counts[char] -= 1\n",
    "            if char in char_count and window_counts[char] < char_count[char]:\n",
    "                formed -= 1\n",
    "            left += 1\n",
    "\n",
    "        right += 1\n",
    "\n",
    "    return min_window\n",
    "\n",
    "\n",
    "s = \"aabbcc\"\n",
    "t = \"abc\"\n",
    "print(smallest_window(s, t))  "
   ]
  },
  {
   "cell_type": "markdown",
   "id": "823be7b2-27f6-40df-82b2-f1f2b69bc1cb",
   "metadata": {},
   "source": [
    "# 22. Implement Run-Length Encoding\n",
    "## Problem Statement:\n",
    "Write a function to perform run-length encoding on a string.\n",
    "\n",
    "## Example 1:\n",
    "**Input:** `\"aaabbc\"`  \n",
    "**Output:** `\"3a2b1c\"`\n",
    "\n",
    "## Example 2:\n",
    "**Input:** `\"wwwwaaadexxxxxx\"`  \n",
    "**Output:** `\"4w3a1d1e6x\"`\n"
   ]
  },
  {
   "cell_type": "code",
   "execution_count": 82,
   "id": "e127c6b1-57fd-40cb-aac5-9e07cef586d2",
   "metadata": {},
   "outputs": [
    {
     "name": "stdout",
     "output_type": "stream",
     "text": [
      "a3b2c1\n"
     ]
    }
   ],
   "source": [
    "def run_length_encoding(s):\n",
    "    if not s:\n",
    "        return \"\"\n",
    "    encoded_str = \"\"\n",
    "    count = 1\n",
    "\n",
    "    for i in range(1, len(s)):\n",
    "        if s[i] == s[i - 1]:  \n",
    "            count += 1\n",
    "        else:\n",
    "            encoded_str += s[i - 1] + str(count)  \n",
    "            count = 1  \n",
    "    encoded_str += s[-1] + str(count)\n",
    "    return encoded_str\n",
    "    \n",
    "print(run_length_encoding(\"aaabbc\"))  "
   ]
  },
  {
   "cell_type": "code",
   "execution_count": 83,
   "id": "3470d46e-444c-43be-b517-730824de2300",
   "metadata": {},
   "outputs": [
    {
     "name": "stdout",
     "output_type": "stream",
     "text": [
      "w3a3d1e1x6\n"
     ]
    }
   ],
   "source": [
    "def run_length_encoding(s):\n",
    "    if not s:\n",
    "        return \"\"\n",
    "    encoded_str = \"\"\n",
    "    count = 1\n",
    "\n",
    "    for i in range(1, len(s)):\n",
    "        if s[i] == s[i - 1]:  \n",
    "            count += 1\n",
    "        else:\n",
    "            encoded_str += s[i - 1] + str(count)  \n",
    "            count = 1  \n",
    "    encoded_str += s[-1] + str(count)\n",
    "    return encoded_str\n",
    "    \n",
    "print(run_length_encoding(\"wwwaaadexxxxxx\"))  "
   ]
  },
  {
   "cell_type": "markdown",
   "id": "fbe98b17-13c7-4f56-93db-d8056113af31",
   "metadata": {},
   "source": [
    "# 23. Find All Permutations of a String\n",
    "## Problem Statement:\n",
    "Write a function to generate all permutations of a given string.\n",
    "\n",
    "## Example 1:\n",
    "**Input:** `\"abc\"`  \n",
    "**Output:** `[\"abc\", \"acb\", \"bac\", \"bca\", \"cab\", \"cba\"]`\n",
    "\n",
    "## Example 2:\n",
    "**Input:** `\"ab\"`  \n",
    "**Output:** `[\"ab\", \"ba\"]`\n"
   ]
  },
  {
   "cell_type": "code",
   "execution_count": 84,
   "id": "101a8feb-61e0-4a97-a122-f5de229e6817",
   "metadata": {},
   "outputs": [
    {
     "name": "stdout",
     "output_type": "stream",
     "text": [
      "abc\n",
      "acb\n",
      "bac\n",
      "bca\n",
      "cab\n",
      "cba\n"
     ]
    }
   ],
   "source": [
    "def get_permutations(s, prefix=\"\"):\n",
    "    if len(s) == 0:\n",
    "        print(prefix)  \n",
    "        return\n",
    "    \n",
    "    for i in range(len(s)):\n",
    "        remaining = s[:i] + s[i+1:]  \n",
    "        get_permutations(remaining, prefix + s[i]) \n",
    "\n",
    "\n",
    "get_permutations(\"abc\")"
   ]
  },
  {
   "cell_type": "code",
   "execution_count": 85,
   "id": "ff510bea-3648-446b-93c8-aa5246b38c50",
   "metadata": {},
   "outputs": [
    {
     "name": "stdout",
     "output_type": "stream",
     "text": [
      "ab\n",
      "ba\n"
     ]
    }
   ],
   "source": [
    "def get_permutations(s, prefix=\"\"):\n",
    "    if len(s) == 0:\n",
    "        print(prefix)  \n",
    "        return\n",
    "    for i in range(len(s)):\n",
    "        remaining = s[:i] + s[i+1:]  \n",
    "        get_permutations(remaining, prefix + s[i]) \n",
    "\n",
    "\n",
    "get_permutations(\"ab\")"
   ]
  },
  {
   "cell_type": "markdown",
   "id": "1064221e-a51f-46b1-afea-c37505d3b68b",
   "metadata": {},
   "source": [
    "# 24. Count the Number of Distinct Subsequences of a String\n",
    "## Problem Statement:\n",
    "Write a function to count the number of distinct subsequences of a string.\n",
    "\n",
    "## Example 1:\n",
    "**Input:** `\"abc\"`  \n",
    "**Output:** `7`\n",
    "\n",
    "## Example 2:\n",
    "**Input:** `\"aaa\"`  \n",
    "**Output:** `3`\n"
   ]
  },
  {
   "cell_type": "code",
   "execution_count": 86,
   "id": "fb9c8ffe-7045-446c-9033-c88601f25969",
   "metadata": {},
   "outputs": [
    {
     "name": "stdout",
     "output_type": "stream",
     "text": [
      "7\n"
     ]
    }
   ],
   "source": [
    "from collections import defaultdict\n",
    "\n",
    "def count_distinct_subsequences(s):\n",
    "    n = len(s)\n",
    "    dp = [1] * (n + 1)  \n",
    "    last_seen = defaultdict(lambda: -1)  \n",
    "\n",
    "    for i in range(1, n + 1):\n",
    "        dp[i] = 2 * dp[i - 1]  \n",
    "        if last_seen[s[i - 1]] != -1:\n",
    "            dp[i] -= dp[last_seen[s[i - 1]]]\n",
    "        \n",
    "        last_seen[s[i - 1]] = i - 1 \n",
    "\n",
    "    return dp[n] - 1 \n",
    "\n",
    "print(count_distinct_subsequences(\"abc\"))  \n"
   ]
  },
  {
   "cell_type": "code",
   "execution_count": 88,
   "id": "9740cb31-5aa2-431e-9c3d-9822cf1521ac",
   "metadata": {},
   "outputs": [
    {
     "name": "stdout",
     "output_type": "stream",
     "text": [
      "3\n"
     ]
    }
   ],
   "source": [
    "from collections import defaultdict\n",
    "\n",
    "def count_distinct_subsequences(s):\n",
    "    n = len(s)\n",
    "    dp = [1] * (n + 1)  \n",
    "    last_seen = defaultdict(lambda: -1)  \n",
    "\n",
    "    for i in range(1, n + 1):\n",
    "        dp[i] = 2 * dp[i - 1]  \n",
    "        if last_seen[s[i - 1]] != -1:\n",
    "            dp[i] -= dp[last_seen[s[i - 1]]]\n",
    "        \n",
    "        last_seen[s[i - 1]] = i - 1 \n",
    "\n",
    "    return dp[n] - 1 \n",
    "\n",
    "print(count_distinct_subsequences(\"aaa\")) "
   ]
  },
  {
   "cell_type": "markdown",
   "id": "2fd59b75-b80f-466c-9517-34c927e66134",
   "metadata": {},
   "source": [
    "# 25. Find the Shortest Superstring That Contains All Given Strings as Subsequences\n",
    "## Problem Statement:\n",
    "Write a function to find the shortest superstring that contains all given strings as subsequences.\n",
    "\n",
    "## Example 1:\n",
    "**Input:** `[\"catg\", \"ctaagt\", \"gcta\", \"ttca\", \"atgcatc\"]`  \n",
    "**Output:** `\"gctaagttcatgcatc\"`\n",
    "\n",
    "## Example 2:\n",
    "**Input:** `[\"abc\", \"bca\", \"cab\"]`  \n",
    "**Output:** `\"abcab\"`\n"
   ]
  },
  {
   "cell_type": "code",
   "execution_count": 90,
   "id": "c4340296-fcc3-45e5-a27c-8706d0c53502",
   "metadata": {},
   "outputs": [
    {
     "name": "stdout",
     "output_type": "stream",
     "text": [
      "catg\n"
     ]
    }
   ],
   "source": [
    "from itertools import permutations\n",
    "\n",
    "def is_subsequence(sub, full):\n",
    "    it = iter(full)\n",
    "    return all(char in it for char in sub)\n",
    "\n",
    "def shortest_superstring_subsequence(strings):\n",
    "    shortest_superstring = None\n",
    "\n",
    "    for perm in permutations(strings):\n",
    "        candidate = perm[0]  \n",
    "        for s in perm[1:]:\n",
    "            for i in range(len(candidate)):\n",
    "                if is_subsequence(s, candidate[i:]):  \n",
    "                    candidate += s[i:]\n",
    "                    break\n",
    "        if shortest_superstring is None or len(candidate) < len(shortest_superstring):\n",
    "            shortest_superstring = candidate\n",
    "    return shortest_superstring\n",
    "\n",
    "\n",
    "strings = [\"catg\", \"ctaagt\", \"gcta\", \"ttca\", \"atgcatc\"]\n",
    "print(shortest_superstring_subsequence(strings)) "
   ]
  },
  {
   "cell_type": "code",
   "execution_count": 91,
   "id": "74cff6c2-11a5-42c4-9a16-f649cd8c7e10",
   "metadata": {},
   "outputs": [
    {
     "name": "stdout",
     "output_type": "stream",
     "text": [
      "abc\n"
     ]
    }
   ],
   "source": [
    "from itertools import permutations\n",
    "\n",
    "def is_subsequence(sub, full):\n",
    "    it = iter(full)\n",
    "    return all(char in it for char in sub)\n",
    "\n",
    "def shortest_superstring_subsequence(strings):\n",
    "    shortest_superstring = None\n",
    "\n",
    "    for perm in permutations(strings):\n",
    "        candidate = perm[0]  \n",
    "        for s in perm[1:]:\n",
    "            for i in range(len(candidate)):\n",
    "                if is_subsequence(s, candidate[i:]):  \n",
    "                    candidate += s[i:]\n",
    "                    break\n",
    "        if shortest_superstring is None or len(candidate) < len(shortest_superstring):\n",
    "            shortest_superstring = candidate\n",
    "    return shortest_superstring\n",
    "\n",
    "\n",
    "strings = [\"abc\", \"bca\", \"cab\"]\n",
    "print(shortest_superstring_subsequence(strings)) "
   ]
  },
  {
   "cell_type": "code",
   "execution_count": null,
   "id": "f8a4aaab-76e3-412c-8d94-bee0a11b80a1",
   "metadata": {},
   "outputs": [],
   "source": []
  },
  {
   "cell_type": "code",
   "execution_count": null,
   "id": "d3de6ed7-9401-48e7-9f96-a18572511df5",
   "metadata": {},
   "outputs": [],
   "source": []
  }
 ],
 "metadata": {
  "kernelspec": {
   "display_name": "Python 3 (ipykernel)",
   "language": "python",
   "name": "python3"
  },
  "language_info": {
   "codemirror_mode": {
    "name": "ipython",
    "version": 3
   },
   "file_extension": ".py",
   "mimetype": "text/x-python",
   "name": "python",
   "nbconvert_exporter": "python",
   "pygments_lexer": "ipython3",
   "version": "3.12.7"
  }
 },
 "nbformat": 4,
 "nbformat_minor": 5
}
