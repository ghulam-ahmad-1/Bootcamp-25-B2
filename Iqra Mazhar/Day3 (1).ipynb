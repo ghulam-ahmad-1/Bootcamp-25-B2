{
 "cells": [
  {
   "cell_type": "code",
   "execution_count": 1,
   "id": "4d7c79c8-ef36-459b-811d-46b356850be8",
   "metadata": {},
   "outputs": [
    {
     "data": {
      "text/plain": [
       "'a3b2c4a3'"
      ]
     },
     "execution_count": 1,
     "metadata": {},
     "output_type": "execute_result"
    }
   ],
   "source": [
    "def compress_string(s):\n",
    "    if not s:\n",
    "        return \"\"\n",
    "\n",
    "    compressed = []\n",
    "    count = 1\n",
    "    for i in range(1, len(s)):\n",
    "        if s[i] == s[i - 1]:\n",
    "            count += 1\n",
    "        else:\n",
    "            compressed.append(s[i - 1] + str(count))\n",
    "            count = 1\n",
    "    compressed.append(s[-1] + str(count))\n",
    "    compressed_str = \"\".join(compressed)\n",
    "    \n",
    "    return compressed_str if len(compressed_str) < len(s) else s\n",
    "compress_string(\"aaabbccccaaa\")"
   ]
  },
  {
   "cell_type": "code",
   "execution_count": 3,
   "id": "674d31e7-230b-452d-9d5b-bf8a1ffde4e9",
   "metadata": {},
   "outputs": [
    {
     "data": {
      "text/plain": [
       "'abcc'"
      ]
     },
     "execution_count": 3,
     "metadata": {},
     "output_type": "execute_result"
    }
   ],
   "source": [
    "def compress_string(s):\n",
    "    if not s:\n",
    "        return \"\"\n",
    "\n",
    "    compressed = []\n",
    "    count = 1\n",
    "    for i in range(1, len(s)):\n",
    "        if s[i] == s[i - 1]:\n",
    "            count += 1\n",
    "        else:\n",
    "            compressed.append(s[i - 1] + str(count))\n",
    "            count = 1\n",
    "    compressed.append(s[-1] + str(count))\n",
    "    compressed_str = \"\".join(compressed)\n",
    "    \n",
    "    return compressed_str if len(compressed_str) < len(s) else s\n",
    "compress_string(\"abcc\")"
   ]
  },
  {
   "cell_type": "code",
   "execution_count": 26,
   "id": "10a5f7ba-b697-43ba-977e-f1a012fd192c",
   "metadata": {},
   "outputs": [
    {
     "data": {
      "text/plain": [
       "['nata', 'pizza', 'eat', 'tea', 'sort']"
      ]
     },
     "execution_count": 26,
     "metadata": {},
     "output_type": "execute_result"
    }
   ],
   "source": [
    "def flattened_list(lst):\n",
    "    flatten =[]\n",
    "    for i in lst:\n",
    "        if isinstance(i, list):\n",
    "          flatten.extend(flattened_list(i))\n",
    "        else:\n",
    "          flatten.append(i)\n",
    "    return flatten\n",
    "flattened_list(['nata', 'pizza', ['eat', 'tea'], ['sort']])"
   ]
  },
  {
   "cell_type": "code",
   "execution_count": 43,
   "id": "6c825e52-4260-4adc-9838-bb13dc710f30",
   "metadata": {},
   "outputs": [
    {
     "data": {
      "text/plain": [
       "[['bat', 'tab'], ['eat', 'tea'], ['tan', 'nat']]"
      ]
     },
     "execution_count": 43,
     "metadata": {},
     "output_type": "execute_result"
    }
   ],
   "source": [
    "from collections import defaultdict\n",
    "def anagrams(text):\n",
    " a = defaultdict(list)\n",
    " for word in text:\n",
    "  s = ''.join(sorted(word))  # Sort each word to identify anagrams\n",
    "  a[s].append(word)\n",
    "\n",
    "# Convert defaultdict to a regular list of groups\n",
    " res = list(a.values())\n",
    " return res\n",
    "\n",
    "anagrams([\"bat\", \"tab\", \"eat\", \"tea\", \"tan\", \"nat\"])"
   ]
  },
  {
   "cell_type": "code",
   "execution_count": 52,
   "id": "021cdfe1-a479-4d47-bdda-00d71516f1f1",
   "metadata": {},
   "outputs": [
    {
     "name": "stdout",
     "output_type": "stream",
     "text": [
      "[('the', 3), ('dog', 2), ('quick', 1)]\n"
     ]
    }
   ],
   "source": [
    "import re\n",
    "from collections import Counter\n",
    "\n",
    "def top_3_words(text):\n",
    "    # Remove punctuation and convert to lowercase\n",
    "    words = re.findall(r'\\b\\w+\\b', text.lower())\n",
    "    \n",
    "    # Count word occurrences\n",
    "    word_counts = Counter(words)\n",
    "    \n",
    "    # Get the top 3 most common words\n",
    "    return word_counts.most_common(3)\n",
    "\n",
    "# Example usage:\n",
    "input_text = \"The quick brown fox jumps over the lazy dog. The dog barked.\"\n",
    "print(top_3_words(input_text))"
   ]
  }
 ],
 "metadata": {
  "kernelspec": {
   "display_name": "Python 3 (ipykernel)",
   "language": "python",
   "name": "python3"
  },
  "language_info": {
   "codemirror_mode": {
    "name": "ipython",
    "version": 3
   },
   "file_extension": ".py",
   "mimetype": "text/x-python",
   "name": "python",
   "nbconvert_exporter": "python",
   "pygments_lexer": "ipython3",
   "version": "3.12.7"
  }
 },
 "nbformat": 4,
 "nbformat_minor": 5
}
