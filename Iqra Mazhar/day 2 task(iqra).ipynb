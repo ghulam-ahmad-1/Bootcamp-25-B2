{
 "cells": [
  {
   "cell_type": "code",
   "execution_count": 1,
   "id": "c4a1654b-b32e-4bf3-aa26-4467c0d0cf5d",
   "metadata": {},
   "outputs": [
    {
     "name": "stdout",
     "output_type": "stream",
     "text": [
      "bat tab \n",
      "tap pat \n",
      "cat \n"
     ]
    }
   ],
   "source": [
    "MAX_CHAR = 26\n",
    "\n",
    "# function to generate hash of word s\n",
    "def getHash(s):\n",
    "    hashList = []\n",
    "    freq = [0] * MAX_CHAR\n",
    "    \n",
    "    # Count frequency of each character\n",
    "    for ch in s:\n",
    "        freq[ord(ch) - ord('a')] += 1\n",
    "    \n",
    "    # Append the frequency to construct the hash\n",
    "    for i in range(MAX_CHAR):\n",
    "        hashList.append(str(freq[i]))\n",
    "        hashList.append(\"$\")\n",
    "    \n",
    "    return ''.join(hashList)\n",
    "\n",
    "def anagrams(arr):\n",
    "    res = []\n",
    "    mp = {}\n",
    "    \n",
    "    for i in range(len(arr)):\n",
    "        key = getHash(arr[i])\n",
    "        \n",
    "        # If key is not present in the hash map, add\n",
    "        # an empty group (list) in the result and\n",
    "        # store the index of the group in hash map\n",
    "        if key not in mp:\n",
    "            mp[key] = len(res)\n",
    "            res.append([])\n",
    "        \n",
    "        # Insert the string in its correct group\n",
    "        res[mp[key]].append(arr[i])\n",
    "    \n",
    "    return res\n",
    "\n",
    "if __name__ == \"__main__\":\n",
    "    arr = [\"bat\", \"tab\", \"tap\", \"pat\", \"cat\"]\n",
    "    \n",
    "    res = anagrams(arr)\n",
    "    for group in res:\n",
    "        for word in group:\n",
    "            print(word, end=\" \")\n",
    "        print()"
   ]
  },
  {
   "cell_type": "code",
   "execution_count": 2,
   "id": "50ee4c86-71ef-4a47-84fc-083a3776d5ce",
   "metadata": {},
   "outputs": [
    {
     "name": "stdout",
     "output_type": "stream",
     "text": [
      "the transposed matrix is  [(1, 4), (2, 5), (3, 6)]\n"
     ]
    }
   ],
   "source": [
    "matrix = [[1, 2, 3], [4, 5, 6]]\n",
    "a = list(zip(*matrix))\n",
    "print(\"the transposed matrix is \" , a)"
   ]
  },
  {
   "cell_type": "code",
   "execution_count": null,
   "id": "7ddeccd6-948d-4620-a534-3ff630000e57",
   "metadata": {},
   "outputs": [],
   "source": []
  },
  {
   "cell_type": "code",
   "execution_count": 9,
   "id": "715d5e8b-ab21-4372-b595-c8930711fec1",
   "metadata": {},
   "outputs": [
    {
     "name": "stdout",
     "output_type": "stream",
     "text": [
      "Prime numbers up to 4 are: [2, 3]\n"
     ]
    }
   ],
   "source": [
    "def find_primes_up_to(n):\n",
    "    \"\"\"\n",
    "    Finds all prime numbers up to a given limit.\n",
    "\n",
    "    Args:\n",
    "        limit: The upper limit (exclusive) for finding primes.\n",
    "\n",
    "    Returns:\n",
    "        A list of prime numbers.\n",
    "    \"\"\"\n",
    "    if n < 2:\n",
    "        return []\n",
    "\n",
    "    primes = []\n",
    "    for num in range(2, n):\n",
    "        is_prime = True\n",
    "        for i in range(2, int(num**0.5) + 1):\n",
    "            if num % i == 0:\n",
    "                is_prime = False\n",
    "                break\n",
    "        if is_prime:\n",
    "            primes.append(num)\n",
    "    return primes\n",
    "\n",
    "# Example usage:\n",
    "number = 4\n",
    "prime_numbers = find_primes_up_to(number)\n",
    "print(f\"Prime numbers up to {number} are: {prime_numbers}\")"
   ]
  },
  {
   "cell_type": "code",
   "execution_count": null,
   "id": "dde65835-1231-4481-9a0b-70c03ad29bfe",
   "metadata": {},
   "outputs": [],
   "source": []
  },
  {
   "cell_type": "code",
   "execution_count": null,
   "id": "f44edc89-a9fa-4f1d-aea4-f5e462624077",
   "metadata": {},
   "outputs": [],
   "source": []
  }
 ],
 "metadata": {
  "kernelspec": {
   "display_name": "Python 3 (ipykernel)",
   "language": "python",
   "name": "python3"
  },
  "language_info": {
   "codemirror_mode": {
    "name": "ipython",
    "version": 3
   },
   "file_extension": ".py",
   "mimetype": "text/x-python",
   "name": "python",
   "nbconvert_exporter": "python",
   "pygments_lexer": "ipython3",
   "version": "3.12.7"
  }
 },
 "nbformat": 4,
 "nbformat_minor": 5
}
