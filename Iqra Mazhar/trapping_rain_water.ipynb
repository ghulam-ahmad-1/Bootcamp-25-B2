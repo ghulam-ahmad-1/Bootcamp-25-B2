{
 "cells": [
  {
   "cell_type": "markdown",
   "id": "79f218a2-f19a-455b-bad9-e88c8dbfb718",
   "metadata": {},
   "source": [
    "# def trap(height):\n",
    "    if not height:\n",
    "        return 0\n",
    "    \n",
    "    n = len(height)\n",
    "    left_max = [0] * n\n",
    "    right_max = [0] * n\n",
    "    \n",
    "    # Compute left_max array\n",
    "    left_max[0] = height[0]\n",
    "    for i in range(1, n):\n",
    "        left_max[i] = max(left_max[i-1], height[i])\n",
    "    \n",
    "    # Compute right_max array\n",
    "    right_max[-1] = height[-1]\n",
    "    for i in range(n-2, -1, -1):\n",
    "        right_max[i] = max(right_max[i+1], height[i])\n",
    "    \n",
    "    # Calculate trapped water\n",
    "    trapped_water = 0\n",
    "    for i in range(n):\n",
    "        water_at_i = min(left_max[i], right_max[i]) - height[i]\n",
    "        trapped_water += water_at_i if water_at_i > 0 else 0\n",
    "    \n",
    "    return trapped_water\n",
    "\n",
    "\n",
    "elevation_map = [0, 1, 0, 2, 1, 0, 1, 3, 2, 1, 2, 1]\n",
    "print(\"Elevation Map:\", elevation_map)\n",
    "print(\"Total Trapped Water:\", trap(elevation_map))"
   ]
  },
  {
   "cell_type": "code",
   "execution_count": null,
   "id": "7367defc-08d4-44d0-a24c-0462365f2df9",
   "metadata": {},
   "outputs": [],
   "source": []
  },
  {
   "cell_type": "code",
   "execution_count": null,
   "id": "94bb3b2d-9b30-4da9-bd34-99c0c8c126fd",
   "metadata": {},
   "outputs": [],
   "source": []
  }
 ],
 "metadata": {
  "kernelspec": {
   "display_name": "Python 3 (ipykernel)",
   "language": "python",
   "name": "python3"
  },
  "language_info": {
   "codemirror_mode": {
    "name": "ipython",
    "version": 3
   },
   "file_extension": ".py",
   "mimetype": "text/x-python",
   "name": "python",
   "nbconvert_exporter": "python",
   "pygments_lexer": "ipython3",
   "version": "3.12.7"
  }
 },
 "nbformat": 4,
 "nbformat_minor": 5
}
